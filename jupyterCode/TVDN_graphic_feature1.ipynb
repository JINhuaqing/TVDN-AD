{
 "cells": [
  {
   "cell_type": "markdown",
   "metadata": {},
   "source": [
    "In this file, I construct the FC as \n",
    "\n",
    "1. Get Amat for each segment as U\\diag(lambda)U^trans, here lambda is low rank\n",
    "\n",
    "2. I then do construction of Graph  as \n",
    " \n",
    "    - transform to correlation \n",
    "\n",
    "    - fisher's transform (optinal). I tried both\n",
    "\n",
    "    - take absolute value or remove the negative value. I tried both\n",
    "\n",
    "(remove the diaginal term)\n",
    "\n",
    "Finally, I choose FC as \n",
    "- transform to correlation \n",
    "\n",
    "- fisher's transform\n",
    "\n",
    "- take absolute value "
   ]
  },
  {
   "cell_type": "code",
   "execution_count": 1,
   "metadata": {
    "ExecuteTime": {
     "end_time": "2022-10-09T21:41:33.807111Z",
     "start_time": "2022-10-09T21:41:33.801935Z"
    }
   },
   "outputs": [],
   "source": [
    "import sys\n",
    "sys.path.append(\"/home/huaqingj/MyResearch/TVDN-AD\")"
   ]
  },
  {
   "cell_type": "code",
   "execution_count": 2,
   "metadata": {
    "ExecuteTime": {
     "end_time": "2022-10-09T21:41:35.093942Z",
     "start_time": "2022-10-09T21:41:35.010633Z"
    }
   },
   "outputs": [],
   "source": [
    "import bct"
   ]
  },
  {
   "cell_type": "code",
   "execution_count": 3,
   "metadata": {
    "ExecuteTime": {
     "end_time": "2022-10-09T21:41:36.385046Z",
     "start_time": "2022-10-09T21:41:35.482305Z"
    }
   },
   "outputs": [],
   "source": [
    "from pyTVDN import TVDNDetect\n",
    "from pathlib import Path\n",
    "from scipy.io import loadmat\n",
    "import numpy as np\n",
    "from easydict import EasyDict as edict\n",
    "import matplotlib.pyplot as plt\n",
    "import os\n",
    "import scipy.stats as ss\n",
    "from scipy import signal\n",
    "from tqdm import tqdm, trange\n",
    "import pickle\n",
    "import seaborn as sns\n",
    "import numbers\n",
    "import scipy\n",
    "import pandas as pd\n",
    "%matplotlib inline"
   ]
  },
  {
   "cell_type": "code",
   "execution_count": 4,
   "metadata": {
    "ExecuteTime": {
     "end_time": "2022-10-09T21:41:36.388242Z",
     "start_time": "2022-10-09T21:41:36.386253Z"
    }
   },
   "outputs": [],
   "source": [
    "os.chdir(\"/home/huaqingj/MyResearch/TVDN-AD/\")\n",
    "resDir = Path(\"./results\")\n",
    "dataDir = Path(\"./data\")"
   ]
  },
  {
   "cell_type": "markdown",
   "metadata": {},
   "source": [
    "## Some fns"
   ]
  },
  {
   "cell_type": "code",
   "execution_count": 5,
   "metadata": {
    "ExecuteTime": {
     "end_time": "2022-10-09T21:41:36.769748Z",
     "start_time": "2022-10-09T21:41:36.763629Z"
    }
   },
   "outputs": [],
   "source": [
    "def minmax(x):\n",
    "    num = x - np.min(x)\n",
    "    den = np.max(x) - np.min(x)\n",
    "    return num/den\n",
    "\n",
    "def minmax_sysmat(mat):\n",
    "    \"\"\"remove diag values and return minmax\"\"\"\n",
    "    trlMask1 = np.tril(np.ones_like(mat), k=-1)\n",
    "    trlv = mat[trlMask1==1]\n",
    "    minv, maxv = np.min(trlv), np.max(trlv)\n",
    "    mat = (mat-minv)/(maxv-minv)\n",
    "    mat = mat - np.diag(np.diag(mat))\n",
    "    return mat\n"
   ]
  },
  {
   "cell_type": "code",
   "execution_count": 6,
   "metadata": {
    "ExecuteTime": {
     "end_time": "2022-10-09T21:41:37.449583Z",
     "start_time": "2022-10-09T21:41:37.445236Z"
    }
   },
   "outputs": [],
   "source": [
    "def obt_absFC(Ufull, eigVal, is_fisher=True):\n",
    "    \"\"\"get abs FC \n",
    "        (1) transform to correlation\n",
    "        \n",
    "        (2) z transform\n",
    "        \n",
    "        (3) take absolute value\n",
    "        \n",
    "        (remove the diaginal term)\n",
    "    \"\"\"\n",
    "    n_dim = Ufull.shape[0]\n",
    "    eigValExt = np.concatenate([eigVal, [0]*(n_dim-len(eigVal))])\n",
    "    rec_A = Ufull @ np.diag(eigValExt) @ np.linalg.inv(Ufull)\n",
    "    rec_A = rec_A.real\n",
    "    FC = np.corrcoef(rec_A) # Pearson's r\n",
    "    FC = FC - np.diag(np.diag(FC)) # remove diagonal\n",
    "    if is_fisher:\n",
    "        FC = np.arctanh(FC) # Fisher's transform\n",
    "    abs_FC = np.abs(FC)\n",
    "    return abs_FC"
   ]
  },
  {
   "cell_type": "code",
   "execution_count": 7,
   "metadata": {
    "ExecuteTime": {
     "end_time": "2022-10-09T21:41:38.669520Z",
     "start_time": "2022-10-09T21:41:38.663063Z"
    }
   },
   "outputs": [],
   "source": [
    "def obt_FC(Ufull, eigVal):\n",
    "    \"\"\"get FC \n",
    "        (1) transform to correlation\n",
    "        \n",
    "        (3) remove negative value \n",
    "        \n",
    "        (remove the diaginal term)\n",
    "    \"\"\"\n",
    "    n_dim = Ufull.shape[0]\n",
    "    eigValExt = np.concatenate([eigVal, [0]*(n_dim-len(eigVal))])\n",
    "    rec_A = Ufull @ np.diag(eigValExt) @ np.linalg.inv(Ufull)\n",
    "    rec_A = rec_A.real\n",
    "    FC = np.corrcoef(rec_A) # Pearson's r\n",
    "    FC = FC - np.diag(np.diag(FC)) # remove diagonal\n",
    "    FC[FC <= 0] = 0\n",
    "    return FC"
   ]
  },
  {
   "cell_type": "code",
   "execution_count": 8,
   "metadata": {
    "ExecuteTime": {
     "end_time": "2022-10-09T21:41:39.465083Z",
     "start_time": "2022-10-09T21:41:39.459265Z"
    }
   },
   "outputs": [],
   "source": [
    "def sysMatShuffle(mat):\n",
    "    mat = mat.copy()\n",
    "    trlMask1 = np.tril(np.ones_like(mat), k=-1)\n",
    "    eles = mat[trlMask1==1]\n",
    "    np.random.shuffle(eles)\n",
    "    sMat = np.zeros_like(mat)\n",
    "    sMat[trlMask1==1] = eles\n",
    "    diag_vs = np.diag(mat)\n",
    "    np.random.shuffle(diag_vs)\n",
    "    sMat = sMat + sMat.T + np.diag(diag_vs)\n",
    "    return sMat"
   ]
  },
  {
   "cell_type": "code",
   "execution_count": 9,
   "metadata": {
    "ExecuteTime": {
     "end_time": "2022-10-09T21:41:40.245593Z",
     "start_time": "2022-10-09T21:41:40.237391Z"
    }
   },
   "outputs": [],
   "source": [
    "def NetMeasureFn(mat, nrep=50, show_prog=False):\n",
    "    Cs = bct.clustering_coef_wu(mat)\n",
    "    mC = np.mean(Cs)\n",
    "    Ls = bct.distance_wei(mat)[0]\n",
    "    mL = 1/np.mean(1/Ls[np.eye(Ls.shape[0])!=1])\n",
    "    _, Q = bct.modularity_und(mat)\n",
    "    \n",
    "    ranLs = []\n",
    "    ranQs = []\n",
    "    ranCs = []\n",
    "    if show_prog:\n",
    "        pbar = trange(nrep)\n",
    "    else:\n",
    "        pbar = range(nrep)\n",
    "    for i in pbar:\n",
    "        sMat = sysMatShuffle(mat)\n",
    "        Cs = bct.clustering_coef_wu(sMat)\n",
    "        mCi = np.mean(Cs)\n",
    "        ranCs.append(mCi)\n",
    "        Ls = bct.distance_wei(sMat)[0]\n",
    "        mLi = 1/np.mean(1/Ls[np.eye(Ls.shape[0])!=1])\n",
    "        ranLs.append(mLi)\n",
    "        _, Qi = bct.modularity_und(sMat)\n",
    "        ranQs.append(Qi)\n",
    "    \n",
    "    tQ = Q/np.mean(ranQs)\n",
    "    tmL  = mL/np.mean(ranLs)\n",
    "    tmC  = mC/np.mean(ranCs)\n",
    "    return {\n",
    "        \"tmC\": tmC, \n",
    "        \"tmL\": tmL, \n",
    "        \"tQ\": tQ, \n",
    "        \"mC\": mC, \n",
    "        \"mL\": mL, \n",
    "        \"Q\": Q, }"
   ]
  },
  {
   "cell_type": "code",
   "execution_count": 10,
   "metadata": {
    "ExecuteTime": {
     "end_time": "2022-10-09T21:41:41.169720Z",
     "start_time": "2022-10-09T21:41:41.163309Z"
    }
   },
   "outputs": [],
   "source": [
    "# calculat the topk mean of graphic feature based on dwell time\n",
    "def topk_mean(topk, graphic_f, dwell, key, onlyk=False):\n",
    "    if onlyk:\n",
    "        assert len(dwell)>= topk\n",
    "        idxs = np.array([np.argsort(-dwell)[topk-1]])\n",
    "    else:\n",
    "        idxs = np.argsort(-dwell)[:topk]\n",
    "    sel_graphic_f = np.array([graphic_f[idx][key] for idx in idxs])\n",
    "    sel_dwell = dwell[idxs]\n",
    "    mean_v = np.mean(sel_graphic_f)\n",
    "    ws = sel_dwell/np.sum(sel_dwell)\n",
    "    wmean_v = np.sum(ws*sel_graphic_f)\n",
    "    return mean_v, wmean_v"
   ]
  },
  {
   "cell_type": "code",
   "execution_count": 11,
   "metadata": {
    "ExecuteTime": {
     "end_time": "2022-10-09T21:41:42.241130Z",
     "start_time": "2022-10-09T21:41:42.235446Z"
    }
   },
   "outputs": [],
   "source": [
    "# calculat the topk mean of graphic feature based on dwell time after removing top1 dwell \n",
    "def exclude_top1_mean(topk, graphic_f, dwell, key):\n",
    "    assert len(dwell) >= 2\n",
    "    idxs = np.argsort(-dwell)[1:topk]\n",
    "    sel_graphic_f = np.array([graphic_f[idx][key] for idx in idxs])\n",
    "    sel_dwell = dwell[idxs]\n",
    "    mean_v = np.mean(sel_graphic_f)\n",
    "    ws = sel_dwell/np.sum(sel_dwell)\n",
    "    wmean_v = np.sum(ws*sel_graphic_f)\n",
    "    return mean_v, wmean_v"
   ]
  },
  {
   "cell_type": "code",
   "execution_count": null,
   "metadata": {},
   "outputs": [],
   "source": []
  },
  {
   "cell_type": "markdown",
   "metadata": {},
   "source": [
    "## Load data"
   ]
  },
  {
   "cell_type": "markdown",
   "metadata": {
    "heading_collapsed": true
   },
   "source": [
    "### Save full U (68 x 68)\n",
    " (only need run once)\n",
    "\n",
    "i.e., full eig-vectors"
   ]
  },
  {
   "cell_type": "code",
   "execution_count": 30,
   "metadata": {
    "hidden": true
   },
   "outputs": [],
   "source": [
    "# AD\n",
    "U_AD_full = []\n",
    "ps = list(resDir.glob(\"AD_*04_decimate5.pkl\"))\n",
    "sorted_ps = sorted(ps, key=lambda p:int(p.stem.split(\"_\")[3]))\n",
    "for cur_ps in sorted_ps:\n",
    "    with open(cur_ps, \"rb\") as f:\n",
    "        cur_det = pickle.load(f)\n",
    "    U_AD_full.append(cur_det.midRes.eigVecs)\n",
    "fil_name = f\"AD_data_lamb{cur_det.paras.lamb:.1E}_Ufull.pkl\"\n",
    "with open(resDir/fil_name, \"wb\") as f:\n",
    "    pickle.dump(U_AD_full, f)"
   ]
  },
  {
   "cell_type": "code",
   "execution_count": 31,
   "metadata": {
    "hidden": true
   },
   "outputs": [
    {
     "name": "stderr",
     "output_type": "stream",
     "text": [
      "100%|██████████| 92/92 [02:12<00:00,  1.44s/it]\n"
     ]
    }
   ],
   "source": [
    "# ctrl \n",
    "U_ctrl_full = []\n",
    "ps = list(resDir.glob(\"Ctrl_*04_decimate5.pkl\"))\n",
    "sorted_ps = sorted(ps, key=lambda p:int(p.stem.split(\"_\")[3]))\n",
    "for cur_ps in tqdm(sorted_ps):\n",
    "    with open(cur_ps, \"rb\") as f:\n",
    "        cur_det = pickle.load(f)\n",
    "    U_ctrl_full.append(cur_det.midRes.eigVecs)\n",
    "fil_name = f\"Ctrl_data_lamb{cur_det.paras.lamb:.1E}_Ufull.pkl\"\n",
    "with open(resDir/fil_name, \"wb\") as f:\n",
    "    pickle.dump(U_ctrl_full, f)"
   ]
  },
  {
   "cell_type": "markdown",
   "metadata": {},
   "source": [
    "### load all needed results"
   ]
  },
  {
   "cell_type": "code",
   "execution_count": 12,
   "metadata": {
    "ExecuteTime": {
     "end_time": "2022-10-09T21:41:48.930275Z",
     "start_time": "2022-10-09T21:41:48.925324Z"
    }
   },
   "outputs": [],
   "source": [
    "with open(\"./OtherFils/KpIdxsAll.pkl\", \"rb\") as sf:\n",
    "    kpAD, kpCtrl, kpAll = pickle.load(sf)"
   ]
  },
  {
   "cell_type": "code",
   "execution_count": 13,
   "metadata": {
    "ExecuteTime": {
     "end_time": "2022-10-09T21:41:49.364002Z",
     "start_time": "2022-10-09T21:41:49.356816Z"
    }
   },
   "outputs": [],
   "source": [
    "# ecpts\n",
    "fil = list(resDir.glob(\"AD_*_ecpts.pkl\"))[0]\n",
    "with open(fil, \"rb\") as f:\n",
    "    ecptssAD = pickle.load(f)\n",
    "fil = list(resDir.glob(\"Ctrl_*_ecpts.pkl\"))[0]\n",
    "with open(fil, \"rb\") as f:\n",
    "    ecptssCtrl = pickle.load(f)"
   ]
  },
  {
   "cell_type": "code",
   "execution_count": 14,
   "metadata": {
    "ExecuteTime": {
     "end_time": "2022-10-09T21:41:49.764840Z",
     "start_time": "2022-10-09T21:41:49.757736Z"
    }
   },
   "outputs": [],
   "source": [
    "# Eigvals\n",
    "fil = list(resDir.glob(\"AD_*_eigVals.pkl\"))[0]\n",
    "with open(fil, \"rb\") as f:\n",
    "    eigValsAD = pickle.load(f)\n",
    "fil = list(resDir.glob(\"Ctrl_*_eigVals.pkl\"))[0]\n",
    "with open(fil, \"rb\") as f:\n",
    "    eigValsCtrl = pickle.load(f)"
   ]
  },
  {
   "cell_type": "code",
   "execution_count": 15,
   "metadata": {
    "ExecuteTime": {
     "end_time": "2022-10-09T21:41:50.184593Z",
     "start_time": "2022-10-09T21:41:50.172562Z"
    }
   },
   "outputs": [],
   "source": [
    "# full U, i.e., full eig-vectors\n",
    "fil = list(resDir.glob(\"AD_*_Ufull.pkl\"))[0]\n",
    "with open(fil, \"rb\") as f:\n",
    "    eigVecsFullAD = pickle.load(f)\n",
    "fil = list(resDir.glob(\"Ctrl_*_Ufull.pkl\"))[0]\n",
    "with open(fil, \"rb\") as f:\n",
    "    eigVecsFullCtrl = pickle.load(f)"
   ]
  },
  {
   "cell_type": "code",
   "execution_count": 16,
   "metadata": {
    "ExecuteTime": {
     "end_time": "2022-10-09T21:41:50.998710Z",
     "start_time": "2022-10-09T21:41:50.992281Z"
    }
   },
   "outputs": [],
   "source": [
    "# Sel data (only need when use sub data)\n",
    "ecptssAD = [ ecptsAD for ecptsAD, kpix in zip(ecptssAD, kpAD) if kpix==1]\n",
    "ecptssCtrl = [ ecptsCtrl for ecptsCtrl, kpix in zip(ecptssCtrl, kpCtrl) if kpix==1]\n",
    "eigValsAD = [ v for v, kpix in zip(eigValsAD, kpAD) if kpix==1]\n",
    "eigValsCtrl = [ v for v, kpix in zip(eigValsCtrl, kpCtrl) if kpix==1]\n",
    "eigVecsFullAD = [ v for v, kpix in zip(eigVecsFullAD, kpAD) if kpix==1]\n",
    "eigVecsFullCtrl = [ v for v, kpix in zip(eigVecsFullCtrl, kpCtrl) if kpix==1]"
   ]
  },
  {
   "cell_type": "code",
   "execution_count": 17,
   "metadata": {
    "ExecuteTime": {
     "end_time": "2022-10-09T21:41:51.392043Z",
     "start_time": "2022-10-09T21:41:51.384259Z"
    }
   },
   "outputs": [],
   "source": [
    "# Dwell times in second\n",
    "freq = 120\n",
    "dwellsAD = [np.diff(np.concatenate([[0], ecpts, [7200]])/freq) for ecpts in ecptssAD]\n",
    "dwellsCtrl = [np.diff(np.concatenate([[0], ecpts, [7200]])/freq) for ecpts in ecptssCtrl]"
   ]
  },
  {
   "cell_type": "markdown",
   "metadata": {},
   "source": [
    "### Get FC\n",
    "(remove the diaginal term)"
   ]
  },
  {
   "cell_type": "code",
   "execution_count": 19,
   "metadata": {
    "ExecuteTime": {
     "end_time": "2022-10-09T21:42:19.858605Z",
     "start_time": "2022-10-09T21:42:19.681730Z"
    }
   },
   "outputs": [],
   "source": [
    "FCs_AD = []\n",
    "for cur_U, cur_vals in zip(eigVecsFullAD, eigValsAD):\n",
    "    FC_AD = [obt_FC(cur_U, cur_val) for cur_val in cur_vals]\n",
    "    FCs_AD.append(FC_AD)"
   ]
  },
  {
   "cell_type": "code",
   "execution_count": 23,
   "metadata": {
    "ExecuteTime": {
     "end_time": "2022-10-09T21:42:58.433807Z",
     "start_time": "2022-10-09T21:42:58.198172Z"
    }
   },
   "outputs": [],
   "source": [
    "FCs_Ctrl = []\n",
    "for cur_U, cur_vals in zip(eigVecsFullCtrl, eigValsCtrl):\n",
    "    FC_Ctrl = [obt_FC(cur_U, cur_val) for cur_val in cur_vals]\n",
    "    FCs_Ctrl.append(FC_Ctrl)"
   ]
  },
  {
   "cell_type": "markdown",
   "metadata": {},
   "source": [
    "## Analysis"
   ]
  },
  {
   "cell_type": "markdown",
   "metadata": {},
   "source": [
    "### Get graphic features"
   ]
  },
  {
   "cell_type": "code",
   "execution_count": 24,
   "metadata": {
    "ExecuteTime": {
     "end_time": "2022-10-09T22:12:37.395958Z",
     "start_time": "2022-10-09T21:43:05.806073Z"
    },
    "scrolled": true
   },
   "outputs": [
    {
     "name": "stdout",
     "output_type": "stream",
     "text": [
      "0\n",
      "1\n",
      "2\n",
      "3\n",
      "4\n",
      "5\n"
     ]
    },
    {
     "name": "stderr",
     "output_type": "stream",
     "text": [
      "/home/huaqingj/anaconda3/lib/python3.7/site-packages/numpy/core/_asarray.py:102: VisibleDeprecationWarning: Creating an ndarray from ragged nested sequences (which is a list-or-tuple of lists-or-tuples-or ndarrays with different lengths or shapes) is deprecated. If you meant to do this, you must specify 'dtype=object' when creating the ndarray.\n",
      "  return array(a, dtype, copy=False, order=order)\n",
      "/home/huaqingj/anaconda3/lib/python3.7/site-packages/numpy/core/_asarray.py:102: VisibleDeprecationWarning: Creating an ndarray from ragged nested sequences (which is a list-or-tuple of lists-or-tuples-or ndarrays with different lengths or shapes) is deprecated. If you meant to do this, you must specify 'dtype=object' when creating the ndarray.\n",
      "  return array(a, dtype, copy=False, order=order)\n",
      "/home/huaqingj/anaconda3/lib/python3.7/site-packages/numpy/core/_asarray.py:102: VisibleDeprecationWarning: Creating an ndarray from ragged nested sequences (which is a list-or-tuple of lists-or-tuples-or ndarrays with different lengths or shapes) is deprecated. If you meant to do this, you must specify 'dtype=object' when creating the ndarray.\n",
      "  return array(a, dtype, copy=False, order=order)\n",
      "/home/huaqingj/anaconda3/lib/python3.7/site-packages/numpy/core/_asarray.py:102: VisibleDeprecationWarning: Creating an ndarray from ragged nested sequences (which is a list-or-tuple of lists-or-tuples-or ndarrays with different lengths or shapes) is deprecated. If you meant to do this, you must specify 'dtype=object' when creating the ndarray.\n",
      "  return array(a, dtype, copy=False, order=order)\n",
      "/home/huaqingj/anaconda3/lib/python3.7/site-packages/numpy/core/_asarray.py:102: VisibleDeprecationWarning: Creating an ndarray from ragged nested sequences (which is a list-or-tuple of lists-or-tuples-or ndarrays with different lengths or shapes) is deprecated. If you meant to do this, you must specify 'dtype=object' when creating the ndarray.\n",
      "  return array(a, dtype, copy=False, order=order)\n",
      "/home/huaqingj/anaconda3/lib/python3.7/site-packages/numpy/core/_asarray.py:102: VisibleDeprecationWarning: Creating an ndarray from ragged nested sequences (which is a list-or-tuple of lists-or-tuples-or ndarrays with different lengths or shapes) is deprecated. If you meant to do this, you must specify 'dtype=object' when creating the ndarray.\n",
      "  return array(a, dtype, copy=False, order=order)\n"
     ]
    },
    {
     "name": "stdout",
     "output_type": "stream",
     "text": [
      "6\n",
      "7\n",
      "8\n",
      "9\n",
      "10\n",
      "11\n",
      "12\n",
      "13\n",
      "14\n",
      "15\n",
      "16\n",
      "17\n",
      "18\n",
      "19\n",
      "20\n",
      "21\n",
      "22\n",
      "23\n",
      "24\n",
      "25\n",
      "26\n",
      "27\n",
      "28\n",
      "29\n",
      "30\n",
      "31\n",
      "32\n",
      "33\n",
      "34\n",
      "35\n",
      "36\n",
      "37\n",
      "38\n",
      "39\n",
      "40\n",
      "41\n",
      "42\n",
      "43\n",
      "44\n",
      "45\n",
      "46\n",
      "47\n",
      "48\n",
      "49\n",
      "50\n",
      "51\n",
      "52\n",
      "53\n",
      "54\n",
      "55\n",
      "56\n",
      "57\n",
      "58\n",
      "59\n",
      "60\n",
      "61\n",
      "62\n",
      "63\n",
      "64\n",
      "65\n",
      "66\n",
      "67\n",
      "68\n",
      "69\n",
      "70\n",
      "71\n",
      "72\n",
      "73\n",
      "74\n",
      "75\n",
      "76\n",
      "77\n",
      "78\n",
      "79\n",
      "80\n",
      "81\n",
      "82\n",
      "83\n",
      "84\n",
      "85\n",
      "86\n",
      "87\n"
     ]
    }
   ],
   "source": [
    "import multiprocessing as mp\n",
    "def run_fn(ix, FCs):\n",
    "    print(ix)\n",
    "    graphic_f = [NetMeasureFn(FC) for FC in FCs]\n",
    "    #print(ix*100)\n",
    "    return graphic_f\n",
    "if __name__ == \"__main__\":\n",
    "    with mp.Pool(6) as pool:\n",
    "        graphic_fs_AD_proc = []\n",
    "        for ix, FCs in enumerate(FCs_AD):\n",
    "            graphic_fs_AD_proc.append(pool.apply_async(run_fn, (ix, FCs)))\n",
    "        graphic_fs_AD = [res.get() for res in graphic_fs_AD_proc]\n",
    "    pool.join()"
   ]
  },
  {
   "cell_type": "code",
   "execution_count": 25,
   "metadata": {
    "ExecuteTime": {
     "end_time": "2022-10-09T22:51:52.900140Z",
     "start_time": "2022-10-09T22:12:37.397284Z"
    },
    "scrolled": true
   },
   "outputs": [
    {
     "name": "stdout",
     "output_type": "stream",
     "text": [
      "3\n",
      "2\n",
      "4\n",
      "5\n",
      "0\n",
      "1\n"
     ]
    },
    {
     "name": "stderr",
     "output_type": "stream",
     "text": [
      "/home/huaqingj/anaconda3/lib/python3.7/site-packages/numpy/core/_asarray.py:102: VisibleDeprecationWarning: Creating an ndarray from ragged nested sequences (which is a list-or-tuple of lists-or-tuples-or ndarrays with different lengths or shapes) is deprecated. If you meant to do this, you must specify 'dtype=object' when creating the ndarray.\n",
      "  return array(a, dtype, copy=False, order=order)\n",
      "/home/huaqingj/anaconda3/lib/python3.7/site-packages/numpy/core/_asarray.py:102: VisibleDeprecationWarning: Creating an ndarray from ragged nested sequences (which is a list-or-tuple of lists-or-tuples-or ndarrays with different lengths or shapes) is deprecated. If you meant to do this, you must specify 'dtype=object' when creating the ndarray.\n",
      "  return array(a, dtype, copy=False, order=order)\n",
      "/home/huaqingj/anaconda3/lib/python3.7/site-packages/numpy/core/_asarray.py:102: VisibleDeprecationWarning: Creating an ndarray from ragged nested sequences (which is a list-or-tuple of lists-or-tuples-or ndarrays with different lengths or shapes) is deprecated. If you meant to do this, you must specify 'dtype=object' when creating the ndarray.\n",
      "  return array(a, dtype, copy=False, order=order)\n",
      "/home/huaqingj/anaconda3/lib/python3.7/site-packages/numpy/core/_asarray.py:102: VisibleDeprecationWarning: Creating an ndarray from ragged nested sequences (which is a list-or-tuple of lists-or-tuples-or ndarrays with different lengths or shapes) is deprecated. If you meant to do this, you must specify 'dtype=object' when creating the ndarray.\n",
      "  return array(a, dtype, copy=False, order=order)\n",
      "/home/huaqingj/anaconda3/lib/python3.7/site-packages/numpy/core/_asarray.py:102: VisibleDeprecationWarning: Creating an ndarray from ragged nested sequences (which is a list-or-tuple of lists-or-tuples-or ndarrays with different lengths or shapes) is deprecated. If you meant to do this, you must specify 'dtype=object' when creating the ndarray.\n",
      "  return array(a, dtype, copy=False, order=order)\n",
      "/home/huaqingj/anaconda3/lib/python3.7/site-packages/numpy/core/_asarray.py:102: VisibleDeprecationWarning: Creating an ndarray from ragged nested sequences (which is a list-or-tuple of lists-or-tuples-or ndarrays with different lengths or shapes) is deprecated. If you meant to do this, you must specify 'dtype=object' when creating the ndarray.\n",
      "  return array(a, dtype, copy=False, order=order)\n"
     ]
    },
    {
     "name": "stdout",
     "output_type": "stream",
     "text": [
      "6\n",
      "7\n",
      "8\n",
      "9\n",
      "10\n",
      "11\n",
      "12\n",
      "13\n",
      "14\n",
      "15\n",
      "16\n",
      "17\n",
      "18\n",
      "19\n",
      "20\n",
      "21\n",
      "22\n",
      "23\n",
      "24\n",
      "25\n",
      "26\n",
      "27\n",
      "28\n",
      "29\n",
      "30\n",
      "31\n",
      "32\n",
      "33\n",
      "34\n",
      "35\n",
      "36\n",
      "37\n",
      "38\n",
      "39\n",
      "40\n",
      "41\n",
      "42\n",
      "43\n",
      "44\n",
      "45\n",
      "46\n",
      "47\n",
      "48\n",
      "49\n",
      "50\n",
      "51\n",
      "52\n",
      "53\n",
      "54\n",
      "55\n",
      "56\n",
      "57\n",
      "58\n",
      "59\n",
      "60\n",
      "61\n",
      "62\n",
      "63\n",
      "64\n",
      "65\n",
      "66\n",
      "67\n",
      "68\n",
      "69\n",
      "70\n",
      "71\n",
      "72\n",
      "73\n",
      "74\n",
      "75\n",
      "76\n",
      "77\n",
      "78\n",
      "79\n",
      "80\n",
      "81\n",
      "82\n",
      "83\n",
      "84\n",
      "85\n",
      "86\n",
      "87\n"
     ]
    }
   ],
   "source": [
    "if __name__ == \"__main__\":\n",
    "    with mp.Pool(6) as pool:\n",
    "        graphic_fs_Ctrl_proc = []\n",
    "        for ix, FCs in enumerate(FCs_Ctrl):\n",
    "            graphic_fs_Ctrl_proc.append(pool.apply_async(run_fn, (ix, FCs)))\n",
    "        graphic_fs_Ctrl = [res.get() for res in graphic_fs_Ctrl_proc]\n",
    "    pool.join()"
   ]
  },
  {
   "cell_type": "code",
   "execution_count": 27,
   "metadata": {
    "ExecuteTime": {
     "end_time": "2022-10-09T23:12:38.713811Z",
     "start_time": "2022-10-09T23:12:38.668799Z"
    },
    "code_folding": []
   },
   "outputs": [],
   "source": [
    "#By default with fisher transformation\n",
    "# save it\n",
    "with open(resDir/\"graphic_fs_AD_nofisher_noabs.pkl\", \"wb\") as f:\n",
    "    pickle.dump(graphic_fs_AD, f)\n",
    "with open(resDir/\"graphic_fs_Ctrl_nofisher_noabs.pkl\", \"wb\") as f:\n",
    "    pickle.dump(graphic_fs_Ctrl, f)"
   ]
  },
  {
   "cell_type": "code",
   "execution_count": null,
   "metadata": {},
   "outputs": [],
   "source": []
  },
  {
   "cell_type": "markdown",
   "metadata": {},
   "source": [
    "### load graphic features"
   ]
  },
  {
   "cell_type": "code",
   "execution_count": 114,
   "metadata": {
    "ExecuteTime": {
     "end_time": "2022-10-09T23:47:32.854462Z",
     "start_time": "2022-10-09T23:47:32.847740Z"
    },
    "code_folding": []
   },
   "outputs": [],
   "source": [
    "# load\n",
    "#with open(resDir/\"graphic_fs_AD_nofisher.pkl\", \"rb\") as f:\n",
    "#with open(resDir/\"graphic_fs_AD_nofisher_noabs.pkl\", \"rb\") as f:\n",
    "with open(resDir/\"graphic_fs_AD.pkl\", \"rb\") as f:\n",
    "    graphic_fs_AD = pickle.load(f)\n",
    "\n",
    "#with open(resDir/\"graphic_fs_Ctrl_nofisher.pkl\", \"rb\") as f:\n",
    "#with open(resDir/\"graphic_fs_Ctrl_nofisher_noabs.pkl\", \"rb\") as f:\n",
    "with open(resDir/\"graphic_fs_Ctrl.pkl\", \"rb\") as f:\n",
    "    graphic_fs_Ctrl = pickle.load(f)"
   ]
  },
  {
   "cell_type": "markdown",
   "metadata": {},
   "source": [
    "###  graphic freatures at the max dwell time "
   ]
  },
  {
   "cell_type": "code",
   "execution_count": 115,
   "metadata": {
    "ExecuteTime": {
     "end_time": "2022-10-09T23:47:34.462494Z",
     "start_time": "2022-10-09T23:47:34.459996Z"
    }
   },
   "outputs": [],
   "source": [
    "fs_name = [\"Modularity\", \"Weighted path length\", \"Clustering coef\"]"
   ]
  },
  {
   "cell_type": "code",
   "execution_count": 116,
   "metadata": {
    "ExecuteTime": {
     "end_time": "2022-10-09T23:47:34.990030Z",
     "start_time": "2022-10-09T23:47:34.984423Z"
    }
   },
   "outputs": [
    {
     "data": {
      "text/plain": [
       "dict_keys(['tmC', 'tmL', 'tQ', 'mC', 'mL', 'Q'])"
      ]
     },
     "execution_count": 116,
     "metadata": {},
     "output_type": "execute_result"
    }
   ],
   "source": [
    "graphic_fs_AD[0][0].keys()"
   ]
  },
  {
   "cell_type": "code",
   "execution_count": 121,
   "metadata": {
    "ExecuteTime": {
     "end_time": "2022-10-10T23:56:53.509955Z",
     "start_time": "2022-10-10T23:56:53.109704Z"
    }
   },
   "outputs": [
    {
     "data": {
      "image/png": "[encoded data removed]",
      "text/plain": [
       "<Figure size 1080x360 with 3 Axes>"
      ]
     },
     "metadata": {
      "needs_background": "light"
     },
     "output_type": "display_data"
    }
   ],
   "source": [
    "plt.figure(figsize=[15, 5])\n",
    "for ix, cur_f in enumerate([\"tQ\", \"tmL\", \"tmC\"]):\n",
    "    cur_fs_AD = [topk_mean(1, graphic_f, dwell, cur_f)[0] \n",
    "                 for graphic_f, dwell in zip(graphic_fs_AD, dwellsAD)]\n",
    "    cur_fs_Ctrl = [topk_mean(1, graphic_f, dwell, cur_f)[0] \n",
    "                   for graphic_f, dwell in zip(graphic_fs_Ctrl, dwellsCtrl)]\n",
    "    #test_res = scipy.stats.ttest_ind(cur_fs_AD, cur_fs_Ctrl, equal_var=False)\n",
    "    test_res = scipy.stats.ranksums(cur_fs_AD, cur_fs_Ctrl)\n",
    "\n",
    "    plt.subplot(1, 3, ix+1)\n",
    "    plt.title(f\"{fs_name[ix]} (test pvalue:{test_res.pvalue:.3f})\")\n",
    "    plt.hist(cur_fs_AD, label=\"AD\", alpha=0.3)\n",
    "    plt.hist(cur_fs_Ctrl, label=\"Ctrl\", alpha=0.3)\n",
    "    plt.legend()"
   ]
  },
  {
   "cell_type": "code",
   "execution_count": 122,
   "metadata": {
    "ExecuteTime": {
     "end_time": "2022-10-10T23:56:55.014683Z",
     "start_time": "2022-10-10T23:56:54.670185Z"
    }
   },
   "outputs": [
    {
     "data": {
      "image/png": "[encoded data removed]",
      "text/plain": [
       "<Figure size 1080x360 with 3 Axes>"
      ]
     },
     "metadata": {
      "needs_background": "light"
     },
     "output_type": "display_data"
    }
   ],
   "source": [
    "topk = 3\n",
    "plt.figure(figsize=[15, 5])\n",
    "for ix, cur_f in enumerate([\"tQ\", \"tmL\", \"tmC\"]):\n",
    "    cur_fs_AD = [topk_mean(topk, graphic_f, dwell, cur_f)[0] \n",
    "                 for graphic_f, dwell in zip(graphic_fs_AD, dwellsAD)]\n",
    "    cur_fs_Ctrl = [topk_mean(topk, graphic_f, dwell, cur_f)[0] \n",
    "                   for graphic_f, dwell in zip(graphic_fs_Ctrl, dwellsCtrl)]\n",
    "    #test_res = scipy.stats.ttest_ind(cur_fs_AD, cur_fs_Ctrl, equal_var=False)\n",
    "    test_res = scipy.stats.ranksums(cur_fs_AD, cur_fs_Ctrl)\n",
    "\n",
    "    plt.subplot(1, 3, ix+1)\n",
    "    plt.title(f\"{fs_name[ix]} (test pvalue:{test_res.pvalue:.3f})\")\n",
    "    plt.hist(cur_fs_AD, label=\"AD\", alpha=0.3)\n",
    "    plt.hist(cur_fs_Ctrl, label=\"Ctrl\", alpha=0.3)\n",
    "    plt.legend()"
   ]
  },
  {
   "cell_type": "code",
   "execution_count": 123,
   "metadata": {
    "ExecuteTime": {
     "end_time": "2022-10-10T23:56:56.783946Z",
     "start_time": "2022-10-10T23:56:56.436184Z"
    }
   },
   "outputs": [
    {
     "data": {
      "image/png": "[encoded data removed]",
      "text/plain": [
       "<Figure size 1080x360 with 3 Axes>"
      ]
     },
     "metadata": {
      "needs_background": "light"
     },
     "output_type": "display_data"
    }
   ],
   "source": [
    "topk = 20\n",
    "plt.figure(figsize=[15, 5])\n",
    "for ix, cur_f in enumerate([\"tQ\", \"tmL\", \"tmC\"]):\n",
    "    cur_fs_AD = [exclude_top1_mean(topk, graphic_f, dwell, cur_f)[0] \n",
    "                 for graphic_f, dwell in zip(graphic_fs_AD, dwellsAD) \n",
    "                 if len(dwell)>=2]\n",
    "    cur_fs_Ctrl = [exclude_top1_mean(topk, graphic_f, dwell, cur_f)[0] \n",
    "                   for graphic_f, dwell in zip(graphic_fs_Ctrl, dwellsCtrl) \n",
    "                   if len(dwell)>= 2]\n",
    "    #test_res = scipy.stats.ttest_ind(cur_fs_AD, cur_fs_Ctrl, equal_var=False)\n",
    "    test_res = scipy.stats.ranksums(cur_fs_AD, cur_fs_Ctrl)\n",
    "\n",
    "    plt.subplot(1, 3, ix+1)\n",
    "    plt.title(f\"{fs_name[ix]} (test pvalue:{test_res.pvalue:.3f})\")\n",
    "    plt.hist(cur_fs_AD, label=\"AD\", alpha=0.3)\n",
    "    plt.hist(cur_fs_Ctrl, label=\"Ctrl\", alpha=0.3)\n",
    "    plt.legend()"
   ]
  },
  {
   "cell_type": "code",
   "execution_count": 41,
   "metadata": {
    "ExecuteTime": {
     "end_time": "2022-10-09T23:15:42.651625Z",
     "start_time": "2022-10-09T23:15:42.645933Z"
    }
   },
   "outputs": [
    {
     "data": {
      "text/plain": [
       "65"
      ]
     },
     "execution_count": 41,
     "metadata": {},
     "output_type": "execute_result"
    }
   ],
   "source": [
    "len(cur_fs_AD)"
   ]
  },
  {
   "cell_type": "code",
   "execution_count": null,
   "metadata": {},
   "outputs": [],
   "source": []
  }
 ],
 "metadata": {
  "kernelspec": {
   "display_name": "Python 3",
   "language": "python",
   "name": "python3"
  },
  "language_info": {
   "codemirror_mode": {
    "name": "ipython",
    "version": 3
   },
   "file_extension": ".py",
   "mimetype": "text/x-python",
   "name": "python",
   "nbconvert_exporter": "python",
   "pygments_lexer": "ipython3",
   "version": "3.7.4"
  },
  "toc": {
   "base_numbering": 1,
   "nav_menu": {},
   "number_sections": true,
   "sideBar": true,
   "skip_h1_title": false,
   "title_cell": "Table of Contents",
   "title_sidebar": "Contents",
   "toc_cell": false,
   "toc_position": {},
   "toc_section_display": true,
   "toc_window_display": true
  }
 },
 "nbformat": 4,
 "nbformat_minor": 2
}
