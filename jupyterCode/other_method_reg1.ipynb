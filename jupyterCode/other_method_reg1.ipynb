{
 "cells": [
  {
   "cell_type": "markdown",
   "metadata": {},
   "source": [
    "This file contains the code for ND, DMD, TVDMD including\n",
    "\n",
    "- extract features\n",
    "\n",
    "- regression: I only regress once for two models w/o graph metrics for each method "
   ]
  },
  {
   "cell_type": "code",
   "execution_count": 1,
   "metadata": {
    "ExecuteTime": {
     "end_time": "2022-10-31T01:05:22.920522Z",
     "start_time": "2022-10-31T01:05:22.915472Z"
    }
   },
   "outputs": [],
   "source": [
    "import sys\n",
    "sys.path.append(\"/home/huaqingj/MyResearch/TVDN-AD/\")"
   ]
  },
  {
   "cell_type": "code",
   "execution_count": 3,
   "metadata": {
    "ExecuteTime": {
     "end_time": "2022-10-31T01:05:28.192220Z",
     "start_time": "2022-10-31T01:05:28.184886Z"
    }
   },
   "outputs": [],
   "source": [
    "from pyTVDN import TVDNDetect\n",
    "from sklearn.cluster import KMeans\n",
    "from pathlib import Path\n",
    "from scipy.io import loadmat\n",
    "import numpy as np\n",
    "from easydict import EasyDict as edict\n",
    "import matplotlib.pyplot as plt\n",
    "import os\n",
    "from scipy import signal\n",
    "import pickle\n",
    "import seaborn as sns\n",
    "#from tqdm.autonotebook import tqdm\n",
    "from tqdm import tqdm\n",
    "import numbers\n",
    "%matplotlib inline\n",
    "import warnings\n",
    "warnings.filterwarnings('ignore')"
   ]
  },
  {
   "cell_type": "code",
   "execution_count": 4,
   "metadata": {
    "ExecuteTime": {
     "end_time": "2022-10-31T01:05:29.154185Z",
     "start_time": "2022-10-31T01:05:29.148038Z"
    }
   },
   "outputs": [],
   "source": [
    "import multiprocessing as mp"
   ]
  },
  {
   "cell_type": "code",
   "execution_count": 5,
   "metadata": {
    "ExecuteTime": {
     "end_time": "2022-10-31T01:05:29.845770Z",
     "start_time": "2022-10-31T01:05:29.562505Z"
    }
   },
   "outputs": [],
   "source": [
    "# compute the graph metrics\n",
    "import bct"
   ]
  },
  {
   "cell_type": "code",
   "execution_count": 6,
   "metadata": {
    "ExecuteTime": {
     "end_time": "2022-10-31T01:05:30.609986Z",
     "start_time": "2022-10-31T01:05:30.604556Z"
    }
   },
   "outputs": [],
   "source": [
    "from sklearn.linear_model import LogisticRegression\n",
    "from sklearn.model_selection import LeaveOneOut\n",
    "from sklearn.metrics import roc_auc_score, roc_curve\n",
    "\n",
    "import warnings\n",
    "warnings.filterwarnings('ignore')"
   ]
  },
  {
   "cell_type": "code",
   "execution_count": 7,
   "metadata": {
    "ExecuteTime": {
     "end_time": "2022-10-31T01:05:31.621271Z",
     "start_time": "2022-10-31T01:05:31.611397Z"
    }
   },
   "outputs": [],
   "source": [
    "import rpy2.robjects as robj\n",
    "robj.r.source(\"../Rcode/utils.R\")\n",
    "\n",
    "RsegDMD = robj.r[\"DMD\"]\n",
    "RchgF = robj.r[\"chgF\"]"
   ]
  },
  {
   "cell_type": "markdown",
   "metadata": {},
   "source": [
    "### Load data"
   ]
  },
  {
   "cell_type": "code",
   "execution_count": 8,
   "metadata": {
    "ExecuteTime": {
     "end_time": "2022-10-31T01:05:33.822885Z",
     "start_time": "2022-10-31T01:05:33.818223Z"
    }
   },
   "outputs": [],
   "source": [
    "os.chdir(\"/home/huaqingj/MyResearch/TVDN-AD\")\n",
    "resDir = Path(\"./results\")\n",
    "dataDir = Path(\"./data\")"
   ]
  },
  {
   "cell_type": "code",
   "execution_count": 9,
   "metadata": {
    "ExecuteTime": {
     "end_time": "2022-10-31T01:05:34.753573Z",
     "start_time": "2022-10-31T01:05:34.746106Z"
    }
   },
   "outputs": [],
   "source": [
    "ADdets = list(resDir.glob(\"AD_*04_decimate5.pkl\"))\n",
    "ADdetsPs = sorted(ADdets, key=lambda p:int(p.stem.split(\"_\")[3]))\n",
    "Ctrldets = list(resDir.glob(\"Ctrl_*04_decimate5.pkl\"))\n",
    "CtrldetsPs = sorted(Ctrldets, key=lambda p:int(p.stem.split(\"_\")[3]))"
   ]
  },
  {
   "cell_type": "code",
   "execution_count": 10,
   "metadata": {
    "ExecuteTime": {
     "end_time": "2022-10-31T01:05:36.002861Z",
     "start_time": "2022-10-31T01:05:35.999805Z"
    }
   },
   "outputs": [],
   "source": [
    "with open(\"./OtherFils/KpIdxsAll.pkl\", \"rb\") as sf:\n",
    "    kpAD, kpCtrl, kpAll = pickle.load(sf)"
   ]
  },
  {
   "cell_type": "markdown",
   "metadata": {},
   "source": [
    "### Some fns"
   ]
  },
  {
   "cell_type": "code",
   "execution_count": 11,
   "metadata": {
    "ExecuteTime": {
     "end_time": "2022-10-31T01:05:36.935643Z",
     "start_time": "2022-10-31T01:05:36.932021Z"
    }
   },
   "outputs": [],
   "source": [
    "def wUFn(Amat):\n",
    "    eigVals, eigVecs = np.linalg.eig(Amat)\n",
    "    r = np.sum(np.cumsum(np.abs(eigVals))/np.sum(np.abs(eigVals)) <= 0.8) + 1\n",
    "    if (eigVals[r-1].imag + eigVals[r].imag ) == 0:\n",
    "        r = r + 1\n",
    "    wU = np.abs(np.matmul(eigVecs[:, :r], eigVals[:r]))\n",
    "    return wU, r, eigVals[:r]"
   ]
  },
  {
   "cell_type": "code",
   "execution_count": 12,
   "metadata": {
    "ExecuteTime": {
     "end_time": "2022-10-31T01:05:37.328527Z",
     "start_time": "2022-10-31T01:05:37.322201Z"
    }
   },
   "outputs": [],
   "source": [
    "def minmax(x):\n",
    "    num = x - np.min(x)\n",
    "    den = np.max(x) - np.min(x)\n",
    "    return num/den\n",
    "\n",
    "def U2BrainVec(wU):\n",
    "    emVec = np.zeros_like(DKtmplate, dtype=np.float64)\n",
    "    for idx in range(1, 69):\n",
    "        emVec[DKtmplate==idx] = wU[idx-1]\n",
    "    return emVec\n",
    "\n",
    "def reorderU(wU):\n",
    "    wUreorder = np.zeros_like(wU, dtype=np.float64)\n",
    "    wUreorder[0::2] = wU[:34]\n",
    "    wUreorder[1::2] = wU[34:]\n",
    "    return wUreorder"
   ]
  },
  {
   "cell_type": "code",
   "execution_count": 13,
   "metadata": {
    "ExecuteTime": {
     "end_time": "2022-10-31T01:05:37.958846Z",
     "start_time": "2022-10-31T01:05:37.935710Z"
    }
   },
   "outputs": [],
   "source": [
    "with open(\"./OtherFils/BNVtemplate_DK68.txt\", \"r\") as tf:\n",
    "    DKtmplateRaw = tf.readlines()\n",
    "DKtmplate = np.array([int(x.strip()) for x in DKtmplateRaw])"
   ]
  },
  {
   "cell_type": "code",
   "execution_count": 14,
   "metadata": {
    "ExecuteTime": {
     "end_time": "2022-10-31T01:05:38.589938Z",
     "start_time": "2022-10-31T01:05:38.584096Z"
    }
   },
   "outputs": [],
   "source": [
    "def discretVec(Vec, ps=[0, 0.25, 0.5, 0.75, 1]):\n",
    "    qs = np.quantile(Vec, ps)\n",
    "    disVec = Vec \n",
    "    for ix in range(len(qs)-1):\n",
    "        low = qs[ix]\n",
    "        up = qs[ix+1]\n",
    "        idxVec= np.bitwise_and(Vec >= low, Vec <up)\n",
    "        disVec[idxVec] = np.mean(Vec[idxVec])\n",
    "    return disVec"
   ]
  },
  {
   "cell_type": "code",
   "execution_count": 15,
   "metadata": {
    "ExecuteTime": {
     "end_time": "2022-10-31T01:05:39.236423Z",
     "start_time": "2022-10-31T01:05:39.230680Z"
    }
   },
   "outputs": [],
   "source": [
    "def obt_absFC(mat):\n",
    "    \"\"\"get abs FC \n",
    "        (1) transform to correlation\n",
    "        \n",
    "        (2) z transform\n",
    "        \n",
    "        (3) take absolute value\n",
    "        \n",
    "        (remove the diaginal term)\n",
    "    \"\"\"\n",
    "    FC = np.corrcoef(mat) # Pearson's r\n",
    "    FC = FC - np.diag(np.diag(FC)) # remove diagonal\n",
    "    FC = np.arctanh(FC) # Fisher's transform\n",
    "    abs_FC = np.abs(FC)\n",
    "    return abs_FC"
   ]
  },
  {
   "cell_type": "code",
   "execution_count": 16,
   "metadata": {
    "ExecuteTime": {
     "end_time": "2022-10-31T01:05:57.163758Z",
     "start_time": "2022-10-31T01:05:57.160202Z"
    }
   },
   "outputs": [],
   "source": [
    "def statAmat(curY, curX):\n",
    "    M = np.matmul(curX, curX.T)/curX.shape[-1]\n",
    "    YX = np.matmul(curY, curX.T)/curX.shape[-1]\n",
    "    U, S, VT = np.linalg.svd(M)\n",
    "    r = np.argmax(np.cumsum(S)/np.sum(S)>=0.999) + 1\n",
    "    if r == 1:\n",
    "        # avoid rank-1 mat, otherwise, it causes problem for FC\n",
    "        r = 2\n",
    "    invM = U[:, :r].dot(np.diag(1/S[:r])).dot(VT[:r, :])\n",
    "    Amat = YX.dot(invM)\n",
    "    return Amat"
   ]
  },
  {
   "cell_type": "code",
   "execution_count": 17,
   "metadata": {
    "ExecuteTime": {
     "end_time": "2022-10-31T01:05:57.897114Z",
     "start_time": "2022-10-31T01:05:57.890479Z"
    }
   },
   "outputs": [],
   "source": [
    "def minmax(mat):\n",
    "    stdMat = (mat-np.min(mat))/(np.max(mat)-np.min(mat))\n",
    "    return stdMat\n",
    "\n",
    "def minmax_sysmat(mat):\n",
    "    \"\"\"remove diag values and return minmax\"\"\"\n",
    "    trlMask1 = np.tril(np.ones_like(mat), k=-1)\n",
    "    trlv = mat[trlMask1==1]\n",
    "    minv, maxv = np.min(trlv), np.max(trlv)\n",
    "    mat = (mat-minv)/(maxv-minv)\n",
    "    mat = mat - np.diag(np.diag(mat))\n",
    "    return mat"
   ]
  },
  {
   "cell_type": "code",
   "execution_count": 18,
   "metadata": {
    "ExecuteTime": {
     "end_time": "2022-10-31T01:05:59.048019Z",
     "start_time": "2022-10-31T01:05:59.042267Z"
    }
   },
   "outputs": [],
   "source": [
    "def sysMatShuffle(mat):\n",
    "    mat = mat.copy()\n",
    "    trlMask1 = np.tril(np.ones_like(mat), k=-1)\n",
    "    eles = mat[trlMask1==1]\n",
    "    np.random.shuffle(eles)\n",
    "    sMat = np.zeros_like(mat)\n",
    "    sMat[trlMask1==1] = eles\n",
    "    diag_vs = np.diag(mat)\n",
    "    np.random.shuffle(diag_vs)\n",
    "    sMat = sMat + sMat.T + np.diag(diag_vs)\n",
    "    return sMat"
   ]
  },
  {
   "cell_type": "code",
   "execution_count": 19,
   "metadata": {
    "ExecuteTime": {
     "end_time": "2022-10-31T01:06:00.651416Z",
     "start_time": "2022-10-31T01:06:00.642669Z"
    }
   },
   "outputs": [],
   "source": [
    "def NetMeasureFn(mat, nrep=50):\n",
    "    Cs = bct.clustering_coef_wu(mat)\n",
    "    mC = np.mean(Cs)\n",
    "    Ls = bct.distance_wei(mat)[0]\n",
    "    mL = 1/np.mean(1/Ls[np.eye(Ls.shape[0])!=1])\n",
    "    _, Q = bct.modularity_und(mat)\n",
    "    \n",
    "    ranLs = []\n",
    "    ranQs = []\n",
    "    ranCs = []\n",
    "    for i in range(nrep):\n",
    "        sMat = sysMatShuffle(mat)\n",
    "        Cs = bct.clustering_coef_wu(sMat)\n",
    "        mCi = np.mean(Cs)\n",
    "        ranCs.append(mCi)\n",
    "        Ls = bct.distance_wei(sMat)[0]\n",
    "        mLi = 1/np.mean(1/Ls[np.eye(Ls.shape[0])!=1])\n",
    "        ranLs.append(mLi)\n",
    "        _, Qi = bct.modularity_und(sMat)\n",
    "        ranQs.append(Qi)\n",
    "    \n",
    "    tQ = Q/np.mean(ranQs)\n",
    "    tmL  = mL/np.mean(ranLs)\n",
    "    tmC  = mC/np.mean(ranCs)\n",
    "    return tmC, tmL, tQ, mC, mL, Q"
   ]
  },
  {
   "cell_type": "code",
   "execution_count": 20,
   "metadata": {
    "ExecuteTime": {
     "end_time": "2022-10-31T01:06:01.722383Z",
     "start_time": "2022-10-31T01:06:01.714738Z"
    }
   },
   "outputs": [],
   "source": [
    "def TuningCFn(inpX, inpY, Cs=[0.1, 0.2, 0.4, 0.8, 1, 1.6, 3.2, 6.4], penalty=\"l2\"):\n",
    "    aucCs = []\n",
    "    for C in Cs:\n",
    "        eProbs = []\n",
    "        loo = LeaveOneOut()\n",
    "        for trIdxs, testIdxs in loo.split(inpX):\n",
    "            clf = LogisticRegression(penalty=penalty, random_state=0, C=C)\n",
    "            clf.fit(inpX[trIdxs, :], inpY[trIdxs])\n",
    "            eProbs.append(clf.predict_proba(inpX[testIdxs, :]))\n",
    "        eProbs = np.array(eProbs).squeeze()\n",
    "        auc = roc_auc_score(inpY, eProbs[:, 1])\n",
    "        fpr, tpr, thresholds = roc_curve(inpY, eProbs[:, 1], pos_label=1)\n",
    "        aucCs.append(auc)\n",
    "            \n",
    "    optC = Cs[np.argmax(aucCs)]\n",
    "    res = edict()\n",
    "    res[\"optC\"] = optC\n",
    "    res[\"Cs\"] = Cs\n",
    "    res[\"aucCs\"] = aucCs\n",
    "    return res"
   ]
  },
  {
   "cell_type": "code",
   "execution_count": 21,
   "metadata": {
    "ExecuteTime": {
     "end_time": "2022-10-31T01:06:02.317855Z",
     "start_time": "2022-10-31T01:06:02.313713Z"
    }
   },
   "outputs": [],
   "source": [
    "def rSelFn(Amat):\n",
    "    eigVals, eigVecs = np.linalg.eig(Amat)\n",
    "    rSel = np.where(np.cumsum(np.abs(eigVals))/np.sum(np.abs(eigVals)) >0.8)[0][0] + 1\n",
    "    # if breaking conjugate eigval pair, add r with 1\n",
    "    if (eigVals[rSel-1].imag + eigVals[rSel].imag) == 0:\n",
    "        rSel = rSel + 1\n",
    "    wU = np.abs(np.matmul(eigVecs[:, :rSel], eigVals[:rSel]))\n",
    "    return rSel, wU, eigVals[:rSel]"
   ]
  },
  {
   "cell_type": "code",
   "execution_count": 36,
   "metadata": {
    "ExecuteTime": {
     "end_time": "2022-10-31T01:12:44.801785Z",
     "start_time": "2022-10-31T01:12:44.791399Z"
    }
   },
   "outputs": [],
   "source": [
    "#    Xmat = detObj.Xmat\n",
    "#    wsize = 100\n",
    "#    stepsize = 24\n",
    "def dynDMDfs(Xmat, wsize=32*6, stepsize=4*6):\n",
    "    seqslide = np.arange(0, Xmat.shape[-1]-wsize, stepsize)\n",
    "    wUs = []\n",
    "    for ix in seqslide:\n",
    "        lowL = ix\n",
    "        upL = ix+wsize\n",
    "            \n",
    "        curX  = Xmat[:, lowL:(upL-1)]\n",
    "        curY  = Xmat[:, (lowL+1):upL]\n",
    "        curAmat = statAmat(curY, curX)\n",
    "        _, wU, _ = rSelFn(curAmat)\n",
    "        wUs.append(wU)\n",
    "        \n",
    "    wUsArr = np.array(wUs)\n",
    "    kmeans = KMeans(n_clusters=3, random_state=0).fit(wUsArr)\n",
    "    ecpts = seqslide[np.where(np.diff(kmeans.labels_)!=0)[0]+1]+1\n",
    "    \n",
    "    ecptsFull = np.concatenate([[0], ecpts-1, [Xmat.shape[-1]]])\n",
    "    rSels = []\n",
    "    wUsNew = []\n",
    "    absEigVals = []\n",
    "    graph_metrics = []\n",
    "    absImagEigValsMax = []\n",
    "    for ix in range(len(ecptsFull)-1):\n",
    "        lowL = ecptsFull[ix]\n",
    "        upL = ecptsFull[ix+1]\n",
    "        curX  = Xmat[:, lowL:(upL-1)]\n",
    "        curY  = Xmat[:, (lowL+1):upL]\n",
    "        curAmat = statAmat(curY, curX)\n",
    "        \n",
    "        # extract the graph metrics\n",
    "        if ix == -10000:\n",
    "            conMat = obt_absFC(curAmat)\n",
    "            ms = NetMeasureFn(conMat)\n",
    "            graph_metrics.append(ms)\n",
    "        \n",
    "        rSel, wU, eigVal = rSelFn(curAmat)\n",
    "        rSels.append(rSel)\n",
    "        wUsNew.append(wU)\n",
    "        absEigVals = absEigVals + list(np.abs(eigVal))\n",
    "        absImagEigValsMax.append(np.abs(eigVal.imag).max())\n",
    "        \n",
    "    wUsNewArr = np.array(wUsNew)    \n",
    "    necpt = len(ecpts)\n",
    "    wUmean = wUsNewArr.mean(0)\n",
    "    rankM = np.max(rSels)\n",
    "    absEigValMean = np.abs(absEigVals).mean()\n",
    "    res = {\n",
    "            \"r\":rankM, \n",
    "            \"ncpts\":necpt,\n",
    "            \"wUmeanAll\": wUmean, \n",
    "            \"ecpts\": ecpts, \n",
    "            \"graph_metrics\": graph_metrics,\n",
    "            \"absEigValMean\": absEigValMean, \n",
    "            \"absImagEigValMaxMean\": np.mean(absImagEigValsMax)\n",
    "        }\n",
    "        \n",
    "    return res\n"
   ]
  },
  {
   "cell_type": "code",
   "execution_count": null,
   "metadata": {},
   "outputs": [],
   "source": []
  },
  {
   "cell_type": "markdown",
   "metadata": {},
   "source": [
    "### Run results"
   ]
  },
  {
   "cell_type": "markdown",
   "metadata": {},
   "source": [
    "#### TVDMD"
   ]
  },
  {
   "cell_type": "code",
   "execution_count": 37,
   "metadata": {
    "ExecuteTime": {
     "end_time": "2022-10-31T01:16:42.081351Z",
     "start_time": "2022-10-31T01:12:52.505565Z"
    }
   },
   "outputs": [
    {
     "name": "stderr",
     "output_type": "stream",
     "text": [
      "100%|██████████| 88/88 [03:49<00:00,  2.61s/it]\n"
     ]
    }
   ],
   "source": [
    "# DMD chg detect\n",
    "\n",
    "ADdynDMD = []\n",
    "for ADdetP, kpIx in zip(tqdm(ADdetsPs), kpAD):\n",
    "    if kpIx == 1:\n",
    "        with open(ADdetP, \"rb\") as f:\n",
    "            detObj = pickle.load(f)\n",
    "        res = dynDMDfs(detObj.Xmat)\n",
    "        ADdynDMD.append(res)\n",
    "\n",
    "filName = f\"AD_data_dynDMD.pkl\"\n",
    "with open(resDir/filName, \"wb\") as f:\n",
    "    pickle.dump(ADdynDMD, f)"
   ]
  },
  {
   "cell_type": "code",
   "execution_count": 38,
   "metadata": {
    "ExecuteTime": {
     "end_time": "2022-10-31T01:20:53.536322Z",
     "start_time": "2022-10-31T01:16:42.083636Z"
    }
   },
   "outputs": [
    {
     "name": "stderr",
     "output_type": "stream",
     "text": [
      "100%|██████████| 92/92 [04:11<00:00,  2.73s/it]\n"
     ]
    }
   ],
   "source": [
    "CtrldynDMD = []\n",
    "for CtrldetP, kpIx in zip(tqdm(CtrldetsPs), kpCtrl):\n",
    "    if kpIx == 1:\n",
    "        with open(CtrldetP, \"rb\") as f:\n",
    "            detObj = pickle.load(f)\n",
    "        res = dynDMDfs(detObj.Xmat)\n",
    "        CtrldynDMD.append(res)\n",
    "\n",
    "filName = f\"Ctrl_data_dynDMD.pkl\"\n",
    "with open(resDir/filName, \"wb\") as f:\n",
    "    pickle.dump(CtrldynDMD, f)"
   ]
  },
  {
   "cell_type": "code",
   "execution_count": 87,
   "metadata": {
    "ExecuteTime": {
     "end_time": "2022-10-17T03:14:50.521800Z",
     "start_time": "2022-10-16T16:34:50.823124Z"
    }
   },
   "outputs": [
    {
     "name": "stdout",
     "output_type": "stream",
     "text": [
      "results/AD_data_det_2_lamb1.0E-04_decimate5.pkl\n",
      "results/AD_data_det_1_lamb1.0E-04_decimate5.pkl\n",
      "results/AD_data_det_0_lamb1.0E-04_decimate5.pkl\n",
      "results/AD_data_det_3_lamb1.0E-04_decimate5.pkl\n",
      "results/AD_data_det_5_lamb1.0E-04_decimate5.pkl\n",
      "results/AD_data_det_4_lamb1.0E-04_decimate5.pkl\n",
      "Finished results/AD_data_det_0_lamb1.0E-04_decimate5.pkl\n",
      "results/AD_data_det_6_lamb1.0E-04_decimate5.pkl\n",
      "Finished results/AD_data_det_3_lamb1.0E-04_decimate5.pkl\n",
      "results/AD_data_det_7_lamb1.0E-04_decimate5.pkl\n",
      "Finished results/AD_data_det_2_lamb1.0E-04_decimate5.pkl\n",
      "results/AD_data_det_8_lamb1.0E-04_decimate5.pkl\n",
      "Finished results/AD_data_det_1_lamb1.0E-04_decimate5.pkl\n",
      "results/AD_data_det_9_lamb1.0E-04_decimate5.pkl\n",
      "Finished results/AD_data_det_5_lamb1.0E-04_decimate5.pkl\n",
      "results/AD_data_det_10_lamb1.0E-04_decimate5.pkl\n",
      "Finished results/AD_data_det_4_lamb1.0E-04_decimate5.pkl\n",
      "results/AD_data_det_11_lamb1.0E-04_decimate5.pkl\n",
      "Finished results/AD_data_det_9_lamb1.0E-04_decimate5.pkl\n",
      "results/AD_data_det_12_lamb1.0E-04_decimate5.pkl\n",
      "Finished results/AD_data_det_8_lamb1.0E-04_decimate5.pkl\n",
      "results/AD_data_det_13_lamb1.0E-04_decimate5.pkl\n",
      "Finished results/AD_data_det_7_lamb1.0E-04_decimate5.pkl\n",
      "results/AD_data_det_14_lamb1.0E-04_decimate5.pkl\n",
      "Finished results/AD_data_det_6_lamb1.0E-04_decimate5.pkl\n",
      "results/AD_data_det_15_lamb1.0E-04_decimate5.pkl\n",
      "Finished results/AD_data_det_10_lamb1.0E-04_decimate5.pkl\n",
      "results/AD_data_det_16_lamb1.0E-04_decimate5.pkl\n",
      "Finished results/AD_data_det_11_lamb1.0E-04_decimate5.pkl\n",
      "results/AD_data_det_17_lamb1.0E-04_decimate5.pkl\n",
      "Finished results/AD_data_det_12_lamb1.0E-04_decimate5.pkl\n",
      "results/AD_data_det_18_lamb1.0E-04_decimate5.pkl\n",
      "Finished results/AD_data_det_16_lamb1.0E-04_decimate5.pkl\n",
      "results/AD_data_det_19_lamb1.0E-04_decimate5.pkl\n",
      "Finished results/AD_data_det_17_lamb1.0E-04_decimate5.pkl\n",
      "results/AD_data_det_20_lamb1.0E-04_decimate5.pkl\n",
      "Finished results/AD_data_det_18_lamb1.0E-04_decimate5.pkl\n",
      "results/AD_data_det_21_lamb1.0E-04_decimate5.pkl\n",
      "Finished results/AD_data_det_21_lamb1.0E-04_decimate5.pkl\n",
      "results/AD_data_det_22_lamb1.0E-04_decimate5.pkl\n",
      "Finished results/AD_data_det_13_lamb1.0E-04_decimate5.pkl\n",
      "results/AD_data_det_23_lamb1.0E-04_decimate5.pkl\n",
      "Finished results/AD_data_det_19_lamb1.0E-04_decimate5.pkl\n",
      "results/AD_data_det_24_lamb1.0E-04_decimate5.pkl\n",
      "Finished results/AD_data_det_20_lamb1.0E-04_decimate5.pkl\n",
      "results/AD_data_det_25_lamb1.0E-04_decimate5.pkl\n",
      "Finished results/AD_data_det_15_lamb1.0E-04_decimate5.pkl\n",
      "results/AD_data_det_26_lamb1.0E-04_decimate5.pkl\n",
      "Finished results/AD_data_det_14_lamb1.0E-04_decimate5.pkl\n",
      "results/AD_data_det_27_lamb1.0E-04_decimate5.pkl\n",
      "Finished results/AD_data_det_24_lamb1.0E-04_decimate5.pkl\n",
      "results/AD_data_det_28_lamb1.0E-04_decimate5.pkl\n",
      "Finished results/AD_data_det_23_lamb1.0E-04_decimate5.pkl\n",
      "results/AD_data_det_29_lamb1.0E-04_decimate5.pkl\n",
      "Finished results/AD_data_det_25_lamb1.0E-04_decimate5.pkl\n",
      "results/AD_data_det_30_lamb1.0E-04_decimate5.pkl\n",
      "Finished results/AD_data_det_22_lamb1.0E-04_decimate5.pkl\n",
      "results/AD_data_det_31_lamb1.0E-04_decimate5.pkl\n",
      "Finished results/AD_data_det_26_lamb1.0E-04_decimate5.pkl\n",
      "results/AD_data_det_32_lamb1.0E-04_decimate5.pkl\n",
      "Finished results/AD_data_det_28_lamb1.0E-04_decimate5.pkl\n",
      "results/AD_data_det_33_lamb1.0E-04_decimate5.pkl\n",
      "Finished results/AD_data_det_27_lamb1.0E-04_decimate5.pkl\n",
      "results/AD_data_det_34_lamb1.0E-04_decimate5.pkl\n",
      "Finished results/AD_data_det_29_lamb1.0E-04_decimate5.pkl\n",
      "results/AD_data_det_35_lamb1.0E-04_decimate5.pkl\n",
      "Finished results/AD_data_det_30_lamb1.0E-04_decimate5.pkl\n",
      "results/AD_data_det_36_lamb1.0E-04_decimate5.pkl\n",
      "Finished results/AD_data_det_31_lamb1.0E-04_decimate5.pkl\n",
      "results/AD_data_det_37_lamb1.0E-04_decimate5.pkl\n",
      "Finished results/AD_data_det_33_lamb1.0E-04_decimate5.pkl\n",
      "results/AD_data_det_38_lamb1.0E-04_decimate5.pkl\n",
      "Finished results/AD_data_det_34_lamb1.0E-04_decimate5.pkl\n",
      "results/AD_data_det_39_lamb1.0E-04_decimate5.pkl\n",
      "Finished results/AD_data_det_35_lamb1.0E-04_decimate5.pkl\n",
      "results/AD_data_det_40_lamb1.0E-04_decimate5.pkl\n",
      "Finished results/AD_data_det_36_lamb1.0E-04_decimate5.pkl\n",
      "results/AD_data_det_41_lamb1.0E-04_decimate5.pkl\n",
      "Finished results/AD_data_det_37_lamb1.0E-04_decimate5.pkl\n",
      "results/AD_data_det_42_lamb1.0E-04_decimate5.pkl\n",
      "Finished results/AD_data_det_32_lamb1.0E-04_decimate5.pkl\n",
      "results/AD_data_det_43_lamb1.0E-04_decimate5.pkl\n",
      "Finished results/AD_data_det_38_lamb1.0E-04_decimate5.pkl\n",
      "results/AD_data_det_44_lamb1.0E-04_decimate5.pkl\n",
      "Finished results/AD_data_det_41_lamb1.0E-04_decimate5.pkl\n",
      "results/AD_data_det_45_lamb1.0E-04_decimate5.pkl\n",
      "Finished results/AD_data_det_39_lamb1.0E-04_decimate5.pkl\n",
      "results/AD_data_det_46_lamb1.0E-04_decimate5.pkl\n",
      "Finished results/AD_data_det_40_lamb1.0E-04_decimate5.pkl\n",
      "results/AD_data_det_47_lamb1.0E-04_decimate5.pkl\n",
      "Finished results/AD_data_det_43_lamb1.0E-04_decimate5.pkl\n",
      "results/AD_data_det_48_lamb1.0E-04_decimate5.pkl\n",
      "Finished results/AD_data_det_42_lamb1.0E-04_decimate5.pkl\n",
      "results/AD_data_det_49_lamb1.0E-04_decimate5.pkl\n",
      "Finished results/AD_data_det_46_lamb1.0E-04_decimate5.pkl\n",
      "results/AD_data_det_50_lamb1.0E-04_decimate5.pkl\n",
      "Finished results/AD_data_det_44_lamb1.0E-04_decimate5.pkl\n",
      "results/AD_data_det_51_lamb1.0E-04_decimate5.pkl\n",
      "Finished results/AD_data_det_47_lamb1.0E-04_decimate5.pkl\n",
      "results/AD_data_det_52_lamb1.0E-04_decimate5.pkl\n",
      "Finished results/AD_data_det_45_lamb1.0E-04_decimate5.pkl\n",
      "results/AD_data_det_53_lamb1.0E-04_decimate5.pkl\n",
      "Finished results/AD_data_det_50_lamb1.0E-04_decimate5.pkl\n",
      "results/AD_data_det_54_lamb1.0E-04_decimate5.pkl\n",
      "Finished results/AD_data_det_49_lamb1.0E-04_decimate5.pkl\n",
      "results/AD_data_det_55_lamb1.0E-04_decimate5.pkl\n",
      "Finished results/AD_data_det_48_lamb1.0E-04_decimate5.pkl\n",
      "results/AD_data_det_56_lamb1.0E-04_decimate5.pkl\n",
      "Finished results/AD_data_det_51_lamb1.0E-04_decimate5.pkl\n",
      "results/AD_data_det_57_lamb1.0E-04_decimate5.pkl\n",
      "Finished results/AD_data_det_53_lamb1.0E-04_decimate5.pkl\n",
      "results/AD_data_det_58_lamb1.0E-04_decimate5.pkl\n",
      "Finished results/AD_data_det_52_lamb1.0E-04_decimate5.pkl\n",
      "results/AD_data_det_59_lamb1.0E-04_decimate5.pkl\n",
      "Finished results/AD_data_det_56_lamb1.0E-04_decimate5.pkl\n",
      "results/AD_data_det_60_lamb1.0E-04_decimate5.pkl\n",
      "Finished results/AD_data_det_57_lamb1.0E-04_decimate5.pkl\n",
      "results/AD_data_det_61_lamb1.0E-04_decimate5.pkl\n",
      "Finished results/AD_data_det_60_lamb1.0E-04_decimate5.pkl\n",
      "results/AD_data_det_62_lamb1.0E-04_decimate5.pkl\n",
      "Finished results/AD_data_det_61_lamb1.0E-04_decimate5.pkl\n",
      "results/AD_data_det_63_lamb1.0E-04_decimate5.pkl\n",
      "Finished results/AD_data_det_54_lamb1.0E-04_decimate5.pkl\n",
      "results/AD_data_det_64_lamb1.0E-04_decimate5.pkl\n",
      "Finished results/AD_data_det_62_lamb1.0E-04_decimate5.pkl\n",
      "results/AD_data_det_65_lamb1.0E-04_decimate5.pkl\n",
      "Finished results/AD_data_det_64_lamb1.0E-04_decimate5.pkl\n",
      "results/AD_data_det_66_lamb1.0E-04_decimate5.pkl\n",
      "Finished results/AD_data_det_55_lamb1.0E-04_decimate5.pkl\n",
      "results/AD_data_det_67_lamb1.0E-04_decimate5.pkl\n",
      "Finished results/AD_data_det_58_lamb1.0E-04_decimate5.pkl\n",
      "results/AD_data_det_68_lamb1.0E-04_decimate5.pkl\n",
      "Finished results/AD_data_det_59_lamb1.0E-04_decimate5.pkl\n",
      "results/AD_data_det_69_lamb1.0E-04_decimate5.pkl\n",
      "Finished results/AD_data_det_66_lamb1.0E-04_decimate5.pkl\n",
      "results/AD_data_det_70_lamb1.0E-04_decimate5.pkl\n",
      "Finished results/AD_data_det_65_lamb1.0E-04_decimate5.pkl\n",
      "results/AD_data_det_71_lamb1.0E-04_decimate5.pkl\n",
      "Finished results/AD_data_det_67_lamb1.0E-04_decimate5.pkl\n",
      "results/AD_data_det_72_lamb1.0E-04_decimate5.pkl\n",
      "Finished results/AD_data_det_68_lamb1.0E-04_decimate5.pkl\n",
      "results/AD_data_det_73_lamb1.0E-04_decimate5.pkl\n",
      "Finished results/AD_data_det_69_lamb1.0E-04_decimate5.pkl\n",
      "results/AD_data_det_74_lamb1.0E-04_decimate5.pkl\n",
      "Finished results/AD_data_det_63_lamb1.0E-04_decimate5.pkl\n",
      "results/AD_data_det_75_lamb1.0E-04_decimate5.pkl\n",
      "Finished results/AD_data_det_71_lamb1.0E-04_decimate5.pkl\n",
      "results/AD_data_det_76_lamb1.0E-04_decimate5.pkl\n",
      "Finished results/AD_data_det_70_lamb1.0E-04_decimate5.pkl\n",
      "results/AD_data_det_77_lamb1.0E-04_decimate5.pkl\n",
      "Finished results/AD_data_det_73_lamb1.0E-04_decimate5.pkl\n",
      "results/AD_data_det_78_lamb1.0E-04_decimate5.pkl\n",
      "Finished results/AD_data_det_75_lamb1.0E-04_decimate5.pkl\n",
      "results/AD_data_det_79_lamb1.0E-04_decimate5.pkl\n",
      "Finished results/AD_data_det_72_lamb1.0E-04_decimate5.pkl\n"
     ]
    },
    {
     "name": "stdout",
     "output_type": "stream",
     "text": [
      "results/AD_data_det_80_lamb1.0E-04_decimate5.pkl\n",
      "Finished results/AD_data_det_74_lamb1.0E-04_decimate5.pkl\n",
      "results/AD_data_det_81_lamb1.0E-04_decimate5.pkl\n",
      "Finished results/AD_data_det_78_lamb1.0E-04_decimate5.pkl\n",
      "results/AD_data_det_82_lamb1.0E-04_decimate5.pkl\n",
      "Finished results/AD_data_det_76_lamb1.0E-04_decimate5.pkl\n",
      "results/AD_data_det_83_lamb1.0E-04_decimate5.pkl\n",
      "Finished results/AD_data_det_81_lamb1.0E-04_decimate5.pkl\n",
      "results/AD_data_det_84_lamb1.0E-04_decimate5.pkl\n",
      "Finished results/AD_data_det_82_lamb1.0E-04_decimate5.pkl\n",
      "results/AD_data_det_85_lamb1.0E-04_decimate5.pkl\n",
      "Finished results/AD_data_det_80_lamb1.0E-04_decimate5.pkl\n",
      "results/AD_data_det_86_lamb1.0E-04_decimate5.pkl\n",
      "Finished results/AD_data_det_77_lamb1.0E-04_decimate5.pkl\n",
      "results/AD_data_det_87_lamb1.0E-04_decimate5.pkl\n",
      "Finished results/AD_data_det_83_lamb1.0E-04_decimate5.pkl\n",
      "Finished results/AD_data_det_87_lamb1.0E-04_decimate5.pkl\n",
      "Finished results/AD_data_det_86_lamb1.0E-04_decimate5.pkl\n",
      "Finished results/AD_data_det_84_lamb1.0E-04_decimate5.pkl\n",
      "Finished results/AD_data_det_79_lamb1.0E-04_decimate5.pkl\n",
      "Finished results/AD_data_det_85_lamb1.0E-04_decimate5.pkl\n"
     ]
    }
   ],
   "source": [
    "### Let me run with multiprocess\n",
    "def runFn(path):\n",
    "    print(path)\n",
    "    with open(path, \"rb\") as f:\n",
    "        detObj = pickle.load(f)\n",
    "    res = dynDMDfs(detObj.Xmat)\n",
    "    print(f\"Finished {path}\")\n",
    "    return res\n",
    "\n",
    "if __name__ == \"__main__\":\n",
    "    with mp.Pool(6) as pool:\n",
    "        res_proc = []\n",
    "        for path in ADdetsPs[:]:\n",
    "            res_proc.append(pool.apply_async(runFn, [path,]))\n",
    "        res = [ix.get() for ix in res_proc] # to retrieve the results\n",
    "    pool.join() # better to add this. \n",
    "    \n",
    "\n",
    "    res_AD = [res[ix] for ix in range(len(res)) if kpAD[ix]==1]\n",
    "    filName = f\"AD_data_dynDMD_withgraph.pkl\"\n",
    "    with open(resDir/filName, \"wb\") as f:\n",
    "        pickle.dump(res_AD, f)"
   ]
  },
  {
   "cell_type": "code",
   "execution_count": 88,
   "metadata": {
    "ExecuteTime": {
     "end_time": "2022-10-17T11:58:56.554363Z",
     "start_time": "2022-10-17T03:14:50.523036Z"
    }
   },
   "outputs": [
    {
     "name": "stdout",
     "output_type": "stream",
     "text": [
      "results/Ctrl_data_det_2_lamb1.0E-04_decimate5.pkl\n",
      "results/Ctrl_data_det_0_lamb1.0E-04_decimate5.pkl\n",
      "results/Ctrl_data_det_1_lamb1.0E-04_decimate5.pkl\n",
      "results/Ctrl_data_det_3_lamb1.0E-04_decimate5.pkl\n",
      "results/Ctrl_data_det_5_lamb1.0E-04_decimate5.pkl\n",
      "results/Ctrl_data_det_4_lamb1.0E-04_decimate5.pkl\n",
      "Finished results/Ctrl_data_det_4_lamb1.0E-04_decimate5.pkl\n",
      "results/Ctrl_data_det_6_lamb1.0E-04_decimate5.pkl\n",
      "Finished results/Ctrl_data_det_5_lamb1.0E-04_decimate5.pkl\n",
      "results/Ctrl_data_det_7_lamb1.0E-04_decimate5.pkl\n",
      "Finished results/Ctrl_data_det_2_lamb1.0E-04_decimate5.pkl\n",
      "results/Ctrl_data_det_8_lamb1.0E-04_decimate5.pkl\n",
      "Finished results/Ctrl_data_det_0_lamb1.0E-04_decimate5.pkl\n",
      "results/Ctrl_data_det_9_lamb1.0E-04_decimate5.pkl\n",
      "Finished results/Ctrl_data_det_7_lamb1.0E-04_decimate5.pkl\n",
      "results/Ctrl_data_det_10_lamb1.0E-04_decimate5.pkl\n",
      "Finished results/Ctrl_data_det_3_lamb1.0E-04_decimate5.pkl\n",
      "results/Ctrl_data_det_11_lamb1.0E-04_decimate5.pkl\n",
      "Finished results/Ctrl_data_det_6_lamb1.0E-04_decimate5.pkl\n",
      "results/Ctrl_data_det_12_lamb1.0E-04_decimate5.pkl\n",
      "Finished results/Ctrl_data_det_1_lamb1.0E-04_decimate5.pkl\n",
      "results/Ctrl_data_det_13_lamb1.0E-04_decimate5.pkl\n",
      "Finished results/Ctrl_data_det_9_lamb1.0E-04_decimate5.pkl\n",
      "results/Ctrl_data_det_14_lamb1.0E-04_decimate5.pkl\n",
      "Finished results/Ctrl_data_det_8_lamb1.0E-04_decimate5.pkl\n",
      "results/Ctrl_data_det_15_lamb1.0E-04_decimate5.pkl\n",
      "Finished results/Ctrl_data_det_13_lamb1.0E-04_decimate5.pkl\n",
      "results/Ctrl_data_det_16_lamb1.0E-04_decimate5.pkl\n",
      "Finished results/Ctrl_data_det_12_lamb1.0E-04_decimate5.pkl\n",
      "results/Ctrl_data_det_17_lamb1.0E-04_decimate5.pkl\n",
      "Finished results/Ctrl_data_det_10_lamb1.0E-04_decimate5.pkl\n",
      "results/Ctrl_data_det_18_lamb1.0E-04_decimate5.pkl\n",
      "Finished results/Ctrl_data_det_11_lamb1.0E-04_decimate5.pkl\n",
      "results/Ctrl_data_det_19_lamb1.0E-04_decimate5.pkl\n",
      "Finished results/Ctrl_data_det_14_lamb1.0E-04_decimate5.pkl\n",
      "results/Ctrl_data_det_20_lamb1.0E-04_decimate5.pkl\n",
      "Finished results/Ctrl_data_det_16_lamb1.0E-04_decimate5.pkl\n",
      "results/Ctrl_data_det_21_lamb1.0E-04_decimate5.pkl\n",
      "Finished results/Ctrl_data_det_15_lamb1.0E-04_decimate5.pkl\n",
      "results/Ctrl_data_det_22_lamb1.0E-04_decimate5.pkl\n",
      "Finished results/Ctrl_data_det_18_lamb1.0E-04_decimate5.pkl\n",
      "results/Ctrl_data_det_23_lamb1.0E-04_decimate5.pkl\n",
      "Finished results/Ctrl_data_det_20_lamb1.0E-04_decimate5.pkl\n",
      "results/Ctrl_data_det_24_lamb1.0E-04_decimate5.pkl\n",
      "Finished results/Ctrl_data_det_17_lamb1.0E-04_decimate5.pkl\n",
      "results/Ctrl_data_det_25_lamb1.0E-04_decimate5.pkl\n",
      "Finished results/Ctrl_data_det_21_lamb1.0E-04_decimate5.pkl\n",
      "results/Ctrl_data_det_26_lamb1.0E-04_decimate5.pkl\n",
      "Finished results/Ctrl_data_det_19_lamb1.0E-04_decimate5.pkl\n",
      "results/Ctrl_data_det_27_lamb1.0E-04_decimate5.pkl\n",
      "Finished results/Ctrl_data_det_23_lamb1.0E-04_decimate5.pkl\n",
      "results/Ctrl_data_det_28_lamb1.0E-04_decimate5.pkl\n",
      "Finished results/Ctrl_data_det_24_lamb1.0E-04_decimate5.pkl\n",
      "results/Ctrl_data_det_29_lamb1.0E-04_decimate5.pkl\n",
      "Finished results/Ctrl_data_det_22_lamb1.0E-04_decimate5.pkl\n",
      "results/Ctrl_data_det_30_lamb1.0E-04_decimate5.pkl\n",
      "Finished results/Ctrl_data_det_25_lamb1.0E-04_decimate5.pkl\n",
      "results/Ctrl_data_det_31_lamb1.0E-04_decimate5.pkl\n",
      "Finished results/Ctrl_data_det_27_lamb1.0E-04_decimate5.pkl\n",
      "results/Ctrl_data_det_32_lamb1.0E-04_decimate5.pkl\n",
      "Finished results/Ctrl_data_det_28_lamb1.0E-04_decimate5.pkl\n",
      "results/Ctrl_data_det_33_lamb1.0E-04_decimate5.pkl\n",
      "Finished results/Ctrl_data_det_29_lamb1.0E-04_decimate5.pkl\n",
      "results/Ctrl_data_det_34_lamb1.0E-04_decimate5.pkl\n",
      "Finished results/Ctrl_data_det_31_lamb1.0E-04_decimate5.pkl\n",
      "results/Ctrl_data_det_35_lamb1.0E-04_decimate5.pkl\n",
      "Finished results/Ctrl_data_det_32_lamb1.0E-04_decimate5.pkl\n",
      "results/Ctrl_data_det_36_lamb1.0E-04_decimate5.pkl\n",
      "Finished results/Ctrl_data_det_30_lamb1.0E-04_decimate5.pkl\n",
      "results/Ctrl_data_det_37_lamb1.0E-04_decimate5.pkl\n",
      "Finished results/Ctrl_data_det_33_lamb1.0E-04_decimate5.pkl\n",
      "results/Ctrl_data_det_38_lamb1.0E-04_decimate5.pkl\n",
      "Finished results/Ctrl_data_det_26_lamb1.0E-04_decimate5.pkl\n",
      "results/Ctrl_data_det_39_lamb1.0E-04_decimate5.pkl\n",
      "Finished results/Ctrl_data_det_34_lamb1.0E-04_decimate5.pkl\n",
      "results/Ctrl_data_det_40_lamb1.0E-04_decimate5.pkl\n",
      "Finished results/Ctrl_data_det_36_lamb1.0E-04_decimate5.pkl\n",
      "results/Ctrl_data_det_41_lamb1.0E-04_decimate5.pkl\n",
      "Finished results/Ctrl_data_det_35_lamb1.0E-04_decimate5.pkl\n",
      "results/Ctrl_data_det_42_lamb1.0E-04_decimate5.pkl\n",
      "Finished results/Ctrl_data_det_37_lamb1.0E-04_decimate5.pkl\n",
      "results/Ctrl_data_det_43_lamb1.0E-04_decimate5.pkl\n",
      "Finished results/Ctrl_data_det_39_lamb1.0E-04_decimate5.pkl\n",
      "results/Ctrl_data_det_44_lamb1.0E-04_decimate5.pkl\n",
      "Finished results/Ctrl_data_det_38_lamb1.0E-04_decimate5.pkl\n",
      "results/Ctrl_data_det_45_lamb1.0E-04_decimate5.pkl\n",
      "Finished results/Ctrl_data_det_42_lamb1.0E-04_decimate5.pkl\n",
      "results/Ctrl_data_det_46_lamb1.0E-04_decimate5.pkl\n",
      "Finished results/Ctrl_data_det_43_lamb1.0E-04_decimate5.pkl\n",
      "results/Ctrl_data_det_47_lamb1.0E-04_decimate5.pkl\n",
      "Finished results/Ctrl_data_det_45_lamb1.0E-04_decimate5.pkl\n",
      "results/Ctrl_data_det_48_lamb1.0E-04_decimate5.pkl\n",
      "Finished results/Ctrl_data_det_40_lamb1.0E-04_decimate5.pkl\n",
      "results/Ctrl_data_det_49_lamb1.0E-04_decimate5.pkl\n",
      "Finished results/Ctrl_data_det_44_lamb1.0E-04_decimate5.pkl\n",
      "results/Ctrl_data_det_50_lamb1.0E-04_decimate5.pkl\n",
      "Finished results/Ctrl_data_det_46_lamb1.0E-04_decimate5.pkl\n",
      "results/Ctrl_data_det_51_lamb1.0E-04_decimate5.pkl\n",
      "Finished results/Ctrl_data_det_47_lamb1.0E-04_decimate5.pkl\n",
      "results/Ctrl_data_det_52_lamb1.0E-04_decimate5.pkl\n",
      "Finished results/Ctrl_data_det_48_lamb1.0E-04_decimate5.pkl\n",
      "results/Ctrl_data_det_53_lamb1.0E-04_decimate5.pkl\n",
      "Finished results/Ctrl_data_det_41_lamb1.0E-04_decimate5.pkl\n",
      "results/Ctrl_data_det_54_lamb1.0E-04_decimate5.pkl\n",
      "Finished results/Ctrl_data_det_50_lamb1.0E-04_decimate5.pkl\n",
      "results/Ctrl_data_det_55_lamb1.0E-04_decimate5.pkl\n",
      "Finished results/Ctrl_data_det_49_lamb1.0E-04_decimate5.pkl\n",
      "results/Ctrl_data_det_56_lamb1.0E-04_decimate5.pkl\n",
      "Finished results/Ctrl_data_det_51_lamb1.0E-04_decimate5.pkl\n",
      "results/Ctrl_data_det_57_lamb1.0E-04_decimate5.pkl\n",
      "Finished results/Ctrl_data_det_55_lamb1.0E-04_decimate5.pkl\n",
      "results/Ctrl_data_det_58_lamb1.0E-04_decimate5.pkl\n",
      "Finished results/Ctrl_data_det_54_lamb1.0E-04_decimate5.pkl\n",
      "results/Ctrl_data_det_59_lamb1.0E-04_decimate5.pkl\n",
      "Finished results/Ctrl_data_det_56_lamb1.0E-04_decimate5.pkl\n",
      "results/Ctrl_data_det_60_lamb1.0E-04_decimate5.pkl\n",
      "Finished results/Ctrl_data_det_53_lamb1.0E-04_decimate5.pkl\n",
      "results/Ctrl_data_det_61_lamb1.0E-04_decimate5.pkl\n",
      "Finished results/Ctrl_data_det_60_lamb1.0E-04_decimate5.pkl\n",
      "results/Ctrl_data_det_62_lamb1.0E-04_decimate5.pkl\n",
      "Finished results/Ctrl_data_det_58_lamb1.0E-04_decimate5.pkl\n",
      "results/Ctrl_data_det_63_lamb1.0E-04_decimate5.pkl\n",
      "Finished results/Ctrl_data_det_61_lamb1.0E-04_decimate5.pkl\n",
      "results/Ctrl_data_det_64_lamb1.0E-04_decimate5.pkl\n",
      "Finished results/Ctrl_data_det_59_lamb1.0E-04_decimate5.pkl\n",
      "results/Ctrl_data_det_65_lamb1.0E-04_decimate5.pkl\n",
      "Finished results/Ctrl_data_det_52_lamb1.0E-04_decimate5.pkl\n",
      "results/Ctrl_data_det_66_lamb1.0E-04_decimate5.pkl\n",
      "Finished results/Ctrl_data_det_63_lamb1.0E-04_decimate5.pkl\n",
      "results/Ctrl_data_det_67_lamb1.0E-04_decimate5.pkl\n",
      "Finished results/Ctrl_data_det_62_lamb1.0E-04_decimate5.pkl\n",
      "results/Ctrl_data_det_68_lamb1.0E-04_decimate5.pkl\n",
      "Finished results/Ctrl_data_det_65_lamb1.0E-04_decimate5.pkl\n",
      "results/Ctrl_data_det_69_lamb1.0E-04_decimate5.pkl\n",
      "Finished results/Ctrl_data_det_66_lamb1.0E-04_decimate5.pkl\n",
      "results/Ctrl_data_det_70_lamb1.0E-04_decimate5.pkl\n",
      "Finished results/Ctrl_data_det_57_lamb1.0E-04_decimate5.pkl\n",
      "results/Ctrl_data_det_71_lamb1.0E-04_decimate5.pkl\n",
      "Finished results/Ctrl_data_det_69_lamb1.0E-04_decimate5.pkl\n",
      "results/Ctrl_data_det_72_lamb1.0E-04_decimate5.pkl\n",
      "Finished results/Ctrl_data_det_67_lamb1.0E-04_decimate5.pkl\n",
      "results/Ctrl_data_det_73_lamb1.0E-04_decimate5.pkl\n",
      "Finished results/Ctrl_data_det_68_lamb1.0E-04_decimate5.pkl\n",
      "results/Ctrl_data_det_74_lamb1.0E-04_decimate5.pkl\n",
      "Finished results/Ctrl_data_det_72_lamb1.0E-04_decimate5.pkl\n",
      "results/Ctrl_data_det_75_lamb1.0E-04_decimate5.pkl\n",
      "Finished results/Ctrl_data_det_70_lamb1.0E-04_decimate5.pkl\n",
      "results/Ctrl_data_det_76_lamb1.0E-04_decimate5.pkl\n",
      "Finished results/Ctrl_data_det_71_lamb1.0E-04_decimate5.pkl\n"
     ]
    },
    {
     "name": "stdout",
     "output_type": "stream",
     "text": [
      "results/Ctrl_data_det_77_lamb1.0E-04_decimate5.pkl\n",
      "Finished results/Ctrl_data_det_74_lamb1.0E-04_decimate5.pkl\n",
      "results/Ctrl_data_det_78_lamb1.0E-04_decimate5.pkl\n",
      "Finished results/Ctrl_data_det_77_lamb1.0E-04_decimate5.pkl\n",
      "results/Ctrl_data_det_79_lamb1.0E-04_decimate5.pkl\n",
      "Finished results/Ctrl_data_det_75_lamb1.0E-04_decimate5.pkl\n",
      "results/Ctrl_data_det_80_lamb1.0E-04_decimate5.pkl\n",
      "Finished results/Ctrl_data_det_73_lamb1.0E-04_decimate5.pkl\n",
      "results/Ctrl_data_det_81_lamb1.0E-04_decimate5.pkl\n",
      "Finished results/Ctrl_data_det_76_lamb1.0E-04_decimate5.pkl\n",
      "results/Ctrl_data_det_82_lamb1.0E-04_decimate5.pkl\n",
      "Finished results/Ctrl_data_det_64_lamb1.0E-04_decimate5.pkl\n",
      "results/Ctrl_data_det_83_lamb1.0E-04_decimate5.pkl\n",
      "Finished results/Ctrl_data_det_78_lamb1.0E-04_decimate5.pkl\n",
      "results/Ctrl_data_det_84_lamb1.0E-04_decimate5.pkl\n",
      "Finished results/Ctrl_data_det_81_lamb1.0E-04_decimate5.pkl\n",
      "results/Ctrl_data_det_85_lamb1.0E-04_decimate5.pkl\n",
      "Finished results/Ctrl_data_det_80_lamb1.0E-04_decimate5.pkl\n",
      "results/Ctrl_data_det_86_lamb1.0E-04_decimate5.pkl\n",
      "Finished results/Ctrl_data_det_79_lamb1.0E-04_decimate5.pkl\n",
      "results/Ctrl_data_det_87_lamb1.0E-04_decimate5.pkl\n",
      "Finished results/Ctrl_data_det_82_lamb1.0E-04_decimate5.pkl\n",
      "results/Ctrl_data_det_88_lamb1.0E-04_decimate5.pkl\n",
      "Finished results/Ctrl_data_det_84_lamb1.0E-04_decimate5.pkl\n",
      "results/Ctrl_data_det_89_lamb1.0E-04_decimate5.pkl\n",
      "Finished results/Ctrl_data_det_83_lamb1.0E-04_decimate5.pkl\n",
      "results/Ctrl_data_det_90_lamb1.0E-04_decimate5.pkl\n",
      "Finished results/Ctrl_data_det_85_lamb1.0E-04_decimate5.pkl\n",
      "results/Ctrl_data_det_91_lamb1.0E-04_decimate5.pkl\n",
      "Finished results/Ctrl_data_det_89_lamb1.0E-04_decimate5.pkl\n",
      "Finished results/Ctrl_data_det_86_lamb1.0E-04_decimate5.pkl\n",
      "Finished results/Ctrl_data_det_88_lamb1.0E-04_decimate5.pkl\n",
      "Finished results/Ctrl_data_det_90_lamb1.0E-04_decimate5.pkl\n",
      "Finished results/Ctrl_data_det_87_lamb1.0E-04_decimate5.pkl\n",
      "Finished results/Ctrl_data_det_91_lamb1.0E-04_decimate5.pkl\n"
     ]
    }
   ],
   "source": [
    "### Let me run with multiprocess\n",
    "def runFn(path):\n",
    "    print(path)\n",
    "    with open(path, \"rb\") as f:\n",
    "        detObj = pickle.load(f)\n",
    "    res = dynDMDfs(detObj.Xmat)\n",
    "    print(f\"Finished {path}\")\n",
    "    return res\n",
    "\n",
    "if __name__ == \"__main__\":\n",
    "    with mp.Pool(6) as pool:\n",
    "        res_proc = []\n",
    "        for path in CtrldetsPs[:]:\n",
    "            res_proc.append(pool.apply_async(runFn, [path,]))\n",
    "        res = [ix.get() for ix in res_proc] # to retrieve the results\n",
    "    pool.join() # better to add this. \n",
    "    \n",
    "\n",
    "    res_Ctrl = [res[ix] for ix in range(len(res)) if kpCtrl[ix]==1]\n",
    "    filName = f\"Ctrl_data_dynDMD_withgraph.pkl\"\n",
    "    with open(resDir/filName, \"wb\") as f:\n",
    "        pickle.dump(res_Ctrl, f)"
   ]
  },
  {
   "cell_type": "code",
   "execution_count": null,
   "metadata": {},
   "outputs": [],
   "source": []
  },
  {
   "cell_type": "markdown",
   "metadata": {},
   "source": [
    "#### Static DMD and ND(TV)"
   ]
  },
  {
   "cell_type": "code",
   "execution_count": 18,
   "metadata": {
    "ExecuteTime": {
     "end_time": "2022-10-10T20:47:21.494568Z",
     "start_time": "2022-10-10T20:12:14.327613Z"
    }
   },
   "outputs": [
    {
     "name": "stderr",
     "output_type": "stream",
     "text": [
      "100%|██████████| 88/88 [35:07<00:00, 23.94s/it]\n"
     ]
    }
   ],
   "source": [
    "ADNWsDMD = []\n",
    "ADNWsTV = []\n",
    "for ADdetP, kpIx in zip(tqdm(ADdetsPs), kpAD):\n",
    "    if kpIx == 1:\n",
    "        with open(ADdetP, \"rb\") as f:\n",
    "            detObj = pickle.load(f)\n",
    "        \n",
    "        NWDMD = edict()\n",
    "        NWTV = edict()\n",
    "        \n",
    "        nYmat = detObj.Xmat\n",
    "        curY, curX = nYmat[:, 1:], nYmat[:, :-1]\n",
    "        AmatDMD = statAmat(curY, curX)\n",
    "        conMatDMD = obt_absFC(AmatDMD)\n",
    "        NWDMD.Amat = AmatDMD\n",
    "        NWDMD.stdAmat = conMatDMD\n",
    "        NWDMD.ms = NetMeasureFn(conMatDMD)\n",
    "        ADNWsDMD.append(NWDMD)\n",
    "        \n",
    "        curY, curX = detObj.dXmat, detObj.Xmat\n",
    "        AmatTV = statAmat(curY, curX)\n",
    "        conMatTV = obt_absFC(AmatTV)\n",
    "        NWTV.Amat = AmatTV\n",
    "        NWTV.stdAmat = conMatTV\n",
    "        NWTV.ms = NetMeasureFn(conMatTV)\n",
    "        ADNWsTV.append(NWTV)\n",
    "    \n",
    "filName = f\"AD_data_NWM_TV.pkl\"\n",
    "with open(resDir/filName, \"wb\") as f:\n",
    "    pickle.dump(ADNWsTV, f)\n",
    "filName = f\"AD_data_NWM_DMD.pkl\"\n",
    "with open(resDir/filName, \"wb\") as f:\n",
    "    pickle.dump(ADNWsDMD, f)"
   ]
  },
  {
   "cell_type": "code",
   "execution_count": 19,
   "metadata": {
    "ExecuteTime": {
     "end_time": "2022-10-10T21:22:47.751632Z",
     "start_time": "2022-10-10T20:47:21.496145Z"
    }
   },
   "outputs": [
    {
     "name": "stderr",
     "output_type": "stream",
     "text": [
      "100%|██████████| 92/92 [35:26<00:00, 23.11s/it]\n"
     ]
    }
   ],
   "source": [
    "CtrlNWsDMD = []\n",
    "CtrlNWsTV = []\n",
    "for CtrldetP, kpIx in zip(tqdm(CtrldetsPs), kpCtrl):\n",
    "    if kpIx == 1:\n",
    "        with open(CtrldetP, \"rb\") as f:\n",
    "            detObj = pickle.load(f)\n",
    "        \n",
    "        NWDMD = edict()\n",
    "        NWTV = edict()\n",
    "        \n",
    "        nYmat = detObj.Xmat\n",
    "        curY, curX = nYmat[:, 1:], nYmat[:, :-1]\n",
    "        AmatDMD = statAmat(curY, curX)\n",
    "        conMatDMD = obt_absFC(AmatDMD)\n",
    "        NWDMD.Amat = AmatDMD\n",
    "        NWDMD.stdAmat = conMatDMD\n",
    "        NWDMD.ms = NetMeasureFn(conMatDMD)\n",
    "        CtrlNWsDMD.append(NWDMD)\n",
    "        \n",
    "        curY, curX = detObj.dXmat, detObj.Xmat\n",
    "        AmatTV = statAmat(curY, curX)\n",
    "        conMatTV = obt_absFC(AmatTV)\n",
    "        NWTV.Amat = AmatTV\n",
    "        NWTV.stdAmat = conMatTV\n",
    "        NWTV.ms = NetMeasureFn(conMatTV)\n",
    "        CtrlNWsTV.append(NWTV)\n",
    "    \n",
    "filName = f\"Ctrl_data_NWM_TV.pkl\"\n",
    "with open(resDir/filName, \"wb\") as f:\n",
    "    pickle.dump(CtrlNWsTV, f)\n",
    "filName = f\"Ctrl_data_NWM_DMD.pkl\"\n",
    "with open(resDir/filName, \"wb\") as f:\n",
    "    pickle.dump(CtrlNWsDMD, f)"
   ]
  },
  {
   "cell_type": "markdown",
   "metadata": {},
   "source": [
    "### DMD"
   ]
  },
  {
   "cell_type": "code",
   "execution_count": 25,
   "metadata": {
    "ExecuteTime": {
     "end_time": "2022-10-10T21:38:50.168019Z",
     "start_time": "2022-10-10T21:38:50.023227Z"
    }
   },
   "outputs": [],
   "source": [
    "filName = f\"Ctrl_data_NWM_DMD.pkl\"\n",
    "with open(resDir/filName, \"rb\") as f:\n",
    "    CtrlDMD = pickle.load(f)\n",
    "filName = f\"AD_data_NWM_DMD.pkl\"\n",
    "with open(resDir/filName, \"rb\") as f:\n",
    "    ADDMD = pickle.load(f)"
   ]
  },
  {
   "cell_type": "code",
   "execution_count": 26,
   "metadata": {
    "ExecuteTime": {
     "end_time": "2022-10-10T21:38:51.277537Z",
     "start_time": "2022-10-10T21:38:51.003643Z"
    }
   },
   "outputs": [],
   "source": [
    "fsAll = []\n",
    "for v in ADDMD:\n",
    "    fs = edict()\n",
    "    fs.tC = v[\"ms\"][0]\n",
    "    fs.tL = v[\"ms\"][1]\n",
    "    fs.tQ = v[\"ms\"][2]\n",
    "    fs.C = v[\"ms\"][3]\n",
    "    fs.L = v[\"ms\"][4]\n",
    "    fs.Q = v[\"ms\"][5]\n",
    "    fs.wU, fs.r, eigVal = wUFn(v[\"Amat\"])\n",
    "    fs.absEigValMean = np.abs(eigVal).mean()\n",
    "    fsAll.append(fs)\n",
    "fsAD = fsAll"
   ]
  },
  {
   "cell_type": "code",
   "execution_count": 27,
   "metadata": {
    "ExecuteTime": {
     "end_time": "2022-10-10T21:38:52.541231Z",
     "start_time": "2022-10-10T21:38:52.241488Z"
    }
   },
   "outputs": [],
   "source": [
    "fsAll = []\n",
    "for v in CtrlDMD:\n",
    "    fs = edict()\n",
    "    fs.tC = v[\"ms\"][0]\n",
    "    fs.tL = v[\"ms\"][1]\n",
    "    fs.tQ = v[\"ms\"][2]\n",
    "    fs.C = v[\"ms\"][3]\n",
    "    fs.L = v[\"ms\"][4]\n",
    "    fs.Q = v[\"ms\"][5]\n",
    "    fs.wU, fs.r, eigVal = wUFn(v[\"Amat\"])\n",
    "    fs.absEigValMean = np.abs(eigVal).mean()\n",
    "    fsAll.append(fs)\n",
    "fsCtrl = fsAll"
   ]
  },
  {
   "cell_type": "code",
   "execution_count": null,
   "metadata": {},
   "outputs": [],
   "source": [
    "nDis = 10\n",
    "mwUAD = np.array([fs.wU for fs in fsAD]).mean(axis=0)\n",
    "mwUCtrl = np.array([fs.wU for fs in fsCtrl]).mean(axis=0)\n",
    "disMwUAD = discretVec(mwUAD, np.linspace(0, 1, nDis+1))\n",
    "disMwUCtrl  = discretVec(mwUCtrl, np.linspace(0, 1, nDis+1))\n",
    "mFAD = minmax(mwUAD)\n",
    "mFCtrl = minmax(mwUCtrl)\n",
    "outAD = U2BrainVec(reorderU(mFAD))\n",
    "outCtrl = U2BrainVec(reorderU(mFCtrl))\n",
    "np.savetxt(f\"./brainPlotFils/DMDwUmeanAD_{nDis}.txt\", outAD)\n",
    "np.savetxt(f\"./brainPlotFils/DMDwUmeanCtrl_{nDis}.txt\", outCtrl)"
   ]
  },
  {
   "cell_type": "code",
   "execution_count": 26,
   "metadata": {},
   "outputs": [],
   "source": [
    "Ys = np.concatenate([np.ones(len(fsAD)), np.zeros(len(fsCtrl))])\n",
    "fsName = [\"r\", \"absEigValMean\", \"wU\"]\n",
    "XsAD = []\n",
    "XsCtrl = []\n",
    "for fName in fsName:\n",
    "    if isinstance(fsAD[0][fName], numbers.Number):\n",
    "        cfAD = np.array([fs[fName] for fs in fsAD]).reshape(-1, 1)\n",
    "        cfCtrl = np.array([fs[fName] for fs in fsCtrl]).reshape(-1, 1)\n",
    "    else:\n",
    "        cfAD = np.array([fs[fName] for fs in fsAD])\n",
    "        cfCtrl = np.array([fs[fName] for fs in fsCtrl])\n",
    "    \n",
    "    XsAD.append(cfAD)\n",
    "    XsCtrl.append(cfCtrl)\n",
    "XsAD = np.concatenate(XsAD, axis=1)\n",
    "XsCtrl = np.concatenate(XsCtrl, axis=1)\n",
    "Xs = np.concatenate([XsAD, XsCtrl], axis=0)\n",
    "stdXs = (Xs - Xs.mean(axis=0))/Xs.std(axis=0)"
   ]
  },
  {
   "cell_type": "code",
   "execution_count": 28,
   "metadata": {
    "ExecuteTime": {
     "end_time": "2022-10-10T21:52:15.701537Z",
     "start_time": "2022-10-10T21:39:03.762408Z"
    }
   },
   "outputs": [
    {
     "name": "stderr",
     "output_type": "stream",
     "text": [
      "100%|██████████| 176/176 [06:13<00:00,  2.12s/it]\n",
      "100%|██████████| 10000/10000 [00:14<00:00, 682.03it/s]\n",
      "  0%|          | 0/176 [00:00<?, ?it/s]"
     ]
    },
    {
     "name": "stdout",
     "output_type": "stream",
     "text": [
      "Features are ['r', 'absEigValMean', 'wU'].\n",
      "The AUC under optimal C is 0.632.\n",
      "The mean of AUC under 1000 repetitions is 0.643 and the standard deviation is 0.080.\n",
      "----------------------------------------------------------------------------------------------------\n"
     ]
    },
    {
     "name": "stderr",
     "output_type": "stream",
     "text": [
      "100%|██████████| 176/176 [06:24<00:00,  2.19s/it]\n",
      "100%|██████████| 10000/10000 [00:14<00:00, 667.80it/s]"
     ]
    },
    {
     "name": "stdout",
     "output_type": "stream",
     "text": [
      "Features are ['r', 'absEigValMean', 'wU', 'tC', 'tL', 'tQ'].\n",
      "The AUC under optimal C is 0.640.\n",
      "The mean of AUC under 1000 repetitions is 0.647 and the standard deviation is 0.081.\n",
      "----------------------------------------------------------------------------------------------------\n"
     ]
    },
    {
     "name": "stderr",
     "output_type": "stream",
     "text": [
      "\n"
     ]
    }
   ],
   "source": [
    "penalty = \"l2\"\n",
    "fsNameSet = [[\"r\", \"absEigValMean\", \"wU\"], \n",
    "             [\"r\", \"absEigValMean\", \"wU\", \"tC\", \"tL\", \"tQ\"]\n",
    "            ]\n",
    "for fsName in fsNameSet:\n",
    "    Ys = np.concatenate([np.ones(len(fsAD)), np.zeros(len(fsCtrl))])\n",
    "    XsAD = []\n",
    "    XsCtrl = []\n",
    "    for fName in fsName:\n",
    "        if isinstance(fsAD[0][fName], numbers.Number):\n",
    "            cfAD = np.array([fs[fName] for fs in fsAD]).reshape(-1, 1)\n",
    "            cfCtrl = np.array([fs[fName] for fs in fsCtrl]).reshape(-1, 1)\n",
    "        else:\n",
    "            cfAD = np.array([fs[fName] for fs in fsAD])\n",
    "            cfCtrl = np.array([fs[fName] for fs in fsCtrl])\n",
    "        \n",
    "        XsAD.append(cfAD)\n",
    "        XsCtrl.append(cfCtrl)\n",
    "    XsAD = np.concatenate(XsAD, axis=1)\n",
    "    XsCtrl = np.concatenate(XsCtrl, axis=1)\n",
    "    Xs = np.concatenate([XsAD, XsCtrl], axis=0)\n",
    "    stdXs = (Xs - Xs.mean(axis=0))/Xs.std(axis=0)\n",
    "    \n",
    "    Cs = [0.1, 0.2, 0.4, 0.8, 1, 1.6, 3.2, 6.4]\n",
    "        \n",
    "    eProbs = []\n",
    "    loo = LeaveOneOut()\n",
    "    parass = []\n",
    "    with tqdm(total=len(Ys)) as t:\n",
    "        for trIdxs, testIdxs in loo.split(stdXs):\n",
    "            curOptC = TuningCFn(stdXs[trIdxs, :], Ys[trIdxs], Cs, penalty)[\"optC\"]\n",
    "            clf = LogisticRegression(penalty=penalty, random_state=0, C=curOptC)\n",
    "            clf.fit(stdXs[trIdxs, :], Ys[trIdxs])\n",
    "            paras = np.concatenate([clf.intercept_, clf.coef_.reshape(-1)])\n",
    "            parass.append(paras)\n",
    "            eProbs.append(clf.predict_proba(stdXs[testIdxs, :]))\n",
    "            t.update()\n",
    "    eProbs = np.array(eProbs).squeeze()\n",
    "    auc = roc_auc_score(Ys, eProbs[:, 1])\n",
    "    fpr, tpr, thresholds = roc_curve(Ys, eProbs[:, 1], pos_label=1)\n",
    "    parass = np.array(parass)\n",
    "    sfName = \"_\".join(fsName)\n",
    "    with open(resDir/f\"DMD_ROCcurve_{sfName}.pkl\", \"wb\") as f:\n",
    "        resROC = {\"fpr\":fpr, \"tpr\":tpr, \"AUC\":auc}\n",
    "        pickle.dump(resROC, f)\n",
    "    \n",
    "    \n",
    "    optC = TuningCFn(stdXs, Ys, Cs, penalty)[\"optC\"]\n",
    "    np.random.seed(0)\n",
    "    nobs = stdXs.shape[0]\n",
    "    Aucss = []\n",
    "    for j in tqdm(range(10000)):\n",
    "        testIdx = np.random.choice(nobs, int(nobs/5), False)\n",
    "        trainIdx = np.delete(np.arange(nobs), testIdx)\n",
    "        clf = LogisticRegression(penalty=penalty, random_state=0, C=optC)\n",
    "        clf.fit(stdXs[trainIdx], Ys[trainIdx])\n",
    "        curEprobs = clf.predict_proba(stdXs[testIdx, :])\n",
    "        curAuc = roc_auc_score(Ys[testIdx], curEprobs[:, 1])\n",
    "        Aucss.append(curAuc)\n",
    "    mAUC = np.mean(Aucss)\n",
    "    stdAUC = np.std(Aucss)\n",
    "    print(f\"Features are {fsName}.\")\n",
    "    print(f\"The AUC under optimal C is {auc:.3f}.\")\n",
    "    print(f\"The mean of AUC under 1000 repetitions is {mAUC:.3f} and the standard deviation is {stdAUC:.3f}.\")\n",
    "    print(\"-\"*100)"
   ]
  },
  {
   "cell_type": "markdown",
   "metadata": {},
   "source": [
    "### TV"
   ]
  },
  {
   "cell_type": "code",
   "execution_count": 29,
   "metadata": {
    "ExecuteTime": {
     "end_time": "2022-10-10T21:52:15.934234Z",
     "start_time": "2022-10-10T21:52:15.702403Z"
    }
   },
   "outputs": [],
   "source": [
    "filName = f\"Ctrl_data_NWM_TV.pkl\"\n",
    "with open(resDir/filName, \"rb\") as f:\n",
    "    CtrlTV = pickle.load(f)\n",
    "filName = f\"AD_data_NWM_TV.pkl\"\n",
    "with open(resDir/filName, \"rb\") as f:\n",
    "    ADTV = pickle.load(f)"
   ]
  },
  {
   "cell_type": "code",
   "execution_count": 30,
   "metadata": {
    "ExecuteTime": {
     "end_time": "2022-10-10T21:52:16.212086Z",
     "start_time": "2022-10-10T21:52:15.940028Z"
    }
   },
   "outputs": [],
   "source": [
    "fsAll = []\n",
    "for v in ADTV:\n",
    "    fs = edict()\n",
    "    fs.tC = v[\"ms\"][0]\n",
    "    fs.tL = v[\"ms\"][1]\n",
    "    fs.tQ = v[\"ms\"][2]\n",
    "    fs.C = v[\"ms\"][3]\n",
    "    fs.L = v[\"ms\"][4]\n",
    "    fs.Q = v[\"ms\"][5]\n",
    "    fs.wU, fs.r, eigVal = wUFn(v[\"Amat\"])\n",
    "    fs.absEigValMean = np.abs(eigVal).mean()\n",
    "    fsAll.append(fs)\n",
    "fsAD = fsAll"
   ]
  },
  {
   "cell_type": "code",
   "execution_count": 31,
   "metadata": {
    "ExecuteTime": {
     "end_time": "2022-10-10T21:52:16.502131Z",
     "start_time": "2022-10-10T21:52:16.213782Z"
    }
   },
   "outputs": [],
   "source": [
    "fsAll = []\n",
    "for v in CtrlTV:\n",
    "    fs = edict()\n",
    "    fs.tC = v[\"ms\"][0]\n",
    "    fs.tL = v[\"ms\"][1]\n",
    "    fs.tQ = v[\"ms\"][2]\n",
    "    fs.C = v[\"ms\"][3]\n",
    "    fs.L = v[\"ms\"][4]\n",
    "    fs.Q = v[\"ms\"][5]\n",
    "    fs.wU, fs.r, eigVal = wUFn(v[\"Amat\"])\n",
    "    fs.absEigValMean = np.abs(eigVal).mean()\n",
    "    fsAll.append(fs)\n",
    "fsCtrl = fsAll"
   ]
  },
  {
   "cell_type": "code",
   "execution_count": 91,
   "metadata": {},
   "outputs": [],
   "source": [
    "nDis = 8\n",
    "mwUAD = np.array([fs.wU for fs in fsAD]).mean(axis=0)\n",
    "mwUCtrl = np.array([fs.wU for fs in fsCtrl]).mean(axis=0)\n",
    "disMwUAD = discretVec(mwUAD, np.linspace(0, 1, nDis+1))\n",
    "disMwUCtrl  = discretVec(mwUCtrl, np.linspace(0, 1, nDis+1))\n",
    "mFAD = minmax(mwUAD)\n",
    "mFCtrl = minmax(mwUCtrl)\n",
    "outAD = U2BrainVec(reorderU(mFAD))\n",
    "outCtrl = U2BrainVec(reorderU(mFCtrl))\n",
    "np.savetxt(f\"./brainPlotFils/DMwUmeanAD_{nDis}.txt\", outAD)\n",
    "np.savetxt(f\"./brainPlotFils/DMwUmeanCtrl_{nDis}.txt\", outCtrl)"
   ]
  },
  {
   "cell_type": "code",
   "execution_count": 31,
   "metadata": {},
   "outputs": [],
   "source": [
    "Ys = np.concatenate([np.ones(len(fsAD)), np.zeros(len(fsCtrl))])\n",
    "fsName = [\"r\", \"absEigValMean\", \"wU\"]\n",
    "XsAD = []\n",
    "XsCtrl = []\n",
    "for fName in fsName:\n",
    "    if isinstance(fsAD[0][fName], numbers.Number):\n",
    "        cfAD = np.array([fs[fName] for fs in fsAD]).reshape(-1, 1)\n",
    "        cfCtrl = np.array([fs[fName] for fs in fsCtrl]).reshape(-1, 1)\n",
    "    else:\n",
    "        cfAD = np.array([fs[fName] for fs in fsAD])\n",
    "        cfCtrl = np.array([fs[fName] for fs in fsCtrl])\n",
    "    \n",
    "    XsAD.append(cfAD)\n",
    "    XsCtrl.append(cfCtrl)\n",
    "XsAD = np.concatenate(XsAD, axis=1)\n",
    "XsCtrl = np.concatenate(XsCtrl, axis=1)\n",
    "Xs = np.concatenate([XsAD, XsCtrl], axis=0)\n",
    "stdXs = (Xs - Xs.mean(axis=0))/Xs.std(axis=0)"
   ]
  },
  {
   "cell_type": "code",
   "execution_count": 32,
   "metadata": {
    "ExecuteTime": {
     "end_time": "2022-10-10T22:06:01.181844Z",
     "start_time": "2022-10-10T21:52:16.503886Z"
    },
    "scrolled": true
   },
   "outputs": [
    {
     "name": "stderr",
     "output_type": "stream",
     "text": [
      "100%|██████████| 176/176 [06:27<00:00,  2.20s/it]\n",
      "100%|██████████| 10000/10000 [00:15<00:00, 657.42it/s]\n",
      "  0%|          | 0/176 [00:00<?, ?it/s]"
     ]
    },
    {
     "name": "stdout",
     "output_type": "stream",
     "text": [
      "Features are ['r', 'absEigValMean', 'wU'].\n",
      "The AUC under optimal C is 0.701.\n",
      "The mean of AUC under 1000 repetitions is 0.702 and the standard deviation is 0.077.\n",
      "----------------------------------------------------------------------------------------------------\n"
     ]
    },
    {
     "name": "stderr",
     "output_type": "stream",
     "text": [
      "100%|██████████| 176/176 [06:42<00:00,  2.29s/it]\n",
      "100%|██████████| 10000/10000 [00:15<00:00, 651.15it/s]"
     ]
    },
    {
     "name": "stdout",
     "output_type": "stream",
     "text": [
      "Features are ['r', 'absEigValMean', 'wU', 'tC', 'tL', 'tQ'].\n",
      "The AUC under optimal C is 0.694.\n",
      "The mean of AUC under 1000 repetitions is 0.697 and the standard deviation is 0.078.\n",
      "----------------------------------------------------------------------------------------------------\n"
     ]
    },
    {
     "name": "stderr",
     "output_type": "stream",
     "text": [
      "\n"
     ]
    }
   ],
   "source": [
    "penalty = \"l2\"\n",
    "fsNameSet = [[\"r\", \"absEigValMean\", \"wU\"], \n",
    "             [\"r\", \"absEigValMean\", \"wU\", \"tC\", \"tL\", \"tQ\"]\n",
    "            ]\n",
    "for fsName in fsNameSet:\n",
    "    Ys = np.concatenate([np.ones(len(fsAD)), np.zeros(len(fsCtrl))])\n",
    "    XsAD = []\n",
    "    XsCtrl = []\n",
    "    for fName in fsName:\n",
    "        if isinstance(fsAD[0][fName], numbers.Number):\n",
    "            cfAD = np.array([fs[fName] for fs in fsAD]).reshape(-1, 1)\n",
    "            cfCtrl = np.array([fs[fName] for fs in fsCtrl]).reshape(-1, 1)\n",
    "        else:\n",
    "            cfAD = np.array([fs[fName] for fs in fsAD])\n",
    "            cfCtrl = np.array([fs[fName] for fs in fsCtrl])\n",
    "        \n",
    "        XsAD.append(cfAD)\n",
    "        XsCtrl.append(cfCtrl)\n",
    "    XsAD = np.concatenate(XsAD, axis=1)\n",
    "    XsCtrl = np.concatenate(XsCtrl, axis=1)\n",
    "    Xs = np.concatenate([XsAD, XsCtrl], axis=0)\n",
    "    stdXs = (Xs - Xs.mean(axis=0))/Xs.std(axis=0)\n",
    "    \n",
    "    Cs = [0.1, 0.2, 0.4, 0.8, 1, 1.6, 3.2, 6.4]\n",
    "    eProbs = []\n",
    "    loo = LeaveOneOut()\n",
    "    parass = []\n",
    "    with tqdm(total=len(Ys)) as t:\n",
    "        for trIdxs, testIdxs in loo.split(stdXs):\n",
    "            curOptC = TuningCFn(stdXs[trIdxs, :], Ys[trIdxs], Cs, penalty)[\"optC\"]\n",
    "            clf = LogisticRegression(penalty=penalty, random_state=0, C=curOptC)\n",
    "            clf.fit(stdXs[trIdxs, :], Ys[trIdxs])\n",
    "            paras = np.concatenate([clf.intercept_, clf.coef_.reshape(-1)])\n",
    "            parass.append(paras)\n",
    "            eProbs.append(clf.predict_proba(stdXs[testIdxs, :]))\n",
    "            \n",
    "            t.update()\n",
    "            \n",
    "    eProbs = np.array(eProbs).squeeze()\n",
    "    auc = roc_auc_score(Ys, eProbs[:, 1])\n",
    "    fpr, tpr, thresholds = roc_curve(Ys, eProbs[:, 1], pos_label=1)\n",
    "    parass = np.array(parass)\n",
    "    sfName = \"_\".join(fsName)\n",
    "    with open(resDir/f\"TV_ROCcurve_{sfName}.pkl\", \"wb\") as f:\n",
    "        resROC = {\"fpr\":fpr, \"tpr\":tpr, \"AUC\":auc}\n",
    "        pickle.dump(resROC, f)\n",
    "    \n",
    "    \n",
    "    optC = TuningCFn(stdXs, Ys, Cs, penalty)[\"optC\"]\n",
    "    np.random.seed(0)\n",
    "    nobs = stdXs.shape[0]\n",
    "    Aucss = []\n",
    "    for j in tqdm(range(10000)):\n",
    "        testIdx = np.random.choice(nobs, int(nobs/5), False)\n",
    "        trainIdx = np.delete(np.arange(nobs), testIdx)\n",
    "        clf = LogisticRegression(penalty=penalty, random_state=0, C=optC)\n",
    "        clf.fit(stdXs[trainIdx], Ys[trainIdx])\n",
    "        curEprobs = clf.predict_proba(stdXs[testIdx, :])\n",
    "        curAuc = roc_auc_score(Ys[testIdx], curEprobs[:, 1])\n",
    "        Aucss.append(curAuc)\n",
    "    mAUC = np.mean(Aucss)\n",
    "    stdAUC = np.std(Aucss)\n",
    "    print(f\"Features are {fsName}.\")\n",
    "    print(f\"The AUC under optimal C is {auc:.3f}.\")\n",
    "    print(f\"The mean of AUC under 1000 repetitions is {mAUC:.3f} and the standard deviation is {stdAUC:.3f}.\")\n",
    "    print(\"-\"*100)"
   ]
  },
  {
   "cell_type": "markdown",
   "metadata": {},
   "source": [
    "### Dynamic DMD"
   ]
  },
  {
   "cell_type": "code",
   "execution_count": 37,
   "metadata": {
    "ExecuteTime": {
     "end_time": "2022-10-16T02:53:35.334988Z",
     "start_time": "2022-10-16T02:53:35.292267Z"
    }
   },
   "outputs": [],
   "source": [
    "filName = f\"AD_data_dynDMD.pkl\"\n",
    "with open(resDir/filName, \"rb\") as f:\n",
    "    fsAD = pickle.load(f)\n",
    "    \n",
    "filName = f\"Ctrl_data_dynDMD.pkl\"\n",
    "with open(resDir/filName, \"rb\") as f:\n",
    "    fsCtrl = pickle.load(f)"
   ]
  },
  {
   "cell_type": "code",
   "execution_count": 44,
   "metadata": {
    "ExecuteTime": {
     "end_time": "2022-10-16T02:54:48.386735Z",
     "start_time": "2022-10-16T02:54:48.381151Z"
    }
   },
   "outputs": [
    {
     "data": {
      "text/plain": [
       "46.85227272727273"
      ]
     },
     "execution_count": 44,
     "metadata": {},
     "output_type": "execute_result"
    }
   ],
   "source": [
    "np.mean([fs[\"ncpts\"] for fs in fsCtrl])"
   ]
  },
  {
   "cell_type": "code",
   "execution_count": 22,
   "metadata": {},
   "outputs": [
    {
     "name": "stderr",
     "output_type": "stream",
     "text": [
      "100%|██████████| 176/176 [06:38<00:00,  2.27s/it]\n",
      "100%|██████████| 10000/10000 [00:15<00:00, 631.79it/s]"
     ]
    },
    {
     "name": "stdout",
     "output_type": "stream",
     "text": [
      "Features are ['r', 'ncpts', 'absEigValMean', 'wUmeanAll'].\n",
      "The AUC under optimal C is 0.616.\n",
      "The mean of AUC under 1000 repetitions is 0.666 and the standard deviation is 0.082.\n",
      "----------------------------------------------------------------------------------------------------\n"
     ]
    },
    {
     "name": "stderr",
     "output_type": "stream",
     "text": [
      "\n"
     ]
    }
   ],
   "source": [
    "penalty = \"l2\"\n",
    "fsNameSet = [[\"r\", \"ncpts\", \"absEigValMean\", \"wUmeanAll\"]\n",
    "            ]\n",
    "for fsName in fsNameSet:\n",
    "    Ys = np.concatenate([np.ones(len(fsAD)), np.zeros(len(fsCtrl))])\n",
    "    XsAD = []\n",
    "    XsCtrl = []\n",
    "    for fName in fsName:\n",
    "        if isinstance(fsAD[0][fName], numbers.Number):\n",
    "            cfAD = np.array([fs[fName] for fs in fsAD]).reshape(-1, 1)\n",
    "            cfCtrl = np.array([fs[fName] for fs in fsCtrl]).reshape(-1, 1)\n",
    "        else:\n",
    "            cfAD = np.array([fs[fName] for fs in fsAD])\n",
    "            cfCtrl = np.array([fs[fName] for fs in fsCtrl])\n",
    "        \n",
    "        XsAD.append(cfAD)\n",
    "        XsCtrl.append(cfCtrl)\n",
    "    XsAD = np.concatenate(XsAD, axis=1)\n",
    "    XsCtrl = np.concatenate(XsCtrl, axis=1)\n",
    "    Xs = np.concatenate([XsAD, XsCtrl], axis=0)\n",
    "    stdXs = (Xs - Xs.mean(axis=0))/Xs.std(axis=0)\n",
    "    \n",
    "    Cs = [0.1, 0.2, 0.4, 0.8, 1, 1.6, 3.2, 6.4]\n",
    "    eProbs = []\n",
    "    loo = LeaveOneOut()\n",
    "    parass = []\n",
    "    with tqdm(total=len(Ys)) as t:\n",
    "        for trIdxs, testIdxs in loo.split(stdXs):\n",
    "            curOptC = TuningCFn(stdXs[trIdxs, :], Ys[trIdxs], Cs, penalty)[\"optC\"]\n",
    "            clf = LogisticRegression(penalty=penalty, random_state=0, C=curOptC)\n",
    "            clf.fit(stdXs[trIdxs, :], Ys[trIdxs])\n",
    "            paras = np.concatenate([clf.intercept_, clf.coef_.reshape(-1)])\n",
    "            parass.append(paras)\n",
    "            eProbs.append(clf.predict_proba(stdXs[testIdxs, :]))\n",
    "            \n",
    "            t.update()\n",
    "            \n",
    "    eProbs = np.array(eProbs).squeeze()\n",
    "    auc = roc_auc_score(Ys, eProbs[:, 1])\n",
    "    fpr, tpr, thresholds = roc_curve(Ys, eProbs[:, 1], pos_label=1)\n",
    "    parass = np.array(parass)\n",
    "    sfName = \"_\".join(fsName)\n",
    "    with open(resDir/f\"dynDMD_ROCcurve_{sfName}.pkl\", \"wb\") as f:\n",
    "        resROC = {\"fpr\":fpr, \"tpr\":tpr, \"AUC\":auc}\n",
    "        pickle.dump(resROC, f)\n",
    "    \n",
    "    optC = TuningCFn(stdXs, Ys, Cs, penalty)[\"optC\"]\n",
    "    np.random.seed(0)\n",
    "    nobs = stdXs.shape[0]\n",
    "    Aucss = []\n",
    "    for j in tqdm(range(10000)):\n",
    "        testIdx = np.random.choice(nobs, int(nobs/5), False)\n",
    "        trainIdx = np.delete(np.arange(nobs), testIdx)\n",
    "        clf = LogisticRegression(penalty=penalty, random_state=0, C=optC)\n",
    "        clf.fit(stdXs[trainIdx], Ys[trainIdx])\n",
    "        curEprobs = clf.predict_proba(stdXs[testIdx, :])\n",
    "        curAuc = roc_auc_score(Ys[testIdx], curEprobs[:, 1])\n",
    "        Aucss.append(curAuc)\n",
    "    mAUC = np.mean(Aucss)\n",
    "    stdAUC = np.std(Aucss)\n",
    "    print(f\"Features are {fsName}.\")\n",
    "    print(f\"The AUC under optimal C is {auc:.3f}.\")\n",
    "    print(f\"The mean of AUC under 1000 repetitions is {mAUC:.3f} and the standard deviation is {stdAUC:.3f}.\")\n",
    "    print(\"-\"*100)"
   ]
  },
  {
   "cell_type": "code",
   "execution_count": null,
   "metadata": {},
   "outputs": [],
   "source": []
  }
 ],
 "metadata": {
  "kernelspec": {
   "display_name": "Python 3",
   "language": "python",
   "name": "python3"
  },
  "language_info": {
   "codemirror_mode": {
    "name": "ipython",
    "version": 3
   },
   "file_extension": ".py",
   "mimetype": "text/x-python",
   "name": "python",
   "nbconvert_exporter": "python",
   "pygments_lexer": "ipython3",
   "version": "3.7.4"
  },
  "toc": {
   "base_numbering": 1,
   "nav_menu": {},
   "number_sections": true,
   "sideBar": true,
   "skip_h1_title": false,
   "title_cell": "Table of Contents",
   "title_sidebar": "Contents",
   "toc_cell": false,
   "toc_position": {},
   "toc_section_display": true,
   "toc_window_display": true
  }
 },
 "nbformat": 4,
 "nbformat_minor": 2
}
