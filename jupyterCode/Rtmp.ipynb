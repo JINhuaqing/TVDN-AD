{
 "cells": [
  {
   "cell_type": "code",
   "execution_count": 2,
   "metadata": {},
   "outputs": [],
   "source": [
    "setwd(\"../results/\")"
   ]
  },
  {
   "cell_type": "code",
   "execution_count": 6,
   "metadata": {},
   "outputs": [],
   "source": [
    "dat <- read.csv(\"subtype_dwell_cluNoOrder.csv\")"
   ]
  },
  {
   "cell_type": "code",
   "execution_count": 11,
   "metadata": {},
   "outputs": [],
   "source": [
    "subtype <- \"AD-PCA\"\n",
    "subDat1 <- dat[(dat$Group==\"AD-PCA\") & (dat$elabs==1), ]\n",
    "subDat2 <- dat[(dat$Group==\"Control\") & (dat$elabs==1), ]"
   ]
  },
  {
   "cell_type": "code",
   "execution_count": 13,
   "metadata": {},
   "outputs": [
    {
     "data": {
      "text/html": [
       "<style>\n",
       ".list-inline {list-style: none; margin:0; padding: 0}\n",
       ".list-inline>li {display: inline-block}\n",
       ".list-inline>li:not(:last-child)::after {content: \"\\00b7\"; padding: 0 .5ex}\n",
       "</style>\n",
       "<ol class=list-inline><li>39.4083333333333</li><li>11.175</li><li>9.41666666666666</li><li>60</li><li>60</li><li>6.49166666666667</li><li>5.875</li><li>5.3</li><li>4.09166666666666</li><li>8.23333333333333</li><li>3.825</li><li>9.11666666666666</li><li>10.2833333333333</li><li>4.7</li><li>7.01666666666667</li><li>3.83333333333334</li><li>9.10833333333333</li><li>6.475</li><li>7.05833333333333</li><li>26.7583333333333</li><li>3.78333333333333</li><li>4.99166666666667</li><li>14.7333333333333</li><li>12.05</li><li>6.47499999999999</li><li>6.18333333333333</li><li>6.78333333333333</li><li>25.0083333333333</li><li>3.225</li><li>5.59166666666667</li><li>14.725</li><li>9.4</li><li>23.225</li><li>5.54166666666666</li><li>4.95833333333334</li><li>30.8666666666667</li><li>56.4916666666667</li><li>4.125</li><li>7.35833333333333</li><li>4.99166666666667</li><li>4.40833333333333</li><li>5</li><li>60</li><li>12.925</li><li>47.075</li><li>47.375</li><li>12.625</li><li>18.825</li><li>5.3</li><li>17.375</li><li>53.8333333333333</li><li>2.18333333333333</li><li>11.1666666666667</li><li>5.88333333333333</li><li>2.05</li><li>4.69166666666667</li><li>28.8416666666667</li><li>35</li><li>24.4583333333333</li><li>60</li><li>56.65</li><li>30.0083333333333</li><li>19.7</li><li>14.1083333333333</li><li>7.35833333333333</li><li>9.7</li><li>5.29166666666667</li><li>23.5416666666667</li><li>55.6</li><li>12.95</li><li>55.5833333333333</li><li>34.1083333333333</li><li>7.65</li><li>3.53333333333333</li><li>3.46666666666667</li><li>7.35833333333333</li><li>9.40833333333333</li><li>8.53333333333333</li><li>8.825</li><li>7.65</li><li>6.18333333333333</li><li>10.0166666666667</li><li>18.8333333333333</li><li>17.1</li><li>10.2833333333333</li><li>17.9333333333333</li><li>42.0666666666667</li><li>12.6583333333333</li><li>4.95</li><li>5.60833333333333</li><li>30</li><li>60</li><li>19.1</li><li>17.6</li><li>9.7</li><li>3.825</li><li>7.35833333333333</li><li>35</li><li>28.2333333333333</li><li>26.175</li><li>60</li><li>11.7333333333333</li><li>4.04166666666666</li><li>6.49166666666666</li><li>4.11666666666667</li><li>18.8</li></ol>\n"
      ],
      "text/latex": [
       "\\begin{enumerate*}\n",
       "\\item 39.4083333333333\n",
       "\\item 11.175\n",
       "\\item 9.41666666666666\n",
       "\\item 60\n",
       "\\item 60\n",
       "\\item 6.49166666666667\n",
       "\\item 5.875\n",
       "\\item 5.3\n",
       "\\item 4.09166666666666\n",
       "\\item 8.23333333333333\n",
       "\\item 3.825\n",
       "\\item 9.11666666666666\n",
       "\\item 10.2833333333333\n",
       "\\item 4.7\n",
       "\\item 7.01666666666667\n",
       "\\item 3.83333333333334\n",
       "\\item 9.10833333333333\n",
       "\\item 6.475\n",
       "\\item 7.05833333333333\n",
       "\\item 26.7583333333333\n",
       "\\item 3.78333333333333\n",
       "\\item 4.99166666666667\n",
       "\\item 14.7333333333333\n",
       "\\item 12.05\n",
       "\\item 6.47499999999999\n",
       "\\item 6.18333333333333\n",
       "\\item 6.78333333333333\n",
       "\\item 25.0083333333333\n",
       "\\item 3.225\n",
       "\\item 5.59166666666667\n",
       "\\item 14.725\n",
       "\\item 9.4\n",
       "\\item 23.225\n",
       "\\item 5.54166666666666\n",
       "\\item 4.95833333333334\n",
       "\\item 30.8666666666667\n",
       "\\item 56.4916666666667\n",
       "\\item 4.125\n",
       "\\item 7.35833333333333\n",
       "\\item 4.99166666666667\n",
       "\\item 4.40833333333333\n",
       "\\item 5\n",
       "\\item 60\n",
       "\\item 12.925\n",
       "\\item 47.075\n",
       "\\item 47.375\n",
       "\\item 12.625\n",
       "\\item 18.825\n",
       "\\item 5.3\n",
       "\\item 17.375\n",
       "\\item 53.8333333333333\n",
       "\\item 2.18333333333333\n",
       "\\item 11.1666666666667\n",
       "\\item 5.88333333333333\n",
       "\\item 2.05\n",
       "\\item 4.69166666666667\n",
       "\\item 28.8416666666667\n",
       "\\item 35\n",
       "\\item 24.4583333333333\n",
       "\\item 60\n",
       "\\item 56.65\n",
       "\\item 30.0083333333333\n",
       "\\item 19.7\n",
       "\\item 14.1083333333333\n",
       "\\item 7.35833333333333\n",
       "\\item 9.7\n",
       "\\item 5.29166666666667\n",
       "\\item 23.5416666666667\n",
       "\\item 55.6\n",
       "\\item 12.95\n",
       "\\item 55.5833333333333\n",
       "\\item 34.1083333333333\n",
       "\\item 7.65\n",
       "\\item 3.53333333333333\n",
       "\\item 3.46666666666667\n",
       "\\item 7.35833333333333\n",
       "\\item 9.40833333333333\n",
       "\\item 8.53333333333333\n",
       "\\item 8.825\n",
       "\\item 7.65\n",
       "\\item 6.18333333333333\n",
       "\\item 10.0166666666667\n",
       "\\item 18.8333333333333\n",
       "\\item 17.1\n",
       "\\item 10.2833333333333\n",
       "\\item 17.9333333333333\n",
       "\\item 42.0666666666667\n",
       "\\item 12.6583333333333\n",
       "\\item 4.95\n",
       "\\item 5.60833333333333\n",
       "\\item 30\n",
       "\\item 60\n",
       "\\item 19.1\n",
       "\\item 17.6\n",
       "\\item 9.7\n",
       "\\item 3.825\n",
       "\\item 7.35833333333333\n",
       "\\item 35\n",
       "\\item 28.2333333333333\n",
       "\\item 26.175\n",
       "\\item 60\n",
       "\\item 11.7333333333333\n",
       "\\item 4.04166666666666\n",
       "\\item 6.49166666666666\n",
       "\\item 4.11666666666667\n",
       "\\item 18.8\n",
       "\\end{enumerate*}\n"
      ],
      "text/markdown": [
       "1. 39.4083333333333\n",
       "2. 11.175\n",
       "3. 9.41666666666666\n",
       "4. 60\n",
       "5. 60\n",
       "6. 6.49166666666667\n",
       "7. 5.875\n",
       "8. 5.3\n",
       "9. 4.09166666666666\n",
       "10. 8.23333333333333\n",
       "11. 3.825\n",
       "12. 9.11666666666666\n",
       "13. 10.2833333333333\n",
       "14. 4.7\n",
       "15. 7.01666666666667\n",
       "16. 3.83333333333334\n",
       "17. 9.10833333333333\n",
       "18. 6.475\n",
       "19. 7.05833333333333\n",
       "20. 26.7583333333333\n",
       "21. 3.78333333333333\n",
       "22. 4.99166666666667\n",
       "23. 14.7333333333333\n",
       "24. 12.05\n",
       "25. 6.47499999999999\n",
       "26. 6.18333333333333\n",
       "27. 6.78333333333333\n",
       "28. 25.0083333333333\n",
       "29. 3.225\n",
       "30. 5.59166666666667\n",
       "31. 14.725\n",
       "32. 9.4\n",
       "33. 23.225\n",
       "34. 5.54166666666666\n",
       "35. 4.95833333333334\n",
       "36. 30.8666666666667\n",
       "37. 56.4916666666667\n",
       "38. 4.125\n",
       "39. 7.35833333333333\n",
       "40. 4.99166666666667\n",
       "41. 4.40833333333333\n",
       "42. 5\n",
       "43. 60\n",
       "44. 12.925\n",
       "45. 47.075\n",
       "46. 47.375\n",
       "47. 12.625\n",
       "48. 18.825\n",
       "49. 5.3\n",
       "50. 17.375\n",
       "51. 53.8333333333333\n",
       "52. 2.18333333333333\n",
       "53. 11.1666666666667\n",
       "54. 5.88333333333333\n",
       "55. 2.05\n",
       "56. 4.69166666666667\n",
       "57. 28.8416666666667\n",
       "58. 35\n",
       "59. 24.4583333333333\n",
       "60. 60\n",
       "61. 56.65\n",
       "62. 30.0083333333333\n",
       "63. 19.7\n",
       "64. 14.1083333333333\n",
       "65. 7.35833333333333\n",
       "66. 9.7\n",
       "67. 5.29166666666667\n",
       "68. 23.5416666666667\n",
       "69. 55.6\n",
       "70. 12.95\n",
       "71. 55.5833333333333\n",
       "72. 34.1083333333333\n",
       "73. 7.65\n",
       "74. 3.53333333333333\n",
       "75. 3.46666666666667\n",
       "76. 7.35833333333333\n",
       "77. 9.40833333333333\n",
       "78. 8.53333333333333\n",
       "79. 8.825\n",
       "80. 7.65\n",
       "81. 6.18333333333333\n",
       "82. 10.0166666666667\n",
       "83. 18.8333333333333\n",
       "84. 17.1\n",
       "85. 10.2833333333333\n",
       "86. 17.9333333333333\n",
       "87. 42.0666666666667\n",
       "88. 12.6583333333333\n",
       "89. 4.95\n",
       "90. 5.60833333333333\n",
       "91. 30\n",
       "92. 60\n",
       "93. 19.1\n",
       "94. 17.6\n",
       "95. 9.7\n",
       "96. 3.825\n",
       "97. 7.35833333333333\n",
       "98. 35\n",
       "99. 28.2333333333333\n",
       "100. 26.175\n",
       "101. 60\n",
       "102. 11.7333333333333\n",
       "103. 4.04166666666666\n",
       "104. 6.49166666666666\n",
       "105. 4.11666666666667\n",
       "106. 18.8\n",
       "\n",
       "\n"
      ],
      "text/plain": [
       "  [1] 39.408333 11.175000  9.416667 60.000000 60.000000  6.491667  5.875000\n",
       "  [8]  5.300000  4.091667  8.233333  3.825000  9.116667 10.283333  4.700000\n",
       " [15]  7.016667  3.833333  9.108333  6.475000  7.058333 26.758333  3.783333\n",
       " [22]  4.991667 14.733333 12.050000  6.475000  6.183333  6.783333 25.008333\n",
       " [29]  3.225000  5.591667 14.725000  9.400000 23.225000  5.541667  4.958333\n",
       " [36] 30.866667 56.491667  4.125000  7.358333  4.991667  4.408333  5.000000\n",
       " [43] 60.000000 12.925000 47.075000 47.375000 12.625000 18.825000  5.300000\n",
       " [50] 17.375000 53.833333  2.183333 11.166667  5.883333  2.050000  4.691667\n",
       " [57] 28.841667 35.000000 24.458333 60.000000 56.650000 30.008333 19.700000\n",
       " [64] 14.108333  7.358333  9.700000  5.291667 23.541667 55.600000 12.950000\n",
       " [71] 55.583333 34.108333  7.650000  3.533333  3.466667  7.358333  9.408333\n",
       " [78]  8.533333  8.825000  7.650000  6.183333 10.016667 18.833333 17.100000\n",
       " [85] 10.283333 17.933333 42.066667 12.658333  4.950000  5.608333 30.000000\n",
       " [92] 60.000000 19.100000 17.600000  9.700000  3.825000  7.358333 35.000000\n",
       " [99] 28.233333 26.175000 60.000000 11.733333  4.041667  6.491667  4.116667\n",
       "[106] 18.800000"
      ]
     },
     "metadata": {},
     "output_type": "display_data"
    }
   ],
   "source": [
    "subDat2$Dwell"
   ]
  },
  {
   "cell_type": "code",
   "execution_count": 37,
   "metadata": {},
   "outputs": [
    {
     "data": {
      "image/png": "[encoded data removed]",
      "text/plain": [
       "plot without title"
      ]
     },
     "metadata": {
      "image/png": {
       "height": 420,
       "width": 420
      }
     },
     "output_type": "display_data"
    }
   ],
   "source": [
    "boxplot(Dwell~elabs, data=dat, subset=Group %in% c(\"AD-PCA\", \"AD-MEM\"))"
   ]
  },
  {
   "cell_type": "code",
   "execution_count": 30,
   "metadata": {},
   "outputs": [
    {
     "data": {
      "text/html": [
       "60"
      ],
      "text/latex": [
       "60"
      ],
      "text/markdown": [
       "60"
      ],
      "text/plain": [
       "[1] 60"
      ]
     },
     "metadata": {},
     "output_type": "display_data"
    }
   ],
   "source": [
    "sum(dat[dat$Group==\"NULL\", ]$Dwell)"
   ]
  },
  {
   "cell_type": "code",
   "execution_count": 26,
   "metadata": {},
   "outputs": [
    {
     "data": {
      "text/html": [
       "<style>\n",
       ".list-inline {list-style: none; margin:0; padding: 0}\n",
       ".list-inline>li {display: inline-block}\n",
       ".list-inline>li:not(:last-child)::after {content: \"\\00b7\"; padding: 0 .5ex}\n",
       "</style>\n",
       "<ol class=list-inline><li>AD-PCA</li><li>AD-MEM</li><li>AD-LPA</li><li>NULL</li><li>Control</li></ol>\n",
       "\n",
       "<details>\n",
       "\t<summary style=display:list-item;cursor:pointer>\n",
       "\t\t<strong>Levels</strong>:\n",
       "\t</summary>\n",
       "\t<style>\n",
       "\t.list-inline {list-style: none; margin:0; padding: 0}\n",
       "\t.list-inline>li {display: inline-block}\n",
       "\t.list-inline>li:not(:last-child)::after {content: \"\\00b7\"; padding: 0 .5ex}\n",
       "\t</style>\n",
       "\t<ol class=list-inline><li>'AD-LPA'</li><li>'AD-MEM'</li><li>'AD-PCA'</li><li>'Control'</li><li>'NULL'</li></ol>\n",
       "</details>"
      ],
      "text/latex": [
       "\\begin{enumerate*}\n",
       "\\item AD-PCA\n",
       "\\item AD-MEM\n",
       "\\item AD-LPA\n",
       "\\item NULL\n",
       "\\item Control\n",
       "\\end{enumerate*}\n",
       "\n",
       "\\emph{Levels}: \\begin{enumerate*}\n",
       "\\item 'AD-LPA'\n",
       "\\item 'AD-MEM'\n",
       "\\item 'AD-PCA'\n",
       "\\item 'Control'\n",
       "\\item 'NULL'\n",
       "\\end{enumerate*}\n"
      ],
      "text/markdown": [
       "1. AD-PCA\n",
       "2. AD-MEM\n",
       "3. AD-LPA\n",
       "4. NULL\n",
       "5. Control\n",
       "\n",
       "\n",
       "\n",
       "**Levels**: 1. 'AD-LPA'\n",
       "2. 'AD-MEM'\n",
       "3. 'AD-PCA'\n",
       "4. 'Control'\n",
       "5. 'NULL'\n",
       "\n",
       "\n"
      ],
      "text/plain": [
       "[1] AD-PCA  AD-MEM  AD-LPA  NULL    Control\n",
       "Levels: AD-LPA AD-MEM AD-PCA Control NULL"
      ]
     },
     "metadata": {},
     "output_type": "display_data"
    }
   ],
   "source": [
    "unique(dat$Group)"
   ]
  },
  {
   "cell_type": "code",
   "execution_count": 54,
   "metadata": {},
   "outputs": [],
   "source": [
    "library(ggplot2)\n",
    "dat$elabs <- as.factor(dat$elabs)\n",
    "dat$Dwell <- log(dat$Dwell)"
   ]
  },
  {
   "cell_type": "code",
   "execution_count": 55,
   "metadata": {},
   "outputs": [
    {
     "data": {
      "image/png": "[encoded data removed]",
      "text/plain": [
       "plot without title"
      ]
     },
     "metadata": {
      "image/png": {
       "height": 420,
       "width": 420
      }
     },
     "output_type": "display_data"
    }
   ],
   "source": [
    "subDat <- dat[(dat$Group==\"AD-LPA\") | (dat$Group==\"Control\"), ]\n",
    "ggplot(subDat, aes(elabs, Dwell)) +\n",
    "    geom_boxplot(aes(fill = Group), outlier.shape = NA) +\n",
    "    theme_classic()"
   ]
  },
  {
   "cell_type": "code",
   "execution_count": null,
   "metadata": {},
   "outputs": [],
   "source": []
  },
  {
   "cell_type": "code",
   "execution_count": 56,
   "metadata": {},
   "outputs": [
    {
     "data": {
      "text/html": [
       "<table>\n",
       "<caption>A data.frame: 19 × 3</caption>\n",
       "<thead>\n",
       "\t<tr><th></th><th scope=col>Dwell</th><th scope=col>elabs</th><th scope=col>Group</th></tr>\n",
       "\t<tr><th></th><th scope=col>&lt;dbl&gt;</th><th scope=col>&lt;fct&gt;</th><th scope=col>&lt;fct&gt;</th></tr>\n",
       "</thead>\n",
       "<tbody>\n",
       "\t<tr><th scope=row>31</th><td>1.0675802</td><td>2</td><td>AD-LPA</td></tr>\n",
       "\t<tr><th scope=row>32</th><td>4.0446582</td><td>2</td><td>AD-LPA</td></tr>\n",
       "\t<tr><th scope=row>70</th><td>3.9636662</td><td>2</td><td>AD-LPA</td></tr>\n",
       "\t<tr><th scope=row>78</th><td>3.2545647</td><td>2</td><td>AD-LPA</td></tr>\n",
       "\t<tr><th scope=row>114</th><td>2.5833684</td><td>2</td><td>AD-LPA</td></tr>\n",
       "\t<tr><th scope=row>116</th><td>1.8164521</td><td>2</td><td>AD-LPA</td></tr>\n",
       "\t<tr><th scope=row>117</th><td>1.0874390</td><td>2</td><td>AD-LPA</td></tr>\n",
       "\t<tr><th scope=row>118</th><td>0.9745596</td><td>2</td><td>AD-LPA</td></tr>\n",
       "\t<tr><th scope=row>119</th><td>1.6111032</td><td>2</td><td>AD-LPA</td></tr>\n",
       "\t<tr><th scope=row>121</th><td>1.3350011</td><td>2</td><td>AD-LPA</td></tr>\n",
       "\t<tr><th scope=row>123</th><td>1.4816045</td><td>2</td><td>AD-LPA</td></tr>\n",
       "\t<tr><th scope=row>124</th><td>1.4190842</td><td>2</td><td>AD-LPA</td></tr>\n",
       "\t<tr><th scope=row>161</th><td>4.0943446</td><td>2</td><td>AD-LPA</td></tr>\n",
       "\t<tr><th scope=row>162</th><td>1.4150438</td><td>2</td><td>AD-LPA</td></tr>\n",
       "\t<tr><th scope=row>163</th><td>4.0232662</td><td>2</td><td>AD-LPA</td></tr>\n",
       "\t<tr><th scope=row>165</th><td>4.0943446</td><td>2</td><td>AD-LPA</td></tr>\n",
       "\t<tr><th scope=row>170</th><td>1.0024684</td><td>2</td><td>AD-LPA</td></tr>\n",
       "\t<tr><th scope=row>171</th><td>4.0478642</td><td>2</td><td>AD-LPA</td></tr>\n",
       "\t<tr><th scope=row>282</th><td>4.0943446</td><td>2</td><td>AD-LPA</td></tr>\n",
       "</tbody>\n",
       "</table>\n"
      ],
      "text/latex": [
       "A data.frame: 19 × 3\n",
       "\\begin{tabular}{r|lll}\n",
       "  & Dwell & elabs & Group\\\\\n",
       "  & <dbl> & <fct> & <fct>\\\\\n",
       "\\hline\n",
       "\t31 & 1.0675802 & 2 & AD-LPA\\\\\n",
       "\t32 & 4.0446582 & 2 & AD-LPA\\\\\n",
       "\t70 & 3.9636662 & 2 & AD-LPA\\\\\n",
       "\t78 & 3.2545647 & 2 & AD-LPA\\\\\n",
       "\t114 & 2.5833684 & 2 & AD-LPA\\\\\n",
       "\t116 & 1.8164521 & 2 & AD-LPA\\\\\n",
       "\t117 & 1.0874390 & 2 & AD-LPA\\\\\n",
       "\t118 & 0.9745596 & 2 & AD-LPA\\\\\n",
       "\t119 & 1.6111032 & 2 & AD-LPA\\\\\n",
       "\t121 & 1.3350011 & 2 & AD-LPA\\\\\n",
       "\t123 & 1.4816045 & 2 & AD-LPA\\\\\n",
       "\t124 & 1.4190842 & 2 & AD-LPA\\\\\n",
       "\t161 & 4.0943446 & 2 & AD-LPA\\\\\n",
       "\t162 & 1.4150438 & 2 & AD-LPA\\\\\n",
       "\t163 & 4.0232662 & 2 & AD-LPA\\\\\n",
       "\t165 & 4.0943446 & 2 & AD-LPA\\\\\n",
       "\t170 & 1.0024684 & 2 & AD-LPA\\\\\n",
       "\t171 & 4.0478642 & 2 & AD-LPA\\\\\n",
       "\t282 & 4.0943446 & 2 & AD-LPA\\\\\n",
       "\\end{tabular}\n"
      ],
      "text/markdown": [
       "\n",
       "A data.frame: 19 × 3\n",
       "\n",
       "| <!--/--> | Dwell &lt;dbl&gt; | elabs &lt;fct&gt; | Group &lt;fct&gt; |\n",
       "|---|---|---|---|\n",
       "| 31 | 1.0675802 | 2 | AD-LPA |\n",
       "| 32 | 4.0446582 | 2 | AD-LPA |\n",
       "| 70 | 3.9636662 | 2 | AD-LPA |\n",
       "| 78 | 3.2545647 | 2 | AD-LPA |\n",
       "| 114 | 2.5833684 | 2 | AD-LPA |\n",
       "| 116 | 1.8164521 | 2 | AD-LPA |\n",
       "| 117 | 1.0874390 | 2 | AD-LPA |\n",
       "| 118 | 0.9745596 | 2 | AD-LPA |\n",
       "| 119 | 1.6111032 | 2 | AD-LPA |\n",
       "| 121 | 1.3350011 | 2 | AD-LPA |\n",
       "| 123 | 1.4816045 | 2 | AD-LPA |\n",
       "| 124 | 1.4190842 | 2 | AD-LPA |\n",
       "| 161 | 4.0943446 | 2 | AD-LPA |\n",
       "| 162 | 1.4150438 | 2 | AD-LPA |\n",
       "| 163 | 4.0232662 | 2 | AD-LPA |\n",
       "| 165 | 4.0943446 | 2 | AD-LPA |\n",
       "| 170 | 1.0024684 | 2 | AD-LPA |\n",
       "| 171 | 4.0478642 | 2 | AD-LPA |\n",
       "| 282 | 4.0943446 | 2 | AD-LPA |\n",
       "\n"
      ],
      "text/plain": [
       "    Dwell     elabs Group \n",
       "31  1.0675802 2     AD-LPA\n",
       "32  4.0446582 2     AD-LPA\n",
       "70  3.9636662 2     AD-LPA\n",
       "78  3.2545647 2     AD-LPA\n",
       "114 2.5833684 2     AD-LPA\n",
       "116 1.8164521 2     AD-LPA\n",
       "117 1.0874390 2     AD-LPA\n",
       "118 0.9745596 2     AD-LPA\n",
       "119 1.6111032 2     AD-LPA\n",
       "121 1.3350011 2     AD-LPA\n",
       "123 1.4816045 2     AD-LPA\n",
       "124 1.4190842 2     AD-LPA\n",
       "161 4.0943446 2     AD-LPA\n",
       "162 1.4150438 2     AD-LPA\n",
       "163 4.0232662 2     AD-LPA\n",
       "165 4.0943446 2     AD-LPA\n",
       "170 1.0024684 2     AD-LPA\n",
       "171 4.0478642 2     AD-LPA\n",
       "282 4.0943446 2     AD-LPA"
      ]
     },
     "metadata": {},
     "output_type": "display_data"
    }
   ],
   "source": [
    "dat[(dat$Group==\"AD-LPA\") & (dat$elabs==2), ]"
   ]
  },
  {
   "cell_type": "code",
   "execution_count": null,
   "metadata": {},
   "outputs": [],
   "source": []
  }
 ],
 "metadata": {
  "kernelspec": {
   "display_name": "R",
   "language": "R",
   "name": "ir"
  },
  "language_info": {
   "codemirror_mode": "r",
   "file_extension": ".r",
   "mimetype": "text/x-r-source",
   "name": "R",
   "pygments_lexer": "r",
   "version": "3.6.3"
  },
  "toc": {
   "base_numbering": 1,
   "nav_menu": {},
   "number_sections": true,
   "sideBar": true,
   "skip_h1_title": false,
   "title_cell": "Table of Contents",
   "title_sidebar": "Contents",
   "toc_cell": false,
   "toc_position": {},
   "toc_section_display": true,
   "toc_window_display": false
  }
 },
 "nbformat": 4,
 "nbformat_minor": 2
}
