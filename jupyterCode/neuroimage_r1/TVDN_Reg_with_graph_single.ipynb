{
 "cells": [
  {
   "cell_type": "markdown",
   "metadata": {},
   "source": [
    "This file is to do the main regression with graph metrics from FC. \n",
    "\n",
    "I clean the code a bit. \n",
    "\n",
    "Here the regression is once and I polish my past code a bit to make it better.\n",
    "\n",
    "But currently, it is useless. (on Jun 22, 2023)"
   ]
  },
  {
   "cell_type": "code",
   "execution_count": 1,
   "metadata": {
    "ExecuteTime": {
     "end_time": "2023-06-22T21:45:03.141170Z",
     "start_time": "2023-06-22T21:45:03.125574Z"
    }
   },
   "outputs": [
    {
     "data": {
      "text/plain": [
       "True"
      ]
     },
     "execution_count": 1,
     "metadata": {},
     "output_type": "execute_result"
    }
   ],
   "source": [
    "RUN_PYTHON_SCRIPT = True"
   ]
  },
  {
   "cell_type": "code",
   "execution_count": 2,
   "metadata": {
    "ExecuteTime": {
     "end_time": "2023-06-22T21:45:03.194302Z",
     "start_time": "2023-06-22T21:45:03.142272Z"
    }
   },
   "outputs": [
    {
     "data": {
      "text/plain": [
       "PosixPath('../..')"
      ]
     },
     "execution_count": 2,
     "metadata": {},
     "output_type": "execute_result"
    }
   ],
   "source": [
    "import sys\n",
    "sys.path.append(\"../../\")\n",
    "from pathlib import Path\n",
    "root = Path(\"../../\")"
   ]
  },
  {
   "cell_type": "code",
   "execution_count": 3,
   "metadata": {
    "ExecuteTime": {
     "end_time": "2023-06-22T21:45:04.300932Z",
     "start_time": "2023-06-22T21:45:03.197113Z"
    }
   },
   "outputs": [],
   "source": [
    "from scipy.io import loadmat\n",
    "import numpy as np\n",
    "from easydict import EasyDict as edict\n",
    "import matplotlib.pyplot as plt\n",
    "import os\n",
    "import scipy.stats as ss\n",
    "from scipy import signal\n",
    "from tqdm import tqdm\n",
    "import pickle\n",
    "import seaborn as sns\n",
    "import numbers\n",
    "import scipy\n",
    "import pandas as pd\n",
    "import statsmodels.api as sm\n",
    "from joblib import Parallel, delayed\n",
    "%matplotlib inline"
   ]
  },
  {
   "cell_type": "code",
   "execution_count": 4,
   "metadata": {
    "ExecuteTime": {
     "end_time": "2023-06-22T21:45:05.004339Z",
     "start_time": "2023-06-22T21:45:04.302314Z"
    }
   },
   "outputs": [],
   "source": [
    "import importlib\n",
    "import pyTVDN.utils\n",
    "importlib.reload(pyTVDN.utils)\n",
    "from pyTVDN.utils import load_pkl, save_pkl"
   ]
  },
  {
   "cell_type": "code",
   "execution_count": 5,
   "metadata": {
    "ExecuteTime": {
     "end_time": "2023-06-22T21:45:05.013524Z",
     "start_time": "2023-06-22T21:45:05.005972Z"
    }
   },
   "outputs": [],
   "source": [
    "with open(root/\"OtherFils/data_roi_order.txt\", \"r\") as f:\n",
    "    region_names_raw = f.readlines()\n",
    "region_names_raw\n",
    "region_names = [i.strip()[4].title() + i.strip()[6:].title() \n",
    "               for i in region_names_raw if len(i.strip())>0];"
   ]
  },
  {
   "cell_type": "code",
   "execution_count": 27,
   "metadata": {
    "ExecuteTime": {
     "end_time": "2023-06-22T21:46:10.776003Z",
     "start_time": "2023-06-22T21:46:10.772164Z"
    }
   },
   "outputs": [
    {
     "data": {
      "text/plain": [
       "PosixPath('../../data')"
      ]
     },
     "execution_count": 27,
     "metadata": {},
     "output_type": "execute_result"
    }
   ],
   "source": [
    "resDir = root/\"results\"\n",
    "dataDir = root/\"data\""
   ]
  },
  {
   "cell_type": "code",
   "execution_count": null,
   "metadata": {},
   "outputs": [],
   "source": []
  },
  {
   "cell_type": "markdown",
   "metadata": {},
   "source": [
    "## Load features"
   ]
  },
  {
   "cell_type": "markdown",
   "metadata": {},
   "source": [
    "### Load data"
   ]
  },
  {
   "cell_type": "code",
   "execution_count": 28,
   "metadata": {
    "ExecuteTime": {
     "end_time": "2023-06-22T21:46:11.784554Z",
     "start_time": "2023-06-22T21:46:11.777461Z"
    }
   },
   "outputs": [],
   "source": [
    "with open(root/\"OtherFils/KpIdxsAll.pkl\", \"rb\") as sf:\n",
    "    kpAD, kpCtrl, kpAll = pickle.load(sf)"
   ]
  },
  {
   "cell_type": "code",
   "execution_count": 29,
   "metadata": {
    "ExecuteTime": {
     "end_time": "2023-06-22T21:46:12.043160Z",
     "start_time": "2023-06-22T21:46:12.025425Z"
    },
    "code_folding": []
   },
   "outputs": [],
   "source": [
    "# ecpts\n",
    "fil = list(resDir.glob(\"AD_*_ecpts.pkl\"))[0]\n",
    "with open(fil, \"rb\") as f:\n",
    "    ecptssAD = pickle.load(f)\n",
    "fil = list(resDir.glob(\"Ctrl_*_ecpts.pkl\"))[0]\n",
    "with open(fil, \"rb\") as f:\n",
    "    ecptssCtrl = pickle.load(f)"
   ]
  },
  {
   "cell_type": "code",
   "execution_count": 30,
   "metadata": {
    "ExecuteTime": {
     "end_time": "2023-06-22T21:46:12.302314Z",
     "start_time": "2023-06-22T21:46:12.285530Z"
    }
   },
   "outputs": [],
   "source": [
    "# Eigvals\n",
    "fil = list(resDir.glob(\"AD_*_eigVals.pkl\"))[0]\n",
    "with open(fil, \"rb\") as f:\n",
    "    eigValsAD = pickle.load(f)\n",
    "fil = list(resDir.glob(\"Ctrl_*_eigVals.pkl\"))[0]\n",
    "with open(fil, \"rb\") as f:\n",
    "    eigValsCtrl = pickle.load(f)"
   ]
  },
  {
   "cell_type": "code",
   "execution_count": 31,
   "metadata": {
    "ExecuteTime": {
     "end_time": "2023-06-22T21:46:12.569787Z",
     "start_time": "2023-06-22T21:46:12.555888Z"
    }
   },
   "outputs": [],
   "source": [
    "fil = list(resDir.glob(\"AD_*_eigVecs.pkl\"))[0]\n",
    "with open(fil, \"rb\") as f:\n",
    "    eigVecsAD = pickle.load(f)\n",
    "fil = list(resDir.glob(\"Ctrl_*_eigVecs.pkl\"))[0]\n",
    "with open(fil, \"rb\") as f:\n",
    "    eigVecsCtrl = pickle.load(f)"
   ]
  },
  {
   "cell_type": "code",
   "execution_count": 32,
   "metadata": {
    "ExecuteTime": {
     "end_time": "2023-06-22T21:46:12.817142Z",
     "start_time": "2023-06-22T21:46:12.807250Z"
    }
   },
   "outputs": [],
   "source": [
    "# Sel data (only need when use sub data)\n",
    "ecptssAD = [ ecptsAD for ecptsAD, kpix in zip(ecptssAD, kpAD) if kpix==1]\n",
    "ecptssCtrl = [ ecptsCtrl for ecptsCtrl, kpix in zip(ecptssCtrl, kpCtrl) if kpix==1]\n",
    "eigValsAD = [ v for v, kpix in zip(eigValsAD, kpAD) if kpix==1]\n",
    "eigValsCtrl = [ v for v, kpix in zip(eigValsCtrl, kpCtrl) if kpix==1]\n",
    "eigVecsAD = [ v for v, kpix in zip(eigVecsAD, kpAD) if kpix==1]\n",
    "eigVecsCtrl = [ v for v, kpix in zip(eigVecsCtrl, kpCtrl) if kpix==1];"
   ]
  },
  {
   "cell_type": "code",
   "execution_count": 33,
   "metadata": {
    "ExecuteTime": {
     "end_time": "2023-06-22T21:46:13.091362Z",
     "start_time": "2023-06-22T21:46:13.075981Z"
    }
   },
   "outputs": [],
   "source": [
    "# graph metrics from TVDN\n",
    "graph_fs_AD = load_pkl(resDir/\"graphic_fs_AD.pkl\")\n",
    "graph_fs_Ctrl = load_pkl(resDir/\"graphic_fs_Ctrl.pkl\");"
   ]
  },
  {
   "cell_type": "code",
   "execution_count": 40,
   "metadata": {
    "ExecuteTime": {
     "end_time": "2023-06-22T21:47:21.051535Z",
     "start_time": "2023-06-22T21:47:21.036839Z"
    }
   },
   "outputs": [],
   "source": [
    "### The canonical networks\n",
    "def minmax(x):\n",
    "    num = x - np.min(x)\n",
    "    den = np.max(x) - np.min(x)\n",
    "    return num/den\n",
    "\n",
    "fcR = pd.read_csv(root/'OtherFils/DK_dic68.csv').set_index('Unnamed: 0')\n",
    "rowNames = list(fcR.index)\n",
    "colNames = np.array(fcR.columns)\n",
    "\n",
    "fcRarr = np.array(fcR)\n",
    "\n",
    "# minmax \n",
    "fcRarrMM = np.zeros_like(fcRarr)\n",
    "for i, fcRar in enumerate(fcRarr):\n",
    "    # lh = minmax(fcRar[:34])\n",
    "    # rh = minmax(fcRar[34:])\n",
    "    # fcRarrMM[i, :34] = lh\n",
    "    # fcRarrMM[i, 34:] = rh\n",
    "    fcRarrMM[i, :] = minmax(fcRar)\n",
    "    \n",
    "# calculat the topk mean of graphic feature based on dwell time\n",
    "def topk_mean(topk, graphic_f, dwell, key):\n",
    "    idxs = np.argsort(-dwell)[:topk]\n",
    "    sel_graphic_f = np.array([graphic_f[idx][key] for idx in idxs])\n",
    "    mean_v = np.mean(sel_graphic_f)\n",
    "    return mean_v"
   ]
  },
  {
   "cell_type": "code",
   "execution_count": null,
   "metadata": {},
   "outputs": [],
   "source": []
  },
  {
   "cell_type": "markdown",
   "metadata": {},
   "source": [
    "### The basic data transformation "
   ]
  },
  {
   "cell_type": "code",
   "execution_count": 41,
   "metadata": {
    "ExecuteTime": {
     "end_time": "2023-06-22T21:47:22.005546Z",
     "start_time": "2023-06-22T21:47:21.994210Z"
    }
   },
   "outputs": [],
   "source": [
    "# Dwell times in second\n",
    "freq = 120\n",
    "dwellsAD = [np.diff(np.concatenate([[0], ecpts, [7200]])/freq) for ecpts in ecptssAD]\n",
    "dwellsCtrl = [np.diff(np.concatenate([[0], ecpts, [7200]])/freq) for ecpts in ecptssCtrl];"
   ]
  },
  {
   "cell_type": "code",
   "execution_count": 42,
   "metadata": {
    "ExecuteTime": {
     "end_time": "2023-06-22T21:47:22.649909Z",
     "start_time": "2023-06-22T21:47:22.306424Z"
    },
    "code_folding": []
   },
   "outputs": [],
   "source": [
    "ecptss = ecptssAD\n",
    "dwells = dwellsAD\n",
    "eigVals = eigValsAD\n",
    "eigVecs = eigVecsAD\n",
    "graph_fs = graph_fs_AD\n",
    "\n",
    "fsAll = []\n",
    "for i in range(len(ecptss)):\n",
    "    fs = edict()\n",
    "    dwell = dwells[i]\n",
    "    fs.dwell = dwell \n",
    "    fs.ncpts = len(ecptss[i])\n",
    "    fs.meanDwell = np.mean(dwell)\n",
    "    fs.maxDwell = np.max(dwell)\n",
    "    fs.minDwell = np.min(dwell)\n",
    "    \n",
    "    eigVal = eigVals[i]\n",
    "    \n",
    "    fs.eigVal = eigVal\n",
    "    fs.absEigValMean = np.abs(eigVal).mean()\n",
    "    fs.absImagEigValMean = np.abs(np.array(eigVal).imag).mean()\n",
    "    fs.absImagEigValMedian = np.median(np.abs(np.array(eigVal).imag)) # median \n",
    "    fs.absImagEigValMeanMedian = np.median(np.abs(np.array(eigVal).imag).mean(axis=1)) #mean median\n",
    "    fs.absImagEigValSumMean = np.abs(np.array(eigVal).imag).sum(axis=1).mean() # sum over rank first\n",
    "    fs.absImagEigValMaxMean = np.abs(np.array(eigVal).imag).max(axis=1).mean() # max over rank first\n",
    "    fs.absImagEigValMedianMean = np.median(np.abs(np.array(eigVal).imag), axis=1).mean() # take median over rank first\n",
    "    fs.absMaxEigValMean = np.abs(eigVal).max(axis=1).mean()\n",
    "    idx = np.argmax(dwell)\n",
    "    if fs.ncpts >=1:\n",
    "        idx2 = np.where((-dwell).argsort().argsort()==1)[0][0]\n",
    "    \n",
    "    maxEigVal = eigVal[idx]\n",
    "    fs.maxEigVal = maxEigVal[np.argmax(np.abs(maxEigVal))]\n",
    "    fs.maxEigValMode = np.abs(maxEigVal[np.argmax(np.abs(maxEigVal))])\n",
    "    fs.maxEigValReal = np.abs(maxEigVal[np.argmax(np.abs(maxEigVal))].real)\n",
    "    fs.maxEigValImag = np.abs(maxEigVal[np.argmax(np.abs(maxEigVal))].imag)\n",
    "    fs.maxAbsImagEigValMean = np.abs(maxEigVal.imag).mean()\n",
    "    \n",
    "    \n",
    "    tmp = maxEigVal.copy()\n",
    "    tmp[np.abs(maxEigVal) == np.max(np.abs(maxEigVal))] = 0\n",
    "    fs.max2EigVal = tmp[np.argmax(np.abs(tmp))]\n",
    "    fs.max2EigValMode = np.abs(tmp[np.argmax(np.abs(tmp))])\n",
    "    fs.max2EigValReal = np.abs(tmp[np.argmax(np.abs(tmp))].real)\n",
    "    fs.max2EigValImag = np.abs(tmp[np.argmax(np.abs(tmp))].imag)\n",
    "    \n",
    "    fs.maxwU = np.abs(np.matmul(eigVecs[i], maxEigVal))\n",
    "    fs.wUAll = np.abs(np.matmul(eigVecs[i], np.array(eigVal).T).real)\n",
    "    fs.wUAllMM = (fs.wUAll - fs.wUAll.min(axis=0))/(fs.wUAll.max(axis=0)-fs.wUAll.min(axis=0))\n",
    "    fs.wUAllMMmean = fs.wUAllMM.mean(axis=1)\n",
    "    fs.wUsumAll = np.abs(np.matmul(eigVecs[i], np.array(eigVal).T).real).sum(axis=1)\n",
    "    fs.wUmeanAll = np.abs(np.matmul(eigVecs[i], np.array(eigVal).T).real).mean(axis=1)\n",
    "    fs.maxwUraw = np.matmul(eigVecs[i], maxEigVal).real\n",
    "    fs.maxwUnorm = np.linalg.norm(fs.maxwU)\n",
    "    \n",
    "    fs.wUcorrsAll = []\n",
    "    for jx in range(fs.wUAll.shape[1]):\n",
    "        curwU = fs.wUAll[:, jx]\n",
    "        curwUMM = np.zeros_like(curwU)\n",
    "        # curwUMM[:34] = minmax(curwU[:34])\n",
    "        # curwUMM[34:] = minmax(curwU[34:])\n",
    "        curwUMM[:] = minmax(curwU[:])\n",
    "        curwUcorrs = []\n",
    "        for ix in range(fcRarrMM.shape[0]):\n",
    "            fcRarrMMcur = fcRarrMM[ix, :]\n",
    "            curwUcorrs.append(ss.pearsonr(fcRarrMM[ix, :], curwUMM)[0])\n",
    "        fs.wUcorrsAll.append(curwUcorrs)\n",
    "    \n",
    "    wUmeanMM = np.zeros_like(fs.wUmeanAll)\n",
    "    # wUmeanMM[:34] = minmax(fs.wUmeanAll[:34])\n",
    "    # wUmeanMM[34:] = minmax(fs.wUmeanAll[34:])\n",
    "    wUmeanMM[:] = minmax(fs.wUmeanAll[:])\n",
    "    fs.wUmeancorrs = []\n",
    "    for ix in range(fcRarrMM.shape[0]):\n",
    "        fcRarrMMcur = fcRarrMM[ix, :]\n",
    "        fs.wUmeancorrs.append(ss.pearsonr(fcRarrMM[ix, :], wUmeanMM)[0])\n",
    "    \n",
    "    maxwUMM = np.zeros_like(fs.maxwU)\n",
    "    #maxwUMM[:34] = minmax(fs.maxwU[:34])\n",
    "    #maxwUMM[34:] = minmax(fs.maxwU[34:])\n",
    "    maxwUMM[:] = minmax(fs.maxwU[:])\n",
    "    fs.maxwUcorrs = []\n",
    "    for ix in range(fcRarrMM.shape[0]):\n",
    "        fcRarrMMcur = fcRarrMM[ix, :]\n",
    "        fs.maxwUcorrs.append(ss.pearsonr(fcRarrMM[ix, :], maxwUMM)[0])\n",
    "        \n",
    "    if fs.ncpts >=1:\n",
    "        fs.maxwU2 = np.abs(np.matmul(eigVecs[i], eigVal[idx2]))\n",
    "        fs.maxwU2norm = np.linalg.norm(fs.maxwU2)\n",
    "    else:\n",
    "        fs.maxwU2 = np.zeros(fs.maxwU.shape)\n",
    "        fs.maxwU2norm = 0\n",
    "    \n",
    "    fs.maxU = eigVecs[i][:, np.argmax(np.abs(maxEigVal))]\n",
    "    fs.maxUnorm = np.linalg.norm(fs.maxU)\n",
    "    fs.maxUMode = np.abs(eigVecs[i][:, np.argmax(np.abs(maxEigVal))])\n",
    "    fs.maxUReal = np.abs(eigVecs[i][:, np.argmax(np.abs(maxEigVal))].real)\n",
    "    fs.maxUImag = np.abs(eigVecs[i][:, np.argmax(np.abs(maxEigVal))].imag)\n",
    "    maxUMM = np.zeros_like(fs.maxUMode)\n",
    "    #maxUMM[:34] = minmax(fs.maxUMode[:34])\n",
    "    #maxUMM[34:] = minmax(fs.maxUMode[34:])\n",
    "    maxUMM[:] = minmax(fs.maxUMode[:])\n",
    "    fs.maxUcorrs = []\n",
    "    for ix in range(fcRarrMM.shape[0]):\n",
    "        fcRarrMMcur = fcRarrMM[ix, :]\n",
    "        fs.maxUcorrs.append(ss.pearsonr(fcRarrMM[ix, :], maxUMM)[0])\n",
    "    \n",
    "    fs.r  = len(maxEigVal)\n",
    "    \n",
    "    # graph metric\n",
    "    graph_f = graph_fs[i]\n",
    "    fs[\"top1_Q\"] = topk_mean(1, graph_f, dwell, \"tQ\")\n",
    "    fs[\"top1_C\"] = topk_mean(1, graph_f, dwell, \"tmC\")\n",
    "    fs[\"top1_L\"] = topk_mean(1, graph_f, dwell, \"tmL\")\n",
    "    fs[\"mean_Q\"] = np.mean([v[\"tQ\"] for v in graph_f])\n",
    "    fs[\"mean_C\"] = np.mean([v[\"tmC\"] for v in graph_f])\n",
    "    fs[\"mean_L\"] = np.mean([v[\"tmL\"] for v in graph_f])\n",
    "    fs[\"var_Q\"] = np.var([v[\"tQ\"] for v in graph_f])\n",
    "    fs[\"var_C\"] = np.var([v[\"tmC\"] for v in graph_f])\n",
    "    fs[\"var_L\"] = np.var([v[\"tmL\"] for v in graph_f])\n",
    "    \n",
    "    fsAll.append(fs)\n",
    "    \n",
    "fsAD = fsAll;    "
   ]
  },
  {
   "cell_type": "code",
   "execution_count": 43,
   "metadata": {
    "ExecuteTime": {
     "end_time": "2023-06-22T21:47:23.499185Z",
     "start_time": "2023-06-22T21:47:23.040388Z"
    }
   },
   "outputs": [],
   "source": [
    "ecptss = ecptssCtrl\n",
    "dwells = dwellsCtrl\n",
    "eigVals = eigValsCtrl\n",
    "eigVecs = eigVecsCtrl\n",
    "graph_fs = graph_fs_Ctrl\n",
    "\n",
    "fsAll = []\n",
    "for i in range(len(ecptss)):\n",
    "    fs = edict()\n",
    "    dwell = dwells[i]\n",
    "    fs.dwell = dwell \n",
    "    fs.ncpts = len(ecptss[i])\n",
    "    fs.meanDwell = np.mean(dwell)\n",
    "    fs.maxDwell = np.max(dwell)\n",
    "    fs.minDwell = np.min(dwell)\n",
    "    \n",
    "    eigVal = eigVals[i]\n",
    "    \n",
    "    fs.eigVal = eigVal\n",
    "    fs.absEigValMean = np.abs(eigVal).mean()\n",
    "    fs.absImagEigValMean = np.abs(np.array(eigVal).imag).mean()\n",
    "    fs.absImagEigValMedian = np.median(np.abs(np.array(eigVal).imag)) # median \n",
    "    fs.absImagEigValMeanMedian = np.median(np.abs(np.array(eigVal).imag).mean(axis=1)) #mean median\n",
    "    fs.absImagEigValSumMean = np.abs(np.array(eigVal).imag).sum(axis=1).mean() # sum over rank first\n",
    "    fs.absImagEigValMaxMean = np.abs(np.array(eigVal).imag).max(axis=1).mean() # sum over rank first\n",
    "    fs.absImagEigValMedianMean = np.median(np.abs(np.array(eigVal).imag), axis=1).mean() # take median over rank first\n",
    "    fs.absMaxEigValMean = np.abs(eigVal).max(axis=1).mean()\n",
    "    idx = np.argmax(dwell)\n",
    "    if fs.ncpts >=1:\n",
    "        idx2 = np.where((-dwell).argsort().argsort()==1)[0][0]\n",
    "    \n",
    "    maxEigVal = eigVal[idx]\n",
    "    fs.maxEigVal = maxEigVal[np.argmax(np.abs(maxEigVal))]\n",
    "    fs.maxEigValMode = np.abs(maxEigVal[np.argmax(np.abs(maxEigVal))])\n",
    "    fs.maxEigValReal = np.abs(maxEigVal[np.argmax(np.abs(maxEigVal))].real)\n",
    "    fs.maxEigValImag = np.abs(maxEigVal[np.argmax(np.abs(maxEigVal))].imag)\n",
    "    fs.maxAbsImagEigValMean = np.abs(maxEigVal.imag).mean()\n",
    "    \n",
    "    \n",
    "    tmp = maxEigVal.copy()\n",
    "    tmp[np.abs(maxEigVal) == np.max(np.abs(maxEigVal))] = 0\n",
    "    fs.max2EigVal = tmp[np.argmax(np.abs(tmp))]\n",
    "    fs.max2EigValMode = np.abs(tmp[np.argmax(np.abs(tmp))])\n",
    "    fs.max2EigValReal = np.abs(tmp[np.argmax(np.abs(tmp))].real)\n",
    "    fs.max2EigValImag = np.abs(tmp[np.argmax(np.abs(tmp))].imag)\n",
    "    \n",
    "    fs.maxwU = np.abs(np.matmul(eigVecs[i], maxEigVal))\n",
    "    fs.wUAll = np.abs(np.matmul(eigVecs[i], np.array(eigVal).T).real)\n",
    "    fs.wUAllMM = (fs.wUAll - fs.wUAll.min(axis=0))/(fs.wUAll.max(axis=0)-fs.wUAll.min(axis=0))\n",
    "    fs.wUAllMMmean = fs.wUAllMM.mean(axis=1)\n",
    "    fs.wUsumAll = np.abs(np.matmul(eigVecs[i], np.array(eigVal).T).real).sum(axis=1)\n",
    "    fs.wUmeanAll = np.abs(np.matmul(eigVecs[i], np.array(eigVal).T).real).mean(axis=1)\n",
    "    fs.maxwUraw = np.matmul(eigVecs[i], maxEigVal).real\n",
    "    fs.maxwUnorm = np.linalg.norm(fs.maxwU)\n",
    "    \n",
    "    fs.wUcorrsAll = []\n",
    "    for jx in range(fs.wUAll.shape[1]):\n",
    "        curwU = fs.wUAll[:, jx]\n",
    "        curwUMM = np.zeros_like(curwU)\n",
    "        # curwUMM[:34] = minmax(curwU[:34])\n",
    "        # curwUMM[34:] = minmax(curwU[34:])\n",
    "        curwUMM[:] = minmax(curwU[:])\n",
    "        curwUcorrs = []\n",
    "        for ix in range(fcRarrMM.shape[0]):\n",
    "            fcRarrMMcur = fcRarrMM[ix, :]\n",
    "            curwUcorrs.append(ss.pearsonr(fcRarrMM[ix, :], curwUMM)[0])\n",
    "        fs.wUcorrsAll.append(curwUcorrs)\n",
    "    \n",
    "    wUmeanMM = np.zeros_like(fs.wUmeanAll)\n",
    "    # wUmeanMM[:34] = minmax(fs.wUmeanAll[:34])\n",
    "    # wUmeanMM[34:] = minmax(fs.wUmeanAll[34:])\n",
    "    wUmeanMM[:] = minmax(fs.wUmeanAll[:])\n",
    "    fs.wUmeancorrs = []\n",
    "    for ix in range(fcRarrMM.shape[0]):\n",
    "        fcRarrMMcur = fcRarrMM[ix, :]\n",
    "        fs.wUmeancorrs.append(ss.pearsonr(fcRarrMM[ix, :], wUmeanMM)[0])\n",
    "    \n",
    "    maxwUMM = np.zeros_like(fs.maxwU)\n",
    "    #maxwUMM[:34] = minmax(fs.maxwU[:34])\n",
    "    #maxwUMM[34:] = minmax(fs.maxwU[34:])\n",
    "    maxwUMM[:] = minmax(fs.maxwU[:])\n",
    "    fs.maxwUcorrs = []\n",
    "    for ix in range(fcRarrMM.shape[0]):\n",
    "        fcRarrMMcur = fcRarrMM[ix, :]\n",
    "        fs.maxwUcorrs.append(ss.pearsonr(fcRarrMM[ix, :], maxwUMM)[0])\n",
    "        \n",
    "    if fs.ncpts >=1:\n",
    "        fs.maxwU2 = np.abs(np.matmul(eigVecs[i], eigVal[idx2]))\n",
    "        fs.maxwU2norm = np.linalg.norm(fs.maxwU2)\n",
    "    else:\n",
    "        fs.maxwU2 = np.zeros(fs.maxwU.shape)\n",
    "        fs.maxwU2norm = 0\n",
    "    \n",
    "    fs.maxU = eigVecs[i][:, np.argmax(np.abs(maxEigVal))]\n",
    "    fs.maxUnorm = np.linalg.norm(fs.maxU)\n",
    "    fs.maxUMode = np.abs(eigVecs[i][:, np.argmax(np.abs(maxEigVal))])\n",
    "    fs.maxUReal = np.abs(eigVecs[i][:, np.argmax(np.abs(maxEigVal))].real)\n",
    "    fs.maxUImag = np.abs(eigVecs[i][:, np.argmax(np.abs(maxEigVal))].imag)\n",
    "    maxUMM = np.zeros_like(fs.maxUMode)\n",
    "    #maxUMM[:34] = minmax(fs.maxUMode[:34])\n",
    "    #maxUMM[34:] = minmax(fs.maxUMode[34:])\n",
    "    maxUMM[:] = minmax(fs.maxUMode[:])\n",
    "    fs.maxUcorrs = []\n",
    "    for ix in range(fcRarrMM.shape[0]):\n",
    "        fcRarrMMcur = fcRarrMM[ix, :]\n",
    "        fs.maxUcorrs.append(ss.pearsonr(fcRarrMM[ix, :], maxUMM)[0])\n",
    "    \n",
    "    fs.r  = len(maxEigVal)\n",
    "    \n",
    "    # graph metric\n",
    "    graph_f = graph_fs[i]\n",
    "    fs[\"top1_Q\"] = topk_mean(1, graph_f, dwell, \"tQ\")\n",
    "    fs[\"top1_C\"] = topk_mean(1, graph_f, dwell, \"tmC\")\n",
    "    fs[\"top1_L\"] = topk_mean(1, graph_f, dwell, \"tmL\")\n",
    "    fs[\"mean_Q\"] = np.mean([v[\"tQ\"] for v in graph_f])\n",
    "    fs[\"mean_C\"] = np.mean([v[\"tmC\"] for v in graph_f])\n",
    "    fs[\"mean_L\"] = np.mean([v[\"tmL\"] for v in graph_f])\n",
    "    fs[\"var_Q\"] = np.var([v[\"tQ\"] for v in graph_f])\n",
    "    fs[\"var_C\"] = np.var([v[\"tmC\"] for v in graph_f])\n",
    "    fs[\"var_L\"] = np.var([v[\"tmL\"] for v in graph_f])\n",
    "    \n",
    "    \n",
    "    fsAll.append(fs)\n",
    "    \n",
    "fsCtrl = fsAll;"
   ]
  },
  {
   "cell_type": "code",
   "execution_count": null,
   "metadata": {},
   "outputs": [],
   "source": []
  },
  {
   "cell_type": "code",
   "execution_count": null,
   "metadata": {},
   "outputs": [],
   "source": []
  },
  {
   "cell_type": "markdown",
   "metadata": {},
   "source": [
    "##  Regression in TVDN"
   ]
  },
  {
   "cell_type": "markdown",
   "metadata": {},
   "source": [
    "### Some pkgs and fns"
   ]
  },
  {
   "cell_type": "code",
   "execution_count": 44,
   "metadata": {
    "ExecuteTime": {
     "end_time": "2023-06-22T21:48:00.925545Z",
     "start_time": "2023-06-22T21:48:00.733564Z"
    }
   },
   "outputs": [],
   "source": [
    "from sklearn.linear_model import LogisticRegression\n",
    "from sklearn.ensemble import GradientBoostingClassifier as GBC\n",
    "from sklearn.model_selection import LeaveOneOut\n",
    "from sklearn.model_selection import cross_val_predict\n",
    "from sklearn.metrics import roc_auc_score, roc_curve\n",
    "\n",
    "import matplotlib.cbook as cbook\n",
    "import statsmodels.api as sm\n",
    "\n",
    "from sklearn.cluster import KMeans, SpectralClustering\n",
    "from scipy.stats import fisher_exact, norm\n",
    "from prettytable import PrettyTable as pTB\n",
    "from sklearn.metrics import f1_score\n",
    "from collections import defaultdict as ddict\n",
    "\n",
    "\n",
    "from sklearn.cluster import SpectralClustering, AgglomerativeClustering\n",
    "from sklearn.mixture import GaussianMixture\n",
    "from scipy.stats import chi2_contingency\n",
    "from sklearn.decomposition import PCA\n",
    "\n",
    "import warnings\n",
    "warnings.filterwarnings('ignore')"
   ]
  },
  {
   "cell_type": "code",
   "execution_count": 45,
   "metadata": {
    "ExecuteTime": {
     "end_time": "2023-06-22T21:48:01.849555Z",
     "start_time": "2023-06-22T21:48:01.836167Z"
    }
   },
   "outputs": [],
   "source": [
    "def TuningCFn(inpX, inpY, Cs=[0.1, 0.2, 0.4, 0.8, 1, 1.6, 3.2, 6.4, 12.8, 25.6], penalty=\"l2\", n_jobs=1):\n",
    "    aucCs = []\n",
    "    for C in Cs:\n",
    "        clf = LogisticRegression(penalty=penalty, random_state=0, C=C)\n",
    "        cv_eprobs = cross_val_predict(clf, inpX, inpY, cv=10, method='predict_proba', n_jobs=n_jobs);\n",
    "        auc = roc_auc_score(inpY, cv_eprobs[:, 1])\n",
    "        aucCs.append(auc)\n",
    "    optC = Cs[np.argmax(aucCs)]\n",
    "    res = edict()\n",
    "    res[\"optC\"] = optC\n",
    "    res[\"Cs\"] = Cs\n",
    "    res[\"aucCs\"] = aucCs\n",
    "    return res\n",
    "\n",
    "def pred_run_fn(trIdxs, testIdxs, curOptC=None):\n",
    "    \"\"\"\n",
    "    This function trains a logistic regression model on the given training indices \n",
    "    and predicts probabilities for the test indices.\n",
    "\n",
    "    Args:\n",
    "    trIdxs (array-like): Indices of the training data.\n",
    "    testIdxs (array-like): Indices of the test data.\n",
    "\n",
    "    Returns:\n",
    "    eprob (array-like): Predicted probabilities for the test data.\n",
    "    paras (array-like): Coefficients of the logistic regression model.\n",
    "    \"\"\"\n",
    "    curStdXs, curYs = stdXs[trIdxs, :], Ys[trIdxs]\n",
    "    if curOptC is None:\n",
    "        curOptC = TuningCFn(curStdXs, curYs, Cs, penalty=penalty)[\"optC\"]\n",
    "    clf = LogisticRegression(penalty=penalty, random_state=0, C=curOptC)\n",
    "    clf.fit(curStdXs, curYs)\n",
    "    paras = clf.coef_.reshape(-1)\n",
    "    eprob = clf.predict_proba(stdXs[testIdxs, :])\n",
    "\n",
    "    return eprob, paras, curOptC"
   ]
  },
  {
   "cell_type": "code",
   "execution_count": null,
   "metadata": {},
   "outputs": [],
   "source": []
  },
  {
   "cell_type": "markdown",
   "metadata": {},
   "source": [
    "### Prepare the data"
   ]
  },
  {
   "cell_type": "code",
   "execution_count": 46,
   "metadata": {
    "ExecuteTime": {
     "end_time": "2023-06-22T21:48:12.025559Z",
     "start_time": "2023-06-22T21:48:12.011294Z"
    }
   },
   "outputs": [
    {
     "name": "stdout",
     "output_type": "stream",
     "text": [
      "r_ncpts_mean_Q_mean_L_var_Q_var_L_wUmeanAll_l2\n"
     ]
    }
   ],
   "source": [
    "penalty = \"l2\"\n",
    "Ys = np.concatenate([np.ones(len(fsAD)), np.zeros(len(fsCtrl))])\n",
    "# past\n",
    "#fsName = [\"r\", \"ncpts\", #\"absImagEigValMaxMean\", \n",
    "#          \"top1_Q\", \"top1_C\", \"top1_L\", \n",
    "#          #\"mean_Q\",  \"mean_C\",  \"mean_L\",  \n",
    "#          \"var_Q\",  \"var_C\",  \"var_L\",  \n",
    "#          \"wUmeanAll\" ]\n",
    "fsName = [\"r\", \"ncpts\", #\"absImagEigValMaxMean\", \n",
    "          #\"top1_Q\", \"top1_L\", \n",
    "          \"mean_Q\",  \"mean_L\",  \n",
    "          \"var_Q\",  \"var_L\",  \n",
    "          \"wUmeanAll\" ]\n",
    "XsAD = []\n",
    "XsCtrl = []\n",
    "for fName in fsName:\n",
    "    if isinstance(fsAD[0][fName], numbers.Number):\n",
    "        cfAD = np.array([fs[fName] for fs in fsAD]).reshape(-1, 1)\n",
    "        cfCtrl = np.array([fs[fName] for fs in fsCtrl]).reshape(-1, 1)\n",
    "    else:\n",
    "        cfAD = np.array([fs[fName] for fs in fsAD])\n",
    "        cfCtrl = np.array([fs[fName] for fs in fsCtrl])\n",
    "    \n",
    "    XsAD.append(cfAD)\n",
    "    XsCtrl.append(cfCtrl)\n",
    "XsAD = np.concatenate(XsAD, axis=1)\n",
    "XsCtrl = np.concatenate(XsCtrl, axis=1)\n",
    "Xs = np.concatenate([XsAD, XsCtrl], axis=0)\n",
    "stdXs = (Xs - Xs.mean(axis=0))/Xs.std(axis=0)\n",
    "\n",
    "# name prefix to save the results\n",
    "preFix = \"_\".join(fsName) + f\"_{penalty}\"\n",
    "Cs = [0.1, 0.2, 0.4, 0.8, 1, 1.6, 3.2]\n",
    "#Cs = [0.1, 0.2, 0.4, 0.8, 1, 1.6, 3.2, 6.4, 12.8, 25.6]\n",
    "print(preFix)"
   ]
  },
  {
   "cell_type": "code",
   "execution_count": 47,
   "metadata": {
    "ExecuteTime": {
     "end_time": "2023-06-22T21:48:15.177739Z",
     "start_time": "2023-06-22T21:48:15.171616Z"
    },
    "code_folding": []
   },
   "outputs": [],
   "source": [
    "if not RUN_PYTHON_SCRIPT:\n",
    "    # corr mat for 9 fs\n",
    "    part_Xs = Xs[:, :-68]\n",
    "    corr_mat = np.corrcoef(part_Xs.T)\n",
    "    plt.figure(figsize=[8, 8])\n",
    "    sns.heatmap(corr_mat, cmap=\"bwr\", \n",
    "                xticklabels=fsName[:-1],\n",
    "                yticklabels=fsName[:-1],\n",
    "                square=True,\n",
    "                annot=np.round(corr_mat, 3),\n",
    "                center=0)"
   ]
  },
  {
   "cell_type": "markdown",
   "metadata": {},
   "source": [
    "### prediction"
   ]
  },
  {
   "cell_type": "markdown",
   "metadata": {},
   "source": [
    "#### LOO"
   ]
  },
  {
   "cell_type": "code",
   "execution_count": 48,
   "metadata": {
    "ExecuteTime": {
     "end_time": "2023-06-22T21:48:36.439541Z",
     "start_time": "2023-06-22T21:48:15.905092Z"
    }
   },
   "outputs": [
    {
     "name": "stderr",
     "output_type": "stream",
     "text": [
      "100%|████████████████████████████████████████████████████████████████████████████████████████████████████████████████████████████████████████| 176/176 [00:18<00:00,  9.67it/s]\n"
     ]
    },
    {
     "data": {
      "text/plain": [
       "0.7541322314049588"
      ]
     },
     "execution_count": 48,
     "metadata": {},
     "output_type": "execute_result"
    }
   ],
   "source": [
    "loo = LeaveOneOut()\n",
    "with Parallel(n_jobs=10) as parallel:\n",
    "    res = parallel(delayed(pred_run_fn)(trIdxs, testIdxs) \n",
    "                   for trIdxs, testIdxs in tqdm(loo.split(stdXs), total=len(stdXs))\n",
    "                  )\n",
    "parass = np.array([ix[1] for ix in res])\n",
    "eprobs = np.array([ix[0] for ix in res]).squeeze();\n",
    "loo_auc = roc_auc_score(Ys, eprobs[:, 1])\n",
    "loo_fpr, loo_tpr, loo_thresholds = roc_curve(Ys, eprobs[:, 1], pos_label=1)\n",
    "loo_auc"
   ]
  },
  {
   "cell_type": "markdown",
   "metadata": {},
   "source": [
    "### CV"
   ]
  },
  {
   "cell_type": "code",
   "execution_count": 80,
   "metadata": {
    "ExecuteTime": {
     "end_time": "2023-06-22T22:27:14.478957Z",
     "start_time": "2023-06-22T22:26:19.949108Z"
    }
   },
   "outputs": [
    {
     "name": "stderr",
     "output_type": "stream",
     "text": [
      "100%|██████████████████████████████████████████████████████████████████████████████████████████████████████████████████████████████████████| 1000/1000 [00:52<00:00, 19.03it/s]\n"
     ]
    },
    {
     "name": "stdout",
     "output_type": "stream",
     "text": [
      "The mean of AUC under 1000 repetitions is 0.761 and the standard deviation is 0.078, the 95% CI is (0.605, 0.908).\n"
     ]
    }
   ],
   "source": [
    "def pred_run_fn_CV(i, curOptC=None):\n",
    "    \n",
    "    np.random.seed(i)\n",
    "    nobs = stdXs.shape[0]\n",
    "    \n",
    "    testIdxs = np.random.choice(nobs, int(nobs/5), False)\n",
    "    trIdxs = np.delete(np.arange(nobs), testIdxs)\n",
    "    \n",
    "    curStdXs, curYs = stdXs[trIdxs, :], Ys[trIdxs]\n",
    "    if curOptC is None:\n",
    "        curOptC = TuningCFn(curStdXs, curYs, Cs, penalty=penalty)[\"optC\"]\n",
    "    clf = LogisticRegression(penalty=penalty, random_state=0, C=curOptC)\n",
    "    clf.fit(curStdXs, curYs)\n",
    "    eprob = clf.predict_proba(stdXs[testIdxs, :])\n",
    "    cur_auc = roc_auc_score(Ys[testIdxs], eprob[:, 1])\n",
    "    return cur_auc, curOptC\n",
    "\n",
    "n_rep = 1000\n",
    "with Parallel(n_jobs=20) as parallel:\n",
    "    res = parallel(delayed(pred_run_fn_CV)(i) \n",
    "                   for i in tqdm(range(n_rep)))\n",
    "\n",
    "aucs = [ix[0] for ix in res]\n",
    "auc_m = np.mean(aucs)\n",
    "auc_std = np.std(aucs)\n",
    "print(f\"The mean of AUC under 1000 repetitions is {auc_m:.3f} and the standard deviation is {auc_std:.3f}, \"\n",
    "      f\"the 95% CI is ({np.quantile(aucs, 0.025):.3f}, {np.quantile(aucs, 0.975):.3f}).\")"
   ]
  },
  {
   "cell_type": "code",
   "execution_count": null,
   "metadata": {},
   "outputs": [],
   "source": []
  },
  {
   "cell_type": "code",
   "execution_count": null,
   "metadata": {},
   "outputs": [],
   "source": []
  },
  {
   "cell_type": "markdown",
   "metadata": {},
   "source": [
    "### Inference"
   ]
  },
  {
   "cell_type": "markdown",
   "metadata": {},
   "source": [
    "#### Final model "
   ]
  },
  {
   "cell_type": "code",
   "execution_count": 52,
   "metadata": {
    "ExecuteTime": {
     "end_time": "2023-06-22T21:49:09.923795Z",
     "start_time": "2023-06-22T21:49:09.173990Z"
    }
   },
   "outputs": [
    {
     "name": "stdout",
     "output_type": "stream",
     "text": [
      "0.2\n"
     ]
    }
   ],
   "source": [
    "gOptC = TuningCFn(stdXs, Ys, Cs, penalty=penalty)[\"optC\"]; print(gOptC)\n",
    "# fit the first reg\n",
    "clf_final = LogisticRegression(penalty=penalty, random_state=0, C=gOptC)\n",
    "clf_final.fit(stdXs, Ys)\n",
    "coefs_final = clf_final.coef_.reshape(-1);"
   ]
  },
  {
   "cell_type": "code",
   "execution_count": null,
   "metadata": {},
   "outputs": [],
   "source": []
  },
  {
   "cell_type": "markdown",
   "metadata": {},
   "source": [
    "#### Bootstrap for pvals\n",
    "\n",
    "I use Bootstrap to select finally as it has better results\n",
    "\n",
    "We can also calculate the pvalue based on bootstrap by assuming, under $H_0$, $\\beta \\sim N(0, \\sigma^2)$. "
   ]
  },
  {
   "cell_type": "code",
   "execution_count": 58,
   "metadata": {
    "ExecuteTime": {
     "end_time": "2023-06-22T22:07:58.380317Z",
     "start_time": "2023-06-22T22:07:53.199312Z"
    }
   },
   "outputs": [
    {
     "name": "stderr",
     "output_type": "stream",
     "text": [
      "100%|██████████████████████████████████████████████████████████████████████████████████████████████████████████████████████████████████| 10000/10000 [00:04<00:00, 2071.29it/s]\n"
     ]
    }
   ],
   "source": [
    "def _run_fn_boot(i):\n",
    "    np.random.seed(i)\n",
    "    bootIdx = np.random.choice(len(Ys), len(Ys))\n",
    "    YsBoot = Ys[bootIdx]\n",
    "    stdXsBoot = stdXs[bootIdx]\n",
    "    cur_optC = gOptC\n",
    "    #cur_optC = TuningCFn(stdXsBoot, YsBoot, Cs, penalty=penalty)[\"optC\"]\n",
    "    clf = LogisticRegression(penalty=penalty, random_state=0, C=cur_optC)\n",
    "    clf.fit(stdXsBoot, YsBoot)\n",
    "    paras_boot = clf.coef_.reshape(-1)\n",
    "    return paras_boot\n",
    "    \n",
    "n_rep = 10000\n",
    "with Parallel(n_jobs=20) as parallel:\n",
    "    parass_boot = parallel(delayed(_run_fn_boot)(i) \n",
    "                   for i in tqdm(range(n_rep)))"
   ]
  },
  {
   "cell_type": "code",
   "execution_count": 67,
   "metadata": {
    "ExecuteTime": {
     "end_time": "2023-06-22T22:10:54.328366Z",
     "start_time": "2023-06-22T22:10:54.142815Z"
    }
   },
   "outputs": [
    {
     "data": {
      "image/png": "[encoded data removed]",
      "text/plain": [
       "<Figure size 1080x288 with 1 Axes>"
      ]
     },
     "metadata": {
      "needs_background": "light"
     },
     "output_type": "display_data"
    }
   ],
   "source": [
    "parass_boot = np.array(parass_boot)\n",
    "lows, ups = coefs_final-parass_boot.std(axis=0)*1.96, coefs_final+parass_boot.std(axis=0)*1.96\n",
    "kpidxBoot = np.bitwise_or(lows >0,  ups < 0)\n",
    "kpidxIdBoot = np.where(kpidxBoot)[0]\n",
    "\n",
    "xlabs = np.concatenate([fsName[:-1],\n",
    "                         region_names])\n",
    "plt.figure(figsize=[15, 4])\n",
    "plt.fill_between(list(range(len(lows))), lows, ups, color=\"red\", alpha=.5)\n",
    "plt.title(\"The 95% CI of the parameters\")\n",
    "_ = plt.xticks(kpidxIdBoot, xlabs[kpidxIdBoot], rotation=30, fontsize=8)\n",
    "\n",
    "select_fs_idx = kpidxBoot;"
   ]
  },
  {
   "cell_type": "code",
   "execution_count": 68,
   "metadata": {
    "ExecuteTime": {
     "end_time": "2023-06-22T22:10:57.852707Z",
     "start_time": "2023-06-22T22:10:57.834338Z"
    }
   },
   "outputs": [
    {
     "data": {
      "text/plain": [
       "array([1.10895869e-05, 4.09273166e-02, 1.11810521e-01, 4.02959178e-01,\n",
       "       2.91617590e-01, 3.30720025e-01, 9.20621647e-01, 8.12535733e-01,\n",
       "       3.49118396e-01, 8.07534853e-02, 7.99592672e-01, 9.62844575e-01,\n",
       "       9.29641540e-05, 4.28691495e-03, 3.31693926e-02, 3.70087466e-02,\n",
       "       7.61496385e-01, 2.76785270e-02, 1.25231189e-01, 1.11163317e-03,\n",
       "       3.95215034e-01, 5.62322171e-01, 8.73157128e-01, 2.15164387e-03,\n",
       "       5.02803243e-01, 8.92788609e-01, 3.39583143e-01, 1.00253267e-01,\n",
       "       1.25617717e-01, 5.40129417e-01, 2.96948099e-01, 5.16261505e-01,\n",
       "       2.28890733e-04, 4.49046850e-02, 4.52060762e-02, 5.62367764e-02,\n",
       "       1.89435170e-02, 3.95934119e-01, 2.09618383e-02, 1.90714841e-01,\n",
       "       4.46242574e-01, 4.23603040e-01, 1.01627662e-01, 3.43712370e-02,\n",
       "       1.74918210e-01, 8.54002256e-01, 1.86634174e-01, 2.55295702e-02,\n",
       "       2.15225510e-03, 3.31783851e-01, 5.34263597e-02, 3.99079489e-01,\n",
       "       7.19498644e-01, 2.28768765e-01, 8.81274475e-01, 2.16305709e-01,\n",
       "       4.05965203e-01, 2.09537850e-01, 9.50374888e-02, 3.81724917e-01,\n",
       "       8.93534361e-01, 3.60331487e-02, 5.45645792e-01, 3.06644538e-01,\n",
       "       6.40787432e-01, 5.39959056e-01, 1.35995001e-01, 3.20887258e-01,\n",
       "       2.15040125e-01, 2.83752126e-01, 5.87781386e-01, 2.31689922e-01,\n",
       "       9.31847505e-01, 8.77246129e-01])"
      ]
     },
     "execution_count": 68,
     "metadata": {},
     "output_type": "execute_result"
    }
   ],
   "source": [
    "# Pvalue\n",
    "test_stats_boot = coefs_final/parass_boot.std(axis=0)\n",
    "normRV = norm()\n",
    "# to be consistent, I think we should use two-sided pvalue\n",
    "bootPvs = 2*(1-normRV.cdf(np.abs(test_stats_boot)))\n",
    "bootPvs"
   ]
  },
  {
   "cell_type": "code",
   "execution_count": 69,
   "metadata": {
    "ExecuteTime": {
     "end_time": "2023-06-22T22:11:02.460361Z",
     "start_time": "2023-06-22T22:11:02.450009Z"
    }
   },
   "outputs": [
    {
     "name": "stdout",
     "output_type": "stream",
     "text": [
      "Empty DataFrame\n",
      "Columns: [Feature, Parameters, Lower, Upper, Pvalues]\n",
      "Index: []\n"
     ]
    }
   ],
   "source": [
    "# Bootstrap p value and CI are consistent\n",
    "tmpIdx = np.bitwise_xor(bootPvs <= 0.05, kpidxBoot)\n",
    "resDic = {\n",
    "   \"Feature\" : xlabs[tmpIdx],  \n",
    "    \"Parameters\": coefs_final[tmpIdx],\n",
    "    \"Lower\": lows[tmpIdx],\n",
    "    \"Upper\": ups[tmpIdx],\n",
    "    \"Pvalues\": bootPvs[tmpIdx]\n",
    "}\n",
    "pd.set_option(\"display.precision\", 3)\n",
    "resDF = pd.DataFrame(resDic)\n",
    "print(resDF)"
   ]
  },
  {
   "cell_type": "markdown",
   "metadata": {},
   "source": [
    "#### The output table "
   ]
  },
  {
   "cell_type": "code",
   "execution_count": 70,
   "metadata": {
    "ExecuteTime": {
     "end_time": "2023-06-22T22:11:05.293030Z",
     "start_time": "2023-06-22T22:11:05.279486Z"
    }
   },
   "outputs": [
    {
     "name": "stdout",
     "output_type": "stream",
     "text": [
      "                       Feature  Parameters      Lower      Upper   Pvalues\n",
      "0                            r   8.214e-01  4.550e-01  1.188e+00 1.109e-05\n",
      "1                        ncpts  -3.164e-01 -6.198e-01 -1.304e-02 4.093e-02\n",
      "2                   L-Fusiform  -4.449e-01 -6.680e-01 -2.218e-01 9.296e-05\n",
      "3           L-Inferiorparietal   3.647e-01  1.144e-01  6.149e-01 4.287e-03\n",
      "4           L-Inferiortemporal  -2.483e-01 -4.768e-01 -1.982e-02 3.317e-02\n",
      "5                     L-Insula   2.057e-01  1.240e-02  3.991e-01 3.701e-02\n",
      "6           L-Lateraloccipital  -2.779e-01 -5.252e-01 -3.052e-02 2.768e-02\n",
      "7                    L-Lingual  -3.418e-01 -5.473e-01 -1.364e-01 1.112e-03\n",
      "8            L-Parahippocampal  -2.699e-01 -4.423e-01 -9.751e-02 2.152e-03\n",
      "9   L-Rostralanteriorcingulate   4.142e-01  1.939e-01  6.345e-01 2.289e-04\n",
      "10      L-Rostralmiddlefrontal   2.774e-01  6.299e-03  5.485e-01 4.490e-02\n",
      "11           L-Superiorfrontal   2.894e-01  6.176e-03  5.727e-01 4.521e-02\n",
      "12          L-Superiortemporal   2.075e-01  3.419e-02  3.808e-01 1.894e-02\n",
      "13              L-Temporalpole   2.151e-01  3.249e-02  3.978e-01 2.096e-02\n",
      "14                    R-Cuneus  -2.507e-01 -4.830e-01 -1.845e-02 3.437e-02\n",
      "15          R-Inferiorparietal  -2.634e-01 -4.945e-01 -3.223e-02 2.553e-02\n",
      "16          R-Inferiortemporal   2.990e-01  1.080e-01  4.899e-01 2.152e-03\n",
      "17             R-Pericalcarine  -2.514e-01 -4.865e-01 -1.638e-02 3.603e-02\n"
     ]
    }
   ],
   "source": [
    "resDic = {\n",
    "   \"Feature\" : xlabs[kpidxBoot],  \n",
    "    \"Parameters\": coefs_final[kpidxBoot],\n",
    "    \"Lower\": lows[kpidxBoot],\n",
    "    \"Upper\": ups[kpidxBoot],\n",
    "    \"Pvalues\": bootPvs[kpidxBoot]\n",
    "}\n",
    "#pd.set_option(\"display.precision\", 3)\n",
    "pd.set_option('display.float_format',lambda x : '%.3e' % x)\n",
    "resDF = pd.DataFrame(resDic)\n",
    "print(resDF)"
   ]
  },
  {
   "cell_type": "code",
   "execution_count": 71,
   "metadata": {
    "ExecuteTime": {
     "end_time": "2023-06-22T22:11:09.596907Z",
     "start_time": "2023-06-22T22:11:09.570661Z"
    }
   },
   "outputs": [
    {
     "name": "stdout",
     "output_type": "stream",
     "text": [
      "\\begin{tabular}{llrrrr}\n",
      "\\toprule\n",
      "{} &                    Features &  Params &  Lower &  Upper &  Pvals \\\\\n",
      "\\midrule\n",
      "0  &                           r &   0.821 &  0.455 &  1.188 &  0.000 \\\\\n",
      "1  &                       ncpts &   0.316 &  0.013 &  0.620 &  0.041 \\\\\n",
      "2  &                  L-Fusiform &   0.445 &  0.222 &  0.668 &  0.000 \\\\\n",
      "3  &          L-Inferiorparietal &   0.365 &  0.114 &  0.615 &  0.004 \\\\\n",
      "4  &          L-Inferiortemporal &   0.248 &  0.020 &  0.477 &  0.033 \\\\\n",
      "5  &                    L-Insula &   0.206 &  0.012 &  0.399 &  0.037 \\\\\n",
      "6  &          L-Lateraloccipital &   0.278 &  0.031 &  0.525 &  0.028 \\\\\n",
      "7  &                   L-Lingual &   0.342 &  0.136 &  0.547 &  0.001 \\\\\n",
      "8  &           L-Parahippocampal &   0.270 &  0.098 &  0.442 &  0.002 \\\\\n",
      "9  &  L-Rostralanteriorcingulate &   0.414 &  0.194 &  0.634 &  0.000 \\\\\n",
      "10 &      L-Rostralmiddlefrontal &   0.277 &  0.006 &  0.548 &  0.045 \\\\\n",
      "11 &           L-Superiorfrontal &   0.289 &  0.006 &  0.573 &  0.045 \\\\\n",
      "12 &          L-Superiortemporal &   0.208 &  0.034 &  0.381 &  0.019 \\\\\n",
      "13 &              L-Temporalpole &   0.215 &  0.032 &  0.398 &  0.021 \\\\\n",
      "14 &                    R-Cuneus &   0.251 &  0.018 &  0.483 &  0.034 \\\\\n",
      "15 &          R-Inferiorparietal &   0.263 &  0.032 &  0.495 &  0.026 \\\\\n",
      "16 &          R-Inferiortemporal &   0.299 &  0.108 &  0.490 &  0.002 \\\\\n",
      "17 &             R-Pericalcarine &   0.251 &  0.016 &  0.486 &  0.036 \\\\\n",
      "\\bottomrule\n",
      "\\end{tabular}\n",
      "\n"
     ]
    }
   ],
   "source": [
    "abs_paras = np.array(resDF[\"Parameters\"].abs())\n",
    "raw_bds = np.array(resDF[[\"Lower\", \"Upper\"]].abs())\n",
    "abs_low_bd = np.min(raw_bds, axis=1)\n",
    "abs_up_bd = np.max(raw_bds, axis=1)\n",
    "pvs = np.array(resDF[\"Pvalues\"])\n",
    "outDF = {\"Features\": np.array(resDF[\"Feature\"]),\n",
    "        \"Params\": abs_paras, \n",
    "        \"Lower\":abs_low_bd, \n",
    "        \"Upper\":abs_up_bd, \n",
    "        \"Pvals\":pvs}\n",
    "outDF = pd.DataFrame(outDF)\n",
    "print(outDF.to_latex(float_format=\"{:0.3f}\".format))"
   ]
  },
  {
   "cell_type": "code",
   "execution_count": 72,
   "metadata": {
    "ExecuteTime": {
     "end_time": "2023-06-22T22:11:10.169061Z",
     "start_time": "2023-06-22T22:11:10.147746Z"
    }
   },
   "outputs": [
    {
     "name": "stdout",
     "output_type": "stream",
     "text": [
      "\\begin{tabular}{llrrrr}\n",
      "\\toprule\n",
      "{} & Feature &  Parameters &  Lower &  Upper &  Pvalues \\\\\n",
      "\\midrule\n",
      "0 &       r &       0.821 &  0.455 &  1.188 &    0.000 \\\\\n",
      "1 &   ncpts &      -0.316 & -0.620 & -0.013 &    0.041 \\\\\n",
      "2 &  mean\\_Q &      -0.240 & -0.537 &  0.056 &    0.112 \\\\\n",
      "3 &  mean\\_L &       0.147 & -0.198 &  0.493 &    0.403 \\\\\n",
      "4 &   var\\_Q &      -0.155 & -0.443 &  0.133 &    0.292 \\\\\n",
      "5 &   var\\_L &      -0.197 & -0.593 &  0.200 &    0.331 \\\\\n",
      "\\bottomrule\n",
      "\\end{tabular}\n",
      "\n"
     ]
    }
   ],
   "source": [
    "fsDic = {\n",
    "   \"Feature\" : xlabs[:-68],  \n",
    "    \"Parameters\": coefs_final[:-68],\n",
    "    \"Lower\": lows[:-68],\n",
    "    \"Upper\": ups[:-68],\n",
    "    \"Pvalues\": bootPvs[:-68]\n",
    "}\n",
    "#pd.set_option(\"display.precision\", 3)\n",
    "pd.set_option('display.float_format',lambda x : '%.3e' % x)\n",
    "fsDF = pd.DataFrame(fsDic)\n",
    "print(fsDF.to_latex(float_format=\"{:0.3f}\".format))"
   ]
  },
  {
   "cell_type": "code",
   "execution_count": 64,
   "metadata": {
    "ExecuteTime": {
     "end_time": "2022-12-11T21:15:23.545061Z",
     "start_time": "2022-12-11T21:15:23.372275Z"
    }
   },
   "outputs": [],
   "source": [
    "# save brain\n",
    "# final parameter, abs, remove pv <0.05\n",
    "tmp_n = len(fsName[:]) - 1\n",
    "oPParas = minmax(np.abs(coefsFinal[tmp_n:]))\n",
    "NLogPvs = -np.log10(bootPvs[tmp_n:])\n",
    "oPParas[NLogPvs < -np.log10(0.05)] = 0\n",
    "outOPParas = U2BrainVec(reorderU(oPParas))\n",
    "\n",
    "np.savetxt(f\"./brainPlotFils/{preFix}_reg1_finalabsOPParas.txt\", outOPParas)\n",
    "pd.DataFrame({\"Name\": regionNames,\n",
    "              \"Vec\": oPParas}).to_csv(f\"./brainPlotFils/{preFix}_reg1_finalabsOPParas.csv\", index=False)"
   ]
  },
  {
   "cell_type": "code",
   "execution_count": 74,
   "metadata": {
    "ExecuteTime": {
     "end_time": "2022-12-12T05:07:06.911420Z",
     "start_time": "2022-12-12T05:07:06.908439Z"
    }
   },
   "outputs": [
    {
     "data": {
      "text/plain": [
       "array([0.        , 0.        , 0.        , 0.        , 0.        ,\n",
       "       0.        , 0.        , 0.        , 0.        , 0.        ,\n",
       "       0.        , 0.        , 0.        , 0.        , 0.        ,\n",
       "       0.        , 0.        , 0.        , 0.        , 0.        ,\n",
       "       0.        , 0.        , 0.        , 0.        , 0.        ,\n",
       "       0.        , 0.        , 0.        , 0.        , 0.        ,\n",
       "       0.        , 0.        , 0.        , 0.        , 0.        ,\n",
       "       0.        , 0.        , 0.        , 0.        , 0.        ,\n",
       "       0.        , 0.        , 0.        , 0.        , 0.        ,\n",
       "       0.        , 0.        , 0.        , 0.        , 0.        ,\n",
       "       0.        , 0.        , 0.        , 0.        , 0.49920943,\n",
       "       0.54302721, 0.55686299, 0.57083105, 0.57618043, 0.58901621,\n",
       "       0.62228241, 0.6493124 , 0.67054834, 0.69654532, 0.74007223,\n",
       "       0.91866985, 0.93088569, 1.        ])"
      ]
     },
     "execution_count": 74,
     "metadata": {},
     "output_type": "execute_result"
    }
   ],
   "source": [
    "np.sort(oPParas)"
   ]
  },
  {
   "cell_type": "code",
   "execution_count": null,
   "metadata": {},
   "outputs": [],
   "source": []
  }
 ],
 "metadata": {
  "kernelspec": {
   "display_name": "Python 3 (ipykernel)",
   "language": "python",
   "name": "python3"
  },
  "language_info": {
   "codemirror_mode": {
    "name": "ipython",
    "version": 3
   },
   "file_extension": ".py",
   "mimetype": "text/x-python",
   "name": "python",
   "nbconvert_exporter": "python",
   "pygments_lexer": "ipython3",
   "version": "3.9.7"
  },
  "toc": {
   "base_numbering": 1,
   "nav_menu": {},
   "number_sections": true,
   "sideBar": true,
   "skip_h1_title": false,
   "title_cell": "Table of Contents",
   "title_sidebar": "Contents",
   "toc_cell": false,
   "toc_position": {
    "height": "calc(100% - 180px)",
    "left": "10px",
    "top": "150px",
    "width": "223px"
   },
   "toc_section_display": true,
   "toc_window_display": true
  },
  "varInspector": {
   "cols": {
    "lenName": 16,
    "lenType": 16,
    "lenVar": 40
   },
   "kernels_config": {
    "python": {
     "delete_cmd_postfix": "",
     "delete_cmd_prefix": "del ",
     "library": "var_list.py",
     "varRefreshCmd": "print(var_dic_list())"
    },
    "r": {
     "delete_cmd_postfix": ") ",
     "delete_cmd_prefix": "rm(",
     "library": "var_list.r",
     "varRefreshCmd": "cat(var_dic_list()) "
    }
   },
   "position": {
    "height": "393.844px",
    "left": "1550px",
    "right": "20px",
    "top": "120px",
    "width": "350px"
   },
   "types_to_exclude": [
    "module",
    "function",
    "builtin_function_or_method",
    "instance",
    "_Feature"
   ],
   "window_display": false
  }
 },
 "nbformat": 4,
 "nbformat_minor": 2
}
