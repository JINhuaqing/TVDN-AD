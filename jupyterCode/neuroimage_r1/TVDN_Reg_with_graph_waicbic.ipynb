{
 "cells": [
  {
   "cell_type": "markdown",
   "metadata": {},
   "source": [
    "Almost the same to `TVDN_Reg_with_graph`, the only diff is I add AIC and BIC\n",
    "\n",
    "This file is to do the main regression with graph metrics from FC. \n",
    "\n",
    "Currently, the regression has two steps, \n",
    "\n",
    "1. Regression with all features and ridge penalty, and select the siginifcant features.\n",
    "    - The brain plots are based on this results\n",
    "\n",
    "2. Regression with the selected features and ridge penalty again. \n",
    "    - The AUC is reported with this regression\n",
    "    \n",
    "I also plot the AUC for all 4 methods in this file\n",
    "\n",
    "I also calculate AIC and BIC\n"
   ]
  },
  {
   "cell_type": "code",
   "execution_count": 1,
   "metadata": {
    "ExecuteTime": {
     "end_time": "2023-06-29T18:19:54.360699Z",
     "start_time": "2023-06-29T18:19:54.345453Z"
    }
   },
   "outputs": [
    {
     "data": {
      "text/plain": [
       "PosixPath('../..')"
      ]
     },
     "execution_count": 1,
     "metadata": {},
     "output_type": "execute_result"
    }
   ],
   "source": [
    "import sys\n",
    "sys.path.append(\"../../\")\n",
    "from pathlib import Path\n",
    "root = Path(\"../../\")"
   ]
  },
  {
   "cell_type": "code",
   "execution_count": 2,
   "metadata": {
    "ExecuteTime": {
     "end_time": "2023-06-29T18:19:57.403034Z",
     "start_time": "2023-06-29T18:19:55.254394Z"
    }
   },
   "outputs": [],
   "source": [
    "from pathlib import Path\n",
    "from scipy.io import loadmat\n",
    "import numpy as np\n",
    "from easydict import EasyDict as edict\n",
    "import matplotlib.pyplot as plt\n",
    "import os\n",
    "import scipy.stats as ss\n",
    "from scipy import signal\n",
    "from tqdm import tqdm\n",
    "import pickle\n",
    "import seaborn as sns\n",
    "import numbers\n",
    "import scipy\n",
    "import pandas as pd\n",
    "import statsmodels.api as sm\n",
    "from joblib import Parallel, delayed\n",
    "%matplotlib inline"
   ]
  },
  {
   "cell_type": "code",
   "execution_count": 3,
   "metadata": {
    "ExecuteTime": {
     "end_time": "2023-06-29T18:19:58.267558Z",
     "start_time": "2023-06-29T18:19:57.404805Z"
    }
   },
   "outputs": [],
   "source": [
    "import importlib\n",
    "import pyTVDN.utils\n",
    "importlib.reload(pyTVDN.utils)\n",
    "from pyTVDN.utils import load_pkl, save_pkl"
   ]
  },
  {
   "cell_type": "code",
   "execution_count": 4,
   "metadata": {
    "ExecuteTime": {
     "end_time": "2023-06-29T18:19:58.301176Z",
     "start_time": "2023-06-29T18:19:58.270845Z"
    }
   },
   "outputs": [],
   "source": [
    "with open(root/\"OtherFils/data_roi_order.txt\", \"r\") as f:\n",
    "    region_names_raw = f.readlines()\n",
    "region_names_raw\n",
    "region_names = [i.strip()[4].title() + i.strip()[6:].title() \n",
    "               for i in region_names_raw if len(i.strip())>0];"
   ]
  },
  {
   "cell_type": "code",
   "execution_count": 5,
   "metadata": {
    "ExecuteTime": {
     "end_time": "2023-06-29T18:19:58.329766Z",
     "start_time": "2023-06-29T18:19:58.303563Z"
    }
   },
   "outputs": [
    {
     "data": {
      "text/plain": [
       "PosixPath('../../data')"
      ]
     },
     "execution_count": 5,
     "metadata": {},
     "output_type": "execute_result"
    }
   ],
   "source": [
    "resDir = root/\"results\"\n",
    "dataDir = root/\"data\""
   ]
  },
  {
   "cell_type": "code",
   "execution_count": null,
   "metadata": {},
   "outputs": [],
   "source": []
  },
  {
   "cell_type": "markdown",
   "metadata": {},
   "source": [
    "## Load features"
   ]
  },
  {
   "cell_type": "markdown",
   "metadata": {},
   "source": [
    "### Load data"
   ]
  },
  {
   "cell_type": "code",
   "execution_count": 6,
   "metadata": {
    "ExecuteTime": {
     "end_time": "2023-06-29T18:19:58.954397Z",
     "start_time": "2023-06-29T18:19:58.927239Z"
    }
   },
   "outputs": [],
   "source": [
    "kpAD, kpCtrl, kpAll = load_pkl(root/\"OtherFils/KpIdxsAll.pkl\")"
   ]
  },
  {
   "cell_type": "code",
   "execution_count": 7,
   "metadata": {
    "ExecuteTime": {
     "end_time": "2023-06-29T18:20:01.037124Z",
     "start_time": "2023-06-29T18:20:00.024437Z"
    },
    "code_folding": []
   },
   "outputs": [],
   "source": [
    "# ecpts\n",
    "fil = list(resDir.glob(\"AD_*_ecpts.pkl\"))[0]\n",
    "ecptssAD = load_pkl(fil)\n",
    "fil = list(resDir.glob(\"Ctrl_*_ecpts.pkl\"))[0]\n",
    "ecptssCtrl = load_pkl(fil);"
   ]
  },
  {
   "cell_type": "code",
   "execution_count": 8,
   "metadata": {
    "ExecuteTime": {
     "end_time": "2023-06-29T18:20:01.975789Z",
     "start_time": "2023-06-29T18:20:01.866754Z"
    }
   },
   "outputs": [],
   "source": [
    "# Eigvals\n",
    "fil = list(resDir.glob(\"AD_*_eigVals.pkl\"))[0]\n",
    "eigValsAD = load_pkl(fil)\n",
    "fil = list(resDir.glob(\"Ctrl_*_eigVals.pkl\"))[0]\n",
    "eigValsCtrl = load_pkl(fil);"
   ]
  },
  {
   "cell_type": "code",
   "execution_count": 9,
   "metadata": {
    "ExecuteTime": {
     "end_time": "2023-06-29T18:20:02.799752Z",
     "start_time": "2023-06-29T18:20:02.603482Z"
    }
   },
   "outputs": [],
   "source": [
    "fil = list(resDir.glob(\"AD_*_eigVecs.pkl\"))[0]\n",
    "eigVecsAD = load_pkl(fil)\n",
    "fil = list(resDir.glob(\"Ctrl_*_eigVecs.pkl\"))[0]\n",
    "eigVecsCtrl = load_pkl(fil);"
   ]
  },
  {
   "cell_type": "code",
   "execution_count": 10,
   "metadata": {
    "ExecuteTime": {
     "end_time": "2023-06-29T18:20:03.648227Z",
     "start_time": "2023-06-29T18:20:03.641868Z"
    }
   },
   "outputs": [],
   "source": [
    "# Sel data (only need when use sub data)\n",
    "ecptssAD = [ ecptsAD for ecptsAD, kpix in zip(ecptssAD, kpAD) if kpix==1]\n",
    "ecptssCtrl = [ ecptsCtrl for ecptsCtrl, kpix in zip(ecptssCtrl, kpCtrl) if kpix==1]\n",
    "eigValsAD = [ v for v, kpix in zip(eigValsAD, kpAD) if kpix==1]\n",
    "eigValsCtrl = [ v for v, kpix in zip(eigValsCtrl, kpCtrl) if kpix==1]\n",
    "eigVecsAD = [ v for v, kpix in zip(eigVecsAD, kpAD) if kpix==1]\n",
    "eigVecsCtrl = [ v for v, kpix in zip(eigVecsCtrl, kpCtrl) if kpix==1];"
   ]
  },
  {
   "cell_type": "code",
   "execution_count": 11,
   "metadata": {
    "ExecuteTime": {
     "end_time": "2023-06-29T18:20:04.841470Z",
     "start_time": "2023-06-29T18:20:04.757011Z"
    }
   },
   "outputs": [],
   "source": [
    "# graph metrics from TVDN\n",
    "graph_fs_AD = load_pkl(resDir/\"graphic_fs_AD.pkl\")\n",
    "graph_fs_Ctrl = load_pkl(resDir/\"graphic_fs_Ctrl.pkl\");"
   ]
  },
  {
   "cell_type": "code",
   "execution_count": 12,
   "metadata": {
    "ExecuteTime": {
     "end_time": "2023-06-29T18:20:05.759477Z",
     "start_time": "2023-06-29T18:20:05.676886Z"
    }
   },
   "outputs": [],
   "source": [
    "### The canonical networks\n",
    "def minmax(x):\n",
    "    num = x - np.min(x)\n",
    "    den = np.max(x) - np.min(x)\n",
    "    return num/den\n",
    "\n",
    "def minmax_brainplotting(x):\n",
    "    num = x - np.min(x)\n",
    "    den = np.max(x) - np.min(x)\n",
    "    return num/den + 1e-3\n",
    "\n",
    "fcR = pd.read_csv(resDir/'../OtherFils/DK_dic68.csv').set_index('Unnamed: 0')\n",
    "rowNames = list(fcR.index)\n",
    "colNames = np.array(fcR.columns)\n",
    "\n",
    "fcRarr = np.array(fcR)\n",
    "\n",
    "# minmax \n",
    "fcRarrMM = np.zeros_like(fcRarr)\n",
    "for i, fcRar in enumerate(fcRarr):\n",
    "    # minmax does not affect pearson corr\n",
    "    fcRarrMM[i, :] = minmax(fcRar)"
   ]
  },
  {
   "cell_type": "code",
   "execution_count": 13,
   "metadata": {
    "ExecuteTime": {
     "end_time": "2023-06-29T18:20:06.478147Z",
     "start_time": "2023-06-29T18:20:06.473359Z"
    }
   },
   "outputs": [],
   "source": [
    "# calculat the topk mean of graphic feature based on dwell time\n",
    "def topk_mean(topk, graphic_f, dwell, key):\n",
    "    idxs = np.argsort(-dwell)[:topk]\n",
    "    sel_graphic_f = np.array([graphic_f[idx][key] for idx in idxs])\n",
    "    mean_v = np.mean(sel_graphic_f)\n",
    "    return mean_v"
   ]
  },
  {
   "cell_type": "code",
   "execution_count": null,
   "metadata": {},
   "outputs": [],
   "source": []
  },
  {
   "cell_type": "markdown",
   "metadata": {},
   "source": [
    "### The basic data transformation "
   ]
  },
  {
   "cell_type": "code",
   "execution_count": 14,
   "metadata": {
    "ExecuteTime": {
     "end_time": "2023-06-29T18:20:07.676215Z",
     "start_time": "2023-06-29T18:20:07.669248Z"
    }
   },
   "outputs": [],
   "source": [
    "# Dwell times in second\n",
    "freq = 120\n",
    "dwellsAD = [np.diff(np.concatenate([[0], ecpts, [7200]])/freq) for ecpts in ecptssAD]\n",
    "dwellsCtrl = [np.diff(np.concatenate([[0], ecpts, [7200]])/freq) for ecpts in ecptssCtrl];"
   ]
  },
  {
   "cell_type": "code",
   "execution_count": 15,
   "metadata": {
    "ExecuteTime": {
     "end_time": "2023-06-29T18:20:08.356387Z",
     "start_time": "2023-06-29T18:20:08.304618Z"
    },
    "code_folding": []
   },
   "outputs": [],
   "source": [
    "ecptss = ecptssAD\n",
    "dwells = dwellsAD\n",
    "eigVals = eigValsAD\n",
    "eigVecs = eigVecsAD\n",
    "graph_fs = graph_fs_AD\n",
    "\n",
    "fsAll = []\n",
    "for i in range(len(ecptss)):\n",
    "    fs = edict()\n",
    "    dwell = dwells[i]\n",
    "    fs.dwell = dwell \n",
    "    fs.ncpts = len(ecptss[i])\n",
    "    fs.meanDwell = np.mean(dwell)\n",
    "    fs.maxDwell = np.max(dwell)\n",
    "    fs.minDwell = np.min(dwell)\n",
    "    \n",
    "    eigVal = eigVals[i]\n",
    "    fs.wUmeanAll = np.abs(np.matmul(eigVecs[i], np.array(eigVal).T).real).mean(axis=1)\n",
    "    \n",
    "    idx = np.argmax(dwell)\n",
    "    maxEigVal = eigVal[idx]\n",
    "    fs.r  = len(maxEigVal)\n",
    "    \n",
    "    # graph metric\n",
    "    graph_f = graph_fs[i]\n",
    "    fs[\"top1_Q\"] = topk_mean(1, graph_f, dwell, \"tQ\")\n",
    "    fs[\"top1_C\"] = topk_mean(1, graph_f, dwell, \"tmC\")\n",
    "    fs[\"top1_L\"] = topk_mean(1, graph_f, dwell, \"tmL\")\n",
    "    fs[\"mean_Q\"] = np.mean([v[\"tQ\"] for v in graph_f])\n",
    "    fs[\"mean_C\"] = np.mean([v[\"tmC\"] for v in graph_f])\n",
    "    fs[\"mean_L\"] = np.mean([v[\"tmL\"] for v in graph_f])\n",
    "    fs[\"var_Q\"] = np.var([v[\"tQ\"] for v in graph_f])\n",
    "    fs[\"var_C\"] = np.var([v[\"tmC\"] for v in graph_f])\n",
    "    fs[\"var_L\"] = np.var([v[\"tmL\"] for v in graph_f])\n",
    "    \n",
    "    \n",
    "    fsAll.append(fs)\n",
    "    \n",
    "fsAD = fsAll;    "
   ]
  },
  {
   "cell_type": "code",
   "execution_count": 16,
   "metadata": {
    "ExecuteTime": {
     "end_time": "2023-06-29T18:20:09.167782Z",
     "start_time": "2023-06-29T18:20:09.132518Z"
    },
    "code_folding": []
   },
   "outputs": [],
   "source": [
    "ecptss = ecptssCtrl\n",
    "dwells = dwellsCtrl\n",
    "eigVals = eigValsCtrl\n",
    "eigVecs = eigVecsCtrl\n",
    "graph_fs = graph_fs_Ctrl\n",
    "\n",
    "fsAll = []\n",
    "for i in range(len(ecptss)):\n",
    "    fs = edict()\n",
    "    dwell = dwells[i]\n",
    "    fs.dwell = dwell \n",
    "    fs.ncpts = len(ecptss[i])\n",
    "    fs.meanDwell = np.mean(dwell)\n",
    "    fs.maxDwell = np.max(dwell)\n",
    "    fs.minDwell = np.min(dwell)\n",
    "    \n",
    "    eigVal = eigVals[i]\n",
    "    fs.wUmeanAll = np.abs(np.matmul(eigVecs[i], np.array(eigVal).T).real).mean(axis=1)\n",
    "    \n",
    "    idx = np.argmax(dwell)\n",
    "    maxEigVal = eigVal[idx]\n",
    "    fs.r  = len(maxEigVal)\n",
    "    \n",
    "    # graph metric\n",
    "    graph_f = graph_fs[i]\n",
    "    fs[\"top1_Q\"] = topk_mean(1, graph_f, dwell, \"tQ\")\n",
    "    fs[\"top1_C\"] = topk_mean(1, graph_f, dwell, \"tmC\")\n",
    "    fs[\"top1_L\"] = topk_mean(1, graph_f, dwell, \"tmL\")\n",
    "    fs[\"mean_Q\"] = np.mean([v[\"tQ\"] for v in graph_f])\n",
    "    fs[\"mean_C\"] = np.mean([v[\"tmC\"] for v in graph_f])\n",
    "    fs[\"mean_L\"] = np.mean([v[\"tmL\"] for v in graph_f])\n",
    "    fs[\"var_Q\"] = np.var([v[\"tQ\"] for v in graph_f])\n",
    "    fs[\"var_C\"] = np.var([v[\"tmC\"] for v in graph_f])\n",
    "    fs[\"var_L\"] = np.var([v[\"tmL\"] for v in graph_f])\n",
    "    \n",
    "    \n",
    "    fsAll.append(fs)\n",
    "    \n",
    "fsCtrl = fsAll;    "
   ]
  },
  {
   "cell_type": "code",
   "execution_count": null,
   "metadata": {},
   "outputs": [],
   "source": []
  },
  {
   "cell_type": "markdown",
   "metadata": {},
   "source": [
    "##  Regression in TVDN"
   ]
  },
  {
   "cell_type": "code",
   "execution_count": 17,
   "metadata": {
    "ExecuteTime": {
     "end_time": "2023-06-29T18:20:11.931664Z",
     "start_time": "2023-06-29T18:20:11.784111Z"
    }
   },
   "outputs": [],
   "source": [
    "from sklearn.linear_model import LogisticRegression\n",
    "from sklearn.ensemble import GradientBoostingClassifier as GBC\n",
    "from sklearn.model_selection import LeaveOneOut\n",
    "from sklearn.metrics import roc_auc_score, roc_curve\n",
    "from sklearn.model_selection import cross_val_predict\n",
    "\n",
    "import matplotlib.cbook as cbook\n",
    "import statsmodels.api as sm\n",
    "\n",
    "from sklearn.cluster import KMeans, SpectralClustering\n",
    "from scipy.stats import fisher_exact, norm\n",
    "from prettytable import PrettyTable as pTB\n",
    "from sklearn.metrics import f1_score\n",
    "from collections import defaultdict as ddict\n",
    "\n",
    "\n",
    "from sklearn.cluster import SpectralClustering, AgglomerativeClustering\n",
    "from sklearn.mixture import GaussianMixture\n",
    "from scipy.stats import chi2_contingency\n",
    "from sklearn.decomposition import PCA\n",
    "\n",
    "from tmp_utils import get_ABIC\n",
    "import warnings\n",
    "warnings.filterwarnings('ignore')"
   ]
  },
  {
   "cell_type": "code",
   "execution_count": 18,
   "metadata": {
    "ExecuteTime": {
     "end_time": "2023-06-29T18:20:12.764790Z",
     "start_time": "2023-06-29T18:20:12.758604Z"
    }
   },
   "outputs": [],
   "source": [
    "def TuningCFn(inpX, inpY, Cs=[0.1, 0.2, 0.4, 0.8, 1, 1.6, 3.2, 6.4, 12.8, 25.6], penalty=\"l2\"):\n",
    "    aucCs = []\n",
    "    for C in Cs:\n",
    "        eProbs = []\n",
    "        loo = LeaveOneOut()\n",
    "        for trIdxs, testIdxs in loo.split(inpX):\n",
    "            clf = LogisticRegression(penalty=penalty, random_state=0, C=C)\n",
    "            clf.fit(inpX[trIdxs, :], inpY[trIdxs])\n",
    "            eProbs.append(clf.predict_proba(inpX[testIdxs, :]))\n",
    "        eProbs = np.array(eProbs).squeeze()\n",
    "        auc = roc_auc_score(inpY, eProbs[:, 1])\n",
    "        fpr, tpr, thresholds = roc_curve(inpY, eProbs[:, 1], pos_label=1)\n",
    "        aucCs.append(auc)\n",
    "            \n",
    "    optC = Cs[np.argmax(aucCs)]\n",
    "    res = edict()\n",
    "    res[\"optC\"] = optC\n",
    "    res[\"Cs\"] = Cs\n",
    "    res[\"aucCs\"] = aucCs\n",
    "    return res"
   ]
  },
  {
   "cell_type": "code",
   "execution_count": 19,
   "metadata": {
    "ExecuteTime": {
     "end_time": "2023-06-29T18:20:17.065627Z",
     "start_time": "2023-06-29T18:20:17.053613Z"
    }
   },
   "outputs": [
    {
     "name": "stdout",
     "output_type": "stream",
     "text": [
      "r_ncpts_mean_Q_mean_L_var_Q_var_L_wUmeanAll_l2\n"
     ]
    }
   ],
   "source": [
    "penalty = \"l2\"\n",
    "Ys = np.concatenate([np.ones(len(fsAD)), np.zeros(len(fsCtrl))])\n",
    "fsName = [\"r\", \"ncpts\", \n",
    "          \"mean_Q\",  \"mean_L\",  \n",
    "          \"var_Q\",  \"var_L\",  \n",
    "          \"wUmeanAll\" ]\n",
    "XsAD = []\n",
    "XsCtrl = []\n",
    "for fName in fsName:\n",
    "    if isinstance(fsAD[0][fName], numbers.Number):\n",
    "        cfAD = np.array([fs[fName] for fs in fsAD]).reshape(-1, 1)\n",
    "        cfCtrl = np.array([fs[fName] for fs in fsCtrl]).reshape(-1, 1)\n",
    "    else:\n",
    "        cfAD = np.array([fs[fName] for fs in fsAD])\n",
    "        cfCtrl = np.array([fs[fName] for fs in fsCtrl])\n",
    "    \n",
    "    XsAD.append(cfAD)\n",
    "    XsCtrl.append(cfCtrl)\n",
    "XsAD = np.concatenate(XsAD, axis=1)\n",
    "XsCtrl = np.concatenate(XsCtrl, axis=1)\n",
    "Xs = np.concatenate([XsAD, XsCtrl], axis=0)\n",
    "stdXs = (Xs - Xs.mean(axis=0))/Xs.std(axis=0)\n",
    "\n",
    "# name prefix to save the results\n",
    "preFix = \"_\".join(fsName) + f\"_{penalty}\"\n",
    "Cs = [0.1, 0.2, 0.4, 0.8, 1, 1.6, 3.2, 6.4, 12.8, 25.6]\n",
    "print(preFix)"
   ]
  },
  {
   "cell_type": "markdown",
   "metadata": {},
   "source": [
    "### First reg (select features)"
   ]
  },
  {
   "cell_type": "markdown",
   "metadata": {},
   "source": [
    "including\n",
    "\n",
    "- features selection"
   ]
  },
  {
   "cell_type": "markdown",
   "metadata": {},
   "source": [
    "#### Fit model"
   ]
  },
  {
   "cell_type": "code",
   "execution_count": 20,
   "metadata": {
    "ExecuteTime": {
     "end_time": "2023-06-29T18:20:58.707475Z",
     "start_time": "2023-06-29T18:20:24.211584Z"
    }
   },
   "outputs": [
    {
     "name": "stdout",
     "output_type": "stream",
     "text": [
      "0.4\n"
     ]
    }
   ],
   "source": [
    "# The opTuningC will be used throughout\n",
    "gOptC = TuningCFn(stdXs, Ys, Cs, penalty=penalty)[\"optC\"]\n",
    "print(gOptC)\n",
    "#gOptC = 0.4"
   ]
  },
  {
   "cell_type": "code",
   "execution_count": 21,
   "metadata": {
    "ExecuteTime": {
     "end_time": "2023-06-29T18:21:16.799966Z",
     "start_time": "2023-06-29T18:21:16.782751Z"
    }
   },
   "outputs": [],
   "source": [
    "# fit the first reg\n",
    "clfFinal = LogisticRegression(penalty=penalty, random_state=0, C=gOptC)\n",
    "clfFinal.fit(stdXs, Ys)\n",
    "coefsFinal = clfFinal.coef_.reshape(-1);"
   ]
  },
  {
   "cell_type": "code",
   "execution_count": null,
   "metadata": {},
   "outputs": [],
   "source": []
  },
  {
   "cell_type": "markdown",
   "metadata": {},
   "source": [
    "#### Bootstrap for pvals\n",
    "\n",
    "I use Bootstrap to select finally as it has better results\n",
    "\n",
    "We can also calculate the pvalue based on bootstrap by assuming, under $H_0$, $\\beta \\sim N(0, \\sigma^2)$. "
   ]
  },
  {
   "cell_type": "code",
   "execution_count": 22,
   "metadata": {
    "ExecuteTime": {
     "end_time": "2023-06-29T18:21:43.425435Z",
     "start_time": "2023-06-29T18:21:19.640611Z"
    }
   },
   "outputs": [
    {
     "name": "stderr",
     "output_type": "stream",
     "text": [
      "100%|███████████████████████████████████████████████████████████████████████████████████████████████████████████████████████████████████| 10000/10000 [00:23<00:00, 429.57it/s]\n"
     ]
    }
   ],
   "source": [
    "def _run_fn_boot(i):\n",
    "    np.random.seed(i)\n",
    "    bootIdx = np.random.choice(len(Ys), len(Ys))\n",
    "    YsBoot = Ys[bootIdx]\n",
    "    stdXsBoot = stdXs[bootIdx]\n",
    "    cur_optC = gOptC\n",
    "    clf = LogisticRegression(penalty=penalty, random_state=0, C=cur_optC)\n",
    "    clf.fit(stdXsBoot, YsBoot)\n",
    "    paras_boot = clf.coef_.reshape(-1)\n",
    "    return paras_boot\n",
    "    \n",
    "n_rep = 10000\n",
    "with Parallel(n_jobs=20) as parallel:\n",
    "    parass_boot = parallel(delayed(_run_fn_boot)(i) \n",
    "                   for i in tqdm(range(n_rep)))"
   ]
  },
  {
   "cell_type": "code",
   "execution_count": 23,
   "metadata": {
    "ExecuteTime": {
     "end_time": "2023-06-29T18:21:45.527734Z",
     "start_time": "2023-06-29T18:21:45.026626Z"
    }
   },
   "outputs": [
    {
     "data": {
      "image/png": "[encoded data removed]",
      "text/plain": [
       "<Figure size 1080x288 with 1 Axes>"
      ]
     },
     "metadata": {
      "needs_background": "light"
     },
     "output_type": "display_data"
    }
   ],
   "source": [
    "parass_boot = np.array(parass_boot)\n",
    "lows, ups = coefsFinal-parass_boot.std(axis=0)*1.96, coefsFinal+parass_boot.std(axis=0)*1.96\n",
    "kpidxBoot = np.bitwise_or(lows >0,  ups < 0)\n",
    "kpidxIdBoot = np.where(kpidxBoot)[0]\n",
    "\n",
    "xlabs = np.concatenate([fsName[:-1],\n",
    "                         region_names])\n",
    "plt.figure(figsize=[15, 4])\n",
    "plt.fill_between(list(range(len(lows))), lows, ups, color=\"red\", alpha=.5)\n",
    "plt.title(\"The 95% CI of the parameters\")\n",
    "_ = plt.xticks(kpidxIdBoot, xlabs[kpidxIdBoot], rotation=30, fontsize=8)\n",
    "\n",
    "select_fs_idx = kpidxBoot;"
   ]
  },
  {
   "cell_type": "code",
   "execution_count": 24,
   "metadata": {
    "ExecuteTime": {
     "end_time": "2023-06-29T18:21:48.773395Z",
     "start_time": "2023-06-29T18:21:48.758416Z"
    }
   },
   "outputs": [],
   "source": [
    "# Pvalue\n",
    "testStatsBoot = coefsFinal/parass_boot.std(axis=0)\n",
    "#testStatsBoot = parassBoot.mean(axis=0)/parassBoot.std(axis=0)\n",
    "normRV = norm()\n",
    "# to be consistent, I think we should use two-sided pvalue;\n",
    "bootPvs = 2*(1-normRV.cdf(np.abs(testStatsBoot)));"
   ]
  },
  {
   "cell_type": "markdown",
   "metadata": {},
   "source": [
    "#### The output table "
   ]
  },
  {
   "cell_type": "code",
   "execution_count": 25,
   "metadata": {
    "ExecuteTime": {
     "end_time": "2023-06-29T18:21:49.986417Z",
     "start_time": "2023-06-29T18:21:49.940161Z"
    }
   },
   "outputs": [
    {
     "name": "stdout",
     "output_type": "stream",
     "text": [
      "                       Feature  Parameters      Lower      Upper   Pvalues\n",
      "0                            r   1.089e+00  5.581e-01  1.621e+00 5.848e-05\n",
      "1                        ncpts  -3.684e-01 -7.279e-01 -8.932e-03 4.457e-02\n",
      "2                   L-Fusiform  -6.296e-01 -9.582e-01 -3.009e-01 1.739e-04\n",
      "3           L-Inferiorparietal   6.051e-01  2.209e-01  9.894e-01 2.026e-03\n",
      "4           L-Inferiortemporal  -3.962e-01 -7.467e-01 -4.564e-02 2.675e-02\n",
      "5           L-Lateraloccipital  -4.399e-01 -8.281e-01 -5.156e-02 2.640e-02\n",
      "6                    L-Lingual  -4.877e-01 -7.969e-01 -1.785e-01 1.989e-03\n",
      "7            L-Parahippocampal  -3.870e-01 -6.553e-01 -1.187e-01 4.696e-03\n",
      "8   L-Rostralanteriorcingulate   6.682e-01  3.204e-01  1.016e+00 1.659e-04\n",
      "9           L-Superiorparietal  -4.096e-01 -7.835e-01 -3.574e-02 3.176e-02\n",
      "10          L-Superiortemporal   3.459e-01  6.626e-02  6.255e-01 1.533e-02\n",
      "11              L-Temporalpole   3.784e-01  8.505e-02  6.718e-01 1.146e-02\n",
      "12                    R-Cuneus  -3.560e-01 -7.113e-01 -6.818e-04 4.956e-02\n",
      "13          R-Inferiorparietal  -3.857e-01 -7.613e-01 -1.018e-02 4.410e-02\n",
      "14          R-Inferiortemporal   4.696e-01  1.609e-01  7.783e-01 2.867e-03\n",
      "15             R-Pericalcarine  -4.292e-01 -8.010e-01 -5.730e-02 2.370e-02\n"
     ]
    }
   ],
   "source": [
    "resDic = {\n",
    "   \"Feature\" : xlabs[kpidxBoot],  \n",
    "    \"Parameters\": coefsFinal[kpidxBoot],\n",
    "    \"Lower\": lows[kpidxBoot],\n",
    "    \"Upper\": ups[kpidxBoot],\n",
    "    \"Pvalues\": bootPvs[kpidxBoot]\n",
    "}\n",
    "#pd.set_option(\"display.precision\", 3)\n",
    "pd.set_option('display.float_format',lambda x : '%.3e' % x)\n",
    "resDF = pd.DataFrame(resDic)\n",
    "print(resDF)"
   ]
  },
  {
   "cell_type": "code",
   "execution_count": 26,
   "metadata": {
    "ExecuteTime": {
     "end_time": "2023-06-29T18:22:58.965557Z",
     "start_time": "2023-06-29T18:22:58.918238Z"
    }
   },
   "outputs": [
    {
     "name": "stdout",
     "output_type": "stream",
     "text": [
      "\\begin{tabular}{llrrrr}\n",
      "\\toprule\n",
      "{} & Feature &  Parameters &  Lower &  Upper &  Pvalues \\\\\n",
      "\\midrule\n",
      "0 &       r &       1.089 &  0.558 &  1.621 &    0.000 \\\\\n",
      "1 &   ncpts &      -0.368 & -0.728 & -0.009 &    0.045 \\\\\n",
      "2 &  mean\\_Q &      -0.274 & -0.618 &  0.070 &    0.119 \\\\\n",
      "3 &  mean\\_L &       0.196 & -0.222 &  0.615 &    0.358 \\\\\n",
      "4 &   var\\_Q &      -0.152 & -0.478 &  0.173 &    0.358 \\\\\n",
      "5 &   var\\_L &      -0.158 & -0.634 &  0.318 &    0.515 \\\\\n",
      "\\bottomrule\n",
      "\\end{tabular}\n",
      "\n"
     ]
    },
    {
     "data": {
      "text/html": [
       "<div>\n",
       "<style scoped>\n",
       "    .dataframe tbody tr th:only-of-type {\n",
       "        vertical-align: middle;\n",
       "    }\n",
       "\n",
       "    .dataframe tbody tr th {\n",
       "        vertical-align: top;\n",
       "    }\n",
       "\n",
       "    .dataframe thead th {\n",
       "        text-align: right;\n",
       "    }\n",
       "</style>\n",
       "<table border=\"1\" class=\"dataframe\">\n",
       "  <thead>\n",
       "    <tr style=\"text-align: right;\">\n",
       "      <th></th>\n",
       "      <th>Feature</th>\n",
       "      <th>Parameters</th>\n",
       "      <th>Lower</th>\n",
       "      <th>Upper</th>\n",
       "      <th>Pvalues</th>\n",
       "    </tr>\n",
       "  </thead>\n",
       "  <tbody>\n",
       "    <tr>\n",
       "      <th>0</th>\n",
       "      <td>r</td>\n",
       "      <td>1.089e+00</td>\n",
       "      <td>5.581e-01</td>\n",
       "      <td>1.621e+00</td>\n",
       "      <td>5.848e-05</td>\n",
       "    </tr>\n",
       "    <tr>\n",
       "      <th>1</th>\n",
       "      <td>ncpts</td>\n",
       "      <td>-3.684e-01</td>\n",
       "      <td>-7.279e-01</td>\n",
       "      <td>-8.932e-03</td>\n",
       "      <td>4.457e-02</td>\n",
       "    </tr>\n",
       "    <tr>\n",
       "      <th>2</th>\n",
       "      <td>mean_Q</td>\n",
       "      <td>-2.740e-01</td>\n",
       "      <td>-6.184e-01</td>\n",
       "      <td>7.039e-02</td>\n",
       "      <td>1.189e-01</td>\n",
       "    </tr>\n",
       "    <tr>\n",
       "      <th>3</th>\n",
       "      <td>mean_L</td>\n",
       "      <td>1.961e-01</td>\n",
       "      <td>-2.222e-01</td>\n",
       "      <td>6.145e-01</td>\n",
       "      <td>3.582e-01</td>\n",
       "    </tr>\n",
       "    <tr>\n",
       "      <th>4</th>\n",
       "      <td>var_Q</td>\n",
       "      <td>-1.524e-01</td>\n",
       "      <td>-4.776e-01</td>\n",
       "      <td>1.728e-01</td>\n",
       "      <td>3.584e-01</td>\n",
       "    </tr>\n",
       "    <tr>\n",
       "      <th>5</th>\n",
       "      <td>var_L</td>\n",
       "      <td>-1.582e-01</td>\n",
       "      <td>-6.344e-01</td>\n",
       "      <td>3.181e-01</td>\n",
       "      <td>5.151e-01</td>\n",
       "    </tr>\n",
       "  </tbody>\n",
       "</table>\n",
       "</div>"
      ],
      "text/plain": [
       "  Feature  Parameters      Lower      Upper   Pvalues\n",
       "0       r   1.089e+00  5.581e-01  1.621e+00 5.848e-05\n",
       "1   ncpts  -3.684e-01 -7.279e-01 -8.932e-03 4.457e-02\n",
       "2  mean_Q  -2.740e-01 -6.184e-01  7.039e-02 1.189e-01\n",
       "3  mean_L   1.961e-01 -2.222e-01  6.145e-01 3.582e-01\n",
       "4   var_Q  -1.524e-01 -4.776e-01  1.728e-01 3.584e-01\n",
       "5   var_L  -1.582e-01 -6.344e-01  3.181e-01 5.151e-01"
      ]
     },
     "execution_count": 26,
     "metadata": {},
     "output_type": "execute_result"
    }
   ],
   "source": [
    "fsDic = {\n",
    "   \"Feature\" : xlabs[:-68],  \n",
    "    \"Parameters\": coefsFinal[:-68],\n",
    "    \"Lower\": lows[:-68],\n",
    "    \"Upper\": ups[:-68],\n",
    "    \"Pvalues\": bootPvs[:-68]\n",
    "}\n",
    "#pd.set_option(\"display.precision\", 3)\n",
    "pd.set_option('display.float_format',lambda x : '%.3e' % x)\n",
    "fsDF = pd.DataFrame(fsDic)\n",
    "print(fsDF.to_latex(float_format=\"{:0.3f}\".format))\n",
    "fsDF"
   ]
  },
  {
   "cell_type": "code",
   "execution_count": null,
   "metadata": {},
   "outputs": [],
   "source": []
  },
  {
   "cell_type": "markdown",
   "metadata": {},
   "source": [
    "### Second reg\n",
    "\n",
    "(AUC)"
   ]
  },
  {
   "cell_type": "code",
   "execution_count": 27,
   "metadata": {
    "ExecuteTime": {
     "end_time": "2023-06-29T18:23:02.967286Z",
     "start_time": "2023-06-29T18:23:02.962779Z"
    }
   },
   "outputs": [
    {
     "data": {
      "text/plain": [
       "(176, 16)"
      ]
     },
     "execution_count": 27,
     "metadata": {},
     "output_type": "execute_result"
    }
   ],
   "source": [
    "# select fs\n",
    "stdXs_selected = stdXs[:, select_fs_idx]\n",
    "stdXs_selected.shape"
   ]
  },
  {
   "cell_type": "code",
   "execution_count": 28,
   "metadata": {
    "ExecuteTime": {
     "end_time": "2023-06-29T18:23:20.483497Z",
     "start_time": "2023-06-29T18:23:09.557328Z"
    }
   },
   "outputs": [
    {
     "name": "stdout",
     "output_type": "stream",
     "text": [
      "3.2\n"
     ]
    }
   ],
   "source": [
    "gOptC2 = TuningCFn(stdXs_selected, Ys, Cs, penalty=penalty)[\"optC\"]\n",
    "print(gOptC2)\n",
    "#gOptC2 = 3.2\n",
    "def pred_run_fn_sel(trIdxs, testIdxs, curOptC=None):\n",
    "    \"\"\"\n",
    "    This function trains a logistic regression model on the given training indices and predicts probabilities for the test indices.\n",
    "\n",
    "    Args:\n",
    "    trIdxs (array-like): Indices of the training data.\n",
    "    testIdxs (array-like): Indices of the test data.\n",
    "\n",
    "    Returns:\n",
    "    eprob (array-like): Predicted probabilities for the test data.\n",
    "    paras (array-like): Coefficients of the logistic regression model.\n",
    "    \"\"\"\n",
    "    curStdXs, curYs = stdXs_selected[trIdxs, :], Ys[trIdxs]\n",
    "    if curOptC is None:\n",
    "        curOptC = TuningCFn(curStdXs, curYs, Cs, penalty=penalty)[\"optC\"]\n",
    "    clf = LogisticRegression(penalty=penalty, random_state=0, C=curOptC)\n",
    "    clf.fit(curStdXs, curYs)\n",
    "    paras = clf.coef_.reshape(-1)\n",
    "    eprob = clf.predict_proba(stdXs_selected[testIdxs, :])\n",
    "\n",
    "    return eprob, paras, curOptC"
   ]
  },
  {
   "cell_type": "code",
   "execution_count": 30,
   "metadata": {
    "ExecuteTime": {
     "end_time": "2023-06-29T21:40:52.004014Z",
     "start_time": "2023-06-29T21:40:51.982612Z"
    }
   },
   "outputs": [
    {
     "data": {
      "text/plain": [
       "(168.28359461648043, 199.62674989200184)"
      ]
     },
     "execution_count": 30,
     "metadata": {},
     "output_type": "execute_result"
    }
   ],
   "source": [
    "def get_ABIC(Xs, Ys, C):\n",
    "    lam = 2/C\n",
    "    clf_info = LogisticRegression(penalty=\"l2\", random_state=0, C=C);\n",
    "    clf_info.fit(Xs, Ys)\n",
    "    eprobs1 = clf_info.predict_proba(Xs)[:, 1];\n",
    "    logL = np.sum(Ys*np.log(eprobs1) + (1-Ys)*np.log(1-eprobs1));\n",
    "    \n",
    "    # effective df\n",
    "    fXs = np.concatenate([np.ones((Xs.shape[0], 1)), Xs], axis=-1)\n",
    "    logL_der2 = -fXs.T @ np.diag(eprobs1*(1-eprobs1)) @ fXs;\n",
    "    logL_der2_ridge = logL_der2 - lam * np.eye(logL_der2.shape[0]);\n",
    "    dfe = np.diag(logL_der2@np.linalg.inv(logL_der2_ridge)).sum();\n",
    "    aic = -2*logL + 2*dfe\n",
    "    bic = -2*logL + np.log(Ys.shape[0])*dfe\n",
    "    return aic, bic\n",
    "# AIC BIC\n",
    "get_ABIC(stdXs_selected, Ys, gOptC2)"
   ]
  },
  {
   "cell_type": "code",
   "execution_count": null,
   "metadata": {},
   "outputs": [],
   "source": []
  }
 ],
 "metadata": {
  "kernelspec": {
   "display_name": "Python 3 (ipykernel)",
   "language": "python",
   "name": "python3"
  },
  "language_info": {
   "codemirror_mode": {
    "name": "ipython",
    "version": 3
   },
   "file_extension": ".py",
   "mimetype": "text/x-python",
   "name": "python",
   "nbconvert_exporter": "python",
   "pygments_lexer": "ipython3",
   "version": "3.9.7"
  },
  "toc": {
   "base_numbering": 1,
   "nav_menu": {},
   "number_sections": true,
   "sideBar": true,
   "skip_h1_title": false,
   "title_cell": "Table of Contents",
   "title_sidebar": "Contents",
   "toc_cell": false,
   "toc_position": {
    "height": "calc(100% - 180px)",
    "left": "10px",
    "top": "150px",
    "width": "165px"
   },
   "toc_section_display": true,
   "toc_window_display": true
  },
  "varInspector": {
   "cols": {
    "lenName": 16,
    "lenType": 16,
    "lenVar": 40
   },
   "kernels_config": {
    "python": {
     "delete_cmd_postfix": "",
     "delete_cmd_prefix": "del ",
     "library": "var_list.py",
     "varRefreshCmd": "print(var_dic_list())"
    },
    "r": {
     "delete_cmd_postfix": ") ",
     "delete_cmd_prefix": "rm(",
     "library": "var_list.r",
     "varRefreshCmd": "cat(var_dic_list()) "
    }
   },
   "position": {
    "height": "393.844px",
    "left": "1550px",
    "right": "20px",
    "top": "120px",
    "width": "350px"
   },
   "types_to_exclude": [
    "module",
    "function",
    "builtin_function_or_method",
    "instance",
    "_Feature"
   ],
   "window_display": false
  }
 },
 "nbformat": 4,
 "nbformat_minor": 2
}
