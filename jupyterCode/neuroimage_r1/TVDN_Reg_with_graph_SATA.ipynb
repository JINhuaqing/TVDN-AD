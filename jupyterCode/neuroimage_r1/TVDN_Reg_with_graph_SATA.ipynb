{
 "cells": [
  {
   "cell_type": "markdown",
   "metadata": {},
   "source": [
    "This file is to do the main regression with graph metrics from FC. \n",
    "\n",
    "Currently, the regression has two steps, \n",
    "\n",
    "1. Regression with all features and ridge penalty, and select the siginifcant features.\n",
    "    - The brain plots are based on this results\n",
    "\n",
    "2. Regression with the selected features and ridge penalty again. \n",
    "    - The AUC is reported with this regression\n",
    "    \n",
    "I also include some TA SA feature\n",
    "\n",
    "I also plot the AUC for all 4 methods in this file\n"
   ]
  },
  {
   "cell_type": "code",
   "execution_count": 1,
   "metadata": {
    "ExecuteTime": {
     "end_time": "2023-06-29T04:04:20.608577Z",
     "start_time": "2023-06-29T04:04:20.593300Z"
    }
   },
   "outputs": [
    {
     "data": {
      "text/plain": [
       "PosixPath('../..')"
      ]
     },
     "execution_count": 1,
     "metadata": {},
     "output_type": "execute_result"
    }
   ],
   "source": [
    "import sys\n",
    "sys.path.append(\"../../\")\n",
    "from pathlib import Path\n",
    "root = Path(\"../../\")"
   ]
  },
  {
   "cell_type": "code",
   "execution_count": 2,
   "metadata": {
    "ExecuteTime": {
     "end_time": "2023-06-29T04:04:24.902307Z",
     "start_time": "2023-06-29T04:04:21.294014Z"
    }
   },
   "outputs": [],
   "source": [
    "from pathlib import Path\n",
    "from scipy.io import loadmat\n",
    "import numpy as np\n",
    "from easydict import EasyDict as edict\n",
    "import matplotlib.pyplot as plt\n",
    "import os\n",
    "import scipy.stats as ss\n",
    "from scipy import signal\n",
    "from tqdm import tqdm\n",
    "import pickle\n",
    "import seaborn as sns\n",
    "import numbers\n",
    "import scipy\n",
    "import pandas as pd\n",
    "import statsmodels.api as sm\n",
    "from joblib import Parallel, delayed\n",
    "%matplotlib inline"
   ]
  },
  {
   "cell_type": "code",
   "execution_count": 3,
   "metadata": {
    "ExecuteTime": {
     "end_time": "2023-06-29T04:04:27.754233Z",
     "start_time": "2023-06-29T04:04:24.904502Z"
    }
   },
   "outputs": [],
   "source": [
    "import importlib\n",
    "import pyTVDN.utils\n",
    "importlib.reload(pyTVDN.utils)\n",
    "from pyTVDN.utils import load_pkl, save_pkl"
   ]
  },
  {
   "cell_type": "code",
   "execution_count": 4,
   "metadata": {
    "ExecuteTime": {
     "end_time": "2023-06-29T04:04:27.790123Z",
     "start_time": "2023-06-29T04:04:27.756462Z"
    }
   },
   "outputs": [],
   "source": [
    "with open(root/\"OtherFils/data_roi_order.txt\", \"r\") as f:\n",
    "    region_names_raw = f.readlines()\n",
    "region_names_raw\n",
    "region_names = [i.strip()[4].title() + i.strip()[6:].title() \n",
    "               for i in region_names_raw if len(i.strip())>0];"
   ]
  },
  {
   "cell_type": "code",
   "execution_count": 5,
   "metadata": {
    "ExecuteTime": {
     "end_time": "2023-06-29T04:04:27.807186Z",
     "start_time": "2023-06-29T04:04:27.792272Z"
    }
   },
   "outputs": [
    {
     "data": {
      "text/plain": [
       "PosixPath('../../data')"
      ]
     },
     "execution_count": 5,
     "metadata": {},
     "output_type": "execute_result"
    }
   ],
   "source": [
    "resDir = root/\"results\"\n",
    "dataDir = root/\"data\""
   ]
  },
  {
   "cell_type": "code",
   "execution_count": null,
   "metadata": {},
   "outputs": [],
   "source": []
  },
  {
   "cell_type": "markdown",
   "metadata": {},
   "source": [
    "## Load features"
   ]
  },
  {
   "cell_type": "markdown",
   "metadata": {},
   "source": [
    "### Load data"
   ]
  },
  {
   "cell_type": "code",
   "execution_count": 6,
   "metadata": {
    "ExecuteTime": {
     "end_time": "2023-06-29T04:04:29.137464Z",
     "start_time": "2023-06-29T04:04:29.112999Z"
    }
   },
   "outputs": [],
   "source": [
    "kpAD, kpCtrl, kpAll = load_pkl(root/\"OtherFils/KpIdxsAll.pkl\")"
   ]
  },
  {
   "cell_type": "code",
   "execution_count": 7,
   "metadata": {
    "ExecuteTime": {
     "end_time": "2023-06-29T04:04:30.591716Z",
     "start_time": "2023-06-29T04:04:30.526922Z"
    },
    "code_folding": []
   },
   "outputs": [],
   "source": [
    "# ecpts\n",
    "fil = list(resDir.glob(\"AD_*_ecpts.pkl\"))[0]\n",
    "ecptssAD = load_pkl(fil)\n",
    "fil = list(resDir.glob(\"Ctrl_*_ecpts.pkl\"))[0]\n",
    "ecptssCtrl = load_pkl(fil);"
   ]
  },
  {
   "cell_type": "code",
   "execution_count": 8,
   "metadata": {
    "ExecuteTime": {
     "end_time": "2023-06-29T04:04:31.169321Z",
     "start_time": "2023-06-29T04:04:31.079593Z"
    }
   },
   "outputs": [],
   "source": [
    "# Eigvals\n",
    "fil = list(resDir.glob(\"AD_*_eigVals.pkl\"))[0]\n",
    "eigValsAD = load_pkl(fil)\n",
    "fil = list(resDir.glob(\"Ctrl_*_eigVals.pkl\"))[0]\n",
    "eigValsCtrl = load_pkl(fil);"
   ]
  },
  {
   "cell_type": "code",
   "execution_count": 9,
   "metadata": {
    "ExecuteTime": {
     "end_time": "2023-06-29T04:04:31.993787Z",
     "start_time": "2023-06-29T04:04:31.856953Z"
    }
   },
   "outputs": [],
   "source": [
    "fil = list(resDir.glob(\"AD_*_eigVecs.pkl\"))[0]\n",
    "eigVecsAD = load_pkl(fil)\n",
    "fil = list(resDir.glob(\"Ctrl_*_eigVecs.pkl\"))[0]\n",
    "eigVecsCtrl = load_pkl(fil);"
   ]
  },
  {
   "cell_type": "code",
   "execution_count": 10,
   "metadata": {
    "ExecuteTime": {
     "end_time": "2023-06-29T04:04:32.416936Z",
     "start_time": "2023-06-29T04:04:32.411333Z"
    }
   },
   "outputs": [],
   "source": [
    "# Sel data (only need when use sub data)\n",
    "ecptssAD = [ ecptsAD for ecptsAD, kpix in zip(ecptssAD, kpAD) if kpix==1]\n",
    "ecptssCtrl = [ ecptsCtrl for ecptsCtrl, kpix in zip(ecptssCtrl, kpCtrl) if kpix==1]\n",
    "eigValsAD = [ v for v, kpix in zip(eigValsAD, kpAD) if kpix==1]\n",
    "eigValsCtrl = [ v for v, kpix in zip(eigValsCtrl, kpCtrl) if kpix==1]\n",
    "eigVecsAD = [ v for v, kpix in zip(eigVecsAD, kpAD) if kpix==1]\n",
    "eigVecsCtrl = [ v for v, kpix in zip(eigVecsCtrl, kpCtrl) if kpix==1];"
   ]
  },
  {
   "cell_type": "code",
   "execution_count": 11,
   "metadata": {
    "ExecuteTime": {
     "end_time": "2023-06-29T04:04:33.223632Z",
     "start_time": "2023-06-29T04:04:33.108384Z"
    }
   },
   "outputs": [],
   "source": [
    "TAs_AD = load_pkl(resDir/\"neuroimage_r1/SA_TA_features/TA_AD_nofilter.pkl\");\n",
    "TAs_Ctrl = load_pkl(resDir/\"neuroimage_r1/SA_TA_features/TA_Ctrl_nofilter.pkl\");\n",
    "SAs_AD = load_pkl(resDir/\"neuroimage_r1/SA_TA_features/SA_AD_nofilter.pkl\");\n",
    "SAs_Ctrl = load_pkl(resDir/\"neuroimage_r1/SA_TA_features/SA_Ctrl_nofilter.pkl\");\n",
    "\n",
    "TAs_AD = TAs_AD[kpAD==1]\n",
    "TAs_Ctrl = TAs_Ctrl[kpCtrl==1]\n",
    "SAs_AD = SAs_AD[kpAD==1]\n",
    "SAs_Ctrl = SAs_Ctrl[kpCtrl==1];"
   ]
  },
  {
   "cell_type": "code",
   "execution_count": 12,
   "metadata": {
    "ExecuteTime": {
     "end_time": "2023-06-29T04:04:33.917235Z",
     "start_time": "2023-06-29T04:04:33.828977Z"
    }
   },
   "outputs": [],
   "source": [
    "# graph metrics from TVDN\n",
    "graph_fs_AD = load_pkl(resDir/\"graphic_fs_AD.pkl\")\n",
    "graph_fs_Ctrl = load_pkl(resDir/\"graphic_fs_Ctrl.pkl\");"
   ]
  },
  {
   "cell_type": "code",
   "execution_count": 13,
   "metadata": {
    "ExecuteTime": {
     "end_time": "2023-06-29T04:04:34.348282Z",
     "start_time": "2023-06-29T04:04:34.315079Z"
    }
   },
   "outputs": [],
   "source": [
    "### The canonical networks\n",
    "def minmax(x):\n",
    "    num = x - np.min(x)\n",
    "    den = np.max(x) - np.min(x)\n",
    "    return num/den\n",
    "\n",
    "def minmax_brainplotting(x):\n",
    "    num = x - np.min(x)\n",
    "    den = np.max(x) - np.min(x)\n",
    "    return num/den + 1e-3\n",
    "\n",
    "fcR = pd.read_csv(resDir/'../OtherFils/DK_dic68.csv').set_index('Unnamed: 0')\n",
    "rowNames = list(fcR.index)\n",
    "colNames = np.array(fcR.columns)\n",
    "\n",
    "fcRarr = np.array(fcR)\n",
    "\n",
    "# minmax \n",
    "fcRarrMM = np.zeros_like(fcRarr)\n",
    "for i, fcRar in enumerate(fcRarr):\n",
    "    # minmax does not affect pearson corr\n",
    "    fcRarrMM[i, :] = minmax(fcRar)"
   ]
  },
  {
   "cell_type": "code",
   "execution_count": 14,
   "metadata": {
    "ExecuteTime": {
     "end_time": "2023-06-29T04:04:35.003270Z",
     "start_time": "2023-06-29T04:04:34.999847Z"
    }
   },
   "outputs": [],
   "source": [
    "# calculat the topk mean of graphic feature based on dwell time\n",
    "def topk_mean(topk, graphic_f, dwell, key):\n",
    "    idxs = np.argsort(-dwell)[:topk]\n",
    "    sel_graphic_f = np.array([graphic_f[idx][key] for idx in idxs])\n",
    "    mean_v = np.mean(sel_graphic_f)\n",
    "    return mean_v"
   ]
  },
  {
   "cell_type": "code",
   "execution_count": null,
   "metadata": {},
   "outputs": [],
   "source": []
  },
  {
   "cell_type": "markdown",
   "metadata": {},
   "source": [
    "### The basic data transformation "
   ]
  },
  {
   "cell_type": "code",
   "execution_count": 15,
   "metadata": {
    "ExecuteTime": {
     "end_time": "2023-06-29T04:04:36.295962Z",
     "start_time": "2023-06-29T04:04:36.287565Z"
    }
   },
   "outputs": [],
   "source": [
    "# Dwell times in second\n",
    "freq = 120\n",
    "dwellsAD = [np.diff(np.concatenate([[0], ecpts, [7200]])/freq) for ecpts in ecptssAD]\n",
    "dwellsCtrl = [np.diff(np.concatenate([[0], ecpts, [7200]])/freq) for ecpts in ecptssCtrl];"
   ]
  },
  {
   "cell_type": "code",
   "execution_count": 16,
   "metadata": {
    "ExecuteTime": {
     "end_time": "2023-06-29T04:04:37.380431Z",
     "start_time": "2023-06-29T04:04:37.320978Z"
    },
    "code_folding": []
   },
   "outputs": [],
   "source": [
    "ecptss = ecptssAD\n",
    "dwells = dwellsAD\n",
    "eigVals = eigValsAD\n",
    "eigVecs = eigVecsAD\n",
    "TAs = TAs_AD\n",
    "SAs = SAs_AD\n",
    "graph_fs = graph_fs_AD\n",
    "\n",
    "fsAll = []\n",
    "for i in range(len(ecptss)):\n",
    "    fs = edict()\n",
    "    dwell = dwells[i]\n",
    "    fs.dwell = dwell \n",
    "    fs.ncpts = len(ecptss[i])\n",
    "    fs.meanDwell = np.mean(dwell)\n",
    "    fs.maxDwell = np.max(dwell)\n",
    "    fs.minDwell = np.min(dwell)\n",
    "    \n",
    "    eigVal = eigVals[i]\n",
    "    fs.wUmeanAll = np.abs(np.matmul(eigVecs[i], np.array(eigVal).T).real).mean(axis=1)\n",
    "    \n",
    "    idx = np.argmax(dwell)\n",
    "    maxEigVal = eigVal[idx]\n",
    "    fs.r  = len(maxEigVal)\n",
    "    \n",
    "    # graph metric\n",
    "    graph_f = graph_fs[i]\n",
    "    fs[\"top1_Q\"] = topk_mean(1, graph_f, dwell, \"tQ\")\n",
    "    fs[\"top1_C\"] = topk_mean(1, graph_f, dwell, \"tmC\")\n",
    "    fs[\"top1_L\"] = topk_mean(1, graph_f, dwell, \"tmL\")\n",
    "    fs[\"mean_Q\"] = np.mean([v[\"tQ\"] for v in graph_f])\n",
    "    fs[\"mean_C\"] = np.mean([v[\"tmC\"] for v in graph_f])\n",
    "    fs[\"mean_L\"] = np.mean([v[\"tmL\"] for v in graph_f])\n",
    "    fs[\"var_Q\"] = np.var([v[\"tQ\"] for v in graph_f])\n",
    "    fs[\"var_C\"] = np.var([v[\"tmC\"] for v in graph_f])\n",
    "    fs[\"var_L\"] = np.var([v[\"tmL\"] for v in graph_f])\n",
    "    \n",
    "    # TA SA\n",
    "    fs.gTA = TAs[i].mean()\n",
    "    fs.SA_inf = SAs[i, 0]\n",
    "    fs.SA_lam = SAs[i, 1]\n",
    "    \n",
    "    fsAll.append(fs)\n",
    "    \n",
    "fsAD = fsAll;    "
   ]
  },
  {
   "cell_type": "code",
   "execution_count": 17,
   "metadata": {
    "ExecuteTime": {
     "end_time": "2023-06-29T04:04:37.817487Z",
     "start_time": "2023-06-29T04:04:37.772731Z"
    },
    "code_folding": []
   },
   "outputs": [],
   "source": [
    "ecptss = ecptssCtrl\n",
    "dwells = dwellsCtrl\n",
    "eigVals = eigValsCtrl\n",
    "eigVecs = eigVecsCtrl\n",
    "TAs = TAs_Ctrl\n",
    "SAs = SAs_Ctrl\n",
    "graph_fs = graph_fs_Ctrl\n",
    "\n",
    "fsAll = []\n",
    "for i in range(len(ecptss)):\n",
    "    fs = edict()\n",
    "    dwell = dwells[i]\n",
    "    fs.dwell = dwell \n",
    "    fs.ncpts = len(ecptss[i])\n",
    "    fs.meanDwell = np.mean(dwell)\n",
    "    fs.maxDwell = np.max(dwell)\n",
    "    fs.minDwell = np.min(dwell)\n",
    "    \n",
    "    eigVal = eigVals[i]\n",
    "    fs.wUmeanAll = np.abs(np.matmul(eigVecs[i], np.array(eigVal).T).real).mean(axis=1)\n",
    "    \n",
    "    idx = np.argmax(dwell)\n",
    "    maxEigVal = eigVal[idx]\n",
    "    fs.r  = len(maxEigVal)\n",
    "    \n",
    "    # graph metric\n",
    "    graph_f = graph_fs[i]\n",
    "    fs[\"top1_Q\"] = topk_mean(1, graph_f, dwell, \"tQ\")\n",
    "    fs[\"top1_C\"] = topk_mean(1, graph_f, dwell, \"tmC\")\n",
    "    fs[\"top1_L\"] = topk_mean(1, graph_f, dwell, \"tmL\")\n",
    "    fs[\"mean_Q\"] = np.mean([v[\"tQ\"] for v in graph_f])\n",
    "    fs[\"mean_C\"] = np.mean([v[\"tmC\"] for v in graph_f])\n",
    "    fs[\"mean_L\"] = np.mean([v[\"tmL\"] for v in graph_f])\n",
    "    fs[\"var_Q\"] = np.var([v[\"tQ\"] for v in graph_f])\n",
    "    fs[\"var_C\"] = np.var([v[\"tmC\"] for v in graph_f])\n",
    "    fs[\"var_L\"] = np.var([v[\"tmL\"] for v in graph_f])\n",
    "    \n",
    "    # TA SA\n",
    "    fs.gTA = TAs[i].mean()\n",
    "    fs.SA_inf = SAs[i, 0]\n",
    "    fs.SA_lam = SAs[i, 1]\n",
    "    \n",
    "    fsAll.append(fs)\n",
    "    \n",
    "fsCtrl = fsAll;    "
   ]
  },
  {
   "cell_type": "code",
   "execution_count": null,
   "metadata": {},
   "outputs": [],
   "source": []
  },
  {
   "cell_type": "markdown",
   "metadata": {},
   "source": [
    "##  Regression in TVDN"
   ]
  },
  {
   "cell_type": "code",
   "execution_count": 18,
   "metadata": {
    "ExecuteTime": {
     "end_time": "2023-06-29T04:04:39.839576Z",
     "start_time": "2023-06-29T04:04:39.317802Z"
    }
   },
   "outputs": [],
   "source": [
    "from sklearn.linear_model import LogisticRegression\n",
    "from sklearn.ensemble import GradientBoostingClassifier as GBC\n",
    "from sklearn.model_selection import LeaveOneOut\n",
    "from sklearn.metrics import roc_auc_score, roc_curve\n",
    "from sklearn.model_selection import cross_val_predict\n",
    "\n",
    "import matplotlib.cbook as cbook\n",
    "import statsmodels.api as sm\n",
    "\n",
    "from sklearn.cluster import KMeans, SpectralClustering\n",
    "from scipy.stats import fisher_exact, norm\n",
    "from prettytable import PrettyTable as pTB\n",
    "from sklearn.metrics import f1_score\n",
    "from collections import defaultdict as ddict\n",
    "\n",
    "\n",
    "from sklearn.cluster import SpectralClustering, AgglomerativeClustering\n",
    "from sklearn.mixture import GaussianMixture\n",
    "from scipy.stats import chi2_contingency\n",
    "from sklearn.decomposition import PCA\n",
    "\n",
    "import warnings\n",
    "warnings.filterwarnings('ignore')"
   ]
  },
  {
   "cell_type": "code",
   "execution_count": 19,
   "metadata": {
    "ExecuteTime": {
     "end_time": "2023-06-29T04:04:41.092075Z",
     "start_time": "2023-06-29T04:04:41.082582Z"
    }
   },
   "outputs": [],
   "source": [
    "def TuningCFnCV(inpX, inpY, Cs=[0.1, 0.2, 0.4, 0.8, 1, 1.6, 3.2, 6.4, 12.8, 25.6], penalty=\"l2\", n_jobs=1):\n",
    "    aucCs = []\n",
    "    for C in Cs:\n",
    "        clf = LogisticRegression(penalty=penalty, random_state=0, C=C)\n",
    "        cv_eprobs = cross_val_predict(clf, inpX, inpY, cv=len(inpX)-1, method='predict_proba', n_jobs=n_jobs);\n",
    "        auc = roc_auc_score(inpY, cv_eprobs[:, 1])\n",
    "        aucCs.append(auc)\n",
    "    optC = Cs[np.argmax(aucCs)]\n",
    "    res = edict()\n",
    "    res[\"optC\"] = optC\n",
    "    res[\"Cs\"] = Cs\n",
    "    res[\"aucCs\"] = aucCs\n",
    "    return res\n",
    "\n",
    "def TuningCFn(inpX, inpY, Cs=[0.1, 0.2, 0.4, 0.8, 1, 1.6, 3.2, 6.4, 12.8, 25.6], penalty=\"l2\"):\n",
    "    aucCs = []\n",
    "    for C in Cs:\n",
    "        eProbs = []\n",
    "        loo = LeaveOneOut()\n",
    "        for trIdxs, testIdxs in loo.split(inpX):\n",
    "            clf = LogisticRegression(penalty=penalty, random_state=0, C=C)\n",
    "            clf.fit(inpX[trIdxs, :], inpY[trIdxs])\n",
    "            eProbs.append(clf.predict_proba(inpX[testIdxs, :]))\n",
    "        eProbs = np.array(eProbs).squeeze()\n",
    "        auc = roc_auc_score(inpY, eProbs[:, 1])\n",
    "        fpr, tpr, thresholds = roc_curve(inpY, eProbs[:, 1], pos_label=1)\n",
    "        aucCs.append(auc)\n",
    "            \n",
    "    optC = Cs[np.argmax(aucCs)]\n",
    "    res = edict()\n",
    "    res[\"optC\"] = optC\n",
    "    res[\"Cs\"] = Cs\n",
    "    res[\"aucCs\"] = aucCs\n",
    "    return res"
   ]
  },
  {
   "cell_type": "code",
   "execution_count": 20,
   "metadata": {
    "ExecuteTime": {
     "end_time": "2023-06-29T04:04:45.850447Z",
     "start_time": "2023-06-29T04:04:45.840966Z"
    }
   },
   "outputs": [
    {
     "name": "stdout",
     "output_type": "stream",
     "text": [
      "r_ncpts_mean_Q_mean_L_var_Q_var_L_wUmeanAll_l2\n"
     ]
    }
   ],
   "source": [
    "penalty = \"l2\"\n",
    "Ys = np.concatenate([np.ones(len(fsAD)), np.zeros(len(fsCtrl))])\n",
    "fsName = [\"r\", \"ncpts\", \n",
    "          #\"gTA\", \"SA_inf\", \"SA_lam\",\n",
    "          \"mean_Q\",  \"mean_L\",  \n",
    "          \"var_Q\",  \"var_L\",  \n",
    "          \"wUmeanAll\" ]\n",
    "XsAD = []\n",
    "XsCtrl = []\n",
    "for fName in fsName:\n",
    "    if isinstance(fsAD[0][fName], numbers.Number):\n",
    "        cfAD = np.array([fs[fName] for fs in fsAD]).reshape(-1, 1)\n",
    "        cfCtrl = np.array([fs[fName] for fs in fsCtrl]).reshape(-1, 1)\n",
    "    else:\n",
    "        cfAD = np.array([fs[fName] for fs in fsAD])\n",
    "        cfCtrl = np.array([fs[fName] for fs in fsCtrl])\n",
    "    \n",
    "    XsAD.append(cfAD)\n",
    "    XsCtrl.append(cfCtrl)\n",
    "XsAD = np.concatenate(XsAD, axis=1)\n",
    "XsCtrl = np.concatenate(XsCtrl, axis=1)\n",
    "Xs = np.concatenate([XsAD, XsCtrl], axis=0)\n",
    "stdXs = (Xs - Xs.mean(axis=0))/Xs.std(axis=0)\n",
    "\n",
    "# name prefix to save the results\n",
    "preFix = \"_\".join(fsName) + f\"_{penalty}\"\n",
    "Cs = [0.1, 0.2, 0.4, 0.8, 1, 1.6, 3.2, 6.4, 12.8, 25.6]\n",
    "print(preFix)"
   ]
  },
  {
   "cell_type": "code",
   "execution_count": 21,
   "metadata": {
    "ExecuteTime": {
     "end_time": "2023-06-29T04:04:47.227511Z",
     "start_time": "2023-06-29T04:04:46.903890Z"
    },
    "code_folding": []
   },
   "outputs": [
    {
     "data": {
      "text/plain": [
       "<AxesSubplot:>"
      ]
     },
     "execution_count": 21,
     "metadata": {},
     "output_type": "execute_result"
    },
    {
     "data": {
      "image/png": "[encoded data removed]",
      "text/plain": [
       "<Figure size 576x576 with 2 Axes>"
      ]
     },
     "metadata": {
      "needs_background": "light"
     },
     "output_type": "display_data"
    }
   ],
   "source": [
    "# corr mat for 9 fs\n",
    "part_Xs = Xs[:, :-68]\n",
    "corr_mat = np.corrcoef(part_Xs.T)\n",
    "plt.figure(figsize=[8, 8])\n",
    "sns.heatmap(corr_mat, cmap=\"bwr\", \n",
    "            xticklabels=fsName[:-1],\n",
    "            yticklabels=fsName[:-1],\n",
    "            square=True,\n",
    "            annot=np.round(corr_mat, 3),\n",
    "            center=0)"
   ]
  },
  {
   "cell_type": "markdown",
   "metadata": {},
   "source": [
    "### First reg (select features)"
   ]
  },
  {
   "cell_type": "markdown",
   "metadata": {},
   "source": [
    "including\n",
    "\n",
    "- features selection"
   ]
  },
  {
   "cell_type": "markdown",
   "metadata": {},
   "source": [
    "#### Fit model"
   ]
  },
  {
   "cell_type": "code",
   "execution_count": 22,
   "metadata": {
    "ExecuteTime": {
     "end_time": "2023-06-29T04:05:14.426885Z",
     "start_time": "2023-06-29T04:04:50.755855Z"
    }
   },
   "outputs": [
    {
     "name": "stdout",
     "output_type": "stream",
     "text": [
      "0.4\n"
     ]
    }
   ],
   "source": [
    "# The opTuningC will be used throughout\n",
    "gOptC = TuningCFn(stdXs, Ys, Cs, penalty=penalty)[\"optC\"]\n",
    "print(gOptC)\n",
    "#gOptC = 0.4"
   ]
  },
  {
   "cell_type": "code",
   "execution_count": 23,
   "metadata": {
    "ExecuteTime": {
     "end_time": "2023-06-29T04:05:15.549230Z",
     "start_time": "2023-06-29T04:05:15.530417Z"
    }
   },
   "outputs": [],
   "source": [
    "# fit the first reg\n",
    "clfFinal = LogisticRegression(penalty=penalty, random_state=0, C=gOptC)\n",
    "clfFinal.fit(stdXs, Ys)\n",
    "coefsFinal = clfFinal.coef_.reshape(-1);"
   ]
  },
  {
   "cell_type": "code",
   "execution_count": null,
   "metadata": {},
   "outputs": [],
   "source": []
  },
  {
   "cell_type": "markdown",
   "metadata": {},
   "source": [
    "#### Bootstrap for pvals\n",
    "\n",
    "I use Bootstrap to select finally as it has better results\n",
    "\n",
    "We can also calculate the pvalue based on bootstrap by assuming, under $H_0$, $\\beta \\sim N(0, \\sigma^2)$. "
   ]
  },
  {
   "cell_type": "code",
   "execution_count": 24,
   "metadata": {
    "ExecuteTime": {
     "end_time": "2023-06-29T04:05:35.603151Z",
     "start_time": "2023-06-29T04:05:17.894883Z"
    }
   },
   "outputs": [
    {
     "name": "stderr",
     "output_type": "stream",
     "text": [
      "100%|███████████████████████████████████████████████████████████████████████████████████████████████████████████████████████████████████| 10000/10000 [00:17<00:00, 583.09it/s]\n"
     ]
    }
   ],
   "source": [
    "def _run_fn_boot(i):\n",
    "    np.random.seed(i)\n",
    "    bootIdx = np.random.choice(len(Ys), len(Ys))\n",
    "    YsBoot = Ys[bootIdx]\n",
    "    stdXsBoot = stdXs[bootIdx]\n",
    "    cur_optC = gOptC\n",
    "    clf = LogisticRegression(penalty=penalty, random_state=0, C=cur_optC)\n",
    "    clf.fit(stdXsBoot, YsBoot)\n",
    "    paras_boot = clf.coef_.reshape(-1)\n",
    "    return paras_boot\n",
    "    \n",
    "n_rep = 10000\n",
    "with Parallel(n_jobs=20) as parallel:\n",
    "    parass_boot = parallel(delayed(_run_fn_boot)(i) \n",
    "                   for i in tqdm(range(n_rep)))"
   ]
  },
  {
   "cell_type": "code",
   "execution_count": 25,
   "metadata": {
    "ExecuteTime": {
     "end_time": "2023-06-29T04:05:40.360503Z",
     "start_time": "2023-06-29T04:05:40.146527Z"
    }
   },
   "outputs": [
    {
     "data": {
      "image/png": "[encoded data removed]",
      "text/plain": [
       "<Figure size 1080x288 with 1 Axes>"
      ]
     },
     "metadata": {
      "needs_background": "light"
     },
     "output_type": "display_data"
    }
   ],
   "source": [
    "parass_boot = np.array(parass_boot)\n",
    "lows, ups = coefsFinal-parass_boot.std(axis=0)*1.96, coefsFinal+parass_boot.std(axis=0)*1.96\n",
    "kpidxBoot = np.bitwise_or(lows >0,  ups < 0)\n",
    "kpidxIdBoot = np.where(kpidxBoot)[0]\n",
    "\n",
    "xlabs = np.concatenate([fsName[:-1],\n",
    "                         region_names])\n",
    "plt.figure(figsize=[15, 4])\n",
    "plt.fill_between(list(range(len(lows))), lows, ups, color=\"red\", alpha=.5)\n",
    "plt.title(\"The 95% CI of the parameters\")\n",
    "_ = plt.xticks(kpidxIdBoot, xlabs[kpidxIdBoot], rotation=30, fontsize=8)\n",
    "\n",
    "select_fs_idx = kpidxBoot;"
   ]
  },
  {
   "cell_type": "code",
   "execution_count": 26,
   "metadata": {
    "ExecuteTime": {
     "end_time": "2023-06-29T04:05:42.821038Z",
     "start_time": "2023-06-29T04:05:42.810077Z"
    }
   },
   "outputs": [],
   "source": [
    "# Pvalue\n",
    "testStatsBoot = coefsFinal/parass_boot.std(axis=0)\n",
    "#testStatsBoot = parassBoot.mean(axis=0)/parassBoot.std(axis=0)\n",
    "normRV = norm()\n",
    "# to be consistent, I think we should use two-sided pvalue;\n",
    "bootPvs = 2*(1-normRV.cdf(np.abs(testStatsBoot)));"
   ]
  },
  {
   "cell_type": "markdown",
   "metadata": {},
   "source": [
    "#### The output table "
   ]
  },
  {
   "cell_type": "code",
   "execution_count": 27,
   "metadata": {
    "ExecuteTime": {
     "end_time": "2023-06-29T04:05:43.924284Z",
     "start_time": "2023-06-29T04:05:43.914270Z"
    }
   },
   "outputs": [
    {
     "name": "stdout",
     "output_type": "stream",
     "text": [
      "                       Feature  Parameters      Lower      Upper   Pvalues\n",
      "0                            r   1.089e+00  5.581e-01  1.621e+00 5.848e-05\n",
      "1                        ncpts  -3.684e-01 -7.279e-01 -8.932e-03 4.457e-02\n",
      "2                   L-Fusiform  -6.296e-01 -9.582e-01 -3.009e-01 1.739e-04\n",
      "3           L-Inferiorparietal   6.051e-01  2.209e-01  9.894e-01 2.026e-03\n",
      "4           L-Inferiortemporal  -3.962e-01 -7.467e-01 -4.564e-02 2.675e-02\n",
      "5           L-Lateraloccipital  -4.399e-01 -8.281e-01 -5.156e-02 2.640e-02\n",
      "6                    L-Lingual  -4.877e-01 -7.969e-01 -1.785e-01 1.989e-03\n",
      "7            L-Parahippocampal  -3.870e-01 -6.553e-01 -1.187e-01 4.696e-03\n",
      "8   L-Rostralanteriorcingulate   6.682e-01  3.204e-01  1.016e+00 1.659e-04\n",
      "9           L-Superiorparietal  -4.096e-01 -7.835e-01 -3.574e-02 3.176e-02\n",
      "10          L-Superiortemporal   3.459e-01  6.626e-02  6.255e-01 1.533e-02\n",
      "11              L-Temporalpole   3.784e-01  8.505e-02  6.718e-01 1.146e-02\n",
      "12                    R-Cuneus  -3.560e-01 -7.113e-01 -6.818e-04 4.956e-02\n",
      "13          R-Inferiorparietal  -3.857e-01 -7.613e-01 -1.018e-02 4.410e-02\n",
      "14          R-Inferiortemporal   4.696e-01  1.609e-01  7.783e-01 2.867e-03\n",
      "15             R-Pericalcarine  -4.292e-01 -8.010e-01 -5.730e-02 2.370e-02\n"
     ]
    }
   ],
   "source": [
    "resDic = {\n",
    "   \"Feature\" : xlabs[kpidxBoot],  \n",
    "    \"Parameters\": coefsFinal[kpidxBoot],\n",
    "    \"Lower\": lows[kpidxBoot],\n",
    "    \"Upper\": ups[kpidxBoot],\n",
    "    \"Pvalues\": bootPvs[kpidxBoot]\n",
    "}\n",
    "#pd.set_option(\"display.precision\", 3)\n",
    "pd.set_option('display.float_format',lambda x : '%.3e' % x)\n",
    "resDF = pd.DataFrame(resDic)\n",
    "print(resDF)"
   ]
  },
  {
   "cell_type": "code",
   "execution_count": 123,
   "metadata": {
    "ExecuteTime": {
     "end_time": "2023-06-27T18:15:55.631264Z",
     "start_time": "2023-06-27T18:15:55.602513Z"
    }
   },
   "outputs": [
    {
     "name": "stdout",
     "output_type": "stream",
     "text": [
      "\\begin{tabular}{llrrrr}\n",
      "\\toprule\n",
      "{} & Feature &  Parameters &  Lower &  Upper &  Pvalues \\\\\n",
      "\\midrule\n",
      "0 &       r &       1.001 &  0.415 &  1.586 &    0.001 \\\\\n",
      "1 &   ncpts &      -0.301 & -0.667 &  0.064 &    0.106 \\\\\n",
      "2 &     gTA &      -0.228 & -0.849 &  0.394 &    0.473 \\\\\n",
      "3 &  SA\\_inf &      -0.251 & -0.665 &  0.164 &    0.236 \\\\\n",
      "4 &  SA\\_lam &      -0.510 & -0.900 & -0.119 &    0.011 \\\\\n",
      "5 &  mean\\_Q &      -0.297 & -0.649 &  0.056 &    0.099 \\\\\n",
      "6 &  mean\\_L &       0.174 & -0.233 &  0.581 &    0.402 \\\\\n",
      "7 &   var\\_Q &      -0.110 & -0.428 &  0.208 &    0.499 \\\\\n",
      "8 &   var\\_L &      -0.152 & -0.635 &  0.330 &    0.536 \\\\\n",
      "\\bottomrule\n",
      "\\end{tabular}\n",
      "\n"
     ]
    },
    {
     "data": {
      "text/html": [
       "<div>\n",
       "<style scoped>\n",
       "    .dataframe tbody tr th:only-of-type {\n",
       "        vertical-align: middle;\n",
       "    }\n",
       "\n",
       "    .dataframe tbody tr th {\n",
       "        vertical-align: top;\n",
       "    }\n",
       "\n",
       "    .dataframe thead th {\n",
       "        text-align: right;\n",
       "    }\n",
       "</style>\n",
       "<table border=\"1\" class=\"dataframe\">\n",
       "  <thead>\n",
       "    <tr style=\"text-align: right;\">\n",
       "      <th></th>\n",
       "      <th>Feature</th>\n",
       "      <th>Parameters</th>\n",
       "      <th>Lower</th>\n",
       "      <th>Upper</th>\n",
       "      <th>Pvalues</th>\n",
       "    </tr>\n",
       "  </thead>\n",
       "  <tbody>\n",
       "    <tr>\n",
       "      <th>0</th>\n",
       "      <td>r</td>\n",
       "      <td>1.001e+00</td>\n",
       "      <td>4.153e-01</td>\n",
       "      <td>1.586e+00</td>\n",
       "      <td>8.080e-04</td>\n",
       "    </tr>\n",
       "    <tr>\n",
       "      <th>1</th>\n",
       "      <td>ncpts</td>\n",
       "      <td>-3.014e-01</td>\n",
       "      <td>-6.668e-01</td>\n",
       "      <td>6.401e-02</td>\n",
       "      <td>1.060e-01</td>\n",
       "    </tr>\n",
       "    <tr>\n",
       "      <th>2</th>\n",
       "      <td>gTA</td>\n",
       "      <td>-2.276e-01</td>\n",
       "      <td>-8.492e-01</td>\n",
       "      <td>3.939e-01</td>\n",
       "      <td>4.729e-01</td>\n",
       "    </tr>\n",
       "    <tr>\n",
       "      <th>3</th>\n",
       "      <td>SA_inf</td>\n",
       "      <td>-2.507e-01</td>\n",
       "      <td>-6.652e-01</td>\n",
       "      <td>1.637e-01</td>\n",
       "      <td>2.357e-01</td>\n",
       "    </tr>\n",
       "    <tr>\n",
       "      <th>4</th>\n",
       "      <td>SA_lam</td>\n",
       "      <td>-5.096e-01</td>\n",
       "      <td>-9.002e-01</td>\n",
       "      <td>-1.190e-01</td>\n",
       "      <td>1.056e-02</td>\n",
       "    </tr>\n",
       "    <tr>\n",
       "      <th>5</th>\n",
       "      <td>mean_Q</td>\n",
       "      <td>-2.966e-01</td>\n",
       "      <td>-6.494e-01</td>\n",
       "      <td>5.624e-02</td>\n",
       "      <td>9.944e-02</td>\n",
       "    </tr>\n",
       "    <tr>\n",
       "      <th>6</th>\n",
       "      <td>mean_L</td>\n",
       "      <td>1.740e-01</td>\n",
       "      <td>-2.332e-01</td>\n",
       "      <td>5.812e-01</td>\n",
       "      <td>4.022e-01</td>\n",
       "    </tr>\n",
       "    <tr>\n",
       "      <th>7</th>\n",
       "      <td>var_Q</td>\n",
       "      <td>-1.097e-01</td>\n",
       "      <td>-4.277e-01</td>\n",
       "      <td>2.084e-01</td>\n",
       "      <td>4.992e-01</td>\n",
       "    </tr>\n",
       "    <tr>\n",
       "      <th>8</th>\n",
       "      <td>var_L</td>\n",
       "      <td>-1.522e-01</td>\n",
       "      <td>-6.345e-01</td>\n",
       "      <td>3.301e-01</td>\n",
       "      <td>5.361e-01</td>\n",
       "    </tr>\n",
       "  </tbody>\n",
       "</table>\n",
       "</div>"
      ],
      "text/plain": [
       "  Feature  Parameters      Lower      Upper   Pvalues\n",
       "0       r   1.001e+00  4.153e-01  1.586e+00 8.080e-04\n",
       "1   ncpts  -3.014e-01 -6.668e-01  6.401e-02 1.060e-01\n",
       "2     gTA  -2.276e-01 -8.492e-01  3.939e-01 4.729e-01\n",
       "3  SA_inf  -2.507e-01 -6.652e-01  1.637e-01 2.357e-01\n",
       "4  SA_lam  -5.096e-01 -9.002e-01 -1.190e-01 1.056e-02\n",
       "5  mean_Q  -2.966e-01 -6.494e-01  5.624e-02 9.944e-02\n",
       "6  mean_L   1.740e-01 -2.332e-01  5.812e-01 4.022e-01\n",
       "7   var_Q  -1.097e-01 -4.277e-01  2.084e-01 4.992e-01\n",
       "8   var_L  -1.522e-01 -6.345e-01  3.301e-01 5.361e-01"
      ]
     },
     "execution_count": 123,
     "metadata": {},
     "output_type": "execute_result"
    }
   ],
   "source": [
    "fsDic = {\n",
    "   \"Feature\" : xlabs[:-68],  \n",
    "    \"Parameters\": coefsFinal[:-68],\n",
    "    \"Lower\": lows[:-68],\n",
    "    \"Upper\": ups[:-68],\n",
    "    \"Pvalues\": bootPvs[:-68]\n",
    "}\n",
    "#pd.set_option(\"display.precision\", 3)\n",
    "pd.set_option('display.float_format',lambda x : '%.3e' % x)\n",
    "fsDF = pd.DataFrame(fsDic)\n",
    "print(fsDF.to_latex(float_format=\"{:0.3f}\".format))\n",
    "fsDF"
   ]
  },
  {
   "cell_type": "code",
   "execution_count": null,
   "metadata": {},
   "outputs": [],
   "source": []
  },
  {
   "cell_type": "markdown",
   "metadata": {},
   "source": [
    "### Second reg\n",
    "\n",
    "(AUC)"
   ]
  },
  {
   "cell_type": "code",
   "execution_count": 28,
   "metadata": {
    "ExecuteTime": {
     "end_time": "2023-06-29T04:05:48.321019Z",
     "start_time": "2023-06-29T04:05:48.316503Z"
    }
   },
   "outputs": [
    {
     "data": {
      "text/plain": [
       "(176, 16)"
      ]
     },
     "execution_count": 28,
     "metadata": {},
     "output_type": "execute_result"
    }
   ],
   "source": [
    "# select fs\n",
    "stdXs_selected = stdXs[:, select_fs_idx]\n",
    "stdXs_selected.shape"
   ]
  },
  {
   "cell_type": "code",
   "execution_count": 29,
   "metadata": {
    "ExecuteTime": {
     "end_time": "2023-06-29T04:06:00.689025Z",
     "start_time": "2023-06-29T04:05:50.438015Z"
    }
   },
   "outputs": [
    {
     "name": "stdout",
     "output_type": "stream",
     "text": [
      "3.2\n"
     ]
    }
   ],
   "source": [
    "gOptC2 = TuningCFn(stdXs_selected, Ys, Cs, penalty=penalty)[\"optC\"]\n",
    "print(gOptC2)\n",
    "#gOptC2 = 3.2\n",
    "def pred_run_fn_sel(trIdxs, testIdxs, curOptC=None):\n",
    "    \"\"\"\n",
    "    This function trains a logistic regression model on the given training indices and predicts probabilities for the test indices.\n",
    "\n",
    "    Args:\n",
    "    trIdxs (array-like): Indices of the training data.\n",
    "    testIdxs (array-like): Indices of the test data.\n",
    "\n",
    "    Returns:\n",
    "    eprob (array-like): Predicted probabilities for the test data.\n",
    "    paras (array-like): Coefficients of the logistic regression model.\n",
    "    \"\"\"\n",
    "    curStdXs, curYs = stdXs_selected[trIdxs, :], Ys[trIdxs]\n",
    "    if curOptC is None:\n",
    "        curOptC = TuningCFn(curStdXs, curYs, Cs, penalty=penalty)[\"optC\"]\n",
    "    clf = LogisticRegression(penalty=penalty, random_state=0, C=curOptC)\n",
    "    clf.fit(curStdXs, curYs)\n",
    "    paras = clf.coef_.reshape(-1)\n",
    "    eprob = clf.predict_proba(stdXs_selected[testIdxs, :])\n",
    "\n",
    "    return eprob, paras, curOptC"
   ]
  },
  {
   "cell_type": "code",
   "execution_count": 30,
   "metadata": {
    "ExecuteTime": {
     "end_time": "2023-06-29T04:06:22.093062Z",
     "start_time": "2023-06-29T04:06:22.074971Z"
    }
   },
   "outputs": [
    {
     "data": {
      "text/plain": [
       "(166.86803945225125, 195.9671972316315)"
      ]
     },
     "execution_count": 30,
     "metadata": {},
     "output_type": "execute_result"
    }
   ],
   "source": [
    "def get_ABIC(Xs, Ys, C):\n",
    "    lam = 2/C\n",
    "    clf_info = LogisticRegression(penalty=penalty, random_state=0, C=C);\n",
    "    clf_info.fit(Xs, Ys)\n",
    "    eprobs1 = clf_info.predict_proba(Xs)[:, 1];\n",
    "    logL = np.sum(Ys*np.log(eprobs1) + (1-Ys)*np.log(1-eprobs1));\n",
    "    \n",
    "    # effective df\n",
    "    logL_der2 = -Xs.T @ np.diag(eprobs1*(1-eprobs1)) @ Xs;\n",
    "    logL_der2_ridge = logL_der2 - lam * np.eye(logL_der2.shape[0]);\n",
    "    dfe = np.diag(logL_der2@np.linalg.inv(logL_der2_ridge)).sum();\n",
    "    aic = -2*logL + 2*dfe\n",
    "    bic = -2*logL + np.log(Ys.shape[0])*dfe\n",
    "    return aic, bic\n",
    "\n",
    "get_ABIC(stdXs_selected, Ys, gOptC2)"
   ]
  },
  {
   "cell_type": "code",
   "execution_count": 126,
   "metadata": {
    "ExecuteTime": {
     "end_time": "2023-06-27T18:19:20.023146Z",
     "start_time": "2023-06-27T18:16:32.009512Z"
    }
   },
   "outputs": [
    {
     "name": "stderr",
     "output_type": "stream",
     "text": [
      "100%|████████████████████████████████████████████████████████████████████████████████████████████████████████████████████████████████████████| 176/176 [01:42<00:00,  1.72it/s]\n"
     ]
    },
    {
     "data": {
      "text/plain": [
       "0.8256714876033059"
      ]
     },
     "execution_count": 126,
     "metadata": {},
     "output_type": "execute_result"
    }
   ],
   "source": [
    "loo = LeaveOneOut()\n",
    "with Parallel(n_jobs=30) as parallel:\n",
    "    res = parallel(delayed(pred_run_fn_sel)(trIdxs, testIdxs) \n",
    "                   for trIdxs, testIdxs in tqdm(loo.split(stdXs_selected), total=len(stdXs_selected))\n",
    "                  )\n",
    "parass = np.array([ix[1] for ix in res])\n",
    "eprobs = np.array([ix[0] for ix in res]).squeeze();\n",
    "loo_auc = roc_auc_score(Ys, eprobs[:, 1])\n",
    "loo_fpr, loo_tpr, loo_thresholds = roc_curve(Ys, eprobs[:, 1], pos_label=1)\n",
    "loo_auc"
   ]
  },
  {
   "cell_type": "code",
   "execution_count": null,
   "metadata": {},
   "outputs": [],
   "source": []
  },
  {
   "cell_type": "code",
   "execution_count": 127,
   "metadata": {
    "ExecuteTime": {
     "end_time": "2023-06-27T18:19:24.402864Z",
     "start_time": "2023-06-27T18:19:20.051031Z"
    }
   },
   "outputs": [
    {
     "name": "stderr",
     "output_type": "stream",
     "text": [
      "100%|████████████████████████████████████████████████████████████████████████████████████████████████████████████████████████████████████| 1000/1000 [00:00<00:00, 2089.26it/s]\n"
     ]
    },
    {
     "name": "stdout",
     "output_type": "stream",
     "text": [
      "The mean of AUC under 1000 repetitions is 0.839 and the standard deviation is 0.064, the 95% CI is (0.699, 0.949).\n"
     ]
    }
   ],
   "source": [
    "def pred_run_fn_CV(i, curOptC=None):\n",
    "    \n",
    "    np.random.seed(i)\n",
    "    nobs = stdXs_selected.shape[0]\n",
    "    \n",
    "    testIdxs = np.random.choice(nobs, int(nobs/5), False)\n",
    "    trIdxs = np.delete(np.arange(nobs), testIdxs)\n",
    "    \n",
    "    curStdXs, curYs = stdXs_selected[trIdxs, :], Ys[trIdxs]\n",
    "    if curOptC is None:\n",
    "        curOptC = TuningCFn(curStdXs, curYs, Cs, penalty=penalty)[\"optC\"]\n",
    "    clf = LogisticRegression(penalty=penalty, random_state=0, C=curOptC)\n",
    "    clf.fit(curStdXs, curYs)\n",
    "    eprob = clf.predict_proba(stdXs_selected[testIdxs, :])\n",
    "    cur_auc = roc_auc_score(Ys[testIdxs], eprob[:, 1])\n",
    "    return cur_auc, curOptC\n",
    "\n",
    "n_rep = 1000\n",
    "with Parallel(n_jobs=20) as parallel:\n",
    "    res = parallel(delayed(pred_run_fn_CV)(i, gOptC2) \n",
    "                   for i in tqdm(range(n_rep)))\n",
    "\n",
    "aucs = [ix[0] for ix in res]\n",
    "auc_m = np.mean(aucs)\n",
    "auc_std = np.std(aucs)\n",
    "print(f\"The mean of AUC under 1000 repetitions is {auc_m:.3f} and the standard deviation is {auc_std:.3f}, \"\n",
    "      f\"the 95% CI is ({np.quantile(aucs, 0.025):.3f}, {np.quantile(aucs, 0.975):.3f}).\")"
   ]
  },
  {
   "cell_type": "code",
   "execution_count": 128,
   "metadata": {
    "ExecuteTime": {
     "end_time": "2023-06-27T18:19:25.164940Z",
     "start_time": "2023-06-27T18:19:24.404194Z"
    }
   },
   "outputs": [
    {
     "data": {
      "text/plain": [
       "<matplotlib.legend.Legend at 0x7f42a8bfd160>"
      ]
     },
     "execution_count": 128,
     "metadata": {},
     "output_type": "execute_result"
    },
    {
     "data": {
      "image/png": "[encoded data removed]",
      "text/plain": [
       "<Figure size 500x500 with 1 Axes>"
      ]
     },
     "metadata": {
      "needs_background": "light"
     },
     "output_type": "display_data"
    }
   ],
   "source": [
    "plt.figure(figsize=[5, 5], dpi=100)\n",
    "plt.plot(loo_fpr, loo_tpr, label=f\"ROC curve (area ={loo_auc:.3f}).\", lw=2, color=\"red\")\n",
    "plt.plot([0, 1], [0, 1], color=\"navy\", lw=2, linestyle=\"--\")\n",
    "plt.xlim([-0.05, 1.0])\n",
    "plt.ylim([0.0, 1.05])\n",
    "plt.xlabel(\"False Positive Rate\")\n",
    "plt.ylabel(\"True Positive Rate\")\n",
    "plt.title(\"ROC for the Logistic regression\")\n",
    "plt.legend(loc=\"lower right\")"
   ]
  },
  {
   "cell_type": "code",
   "execution_count": null,
   "metadata": {},
   "outputs": [],
   "source": []
  }
 ],
 "metadata": {
  "kernelspec": {
   "display_name": "Python 3 (ipykernel)",
   "language": "python",
   "name": "python3"
  },
  "language_info": {
   "codemirror_mode": {
    "name": "ipython",
    "version": 3
   },
   "file_extension": ".py",
   "mimetype": "text/x-python",
   "name": "python",
   "nbconvert_exporter": "python",
   "pygments_lexer": "ipython3",
   "version": "3.9.7"
  },
  "toc": {
   "base_numbering": 1,
   "nav_menu": {},
   "number_sections": true,
   "sideBar": true,
   "skip_h1_title": false,
   "title_cell": "Table of Contents",
   "title_sidebar": "Contents",
   "toc_cell": false,
   "toc_position": {
    "height": "calc(100% - 180px)",
    "left": "10px",
    "top": "150px",
    "width": "223px"
   },
   "toc_section_display": true,
   "toc_window_display": true
  },
  "varInspector": {
   "cols": {
    "lenName": 16,
    "lenType": 16,
    "lenVar": 40
   },
   "kernels_config": {
    "python": {
     "delete_cmd_postfix": "",
     "delete_cmd_prefix": "del ",
     "library": "var_list.py",
     "varRefreshCmd": "print(var_dic_list())"
    },
    "r": {
     "delete_cmd_postfix": ") ",
     "delete_cmd_prefix": "rm(",
     "library": "var_list.r",
     "varRefreshCmd": "cat(var_dic_list()) "
    }
   },
   "position": {
    "height": "393.844px",
    "left": "1550px",
    "right": "20px",
    "top": "120px",
    "width": "350px"
   },
   "types_to_exclude": [
    "module",
    "function",
    "builtin_function_or_method",
    "instance",
    "_Feature"
   ],
   "window_display": false
  }
 },
 "nbformat": 4,
 "nbformat_minor": 2
}
