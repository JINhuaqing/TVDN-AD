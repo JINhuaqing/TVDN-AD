{
 "cells": [
  {
   "cell_type": "markdown",
   "metadata": {},
   "source": [
    "Extract feature from `Functional brain networks reflect spatial and temporal autocorrelation` (Shinn, NN, 2023) "
   ]
  },
  {
   "cell_type": "code",
   "execution_count": 1,
   "metadata": {
    "ExecuteTime": {
     "end_time": "2023-06-29T18:24:37.718020Z",
     "start_time": "2023-06-29T18:24:37.701243Z"
    }
   },
   "outputs": [
    {
     "data": {
      "text/plain": [
       "False"
      ]
     },
     "execution_count": 1,
     "metadata": {},
     "output_type": "execute_result"
    }
   ],
   "source": [
    "RUN_PYTHON_SCRIPT = False"
   ]
  },
  {
   "cell_type": "code",
   "execution_count": 2,
   "metadata": {
    "ExecuteTime": {
     "end_time": "2023-06-29T18:24:37.774794Z",
     "start_time": "2023-06-29T18:24:37.722779Z"
    }
   },
   "outputs": [
    {
     "data": {
      "text/plain": [
       "PosixPath('../..')"
      ]
     },
     "execution_count": 2,
     "metadata": {},
     "output_type": "execute_result"
    }
   ],
   "source": [
    "import sys\n",
    "sys.path.append(\"../../\")\n",
    "from pathlib import Path\n",
    "root = Path(\"../../\")"
   ]
  },
  {
   "cell_type": "code",
   "execution_count": 3,
   "metadata": {
    "ExecuteTime": {
     "end_time": "2023-06-29T18:24:41.608669Z",
     "start_time": "2023-06-29T18:24:37.779405Z"
    }
   },
   "outputs": [],
   "source": [
    "import numpy as np\n",
    "from easydict import EasyDict as edict\n",
    "import matplotlib.pyplot as plt\n",
    "import os\n",
    "import scipy.stats as ss\n",
    "from scipy import signal\n",
    "from tqdm import tqdm, trange\n",
    "import pickle\n",
    "import seaborn as sns\n",
    "import numbers\n",
    "import scipy\n",
    "import pandas as pd\n",
    "import statsmodels.api as sm\n",
    "from joblib import Parallel, delayed\n",
    "%matplotlib inline"
   ]
  },
  {
   "cell_type": "code",
   "execution_count": 4,
   "metadata": {
    "ExecuteTime": {
     "end_time": "2023-06-29T18:24:43.555887Z",
     "start_time": "2023-06-29T18:24:41.612292Z"
    }
   },
   "outputs": [],
   "source": [
    "import importlib\n",
    "import pyTVDN.utils\n",
    "importlib.reload(pyTVDN.utils)\n",
    "from pyTVDN.utils import load_pkl, save_pkl\n",
    "from pyTVDN.psd import butter_bandpass_filter"
   ]
  },
  {
   "cell_type": "code",
   "execution_count": 5,
   "metadata": {
    "ExecuteTime": {
     "end_time": "2023-06-29T18:24:43.595137Z",
     "start_time": "2023-06-29T18:24:43.561223Z"
    }
   },
   "outputs": [],
   "source": [
    "with open(root/\"OtherFils/data_roi_order.txt\", \"r\") as f:\n",
    "    region_names_raw = f.readlines()\n",
    "region_names_raw\n",
    "region_names = [i.strip()[4].title() + i.strip()[6:].title() \n",
    "               for i in region_names_raw if len(i.strip())>0];"
   ]
  },
  {
   "cell_type": "code",
   "execution_count": 6,
   "metadata": {
    "ExecuteTime": {
     "end_time": "2023-06-29T18:24:43.618707Z",
     "start_time": "2023-06-29T18:24:43.599132Z"
    }
   },
   "outputs": [
    {
     "data": {
      "text/plain": [
       "PosixPath('../../data')"
      ]
     },
     "execution_count": 6,
     "metadata": {},
     "output_type": "execute_result"
    }
   ],
   "source": [
    "resDir = root/\"results\"\n",
    "dataDir = root/\"data\""
   ]
  },
  {
   "cell_type": "code",
   "execution_count": 7,
   "metadata": {
    "ExecuteTime": {
     "end_time": "2023-06-29T18:24:43.691043Z",
     "start_time": "2023-06-29T18:24:43.620124Z"
    }
   },
   "outputs": [],
   "source": [
    "def reg_R_fn(x, y):\n",
    "    \"\"\"Calculate pearons'r in batch, for both numpy and torch\n",
    "    Args:\n",
    "    x: torch.Tensor, shape (batch_size, num_features)\n",
    "    y: torch.Tensor, shape (batch_size, num_features)\n",
    "    Returns:\n",
    "    corrs: torch.Tensor, shape (batch_size,)                                                                                                                               \n",
    "    \"\"\"\n",
    "    assert x.shape == y.shape, \"x and y should have the same shape\"\n",
    "    x_mean = x.mean(axis=-1, keepdims=True)\n",
    "    y_mean = y.mean(axis=-1, keepdims=True)\n",
    "    num = ((x- x_mean)*(y-y_mean)).sum(axis=-1)\n",
    "    den = np.sqrt(((x- x_mean)**2).sum(axis=-1)*((y-y_mean)**2).sum(axis=-1))\n",
    "    corrs = num/den\n",
    "    return corrs"
   ]
  },
  {
   "cell_type": "code",
   "execution_count": null,
   "metadata": {},
   "outputs": [],
   "source": []
  },
  {
   "cell_type": "markdown",
   "metadata": {},
   "source": [
    "## Load Data"
   ]
  },
  {
   "cell_type": "code",
   "execution_count": 8,
   "metadata": {
    "ExecuteTime": {
     "end_time": "2023-06-29T18:24:43.757434Z",
     "start_time": "2023-06-29T18:24:43.693055Z"
    }
   },
   "outputs": [],
   "source": [
    "with open(root/\"OtherFils/KpIdxsAll.pkl\", \"rb\") as sf:\n",
    "    kpAD, kpCtrl, kpAll = pickle.load(sf)"
   ]
  },
  {
   "cell_type": "code",
   "execution_count": 9,
   "metadata": {
    "ExecuteTime": {
     "end_time": "2023-06-29T18:24:44.445322Z",
     "start_time": "2023-06-29T18:24:44.441580Z"
    }
   },
   "outputs": [],
   "source": [
    "fs = 600; \n",
    "fmin, fmax = 1, 45\n",
    "downrate = 5\n",
    "def _preprocessing(ts, filter_bds=[fmin, fmax], fs=fs, downrate=downrate):\n",
    "    # preprocessing\n",
    "    ts = signal.detrend(ts)\n",
    "    #ts = butter_bandpass_filter(ts, filter_bds[0], filter_bds[1], fs=fs);\n",
    "    if downrate > 1:\n",
    "        ts = signal.decimate(ts, downrate) # downsample\n",
    "    return ts"
   ]
  },
  {
   "cell_type": "code",
   "execution_count": 10,
   "metadata": {
    "ExecuteTime": {
     "end_time": "2023-06-29T18:25:01.245413Z",
     "start_time": "2023-06-29T18:24:45.011756Z"
    }
   },
   "outputs": [],
   "source": [
    "AD_ts = load_pkl(list(dataDir.glob(\"AD88_*.pkl\"))[0])\n",
    "Ctrl_ts = load_pkl(list(dataDir.glob(\"Ctrl92_*.pkl\"))[0]);\n"
   ]
  },
  {
   "cell_type": "code",
   "execution_count": 11,
   "metadata": {
    "ExecuteTime": {
     "end_time": "2023-06-29T03:33:41.471976Z",
     "start_time": "2023-06-29T03:33:14.561211Z"
    }
   },
   "outputs": [
    {
     "name": "stderr",
     "output_type": "stream",
     "text": [
      "100%|██████████████████████████████████████████████████████████████████████████████████████████████████████████████████████████████████████████| 88/88 [00:26<00:00,  3.30it/s]\n"
     ]
    }
   ],
   "source": [
    "# preprocessing data\n",
    "ts_all = AD_ts\n",
    "n_sub, n_roi, _ = ts_all.shape\n",
    "ts_prepro_all = []\n",
    "for sub_ix in trange(n_sub):\n",
    "    cur_sub = []\n",
    "    for roi_ix in range(n_roi):\n",
    "        ts = ts_all[sub_ix, roi_ix];\n",
    "        ts = _preprocessing(ts)\n",
    "        if np.isnan(np.sum(ts)):\n",
    "            print(\"NAN produced\")\n",
    "        cur_sub.append(ts)\n",
    "    ts_prepro_all.append(np.array(cur_sub))\n",
    "ts_prepro_all = np.array(ts_prepro_all);\n",
    "AD_after_ts = ts_prepro_all;"
   ]
  },
  {
   "cell_type": "code",
   "execution_count": 12,
   "metadata": {
    "ExecuteTime": {
     "end_time": "2023-06-29T03:34:03.535646Z",
     "start_time": "2023-06-29T03:33:41.475527Z"
    }
   },
   "outputs": [
    {
     "name": "stderr",
     "output_type": "stream",
     "text": [
      "100%|██████████████████████████████████████████████████████████████████████████████████████████████████████████████████████████████████████████| 92/92 [00:21<00:00,  4.19it/s]\n"
     ]
    }
   ],
   "source": [
    "# preprocessing data\n",
    "ts_all = Ctrl_ts\n",
    "n_sub, n_roi, _ = ts_all.shape\n",
    "ts_prepro_all = []\n",
    "for sub_ix in trange(n_sub):\n",
    "    cur_sub = []\n",
    "    for roi_ix in range(n_roi):\n",
    "        ts = ts_all[sub_ix, roi_ix];\n",
    "        ts = _preprocessing(ts)\n",
    "        if np.isnan(np.sum(ts)):\n",
    "            print(\"NAN produced\")\n",
    "        cur_sub.append(ts)\n",
    "    ts_prepro_all.append(np.array(cur_sub))\n",
    "ts_prepro_all = np.array(ts_prepro_all);\n",
    "Ctrl_after_ts = ts_prepro_all;"
   ]
  },
  {
   "cell_type": "code",
   "execution_count": 13,
   "metadata": {
    "ExecuteTime": {
     "end_time": "2023-06-27T17:56:14.257753Z",
     "start_time": "2023-06-27T17:56:14.254858Z"
    }
   },
   "outputs": [
    {
     "data": {
      "text/plain": [
       "array([-7.2868911e-09, -7.2696142e-09, -7.3316659e-09, ...,\n",
       "       -3.6740486e-09, -3.6195518e-09, -3.6570080e-09], dtype=float32)"
      ]
     },
     "execution_count": 13,
     "metadata": {},
     "output_type": "execute_result"
    }
   ],
   "source": [
    "# ROI 37 of Ctrl 38 is probmatic producing nan, so I impute it (index from 0, before removing)\n",
    "# ROI 37 of Ctrl 36 is probmatic producing nan, so I impute it (index from 0, after removing)\n",
    "#Ctrl_ts[38, 37] = Ctrl_ts[38].mean(axis=0)\n",
    "# after preprocessing, no need to impute\n",
    "Ctrl_after_ts[38, 37]"
   ]
  },
  {
   "cell_type": "code",
   "execution_count": null,
   "metadata": {},
   "outputs": [],
   "source": []
  },
  {
   "cell_type": "markdown",
   "metadata": {},
   "source": [
    "## Features"
   ]
  },
  {
   "cell_type": "markdown",
   "metadata": {},
   "source": [
    "### Get TA"
   ]
  },
  {
   "cell_type": "code",
   "execution_count": 13,
   "metadata": {
    "ExecuteTime": {
     "end_time": "2023-06-29T03:34:04.545499Z",
     "start_time": "2023-06-29T03:34:03.537289Z"
    }
   },
   "outputs": [],
   "source": [
    "# TA\n",
    "vecs = AD_after_ts.reshape(-1, int(36000/downrate))[:, :];\n",
    "vec1, vec2 = vecs[:, :-1], vecs[:, 1:];\n",
    "TA1s_AD = reg_R_fn(vec1, vec2).reshape(-1, 68);\n",
    "\n",
    "vecs = Ctrl_after_ts.reshape(-1, int(36000/downrate));\n",
    "vec1, vec2 = vecs[:, :-1], vecs[:, 1:];\n",
    "TA1s_Ctrl = reg_R_fn(vec1, vec2).reshape(-1, 68);\n",
    "\n"
   ]
  },
  {
   "cell_type": "code",
   "execution_count": 50,
   "metadata": {
    "ExecuteTime": {
     "end_time": "2023-06-27T17:43:39.737325Z",
     "start_time": "2023-06-27T17:43:39.682817Z"
    }
   },
   "outputs": [
    {
     "name": "stdout",
     "output_type": "stream",
     "text": [
      "Save to ../../results/neuroimage_r1/SA_TA_features/TA_AD_filter.pkl\n",
      "Save to ../../results/neuroimage_r1/SA_TA_features/TA_Ctrl_filter.pkl\n"
     ]
    }
   ],
   "source": [
    "save_pkl(resDir/\"neuroimage_r1/SA_TA_features/TA_AD_nofilter.pkl\", TA1s_AD)\n",
    "save_pkl(resDir/\"neuroimage_r1/SA_TA_features/TA_Ctrl_nofilter.pkl\", TA1s_Ctrl)"
   ]
  },
  {
   "cell_type": "code",
   "execution_count": 12,
   "metadata": {
    "ExecuteTime": {
     "end_time": "2023-06-29T18:26:01.285824Z",
     "start_time": "2023-06-29T18:26:00.853167Z"
    }
   },
   "outputs": [
    {
     "data": {
      "image/png": "[encoded data removed]",
      "text/plain": [
       "<Figure size 432x288 with 1 Axes>"
      ]
     },
     "metadata": {
      "needs_background": "light"
     },
     "output_type": "display_data"
    }
   ],
   "source": [
    "# Rm some Ctrl subs to make two grps balanced\n",
    "TA1s_AD = load_pkl(resDir/\"neuroimage_r1/SA_TA_features/TA_AD_nofilter.pkl\")\n",
    "TA1s_Ctrl = load_pkl(resDir/\"neuroimage_r1/SA_TA_features/TA_Ctrl_nofilter.pkl\")\n",
    "TA1s_AD = TA1s_AD[kpAD==1]\n",
    "TA1s_Ctrl = TA1s_Ctrl[kpCtrl==1]\n",
    "\n",
    "gTA1s_Ctrl = TA1s_Ctrl.mean(axis=1);\n",
    "gTA1s_AD = TA1s_AD.mean(axis=1);\n",
    "\n",
    "if not RUN_PYTHON_SCRIPT:\n",
    "    sns.kdeplot(gTA1s_AD, label=\"AD\")\n",
    "    sns.kdeplot(gTA1s_Ctrl, label=\"Ctrl\")\n",
    "    plt.legend()"
   ]
  },
  {
   "cell_type": "code",
   "execution_count": null,
   "metadata": {},
   "outputs": [],
   "source": []
  },
  {
   "cell_type": "markdown",
   "metadata": {},
   "source": [
    "### Get SA"
   ]
  },
  {
   "cell_type": "code",
   "execution_count": 15,
   "metadata": {
    "ExecuteTime": {
     "end_time": "2023-06-29T03:34:06.011449Z",
     "start_time": "2023-06-29T03:34:05.613776Z"
    }
   },
   "outputs": [],
   "source": [
    "# FC\n",
    "AD_FCs = np.array([np.corrcoef(ts) for ts in AD_after_ts]);\n",
    "Ctrl_FCs = np.array([np.corrcoef(ts) for ts in Ctrl_after_ts]);"
   ]
  },
  {
   "cell_type": "code",
   "execution_count": 16,
   "metadata": {
    "ExecuteTime": {
     "end_time": "2023-06-29T03:34:06.048589Z",
     "start_time": "2023-06-29T03:34:06.012865Z"
    }
   },
   "outputs": [
    {
     "name": "stdout",
     "output_type": "stream",
     "text": [
      "True\n"
     ]
    }
   ],
   "source": [
    "dist_info = pd.read_csv(dataDir/\"../OtherFils/DK68_spatial_info.csv\");\n",
    "locs_arr = np.array(dist_info[[\"x.mni\", \"y.mni\", \"z.mni\"]]);\n",
    "\n",
    "# transform the format\n",
    "tmp = np.array(dist_info[\"name.full\"]);\n",
    "tmp[0] = \"L Bankssts\"\n",
    "tmp[34] = \"R Bankssts\"\n",
    "\n",
    "dist_order = []\n",
    "for tm in tmp:\n",
    "    tm_split = tm.split(\" \")\n",
    "    tm_split = [ix for ix in tm_split if ix not in [\"gyrus\", \"lobule\", \"cortex\"]]\n",
    "    p1 = tm_split[0] + \"-\"\n",
    "    p2 = \"\".join(tm_split[1:])\n",
    "    dist_order.append(p1+p2.capitalize())\n",
    "dist_order_dict = {\n",
    "    v:i for i, v in enumerate(dist_order)\n",
    "}\n",
    "\n",
    "# the idxs to make dist_order[resort_idxs] = region_names\n",
    "resort_idxs = [dist_order_dict[v] for v in region_names]\n",
    "print(np.array_equal(np.array(dist_order)[resort_idxs], region_names))\n",
    "\n",
    "locs_arr_FC = locs_arr[resort_idxs];\n",
    "\n",
    "dist_mat = np.sqrt(np.sum(np.abs(locs_arr_FC[np.newaxis] - locs_arr_FC[:, np.newaxis])**2, axis=-1));\n"
   ]
  },
  {
   "cell_type": "code",
   "execution_count": 17,
   "metadata": {
    "ExecuteTime": {
     "end_time": "2023-06-29T03:34:06.083498Z",
     "start_time": "2023-06-29T03:34:06.050104Z"
    }
   },
   "outputs": [],
   "source": [
    "ui = np.triu_indices(68, 1)\n",
    "dist_vec = dist_mat[ui];\n",
    "AD_FC_vecs = np.array([AD_FC[ui] for AD_FC in AD_FCs])\n",
    "Ctrl_FC_vecs = np.array([Ctrl_FC[ui] for Ctrl_FC in Ctrl_FCs]);"
   ]
  },
  {
   "cell_type": "code",
   "execution_count": 18,
   "metadata": {
    "ExecuteTime": {
     "end_time": "2023-06-29T03:34:06.153733Z",
     "start_time": "2023-06-29T03:34:06.085072Z"
    }
   },
   "outputs": [],
   "source": [
    "# the fn to bin the data\n",
    "bins = np.arange(np.min(dist_vec),  np.max(dist_vec), 5)\n",
    "bin_idxs = np.digitize(dist_vec, bins);\n",
    "\n",
    "def _reg_yx(vec, bins=bins, bin_idxs=bin_idxs):\n",
    "    yv = []\n",
    "    xv = []\n",
    "    for i in np.sort(list(set(bin_idxs))):\n",
    "        xv.append(bins[i-1])\n",
    "        yv.append(vec[bin_idxs==i].mean())\n",
    "    return np.array(xv), np.array(yv)"
   ]
  },
  {
   "cell_type": "code",
   "execution_count": 19,
   "metadata": {
    "ExecuteTime": {
     "end_time": "2023-06-29T03:34:06.219839Z",
     "start_time": "2023-06-29T03:34:06.157122Z"
    }
   },
   "outputs": [
    {
     "data": {
      "text/plain": [
       "[(-0.99999, 0.99999), (1e-05, 100)]"
      ]
     },
     "execution_count": 19,
     "metadata": {},
     "output_type": "execute_result"
    }
   ],
   "source": [
    "# optimization\n",
    "from scipy.optimize import minimize\n",
    "# opt fn \n",
    "def _obj_f(x, data):\n",
    "    \"\"\"min obj_f\n",
    "    \"\"\"\n",
    "    xv, yv = data\n",
    "    sa_inf, sa_lam = x \n",
    "    left = (yv-sa_inf)/(1-sa_inf)\n",
    "    right = np.exp(-xv/sa_lam)\n",
    "    return np.sum((left-right)**2)\n",
    "    \n",
    "# initial value and bds\n",
    "# (sa_inf, sa_lam)\n",
    "x0s = ([-0.5, 25], [0, 50], [0.5, 75])\n",
    "eps = 1e-5\n",
    "bounds = [(-1+eps, 1-eps), (0+eps, 100)]"
   ]
  },
  {
   "cell_type": "code",
   "execution_count": 20,
   "metadata": {
    "ExecuteTime": {
     "end_time": "2023-06-29T03:34:06.266961Z",
     "start_time": "2023-06-29T03:34:06.222115Z"
    }
   },
   "outputs": [],
   "source": [
    "def _minimize(fun, x0s, bounds, args):\n",
    "    \"\"\"A simple wrapper of minimize to allow multiple initial pts\n",
    "    \"\"\"\n",
    "    fn_v = []\n",
    "    xs = []\n",
    "    for x0 in x0s:\n",
    "        res = minimize(fun, x0, bounds=bounds, args=args)\n",
    "        xs.append(res.x)\n",
    "        fn_v.append(res.fun)\n",
    "    return xs[np.argmin(fn_v)]"
   ]
  },
  {
   "cell_type": "code",
   "execution_count": 21,
   "metadata": {
    "ExecuteTime": {
     "end_time": "2023-06-29T03:34:07.571568Z",
     "start_time": "2023-06-29T03:34:06.269346Z"
    }
   },
   "outputs": [
    {
     "name": "stderr",
     "output_type": "stream",
     "text": [
      "100%|██████████████████████████████████████████████████████████████████████████████████████████████████████████████████████████████████████████| 88/88 [00:01<00:00, 70.19it/s]\n"
     ]
    }
   ],
   "source": [
    "SAs = []\n",
    "for vec in tqdm(AD_FC_vecs):\n",
    "    xv, yv = _reg_yx(vec);\n",
    "    res = _minimize(_obj_f, x0s, bounds=bounds, args=([xv, yv], ))\n",
    "    SAs.append(res)\n",
    "SAs_AD = np.array(SAs);"
   ]
  },
  {
   "cell_type": "code",
   "execution_count": 22,
   "metadata": {
    "ExecuteTime": {
     "end_time": "2023-06-29T03:34:08.838629Z",
     "start_time": "2023-06-29T03:34:07.573185Z"
    }
   },
   "outputs": [
    {
     "name": "stderr",
     "output_type": "stream",
     "text": [
      "100%|██████████████████████████████████████████████████████████████████████████████████████████████████████████████████████████████████████████| 92/92 [00:01<00:00, 73.08it/s]\n"
     ]
    }
   ],
   "source": [
    "SAs = []\n",
    "for vec in tqdm(Ctrl_FC_vecs):\n",
    "    xv, yv = _reg_yx(vec);\n",
    "    res = _minimize(_obj_f, x0s, bounds=bounds, args=([xv, yv], ))\n",
    "    SAs.append(res)\n",
    "SAs_Ctrl = np.array(SAs);"
   ]
  },
  {
   "cell_type": "code",
   "execution_count": 60,
   "metadata": {
    "ExecuteTime": {
     "end_time": "2023-06-27T17:44:04.291756Z",
     "start_time": "2023-06-27T17:44:04.269905Z"
    }
   },
   "outputs": [
    {
     "name": "stdout",
     "output_type": "stream",
     "text": [
      "Save to ../../results/neuroimage_r1/SA_TA_features/SA_AD_filter.pkl\n",
      "Save to ../../results/neuroimage_r1/SA_TA_features/SA_Ctrl_filter.pkl\n"
     ]
    }
   ],
   "source": [
    "save_pkl(resDir/\"neuroimage_r1/SA_TA_features/SA_AD_nofilter.pkl\", SAs_AD)\n",
    "save_pkl(resDir/\"neuroimage_r1/SA_TA_features/SA_Ctrl_nofilter.pkl\", SAs_Ctrl)"
   ]
  },
  {
   "cell_type": "code",
   "execution_count": 27,
   "metadata": {
    "ExecuteTime": {
     "end_time": "2023-06-29T03:35:59.489902Z",
     "start_time": "2023-06-29T03:35:59.478297Z"
    }
   },
   "outputs": [],
   "source": []
  },
  {
   "cell_type": "code",
   "execution_count": 13,
   "metadata": {
    "ExecuteTime": {
     "end_time": "2023-06-29T18:26:14.379803Z",
     "start_time": "2023-06-29T18:26:14.329624Z"
    }
   },
   "outputs": [],
   "source": [
    "SAs_AD = load_pkl(resDir/\"neuroimage_r1/SA_TA_features/SA_AD_nofilter.pkl\")\n",
    "SAs_Ctrl = load_pkl(resDir/\"neuroimage_r1/SA_TA_features/SA_Ctrl_nofilter.pkl\");\n",
    "\n",
    "# Rm some Ctrl subs to make two grps balanced\n",
    "SAs_AD = SAs_AD[kpAD==1]\n",
    "SAs_Ctrl = SAs_Ctrl[kpCtrl==1];"
   ]
  },
  {
   "cell_type": "code",
   "execution_count": 14,
   "metadata": {
    "ExecuteTime": {
     "end_time": "2023-06-29T18:26:17.403248Z",
     "start_time": "2023-06-29T18:26:17.123753Z"
    }
   },
   "outputs": [
    {
     "data": {
      "text/plain": [
       "<matplotlib.legend.Legend at 0x7f7517ea7970>"
      ]
     },
     "execution_count": 14,
     "metadata": {},
     "output_type": "execute_result"
    },
    {
     "data": {
      "image/png": "[encoded data removed]",
      "text/plain": [
       "<Figure size 720x360 with 2 Axes>"
      ]
     },
     "metadata": {
      "needs_background": "light"
     },
     "output_type": "display_data"
    }
   ],
   "source": [
    "plt.figure(figsize=[10, 5])\n",
    "\n",
    "AD_vec = SAs_AD[:, 1]\n",
    "Ctrl_vec = SAs_Ctrl[:, 1]\n",
    "pval = scipy.stats.mannwhitneyu(AD_vec, Ctrl_vec).pvalue\n",
    "\n",
    "plt.subplot(121)\n",
    "plt.title(f\"SA_lambda (Pval:{pval:.3E})\")\n",
    "sns.kdeplot(AD_vec, label=\"AD\")\n",
    "sns.kdeplot(Ctrl_vec, label=\"Ctrl\")\n",
    "plt.legend()\n",
    "\n",
    "AD_vec = SAs_AD[:, 0]\n",
    "Ctrl_vec = SAs_Ctrl[:, 0]\n",
    "pval = scipy.stats.mannwhitneyu(AD_vec, Ctrl_vec).pvalue\n",
    "\n",
    "plt.subplot(122)\n",
    "plt.title(f\"SA_inf (Pval:{pval:.3E})\")\n",
    "sns.kdeplot(AD_vec, label=\"AD\")\n",
    "sns.kdeplot(Ctrl_vec, label=\"Ctrl\")\n",
    "plt.legend()"
   ]
  },
  {
   "cell_type": "code",
   "execution_count": null,
   "metadata": {},
   "outputs": [],
   "source": []
  },
  {
   "cell_type": "code",
   "execution_count": 15,
   "metadata": {
    "ExecuteTime": {
     "end_time": "2023-06-29T18:26:21.101910Z",
     "start_time": "2023-06-29T18:26:21.084731Z"
    }
   },
   "outputs": [
    {
     "data": {
      "text/plain": [
       "(-0.1876474923500606, 0.012635509678335809)"
      ]
     },
     "execution_count": 15,
     "metadata": {},
     "output_type": "execute_result"
    }
   ],
   "source": [
    "AD_vec = SAs_AD[:, 1]\n",
    "Ctrl_vec = SAs_Ctrl[:, 1]\n",
    "v1 = np.concatenate([AD_vec, Ctrl_vec]);\n",
    "v2 = np.array([1]*len(AD_vec)+[0]*len(Ctrl_vec))\n",
    "scipy.stats.pearsonr(v1, v2)"
   ]
  },
  {
   "cell_type": "code",
   "execution_count": null,
   "metadata": {},
   "outputs": [],
   "source": []
  },
  {
   "cell_type": "code",
   "execution_count": null,
   "metadata": {},
   "outputs": [],
   "source": []
  },
  {
   "cell_type": "markdown",
   "metadata": {},
   "source": [
    "## Regression"
   ]
  },
  {
   "cell_type": "code",
   "execution_count": null,
   "metadata": {},
   "outputs": [],
   "source": []
  },
  {
   "cell_type": "code",
   "execution_count": 16,
   "metadata": {
    "ExecuteTime": {
     "end_time": "2023-06-29T18:26:36.866002Z",
     "start_time": "2023-06-29T18:26:36.343960Z"
    }
   },
   "outputs": [],
   "source": [
    "from sklearn.linear_model import LogisticRegression\n",
    "from sklearn.model_selection import LeaveOneOut\n",
    "from sklearn.model_selection import cross_val_predict\n",
    "from sklearn.metrics import roc_auc_score, roc_curve\n",
    "\n",
    "import matplotlib.cbook as cbook\n",
    "from scipy.stats import  norm\n",
    "import statsmodels.api as sm\n",
    "\n",
    "from prettytable import PrettyTable as pTB\n",
    "from sklearn.metrics import f1_score\n",
    "from collections import defaultdict as ddict\n",
    "from tmp_utils import get_ABIC\n",
    "\n",
    "import warnings\n",
    "warnings.filterwarnings('ignore')\n",
    "\n",
    "def TuningCFn(inpX, inpY, Cs=[0.1, 0.2, 0.4, 0.8, 1, 1.6, 3.2, 6.4, 12.8, 25.6], penalty=\"l2\"):\n",
    "    aucCs = []\n",
    "    for C in Cs:\n",
    "        eProbs = []\n",
    "        loo = LeaveOneOut()\n",
    "        for trIdxs, testIdxs in loo.split(inpX):\n",
    "            clf = LogisticRegression(penalty=penalty, random_state=0, C=C)\n",
    "            clf.fit(inpX[trIdxs, :], inpY[trIdxs])\n",
    "            eProbs.append(clf.predict_proba(inpX[testIdxs, :]))\n",
    "        eProbs = np.array(eProbs).squeeze()\n",
    "        auc = roc_auc_score(inpY, eProbs[:, 1])\n",
    "        fpr, tpr, thresholds = roc_curve(inpY, eProbs[:, 1], pos_label=1)\n",
    "        aucCs.append(auc)\n",
    "            \n",
    "    optC = Cs[np.argmax(aucCs)]\n",
    "    res = edict()\n",
    "    res[\"optC\"] = optC\n",
    "    res[\"Cs\"] = Cs\n",
    "    res[\"aucCs\"] = aucCs\n",
    "    return res\n"
   ]
  },
  {
   "cell_type": "markdown",
   "metadata": {},
   "source": [
    "### Get data"
   ]
  },
  {
   "cell_type": "code",
   "execution_count": 48,
   "metadata": {
    "ExecuteTime": {
     "end_time": "2023-07-05T19:55:24.761701Z",
     "start_time": "2023-07-05T19:55:24.739173Z"
    }
   },
   "outputs": [],
   "source": [
    "TA1s_AD = load_pkl(resDir/\"neuroimage_r1/SA_TA_features/TA_AD_nofilter.pkl\")\n",
    "TA1s_Ctrl = load_pkl(resDir/\"neuroimage_r1/SA_TA_features/TA_Ctrl_nofilter.pkl\")\n",
    "\n",
    "SAs_AD = load_pkl(resDir/\"neuroimage_r1/SA_TA_features/SA_AD_nofilter.pkl\")\n",
    "SAs_Ctrl = load_pkl(resDir/\"neuroimage_r1/SA_TA_features/SA_Ctrl_nofilter.pkl\");\n",
    "\n",
    "TA1s_AD = TA1s_AD[kpAD==1]\n",
    "TA1s_Ctrl = TA1s_Ctrl[kpCtrl==1]\n",
    "gTA1s_Ctrl = TA1s_Ctrl.mean(axis=1);\n",
    "gTA1s_AD = TA1s_AD.mean(axis=1);\n",
    "SAs_AD = SAs_AD[kpAD==1]\n",
    "SAs_Ctrl = SAs_Ctrl[kpCtrl==1];\n"
   ]
  },
  {
   "cell_type": "code",
   "execution_count": 58,
   "metadata": {
    "ExecuteTime": {
     "end_time": "2023-07-05T19:59:03.488704Z",
     "start_time": "2023-07-05T19:59:03.483130Z"
    }
   },
   "outputs": [
    {
     "name": "stdout",
     "output_type": "stream",
     "text": [
      "Pvals: gTA:5.119E-04; SA_lam:1.270E-02; SA_inf :2.405E-02 \n"
     ]
    }
   ],
   "source": [
    "TA_test = scipy.stats.ttest_ind(gTA1s_AD, gTA1s_Ctrl, equal_var=False)\n",
    "SA_inf_test = scipy.stats.ttest_ind(SAs_AD[:, 0], SAs_Ctrl[:, 0], equal_var=False)\n",
    "SA_lam_test = scipy.stats.ttest_ind(SAs_AD[:, 1], SAs_Ctrl[:, 1], equal_var=False);\n",
    "print(f\"Pvals: gTA:{TA_test.pvalue:.3E}; SA_lam:{SA_lam_test.pvalue:.3E}; SA_inf :{SA_inf_test.pvalue:.3E} \")"
   ]
  },
  {
   "cell_type": "code",
   "execution_count": null,
   "metadata": {},
   "outputs": [],
   "source": []
  },
  {
   "cell_type": "code",
   "execution_count": 17,
   "metadata": {
    "ExecuteTime": {
     "end_time": "2023-06-29T18:26:39.643342Z",
     "start_time": "2023-06-29T18:26:39.638157Z"
    }
   },
   "outputs": [],
   "source": [
    "SAs = SAs_AD\n",
    "TA1s = TA1s_AD\n",
    "gTA1s = gTA1s_AD\n",
    "\n",
    "fs_all = []\n",
    "for sub_ix in range(len(gTA1s)):\n",
    "    fs = edict()\n",
    "    \n",
    "    #SA\n",
    "    fs[\"SA_lam\"] = SAs[sub_ix, 1]\n",
    "    fs[\"SA_inf\"] = SAs[sub_ix, 0]\n",
    "    \n",
    "    # TA\n",
    "    fs[\"gTA\"] = gTA1s[sub_ix]\n",
    "    fs[\"TA\"] = TA1s[sub_ix]\n",
    "\n",
    "    fs_all.append(fs)\n",
    "\n",
    "fs_AD = fs_all;"
   ]
  },
  {
   "cell_type": "code",
   "execution_count": 18,
   "metadata": {
    "ExecuteTime": {
     "end_time": "2023-06-29T18:26:40.940416Z",
     "start_time": "2023-06-29T18:26:40.935319Z"
    }
   },
   "outputs": [],
   "source": [
    "SAs = SAs_Ctrl\n",
    "TA1s = TA1s_Ctrl\n",
    "gTA1s = gTA1s_Ctrl\n",
    "\n",
    "fs_all = []\n",
    "for sub_ix in range(len(gTA1s)):\n",
    "    fs = edict()\n",
    "    \n",
    "    #SA\n",
    "    fs[\"SA_lam\"] = SAs[sub_ix, 1]\n",
    "    fs[\"SA_inf\"] = SAs[sub_ix, 0]\n",
    "    \n",
    "    # TA\n",
    "    fs[\"gTA\"] = gTA1s[sub_ix]\n",
    "    fs[\"TA\"] = TA1s[sub_ix]\n",
    "\n",
    "    fs_all.append(fs)\n",
    "\n",
    "fs_Ctrl = fs_all;"
   ]
  },
  {
   "cell_type": "code",
   "execution_count": 19,
   "metadata": {
    "ExecuteTime": {
     "end_time": "2023-06-29T18:26:42.239978Z",
     "start_time": "2023-06-29T18:26:42.226722Z"
    }
   },
   "outputs": [
    {
     "name": "stdout",
     "output_type": "stream",
     "text": [
      "SA_lam_SA_inf_TA_l2\n"
     ]
    }
   ],
   "source": [
    "penalty = \"l2\"\n",
    "Ys = np.concatenate([np.ones(len(fs_AD)), np.zeros(len(fs_Ctrl))])\n",
    "fsName = [\"SA_lam\", \"SA_inf\", \"TA\"]\n",
    "\n",
    "XsAD = []\n",
    "XsCtrl = []\n",
    "for fName in fsName:\n",
    "    if isinstance(fs_AD[0][fName], numbers.Number):\n",
    "        cfAD = np.array([fs[fName] for fs in fs_AD]).reshape(-1, 1)\n",
    "        cfCtrl = np.array([fs[fName] for fs in fs_Ctrl]).reshape(-1, 1)\n",
    "    else:\n",
    "        cfAD = np.array([fs[fName] for fs in fs_AD])\n",
    "        cfCtrl = np.array([fs[fName] for fs in fs_Ctrl])\n",
    "    \n",
    "    XsAD.append(cfAD)\n",
    "    XsCtrl.append(cfCtrl)\n",
    "XsAD = np.concatenate(XsAD, axis=1)\n",
    "XsCtrl = np.concatenate(XsCtrl, axis=1)\n",
    "Xs = np.concatenate([XsAD, XsCtrl], axis=0)\n",
    "stdXs = (Xs - Xs.mean(axis=0))/Xs.std(axis=0)\n",
    "\n",
    "# name prefix to save the results\n",
    "preFix = \"_\".join(fsName) + f\"_{penalty}\"\n",
    "Cs = [0.05, 0.1, 0.2, 0.4, 0.8, 1, 1.6, 3.2]\n",
    "print(preFix)"
   ]
  },
  {
   "cell_type": "code",
   "execution_count": null,
   "metadata": {},
   "outputs": [],
   "source": []
  },
  {
   "cell_type": "markdown",
   "metadata": {},
   "source": [
    "### First fit"
   ]
  },
  {
   "cell_type": "code",
   "execution_count": 20,
   "metadata": {
    "ExecuteTime": {
     "end_time": "2023-06-29T18:27:03.190543Z",
     "start_time": "2023-06-29T18:26:45.182927Z"
    }
   },
   "outputs": [
    {
     "name": "stdout",
     "output_type": "stream",
     "text": [
      "0.05\n"
     ]
    }
   ],
   "source": [
    "# The opTuningC will be used throughout\n",
    "goptC = TuningCFn(stdXs, Ys, Cs, penalty=penalty)[\"optC\"]\n",
    "print(goptC)"
   ]
  },
  {
   "cell_type": "code",
   "execution_count": 21,
   "metadata": {
    "ExecuteTime": {
     "end_time": "2023-06-29T18:27:08.696776Z",
     "start_time": "2023-06-29T18:27:08.686368Z"
    }
   },
   "outputs": [],
   "source": [
    "# fit the first reg\n",
    "clf_final = LogisticRegression(penalty=penalty, random_state=0, C=goptC)\n",
    "clf_final.fit(stdXs, Ys)\n",
    "coefs_final = clf_final.coef_.reshape(-1);"
   ]
  },
  {
   "cell_type": "code",
   "execution_count": 22,
   "metadata": {
    "ExecuteTime": {
     "end_time": "2023-06-29T18:27:28.727575Z",
     "start_time": "2023-06-29T18:27:11.293166Z"
    },
    "scrolled": true
   },
   "outputs": [
    {
     "name": "stderr",
     "output_type": "stream",
     "text": [
      "100%|███████████████████████████████████████████████████████████████████████████████████████████████████████████████████████████████████| 10000/10000 [00:16<00:00, 596.19it/s]\n"
     ]
    }
   ],
   "source": [
    "# bootstrap\n",
    "def _run_fn_boot(i):\n",
    "    np.random.seed(i)\n",
    "    bootIdx = np.random.choice(len(Ys), len(Ys))\n",
    "    YsBoot = Ys[bootIdx]\n",
    "    stdXsBoot = stdXs[bootIdx]\n",
    "    cur_optC = goptC\n",
    "    #cur_optC = TuningCFn(stdXsBoot, YsBoot, Cs, penalty=penalty)[\"optC\"]\n",
    "    clf = LogisticRegression(penalty=penalty, random_state=0, C=cur_optC)\n",
    "    clf.fit(stdXsBoot, YsBoot)\n",
    "    paras_boot = clf.coef_.reshape(-1)\n",
    "    return paras_boot\n",
    "    \n",
    "n_rep = 10000\n",
    "with Parallel(n_jobs=20) as parallel:\n",
    "    parass_boot = parallel(delayed(_run_fn_boot)(i) \n",
    "                   for i in tqdm(range(n_rep)))"
   ]
  },
  {
   "cell_type": "code",
   "execution_count": 24,
   "metadata": {
    "ExecuteTime": {
     "end_time": "2023-06-29T18:27:48.351711Z",
     "start_time": "2023-06-29T18:27:48.331858Z"
    }
   },
   "outputs": [
    {
     "name": "stdout",
     "output_type": "stream",
     "text": [
      "[ 0  4  6 10 17 19 30 35 51 54 58 61 63]\n"
     ]
    }
   ],
   "source": [
    "parass_boot = np.array(parass_boot)\n",
    "lows, ups = coefs_final-parass_boot.std(axis=0)*1.96, coefs_final+parass_boot.std(axis=0)*1.96\n",
    "kpidxBoot = np.bitwise_or(lows >0,  ups < 0)\n",
    "kpidxIdBoot = np.where(kpidxBoot)[0]\n",
    "\n",
    "xlabs = np.concatenate([fsName[:-1],\n",
    "                         region_names])\n",
    "select_fs_idx = kpidxBoot\n",
    "print(kpidxIdBoot)"
   ]
  },
  {
   "cell_type": "code",
   "execution_count": 25,
   "metadata": {
    "ExecuteTime": {
     "end_time": "2023-06-29T18:27:51.876909Z",
     "start_time": "2023-06-29T18:27:51.867232Z"
    }
   },
   "outputs": [],
   "source": [
    "# Pvalue\n",
    "test_stats_boot = coefs_final/parass_boot.std(axis=0)\n",
    "normRV = norm()\n",
    "# to be consistent, I think we should use two-sided pvalue\n",
    "bootPvs = 2*(1-normRV.cdf(np.abs(test_stats_boot)));"
   ]
  },
  {
   "cell_type": "code",
   "execution_count": 26,
   "metadata": {
    "ExecuteTime": {
     "end_time": "2023-06-29T18:28:00.355763Z",
     "start_time": "2023-06-29T18:28:00.344811Z"
    }
   },
   "outputs": [
    {
     "name": "stdout",
     "output_type": "stream",
     "text": [
      "                   Feature  Parameters      Lower      Upper   Pvalues\n",
      "0                   SA_lam  -1.957e-01 -3.386e-01 -5.281e-02 7.264e-03\n",
      "1    L-Caudalmiddlefrontal  -1.794e-01 -3.020e-01 -5.676e-02 4.140e-03\n",
      "2             L-Entorhinal  -1.495e-01 -2.631e-01 -3.579e-02 9.963e-03\n",
      "3       L-Inferiortemporal  -1.802e-01 -3.009e-01 -5.945e-02 3.441e-03\n",
      "4         L-Middletemporal  -1.710e-01 -3.076e-01 -3.450e-02 1.408e-02\n",
      "5        L-Parahippocampal  -2.080e-01 -3.274e-01 -8.852e-02 6.441e-04\n",
      "6        L-Superiorfrontal   1.565e-01  4.467e-02  2.683e-01 6.089e-03\n",
      "7     L-Transversetemporal  -1.277e-01 -2.531e-01 -2.346e-03 4.586e-02\n",
      "8         R-Middletemporal   1.402e-01  2.016e-02  2.602e-01 2.207e-02\n",
      "9        R-Parsopercularis  -1.593e-01 -2.919e-01 -2.670e-02 1.854e-02\n",
      "10           R-Postcentral   1.373e-01  1.576e-03  2.731e-01 4.740e-02\n",
      "11             R-Precuneus   1.340e-01  2.697e-02  2.410e-01 1.413e-02\n",
      "12  R-Rostralmiddlefrontal   1.669e-01  4.089e-02  2.929e-01 9.431e-03\n"
     ]
    }
   ],
   "source": [
    "resDic = {\n",
    "   \"Feature\" : xlabs[kpidxBoot],  \n",
    "    \"Parameters\": coefs_final[kpidxBoot],\n",
    "    \"Lower\": lows[kpidxBoot],\n",
    "    \"Upper\": ups[kpidxBoot],\n",
    "    \"Pvalues\": bootPvs[kpidxBoot]\n",
    "}\n",
    "#pd.set_option(\"display.precision\", 3)\n",
    "pd.set_option('display.float_format',lambda x : '%.3e' % x)\n",
    "resDF = pd.DataFrame(resDic)\n",
    "print(resDF)"
   ]
  },
  {
   "cell_type": "markdown",
   "metadata": {},
   "source": [
    "### Second fit"
   ]
  },
  {
   "cell_type": "code",
   "execution_count": 27,
   "metadata": {
    "ExecuteTime": {
     "end_time": "2023-06-29T18:28:14.473322Z",
     "start_time": "2023-06-29T18:28:08.132026Z"
    }
   },
   "outputs": [
    {
     "name": "stdout",
     "output_type": "stream",
     "text": [
      "(176, 13)\n",
      "0.4\n"
     ]
    }
   ],
   "source": [
    "# select fs\n",
    "stdXs_selected = stdXs[:, select_fs_idx]\n",
    "print(stdXs_selected.shape)\n",
    "\n",
    "goptC2 = TuningCFn(stdXs_selected, Ys, Cs, penalty=penalty)[\"optC\"]\n",
    "print(goptC2)\n",
    "def pred_run_fn_sel(trIdxs, testIdxs, curOptC=None):\n",
    "    \"\"\"\n",
    "    This function trains a logistic regression model on the given training indices and predicts probabilities for the test indices.\n",
    "\n",
    "    Args:\n",
    "    trIdxs (array-like): Indices of the training data.\n",
    "    testIdxs (array-like): Indices of the test data.\n",
    "\n",
    "    Returns:\n",
    "    eprob (array-like): Predicted probabilities for the test data.\n",
    "    paras (array-like): Coefficients of the logistic regression model.\n",
    "    \"\"\"\n",
    "    curStdXs, curYs = stdXs_selected[trIdxs, :], Ys[trIdxs]\n",
    "    if curOptC is None:\n",
    "        curOptC = TuningCFn(curStdXs, curYs, Cs, penalty=penalty)[\"optC\"]\n",
    "    clf = LogisticRegression(penalty=penalty, random_state=0, C=curOptC)\n",
    "    clf.fit(curStdXs, curYs)\n",
    "    paras = clf.coef_.reshape(-1)\n",
    "    eprob = clf.predict_proba(stdXs_selected[testIdxs, :])\n",
    "\n",
    "    return eprob, paras, curOptC"
   ]
  },
  {
   "cell_type": "code",
   "execution_count": 43,
   "metadata": {
    "ExecuteTime": {
     "end_time": "2023-06-29T21:41:44.788513Z",
     "start_time": "2023-06-29T21:41:44.768911Z"
    }
   },
   "outputs": [
    {
     "data": {
      "text/plain": [
       "(198.64839126750022, 221.44218646769625)"
      ]
     },
     "execution_count": 43,
     "metadata": {},
     "output_type": "execute_result"
    }
   ],
   "source": [
    "def get_ABIC(Xs, Ys, C):\n",
    "    lam = 2/C\n",
    "    clf_info = LogisticRegression(penalty=\"l2\", random_state=0, C=C);\n",
    "    clf_info.fit(Xs, Ys)\n",
    "    eprobs1 = clf_info.predict_proba(Xs)[:, 1];\n",
    "    logL = np.sum(Ys*np.log(eprobs1) + (1-Ys)*np.log(1-eprobs1));\n",
    "    \n",
    "    # effective df\n",
    "    fXs = np.concatenate([np.ones((Xs.shape[0], 1)), Xs], axis=-1)\n",
    "    logL_der2 = -fXs.T @ np.diag(eprobs1*(1-eprobs1)) @ fXs;\n",
    "    logL_der2_ridge = logL_der2 - lam * np.eye(logL_der2.shape[0]);\n",
    "    dfe = np.diag(logL_der2@np.linalg.inv(logL_der2_ridge)).sum();\n",
    "    aic = -2*logL + 2*dfe\n",
    "    bic = -2*logL + np.log(Ys.shape[0])*dfe\n",
    "    return aic, bic\n",
    "# get AIC and BIC \n",
    "get_ABIC(stdXs_selected, Ys, goptC2)"
   ]
  },
  {
   "cell_type": "code",
   "execution_count": null,
   "metadata": {
    "ExecuteTime": {
     "end_time": "2023-06-29T18:35:08.149464Z",
     "start_time": "2023-06-29T18:31:34.493814Z"
    }
   },
   "outputs": [],
   "source": [
    "loo = LeaveOneOut()\n",
    "with Parallel(n_jobs=20) as parallel:\n",
    "    res = parallel(delayed(pred_run_fn_sel)(trIdxs, testIdxs) \n",
    "                   for trIdxs, testIdxs in tqdm(loo.split(stdXs_selected), total=len(stdXs_selected))\n",
    "                  )\n",
    "parass = np.array([ix[1] for ix in res])\n",
    "eprobs = np.array([ix[0] for ix in res]).squeeze();\n",
    "loo_auc = roc_auc_score(Ys, eprobs[:, 1])\n",
    "loo_fpr, loo_tpr, loo_thresholds = roc_curve(Ys, eprobs[:, 1], pos_label=1)\n",
    "print(loo_auc)\n",
    "\n",
    "resROC = {\"fpr\":loo_fpr, \"tpr\":loo_tpr, \"AUC\":loo_auc}\n",
    "save_pkl(resDir/f\"TASA_ROCcurve_reg2.pkl\", resROC)"
   ]
  },
  {
   "cell_type": "code",
   "execution_count": null,
   "metadata": {},
   "outputs": [],
   "source": []
  },
  {
   "cell_type": "code",
   "execution_count": 32,
   "metadata": {
    "ExecuteTime": {
     "end_time": "2023-06-29T18:36:14.709749Z",
     "start_time": "2023-06-29T18:36:04.179459Z"
    }
   },
   "outputs": [
    {
     "name": "stderr",
     "output_type": "stream",
     "text": [
      "\n",
      "  0%|                                                                                                                                                | 0/10000 [00:00<?, ?it/s]\u001b[A\n",
      "  0%|▌                                                                                                                                      | 40/10000 [00:00<02:38, 62.75it/s]\u001b[A\n",
      "  1%|█▎                                                                                                                                   | 100/10000 [00:00<01:01, 160.87it/s]\u001b[A\n",
      "  3%|███▍                                                                                                                                 | 260/10000 [00:00<00:21, 454.77it/s]\u001b[A\n",
      "  5%|██████▋                                                                                                                              | 500/10000 [00:01<00:12, 779.96it/s]\u001b[A\n",
      "  7%|████████▊                                                                                                                            | 660/10000 [00:01<00:09, 955.27it/s]\u001b[A\n",
      " 10%|████████████▉                                                                                                                       | 980/10000 [00:01<00:08, 1112.13it/s]\u001b[A\n",
      " 13%|█████████████████                                                                                                                  | 1300/10000 [00:01<00:06, 1370.56it/s]\u001b[A\n",
      " 16%|█████████████████████▏                                                                                                             | 1620/10000 [00:01<00:07, 1112.40it/s]\u001b[A\n",
      " 19%|█████████████████████████▍                                                                                                         | 1940/10000 [00:02<00:07, 1104.33it/s]\u001b[A\n",
      " 23%|█████████████████████████████▌                                                                                                     | 2260/10000 [00:02<00:06, 1136.64it/s]\u001b[A\n",
      " 26%|█████████████████████████████████▊                                                                                                 | 2580/10000 [00:02<00:06, 1082.49it/s]\u001b[A\n",
      " 29%|█████████████████████████████████████▉                                                                                             | 2900/10000 [00:03<00:06, 1053.49it/s]\u001b[A\n",
      " 32%|██████████████████████████████████████████▌                                                                                         | 3220/10000 [00:03<00:06, 971.75it/s]\u001b[A\n",
      " 35%|██████████████████████████████████████████████▎                                                                                    | 3540/10000 [00:03<00:06, 1013.69it/s]\u001b[A\n",
      " 39%|██████████████████████████████████████████████████▌                                                                                | 3860/10000 [00:04<00:05, 1086.39it/s]\u001b[A\n",
      " 42%|██████████████████████████████████████████████████████▊                                                                            | 4180/10000 [00:04<00:05, 1072.18it/s]\u001b[A\n",
      " 45%|██████████████████████████████████████████████████████████▉                                                                        | 4500/10000 [00:04<00:05, 1040.91it/s]\u001b[A\n",
      " 48%|███████████████████████████████████████████████████████████████▏                                                                   | 4820/10000 [00:04<00:04, 1058.71it/s]\u001b[A\n",
      " 51%|███████████████████████████████████████████████████████████████████▎                                                               | 5140/10000 [00:05<00:04, 1006.72it/s]\u001b[A\n",
      " 55%|███████████████████████████████████████████████████████████████████████▌                                                           | 5460/10000 [00:05<00:04, 1016.17it/s]\u001b[A\n",
      " 58%|███████████████████████████████████████████████████████████████████████████▋                                                       | 5780/10000 [00:05<00:04, 1025.59it/s]\u001b[A\n",
      " 61%|███████████████████████████████████████████████████████████████████████████████▉                                                   | 6100/10000 [00:06<00:03, 1054.49it/s]\u001b[A\n",
      " 64%|████████████████████████████████████████████████████████████████████████████████████                                               | 6420/10000 [00:06<00:03, 1021.84it/s]\u001b[A\n",
      " 67%|████████████████████████████████████████████████████████████████████████████████████████▎                                          | 6740/10000 [00:06<00:03, 1029.54it/s]\u001b[A\n",
      " 71%|████████████████████████████████████████████████████████████████████████████████████████████▍                                      | 7060/10000 [00:07<00:02, 1009.94it/s]\u001b[A\n",
      " 74%|████████████████████████████████████████████████████████████████████████████████████████████████▋                                  | 7380/10000 [00:07<00:02, 1007.21it/s]\u001b[A\n",
      " 77%|████████████████████████████████████████████████████████████████████████████████████████████████████▊                              | 7700/10000 [00:07<00:02, 1059.91it/s]\u001b[A\n",
      " 80%|█████████████████████████████████████████████████████████████████████████████████████████████████████████                          | 8020/10000 [00:08<00:01, 1085.52it/s]\u001b[A\n",
      " 83%|█████████████████████████████████████████████████████████████████████████████████████████████████████████████▎                     | 8340/10000 [00:08<00:01, 1112.88it/s]\u001b[A\n",
      " 87%|█████████████████████████████████████████████████████████████████████████████████████████████████████████████████▍                 | 8660/10000 [00:08<00:01, 1086.83it/s]\u001b[A\n",
      " 90%|█████████████████████████████████████████████████████████████████████████████████████████████████████████████████████▋             | 8980/10000 [00:08<00:01, 1013.02it/s]\u001b[A\n",
      " 93%|█████████████████████████████████████████████████████████████████████████████████████████████████████████████████████████▊         | 9300/10000 [00:09<00:00, 1010.94it/s]\u001b[A\n",
      " 96%|██████████████████████████████████████████████████████████████████████████████████████████████████████████████████████████████     | 9620/10000 [00:09<00:00, 1002.33it/s]\u001b[A\n",
      "100%|██████████████████████████████████████████████████████████████████████████████████████████████████████████████████████████████████| 10000/10000 [00:09<00:00, 1008.67it/s]\u001b[A\n"
     ]
    },
    {
     "name": "stdout",
     "output_type": "stream",
     "text": [
      "The mean of AUC under 1000 repetitions is 0.788 and the standard deviation is 0.071, the 95% CI is (0.639, 0.918).\n"
     ]
    }
   ],
   "source": [
    "def pred_run_fn_CV(i, curOptC=None):\n",
    "    \n",
    "    np.random.seed(i)\n",
    "    nobs = stdXs_selected.shape[0]\n",
    "    \n",
    "    testIdxs = np.random.choice(nobs, int(nobs/5), False)\n",
    "    trIdxs = np.delete(np.arange(nobs), testIdxs)\n",
    "    \n",
    "    curStdXs, curYs = stdXs_selected[trIdxs, :], Ys[trIdxs]\n",
    "    if curOptC is None:\n",
    "        curOptC = TuningCFn(curStdXs, curYs, Cs, penalty=penalty)[\"optC\"]\n",
    "    clf = LogisticRegression(penalty=penalty, random_state=0, C=curOptC)\n",
    "    clf.fit(curStdXs, curYs)\n",
    "    eprob = clf.predict_proba(stdXs_selected[testIdxs, :])\n",
    "    cur_auc = roc_auc_score(Ys[testIdxs], eprob[:, 1])\n",
    "    return cur_auc, curOptC\n",
    "\n",
    "n_rep = 10000\n",
    "with Parallel(n_jobs=20) as parallel:\n",
    "    res = parallel(delayed(pred_run_fn_CV)(i, goptC2) \n",
    "                   for i in tqdm(range(n_rep)))\n",
    "\n",
    "aucs = [ix[0] for ix in res]\n",
    "auc_m = np.mean(aucs)\n",
    "auc_std = np.std(aucs)\n",
    "print(f\"The mean of AUC under 1000 repetitions is {auc_m:.3f} and the standard deviation is {auc_std:.3f}, \"\n",
    "      f\"the 95% CI is ({np.quantile(aucs, 0.025):.3f}, {np.quantile(aucs, 0.975):.3f}).\")"
   ]
  },
  {
   "cell_type": "code",
   "execution_count": null,
   "metadata": {},
   "outputs": [],
   "source": []
  },
  {
   "cell_type": "code",
   "execution_count": null,
   "metadata": {},
   "outputs": [],
   "source": []
  }
 ],
 "metadata": {
  "kernelspec": {
   "display_name": "Python 3 (ipykernel)",
   "language": "python",
   "name": "python3"
  },
  "language_info": {
   "codemirror_mode": {
    "name": "ipython",
    "version": 3
   },
   "file_extension": ".py",
   "mimetype": "text/x-python",
   "name": "python",
   "nbconvert_exporter": "python",
   "pygments_lexer": "ipython3",
   "version": "3.9.7"
  },
  "toc": {
   "base_numbering": 1,
   "nav_menu": {},
   "number_sections": true,
   "sideBar": true,
   "skip_h1_title": false,
   "title_cell": "Table of Contents",
   "title_sidebar": "Contents",
   "toc_cell": false,
   "toc_position": {
    "height": "calc(100% - 180px)",
    "left": "10px",
    "top": "150px",
    "width": "223px"
   },
   "toc_section_display": true,
   "toc_window_display": true
  },
  "varInspector": {
   "cols": {
    "lenName": 16,
    "lenType": 16,
    "lenVar": 40
   },
   "kernels_config": {
    "python": {
     "delete_cmd_postfix": "",
     "delete_cmd_prefix": "del ",
     "library": "var_list.py",
     "varRefreshCmd": "print(var_dic_list())"
    },
    "r": {
     "delete_cmd_postfix": ") ",
     "delete_cmd_prefix": "rm(",
     "library": "var_list.r",
     "varRefreshCmd": "cat(var_dic_list()) "
    }
   },
   "position": {
    "height": "393.844px",
    "left": "1550px",
    "right": "20px",
    "top": "120px",
    "width": "350px"
   },
   "types_to_exclude": [
    "module",
    "function",
    "builtin_function_or_method",
    "instance",
    "_Feature"
   ],
   "window_display": false
  }
 },
 "nbformat": 4,
 "nbformat_minor": 2
}
