{
 "cells": [
  {
   "cell_type": "markdown",
   "metadata": {},
   "source": [
    "Supp to `other_method_reg2` via adding AIC and BIC\n",
    "\n",
    "Due to diff random seed, we can not exactly reproduce the results, \n",
    "so I use the results in `other_method_reg2`"
   ]
  },
  {
   "cell_type": "code",
   "execution_count": 1,
   "metadata": {
    "ExecuteTime": {
     "end_time": "2023-06-29T21:37:55.790057Z",
     "start_time": "2023-06-29T21:37:55.776652Z"
    }
   },
   "outputs": [
    {
     "data": {
      "text/plain": [
       "PosixPath('../..')"
      ]
     },
     "execution_count": 1,
     "metadata": {},
     "output_type": "execute_result"
    }
   ],
   "source": [
    "import sys\n",
    "sys.path.append(\"../../\")\n",
    "from pathlib import Path\n",
    "root = Path(\"../../\")"
   ]
  },
  {
   "cell_type": "code",
   "execution_count": 2,
   "metadata": {
    "ExecuteTime": {
     "end_time": "2023-06-29T21:37:59.475327Z",
     "start_time": "2023-06-29T21:37:55.791272Z"
    }
   },
   "outputs": [],
   "source": [
    "import importlib\n",
    "from pyTVDN import TVDNDetect\n",
    "\n",
    "import pyTVDN.utils\n",
    "importlib.reload(pyTVDN.utils)\n",
    "from pyTVDN.utils import load_pkl, save_pkl\n",
    "\n",
    "from sklearn.cluster import KMeans\n",
    "from pathlib import Path\n",
    "from scipy.io import loadmat\n",
    "import numpy as np\n",
    "from easydict import EasyDict as edict\n",
    "import matplotlib.pyplot as plt\n",
    "import os\n",
    "from scipy import signal\n",
    "from scipy.stats import fisher_exact, norm\n",
    "import pickle\n",
    "import seaborn as sns\n",
    "#from tqdm.autonotebook import tqdm\n",
    "from tqdm import tqdm\n",
    "import numbers\n",
    "import pandas as pd\n",
    "%matplotlib inline"
   ]
  },
  {
   "cell_type": "code",
   "execution_count": 3,
   "metadata": {
    "ExecuteTime": {
     "end_time": "2023-06-29T21:37:59.659945Z",
     "start_time": "2023-06-29T21:37:59.477396Z"
    }
   },
   "outputs": [],
   "source": [
    "from sklearn.linear_model import LogisticRegression\n",
    "from sklearn.model_selection import LeaveOneOut\n",
    "from sklearn.metrics import roc_auc_score, roc_curve\n",
    "from tmp_utils import get_ABIC\n",
    "\n",
    "import warnings\n",
    "warnings.filterwarnings('ignore')"
   ]
  },
  {
   "cell_type": "markdown",
   "metadata": {},
   "source": [
    "### Load data"
   ]
  },
  {
   "cell_type": "code",
   "execution_count": 4,
   "metadata": {
    "ExecuteTime": {
     "end_time": "2023-06-29T21:37:59.666436Z",
     "start_time": "2023-06-29T21:37:59.661831Z"
    }
   },
   "outputs": [
    {
     "data": {
      "text/plain": [
       "PosixPath('../../data')"
      ]
     },
     "execution_count": 4,
     "metadata": {},
     "output_type": "execute_result"
    }
   ],
   "source": [
    "resDir = root/\"results\"\n",
    "dataDir = root/\"data\""
   ]
  },
  {
   "cell_type": "code",
   "execution_count": 5,
   "metadata": {
    "ExecuteTime": {
     "end_time": "2023-06-29T21:37:59.712243Z",
     "start_time": "2023-06-29T21:37:59.668485Z"
    }
   },
   "outputs": [],
   "source": [
    "def wUFn(Amat):\n",
    "    eigVals, eigVecs = np.linalg.eig(Amat)\n",
    "    r = np.sum(np.cumsum(np.abs(eigVals))/np.sum(np.abs(eigVals)) <= 0.8) + 1\n",
    "    if (eigVals[r-1].imag + eigVals[r].imag ) == 0:\n",
    "        r = r + 1\n",
    "    wU = np.abs(np.matmul(eigVecs[:, :r], eigVals[:r]))\n",
    "    return wU, r, eigVals[:r]"
   ]
  },
  {
   "cell_type": "code",
   "execution_count": 6,
   "metadata": {
    "ExecuteTime": {
     "end_time": "2023-06-29T21:37:59.754776Z",
     "start_time": "2023-06-29T21:37:59.714011Z"
    }
   },
   "outputs": [],
   "source": [
    "def minmax(x):\n",
    "    num = x - np.min(x)\n",
    "    den = np.max(x) - np.min(x)\n",
    "    return num/den\n",
    "\n",
    "def U2BrainVec(wU):\n",
    "    emVec = np.zeros_like(DKtmplate, dtype=np.float64)\n",
    "    for idx in range(1, 69):\n",
    "        emVec[DKtmplate==idx] = wU[idx-1]\n",
    "    return emVec\n",
    "\n",
    "def reorderU(wU):\n",
    "    wUreorder = np.zeros_like(wU, dtype=np.float64)\n",
    "    wUreorder[0::2] = wU[:34]\n",
    "    wUreorder[1::2] = wU[34:]\n",
    "    return wUreorder"
   ]
  },
  {
   "cell_type": "code",
   "execution_count": 7,
   "metadata": {
    "ExecuteTime": {
     "end_time": "2023-06-29T21:37:59.799168Z",
     "start_time": "2023-06-29T21:37:59.757209Z"
    }
   },
   "outputs": [],
   "source": [
    "def rSelFn(Amat):\n",
    "    eigVals, eigVecs = np.linalg.eig(Amat)\n",
    "    rSel = np.where(np.cumsum(np.abs(eigVals))/np.sum(np.abs(eigVals)) >0.8)[0][0] + 1\n",
    "    # if breaking conjugate eigval pair, add r with 1\n",
    "    if (eigVals[rSel-1].imag + eigVals[rSel].imag) == 0:\n",
    "        rSel = rSel + 1\n",
    "    wU = np.abs(np.matmul(eigVecs[:, :rSel], eigVals[:rSel]))\n",
    "    return rSel, wU, eigVals[:rSel]"
   ]
  },
  {
   "cell_type": "markdown",
   "metadata": {},
   "source": [
    "### Parameters"
   ]
  },
  {
   "cell_type": "code",
   "execution_count": 8,
   "metadata": {
    "ExecuteTime": {
     "end_time": "2023-06-29T21:37:59.846155Z",
     "start_time": "2023-06-29T21:37:59.801084Z"
    }
   },
   "outputs": [
    {
     "data": {
      "text/plain": [
       "120"
      ]
     },
     "execution_count": 8,
     "metadata": {},
     "output_type": "execute_result"
    }
   ],
   "source": [
    "Cs = [0.001, 0.01, 0.05, 0.1, 0.2, 0.4, 0.8, 1, 1.6, 3.2, 6.4, 12.8, 25.6]\n",
    "penalty = \"l2\"\n",
    "freq = 120"
   ]
  },
  {
   "cell_type": "markdown",
   "metadata": {},
   "source": [
    "### DMD"
   ]
  },
  {
   "cell_type": "code",
   "execution_count": 9,
   "metadata": {
    "ExecuteTime": {
     "end_time": "2023-06-29T21:37:59.914754Z",
     "start_time": "2023-06-29T21:37:59.848025Z"
    }
   },
   "outputs": [],
   "source": [
    "filName = f\"Ctrl_data_NWM_DMD.pkl\"\n",
    "with open(resDir/filName, \"rb\") as f:\n",
    "    CtrlDMD = pickle.load(f)\n",
    "filName = f\"AD_data_NWM_DMD.pkl\"\n",
    "with open(resDir/filName, \"rb\") as f:\n",
    "    ADDMD = pickle.load(f)"
   ]
  },
  {
   "cell_type": "code",
   "execution_count": 10,
   "metadata": {
    "ExecuteTime": {
     "end_time": "2023-06-29T21:38:00.054312Z",
     "start_time": "2023-06-29T21:37:59.916454Z"
    }
   },
   "outputs": [],
   "source": [
    "fsAll = []\n",
    "for v in ADDMD:\n",
    "    fs = edict()\n",
    "    fs.tC = v[\"ms\"][0]\n",
    "    fs.tL = v[\"ms\"][1]\n",
    "    fs.tQ = v[\"ms\"][2]\n",
    "    fs.C = v[\"ms\"][3]\n",
    "    fs.L = v[\"ms\"][4]\n",
    "    fs.Q = v[\"ms\"][5]\n",
    "    fs.wU, fs.r, eigVal = wUFn(v[\"Amat\"])\n",
    "    fs.absEigValMean = np.abs(eigVal).mean()\n",
    "    fs.absImagEigValMaxMean = np.abs(eigVal.imag).max()\n",
    "    fsAll.append(fs)\n",
    "fsAD = fsAll;"
   ]
  },
  {
   "cell_type": "code",
   "execution_count": 11,
   "metadata": {
    "ExecuteTime": {
     "end_time": "2023-06-29T21:38:00.182531Z",
     "start_time": "2023-06-29T21:38:00.057122Z"
    }
   },
   "outputs": [],
   "source": [
    "fsAll = []\n",
    "for v in CtrlDMD:\n",
    "    fs = edict()\n",
    "    fs.tC = v[\"ms\"][0]\n",
    "    fs.tL = v[\"ms\"][1]\n",
    "    fs.tQ = v[\"ms\"][2]\n",
    "    fs.C = v[\"ms\"][3]\n",
    "    fs.L = v[\"ms\"][4]\n",
    "    fs.Q = v[\"ms\"][5]\n",
    "    fs.wU, fs.r, eigVal = wUFn(v[\"Amat\"])\n",
    "    fs.absEigValMean = np.abs(eigVal).mean()\n",
    "    fs.absImagEigValMaxMean = np.abs(eigVal.imag).max()\n",
    "    fsAll.append(fs)\n",
    "fsCtrl = fsAll;"
   ]
  },
  {
   "cell_type": "code",
   "execution_count": 12,
   "metadata": {
    "ExecuteTime": {
     "end_time": "2023-06-29T21:38:00.548995Z",
     "start_time": "2023-06-29T21:38:00.480363Z"
    }
   },
   "outputs": [
    {
     "data": {
      "text/plain": [
       "(206.11451480637544, 221.3873379158028)"
      ]
     },
     "execution_count": 12,
     "metadata": {},
     "output_type": "execute_result"
    }
   ],
   "source": [
    "fsName = [\"r\", \"tQ\", \"tL\", \"wU\"]\n",
    "\n",
    "Ys = np.concatenate([np.ones(len(fsAD)), np.zeros(len(fsCtrl))])\n",
    "XsAD = []\n",
    "XsCtrl = []\n",
    "for fName in fsName:\n",
    "    if isinstance(fsAD[0][fName], numbers.Number):\n",
    "        cfAD = np.array([fs[fName] for fs in fsAD]).reshape(-1, 1)\n",
    "        cfCtrl = np.array([fs[fName] for fs in fsCtrl]).reshape(-1, 1)\n",
    "    else:\n",
    "        cfAD = np.array([fs[fName] for fs in fsAD])\n",
    "        cfCtrl = np.array([fs[fName] for fs in fsCtrl])\n",
    "    \n",
    "    XsAD.append(cfAD)\n",
    "    XsCtrl.append(cfCtrl)\n",
    "XsAD = np.concatenate(XsAD, axis=1)\n",
    "XsCtrl = np.concatenate(XsCtrl, axis=1)\n",
    "Xs = np.concatenate([XsAD, XsCtrl], axis=0)\n",
    "stdXs = (Xs - Xs.mean(axis=0))/Xs.std(axis=0);\n",
    "    \n",
    "select_fs_idx = np.array([ 0,  9, 16, 28, 40, 42, 45, 51, 60, 62, 65])\n",
    "gOptC2 = 0.05\n",
    "\n",
    "# select fs\n",
    "stdXs_selected = stdXs[:, select_fs_idx]\n",
    "\n",
    "get_ABIC(stdXs_selected, Ys, gOptC2)"
   ]
  },
  {
   "cell_type": "code",
   "execution_count": null,
   "metadata": {},
   "outputs": [],
   "source": []
  },
  {
   "cell_type": "markdown",
   "metadata": {},
   "source": [
    "### ND(TV)"
   ]
  },
  {
   "cell_type": "code",
   "execution_count": 13,
   "metadata": {
    "ExecuteTime": {
     "end_time": "2023-06-29T21:38:04.291180Z",
     "start_time": "2023-06-29T21:38:04.258189Z"
    }
   },
   "outputs": [],
   "source": [
    "filName = f\"Ctrl_data_NWM_TV.pkl\"\n",
    "with open(resDir/filName, \"rb\") as f:\n",
    "    CtrlTV = pickle.load(f)\n",
    "filName = f\"AD_data_NWM_TV.pkl\"\n",
    "with open(resDir/filName, \"rb\") as f:\n",
    "    ADTV = pickle.load(f)"
   ]
  },
  {
   "cell_type": "code",
   "execution_count": 14,
   "metadata": {
    "ExecuteTime": {
     "end_time": "2023-06-29T21:38:04.849207Z",
     "start_time": "2023-06-29T21:38:04.720869Z"
    }
   },
   "outputs": [],
   "source": [
    "fsAll = []\n",
    "for v in ADTV:\n",
    "    fs = edict()\n",
    "    fs.tC = v[\"ms\"][0]\n",
    "    fs.tL = v[\"ms\"][1]\n",
    "    fs.tQ = v[\"ms\"][2]\n",
    "    fs.C = v[\"ms\"][3]\n",
    "    fs.L = v[\"ms\"][4]\n",
    "    fs.Q = v[\"ms\"][5]\n",
    "    fs.wU, fs.r, eigVal = wUFn(v[\"Amat\"])\n",
    "    fs.absEigValMean = np.abs(eigVal).mean()\n",
    "    fs.absImagEigValMaxMean = np.abs(eigVal.imag).max()\n",
    "    fsAll.append(fs)\n",
    "fsAD = fsAll;"
   ]
  },
  {
   "cell_type": "code",
   "execution_count": 15,
   "metadata": {
    "ExecuteTime": {
     "end_time": "2023-06-29T21:38:05.285926Z",
     "start_time": "2023-06-29T21:38:05.156592Z"
    }
   },
   "outputs": [],
   "source": [
    "fsAll = []\n",
    "for v in CtrlTV:\n",
    "    fs = edict()\n",
    "    fs.tC = v[\"ms\"][0]\n",
    "    fs.tL = v[\"ms\"][1]\n",
    "    fs.tQ = v[\"ms\"][2]\n",
    "    fs.C = v[\"ms\"][3]\n",
    "    fs.L = v[\"ms\"][4]\n",
    "    fs.Q = v[\"ms\"][5]\n",
    "    fs.wU, fs.r, eigVal = wUFn(v[\"Amat\"])\n",
    "    fs.absEigValMean = np.abs(eigVal).mean()\n",
    "    fs.absImagEigValMaxMean = np.abs(eigVal.imag).max()\n",
    "    fsAll.append(fs)\n",
    "fsCtrl = fsAll;"
   ]
  },
  {
   "cell_type": "code",
   "execution_count": 16,
   "metadata": {
    "ExecuteTime": {
     "end_time": "2023-06-29T21:38:05.638234Z",
     "start_time": "2023-06-29T21:38:05.622380Z"
    }
   },
   "outputs": [
    {
     "data": {
      "text/plain": [
       "(211.60643764880226, 230.679199702888)"
      ]
     },
     "execution_count": 16,
     "metadata": {},
     "output_type": "execute_result"
    }
   ],
   "source": [
    "fsName = [\"r\", \"tQ\", \"tL\", \"wU\"]\n",
    "#fsName = [\"r\", \"tQ\", \"tC\", \"tL\", \"wU\"]\n",
    "#fsName = [\"r\", \"absImagEigValMaxMean\", \"tQ\", \"tC\", \"tL\", \"wU\"]\n",
    "Ys = np.concatenate([np.ones(len(fsAD)), np.zeros(len(fsCtrl))])\n",
    "XsAD = []\n",
    "XsCtrl = []\n",
    "for fName in fsName:\n",
    "    if isinstance(fsAD[0][fName], numbers.Number):\n",
    "        cfAD = np.array([fs[fName] for fs in fsAD]).reshape(-1, 1)\n",
    "        cfCtrl = np.array([fs[fName] for fs in fsCtrl]).reshape(-1, 1)\n",
    "    else:\n",
    "        cfAD = np.array([fs[fName] for fs in fsAD])\n",
    "        cfCtrl = np.array([fs[fName] for fs in fsCtrl])\n",
    "    \n",
    "    XsAD.append(cfAD)\n",
    "    XsCtrl.append(cfCtrl)\n",
    "XsAD = np.concatenate(XsAD, axis=1)\n",
    "XsCtrl = np.concatenate(XsCtrl, axis=1)\n",
    "Xs = np.concatenate([XsAD, XsCtrl], axis=0)\n",
    "stdXs = (Xs - Xs.mean(axis=0))/Xs.std(axis=0)\n",
    "\n",
    "\n",
    "select_fs_idx = np.array([ 0,  4, 14, 20, 24, 34, 41, 43, 48, 52, 59, 62, 64, 69])\n",
    "# select fs\n",
    "stdXs_selected = stdXs[:, select_fs_idx]\n",
    "stdXs_selected.shape\n",
    "\n",
    "gOptC2 = 0.1\n",
    "\n",
    "get_ABIC(stdXs_selected, Ys, gOptC2)"
   ]
  },
  {
   "cell_type": "code",
   "execution_count": null,
   "metadata": {},
   "outputs": [],
   "source": []
  },
  {
   "cell_type": "markdown",
   "metadata": {},
   "source": [
    "### Dynamic DMD"
   ]
  },
  {
   "cell_type": "code",
   "execution_count": 17,
   "metadata": {
    "ExecuteTime": {
     "end_time": "2023-06-29T21:38:07.541739Z",
     "start_time": "2023-06-29T21:38:07.494129Z"
    }
   },
   "outputs": [
    {
     "data": {
      "text/plain": [
       "['tmC', 'tmL', 'tQ', 'C', 'L', 'Q']"
      ]
     },
     "execution_count": 17,
     "metadata": {},
     "output_type": "execute_result"
    }
   ],
   "source": [
    "filName = f\"AD_data_dynDMD_withgraph.pkl\"\n",
    "with open(resDir/filName, \"rb\") as f:\n",
    "    fsAD = pickle.load(f)\n",
    "    \n",
    "filName = f\"Ctrl_data_dynDMD_withgraph.pkl\"\n",
    "with open(resDir/filName, \"rb\") as f:\n",
    "    fsCtrl = pickle.load(f)\n",
    "    \n",
    "# for abs imag max eig\n",
    "filName = f\"AD_data_dynDMD.pkl\"\n",
    "with open(resDir/filName, \"rb\") as f:\n",
    "    fsAD_add = pickle.load(f)\n",
    "    \n",
    "filName = f\"Ctrl_data_dynDMD.pkl\"\n",
    "with open(resDir/filName, \"rb\") as f:\n",
    "    fsCtrl_add = pickle.load(f)\n",
    "    \n",
    "map_dict = [\"tmC\", \"tmL\", \"tQ\", \"C\", \"L\", \"Q\"]"
   ]
  },
  {
   "cell_type": "code",
   "execution_count": 18,
   "metadata": {
    "ExecuteTime": {
     "end_time": "2023-06-29T21:38:07.861869Z",
     "start_time": "2023-06-29T21:38:07.829823Z"
    }
   },
   "outputs": [],
   "source": [
    "fs_TVDMD = fsAD\n",
    "fs_TVDMD_add = fsAD_add\n",
    "\n",
    "fsAll = []\n",
    "for ix in range(len(fs_TVDMD)):\n",
    "    raw_fs = edict(fs_TVDMD[ix])\n",
    "    add_fs = edict(fs_TVDMD_add[ix])\n",
    "    fs = edict()\n",
    "    \n",
    "    fs.r = raw_fs.r\n",
    "    fs.ncpts = raw_fs.ncpts\n",
    "    fs.absEigValMean = raw_fs.absEigValMean\n",
    "    fs.wUmeanAll = raw_fs.wUmeanAll\n",
    "    fs.absImagEigValMaxMean = add_fs.absImagEigValMaxMean\n",
    "    \n",
    "    fs.var_C = np.var([metrics[map_dict.index(\"tmC\")] for metrics in raw_fs.graph_metrics])\n",
    "    fs.var_L = np.var([metrics[map_dict.index(\"tmL\")] for metrics in raw_fs.graph_metrics])\n",
    "    fs.var_Q = np.var([metrics[map_dict.index(\"tQ\")] for metrics in raw_fs.graph_metrics])\n",
    "    \n",
    "    fs.mean_C = np.mean([metrics[map_dict.index(\"tmC\")] for metrics in raw_fs.graph_metrics])\n",
    "    fs.mean_L = np.mean([metrics[map_dict.index(\"tmL\")] for metrics in raw_fs.graph_metrics])\n",
    "    fs.mean_Q = np.mean([metrics[map_dict.index(\"tQ\")] for metrics in raw_fs.graph_metrics])\n",
    "    \n",
    "    dwell = np.diff(np.concatenate([[0], raw_fs.ecpts, [7200]])/freq)\n",
    "    max_dwell_idx = np.argsort(-dwell)[0]\n",
    "    fs.top1_C = raw_fs.graph_metrics[max_dwell_idx][map_dict.index(\"tmC\")]\n",
    "    fs.top1_L = raw_fs.graph_metrics[max_dwell_idx][map_dict.index(\"tmL\")]\n",
    "    fs.top1_Q = raw_fs.graph_metrics[max_dwell_idx][map_dict.index(\"tQ\")]\n",
    "    fs.max_dwell = np.max(dwell)\n",
    "    \n",
    "    \n",
    "    fsAll.append(fs)\n",
    "    \n",
    "fsAD_trans = fsAll;"
   ]
  },
  {
   "cell_type": "code",
   "execution_count": 19,
   "metadata": {
    "ExecuteTime": {
     "end_time": "2023-06-29T21:38:08.229785Z",
     "start_time": "2023-06-29T21:38:08.198834Z"
    }
   },
   "outputs": [],
   "source": [
    "fs_TVDMD = fsCtrl\n",
    "fs_TVDMD_add = fsCtrl_add\n",
    "\n",
    "fsAll = []\n",
    "for ix in range(len(fs_TVDMD)):\n",
    "    raw_fs = edict(fs_TVDMD[ix])\n",
    "    add_fs = edict(fs_TVDMD_add[ix])\n",
    "    fs = edict()\n",
    "    \n",
    "    fs.r = raw_fs.r\n",
    "    fs.ncpts = raw_fs.ncpts\n",
    "    fs.absEigValMean = raw_fs.absEigValMean\n",
    "    fs.wUmeanAll = raw_fs.wUmeanAll\n",
    "    fs.absImagEigValMaxMean = add_fs.absImagEigValMaxMean\n",
    "    \n",
    "    fs.var_C = np.var([metrics[map_dict.index(\"tmC\")] for metrics in raw_fs.graph_metrics])\n",
    "    fs.var_L = np.var([metrics[map_dict.index(\"tmL\")] for metrics in raw_fs.graph_metrics])\n",
    "    fs.var_Q = np.var([metrics[map_dict.index(\"tQ\")] for metrics in raw_fs.graph_metrics])\n",
    "    \n",
    "    fs.mean_C = np.mean([metrics[map_dict.index(\"tmC\")] for metrics in raw_fs.graph_metrics])\n",
    "    fs.mean_L = np.mean([metrics[map_dict.index(\"tmL\")] for metrics in raw_fs.graph_metrics])\n",
    "    fs.mean_Q = np.mean([metrics[map_dict.index(\"tQ\")] for metrics in raw_fs.graph_metrics])\n",
    "    \n",
    "    dwell = np.diff(np.concatenate([[0], raw_fs.ecpts, [7200]])/freq)\n",
    "    max_dwell_idx = np.argsort(-dwell)[0]\n",
    "    fs.top1_C = raw_fs.graph_metrics[max_dwell_idx][map_dict.index(\"tmC\")]\n",
    "    fs.top1_L = raw_fs.graph_metrics[max_dwell_idx][map_dict.index(\"tmL\")]\n",
    "    fs.top1_Q = raw_fs.graph_metrics[max_dwell_idx][map_dict.index(\"tQ\")]\n",
    "    fs.max_dwell = np.max(dwell)\n",
    "    \n",
    "    \n",
    "    fsAll.append(fs)\n",
    "    \n",
    "fsCtrl_trans = fsAll;"
   ]
  },
  {
   "cell_type": "code",
   "execution_count": 20,
   "metadata": {
    "ExecuteTime": {
     "end_time": "2023-06-29T21:38:08.737018Z",
     "start_time": "2023-06-29T21:38:08.640052Z"
    }
   },
   "outputs": [
    {
     "data": {
      "text/plain": [
       "(239.2570721376727, 239.8732254944296)"
      ]
     },
     "execution_count": 20,
     "metadata": {},
     "output_type": "execute_result"
    }
   ],
   "source": [
    "penalty = \"l2\"\n",
    "Ys = np.concatenate([np.ones(len(fsAD_trans)), np.zeros(len(fsCtrl_trans))])\n",
    "fsName = [\"r\", \"ncpts\",\n",
    "          \"mean_Q\", \"mean_L\", \n",
    "          \"var_Q\",  \"var_L\",  \n",
    "          \"wUmeanAll\" ]\n",
    "XsAD = []\n",
    "XsCtrl = []\n",
    "for fName in fsName:\n",
    "    if isinstance(fsAD_trans[0][fName], numbers.Number):\n",
    "        cfAD = np.array([fs[fName] for fs in fsAD_trans]).reshape(-1, 1)\n",
    "        cfCtrl = np.array([fs[fName] for fs in fsCtrl_trans]).reshape(-1, 1)\n",
    "    else:\n",
    "        cfAD = np.array([fs[fName] for fs in fsAD_trans])\n",
    "        cfCtrl = np.array([fs[fName] for fs in fsCtrl_trans])\n",
    "    \n",
    "    XsAD.append(cfAD)\n",
    "    XsCtrl.append(cfCtrl)\n",
    "XsAD = np.concatenate(XsAD, axis=1)\n",
    "XsCtrl = np.concatenate(XsCtrl, axis=1)\n",
    "Xs = np.concatenate([XsAD, XsCtrl], axis=0)\n",
    "stdXs = (Xs - Xs.mean(axis=0))/Xs.std(axis=0)\n",
    "\n",
    "select_fs_idx = np.array([0,  1,  4,  5,  9, 19, 27, 38, 45, 46, 48, 53, 54, 57, 61, 62, 64])\n",
    "gOptC2 = 0.0005\n",
    "\n",
    "stdXs_selected = stdXs[:, select_fs_idx]\n",
    "\n",
    "get_ABIC(stdXs_selected, Ys, gOptC2)"
   ]
  },
  {
   "cell_type": "code",
   "execution_count": null,
   "metadata": {},
   "outputs": [],
   "source": []
  }
 ],
 "metadata": {
  "kernelspec": {
   "display_name": "Python 3 (ipykernel)",
   "language": "python",
   "name": "python3"
  },
  "language_info": {
   "codemirror_mode": {
    "name": "ipython",
    "version": 3
   },
   "file_extension": ".py",
   "mimetype": "text/x-python",
   "name": "python",
   "nbconvert_exporter": "python",
   "pygments_lexer": "ipython3",
   "version": "3.9.7"
  },
  "toc": {
   "base_numbering": 1,
   "nav_menu": {},
   "number_sections": true,
   "sideBar": true,
   "skip_h1_title": false,
   "title_cell": "Table of Contents",
   "title_sidebar": "Contents",
   "toc_cell": false,
   "toc_position": {},
   "toc_section_display": true,
   "toc_window_display": true
  }
 },
 "nbformat": 4,
 "nbformat_minor": 2
}
