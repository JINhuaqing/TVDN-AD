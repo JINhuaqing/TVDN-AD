{
 "cells": [
  {
   "cell_type": "markdown",
   "metadata": {},
   "source": [
    "This file is to select the MEG data for our paper when considering age and gender balance\n",
    "\n",
    "Note that I only filter the datasets from Control group"
   ]
  },
  {
   "cell_type": "code",
   "execution_count": 13,
   "metadata": {
    "ExecuteTime": {
     "end_time": "2023-07-07T16:41:14.034551Z",
     "start_time": "2023-07-07T16:41:13.889152Z"
    }
   },
   "outputs": [],
   "source": [
    "import pandas as pd\n",
    "import seaborn as sns\n",
    "import numpy as np \n",
    "from scipy.stats import chi2_contingency\n",
    "import scipy\n",
    "import os\n",
    "import matplotlib.pyplot as plt"
   ]
  },
  {
   "cell_type": "code",
   "execution_count": 2,
   "metadata": {
    "ExecuteTime": {
     "end_time": "2023-07-07T16:35:39.683404Z",
     "start_time": "2023-07-07T16:35:39.088042Z"
    }
   },
   "outputs": [],
   "source": [
    "# the baseline data for the current dataset\n",
    "os.chdir(\"/home/hujin/jin/MyResearch/TVDN-AD\")\n",
    "biomarker = pd.read_excel(\"./OtherFils/biomarker_AD.xlsx\")\n",
    "all_data = pd.read_excel(\"./OtherFils/AllDataBaselineOrdered_r_ncpt_more.xls\");\n",
    "data_instudy = all_data[all_data[\"KeepIt\"]==1];\n",
    "data_instudy_AD = data_instudy[data_instudy[\"Grp\"]==\"AD\"]\n",
    "data_instudy_Ctrl = data_instudy[data_instudy[\"Grp\"]==\"Ctrl\"];"
   ]
  },
  {
   "cell_type": "markdown",
   "metadata": {},
   "source": [
    "# Education"
   ]
  },
  {
   "cell_type": "code",
   "execution_count": 186,
   "metadata": {
    "ExecuteTime": {
     "end_time": "2023-07-07T20:32:46.773548Z",
     "start_time": "2023-07-07T20:32:46.765905Z"
    }
   },
   "outputs": [
    {
     "name": "stdout",
     "output_type": "stream",
     "text": [
      "16.325581395348838 17.384615384615383 2.5171128739329474 1.9350397148960155\n",
      "0.022727272727272728 0.26136363636363635\n"
     ]
    },
    {
     "data": {
      "text/plain": [
       "(2, 23)"
      ]
     },
     "execution_count": 186,
     "metadata": {},
     "output_type": "execute_result"
    }
   ],
   "source": [
    "key = \"Education\" # MEG_Age, Gender\n",
    "v_AD = np.array(data_instudy_AD[key])\n",
    "v_Ctrl = np.array(data_instudy_Ctrl[key]);\n",
    "v_AD1, v_Ctrl1 = v_AD[~np.isnan(v_AD)],  v_Ctrl[~np.isnan(v_Ctrl)]\n",
    "#ttest = scipy.stats.ttest_ind(v_AD1, v_Ctrl1, equal_var=False)\n",
    "#pval = ttest.pvalue\n",
    "\n",
    "print(v_AD1.mean(), v_Ctrl1.mean(), v_AD1.std(), v_Ctrl1.std())\n",
    "print(np.isnan(v_AD).mean(), np.isnan(v_Ctrl).mean())\n",
    "np.isnan(v_AD).sum(), np.isnan(v_Ctrl).sum()#, pval"
   ]
  },
  {
   "cell_type": "code",
   "execution_count": 191,
   "metadata": {
    "ExecuteTime": {
     "end_time": "2023-07-07T20:36:10.416868Z",
     "start_time": "2023-07-07T20:36:10.392685Z"
    }
   },
   "outputs": [
    {
     "data": {
      "text/plain": [
       "array([12., 14., 12., 14., 14., 14., 14., 12., 14., 11., 14., 12., 14.,\n",
       "       14., 14., 13., 13., 15., 12., 12., 14., 14., 15., 12., 14.])"
      ]
     },
     "execution_count": 191,
     "metadata": {},
     "output_type": "execute_result"
    }
   ],
   "source": [
    "v_AD1[v_AD1_cate==0]"
   ]
  },
  {
   "cell_type": "code",
   "execution_count": 192,
   "metadata": {
    "ExecuteTime": {
     "end_time": "2023-07-07T22:53:10.275003Z",
     "start_time": "2023-07-07T22:53:09.767167Z"
    }
   },
   "outputs": [
    {
     "data": {
      "text/plain": [
       "((7.526679630409111,\n",
       "  0.05687688633685281,\n",
       "  3,\n",
       "  array([[19.36423841, 27.33774834, 25.62913907, 13.66887417],\n",
       "         [14.63576159, 20.66225166, 19.37086093, 10.33112583]])),\n",
       " array([[25, 29, 22, 10],\n",
       "        [ 9, 19, 23, 14]]))"
      ]
     },
     "execution_count": 192,
     "metadata": {},
     "output_type": "execute_result"
    }
   ],
   "source": [
    "def _get_cts(vec):\n",
    "    vs, cts = np.unique(vec, return_counts=1)\n",
    "    idxs = np.argsort(vs)\n",
    "    return cts[idxs]\n",
    "cate_bins = [16, 18, 20]\n",
    "v_AD1_cate = np.digitize(v_AD1, bins=cate_bins)\n",
    "v_Ctrl1_cate = np.digitize(v_Ctrl1, bins=cate_bins)\n",
    "tb = np.stack([_get_cts(v_AD1_cate), _get_cts(v_Ctrl1_cate)])\n",
    "scipy.stats.chi2_contingency(tb, correction=True), tb"
   ]
  },
  {
   "cell_type": "code",
   "execution_count": 202,
   "metadata": {
    "ExecuteTime": {
     "end_time": "2023-07-07T23:02:12.419051Z",
     "start_time": "2023-07-07T23:02:12.413989Z"
    }
   },
   "outputs": [
    {
     "data": {
      "text/plain": [
       "array([[28., 33., 25., 11.,  2.],\n",
       "       [10., 22., 26., 16., 26.]])"
      ]
     },
     "execution_count": 202,
     "metadata": {},
     "output_type": "execute_result"
    }
   ],
   "source": [
    "tbf = np.concatenate([tb, np.array([2, 23]).reshape(2, 1)], axis=1)\n",
    "np.round(100*tbf/tbf.sum(axis=1, keepdims=1), 0)"
   ]
  },
  {
   "cell_type": "code",
   "execution_count": 184,
   "metadata": {
    "ExecuteTime": {
     "end_time": "2023-07-07T20:32:13.311617Z",
     "start_time": "2023-07-07T20:32:13.193435Z"
    }
   },
   "outputs": [
    {
     "data": {
      "text/plain": [
       "<matplotlib.legend.Legend at 0x7fc13cea34c0>"
      ]
     },
     "execution_count": 184,
     "metadata": {},
     "output_type": "execute_result"
    },
    {
     "data": {
      "image/png": "[encoded data removed]",
      "text/plain": [
       "<Figure size 432x288 with 1 Axes>"
      ]
     },
     "metadata": {
      "needs_background": "light"
     },
     "output_type": "display_data"
    }
   ],
   "source": [
    "plt.plot(np.sort(v_AD1), \".b\", label=\"AD\")\n",
    "plt.plot(np.sort(v_Ctrl1), \".r\", label=\"Ctrl\")\n",
    "plt.legend()"
   ]
  },
  {
   "cell_type": "code",
   "execution_count": null,
   "metadata": {},
   "outputs": [],
   "source": []
  },
  {
   "cell_type": "markdown",
   "metadata": {},
   "source": [
    "# Biomarker"
   ]
  },
  {
   "cell_type": "code",
   "execution_count": 12,
   "metadata": {
    "ExecuteTime": {
     "end_time": "2023-06-30T19:24:21.993868Z",
     "start_time": "2023-06-30T19:24:21.988986Z"
    }
   },
   "outputs": [
    {
     "data": {
      "text/plain": [
       "array([1, 1, 1, 1, 1, 1, 1, 1, 1, 1, 1, 1, 1, 1, 1, 1, 1, 1, 1, 1, 1, 1,\n",
       "       1, 1, 1, 1, 1, 1, 1, 1, 1, 1, 1, 1, 1, 1, 1, 1, 1, 1, 1, 1, 1, 1,\n",
       "       1, 1, 1, 1, 1, 1, 1, 1, 1, 1, 1, 1, 1, 1, 1, 1, 1, 1, 1, 1, 1,\n",
       "       'Autopsy', 'Autopsy', 'Autopsy', 'Autopsy', 'Autopsy', 'Autopsy',\n",
       "       'CSF', 'CSF', 'CSF', 'CSF', 'CSF', 'CSF', 'CSF', 'CSF', 'CSF',\n",
       "       'CSF'], dtype=object)"
      ]
     },
     "execution_count": 12,
     "metadata": {},
     "output_type": "execute_result"
    }
   ],
   "source": [
    "np.array(biomarker[\"AB-SCAN\"])"
   ]
  },
  {
   "cell_type": "code",
   "execution_count": 39,
   "metadata": {
    "ExecuteTime": {
     "end_time": "2023-06-30T19:36:33.228249Z",
     "start_time": "2023-06-30T19:36:33.222230Z"
    }
   },
   "outputs": [
    {
     "data": {
      "text/plain": [
       "defaultdict(int, {1: 63, 'Autopsy': 6, 'CSF': 8})"
      ]
     },
     "execution_count": 39,
     "metadata": {},
     "output_type": "execute_result"
    }
   ],
   "source": [
    "from collections import defaultdict as ddict\n",
    "vs = ddict(int)\n",
    "for rid, v in zip(biomarker[\"RADID\"], biomarker[\"AB-SCAN\"]):\n",
    "    if rid in np.array(data_instudy_AD[\"RID\"]):\n",
    "        vs[v] += 1\n",
    "vs"
   ]
  },
  {
   "cell_type": "code",
   "execution_count": null,
   "metadata": {},
   "outputs": [],
   "source": []
  },
  {
   "cell_type": "code",
   "execution_count": 49,
   "metadata": {
    "ExecuteTime": {
     "end_time": "2023-07-02T05:18:37.942886Z",
     "start_time": "2023-07-02T05:18:37.915974Z"
    }
   },
   "outputs": [
    {
     "data": {
      "text/plain": [
       "65"
      ]
     },
     "execution_count": 49,
     "metadata": {},
     "output_type": "execute_result"
    }
   ],
   "source": [
    "# a new messy version (on Jul 1, 2023)\n",
    "new_data = pd.read_excel(\"./OtherFils/AllDataBaselineOrdered_r_ncpt_permuate_PETSCAN.xls\");\n",
    "np.sum(np.array(new_data[new_data[\"Grp\"]==\"AD\"][\"PET Scan\"]) == \"Yes\")"
   ]
  },
  {
   "cell_type": "code",
   "execution_count": 50,
   "metadata": {
    "ExecuteTime": {
     "end_time": "2023-07-02T05:38:29.725619Z",
     "start_time": "2023-07-02T05:38:29.718572Z"
    }
   },
   "outputs": [
    {
     "data": {
      "text/plain": [
       "23"
      ]
     },
     "execution_count": 50,
     "metadata": {},
     "output_type": "execute_result"
    }
   ],
   "source": [
    "np.sum(np.array(new_data[new_data[\"Grp\"]==\"AD\"][\"PET Scan\"]) == \"No\")"
   ]
  },
  {
   "cell_type": "code",
   "execution_count": null,
   "metadata": {},
   "outputs": [],
   "source": []
  }
 ],
 "metadata": {
  "kernelspec": {
   "display_name": "Python 3 (ipykernel)",
   "language": "python",
   "name": "python3"
  },
  "language_info": {
   "codemirror_mode": {
    "name": "ipython",
    "version": 3
   },
   "file_extension": ".py",
   "mimetype": "text/x-python",
   "name": "python",
   "nbconvert_exporter": "python",
   "pygments_lexer": "ipython3",
   "version": "3.9.7"
  },
  "toc": {
   "base_numbering": 1,
   "nav_menu": {},
   "number_sections": true,
   "sideBar": true,
   "skip_h1_title": false,
   "title_cell": "Table of Contents",
   "title_sidebar": "Contents",
   "toc_cell": false,
   "toc_position": {},
   "toc_section_display": true,
   "toc_window_display": true
  }
 },
 "nbformat": 4,
 "nbformat_minor": 2
}
