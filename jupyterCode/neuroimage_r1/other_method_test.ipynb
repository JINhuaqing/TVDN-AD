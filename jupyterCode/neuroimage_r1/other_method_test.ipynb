{
 "cells": [
  {
   "cell_type": "markdown",
   "metadata": {},
   "source": [
    "Just to show the diff between graph metrics from other methods\n"
   ]
  },
  {
   "cell_type": "code",
   "execution_count": 1,
   "metadata": {
    "ExecuteTime": {
     "end_time": "2023-06-29T20:30:38.689843Z",
     "start_time": "2023-06-29T20:30:38.673909Z"
    }
   },
   "outputs": [
    {
     "data": {
      "text/plain": [
       "PosixPath('../..')"
      ]
     },
     "execution_count": 1,
     "metadata": {},
     "output_type": "execute_result"
    }
   ],
   "source": [
    "import sys\n",
    "sys.path.append(\"../../\")\n",
    "from pathlib import Path\n",
    "root = Path(\"../../\")"
   ]
  },
  {
   "cell_type": "code",
   "execution_count": 15,
   "metadata": {
    "ExecuteTime": {
     "end_time": "2023-06-29T20:34:47.133092Z",
     "start_time": "2023-06-29T20:34:47.116098Z"
    }
   },
   "outputs": [],
   "source": [
    "import importlib\n",
    "\n",
    "import pyTVDN.utils\n",
    "importlib.reload(pyTVDN.utils)\n",
    "from pyTVDN.utils import load_pkl, save_pkl\n",
    "\n",
    "from pathlib import Path\n",
    "import numpy as np\n",
    "from easydict import EasyDict as edict\n",
    "import matplotlib.pyplot as plt\n",
    "from scipy import signal\n",
    "from scipy.stats import fisher_exact, norm, ttest_ind\n",
    "import pickle\n",
    "import seaborn as sns\n",
    "from tqdm import tqdm\n",
    "import numbers\n",
    "import pandas as pd\n",
    "%matplotlib inline"
   ]
  },
  {
   "cell_type": "markdown",
   "metadata": {},
   "source": [
    "### Load data"
   ]
  },
  {
   "cell_type": "code",
   "execution_count": 16,
   "metadata": {
    "ExecuteTime": {
     "end_time": "2023-06-29T20:34:48.098025Z",
     "start_time": "2023-06-29T20:34:48.093885Z"
    }
   },
   "outputs": [
    {
     "data": {
      "text/plain": [
       "PosixPath('../../data')"
      ]
     },
     "execution_count": 16,
     "metadata": {},
     "output_type": "execute_result"
    }
   ],
   "source": [
    "resDir = root/\"results\"\n",
    "dataDir = root/\"data\""
   ]
  },
  {
   "cell_type": "code",
   "execution_count": 7,
   "metadata": {
    "ExecuteTime": {
     "end_time": "2023-06-29T20:31:51.735299Z",
     "start_time": "2023-06-29T20:31:51.731167Z"
    }
   },
   "outputs": [],
   "source": [
    "def wUFn(Amat):\n",
    "    eigVals, eigVecs = np.linalg.eig(Amat)\n",
    "    r = np.sum(np.cumsum(np.abs(eigVals))/np.sum(np.abs(eigVals)) <= 0.8) + 1\n",
    "    if (eigVals[r-1].imag + eigVals[r].imag ) == 0:\n",
    "        r = r + 1\n",
    "    wU = np.abs(np.matmul(eigVecs[:, :r], eigVals[:r]))\n",
    "    return wU, r, eigVals[:r]"
   ]
  },
  {
   "cell_type": "markdown",
   "metadata": {},
   "source": [
    "### DMD"
   ]
  },
  {
   "cell_type": "code",
   "execution_count": 36,
   "metadata": {
    "ExecuteTime": {
     "end_time": "2023-06-29T20:50:12.866320Z",
     "start_time": "2023-06-29T20:50:12.835697Z"
    }
   },
   "outputs": [],
   "source": [
    "filName = f\"Ctrl_data_NWM_DMD.pkl\"\n",
    "with open(resDir/filName, \"rb\") as f:\n",
    "    CtrlDMD = pickle.load(f)\n",
    "filName = f\"AD_data_NWM_DMD.pkl\"\n",
    "with open(resDir/filName, \"rb\") as f:\n",
    "    ADDMD = pickle.load(f)"
   ]
  },
  {
   "cell_type": "code",
   "execution_count": 37,
   "metadata": {
    "ExecuteTime": {
     "end_time": "2023-06-29T20:50:13.316715Z",
     "start_time": "2023-06-29T20:50:13.191194Z"
    }
   },
   "outputs": [],
   "source": [
    "fsAll = []\n",
    "for v in ADDMD:\n",
    "    fs = edict()\n",
    "    fs.tC = v[\"ms\"][0]\n",
    "    fs.tL = v[\"ms\"][1]\n",
    "    fs.tQ = v[\"ms\"][2]\n",
    "    fs.C = v[\"ms\"][3]\n",
    "    fs.L = v[\"ms\"][4]\n",
    "    fs.Q = v[\"ms\"][5]\n",
    "    fs.wU, fs.r, eigVal = wUFn(v[\"Amat\"])\n",
    "    fs.absEigValMean = np.abs(eigVal).mean()\n",
    "    fs.absImagEigValMaxMean = np.abs(eigVal.imag).max()\n",
    "    fsAll.append(fs)\n",
    "fsAD = fsAll;"
   ]
  },
  {
   "cell_type": "code",
   "execution_count": 38,
   "metadata": {
    "ExecuteTime": {
     "end_time": "2023-06-29T20:50:13.644434Z",
     "start_time": "2023-06-29T20:50:13.519489Z"
    }
   },
   "outputs": [],
   "source": [
    "fsAll = []\n",
    "for v in CtrlDMD:\n",
    "    fs = edict()\n",
    "    fs.tC = v[\"ms\"][0]\n",
    "    fs.tL = v[\"ms\"][1]\n",
    "    fs.tQ = v[\"ms\"][2]\n",
    "    fs.C = v[\"ms\"][3]\n",
    "    fs.L = v[\"ms\"][4]\n",
    "    fs.Q = v[\"ms\"][5]\n",
    "    fs.wU, fs.r, eigVal = wUFn(v[\"Amat\"])\n",
    "    fs.absEigValMean = np.abs(eigVal).mean()\n",
    "    fs.absImagEigValMaxMean = np.abs(eigVal.imag).max()\n",
    "    fsAll.append(fs)\n",
    "fsCtrl = fsAll;"
   ]
  },
  {
   "cell_type": "code",
   "execution_count": 39,
   "metadata": {
    "ExecuteTime": {
     "end_time": "2023-06-29T20:50:13.935008Z",
     "start_time": "2023-06-29T20:50:13.928320Z"
    }
   },
   "outputs": [],
   "source": [
    "fsName = [\"r\", \"tQ\", \"tL\", \"wU\"]\n",
    "\n",
    "Ys = np.concatenate([np.ones(len(fsAD)), np.zeros(len(fsCtrl))])\n",
    "XsAD = []\n",
    "XsCtrl = []\n",
    "for fName in fsName:\n",
    "    if isinstance(fsAD[0][fName], numbers.Number):\n",
    "        cfAD = np.array([fs[fName] for fs in fsAD]).reshape(-1, 1)\n",
    "        cfCtrl = np.array([fs[fName] for fs in fsCtrl]).reshape(-1, 1)\n",
    "    else:\n",
    "        cfAD = np.array([fs[fName] for fs in fsAD])\n",
    "        cfCtrl = np.array([fs[fName] for fs in fsCtrl])\n",
    "    \n",
    "    XsAD.append(cfAD)\n",
    "    XsCtrl.append(cfCtrl)\n",
    "XsAD = np.concatenate(XsAD, axis=1)\n",
    "XsCtrl = np.concatenate(XsCtrl, axis=1);"
   ]
  },
  {
   "cell_type": "code",
   "execution_count": 40,
   "metadata": {
    "ExecuteTime": {
     "end_time": "2023-06-29T20:50:14.523959Z",
     "start_time": "2023-06-29T20:50:14.518268Z"
    }
   },
   "outputs": [
    {
     "name": "stdout",
     "output_type": "stream",
     "text": [
      "r: 1.807 0.000\n",
      "tQ: -0.176 0.002\n",
      "tL: -0.004 0.479\n"
     ]
    }
   ],
   "source": [
    "for ix, nam in enumerate(fsName[:-1]):\n",
    "    vec_AD = XsAD[:, ix]\n",
    "    vec_Ctrl = XsCtrl[:, ix]\n",
    "    pval = ttest_ind(vec_AD, vec_Ctrl).pvalue\n",
    "    print(\n",
    "        f\"{nam}: {np.mean(vec_AD)-np.mean(vec_Ctrl):.3f} \"\n",
    "        f\"{pval:.3f}\"\n",
    "         )"
   ]
  },
  {
   "cell_type": "code",
   "execution_count": null,
   "metadata": {},
   "outputs": [],
   "source": []
  },
  {
   "cell_type": "markdown",
   "metadata": {},
   "source": [
    "### ND(TV)"
   ]
  },
  {
   "cell_type": "code",
   "execution_count": 41,
   "metadata": {
    "ExecuteTime": {
     "end_time": "2023-06-29T20:51:07.882499Z",
     "start_time": "2023-06-29T20:51:07.857850Z"
    }
   },
   "outputs": [],
   "source": [
    "filName = f\"Ctrl_data_NWM_TV.pkl\"\n",
    "with open(resDir/filName, \"rb\") as f:\n",
    "    CtrlTV = pickle.load(f)\n",
    "filName = f\"AD_data_NWM_TV.pkl\"\n",
    "with open(resDir/filName, \"rb\") as f:\n",
    "    ADTV = pickle.load(f)"
   ]
  },
  {
   "cell_type": "code",
   "execution_count": 42,
   "metadata": {
    "ExecuteTime": {
     "end_time": "2023-06-29T20:51:08.394261Z",
     "start_time": "2023-06-29T20:51:08.267749Z"
    }
   },
   "outputs": [],
   "source": [
    "fsAll = []\n",
    "for v in ADTV:\n",
    "    fs = edict()\n",
    "    fs.tC = v[\"ms\"][0]\n",
    "    fs.tL = v[\"ms\"][1]\n",
    "    fs.tQ = v[\"ms\"][2]\n",
    "    fs.C = v[\"ms\"][3]\n",
    "    fs.L = v[\"ms\"][4]\n",
    "    fs.Q = v[\"ms\"][5]\n",
    "    fs.wU, fs.r, eigVal = wUFn(v[\"Amat\"])\n",
    "    fs.absEigValMean = np.abs(eigVal).mean()\n",
    "    fs.absImagEigValMaxMean = np.abs(eigVal.imag).max()\n",
    "    fsAll.append(fs)\n",
    "fsAD = fsAll;"
   ]
  },
  {
   "cell_type": "code",
   "execution_count": 43,
   "metadata": {
    "ExecuteTime": {
     "end_time": "2023-06-29T20:51:08.958398Z",
     "start_time": "2023-06-29T20:51:08.828706Z"
    }
   },
   "outputs": [],
   "source": [
    "fsAll = []\n",
    "for v in CtrlTV:\n",
    "    fs = edict()\n",
    "    fs.tC = v[\"ms\"][0]\n",
    "    fs.tL = v[\"ms\"][1]\n",
    "    fs.tQ = v[\"ms\"][2]\n",
    "    fs.C = v[\"ms\"][3]\n",
    "    fs.L = v[\"ms\"][4]\n",
    "    fs.Q = v[\"ms\"][5]\n",
    "    fs.wU, fs.r, eigVal = wUFn(v[\"Amat\"])\n",
    "    fs.absEigValMean = np.abs(eigVal).mean()\n",
    "    fs.absImagEigValMaxMean = np.abs(eigVal.imag).max()\n",
    "    fsAll.append(fs)\n",
    "fsCtrl = fsAll;"
   ]
  },
  {
   "cell_type": "code",
   "execution_count": 44,
   "metadata": {
    "ExecuteTime": {
     "end_time": "2023-06-29T20:51:09.408413Z",
     "start_time": "2023-06-29T20:51:09.400033Z"
    }
   },
   "outputs": [],
   "source": [
    "fsName = [\"r\", \"tQ\", \"tL\", \"wU\"]\n",
    "#fsName = [\"r\", \"tQ\", \"tC\", \"tL\", \"wU\"]\n",
    "#fsName = [\"r\", \"absImagEigValMaxMean\", \"tQ\", \"tC\", \"tL\", \"wU\"]\n",
    "Ys = np.concatenate([np.ones(len(fsAD)), np.zeros(len(fsCtrl))])\n",
    "XsAD = []\n",
    "XsCtrl = []\n",
    "for fName in fsName:\n",
    "    if isinstance(fsAD[0][fName], numbers.Number):\n",
    "        cfAD = np.array([fs[fName] for fs in fsAD]).reshape(-1, 1)\n",
    "        cfCtrl = np.array([fs[fName] for fs in fsCtrl]).reshape(-1, 1)\n",
    "    else:\n",
    "        cfAD = np.array([fs[fName] for fs in fsAD])\n",
    "        cfCtrl = np.array([fs[fName] for fs in fsCtrl])\n",
    "    \n",
    "    XsAD.append(cfAD)\n",
    "    XsCtrl.append(cfCtrl)\n",
    "XsAD = np.concatenate(XsAD, axis=1)\n",
    "XsCtrl = np.concatenate(XsCtrl, axis=1)\n",
    "Xs = np.concatenate([XsAD, XsCtrl], axis=0);"
   ]
  },
  {
   "cell_type": "code",
   "execution_count": 45,
   "metadata": {
    "ExecuteTime": {
     "end_time": "2023-06-29T20:51:17.161132Z",
     "start_time": "2023-06-29T20:51:17.153788Z"
    }
   },
   "outputs": [
    {
     "name": "stdout",
     "output_type": "stream",
     "text": [
      "r: 1.182 0.000\n",
      "tQ: 0.022 0.821\n",
      "tL: -0.021 0.437\n"
     ]
    }
   ],
   "source": [
    "for ix, nam in enumerate(fsName[:-1]):\n",
    "    vec_AD = XsAD[:, ix]\n",
    "    vec_Ctrl = XsCtrl[:, ix]\n",
    "    pval = ttest_ind(vec_AD, vec_Ctrl).pvalue\n",
    "    print(\n",
    "        f\"{nam}: {np.mean(vec_AD)-np.mean(vec_Ctrl):.3f} \"\n",
    "        f\"{pval:.3f}\"\n",
    "         )"
   ]
  },
  {
   "cell_type": "code",
   "execution_count": null,
   "metadata": {},
   "outputs": [],
   "source": []
  },
  {
   "cell_type": "markdown",
   "metadata": {},
   "source": [
    "### Dynamic DMD"
   ]
  },
  {
   "cell_type": "code",
   "execution_count": 46,
   "metadata": {
    "ExecuteTime": {
     "end_time": "2023-06-29T20:51:14.447514Z",
     "start_time": "2023-06-29T20:51:14.394700Z"
    }
   },
   "outputs": [
    {
     "data": {
      "text/plain": [
       "120"
      ]
     },
     "execution_count": 46,
     "metadata": {},
     "output_type": "execute_result"
    }
   ],
   "source": [
    "filName = f\"AD_data_dynDMD_withgraph.pkl\"\n",
    "with open(resDir/filName, \"rb\") as f:\n",
    "    fsAD = pickle.load(f)\n",
    "    \n",
    "filName = f\"Ctrl_data_dynDMD_withgraph.pkl\"\n",
    "with open(resDir/filName, \"rb\") as f:\n",
    "    fsCtrl = pickle.load(f)\n",
    "    \n",
    "# for abs imag max eig\n",
    "filName = f\"AD_data_dynDMD.pkl\"\n",
    "with open(resDir/filName, \"rb\") as f:\n",
    "    fsAD_add = pickle.load(f)\n",
    "    \n",
    "filName = f\"Ctrl_data_dynDMD.pkl\"\n",
    "with open(resDir/filName, \"rb\") as f:\n",
    "    fsCtrl_add = pickle.load(f)\n",
    "    \n",
    "map_dict = [\"tmC\", \"tmL\", \"tQ\", \"C\", \"L\", \"Q\"]\n",
    "freq = 120"
   ]
  },
  {
   "cell_type": "code",
   "execution_count": 47,
   "metadata": {
    "ExecuteTime": {
     "end_time": "2023-06-29T20:51:15.120569Z",
     "start_time": "2023-06-29T20:51:15.088921Z"
    }
   },
   "outputs": [],
   "source": [
    "fs_TVDMD = fsAD\n",
    "fs_TVDMD_add = fsAD_add\n",
    "\n",
    "fsAll = []\n",
    "for ix in range(len(fs_TVDMD)):\n",
    "    raw_fs = edict(fs_TVDMD[ix])\n",
    "    add_fs = edict(fs_TVDMD_add[ix])\n",
    "    fs = edict()\n",
    "    \n",
    "    fs.r = raw_fs.r\n",
    "    fs.ncpts = raw_fs.ncpts\n",
    "    fs.absEigValMean = raw_fs.absEigValMean\n",
    "    fs.wUmeanAll = raw_fs.wUmeanAll\n",
    "    fs.absImagEigValMaxMean = add_fs.absImagEigValMaxMean\n",
    "    \n",
    "    fs.var_C = np.var([metrics[map_dict.index(\"tmC\")] for metrics in raw_fs.graph_metrics])\n",
    "    fs.var_L = np.var([metrics[map_dict.index(\"tmL\")] for metrics in raw_fs.graph_metrics])\n",
    "    fs.var_Q = np.var([metrics[map_dict.index(\"tQ\")] for metrics in raw_fs.graph_metrics])\n",
    "    \n",
    "    fs.mean_C = np.mean([metrics[map_dict.index(\"tmC\")] for metrics in raw_fs.graph_metrics])\n",
    "    fs.mean_L = np.mean([metrics[map_dict.index(\"tmL\")] for metrics in raw_fs.graph_metrics])\n",
    "    fs.mean_Q = np.mean([metrics[map_dict.index(\"tQ\")] for metrics in raw_fs.graph_metrics])\n",
    "    \n",
    "    dwell = np.diff(np.concatenate([[0], raw_fs.ecpts, [7200]])/freq)\n",
    "    max_dwell_idx = np.argsort(-dwell)[0]\n",
    "    fs.top1_C = raw_fs.graph_metrics[max_dwell_idx][map_dict.index(\"tmC\")]\n",
    "    fs.top1_L = raw_fs.graph_metrics[max_dwell_idx][map_dict.index(\"tmL\")]\n",
    "    fs.top1_Q = raw_fs.graph_metrics[max_dwell_idx][map_dict.index(\"tQ\")]\n",
    "    fs.max_dwell = np.max(dwell)\n",
    "    \n",
    "    \n",
    "    fsAll.append(fs)\n",
    "    \n",
    "fsAD_trans = fsAll;"
   ]
  },
  {
   "cell_type": "code",
   "execution_count": 48,
   "metadata": {
    "ExecuteTime": {
     "end_time": "2023-06-29T20:51:15.865919Z",
     "start_time": "2023-06-29T20:51:15.834783Z"
    }
   },
   "outputs": [],
   "source": [
    "fs_TVDMD = fsCtrl\n",
    "fs_TVDMD_add = fsCtrl_add\n",
    "\n",
    "fsAll = []\n",
    "for ix in range(len(fs_TVDMD)):\n",
    "    raw_fs = edict(fs_TVDMD[ix])\n",
    "    add_fs = edict(fs_TVDMD_add[ix])\n",
    "    fs = edict()\n",
    "    \n",
    "    fs.r = raw_fs.r\n",
    "    fs.ncpts = raw_fs.ncpts\n",
    "    fs.absEigValMean = raw_fs.absEigValMean\n",
    "    fs.wUmeanAll = raw_fs.wUmeanAll\n",
    "    fs.absImagEigValMaxMean = add_fs.absImagEigValMaxMean\n",
    "    \n",
    "    fs.var_C = np.var([metrics[map_dict.index(\"tmC\")] for metrics in raw_fs.graph_metrics])\n",
    "    fs.var_L = np.var([metrics[map_dict.index(\"tmL\")] for metrics in raw_fs.graph_metrics])\n",
    "    fs.var_Q = np.var([metrics[map_dict.index(\"tQ\")] for metrics in raw_fs.graph_metrics])\n",
    "    \n",
    "    fs.mean_C = np.mean([metrics[map_dict.index(\"tmC\")] for metrics in raw_fs.graph_metrics])\n",
    "    fs.mean_L = np.mean([metrics[map_dict.index(\"tmL\")] for metrics in raw_fs.graph_metrics])\n",
    "    fs.mean_Q = np.mean([metrics[map_dict.index(\"tQ\")] for metrics in raw_fs.graph_metrics])\n",
    "    \n",
    "    dwell = np.diff(np.concatenate([[0], raw_fs.ecpts, [7200]])/freq)\n",
    "    max_dwell_idx = np.argsort(-dwell)[0]\n",
    "    fs.top1_C = raw_fs.graph_metrics[max_dwell_idx][map_dict.index(\"tmC\")]\n",
    "    fs.top1_L = raw_fs.graph_metrics[max_dwell_idx][map_dict.index(\"tmL\")]\n",
    "    fs.top1_Q = raw_fs.graph_metrics[max_dwell_idx][map_dict.index(\"tQ\")]\n",
    "    fs.max_dwell = np.max(dwell)\n",
    "    \n",
    "    \n",
    "    fsAll.append(fs)\n",
    "    \n",
    "fsCtrl_trans = fsAll;"
   ]
  },
  {
   "cell_type": "code",
   "execution_count": 49,
   "metadata": {
    "ExecuteTime": {
     "end_time": "2023-06-29T20:51:16.456503Z",
     "start_time": "2023-06-29T20:51:16.448543Z"
    }
   },
   "outputs": [],
   "source": [
    "penalty = \"l2\"\n",
    "Ys = np.concatenate([np.ones(len(fsAD_trans)), np.zeros(len(fsCtrl_trans))])\n",
    "fsName = [\"r\", \"ncpts\",\n",
    "          \"mean_Q\", \"mean_L\", \n",
    "          \"var_Q\",  \"var_L\",  \n",
    "          \"wUmeanAll\" ]\n",
    "XsAD = []\n",
    "XsCtrl = []\n",
    "for fName in fsName:\n",
    "    if isinstance(fsAD_trans[0][fName], numbers.Number):\n",
    "        cfAD = np.array([fs[fName] for fs in fsAD_trans]).reshape(-1, 1)\n",
    "        cfCtrl = np.array([fs[fName] for fs in fsCtrl_trans]).reshape(-1, 1)\n",
    "    else:\n",
    "        cfAD = np.array([fs[fName] for fs in fsAD_trans])\n",
    "        cfCtrl = np.array([fs[fName] for fs in fsCtrl_trans])\n",
    "    \n",
    "    XsAD.append(cfAD)\n",
    "    XsCtrl.append(cfCtrl)\n",
    "XsAD = np.concatenate(XsAD, axis=1)\n",
    "XsCtrl = np.concatenate(XsCtrl, axis=1);\n"
   ]
  },
  {
   "cell_type": "code",
   "execution_count": 50,
   "metadata": {
    "ExecuteTime": {
     "end_time": "2023-06-29T20:51:17.161132Z",
     "start_time": "2023-06-29T20:51:17.153788Z"
    }
   },
   "outputs": [
    {
     "name": "stdout",
     "output_type": "stream",
     "text": [
      "r: 0.523 0.005\n",
      "ncpts: 14.932 0.001\n",
      "mean_Q: -0.004 0.864\n",
      "mean_L: -0.023 0.099\n",
      "var_Q: 0.027 0.005\n",
      "var_L: 0.013 0.001\n"
     ]
    }
   ],
   "source": [
    "for ix, nam in enumerate(fsName[:-1]):\n",
    "    vec_AD = XsAD[:, ix]\n",
    "    vec_Ctrl = XsCtrl[:, ix]\n",
    "    pval = ttest_ind(vec_AD, vec_Ctrl).pvalue\n",
    "    print(\n",
    "        f\"{nam}: {np.mean(vec_AD)-np.mean(vec_Ctrl):.3f} \"\n",
    "        f\"{pval:.3f}\"\n",
    "         )"
   ]
  },
  {
   "cell_type": "code",
   "execution_count": null,
   "metadata": {},
   "outputs": [],
   "source": []
  }
 ],
 "metadata": {
  "kernelspec": {
   "display_name": "Python 3 (ipykernel)",
   "language": "python",
   "name": "python3"
  },
  "language_info": {
   "codemirror_mode": {
    "name": "ipython",
    "version": 3
   },
   "file_extension": ".py",
   "mimetype": "text/x-python",
   "name": "python",
   "nbconvert_exporter": "python",
   "pygments_lexer": "ipython3",
   "version": "3.9.7"
  },
  "toc": {
   "base_numbering": 1,
   "nav_menu": {},
   "number_sections": true,
   "sideBar": true,
   "skip_h1_title": false,
   "title_cell": "Table of Contents",
   "title_sidebar": "Contents",
   "toc_cell": false,
   "toc_position": {},
   "toc_section_display": true,
   "toc_window_display": true
  }
 },
 "nbformat": 4,
 "nbformat_minor": 2
}
