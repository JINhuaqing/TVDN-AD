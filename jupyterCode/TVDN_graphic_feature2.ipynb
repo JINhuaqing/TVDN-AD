{
 "cells": [
  {
   "cell_type": "markdown",
   "metadata": {},
   "source": [
    "In this file, I construct the FC with wU directly. Let wU=$(v_1, \\ldots, v_d)$, the $(i,j)$th value of FC is $$\\exp(-|v_i-v_j|)$$. \n",
    "\n",
    "\n",
    "(remove the diaginal term)"
   ]
  },
  {
   "cell_type": "code",
   "execution_count": 1,
   "metadata": {
    "ExecuteTime": {
     "end_time": "2022-10-10T17:07:30.766080Z",
     "start_time": "2022-10-10T17:07:30.763867Z"
    }
   },
   "outputs": [],
   "source": [
    "import sys\n",
    "sys.path.append(\"/home/huaqingj/MyResearch/TVDN-AD\")"
   ]
  },
  {
   "cell_type": "code",
   "execution_count": 2,
   "metadata": {
    "ExecuteTime": {
     "end_time": "2022-10-10T17:07:31.324015Z",
     "start_time": "2022-10-10T17:07:31.245312Z"
    }
   },
   "outputs": [],
   "source": [
    "import bct"
   ]
  },
  {
   "cell_type": "code",
   "execution_count": 3,
   "metadata": {
    "ExecuteTime": {
     "end_time": "2022-10-10T17:07:32.621057Z",
     "start_time": "2022-10-10T17:07:31.686277Z"
    }
   },
   "outputs": [],
   "source": [
    "from pyTVDN import TVDNDetect\n",
    "from pathlib import Path\n",
    "from scipy.io import loadmat\n",
    "import numpy as np\n",
    "from easydict import EasyDict as edict\n",
    "import matplotlib.pyplot as plt\n",
    "import os\n",
    "import scipy.stats as ss\n",
    "from scipy import signal\n",
    "from tqdm import tqdm, trange\n",
    "import pickle\n",
    "import seaborn as sns\n",
    "import numbers\n",
    "import scipy\n",
    "import pandas as pd\n",
    "%matplotlib inline"
   ]
  },
  {
   "cell_type": "code",
   "execution_count": 4,
   "metadata": {
    "ExecuteTime": {
     "end_time": "2022-10-10T17:07:33.643703Z",
     "start_time": "2022-10-10T17:07:33.641517Z"
    }
   },
   "outputs": [],
   "source": [
    "os.chdir(\"/home/huaqingj/MyResearch/TVDN-AD/\")\n",
    "resDir = Path(\"./results\")\n",
    "dataDir = Path(\"./data\")"
   ]
  },
  {
   "cell_type": "markdown",
   "metadata": {},
   "source": [
    "## Some fns"
   ]
  },
  {
   "cell_type": "code",
   "execution_count": 5,
   "metadata": {
    "ExecuteTime": {
     "end_time": "2022-10-10T17:07:33.740546Z",
     "start_time": "2022-10-10T17:07:33.644763Z"
    }
   },
   "outputs": [],
   "source": [
    "def minmax(x):\n",
    "    num = x - np.min(x)\n",
    "    den = np.max(x) - np.min(x)\n",
    "    return num/den"
   ]
  },
  {
   "cell_type": "code",
   "execution_count": 6,
   "metadata": {
    "ExecuteTime": {
     "end_time": "2022-10-10T17:07:33.903063Z",
     "start_time": "2022-10-10T17:07:33.896784Z"
    }
   },
   "outputs": [],
   "source": [
    "def obt_FC(U, ws):\n",
    "    \"\"\"get FC \n",
    "        exp(-|v_i - v_j|)\n",
    "        (remove the diaginal term)\n",
    "    \"\"\"\n",
    "    wUAll = np.abs(np.matmul(U, np.array(ws).T).real)\n",
    "    FCs = []\n",
    "    for wU in wUAll.T:\n",
    "        #FC = np.exp(-np.abs(wU.reshape(-1, 1) - wU.reshape(1, -1)))\n",
    "        FC = np.exp(-np.abs(wU.reshape(-1, 1) - wU.reshape(1, -1))/WU_STD)\n",
    "        FC = FC - np.diag(np.diag(FC))\n",
    "        #FC = np.arctanh(FC)\n",
    "        FCs.append(FC)\n",
    "    return FCs"
   ]
  },
  {
   "cell_type": "code",
   "execution_count": 7,
   "metadata": {
    "ExecuteTime": {
     "end_time": "2022-10-10T17:07:35.540728Z",
     "start_time": "2022-10-10T17:07:35.534884Z"
    }
   },
   "outputs": [],
   "source": [
    "def sysMatShuffle(mat):\n",
    "    mat = mat.copy()\n",
    "    trlMask1 = np.tril(np.ones_like(mat), k=-1)\n",
    "    eles = mat[trlMask1==1]\n",
    "    np.random.shuffle(eles)\n",
    "    sMat = np.zeros_like(mat)\n",
    "    sMat[trlMask1==1] = eles\n",
    "    diag_vs = np.diag(mat)\n",
    "    np.random.shuffle(diag_vs)\n",
    "    sMat = sMat + sMat.T + np.diag(diag_vs)\n",
    "    return sMat"
   ]
  },
  {
   "cell_type": "code",
   "execution_count": 8,
   "metadata": {
    "ExecuteTime": {
     "end_time": "2022-10-10T17:07:36.389271Z",
     "start_time": "2022-10-10T17:07:36.380963Z"
    }
   },
   "outputs": [],
   "source": [
    "def NetMeasureFn(mat, nrep=50, show_prog=False):\n",
    "    Cs = bct.clustering_coef_wu(mat)\n",
    "    mC = np.mean(Cs)\n",
    "    Ls = bct.distance_wei(mat)[0]\n",
    "    mL = 1/np.mean(1/Ls[np.eye(Ls.shape[0])!=1])\n",
    "    _, Q = bct.modularity_und(mat)\n",
    "    \n",
    "    ranLs = []\n",
    "    ranQs = []\n",
    "    ranCs = []\n",
    "    if show_prog:\n",
    "        pbar = trange(nrep)\n",
    "    else:\n",
    "        pbar = range(nrep)\n",
    "    for i in pbar:\n",
    "        sMat = sysMatShuffle(mat)\n",
    "        Cs = bct.clustering_coef_wu(sMat)\n",
    "        mCi = np.mean(Cs)\n",
    "        ranCs.append(mCi)\n",
    "        Ls = bct.distance_wei(sMat)[0]\n",
    "        mLi = 1/np.mean(1/Ls[np.eye(Ls.shape[0])!=1])\n",
    "        ranLs.append(mLi)\n",
    "        _, Qi = bct.modularity_und(sMat)\n",
    "        ranQs.append(Qi)\n",
    "    \n",
    "    tQ = Q/np.mean(ranQs)\n",
    "    tmL  = mL/np.mean(ranLs)\n",
    "    tmC  = mC/np.mean(ranCs)\n",
    "    return {\n",
    "        \"tmC\": tmC, \n",
    "        \"tmL\": tmL, \n",
    "        \"tQ\": tQ, \n",
    "        \"mC\": mC, \n",
    "        \"mL\": mL, \n",
    "        \"Q\": Q, }"
   ]
  },
  {
   "cell_type": "code",
   "execution_count": 9,
   "metadata": {
    "ExecuteTime": {
     "end_time": "2022-10-10T17:07:37.535323Z",
     "start_time": "2022-10-10T17:07:37.529269Z"
    }
   },
   "outputs": [],
   "source": [
    "# calculat the topk mean of graphic feature based on dwell time\n",
    "def topk_mean(topk, graphic_f, dwell, key, onlyk=False):\n",
    "    if onlyk:\n",
    "        assert len(dwell)>= topk\n",
    "        idxs = np.array([np.argsort(-dwell)[topk-1]])\n",
    "    else:\n",
    "        idxs = np.argsort(-dwell)[:topk]\n",
    "    sel_graphic_f = np.array([graphic_f[idx][key] for idx in idxs])\n",
    "    sel_dwell = dwell[idxs]\n",
    "    mean_v = np.mean(sel_graphic_f)\n",
    "    ws = sel_dwell/np.sum(sel_dwell)\n",
    "    wmean_v = np.sum(ws*sel_graphic_f)\n",
    "    return mean_v, wmean_v"
   ]
  },
  {
   "cell_type": "code",
   "execution_count": 10,
   "metadata": {
    "ExecuteTime": {
     "end_time": "2022-10-10T17:07:38.187901Z",
     "start_time": "2022-10-10T17:07:38.181902Z"
    }
   },
   "outputs": [],
   "source": [
    "# calculat the topk mean of graphic feature based on dwell time after removing top1 dwell \n",
    "def exclude_top1_mean(topk, graphic_f, dwell, key):\n",
    "    assert len(dwell) >= 2\n",
    "    idxs = np.argsort(-dwell)[1:topk]\n",
    "    sel_graphic_f = np.array([graphic_f[idx][key] for idx in idxs])\n",
    "    sel_dwell = dwell[idxs]\n",
    "    mean_v = np.mean(sel_graphic_f)\n",
    "    ws = sel_dwell/np.sum(sel_dwell)\n",
    "    wmean_v = np.sum(ws*sel_graphic_f)\n",
    "    return mean_v, wmean_v"
   ]
  },
  {
   "cell_type": "code",
   "execution_count": null,
   "metadata": {},
   "outputs": [],
   "source": []
  },
  {
   "cell_type": "markdown",
   "metadata": {},
   "source": [
    "## Load data"
   ]
  },
  {
   "cell_type": "markdown",
   "metadata": {},
   "source": [
    "### load all needed results"
   ]
  },
  {
   "cell_type": "code",
   "execution_count": 11,
   "metadata": {
    "ExecuteTime": {
     "end_time": "2022-10-10T17:07:40.527842Z",
     "start_time": "2022-10-10T17:07:40.522468Z"
    }
   },
   "outputs": [],
   "source": [
    "with open(\"./OtherFils/KpIdxsAll.pkl\", \"rb\") as sf:\n",
    "    kpAD, kpCtrl, kpAll = pickle.load(sf)"
   ]
  },
  {
   "cell_type": "code",
   "execution_count": 12,
   "metadata": {
    "ExecuteTime": {
     "end_time": "2022-10-10T17:07:41.295477Z",
     "start_time": "2022-10-10T17:07:41.288761Z"
    }
   },
   "outputs": [],
   "source": [
    "# ecpts\n",
    "fil = list(resDir.glob(\"AD_*_ecpts.pkl\"))[0]\n",
    "with open(fil, \"rb\") as f:\n",
    "    ecptssAD = pickle.load(f)\n",
    "fil = list(resDir.glob(\"Ctrl_*_ecpts.pkl\"))[0]\n",
    "with open(fil, \"rb\") as f:\n",
    "    ecptssCtrl = pickle.load(f)"
   ]
  },
  {
   "cell_type": "code",
   "execution_count": 13,
   "metadata": {
    "ExecuteTime": {
     "end_time": "2022-10-10T17:07:41.882907Z",
     "start_time": "2022-10-10T17:07:41.868518Z"
    }
   },
   "outputs": [],
   "source": [
    "# Eigvecs\n",
    "fil = list(resDir.glob(\"AD_*_eigVecs.pkl\"))[0]\n",
    "with open(fil, \"rb\") as f:\n",
    "    eigVecsAD = pickle.load(f)\n",
    "fil = list(resDir.glob(\"Ctrl_*_eigVecs.pkl\"))[0]\n",
    "with open(fil, \"rb\") as f:\n",
    "    eigVecsCtrl = pickle.load(f)"
   ]
  },
  {
   "cell_type": "code",
   "execution_count": 14,
   "metadata": {
    "ExecuteTime": {
     "end_time": "2022-10-10T17:07:42.620373Z",
     "start_time": "2022-10-10T17:07:42.613045Z"
    }
   },
   "outputs": [],
   "source": [
    "# Eigvals\n",
    "fil = list(resDir.glob(\"AD_*_eigVals.pkl\"))[0]\n",
    "with open(fil, \"rb\") as f:\n",
    "    eigValsAD = pickle.load(f)\n",
    "fil = list(resDir.glob(\"Ctrl_*_eigVals.pkl\"))[0]\n",
    "with open(fil, \"rb\") as f:\n",
    "    eigValsCtrl = pickle.load(f)"
   ]
  },
  {
   "cell_type": "code",
   "execution_count": 15,
   "metadata": {
    "ExecuteTime": {
     "end_time": "2022-10-10T17:07:43.529143Z",
     "start_time": "2022-10-10T17:07:43.523336Z"
    }
   },
   "outputs": [],
   "source": [
    "# Sel data (only need when use sub data)\n",
    "ecptssAD = [ ecptsAD for ecptsAD, kpix in zip(ecptssAD, kpAD) if kpix==1]\n",
    "ecptssCtrl = [ ecptsCtrl for ecptsCtrl, kpix in zip(ecptssCtrl, kpCtrl) if kpix==1]\n",
    "eigValsAD = [ v for v, kpix in zip(eigValsAD, kpAD) if kpix==1]\n",
    "eigValsCtrl = [ v for v, kpix in zip(eigValsCtrl, kpCtrl) if kpix==1]\n",
    "eigVecsAD = [ v for v, kpix in zip(eigVecsAD, kpAD) if kpix==1]\n",
    "eigVecsCtrl = [ v for v, kpix in zip(eigVecsCtrl, kpCtrl) if kpix==1]"
   ]
  },
  {
   "cell_type": "code",
   "execution_count": 16,
   "metadata": {
    "ExecuteTime": {
     "end_time": "2022-10-10T17:07:44.272352Z",
     "start_time": "2022-10-10T17:07:44.264635Z"
    }
   },
   "outputs": [],
   "source": [
    "# Dwell times in second\n",
    "freq = 120\n",
    "dwellsAD = [np.diff(np.concatenate([[0], ecpts, [7200]])/freq) for ecpts in ecptssAD]\n",
    "dwellsCtrl = [np.diff(np.concatenate([[0], ecpts, [7200]])/freq) for ecpts in ecptssCtrl]"
   ]
  },
  {
   "cell_type": "markdown",
   "metadata": {},
   "source": [
    "### Get FC\n",
    "(remove the diaginal term)"
   ]
  },
  {
   "cell_type": "code",
   "execution_count": 17,
   "metadata": {
    "ExecuteTime": {
     "end_time": "2022-10-10T17:07:46.220464Z",
     "start_time": "2022-10-10T17:07:46.211052Z"
    }
   },
   "outputs": [],
   "source": [
    "# pool all wU \n",
    "wU_all = []\n",
    "for cur_U, cur_vals in zip(eigVecsAD, eigValsAD):\n",
    "    cur_wU = np.abs(np.matmul(cur_U, np.array(cur_vals).T).real)\n",
    "    wU_all.append(cur_wU)\n",
    "    \n",
    "for cur_U, cur_vals in zip(eigVecsCtrl, eigValsCtrl):\n",
    "    cur_wU = np.abs(np.matmul(cur_U, np.array(cur_vals).T).real)\n",
    "    wU_all.append(cur_wU)\n",
    "wU_all = np.concatenate(wU_all, axis=1)\n",
    "WU_STD = np.std(wU_all)"
   ]
  },
  {
   "cell_type": "code",
   "execution_count": 18,
   "metadata": {
    "ExecuteTime": {
     "end_time": "2022-10-10T17:07:47.857562Z",
     "start_time": "2022-10-10T17:07:47.798238Z"
    }
   },
   "outputs": [],
   "source": [
    "FCs_AD = []\n",
    "for cur_U, cur_vals in zip(eigVecsAD, eigValsAD):\n",
    "    FCs_AD.append(obt_FC(cur_U, cur_vals)) \n",
    "    \n",
    "FCs_Ctrl = []\n",
    "for cur_U, cur_vals in zip(eigVecsCtrl, eigValsCtrl):\n",
    "    FCs_Ctrl.append(obt_FC(cur_U, cur_vals)) "
   ]
  },
  {
   "cell_type": "markdown",
   "metadata": {},
   "source": [
    "## Analysis"
   ]
  },
  {
   "cell_type": "markdown",
   "metadata": {},
   "source": [
    "### Get graphic features"
   ]
  },
  {
   "cell_type": "code",
   "execution_count": 19,
   "metadata": {
    "ExecuteTime": {
     "end_time": "2022-10-10T17:34:37.512505Z",
     "start_time": "2022-10-10T17:08:05.527311Z"
    },
    "scrolled": true
   },
   "outputs": [
    {
     "name": "stdout",
     "output_type": "stream",
     "text": [
      "0\n",
      "1\n",
      "4\n",
      "2\n",
      "5\n",
      "3\n"
     ]
    },
    {
     "name": "stderr",
     "output_type": "stream",
     "text": [
      "/home/huaqingj/anaconda3/lib/python3.7/site-packages/numpy/core/_asarray.py:102: VisibleDeprecationWarning: Creating an ndarray from ragged nested sequences (which is a list-or-tuple of lists-or-tuples-or ndarrays with different lengths or shapes) is deprecated. If you meant to do this, you must specify 'dtype=object' when creating the ndarray.\n",
      "  return array(a, dtype, copy=False, order=order)\n",
      "/home/huaqingj/anaconda3/lib/python3.7/site-packages/numpy/core/_asarray.py:102: VisibleDeprecationWarning: Creating an ndarray from ragged nested sequences (which is a list-or-tuple of lists-or-tuples-or ndarrays with different lengths or shapes) is deprecated. If you meant to do this, you must specify 'dtype=object' when creating the ndarray.\n",
      "  return array(a, dtype, copy=False, order=order)\n",
      "/home/huaqingj/anaconda3/lib/python3.7/site-packages/numpy/core/_asarray.py:102: VisibleDeprecationWarning: Creating an ndarray from ragged nested sequences (which is a list-or-tuple of lists-or-tuples-or ndarrays with different lengths or shapes) is deprecated. If you meant to do this, you must specify 'dtype=object' when creating the ndarray.\n",
      "  return array(a, dtype, copy=False, order=order)\n",
      "/home/huaqingj/anaconda3/lib/python3.7/site-packages/numpy/core/_asarray.py:102: VisibleDeprecationWarning: Creating an ndarray from ragged nested sequences (which is a list-or-tuple of lists-or-tuples-or ndarrays with different lengths or shapes) is deprecated. If you meant to do this, you must specify 'dtype=object' when creating the ndarray.\n",
      "  return array(a, dtype, copy=False, order=order)\n",
      "/home/huaqingj/anaconda3/lib/python3.7/site-packages/numpy/core/_asarray.py:102: VisibleDeprecationWarning: Creating an ndarray from ragged nested sequences (which is a list-or-tuple of lists-or-tuples-or ndarrays with different lengths or shapes) is deprecated. If you meant to do this, you must specify 'dtype=object' when creating the ndarray.\n",
      "  return array(a, dtype, copy=False, order=order)\n",
      "/home/huaqingj/anaconda3/lib/python3.7/site-packages/numpy/core/_asarray.py:102: VisibleDeprecationWarning: Creating an ndarray from ragged nested sequences (which is a list-or-tuple of lists-or-tuples-or ndarrays with different lengths or shapes) is deprecated. If you meant to do this, you must specify 'dtype=object' when creating the ndarray.\n",
      "  return array(a, dtype, copy=False, order=order)\n"
     ]
    },
    {
     "name": "stdout",
     "output_type": "stream",
     "text": [
      "6\n",
      "7\n",
      "8\n",
      "9\n",
      "10\n",
      "11\n",
      "12\n",
      "13\n",
      "14\n",
      "15\n",
      "16\n",
      "17\n",
      "18\n",
      "19\n",
      "20\n",
      "21\n",
      "22\n",
      "23\n",
      "24\n",
      "25\n",
      "26\n",
      "27\n",
      "28\n",
      "29\n",
      "30\n",
      "31\n",
      "32\n",
      "33\n",
      "34\n",
      "35\n",
      "36\n",
      "37\n",
      "38\n",
      "39\n",
      "40\n",
      "41\n",
      "42\n",
      "43\n",
      "44\n",
      "45\n",
      "46\n",
      "47\n",
      "48\n",
      "49\n",
      "50\n",
      "51\n",
      "52\n",
      "53\n",
      "54\n",
      "55\n",
      "56\n",
      "57\n",
      "58\n",
      "59\n",
      "60\n",
      "61\n",
      "62\n",
      "63\n",
      "64\n",
      "65\n",
      "66\n",
      "67\n",
      "68\n",
      "69\n",
      "70\n",
      "71\n",
      "72\n",
      "73\n",
      "74\n",
      "75\n",
      "76\n",
      "77\n",
      "78\n",
      "79\n",
      "80\n",
      "81\n",
      "82\n",
      "83\n",
      "84\n",
      "85\n",
      "86\n",
      "87\n"
     ]
    }
   ],
   "source": [
    "import multiprocessing as mp\n",
    "def run_fn(ix, FCs):\n",
    "    print(ix)\n",
    "    graphic_f = [NetMeasureFn(FC) for FC in FCs]\n",
    "    #print(ix*100)\n",
    "    return graphic_f\n",
    "if __name__ == \"__main__\":\n",
    "    with mp.Pool(6) as pool:\n",
    "        graphic_fs_AD_proc = []\n",
    "        for ix, FCs in enumerate(FCs_AD):\n",
    "            graphic_fs_AD_proc.append(pool.apply_async(run_fn, (ix, FCs)))\n",
    "        graphic_fs_AD = [res.get() for res in graphic_fs_AD_proc]\n",
    "    pool.join()"
   ]
  },
  {
   "cell_type": "code",
   "execution_count": 20,
   "metadata": {
    "ExecuteTime": {
     "end_time": "2022-10-10T18:08:14.508589Z",
     "start_time": "2022-10-10T17:34:37.513843Z"
    },
    "scrolled": true
   },
   "outputs": [
    {
     "name": "stdout",
     "output_type": "stream",
     "text": [
      "2\n",
      "3\n",
      "4\n",
      "5\n",
      "1\n",
      "0\n"
     ]
    },
    {
     "name": "stderr",
     "output_type": "stream",
     "text": [
      "/home/huaqingj/anaconda3/lib/python3.7/site-packages/numpy/core/_asarray.py:102: VisibleDeprecationWarning: Creating an ndarray from ragged nested sequences (which is a list-or-tuple of lists-or-tuples-or ndarrays with different lengths or shapes) is deprecated. If you meant to do this, you must specify 'dtype=object' when creating the ndarray.\n",
      "  return array(a, dtype, copy=False, order=order)\n",
      "/home/huaqingj/anaconda3/lib/python3.7/site-packages/numpy/core/_asarray.py:102: VisibleDeprecationWarning: Creating an ndarray from ragged nested sequences (which is a list-or-tuple of lists-or-tuples-or ndarrays with different lengths or shapes) is deprecated. If you meant to do this, you must specify 'dtype=object' when creating the ndarray.\n",
      "  return array(a, dtype, copy=False, order=order)\n",
      "/home/huaqingj/anaconda3/lib/python3.7/site-packages/numpy/core/_asarray.py:102: VisibleDeprecationWarning: Creating an ndarray from ragged nested sequences (which is a list-or-tuple of lists-or-tuples-or ndarrays with different lengths or shapes) is deprecated. If you meant to do this, you must specify 'dtype=object' when creating the ndarray.\n",
      "  return array(a, dtype, copy=False, order=order)\n",
      "/home/huaqingj/anaconda3/lib/python3.7/site-packages/numpy/core/_asarray.py:102: VisibleDeprecationWarning: Creating an ndarray from ragged nested sequences (which is a list-or-tuple of lists-or-tuples-or ndarrays with different lengths or shapes) is deprecated. If you meant to do this, you must specify 'dtype=object' when creating the ndarray.\n",
      "  return array(a, dtype, copy=False, order=order)\n",
      "/home/huaqingj/anaconda3/lib/python3.7/site-packages/numpy/core/_asarray.py:102: VisibleDeprecationWarning: Creating an ndarray from ragged nested sequences (which is a list-or-tuple of lists-or-tuples-or ndarrays with different lengths or shapes) is deprecated. If you meant to do this, you must specify 'dtype=object' when creating the ndarray.\n",
      "  return array(a, dtype, copy=False, order=order)\n",
      "/home/huaqingj/anaconda3/lib/python3.7/site-packages/numpy/core/_asarray.py:102: VisibleDeprecationWarning: Creating an ndarray from ragged nested sequences (which is a list-or-tuple of lists-or-tuples-or ndarrays with different lengths or shapes) is deprecated. If you meant to do this, you must specify 'dtype=object' when creating the ndarray.\n",
      "  return array(a, dtype, copy=False, order=order)\n"
     ]
    },
    {
     "name": "stdout",
     "output_type": "stream",
     "text": [
      "6\n",
      "7\n",
      "8\n",
      "9\n",
      "10\n",
      "11\n",
      "12\n",
      "13\n",
      "14\n",
      "15\n",
      "16\n",
      "17\n",
      "18\n",
      "19\n",
      "20\n",
      "21\n",
      "22\n",
      "23\n",
      "24\n",
      "25\n",
      "26\n",
      "27\n",
      "28\n",
      "29\n",
      "30\n",
      "31\n",
      "32\n",
      "33\n",
      "34\n",
      "35\n",
      "36\n",
      "37\n",
      "38\n",
      "39\n",
      "40\n",
      "41\n",
      "42\n",
      "43\n",
      "44\n",
      "45\n",
      "46\n",
      "47\n",
      "48\n",
      "49\n",
      "50\n",
      "51\n",
      "52\n",
      "53\n",
      "54\n",
      "55\n",
      "56\n",
      "57\n",
      "58\n",
      "59\n",
      "60\n",
      "61\n",
      "62\n",
      "63\n",
      "64\n",
      "65\n",
      "66\n",
      "67\n",
      "68\n",
      "69\n",
      "70\n",
      "71\n",
      "72\n",
      "73\n",
      "74\n",
      "75\n",
      "76\n",
      "77\n",
      "78\n",
      "79\n",
      "80\n",
      "81\n",
      "82\n",
      "83\n",
      "84\n",
      "85\n",
      "86\n",
      "87\n"
     ]
    }
   ],
   "source": [
    "if __name__ == \"__main__\":\n",
    "    with mp.Pool(6) as pool:\n",
    "        graphic_fs_Ctrl_proc = []\n",
    "        for ix, FCs in enumerate(FCs_Ctrl):\n",
    "            graphic_fs_Ctrl_proc.append(pool.apply_async(run_fn, (ix, FCs)))\n",
    "        graphic_fs_Ctrl = [res.get() for res in graphic_fs_Ctrl_proc]\n",
    "    pool.join()"
   ]
  },
  {
   "cell_type": "code",
   "execution_count": 22,
   "metadata": {
    "ExecuteTime": {
     "end_time": "2022-10-10T18:11:38.739782Z",
     "start_time": "2022-10-10T18:11:38.731779Z"
    },
    "code_folding": []
   },
   "outputs": [],
   "source": [
    "# save it\n",
    "with open(resDir/\"graphic_fs_AD_exp_sig.pkl\", \"wb\") as f:\n",
    "    pickle.dump(graphic_fs_AD, f)\n",
    "with open(resDir/\"graphic_fs_Ctrl_exp_sig.pkl\", \"wb\") as f:\n",
    "    pickle.dump(graphic_fs_Ctrl, f)"
   ]
  },
  {
   "cell_type": "code",
   "execution_count": null,
   "metadata": {},
   "outputs": [],
   "source": []
  },
  {
   "cell_type": "markdown",
   "metadata": {},
   "source": [
    "### load graphic features"
   ]
  },
  {
   "cell_type": "code",
   "execution_count": 67,
   "metadata": {
    "ExecuteTime": {
     "end_time": "2022-10-10T16:44:49.779979Z",
     "start_time": "2022-10-10T16:44:49.776238Z"
    },
    "code_folding": []
   },
   "outputs": [],
   "source": [
    "# load\n",
    "with open(resDir/\"graphic_fs_AD.pkl\", \"rb\") as f:\n",
    "#with open(resDir/\"graphic_fs_AD_exp_sig.pkl\", \"rb\") as f:\n",
    "    graphic_fs_AD = pickle.load(f)\n",
    "\n",
    "with open(resDir/\"graphic_fs_Ctrl.pkl\", \"rb\") as f:\n",
    "#with open(resDir/\"graphic_fs_Ctrl_nofisher_noabs.pkl\", \"rb\") as f:\n",
    "#with open(resDir/\"graphic_fs_Ctrl_exp_sig.pkl\", \"rb\") as f:\n",
    "    graphic_fs_Ctrl = pickle.load(f)"
   ]
  },
  {
   "cell_type": "markdown",
   "metadata": {},
   "source": [
    "###  graphic freatures at the max dwell time "
   ]
  },
  {
   "cell_type": "code",
   "execution_count": 23,
   "metadata": {
    "ExecuteTime": {
     "end_time": "2022-10-10T18:11:42.861852Z",
     "start_time": "2022-10-10T18:11:42.859585Z"
    }
   },
   "outputs": [],
   "source": [
    "fs_name = [\"Modularity\", \"Weighted path length\", \"Clustering coef\"]"
   ]
  },
  {
   "cell_type": "code",
   "execution_count": 24,
   "metadata": {
    "ExecuteTime": {
     "end_time": "2022-10-10T18:11:43.692271Z",
     "start_time": "2022-10-10T18:11:43.686176Z"
    }
   },
   "outputs": [
    {
     "data": {
      "text/plain": [
       "dict_keys(['tmC', 'tmL', 'tQ', 'mC', 'mL', 'Q'])"
      ]
     },
     "execution_count": 24,
     "metadata": {},
     "output_type": "execute_result"
    }
   ],
   "source": [
    "graphic_fs_AD[0][0].keys()"
   ]
  },
  {
   "cell_type": "code",
   "execution_count": 25,
   "metadata": {
    "ExecuteTime": {
     "end_time": "2022-10-10T18:11:45.372920Z",
     "start_time": "2022-10-10T18:11:44.931256Z"
    }
   },
   "outputs": [
    {
     "name": "stdout",
     "output_type": "stream",
     "text": [
      "-18081792621189.832 -100352667692477.08\n",
      "0.935548748726507 0.9839691055297198\n",
      "1.0318029935696706 1.0147944600148096\n"
     ]
    },
    {
     "data": {
      "image/png": "[encoded data removed]",
      "text/plain": [
       "<Figure size 1080x360 with 3 Axes>"
      ]
     },
     "metadata": {
      "needs_background": "light"
     },
     "output_type": "display_data"
    }
   ],
   "source": [
    "plt.figure(figsize=[15, 5])\n",
    "for ix, cur_f in enumerate([\"tQ\", \"tmL\", \"tmC\"]):\n",
    "    cur_fs_AD = np.array([topk_mean(1, graphic_f, dwell, cur_f)[0] \n",
    "                 for graphic_f, dwell in zip(graphic_fs_AD, dwellsAD)])\n",
    "    cur_fs_Ctrl = np.array([topk_mean(1, graphic_f, dwell, cur_f)[0] \n",
    "                   for graphic_f, dwell in zip(graphic_fs_Ctrl, dwellsCtrl)])\n",
    "    #test_res = scipy.stats.ttest_ind(cur_fs_AD, cur_fs_Ctrl, equal_var=False)\n",
    "    print(np.mean(cur_fs_AD), np.mean(cur_fs_Ctrl))\n",
    "    test_res = scipy.stats.ranksums(cur_fs_AD, cur_fs_Ctrl)\n",
    "\n",
    "    plt.subplot(1, 3, ix+1)\n",
    "    plt.title(f\"{fs_name[ix]} (test pvalue:{test_res.pvalue:.3f})\")\n",
    "    plt.hist(cur_fs_AD, label=\"AD\", alpha=0.3)\n",
    "    plt.hist(cur_fs_Ctrl, label=\"Ctrl\", alpha=0.3)\n",
    "    plt.legend()"
   ]
  },
  {
   "cell_type": "code",
   "execution_count": 26,
   "metadata": {
    "ExecuteTime": {
     "end_time": "2022-10-10T18:12:00.025407Z",
     "start_time": "2022-10-10T18:11:59.671421Z"
    }
   },
   "outputs": [
    {
     "name": "stdout",
     "output_type": "stream",
     "text": [
      "-677360612569.8966 108254117285988.5\n",
      "0.9283729780635975 0.9672125331774727\n",
      "1.035582293733745 1.0221450921171182\n"
     ]
    },
    {
     "data": {
      "image/png": "[encoded data removed]",
      "text/plain": [
       "<Figure size 1080x360 with 3 Axes>"
      ]
     },
     "metadata": {
      "needs_background": "light"
     },
     "output_type": "display_data"
    }
   ],
   "source": [
    "topk = 5\n",
    "plt.figure(figsize=[15, 5])\n",
    "for ix, cur_f in enumerate([\"tQ\", \"tmL\", \"tmC\"]):\n",
    "    cur_fs_AD = np.array([topk_mean(topk, graphic_f, dwell, cur_f)[0] \n",
    "                 for graphic_f, dwell in zip(graphic_fs_AD, dwellsAD)])\n",
    "    cur_fs_Ctrl = np.array([topk_mean(topk, graphic_f, dwell, cur_f)[0] \n",
    "                   for graphic_f, dwell in zip(graphic_fs_Ctrl, dwellsCtrl)])\n",
    "    print(np.mean(cur_fs_AD), np.mean(cur_fs_Ctrl))\n",
    "    #test_res = scipy.stats.ttest_ind(cur_fs_AD, cur_fs_Ctrl, equal_var=False)\n",
    "    test_res = scipy.stats.ranksums(cur_fs_AD, cur_fs_Ctrl)\n",
    "\n",
    "    plt.subplot(1, 3, ix+1)\n",
    "    plt.title(f\"{fs_name[ix]} (test pvalue:{test_res.pvalue:.3f})\")\n",
    "    plt.hist(cur_fs_AD, label=\"AD\", alpha=0.3)\n",
    "    plt.hist(cur_fs_Ctrl, label=\"Ctrl\", alpha=0.3)\n",
    "    plt.legend()"
   ]
  },
  {
   "cell_type": "code",
   "execution_count": 50,
   "metadata": {
    "ExecuteTime": {
     "end_time": "2022-10-10T16:41:10.076654Z",
     "start_time": "2022-10-10T16:41:09.719532Z"
    }
   },
   "outputs": [
    {
     "data": {
      "image/png": "[encoded data removed]",
      "text/plain": [
       "<Figure size 1080x360 with 3 Axes>"
      ]
     },
     "metadata": {
      "needs_background": "light"
     },
     "output_type": "display_data"
    }
   ],
   "source": [
    "topk = 3\n",
    "plt.figure(figsize=[15, 5])\n",
    "for ix, cur_f in enumerate([\"tQ\", \"tmL\", \"tmC\"]):\n",
    "    cur_fs_AD = [exclude_top1_mean(topk, graphic_f, dwell, cur_f)[0] \n",
    "                 for graphic_f, dwell in zip(graphic_fs_AD, dwellsAD) \n",
    "                 if len(dwell)>=2]\n",
    "    cur_fs_Ctrl = [exclude_top1_mean(topk, graphic_f, dwell, cur_f)[0] \n",
    "                   for graphic_f, dwell in zip(graphic_fs_Ctrl, dwellsCtrl) \n",
    "                   if len(dwell)>= 2]\n",
    "    #test_res = scipy.stats.ttest_ind(cur_fs_AD, cur_fs_Ctrl, equal_var=False)\n",
    "    test_res = scipy.stats.ranksums(cur_fs_AD, cur_fs_Ctrl)\n",
    "\n",
    "    plt.subplot(1, 3, ix+1)\n",
    "    plt.title(f\"{fs_name[ix]} (test pvalue:{test_res.pvalue:.3f})\")\n",
    "    plt.hist(cur_fs_AD, label=\"AD\", alpha=0.3)\n",
    "    plt.hist(cur_fs_Ctrl, label=\"Ctrl\", alpha=0.3)\n",
    "    plt.legend()"
   ]
  },
  {
   "cell_type": "code",
   "execution_count": null,
   "metadata": {},
   "outputs": [],
   "source": []
  }
 ],
 "metadata": {
  "kernelspec": {
   "display_name": "Python 3",
   "language": "python",
   "name": "python3"
  },
  "language_info": {
   "codemirror_mode": {
    "name": "ipython",
    "version": 3
   },
   "file_extension": ".py",
   "mimetype": "text/x-python",
   "name": "python",
   "nbconvert_exporter": "python",
   "pygments_lexer": "ipython3",
   "version": "3.7.4"
  },
  "toc": {
   "base_numbering": 1,
   "nav_menu": {},
   "number_sections": true,
   "sideBar": true,
   "skip_h1_title": false,
   "title_cell": "Table of Contents",
   "title_sidebar": "Contents",
   "toc_cell": false,
   "toc_position": {},
   "toc_section_display": true,
   "toc_window_display": true
  }
 },
 "nbformat": 4,
 "nbformat_minor": 2
}
