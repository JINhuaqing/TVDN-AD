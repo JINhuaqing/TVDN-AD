{
 "cells": [
  {
   "cell_type": "code",
   "execution_count": 1,
   "metadata": {},
   "outputs": [],
   "source": [
    "import sys\n",
    "sys.path.append(\"/home/huaqingj/MyResearch/TVDN-AD\")"
   ]
  },
  {
   "cell_type": "code",
   "execution_count": 12,
   "metadata": {},
   "outputs": [],
   "source": [
    "from pyTVDN import TVDNDetect\n",
    "from pathlib import Path\n",
    "import numpy as np\n",
    "from easydict import EasyDict as edict\n",
    "import matplotlib.pyplot as plt\n",
    "import os\n",
    "from tqdm import tqdm\n",
    "import seaborn as sns\n",
    "import scipy\n",
    "import pandas as pd\n",
    "import numbers\n",
    "%matplotlib inline"
   ]
  },
  {
   "cell_type": "code",
   "execution_count": 3,
   "metadata": {},
   "outputs": [],
   "source": [
    "os.chdir(\"/home/huaqingj/MyResearch/TVDN-AD/\")\n",
    "resDir = Path(\"./results\")\n",
    "dataDir = Path(\"./data\")"
   ]
  },
  {
   "cell_type": "code",
   "execution_count": 4,
   "metadata": {},
   "outputs": [],
   "source": [
    "allDataOrd = pd.read_csv(\"./OtherFils/AllDataBaselineOrdered.csv\")\n",
    "SGMAD = pd.read_csv(\"./OtherFils/fmegallAD_reducedspeed_globalSGM_demographics.csv\")\n",
    "SGMCtrl = pd.read_csv(\"./OtherFils/fmegallCONT_reducedspeed_globalSGM_demographics.csv\")"
   ]
  },
  {
   "cell_type": "code",
   "execution_count": 5,
   "metadata": {},
   "outputs": [],
   "source": [
    "SGMAD = allDataOrd[allDataOrd[\"Grp\"]==\"AD\"].set_index(\"RID\").join(SGMAD.set_index(\"RADID\"))\n",
    "SGMCtrl = allDataOrd[allDataOrd[\"Grp\"]==\"Ctrl\"].set_index(\"RID\").join(SGMCtrl.set_index(\"RADID\"))\n",
    "SGMAD = SGMAD[SGMAD[\"KeepIt\"]==1]\n",
    "SGMCtrl = SGMCtrl[SGMCtrl[\"KeepIt\"]==1]"
   ]
  },
  {
   "cell_type": "markdown",
   "metadata": {},
   "source": [
    "### Load data"
   ]
  },
  {
   "cell_type": "code",
   "execution_count": 6,
   "metadata": {},
   "outputs": [],
   "source": [
    "SGMfnames = [\"taue\", \"taui\", \"alpha\", \"speed\", \"gei\", \"gii\", \"tauG\"]"
   ]
  },
  {
   "cell_type": "code",
   "execution_count": 7,
   "metadata": {},
   "outputs": [],
   "source": [
    "SGMDats = SGMAD\n",
    "\n",
    "fsAll = []\n",
    "for i in range(SGMDats.shape[0]):\n",
    "    fs = edict()\n",
    "    curSGMdat = SGMDats.iloc[i]\n",
    "    \n",
    "    for fname in SGMfnames:\n",
    "        fs[fname] = curSGMdat[fname]\n",
    "    \n",
    "    fsAll.append(fs)\n",
    "    \n",
    "fsAD = fsAll    "
   ]
  },
  {
   "cell_type": "code",
   "execution_count": 8,
   "metadata": {},
   "outputs": [],
   "source": [
    "SGMDats = SGMCtrl\n",
    "\n",
    "fsAll = []\n",
    "for i in range(SGMDats.shape[0]):\n",
    "    fs = edict()\n",
    "    curSGMdat = SGMDats.iloc[i]\n",
    "    \n",
    "    for fname in SGMfnames:\n",
    "        fs[fname] = curSGMdat[fname]\n",
    "    \n",
    "    fsAll.append(fs)\n",
    "    \n",
    "fsCtrl = fsAll    "
   ]
  },
  {
   "cell_type": "markdown",
   "metadata": {},
   "source": [
    "### Regression"
   ]
  },
  {
   "cell_type": "code",
   "execution_count": 14,
   "metadata": {},
   "outputs": [],
   "source": [
    "from sklearn.linear_model import LogisticRegression\n",
    "from sklearn.model_selection import LeaveOneOut\n",
    "from sklearn.metrics import roc_auc_score, roc_curve\n",
    "\n",
    "from prettytable import PrettyTable as pTB\n",
    "from sklearn.metrics import f1_score\n",
    "from collections import defaultdict as ddict\n",
    "\n",
    "import warnings\n",
    "warnings.filterwarnings('ignore')"
   ]
  },
  {
   "cell_type": "code",
   "execution_count": 15,
   "metadata": {},
   "outputs": [],
   "source": [
    "# this funtion is to tune the penalty parameter for regression\n",
    "def TuningCFn(inpX, inpY, Cs=[0.1, 0.2, 0.4, 0.8, 1, 1.6, 3.2, 6.4], penalty=\"l2\"):\n",
    "    aucCs = []\n",
    "    for C in Cs:\n",
    "        eProbs = []\n",
    "        loo = LeaveOneOut()\n",
    "        for trIdxs, testIdxs in loo.split(inpX):\n",
    "            clf = LogisticRegression(penalty=penalty, random_state=0, C=C)\n",
    "            clf.fit(inpX[trIdxs, :], inpY[trIdxs])\n",
    "            eProbs.append(clf.predict_proba(inpX[testIdxs, :]))\n",
    "        eProbs = np.array(eProbs).squeeze()\n",
    "        auc = roc_auc_score(inpY, eProbs[:, 1])\n",
    "        fpr, tpr, thresholds = roc_curve(inpY, eProbs[:, 1], pos_label=1)\n",
    "        aucCs.append(auc)\n",
    "            \n",
    "    optC = Cs[np.argmax(aucCs)]\n",
    "    res = edict()\n",
    "    res[\"optC\"] = optC\n",
    "    res[\"Cs\"] = Cs\n",
    "    res[\"aucCs\"] = aucCs\n",
    "    return res"
   ]
  },
  {
   "cell_type": "code",
   "execution_count": 16,
   "metadata": {},
   "outputs": [
    {
     "name": "stderr",
     "output_type": "stream",
     "text": [
      "\r",
      "  0%|          | 0/2 [00:00<?, ?it/s]"
     ]
    },
    {
     "name": "stdout",
     "output_type": "stream",
     "text": [
      "====================================================================================================\n",
      "The penalty is l2.\n"
     ]
    },
    {
     "name": "stderr",
     "output_type": "stream",
     "text": [
      "\r",
      " 50%|█████     | 1/2 [02:02<02:02, 122.43s/it]"
     ]
    },
    {
     "name": "stdout",
     "output_type": "stream",
     "text": [
      "Features are ['tauG'].\n",
      "The AUC under optimal C is 0.893.\n",
      "The mean of AUC under 1000 repetitions is 0.889 and the standard deviation is 0.054.\n",
      "----------------------------------------------------------------------------------------------------\n"
     ]
    },
    {
     "name": "stderr",
     "output_type": "stream",
     "text": [
      "100%|██████████| 2/2 [04:21<00:00, 130.64s/it]"
     ]
    },
    {
     "name": "stdout",
     "output_type": "stream",
     "text": [
      "Features are ['taue', 'taui', 'alpha', 'speed', 'gei', 'gii', 'tauG'].\n",
      "The AUC under optimal C is 0.879.\n",
      "The mean of AUC under 1000 repetitions is 0.886 and the standard deviation is 0.054.\n",
      "----------------------------------------------------------------------------------------------------\n"
     ]
    },
    {
     "name": "stderr",
     "output_type": "stream",
     "text": [
      "\n"
     ]
    }
   ],
   "source": [
    "penalty= \"l2\"\n",
    "fsNameSet = [\n",
    "             [\"tauG\"],\n",
    "             SGMfnames, \n",
    "           ]\n",
    "Cs=[0.1, 0.2, 0.4, 0.8, 1, 1.6, 3.2, 6.4]\n",
    "print(\"=\"*100)\n",
    "print(f\"The penalty is {penalty}.\")\n",
    "for fsName in tqdm(fsNameSet):\n",
    "    Ys = np.concatenate([np.ones(len(fsAD)), np.zeros(len(fsCtrl))])\n",
    "    XsAD = []\n",
    "    XsCtrl = []\n",
    "    for fName in fsName:\n",
    "        if isinstance(fsAD[0][fName], numbers.Number):\n",
    "            cfAD = np.array([fs[fName] for fs in fsAD]).reshape(-1, 1)\n",
    "            cfCtrl = np.array([fs[fName] for fs in fsCtrl]).reshape(-1, 1)\n",
    "        else:\n",
    "            cfAD = np.array([fs[fName] for fs in fsAD])\n",
    "            cfCtrl = np.array([fs[fName] for fs in fsCtrl])\n",
    "        \n",
    "        XsAD.append(cfAD)\n",
    "        XsCtrl.append(cfCtrl)\n",
    "    XsAD = np.concatenate(XsAD, axis=1)\n",
    "    XsCtrl = np.concatenate(XsCtrl, axis=1)\n",
    "    Xs = np.concatenate([XsAD, XsCtrl], axis=0)\n",
    "    stdXs = (Xs - Xs.mean(axis=0))/Xs.std(axis=0)\n",
    "    \n",
    "    \n",
    "    eProbs = []\n",
    "    loo = LeaveOneOut()\n",
    "    parass = []\n",
    "    optC = TuningCFn(stdXs, Ys, Cs=Cs, penalty=penalty)[\"optC\"]\n",
    "    #print(optC)\n",
    "    for trIdxs, testIdxs in loo.split(stdXs):\n",
    "        curStdXs, curYs = stdXs[trIdxs, :], Ys[trIdxs]\n",
    "        \n",
    "        # \n",
    "        curOptC = TuningCFn(curStdXs, curYs, Cs=Cs, penalty=penalty)[\"optC\"]\n",
    "        clf = LogisticRegression(penalty=penalty, random_state=0, C=curOptC)\n",
    "        \n",
    "        #clf = LogisticRegression(penalty=penalty, random_state=0, C=optC)\n",
    "        clf.fit(curStdXs, curYs)\n",
    "        paras = np.concatenate([clf.intercept_, clf.coef_.reshape(-1)])\n",
    "        parass.append(paras)\n",
    "        eProbs.append(clf.predict_proba(stdXs[testIdxs, :]))\n",
    "    eProbs = np.array(eProbs).squeeze()\n",
    "    auc = roc_auc_score(Ys, eProbs[:, 1])\n",
    "    fpr, tpr, thresholds = roc_curve(Ys, eProbs[:, 1], pos_label=1)\n",
    "    parass = np.array(parass)\n",
    "    \n",
    "    optC = TuningCFn(stdXs, Ys, Cs=Cs, penalty=penalty)[\"optC\"]\n",
    "    nobs = stdXs.shape[0]\n",
    "    Aucss = []\n",
    "    for j in range(1000):\n",
    "        testIdx = np.random.choice(nobs, int(nobs/5), False)\n",
    "        trainIdx = np.delete(np.arange(nobs), testIdx)\n",
    "        clf = LogisticRegression(penalty=penalty, random_state=0, C=optC)\n",
    "        clf.fit(stdXs[trainIdx], Ys[trainIdx])\n",
    "        curEprobs = clf.predict_proba(stdXs[testIdx, :])\n",
    "        curAuc = roc_auc_score(Ys[testIdx], curEprobs[:, 1])\n",
    "        Aucss.append(curAuc)\n",
    "    mAUC = np.mean(Aucss)\n",
    "    stdAUC = np.std(Aucss)\n",
    "    print(f\"Features are {fsName}.\")\n",
    "    print(f\"The AUC under optimal C is {auc:.3f}.\")\n",
    "    print(f\"The mean of AUC under 1000 repetitions is {mAUC:.3f} and the standard deviation is {stdAUC:.3f}.\")\n",
    "    print(\"-\"*100)"
   ]
  },
  {
   "cell_type": "code",
   "execution_count": null,
   "metadata": {},
   "outputs": [],
   "source": []
  }
 ],
 "metadata": {
  "kernelspec": {
   "display_name": "Python 3",
   "language": "python",
   "name": "python3"
  },
  "language_info": {
   "codemirror_mode": {
    "name": "ipython",
    "version": 3
   },
   "file_extension": ".py",
   "mimetype": "text/x-python",
   "name": "python",
   "nbconvert_exporter": "python",
   "pygments_lexer": "ipython3",
   "version": "3.7.4"
  },
  "toc": {
   "base_numbering": 1,
   "nav_menu": {},
   "number_sections": true,
   "sideBar": true,
   "skip_h1_title": false,
   "title_cell": "Table of Contents",
   "title_sidebar": "Contents",
   "toc_cell": false,
   "toc_position": {},
   "toc_section_display": true,
   "toc_window_display": false
  }
 },
 "nbformat": 4,
 "nbformat_minor": 2
}
