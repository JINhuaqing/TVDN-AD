{
 "cells": [
  {
   "cell_type": "markdown",
   "metadata": {},
   "source": [
    "This File is to pipeline on running the TVDN algorithm on AD and Control data and save the results\n",
    "\n",
    "Of course, you should tune some parameters for your data.\n",
    "\n",
    "I think the most important parameters are\n",
    "\n",
    "- `paras.lamb` in section 1.2\n",
    "\n",
    "- `lowCpts` in section 2. \n",
    "\n",
    "For the meaning of some parmaters in TVDN algorithm, plz refer to our github repo. \n",
    "\n",
    "https://github.com/JINhuaqing/TVDN"
   ]
  },
  {
   "cell_type": "code",
   "execution_count": 1,
   "metadata": {},
   "outputs": [],
   "source": [
    "import sys\n",
    "sys.path.append(\"/home/huaqingj/MyResearch/TVDN-AD\")"
   ]
  },
  {
   "cell_type": "code",
   "execution_count": 2,
   "metadata": {},
   "outputs": [],
   "source": [
    "from pyTVDN import TVDNDetect\n",
    "from pathlib import Path\n",
    "from scipy.io import loadmat, savemat\n",
    "import numpy as np\n",
    "from easydict import EasyDict as edict\n",
    "import matplotlib\n",
    "import matplotlib.pyplot as plt\n",
    "import os\n",
    "from scipy import signal\n",
    "from tqdm import tqdm\n",
    "import pickle\n",
    "%matplotlib inline"
   ]
  },
  {
   "cell_type": "code",
   "execution_count": 3,
   "metadata": {},
   "outputs": [],
   "source": [
    "os.chdir(\"/home/huaqingj/MyResearch/TVDN-AD\")\n",
    "resDir = Path(\"./results\")\n",
    "dataDir = Path(\"./data\")"
   ]
  },
  {
   "cell_type": "code",
   "execution_count": 4,
   "metadata": {},
   "outputs": [],
   "source": [
    "filAD = \"87ADs_before_filter1000.mat\" # 0-86\n",
    "filCtrl = \"70Ctrls_before_filter1000.mat\" #0-69"
   ]
  },
  {
   "cell_type": "markdown",
   "metadata": {},
   "source": [
    "## Run data with TVDN"
   ]
  },
  {
   "cell_type": "markdown",
   "metadata": {},
   "source": [
    "### Load the datasets\n"
   ]
  },
  {
   "cell_type": "code",
   "execution_count": 5,
   "metadata": {},
   "outputs": [],
   "source": [
    "ADdatasets = loadmat(dataDir/filAD)[\"dk10\"]\n",
    "Ctrldatasets = loadmat(dataDir/filCtrl)[\"dk10\"]"
   ]
  },
  {
   "cell_type": "markdown",
   "metadata": {},
   "source": [
    "### Run TVDN "
   ]
  },
  {
   "cell_type": "markdown",
   "metadata": {},
   "source": [
    "#### Parameters for TVDN\n",
    "\n",
    "**For below parameters, the most important one is `paras.lamb`.** \n",
    "\n",
    "It is the smooth parameter for B-spline, I suggest you tune it between range [1e-1, 1e-8].\n"
   ]
  },
  {
   "cell_type": "code",
   "execution_count": 66,
   "metadata": {},
   "outputs": [],
   "source": [
    "paras = edict()\n",
    "paras.Lmin = 200\n",
    "paras.wh = 10\n",
    "paras.MaxM = 20\n",
    "paras.fct = 0.5\n",
    "paras.r = None\n",
    "paras.lamb = 1e-4 # tuning this. \n",
    "paras.T = 2\n",
    "paras.is_detrend = True\n",
    "paras.decimateRate = 5\n",
    "paras.kappa = 3.005 # this kappa is not important, you will tune it later. \n",
    "paras.downRate = 20\n",
    "\n",
    "# your data sampling freq after decimate. \n",
    "if paras.decimateRate is None:\n",
    "    paras.freq = 600\n",
    "else:\n",
    "    paras.freq = int(600/paras.decimateRate)"
   ]
  },
  {
   "cell_type": "code",
   "execution_count": 67,
   "metadata": {},
   "outputs": [],
   "source": [
    "kps = np.linspace(1, 4, 1000) # It is the range of kappa. "
   ]
  },
  {
   "cell_type": "markdown",
   "metadata": {
    "heading_collapsed": true
   },
   "source": [
    "#### Print the data after Bspline (optional).\n",
    "\n",
    "\n",
    "I suggest you to print the data after Bspline to find whether `paras.lamb` is suitable or not.\n"
   ]
  },
  {
   "cell_type": "code",
   "execution_count": null,
   "metadata": {
    "hidden": true
   },
   "outputs": [],
   "source": [
    "idx = 0\n",
    "curDat = ADdatasets[idx, :, :]\n",
    "#curDat = Ctrldatasets[idx, :, :]\n",
    "detRes = TVDNDetect(Ymat=curDat, dataType=\"MEG\", \n",
    "                         saveDir=None, \n",
    "                         showProgress=False, \n",
    "                         fName=\"demoMEG\",\n",
    "                         MaxM=paras.MaxM,\n",
    "                         Lmin=paras.Lmin, \n",
    "                         lamb=paras.lamb, \n",
    "                         kappa=paras.kappa, \n",
    "                         freq=paras.freq,\n",
    "                         r=paras.r,\n",
    "                         T=paras.T,\n",
    "                         is_detrend=paras.is_detrend,\n",
    "                         decimateRate=paras.decimateRate, \n",
    "                         downRate=paras.downRate)\n",
    "detRes.Screening(wh=paras.wh)\n",
    "    \n"
   ]
  },
  {
   "cell_type": "code",
   "execution_count": null,
   "metadata": {
    "hidden": true
   },
   "outputs": [],
   "source": [
    "# here is the data after Bspline\n",
    "# If it is weird, you can choose another one. \n",
    "for ix in range(detRes.Xmat.shape[0]):\n",
    "    plt.plot(detRes.Xmat[ix, :])"
   ]
  },
  {
   "cell_type": "markdown",
   "metadata": {},
   "source": [
    "#### Run Kappa tuning algorithm \n",
    "\n",
    "This is to tune the kappa. \n",
    "\n",
    "Below, I just run and save the results, the tuning step will do later"
   ]
  },
  {
   "cell_type": "code",
   "execution_count": 10,
   "metadata": {},
   "outputs": [
    {
     "name": "stderr",
     "output_type": "stream",
     "text": [
      "100%|██████████| 87/87 [3:22:12<00:00, 139.45s/it]  \n"
     ]
    }
   ],
   "source": [
    "for idx in tqdm(range(ADdatasets.shape[0])):\n",
    "    ADdataset = ADdatasets[idx, :, :]\n",
    "    detADa = []\n",
    "    for i in range(paras.decimateRate):\n",
    "        detADt = TVDNDetect(Ymat=ADdataset[:, i::paras.decimateRate], dataType=\"MEG\", \n",
    "                             saveDir=None, \n",
    "                             showProgress=False, \n",
    "                             fName=\"demoMEG\",\n",
    "                             MaxM=paras.MaxM,\n",
    "                             Lmin=paras.Lmin, \n",
    "                             lamb=paras.lamb, \n",
    "                             kappa=paras.kappa, \n",
    "                             freq=paras.freq,\n",
    "                             r=paras.r,\n",
    "                             T=paras.T,\n",
    "                             is_detrend=paras.is_detrend,\n",
    "                             decimateRate=None, \n",
    "                             downRate=paras.downRate)\n",
    "        detADt.Screening(wh=paras.wh)\n",
    "        detADt()\n",
    "        detADt.TuningKappa(kps)\n",
    "        detADa.append(detADt)\n",
    "        \n",
    "    saveFil = f\"AD_data_det_{idx}_lamb{paras.lamb:.1E}_decimate{paras.decimateRate:.0f}_tuning.pkl\"\n",
    "    with open(resDir/saveFil, \"wb\") as f:\n",
    "         pickle.dump(detADa, f)"
   ]
  },
  {
   "cell_type": "code",
   "execution_count": 58,
   "metadata": {},
   "outputs": [
    {
     "name": "stderr",
     "output_type": "stream",
     "text": [
      "100%|██████████| 70/70 [2:25:15<00:00, 124.50s/it]  \n"
     ]
    }
   ],
   "source": [
    "for idx in tqdm(range(Ctrldatasets.shape[0])):\n",
    "    Ctrldataset = Ctrldatasets[idx, :, :]\n",
    "    detCa = []\n",
    "    for i in range(paras.decimateRate):\n",
    "        detCt = TVDNDetect(Ymat=Ctrldataset[:, i::paras.decimateRate], dataType=\"MEG\", \n",
    "                             saveDir=None, \n",
    "                             showProgress=False, \n",
    "                             fName=\"demoMEG\",\n",
    "                             MaxM=paras.MaxM,\n",
    "                             Lmin=paras.Lmin, \n",
    "                             lamb=paras.lamb, \n",
    "                             kappa=paras.kappa, \n",
    "                             freq=paras.freq,\n",
    "                             r=paras.r,\n",
    "                             T=paras.T,\n",
    "                             is_detrend=paras.is_detrend,\n",
    "                             decimateRate=None, \n",
    "                             downRate=paras.downRate)\n",
    "        detCt.Screening(wh=paras.wh)\n",
    "        detCt()\n",
    "        detCt.TuningKappa(kps)\n",
    "        detCa.append(detCt)\n",
    "        \n",
    "    saveFil = f\"Ctrl_data_det_{idx}_lamb{paras.lamb:.1E}_decimate{paras.decimateRate:.0f}_tuning.pkl\"\n",
    "    with open(resDir/saveFil, \"wb\") as f:\n",
    "        pickle.dump(detCa, f)"
   ]
  },
  {
   "cell_type": "markdown",
   "metadata": {},
   "source": [
    "#### Run Main TVDN without tuning kappa\n",
    "\n",
    "Here we run the main results.\n",
    "We can update kappa later, so here I randomly use  a kappa. "
   ]
  },
  {
   "cell_type": "code",
   "execution_count": 12,
   "metadata": {},
   "outputs": [
    {
     "name": "stderr",
     "output_type": "stream",
     "text": [
      "  0%|          | 0/87 [00:00<?, ?it/s]R[write to console]: \n",
      "Attaching package: ‘signal’\n",
      "\n",
      "\n",
      "R[write to console]: The following objects are masked from ‘package:stats’:\n",
      "\n",
      "    filter, poly\n",
      "\n",
      "\n",
      "100%|██████████| 87/87 [43:39<00:00, 30.10s/it]  \n"
     ]
    }
   ],
   "source": [
    "for idx in tqdm(range(ADdatasets.shape[0])):\n",
    "    ADdataset = ADdatasets[idx, :, :]\n",
    "    detAD = TVDNDetect(Ymat=ADdataset, dataType=\"MEG\", \n",
    "                         saveDir=None, \n",
    "                         showProgress=False, \n",
    "                         fName=\"demoMEG\",\n",
    "                         MaxM=paras.MaxM,\n",
    "                         Lmin=paras.Lmin, \n",
    "                         lamb=paras.lamb, \n",
    "                         kappa=paras.kappa, \n",
    "                         freq=paras.freq,\n",
    "                         r=paras.r,\n",
    "                         T=paras.T,\n",
    "                         is_detrend=paras.is_detrend,\n",
    "                         decimateRate=paras.decimateRate, \n",
    "                         downRate=paras.downRate)\n",
    "    detAD.Screening(wh=paras.wh)\n",
    "    detAD()\n",
    "    detAD.TuningKappa(kps)\n",
    "    \n",
    "    saveFil = f\"AD_data_det_{idx}_lamb{paras.lamb:.1E}_decimate{paras.decimateRate:.0f}.pkl\"\n",
    "    with open(resDir/saveFil, \"wb\") as f:\n",
    "        pickle.dump(detAD, f)"
   ]
  },
  {
   "cell_type": "code",
   "execution_count": 60,
   "metadata": {},
   "outputs": [
    {
     "name": "stderr",
     "output_type": "stream",
     "text": [
      "  0%|          | 0/70 [00:00<?, ?it/s]R[write to console]: \n",
      "Attaching package: ‘signal’\n",
      "\n",
      "\n",
      "R[write to console]: The following objects are masked from ‘package:stats’:\n",
      "\n",
      "    filter, poly\n",
      "\n",
      "\n",
      "100%|██████████| 70/70 [30:17<00:00, 25.96s/it]\n"
     ]
    }
   ],
   "source": [
    "for idx in tqdm(range(Ctrldatasets.shape[0])):\n",
    "    Ctrldataset = Ctrldatasets[idx, :, :]\n",
    "    detC = TVDNDetect(Ymat=Ctrldataset, dataType=\"MEG\", \n",
    "                         saveDir=None, \n",
    "                         showProgress=False, \n",
    "                         fName=\"demoMEG\",\n",
    "                         MaxM=paras.MaxM,\n",
    "                         Lmin=paras.Lmin, \n",
    "                         lamb=paras.lamb, \n",
    "                         kappa=paras.kappa, \n",
    "                         freq=paras.freq,\n",
    "                         r=paras.r,\n",
    "                         T=paras.T,\n",
    "                         is_detrend=paras.is_detrend,\n",
    "                         decimateRate=paras.decimateRate, \n",
    "                         downRate=paras.downRate)\n",
    "    detC.Screening(wh=paras.wh)\n",
    "    detC()\n",
    "    detC.TuningKappa(kps)\n",
    "    \n",
    "    saveFil = f\"Ctrl_data_det_{idx}_lamb{paras.lamb:.1E}_decimate{paras.decimateRate:.0f}.pkl\"\n",
    "    with open(resDir/saveFil, \"wb\") as f:\n",
    "        pickle.dump(detC, f)"
   ]
  },
  {
   "cell_type": "markdown",
   "metadata": {},
   "source": [
    "### Save results\n",
    "\n",
    "**Order of the dataset matters**\n",
    "\n",
    "I save the results one by one, if you read then with `resDir.glob`, the order of the results is random. \n",
    "\n",
    "So I sort it with `sorted` function. \n",
    "\n",
    "But I think \n",
    "\n",
    "`sortedPs = sorted(ps, key=lambda p:int(p.stem.split(\"_\")[3]))` is not always compatible if you change the name of the files. \n",
    "\n",
    "I suggest you to print it out to check whether it works as you like or not. "
   ]
  },
  {
   "cell_type": "code",
   "execution_count": null,
   "metadata": {},
   "outputs": [],
   "source": [
    "detObjsNum = []\n",
    "ps = list(resDir.glob(\"AD_*04_decimate5_tuning.pkl\"))\n",
    "sortedPs = sorted(ps, key=lambda p:int(p.stem.split(\"_\")[3]))\n",
    "for fil in tqdm(sortedPs):\n",
    "    with open(fil, \"rb\") as f:\n",
    "        dets = pickle.load(f)\n",
    "    detObjsNum.append([det.numchgs for det in dets])\n",
    "    \n",
    "filName = f\"AD_data_lamb{dets[0].paras.lamb:.1E}_tuningNum.pkl\"\n",
    "with open(resDir/filName, \"wb\") as f:\n",
    "    pickle.dump(detObjsNum, f)"
   ]
  },
  {
   "cell_type": "code",
   "execution_count": 11,
   "metadata": {},
   "outputs": [
    {
     "name": "stderr",
     "output_type": "stream",
     "text": [
      "100%|██████████| 92/92 [12:07<00:00,  7.91s/it]\n"
     ]
    }
   ],
   "source": [
    "detObjsNumC = []\n",
    "ps = list(resDir.glob(\"Ctrl_*04_decimate5_tuning.pkl\"))\n",
    "sortedPs = sorted(ps, key=lambda p:int(p.stem.split(\"_\")[3]))\n",
    "for fil in tqdm(sortedPs):\n",
    "    \n",
    "    with open(fil, \"rb\") as f:\n",
    "        dets = pickle.load(f)\n",
    "    detObjsNumC.append([det.numchgs for det in dets])\n",
    "    \n",
    "filName = f\"Ctrl_data_lamb{dets[0].paras.lamb:.1E}_tuningNum.pkl\"\n",
    "with open(resDir/filName, \"wb\") as f:\n",
    "    pickle.dump(detObjsNumC, f)"
   ]
  },
  {
   "cell_type": "code",
   "execution_count": 13,
   "metadata": {},
   "outputs": [
    {
     "name": "stderr",
     "output_type": "stream",
     "text": [
      "100%|██████████| 88/88 [02:38<00:00,  1.80s/it]\n"
     ]
    }
   ],
   "source": [
    "numchgss = []\n",
    "ps = list(resDir.glob(\"AD_*04_decimate5.pkl\"))\n",
    "sortedPs = sorted(ps, key=lambda p:int(p.stem.split(\"_\")[3]))\n",
    "for fil in tqdm(sortedPs):\n",
    "    with open(fil, \"rb\") as f:\n",
    "        det = pickle.load(f)\n",
    "    numchgss.append(det.numchgs)\n",
    "    \n",
    "filName = f\"AD_data_lamb{det.paras.lamb:.1E}_Num.pkl\"\n",
    "with open(resDir/filName, \"wb\") as f:\n",
    "    pickle.dump(numchgss, f)"
   ]
  },
  {
   "cell_type": "code",
   "execution_count": 14,
   "metadata": {},
   "outputs": [
    {
     "name": "stderr",
     "output_type": "stream",
     "text": [
      "100%|██████████| 92/92 [02:28<00:00,  1.61s/it]\n"
     ]
    }
   ],
   "source": [
    "numchgss = []\n",
    "ps = list(resDir.glob(\"Ctrl_*04_decimate5.pkl\"))\n",
    "sortedPs = sorted(ps, key=lambda p:int(p.stem.split(\"_\")[3]))\n",
    "for fil in tqdm(sortedPs):\n",
    "    with open(fil, \"rb\") as f:\n",
    "        det = pickle.load(f)\n",
    "    numchgss.append(det.numchgs)\n",
    "    \n",
    "filName = f\"Ctrl_data_lamb{det.paras.lamb:.1E}_Num.pkl\"\n",
    "with open(resDir/filName, \"wb\") as f:\n",
    "    pickle.dump(numchgss, f)"
   ]
  },
  {
   "cell_type": "markdown",
   "metadata": {},
   "source": [
    "## Find the optimal kappa by Ctrl group\n",
    "\n",
    "- The kappa tuning relys on your prior belief about the number of switch points.\n",
    "So you may tune `lowCpts` and `upCpts` if you like. \n",
    "- But I think `upCpts` does not matter a lot.\n",
    "You may focus on `lowCpts`. \n"
   ]
  },
  {
   "cell_type": "code",
   "execution_count": null,
   "metadata": {},
   "outputs": [],
   "source": [
    "fil = list(resDir.glob(\"Ctrl_*_tuningNum.pkl\"))[0]\n",
    "with open(fil, \"rb\") as f:\n",
    "    nchgAll = pickle.load(f)"
   ]
  },
  {
   "cell_type": "code",
   "execution_count": null,
   "metadata": {},
   "outputs": [],
   "source": [
    "nchgsMeans = [np.array(detObjNum).mean(axis=0) for detObjNum in nchgAll]\n",
    "nchgsVars = [np.array(detObjNum).var(axis=0) for detObjNum in nchgAll]"
   ]
  },
  {
   "cell_type": "code",
   "execution_count": null,
   "metadata": {},
   "outputs": [],
   "source": [
    "lowCpts = 3 # lower bound of number of switches\n",
    "upCpts = 19 # upper bound of number of switches\n",
    "kps = np.linspace(1, 4, 1000)\n",
    "nchgsMM = np.array(nchgsMeans).mean(axis=0)\n",
    "nchgsVarM = np.array(nchgsVars).mean(axis=0)\n",
    "idxs = np.bitwise_and(nchgsMM >=lowCpts, nchgsMM <=upCpts)\n",
    "optIdx = np.where(idxs)[0][0] + np.where((nchgsVarM[idxs].min() == nchgsVarM)[idxs])[0][-1]"
   ]
  },
  {
   "cell_type": "code",
   "execution_count": null,
   "metadata": {},
   "outputs": [],
   "source": [
    "# it is the kappa tuned\n",
    "optKp = kps[optIdx]\n",
    "print(optKp)"
   ]
  },
  {
   "cell_type": "markdown",
   "metadata": {},
   "source": [
    "## Update the kappa\n",
    "\n",
    "Plz notice the order of your results when loading them"
   ]
  },
  {
   "cell_type": "markdown",
   "metadata": {},
   "source": [
    "### The number of switches "
   ]
  },
  {
   "cell_type": "code",
   "execution_count": null,
   "metadata": {},
   "outputs": [],
   "source": [
    "ecptss = []\n",
    "ps = list(resDir.glob(\"Ctrl_*04_decimate5.pkl\"))\n",
    "sortedPs = sorted(ps, key=lambda p:int(p.stem.split(\"_\")[3]))\n",
    "for fil in tqdm(sortedPs):\n",
    "    with open(fil, \"rb\") as f:\n",
    "        det = pickle.load(f)\n",
    "    det.UpdateEcpts(det.numchgs[kps==optKp][0])\n",
    "    ecptss.append(det.ecpts)\n",
    "filName = f\"Ctrl_data_lamb{det.paras.lamb:.1E}_ecpts.pkl\"\n",
    "with open(resDir/filName, \"wb\") as f:\n",
    "    pickle.dump(ecptss, f)"
   ]
  },
  {
   "cell_type": "code",
   "execution_count": null,
   "metadata": {},
   "outputs": [],
   "source": [
    "ecptss = []\n",
    "ps = list(resDir.glob(\"AD_*04_decimate5.pkl\"))\n",
    "sortedPs = sorted(ps, key=lambda p:int(p.stem.split(\"_\")[3]))\n",
    "for fil in tqdm(sortedPs):\n",
    "    with open(fil, \"rb\") as f:\n",
    "        det = pickle.load(f)\n",
    "    det.UpdateEcpts(det.numchgs[kps==optKp][0])\n",
    "    ecptss.append(det.ecpts)\n",
    "filName = f\"AD_data_lamb{det.paras.lamb:.1E}_ecpts.pkl\"\n",
    "with open(resDir/filName, \"wb\") as f:\n",
    "    pickle.dump(ecptss, f)"
   ]
  },
  {
   "cell_type": "markdown",
   "metadata": {},
   "source": [
    "### Eigen value and modes"
   ]
  },
  {
   "cell_type": "code",
   "execution_count": null,
   "metadata": {},
   "outputs": [],
   "source": [
    "def GetFeatures(det):\n",
    "    \"\"\"\n",
    "    obtain the eigvals and eigvectors for current ecpts\n",
    "    \"\"\"\n",
    "    if det.RecResCur is None:\n",
    "        det.GetRecResCur()\n",
    "    Ur = det.midRes.eigVecs[:, :det.paras.r]\n",
    "        \n",
    "    lamMs = []\n",
    "    for idx, ecpt in enumerate(np.concatenate([[0], det.ecpts])):\n",
    "        lamM = det.RecResCur.LamMs[:, int(ecpt)]\n",
    "        lamMs.append(lamM)\n",
    "    \n",
    "    det.curEigVecs = Ur\n",
    "    det.curEigVals = lamMs"
   ]
  },
  {
   "cell_type": "code",
   "execution_count": null,
   "metadata": {},
   "outputs": [],
   "source": [
    "eigVecss = []\n",
    "eigValss = []\n",
    "ps = list(resDir.glob(\"Ctrl_*04_decimate5.pkl\"))\n",
    "sortedPs = sorted(ps, key=lambda p:int(p.stem.split(\"_\")[3]))\n",
    "for fil in tqdm(sortedPs):\n",
    "    with open(fil, \"rb\") as f:\n",
    "        det = pickle.load(f)\n",
    "    det.UpdateEcpts(det.numchgs[kps==optKp][0])\n",
    "    GetFeatures(det)\n",
    "    eigVecss.append(det.curEigVecs)\n",
    "    eigValss.append(det.curEigVals)\n",
    "filNameVecs = f\"Ctrl_data_lamb{det.paras.lamb:.1E}_eigVecs.pkl\"\n",
    "filNameVals = f\"Ctrl_data_lamb{det.paras.lamb:.1E}_eigVals.pkl\"\n",
    "with open(resDir/filNameVecs, \"wb\") as f:\n",
    "    pickle.dump(eigVecss, f)\n",
    "with open(resDir/filNameVals, \"wb\") as f:\n",
    "    pickle.dump(eigValss, f)"
   ]
  },
  {
   "cell_type": "code",
   "execution_count": null,
   "metadata": {},
   "outputs": [],
   "source": [
    "eigVecss = []\n",
    "eigValss = []\n",
    "ps = list(resDir.glob(\"AD_*04_decimate5.pkl\"))\n",
    "sortedPs = sorted(ps, key=lambda p:int(p.stem.split(\"_\")[3]))\n",
    "for fil in tqdm(sortedPs):\n",
    "    with open(fil, \"rb\") as f:\n",
    "        det = pickle.load(f)\n",
    "    det.UpdateEcpts(det.numchgs[kps==optKp][0])\n",
    "    GetFeatures(det)\n",
    "    eigVecss.append(det.curEigVecs)\n",
    "    eigValss.append(det.curEigVals)\n",
    "filNameVecs = f\"AD_data_lamb{det.paras.lamb:.1E}_eigVecs.pkl\"\n",
    "filNameVals = f\"AD_data_lamb{det.paras.lamb:.1E}_eigVals.pkl\"\n",
    "with open(resDir/filNameVecs, \"wb\") as f:\n",
    "    pickle.dump(eigVecss, f)\n",
    "with open(resDir/filNameVals, \"wb\") as f:\n",
    "    pickle.dump(eigValss, f)"
   ]
  }
 ],
 "metadata": {
  "kernelspec": {
   "display_name": "Python 3",
   "language": "python",
   "name": "python3"
  },
  "language_info": {
   "codemirror_mode": {
    "name": "ipython",
    "version": 3
   },
   "file_extension": ".py",
   "mimetype": "text/x-python",
   "name": "python",
   "nbconvert_exporter": "python",
   "pygments_lexer": "ipython3",
   "version": "3.7.4"
  },
  "toc": {
   "base_numbering": 1,
   "nav_menu": {},
   "number_sections": true,
   "sideBar": true,
   "skip_h1_title": false,
   "title_cell": "Table of Contents",
   "title_sidebar": "Contents",
   "toc_cell": false,
   "toc_position": {
    "height": "calc(100% - 180px)",
    "left": "10px",
    "top": "150px",
    "width": "384px"
   },
   "toc_section_display": true,
   "toc_window_display": true
  },
  "varInspector": {
   "cols": {
    "lenName": 16,
    "lenType": 16,
    "lenVar": 40
   },
   "kernels_config": {
    "python": {
     "delete_cmd_postfix": "",
     "delete_cmd_prefix": "del ",
     "library": "var_list.py",
     "varRefreshCmd": "print(var_dic_list())"
    },
    "r": {
     "delete_cmd_postfix": ") ",
     "delete_cmd_prefix": "rm(",
     "library": "var_list.r",
     "varRefreshCmd": "cat(var_dic_list()) "
    }
   },
   "types_to_exclude": [
    "module",
    "function",
    "builtin_function_or_method",
    "instance",
    "_Feature"
   ],
   "window_display": false
  }
 },
 "nbformat": 4,
 "nbformat_minor": 2
}
