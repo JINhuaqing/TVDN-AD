{
 "cells": [
  {
   "cell_type": "code",
   "execution_count": 4,
   "metadata": {},
   "outputs": [],
   "source": [
    "import sys\n",
    "sys.path.append(\"/home/huaqingj/MyResearch/AD_control_data/TVDN\")"
   ]
  },
  {
   "cell_type": "code",
   "execution_count": 5,
   "metadata": {},
   "outputs": [],
   "source": [
    "from pyTVDN import TVDNDetect\n",
    "from pathlib import Path\n",
    "from scipy.io import loadmat\n",
    "import numpy as np\n",
    "from easydict import EasyDict as edict\n",
    "import matplotlib.pyplot as plt\n",
    "import os\n",
    "import scipy.stats as ss\n",
    "from scipy import signal\n",
    "from tqdm import tqdm\n",
    "import pickle\n",
    "import seaborn as sns\n",
    "import numbers\n",
    "%matplotlib inline"
   ]
  },
  {
   "cell_type": "code",
   "execution_count": 6,
   "metadata": {},
   "outputs": [],
   "source": [
    "regionNamesRaw  =\"\"\"\n",
    "ctx-lh-bankssts\n",
    "ctx-lh-caudalanteriorcingulate\n",
    "ctx-lh-caudalmiddlefrontal\n",
    "ctx-lh-cuneus\n",
    "ctx-lh-entorhinal\n",
    "ctx-lh-frontalpole\n",
    "ctx-lh-fusiform\n",
    "ctx-lh-inferiorparietal\n",
    "ctx-lh-inferiortemporal\n",
    "ctx-lh-insula\n",
    "ctx-lh-isthmuscingulate\n",
    "ctx-lh-lateraloccipital\n",
    "ctx-lh-lateralorbitofrontal\n",
    "ctx-lh-lingual\n",
    "ctx-lh-medialorbitofrontal\n",
    "ctx-lh-middletemporal\n",
    "ctx-lh-paracentral\n",
    "ctx-lh-parahippocampal\n",
    "ctx-lh-parsopercularis\n",
    "ctx-lh-parsorbitalis\n",
    "ctx-lh-parstriangularis\n",
    "ctx-lh-pericalcarine\n",
    "ctx-lh-postcentral\n",
    "ctx-lh-posteriorcingulate\n",
    "ctx-lh-precentral\n",
    "ctx-lh-precuneus\n",
    "ctx-lh-rostralanteriorcingulate\n",
    "ctx-lh-rostralmiddlefrontal\n",
    "ctx-lh-superiorfrontal\n",
    "ctx-lh-superiorparietal\n",
    "ctx-lh-superiortemporal\n",
    "ctx-lh-supramarginal\n",
    "ctx-lh-temporalpole\n",
    "ctx-lh-transversetemporal\n",
    "ctx-rh-bankssts\n",
    "ctx-rh-caudalanteriorcingulate\n",
    "ctx-rh-caudalmiddlefrontal\n",
    "ctx-rh-cuneus\n",
    "ctx-rh-entorhinal\n",
    "ctx-rh-frontalpole\n",
    "ctx-rh-fusiform\n",
    "ctx-rh-inferiorparietal\n",
    "ctx-rh-inferiortemporal\n",
    "ctx-rh-insula\n",
    "ctx-rh-isthmuscingulate\n",
    "ctx-rh-lateraloccipital\n",
    "ctx-rh-lateralorbitofrontal\n",
    "ctx-rh-lingual\n",
    "ctx-rh-medialorbitofrontal\n",
    "ctx-rh-middletemporal\n",
    "ctx-rh-paracentral\n",
    "ctx-rh-parahippocampal\n",
    "ctx-rh-parsopercularis\n",
    "ctx-rh-parsorbitalis\n",
    "ctx-rh-parstriangularis\n",
    "ctx-rh-pericalcarine\n",
    "ctx-rh-postcentral\n",
    "ctx-rh-posteriorcingulate\n",
    "ctx-rh-precentral\n",
    "ctx-rh-precuneus\n",
    "ctx-rh-rostralanteriorcingulate\n",
    "ctx-rh-rostralmiddlefrontal\n",
    "ctx-rh-superiorfrontal\n",
    "ctx-rh-superiorparietal\n",
    "ctx-rh-superiortemporal\n",
    "ctx-rh-supramarginal\n",
    "ctx-rh-temporalpole\n",
    "ctx-rh-transversetemporal\n",
    "\"\"\"\n",
    "regionNames = [i.strip()[4].title() + i.strip()[6:].title() for i in regionNamesRaw.split(\"\\n\") if len(i.strip())>0]"
   ]
  },
  {
   "cell_type": "code",
   "execution_count": 7,
   "metadata": {},
   "outputs": [],
   "source": [
    "os.chdir(\"/home/huaqingj/MyResearch/AD_control_data/TVDN\")\n",
    "resDir = Path(\"./results\")\n",
    "dataDir = Path(\"./data\")"
   ]
  },
  {
   "cell_type": "markdown",
   "metadata": {},
   "source": [
    "##  Results when num of cpts >=1"
   ]
  },
  {
   "cell_type": "code",
   "execution_count": 8,
   "metadata": {},
   "outputs": [],
   "source": [
    "# ecpts\n",
    "fil = list(resDir.glob(\"AD*_ecpts.pkl\"))[0]\n",
    "with open(fil, \"rb\") as f:\n",
    "    ecptssAD = pickle.load(f)\n",
    "fil = list(resDir.glob(\"Ctrl*_ecpts.pkl\"))[0]\n",
    "with open(fil, \"rb\") as f:\n",
    "    ecptssCtrl = pickle.load(f)"
   ]
  },
  {
   "cell_type": "code",
   "execution_count": 9,
   "metadata": {},
   "outputs": [],
   "source": [
    "# Eigvals\n",
    "fil = list(resDir.glob(\"AD*_eigVals.pkl\"))[0]\n",
    "with open(fil, \"rb\") as f:\n",
    "    eigValsAD = pickle.load(f)\n",
    "fil = list(resDir.glob(\"Ctrl*_eigVals.pkl\"))[0]\n",
    "with open(fil, \"rb\") as f:\n",
    "    eigValsCtrl = pickle.load(f)"
   ]
  },
  {
   "cell_type": "code",
   "execution_count": 10,
   "metadata": {},
   "outputs": [],
   "source": [
    "eigValsAD = [eigValsAD[i] for i in range(len(eigValsAD)) if len(ecptssAD[i]) >=1]\n",
    "eigValsCtrl = [eigValsCtrl[i] for i in range(len(eigValsCtrl)) if len(ecptssCtrl[i]) >=1]"
   ]
  },
  {
   "cell_type": "code",
   "execution_count": 11,
   "metadata": {},
   "outputs": [],
   "source": [
    "fil = list(resDir.glob(\"AD*_eigVecs.pkl\"))[0]\n",
    "with open(fil, \"rb\") as f:\n",
    "    eigVecsAD = pickle.load(f)\n",
    "fil = list(resDir.glob(\"Ctrl*_eigVecs.pkl\"))[0]\n",
    "with open(fil, \"rb\") as f:\n",
    "    eigVecsCtrl = pickle.load(f)"
   ]
  },
  {
   "cell_type": "code",
   "execution_count": 12,
   "metadata": {},
   "outputs": [],
   "source": [
    "eigVecsAD = [eigVecsAD[i] for i in range(len(eigVecsAD)) if len(ecptssAD[i]) >=1]\n",
    "eigVecsCtrl = [eigVecsCtrl[i] for i in range(len(eigVecsCtrl)) if len(ecptssCtrl[i]) >=1]"
   ]
  },
  {
   "cell_type": "code",
   "execution_count": 13,
   "metadata": {},
   "outputs": [],
   "source": [
    "ecptssCtrl = [ i for i in ecptssCtrl if len(i)>=1]\n",
    "ecptssAD = [ i for i in ecptssAD if len(i)>=1]"
   ]
  },
  {
   "cell_type": "code",
   "execution_count": 14,
   "metadata": {},
   "outputs": [],
   "source": [
    "# Dwell times in second\n",
    "freq = 120\n",
    "dwellsAD = [np.diff(np.concatenate([[0], ecpts, [7200]])/freq) for ecpts in ecptssAD]\n",
    "dwellsCtrl = [np.diff(np.concatenate([[0], ecpts, [7200]])/freq) for ecpts in ecptssCtrl]"
   ]
  },
  {
   "cell_type": "code",
   "execution_count": 15,
   "metadata": {},
   "outputs": [],
   "source": [
    "import pandas as pd\n",
    "def minmax(x):\n",
    "    num = x - np.min(x)\n",
    "    den = np.max(x) - np.min(x)\n",
    "    return num/den\n",
    "\n",
    "fcR = pd.read_csv('./DK_dic68.csv').set_index('Unnamed: 0')\n",
    "rowNames = list(fcR.index)\n",
    "colNames = np.array(fcR.columns)\n",
    "\n",
    "fcRarr = np.array(fcR)\n",
    "\n",
    "# minmax \n",
    "fcRarrMM = np.zeros_like(fcRarr)\n",
    "for i, fcRar in enumerate(fcRarr):\n",
    "    lh = minmax(fcRar[:34])\n",
    "    rh = minmax(fcRar[34:])\n",
    "    fcRarrMM[i, :34] = lh\n",
    "    fcRarrMM[i, 34:] = rh"
   ]
  },
  {
   "cell_type": "markdown",
   "metadata": {},
   "source": [
    "**List of features** \n",
    "\n",
    "- Num of ecpts\n",
    "\n",
    "- The mean dwell time (in second)\n",
    "\n",
    "- Eigval with largest mode for the segment with the maximal dwell time\n",
    "\n",
    "- EigVecs weighted by the eigvals for the segment with the maximal dwell time\n"
   ]
  },
  {
   "cell_type": "code",
   "execution_count": 16,
   "metadata": {},
   "outputs": [],
   "source": [
    "ecptss = ecptssAD\n",
    "dwells = dwellsAD\n",
    "eigVals = eigValsAD\n",
    "eigVecs = eigVecsAD\n",
    "\n",
    "fsAll = []\n",
    "for i in range(len(ecptss)):\n",
    "    fs = edict()\n",
    "    dwell = dwells[i]\n",
    "    fs.ncpts = len(ecptss[i])\n",
    "    fs.meanDwell = np.mean(dwell)\n",
    "    fs.maxDwell = np.max(dwell)\n",
    "    fs.minDwell = np.min(dwell)\n",
    "    \n",
    "    eigVal = eigVals[i]\n",
    "    \n",
    "    idx = np.argmax(dwell)\n",
    "    idx2 = np.where((-dwell).argsort().argsort()==1)[0][0]\n",
    "    \n",
    "    maxEigVal = eigVal[idx]\n",
    "    fs.maxEigVal = maxEigVal[np.argmax(np.abs(maxEigVal))]\n",
    "    fs.maxEigValMode = np.abs(maxEigVal[np.argmax(np.abs(maxEigVal))])\n",
    "    fs.maxEigValReal = np.abs(maxEigVal[np.argmax(np.abs(maxEigVal))].real)\n",
    "    fs.maxEigValImag = np.abs(maxEigVal[np.argmax(np.abs(maxEigVal))].imag)\n",
    "    \n",
    "    \n",
    "    tmp = maxEigVal.copy()\n",
    "    tmp[np.abs(maxEigVal) == np.max(np.abs(maxEigVal))] = 0\n",
    "    fs.max2EigVal = tmp[np.argmax(np.abs(tmp))]\n",
    "    fs.max2EigValMode = np.abs(tmp[np.argmax(np.abs(tmp))])\n",
    "    fs.max2EigValReal = np.abs(tmp[np.argmax(np.abs(tmp))].real)\n",
    "    fs.max2EigValImag = np.abs(tmp[np.argmax(np.abs(tmp))].imag)\n",
    "    \n",
    "    fs.maxwU = np.abs(np.matmul(eigVecs[i], maxEigVal))\n",
    "    fs.maxwUnorm = np.linalg.norm(fs.maxwU)\n",
    "    maxwUMM = np.zeros_like(fs.maxwU)\n",
    "    maxwUMM[:34] = minmax(fs.maxwU[:34])\n",
    "    maxwUMM[34:] = minmax(fs.maxwU[34:])\n",
    "    fs.maxwUcorrs = []\n",
    "    for ix in range(fcRarrMM.shape[0]):\n",
    "        fcRarrMMcur = fcRarrMM[ix, :]\n",
    "        fs.maxwUcorrs.append(ss.pearsonr(fcRarrMM[ix, :], maxwUMM)[0])\n",
    "        \n",
    "    fs.maxwU2 = np.abs(np.matmul(eigVecs[i], eigVal[idx2]))\n",
    "    fs.maxwU2norm = np.linalg.norm(fs.maxwU2)\n",
    "    \n",
    "    fs.maxU = eigVecs[i][:, np.argmax(np.abs(maxEigVal))]\n",
    "    fs.maxUnorm = np.linalg.norm(fs.maxU)\n",
    "    fs.maxUMode = np.abs(eigVecs[i][:, np.argmax(np.abs(maxEigVal))])\n",
    "    fs.maxUReal = np.abs(eigVecs[i][:, np.argmax(np.abs(maxEigVal))].real)\n",
    "    fs.maxUImag = np.abs(eigVecs[i][:, np.argmax(np.abs(maxEigVal))].imag)\n",
    "    maxUMM = np.zeros_like(fs.maxUMode)\n",
    "    maxUMM[:34] = minmax(fs.maxUMode[:34])\n",
    "    maxUMM[34:] = minmax(fs.maxUMode[34:])\n",
    "    fs.maxUcorrs = []\n",
    "    for ix in range(fcRarrMM.shape[0]):\n",
    "        fcRarrMMcur = fcRarrMM[ix, :]\n",
    "        fs.maxUcorrs.append(ss.pearsonr(fcRarrMM[ix, :], maxUMM)[0])\n",
    "    \n",
    "    fs.r  = len(maxEigVal)\n",
    "    \n",
    "    fsAll.append(fs)\n",
    "    \n",
    "fsAD = fsAll    "
   ]
  },
  {
   "cell_type": "code",
   "execution_count": 17,
   "metadata": {},
   "outputs": [],
   "source": [
    "ecptss = ecptssCtrl\n",
    "dwells = dwellsCtrl\n",
    "eigVals = eigValsCtrl\n",
    "eigVecs = eigVecsCtrl\n",
    "\n",
    "fsAll = []\n",
    "for i in range(len(ecptss)):\n",
    "    fs = edict()\n",
    "    dwell = dwells[i]\n",
    "    fs.ncpts = len(ecptss[i])\n",
    "    fs.meanDwell = np.mean(dwell)\n",
    "    fs.maxDwell = np.max(dwell)\n",
    "    fs.minDwell = np.min(dwell)\n",
    "    \n",
    "    eigVal = eigVals[i]\n",
    "    \n",
    "    idx = np.argmax(dwell)\n",
    "    idx2 = np.where((-dwell).argsort().argsort()==1)[0][0]\n",
    "    \n",
    "    maxEigVal = eigVal[idx]\n",
    "    fs.maxEigVal = maxEigVal[np.argmax(np.abs(maxEigVal))]\n",
    "    fs.maxEigValMode = np.abs(maxEigVal[np.argmax(np.abs(maxEigVal))])\n",
    "    fs.maxEigValReal = np.abs(maxEigVal[np.argmax(np.abs(maxEigVal))].real)\n",
    "    fs.maxEigValImag = np.abs(maxEigVal[np.argmax(np.abs(maxEigVal))].imag)\n",
    "    \n",
    "    \n",
    "    tmp = maxEigVal.copy()\n",
    "    tmp[np.abs(maxEigVal) == np.max(np.abs(maxEigVal))] = 0\n",
    "    fs.max2EigVal = tmp[np.argmax(np.abs(tmp))]\n",
    "    fs.max2EigValMode = np.abs(tmp[np.argmax(np.abs(tmp))])\n",
    "    fs.max2EigValReal = np.abs(tmp[np.argmax(np.abs(tmp))].real)\n",
    "    fs.max2EigValImag = np.abs(tmp[np.argmax(np.abs(tmp))].imag)\n",
    "    \n",
    "    fs.maxwU = np.abs(np.matmul(eigVecs[i], maxEigVal))\n",
    "    fs.maxwUnorm = np.linalg.norm(fs.maxwU)\n",
    "    maxwUMM = np.zeros_like(fs.maxwU)\n",
    "    maxwUMM[:34] = minmax(fs.maxwU[:34])\n",
    "    maxwUMM[34:] = minmax(fs.maxwU[34:])\n",
    "    fs.maxwUcorrs = []\n",
    "    for ix in range(fcRarrMM.shape[0]):\n",
    "        fcRarrMMcur = fcRarrMM[ix, :]\n",
    "        fs.maxwUcorrs.append(ss.pearsonr(fcRarrMM[ix, :], maxwUMM)[0])\n",
    "        \n",
    "    fs.maxwU2 = np.abs(np.matmul(eigVecs[i], eigVal[idx2]))\n",
    "    fs.maxwU2norm = np.linalg.norm(fs.maxwU2)\n",
    "    \n",
    "    fs.maxU = eigVecs[i][:, np.argmax(np.abs(maxEigVal))]\n",
    "    fs.maxUnorm = np.linalg.norm(fs.maxU)\n",
    "    fs.maxUMode = np.abs(eigVecs[i][:, np.argmax(np.abs(maxEigVal))])\n",
    "    fs.maxUReal = np.abs(eigVecs[i][:, np.argmax(np.abs(maxEigVal))].real)\n",
    "    fs.maxUImag = np.abs(eigVecs[i][:, np.argmax(np.abs(maxEigVal))].imag)\n",
    "    maxUMM = np.zeros_like(fs.maxUMode)\n",
    "    maxUMM[:34] = minmax(fs.maxUMode[:34])\n",
    "    maxUMM[34:] = minmax(fs.maxUMode[34:])\n",
    "    fs.maxUcorrs = []\n",
    "    for ix in range(fcRarrMM.shape[0]):\n",
    "        fcRarrMMcur = fcRarrMM[ix, :]\n",
    "        fs.maxUcorrs.append(ss.pearsonr(fcRarrMM[ix, :], maxUMM)[0])\n",
    "    \n",
    "    fs.r  = len(maxEigVal)\n",
    "    \n",
    "    fsAll.append(fs)\n",
    "    \n",
    "fsCtrl = fsAll    "
   ]
  },
  {
   "cell_type": "code",
   "execution_count": 18,
   "metadata": {},
   "outputs": [],
   "source": [
    "Ys = np.concatenate([np.ones(len(fsAD)), np.zeros(len(fsCtrl))])\n",
    "#fsName = [\"r\", \"maxwU\"]\n",
    "fsName = [\"r\", \"ncpts\", \"maxwU\", \"maxwU2\"]\n",
    "XsAD = []\n",
    "XsCtrl = []\n",
    "for fName in fsName:\n",
    "    if isinstance(fsAD[0][fName], numbers.Number):\n",
    "        cfAD = np.array([fs[fName] for fs in fsAD]).reshape(-1, 1)\n",
    "        cfCtrl = np.array([fs[fName] for fs in fsCtrl]).reshape(-1, 1)\n",
    "    else:\n",
    "        cfAD = np.array([fs[fName] for fs in fsAD])\n",
    "        cfCtrl = np.array([fs[fName] for fs in fsCtrl])\n",
    "    \n",
    "    XsAD.append(cfAD)\n",
    "    XsCtrl.append(cfCtrl)\n",
    "XsAD = np.concatenate(XsAD, axis=1)\n",
    "XsCtrl = np.concatenate(XsCtrl, axis=1)\n",
    "Xs = np.concatenate([XsAD, XsCtrl], axis=0)"
   ]
  },
  {
   "cell_type": "code",
   "execution_count": 19,
   "metadata": {},
   "outputs": [],
   "source": [
    "stdXs = (Xs - Xs.mean(axis=0))/Xs.std(axis=0)"
   ]
  },
  {
   "cell_type": "code",
   "execution_count": 21,
   "metadata": {},
   "outputs": [],
   "source": [
    "from sklearn.linear_model import LogisticRegression\n",
    "from sklearn.ensemble import GradientBoostingClassifier as GBC\n",
    "from sklearn.model_selection import LeaveOneOut\n",
    "from sklearn.metrics import roc_auc_score, roc_curve\n",
    "\n",
    "import warnings\n",
    "warnings.filterwarnings('ignore')"
   ]
  },
  {
   "cell_type": "code",
   "execution_count": 22,
   "metadata": {},
   "outputs": [],
   "source": [
    "Cs = [0.1, 0.2, 0.4, 0.8, 1, 1.6, 3.2, 6.4]\n",
    "aucCs = []\n",
    "for C in Cs:\n",
    "    eProbs = []\n",
    "    loo = LeaveOneOut()\n",
    "    for trIdxs, testIdxs in loo.split(stdXs):\n",
    "        clf = LogisticRegression(penalty=\"l1\", random_state=0, C=C)\n",
    "        clf.fit(stdXs[trIdxs, :], Ys[trIdxs])\n",
    "        eProbs.append(clf.predict_proba(stdXs[testIdxs, :]))\n",
    "    eProbs = np.array(eProbs).squeeze()\n",
    "    auc = roc_auc_score(Ys, eProbs[:, 1])\n",
    "    fpr, tpr, thresholds = roc_curve(Ys, eProbs[:, 1], pos_label=1)\n",
    "    aucCs.append(auc)"
   ]
  },
  {
   "cell_type": "code",
   "execution_count": 23,
   "metadata": {},
   "outputs": [
    {
     "data": {
      "text/plain": [
       "Text(0, 0.5, 'AUC')"
      ]
     },
     "execution_count": 23,
     "metadata": {},
     "output_type": "execute_result"
    },
    {
     "data": {
      "image/png": "[encoded data removed]",
      "text/plain": [
       "<Figure size 360x360 with 1 Axes>"
      ]
     },
     "metadata": {
      "needs_background": "light"
     },
     "output_type": "display_data"
    }
   ],
   "source": [
    "plt.figure(figsize=[5, 5])\n",
    "plt.plot(Cs, aucCs)\n",
    "plt.xscale(\"log\")\n",
    "plt.xlabel(\"C\")\n",
    "plt.ylabel(\"AUC\")"
   ]
  },
  {
   "cell_type": "code",
   "execution_count": 24,
   "metadata": {},
   "outputs": [
    {
     "name": "stdout",
     "output_type": "stream",
     "text": [
      "0.7857142857142858\n"
     ]
    }
   ],
   "source": [
    "optC = Cs[np.argmax(aucCs)]\n",
    "eProbs = []\n",
    "loo = LeaveOneOut()\n",
    "parass = []\n",
    "for trIdxs, testIdxs in loo.split(stdXs):\n",
    "    #clf = GBC(n_estimators=50, random_state=0, max_depth=2, learning_rate=0.1)\n",
    "    clf = LogisticRegression(penalty=\"l1\", random_state=0, C=optC)\n",
    "    clf.fit(stdXs[trIdxs, :], Ys[trIdxs])\n",
    "    paras = clf.coef_.reshape(-1)\n",
    "    parass.append(paras)\n",
    "    eProbs.append(clf.predict_proba(stdXs[testIdxs, :]))\n",
    "eProbs = np.array(eProbs).squeeze()\n",
    "auc = roc_auc_score(Ys, eProbs[:, 1])\n",
    "fpr, tpr, thresholds = roc_curve(Ys, eProbs[:, 1], pos_label=1)\n",
    "parass = np.array(parass)\n",
    "print(auc)"
   ]
  },
  {
   "cell_type": "code",
   "execution_count": 25,
   "metadata": {},
   "outputs": [
    {
     "data": {
      "image/png": "[encoded data removed]",
      "text/plain": [
       "<Figure size 1080x288 with 1 Axes>"
      ]
     },
     "metadata": {
      "needs_background": "light"
     },
     "output_type": "display_data"
    }
   ],
   "source": [
    "lows, ups = np.quantile(parass[:, :], [0.025, 0.975], axis=0)\n",
    "kpidx = np.bitwise_and(lows !=0,  ups != 0)\n",
    "kpidxId = np.where(kpidx)[0]\n",
    "\n",
    "xlabs = np.concatenate([[\"Rank\", \"Num of cpts\"], regionNames, [name + \"-2\" for name in regionNames]])\n",
    "plt.figure(figsize=[15, 4])\n",
    "plt.fill_between(list(range(len(lows))), lows, ups, color=\"red\", alpha=.5)\n",
    "plt.title(\"The 95% CI of the parameters\")\n",
    "_ = plt.xticks(kpidxId, xlabs[kpidxId], rotation=30, fontsize=8)\n",
    "plt.savefig(\"./plots/lassoSelM1.jpg\", bbox_inches='tight')"
   ]
  },
  {
   "cell_type": "code",
   "execution_count": 26,
   "metadata": {},
   "outputs": [
    {
     "data": {
      "image/png": "[encoded data removed]",
      "text/plain": [
       "<Figure size 1080x288 with 1 Axes>"
      ]
     },
     "metadata": {
      "needs_background": "light"
     },
     "output_type": "display_data"
    }
   ],
   "source": [
    "import matplotlib.cbook as cbook\n",
    "fig, ax = plt.subplots(1, 1, figsize=[15, 4])\n",
    "stats = []\n",
    "for idx, nam in enumerate(xlabs):\n",
    "    stats.append(cbook.boxplot_stats(parass[:, idx], labels=[nam])[0])\n",
    "    stats[idx][\"q1\"], stats[idx][\"q3\"] = np.percentile(parass[:, idx], [2.5, 97.5])\n",
    "    stats[idx][\"whishi\"], stats[idx][\"whislo\"] = np.max(parass[:, idx]), np.min(parass[:, idx])\n",
    "    stats[idx][\"med\"] = stats[idx][\"mean\"]\n",
    "ax.bxp(stats, positions=range(len(lows)), showfliers=False)    \n",
    "plt.title(\"The boxplot of the parameters\")\n",
    "_ = plt.xticks(kpidxId, xlabs[kpidxId], rotation=30, fontsize=8)\n",
    "plt.savefig(\"./plots/lassoSelM1.jpg\", bbox_inches='tight')"
   ]
  },
  {
   "cell_type": "code",
   "execution_count": 27,
   "metadata": {},
   "outputs": [
    {
     "name": "stdout",
     "output_type": "stream",
     "text": [
      "Optimization terminated successfully.\n",
      "         Current function value: 0.471812\n",
      "         Iterations 9\n",
      "                           Logit Regression Results                           \n",
      "==============================================================================\n",
      "Dep. Variable:                      y   No. Observations:                  137\n",
      "Model:                          Logit   Df Residuals:                      131\n",
      "Method:                           MLE   Df Model:                            5\n",
      "Date:                Wed, 26 Jan 2022   Pseudo R-squ.:                  0.3161\n",
      "Time:                        10:27:07   Log-Likelihood:                -64.638\n",
      "converged:                       True   LL-Null:                       -94.519\n",
      "Covariance Type:            nonrobust   LLR p-value:                 1.361e-11\n",
      "==============================================================================\n",
      "                 coef    std err          z      P>|z|      [0.025      0.975]\n",
      "------------------------------------------------------------------------------\n",
      "x1             2.6186      0.631      4.150      0.000       1.382       3.855\n",
      "x2            -0.8871      0.262     -3.392      0.001      -1.400      -0.374\n",
      "x3            -2.0207      1.243     -1.626      0.104      -4.457       0.415\n",
      "x4            -4.3868      1.397     -3.140      0.002      -7.126      -1.648\n",
      "x5            -1.2147      0.887     -1.369      0.171      -2.954       0.525\n",
      "x6             3.1687      1.179      2.687      0.007       0.858       5.480\n",
      "==============================================================================\n"
     ]
    }
   ],
   "source": [
    "import statsmodels.api as sm\n",
    "stdXsLasso = stdXs[:, kpidxId]\n",
    "md = sm.Logit(Ys, stdXsLasso)\n",
    "mdres = md.fit()\n",
    "print(mdres.summary())"
   ]
  },
  {
   "cell_type": "code",
   "execution_count": 28,
   "metadata": {},
   "outputs": [
    {
     "name": "stdout",
     "output_type": "stream",
     "text": [
      "The mean of AUC under 1000 repetitions is 0.765 and the standard deviation is 0.099.\n"
     ]
    }
   ],
   "source": [
    "nobs = stdXs.shape[0]\n",
    "Aucss = []\n",
    "for j in range(1000):\n",
    "    testIdx = np.random.choice(nobs, int(nobs/5), False)\n",
    "    trainIdx = np.delete(np.arange(nobs), testIdx)\n",
    "    clf = LogisticRegression(penalty=\"l1\", random_state=0, C=optC)\n",
    "    clf.fit(stdXs[trainIdx], Ys[trainIdx])\n",
    "    curEprobs = clf.predict_proba(stdXs[testIdx, :])\n",
    "    curAuc = roc_auc_score(Ys[testIdx], curEprobs[:, 1])\n",
    "    Aucss.append(curAuc)\n",
    "mAUC = np.mean(Aucss)\n",
    "stdAUC = np.std(Aucss)\n",
    "print(f\"The mean of AUC under 1000 repetitions is {mAUC:.3f} and the standard deviation is {stdAUC:.3f}.\")"
   ]
  },
  {
   "cell_type": "code",
   "execution_count": 29,
   "metadata": {},
   "outputs": [
    {
     "data": {
      "image/png": "[encoded data removed]",
      "text/plain": [
       "<Figure size 360x360 with 1 Axes>"
      ]
     },
     "metadata": {
      "needs_background": "light"
     },
     "output_type": "display_data"
    }
   ],
   "source": [
    "plt.figure(figsize=[5, 5])\n",
    "plt.plot(fpr, tpr, label=f\"ROC curve LASSO (area ={auc:.3f}).\", lw=2, color=\"red\")\n",
    "plt.plot([0, 1], [0, 1], color=\"navy\", lw=2, linestyle=\"--\")\n",
    "plt.xlim([-0.05, 1.0])\n",
    "plt.ylim([0.0, 1.05])\n",
    "plt.xlabel(\"False Positive Rate\")\n",
    "plt.ylabel(\"True Positive Rate\")\n",
    "plt.title(\"ROC for the Logistic regression\")\n",
    "plt.legend(loc=\"lower right\")\n",
    "plt.savefig(\"./plots/rocM1.jpg\", bbox_inches='tight')"
   ]
  },
  {
   "cell_type": "code",
   "execution_count": 30,
   "metadata": {},
   "outputs": [],
   "source": [
    "from sklearn.metrics import f1_score"
   ]
  },
  {
   "cell_type": "code",
   "execution_count": 31,
   "metadata": {},
   "outputs": [
    {
     "data": {
      "text/plain": [
       "0.7517730496453902"
      ]
     },
     "execution_count": 31,
     "metadata": {},
     "output_type": "execute_result"
    },
    {
     "data": {
      "image/png": "[encoded data removed]",
      "text/plain": [
       "<Figure size 360x360 with 1 Axes>"
      ]
     },
     "metadata": {
      "needs_background": "light"
     },
     "output_type": "display_data"
    }
   ],
   "source": [
    "thres = np.linspace(0, 1, 100)\n",
    "f1s = []\n",
    "for thre in thres:\n",
    "    f1s.append(f1_score(Ys, eProbs[:, 1]>thre))\n",
    "    \n",
    "plt.figure(figsize=[5, 5])\n",
    "plt.plot(thres, f1s)\n",
    "plt.xlabel(\"Threshold\")\n",
    "plt.ylabel(\"F1 score\")\n",
    "\n",
    "optThre = thres[np.argmax(f1s)]\n",
    "#optThre = 0.5\n",
    "f1_score(Ys, eProbs[:, 1]>optThre)"
   ]
  },
  {
   "cell_type": "code",
   "execution_count": 33,
   "metadata": {},
   "outputs": [
    {
     "name": "stdout",
     "output_type": "stream",
     "text": [
      "Features are ['maxwU', 'maxwU2'].\n",
      "The AUC under optimal C is 0.734.\n",
      "The mean of AUC under 1000 repetitions is 0.708 and the standard deviation is 0.098.\n",
      "----------------------------------------------------------------------------------------------------\n",
      "Features are ['r', 'maxwU', 'maxwU2'].\n",
      "The AUC under optimal C is 0.720.\n",
      "The mean of AUC under 1000 repetitions is 0.727 and the standard deviation is 0.100.\n",
      "----------------------------------------------------------------------------------------------------\n",
      "Features are ['ncpts', 'maxwU', 'maxwU2'].\n",
      "The AUC under optimal C is 0.746.\n",
      "The mean of AUC under 1000 repetitions is 0.724 and the standard deviation is 0.092.\n",
      "----------------------------------------------------------------------------------------------------\n",
      "Features are ['r', 'ncpts', 'maxwU', 'maxwU2'].\n",
      "The AUC under optimal C is 0.786.\n",
      "The mean of AUC under 1000 repetitions is 0.766 and the standard deviation is 0.091.\n",
      "----------------------------------------------------------------------------------------------------\n"
     ]
    }
   ],
   "source": [
    "fsNameSet = [[\"maxwU\", \"maxwU2\"],  [\"r\", \"maxwU\", \"maxwU2\"], \n",
    "             [\"ncpts\", \"maxwU\", \"maxwU2\"], [\"r\", \"ncpts\", \"maxwU\", \"maxwU2\"]]\n",
    "for fsName in fsNameSet:\n",
    "    Ys = np.concatenate([np.ones(len(fsAD)), np.zeros(len(fsCtrl))])\n",
    "    XsAD = []\n",
    "    XsCtrl = []\n",
    "    for fName in fsName:\n",
    "        if isinstance(fsAD[0][fName], numbers.Number):\n",
    "            cfAD = np.array([fs[fName] for fs in fsAD]).reshape(-1, 1)\n",
    "            cfCtrl = np.array([fs[fName] for fs in fsCtrl]).reshape(-1, 1)\n",
    "        else:\n",
    "            cfAD = np.array([fs[fName] for fs in fsAD])\n",
    "            cfCtrl = np.array([fs[fName] for fs in fsCtrl])\n",
    "        \n",
    "        XsAD.append(cfAD)\n",
    "        XsCtrl.append(cfCtrl)\n",
    "    XsAD = np.concatenate(XsAD, axis=1)\n",
    "    XsCtrl = np.concatenate(XsCtrl, axis=1)\n",
    "    Xs = np.concatenate([XsAD, XsCtrl], axis=0)\n",
    "    stdXs = (Xs - Xs.mean(axis=0))/Xs.std(axis=0)\n",
    "    \n",
    "    Cs = [0.1, 0.2, 0.4, 0.8, 1, 1.6, 3.2, 6.4]\n",
    "    aucCs = []\n",
    "    for C in Cs:\n",
    "        eProbs = []\n",
    "        loo = LeaveOneOut()\n",
    "        for trIdxs, testIdxs in loo.split(stdXs):\n",
    "            clf = LogisticRegression(penalty=\"l1\", random_state=0, C=C)\n",
    "            clf.fit(stdXs[trIdxs, :], Ys[trIdxs])\n",
    "            eProbs.append(clf.predict_proba(stdXs[testIdxs, :]))\n",
    "        eProbs = np.array(eProbs).squeeze()\n",
    "        auc = roc_auc_score(Ys, eProbs[:, 1])\n",
    "        fpr, tpr, thresholds = roc_curve(Ys, eProbs[:, 1], pos_label=1)\n",
    "        aucCs.append(auc)\n",
    "        \n",
    "    optC = Cs[np.argmax(aucCs)]\n",
    "    eProbs = []\n",
    "    loo = LeaveOneOut()\n",
    "    parass = []\n",
    "    for trIdxs, testIdxs in loo.split(stdXs):\n",
    "        clf = LogisticRegression(penalty=\"l1\", random_state=0, C=optC)\n",
    "        clf.fit(stdXs[trIdxs, :], Ys[trIdxs])\n",
    "        paras = np.concatenate([clf.intercept_, clf.coef_.reshape(-1)])\n",
    "        parass.append(paras)\n",
    "        eProbs.append(clf.predict_proba(stdXs[testIdxs, :]))\n",
    "    eProbs = np.array(eProbs).squeeze()\n",
    "    auc = roc_auc_score(Ys, eProbs[:, 1])\n",
    "    fpr, tpr, thresholds = roc_curve(Ys, eProbs[:, 1], pos_label=1)\n",
    "    parass = np.array(parass)\n",
    "    \n",
    "    nobs = stdXs.shape[0]\n",
    "    Aucss = []\n",
    "    for j in range(1000):\n",
    "        testIdx = np.random.choice(nobs, int(nobs/5), False)\n",
    "        trainIdx = np.delete(np.arange(nobs), testIdx)\n",
    "        clf = LogisticRegression(penalty=\"l1\", random_state=0, C=optC)\n",
    "        clf.fit(stdXs[trainIdx], Ys[trainIdx])\n",
    "        curEprobs = clf.predict_proba(stdXs[testIdx, :])\n",
    "        curAuc = roc_auc_score(Ys[testIdx], curEprobs[:, 1])\n",
    "        Aucss.append(curAuc)\n",
    "    mAUC = np.mean(Aucss)\n",
    "    stdAUC = np.std(Aucss)\n",
    "    print(f\"Features are {fsName}.\")\n",
    "    print(f\"The AUC under optimal C is {auc:.3f}.\")\n",
    "    print(f\"The mean of AUC under 1000 repetitions is {mAUC:.3f} and the standard deviation is {stdAUC:.3f}.\")\n",
    "    print(\"-\"*100)"
   ]
  },
  {
   "cell_type": "code",
   "execution_count": 29,
   "metadata": {},
   "outputs": [],
   "source": [
    "def U2BrainVec(wU):\n",
    "    emVec = np.zeros_like(DKtmplate, dtype=np.float64)\n",
    "    for idx in range(1, 69):\n",
    "        emVec[DKtmplate==idx] = wU[idx-1]\n",
    "    return emVec\n",
    "\n",
    "def reorderU(wU):\n",
    "    wUreorder = np.zeros_like(wU, dtype=np.float64)\n",
    "    wUreorder[0::2] = wU[:34]\n",
    "    wUreorder[1::2] = wU[34:]\n",
    "    return wUreorder"
   ]
  },
  {
   "cell_type": "code",
   "execution_count": 30,
   "metadata": {},
   "outputs": [],
   "source": [
    "with open(\"./meg_data/BNVtemplate_DK68.txt\", \"r\") as tf:\n",
    "    DKtmplateRaw = tf.readlines()\n",
    "DKtmplate = np.array([int(x.strip()) for x in DKtmplateRaw])"
   ]
  },
  {
   "cell_type": "markdown",
   "metadata": {},
   "source": [
    "## Results when assuming no cpts"
   ]
  },
  {
   "cell_type": "code",
   "execution_count": null,
   "metadata": {},
   "outputs": [],
   "source": [
    "eigVecss0 = []\n",
    "eigValss0 = []\n",
    "ps = list(resDir.glob(\"Ctrl*04_decimate5.pkl\"))\n",
    "sortedPs = sorted(ps, key=lambda p:int(p.stem.split(\"_\")[3]))\n",
    "for fil in tqdm(sortedPs):\n",
    "    with open(fil, \"rb\") as f:\n",
    "        det = pickle.load(f)\n",
    "    det.UpdateEcpts(0)\n",
    "    det.GetFeatures()\n",
    "    eigVecss0.append(det.curEigVecs)\n",
    "    eigValss0.append(det.curEigVals[0])\n",
    "filNameVecs = f\"Ctrl_data_lamb{det.paras.lamb:.1E}_eigVecs0.pkl\"\n",
    "filNameVals = f\"Ctrl_data_lamb{det.paras.lamb:.1E}_eigVals0.pkl\"\n",
    "with open(resDir/filNameVecs, \"wb\") as f:\n",
    "    pickle.dump(eigVecss0, f)\n",
    "with open(resDir/filNameVals, \"wb\") as f:\n",
    "    pickle.dump(eigValss0, f)"
   ]
  },
  {
   "cell_type": "code",
   "execution_count": null,
   "metadata": {},
   "outputs": [],
   "source": [
    "eigVecss0 = []\n",
    "eigValss0 = []\n",
    "ps = list(resDir.glob(\"AD*04_decimate5.pkl\"))\n",
    "sortedPs = sorted(ps, key=lambda p:int(p.stem.split(\"_\")[3]))\n",
    "for fil in tqdm(sortedPs):\n",
    "    with open(fil, \"rb\") as f:\n",
    "        det = pickle.load(f)\n",
    "    det.UpdateEcpts(0)\n",
    "    det.GetFeatures()\n",
    "    eigVecss0.append(det.curEigVecs)\n",
    "    eigValss0.append(det.curEigVals[0])\n",
    "filNameVecs = f\"AD_data_lamb{det.paras.lamb:.1E}_eigVecs0.pkl\"\n",
    "filNameVals = f\"AD_data_lamb{det.paras.lamb:.1E}_eigVals0.pkl\"\n",
    "with open(resDir/filNameVecs, \"wb\") as f:\n",
    "    pickle.dump(eigVecss0, f)\n",
    "with open(resDir/filNameVals, \"wb\") as f:\n",
    "    pickle.dump(eigValss0, f)"
   ]
  },
  {
   "cell_type": "code",
   "execution_count": 38,
   "metadata": {},
   "outputs": [],
   "source": [
    "# Eigvals\n",
    "fil = list(resDir.glob(\"AD*_eigVals0.pkl\"))[0]\n",
    "with open(fil, \"rb\") as f:\n",
    "    eigVals0AD = pickle.load(f)\n",
    "fil = list(resDir.glob(\"Ctrl*_eigVals0.pkl\"))[0]\n",
    "with open(fil, \"rb\") as f:\n",
    "    eigVals0Ctrl = pickle.load(f)\n",
    "    \n",
    "    \n",
    "fil = list(resDir.glob(\"AD*_eigVecs0.pkl\"))[0]\n",
    "with open(fil, \"rb\") as f:\n",
    "    eigVecs0AD = pickle.load(f)\n",
    "fil = list(resDir.glob(\"Ctrl*_eigVecs0.pkl\"))[0]\n",
    "with open(fil, \"rb\") as f:\n",
    "    eigVecs0Ctrl = pickle.load(f)"
   ]
  },
  {
   "cell_type": "code",
   "execution_count": 39,
   "metadata": {},
   "outputs": [],
   "source": [
    "eigVals0 = eigVals0AD\n",
    "eigVecs0 = eigVecs0AD\n",
    "\n",
    "fs0All = []\n",
    "for i in range(len(eigVals0)):\n",
    "    fs = edict()\n",
    "    \n",
    "    eigVal = eigVals0[i]\n",
    "    \n",
    "    fs.maxEigVal = eigVal[np.argmax(np.abs(eigVal))]\n",
    "    fs.maxEigValMode = np.abs(eigVal[np.argmax(np.abs(eigVal))])\n",
    "    fs.maxEigValReal = np.abs(eigVal[np.argmax(np.abs(eigVal))].real)\n",
    "    fs.maxEigValImag = np.abs(eigVal[np.argmax(np.abs(eigVal))].imag)\n",
    "    \n",
    "    \n",
    "    tmp = eigVal.copy()\n",
    "    tmp[np.abs(eigVal) == np.max(np.abs(eigVal))] = 0\n",
    "    fs.max2EigVal = tmp[np.argmax(np.abs(tmp))]\n",
    "    fs.max2EigValMode = np.abs(tmp[np.argmax(np.abs(tmp))])\n",
    "    fs.max2EigValReal = np.abs(tmp[np.argmax(np.abs(tmp))].real)\n",
    "    fs.max2EigValImag = np.abs(tmp[np.argmax(np.abs(tmp))].imag)\n",
    "    \n",
    "    fs.maxwU = np.abs(np.matmul(eigVecs0[i], eigVal))\n",
    "    fs.maxwUnorm = np.linalg.norm(fs.maxwU)\n",
    "    maxwUMM = np.zeros_like(fs.maxwU)\n",
    "    maxwUMM[:34] = minmax(fs.maxwU[:34])\n",
    "    maxwUMM[34:] = minmax(fs.maxwU[34:])\n",
    "    fs.maxwUcorrs = []\n",
    "    for ix in range(fcRarrMM.shape[0]):\n",
    "        fcRarrMMcur = fcRarrMM[ix, :]\n",
    "        fs.maxwUcorrs.append(ss.pearsonr(fcRarrMM[ix, :], maxwUMM)[0])\n",
    "        \n",
    "    \n",
    "    fs.maxU = eigVecs0[i][:, np.argmax(np.abs(eigVal))]\n",
    "    fs.maxUnorm = np.linalg.norm(fs.maxU)\n",
    "    fs.maxUMode = np.abs(eigVecs0[i][:, np.argmax(np.abs(eigVal))])\n",
    "    fs.maxUReal = np.abs(eigVecs0[i][:, np.argmax(np.abs(eigVal))].real)\n",
    "    fs.maxUImag = np.abs(eigVecs0[i][:, np.argmax(np.abs(eigVal))].imag)\n",
    "    maxUMM = np.zeros_like(fs.maxUMode)\n",
    "    maxUMM[:34] = minmax(fs.maxUMode[:34])\n",
    "    maxUMM[34:] = minmax(fs.maxUMode[34:])\n",
    "    fs.maxUcorrs = []\n",
    "    for ix in range(fcRarrMM.shape[0]):\n",
    "        fcRarrMMcur = fcRarrMM[ix, :]\n",
    "        fs.maxUcorrs.append(ss.pearsonr(fcRarrMM[ix, :], maxUMM)[0])\n",
    "    \n",
    "    fs.r  = len(eigVal)\n",
    "    \n",
    "    fs0All.append(fs)\n",
    "    \n",
    "fs0AD = fs0All    "
   ]
  },
  {
   "cell_type": "code",
   "execution_count": 40,
   "metadata": {},
   "outputs": [],
   "source": [
    "eigVals0 = eigVals0Ctrl\n",
    "eigVecs0 = eigVecs0Ctrl\n",
    "\n",
    "fs0All = []\n",
    "for i in range(len(eigVals0)):\n",
    "    fs = edict()\n",
    "    \n",
    "    eigVal = eigVals0[i]\n",
    "    \n",
    "    fs.maxEigVal = eigVal[np.argmax(np.abs(eigVal))]\n",
    "    fs.maxEigValMode = np.abs(eigVal[np.argmax(np.abs(eigVal))])\n",
    "    fs.maxEigValReal = np.abs(eigVal[np.argmax(np.abs(eigVal))].real)\n",
    "    fs.maxEigValImag = np.abs(eigVal[np.argmax(np.abs(eigVal))].imag)\n",
    "    \n",
    "    \n",
    "    tmp = eigVal.copy()\n",
    "    tmp[np.abs(eigVal) == np.max(np.abs(eigVal))] = 0\n",
    "    fs.max2EigVal = tmp[np.argmax(np.abs(tmp))]\n",
    "    fs.max2EigValMode = np.abs(tmp[np.argmax(np.abs(tmp))])\n",
    "    fs.max2EigValReal = np.abs(tmp[np.argmax(np.abs(tmp))].real)\n",
    "    fs.max2EigValImag = np.abs(tmp[np.argmax(np.abs(tmp))].imag)\n",
    "    \n",
    "    fs.maxwU = np.abs(np.matmul(eigVecs0[i], eigVal))\n",
    "    fs.maxwUnorm = np.linalg.norm(fs.maxwU)\n",
    "    maxwUMM = np.zeros_like(fs.maxwU)\n",
    "    maxwUMM[:34] = minmax(fs.maxwU[:34])\n",
    "    maxwUMM[34:] = minmax(fs.maxwU[34:])\n",
    "    fs.maxwUcorrs = []\n",
    "    for ix in range(fcRarrMM.shape[0]):\n",
    "        fcRarrMMcur = fcRarrMM[ix, :]\n",
    "        fs.maxwUcorrs.append(ss.pearsonr(fcRarrMM[ix, :], maxwUMM)[0])\n",
    "        \n",
    "    \n",
    "    fs.maxU = eigVecs0[i][:, np.argmax(np.abs(eigVal))]\n",
    "    fs.maxUnorm = np.linalg.norm(fs.maxU)\n",
    "    fs.maxUMode = np.abs(eigVecs0[i][:, np.argmax(np.abs(eigVal))])\n",
    "    fs.maxUReal = np.abs(eigVecs0[i][:, np.argmax(np.abs(eigVal))].real)\n",
    "    fs.maxUImag = np.abs(eigVecs0[i][:, np.argmax(np.abs(eigVal))].imag)\n",
    "    maxUMM = np.zeros_like(fs.maxUMode)\n",
    "    maxUMM[:34] = minmax(fs.maxUMode[:34])\n",
    "    maxUMM[34:] = minmax(fs.maxUMode[34:])\n",
    "    fs.maxUcorrs = []\n",
    "    for ix in range(fcRarrMM.shape[0]):\n",
    "        fcRarrMMcur = fcRarrMM[ix, :]\n",
    "        fs.maxUcorrs.append(ss.pearsonr(fcRarrMM[ix, :], maxUMM)[0])\n",
    "    \n",
    "    fs.r  = len(eigVal)\n",
    "    \n",
    "    fs0All.append(fs)\n",
    "    \n",
    "fs0Ctrl = fs0All    "
   ]
  },
  {
   "cell_type": "code",
   "execution_count": 41,
   "metadata": {},
   "outputs": [
    {
     "data": {
      "text/plain": [
       "(88, 70)"
      ]
     },
     "execution_count": 41,
     "metadata": {},
     "output_type": "execute_result"
    }
   ],
   "source": [
    "len(fs0AD), len(fs0Ctrl)"
   ]
  },
  {
   "cell_type": "code",
   "execution_count": 42,
   "metadata": {},
   "outputs": [
    {
     "name": "stdout",
     "output_type": "stream",
     "text": [
      "Features are ['r'].\n",
      "The AUC under optimal C is 0.572.\n",
      "The mean of AUC under 1000 repetitions is 0.664 and the standard deviation is 0.091.\n",
      "----------------------------------------------------------------------------------------------------\n",
      "Features are ['maxwU'].\n",
      "The AUC under optimal C is 0.661.\n",
      "The mean of AUC under 1000 repetitions is 0.672 and the standard deviation is 0.088.\n",
      "----------------------------------------------------------------------------------------------------\n",
      "Features are ['maxUMode'].\n",
      "The AUC under optimal C is 0.632.\n",
      "The mean of AUC under 1000 repetitions is 0.614 and the standard deviation is 0.089.\n",
      "----------------------------------------------------------------------------------------------------\n",
      "Features are ['r', 'maxwU'].\n",
      "The AUC under optimal C is 0.670.\n",
      "The mean of AUC under 1000 repetitions is 0.677 and the standard deviation is 0.085.\n",
      "----------------------------------------------------------------------------------------------------\n",
      "Features are ['r', 'maxUMode'].\n",
      "The AUC under optimal C is 0.631.\n",
      "The mean of AUC under 1000 repetitions is 0.629 and the standard deviation is 0.094.\n",
      "----------------------------------------------------------------------------------------------------\n",
      "Features are ['r', 'maxUMode', 'maxwU'].\n",
      "The AUC under optimal C is 0.631.\n",
      "The mean of AUC under 1000 repetitions is 0.610 and the standard deviation is 0.092.\n",
      "----------------------------------------------------------------------------------------------------\n"
     ]
    }
   ],
   "source": [
    "fsNameSet = [[\"r\"], [\"maxwU\"], [\"maxUMode\"],\n",
    "             [\"r\", \"maxwU\"], [\"r\", \"maxUMode\"], \n",
    "             [\"r\", \"maxUMode\", \"maxwU\"]]\n",
    "for fsName in fsNameSet:\n",
    "    Ys = np.concatenate([np.ones(len(fs0AD)), np.zeros(len(fs0Ctrl))])\n",
    "    XsAD = []\n",
    "    XsCtrl = []\n",
    "    for fName in fsName:\n",
    "        if isinstance(fs0AD[0][fName], numbers.Number):\n",
    "            cfAD = np.array([fs[fName] for fs in fs0AD]).reshape(-1, 1)\n",
    "            cfCtrl = np.array([fs[fName] for fs in fs0Ctrl]).reshape(-1, 1)\n",
    "        else:\n",
    "            cfAD = np.array([fs[fName] for fs in fs0AD])\n",
    "            cfCtrl = np.array([fs[fName] for fs in fs0Ctrl])\n",
    "        \n",
    "        XsAD.append(cfAD)\n",
    "        XsCtrl.append(cfCtrl)\n",
    "    XsAD = np.concatenate(XsAD, axis=1)\n",
    "    XsCtrl = np.concatenate(XsCtrl, axis=1)\n",
    "    Xs = np.concatenate([XsAD, XsCtrl], axis=0)\n",
    "    stdXs = (Xs - Xs.mean(axis=0))/Xs.std(axis=0)\n",
    "    \n",
    "    Cs = [0.1, 0.2, 0.4, 0.8, 1, 1.6, 3.2, 6.4]\n",
    "    aucCs = []\n",
    "    for C in Cs:\n",
    "        eProbs = []\n",
    "        loo = LeaveOneOut()\n",
    "        for trIdxs, testIdxs in loo.split(stdXs):\n",
    "            clf = LogisticRegression(penalty=\"l1\", random_state=0, C=C)\n",
    "            clf.fit(stdXs[trIdxs, :], Ys[trIdxs])\n",
    "            eProbs.append(clf.predict_proba(stdXs[testIdxs, :]))\n",
    "        eProbs = np.array(eProbs).squeeze()\n",
    "        auc = roc_auc_score(Ys, eProbs[:, 1])\n",
    "        fpr, tpr, thresholds = roc_curve(Ys, eProbs[:, 1], pos_label=1)\n",
    "        aucCs.append(auc)\n",
    "        \n",
    "    optC = Cs[np.argmax(aucCs)]\n",
    "    eProbs = []\n",
    "    loo = LeaveOneOut()\n",
    "    parass = []\n",
    "    for trIdxs, testIdxs in loo.split(stdXs):\n",
    "        clf = LogisticRegression(penalty=\"l1\", random_state=0, C=optC)\n",
    "        clf.fit(stdXs[trIdxs, :], Ys[trIdxs])\n",
    "        paras = np.concatenate([clf.intercept_, clf.coef_.reshape(-1)])\n",
    "        parass.append(paras)\n",
    "        eProbs.append(clf.predict_proba(stdXs[testIdxs, :]))\n",
    "    eProbs = np.array(eProbs).squeeze()\n",
    "    auc = roc_auc_score(Ys, eProbs[:, 1])\n",
    "    fpr, tpr, thresholds = roc_curve(Ys, eProbs[:, 1], pos_label=1)\n",
    "    parass = np.array(parass)\n",
    "    \n",
    "    nobs = stdXs.shape[0]\n",
    "    Aucss = []\n",
    "    for j in range(1000):\n",
    "        testIdx = np.random.choice(nobs, int(nobs/5), False)\n",
    "        trainIdx = np.delete(np.arange(nobs), testIdx)\n",
    "        clf = LogisticRegression(penalty=\"l1\", random_state=0, C=optC)\n",
    "        clf.fit(stdXs[trainIdx], Ys[trainIdx])\n",
    "        curEprobs = clf.predict_proba(stdXs[testIdx, :])\n",
    "        curAuc = roc_auc_score(Ys[testIdx], curEprobs[:, 1])\n",
    "        Aucss.append(curAuc)\n",
    "    mAUC = np.mean(Aucss)\n",
    "    stdAUC = np.std(Aucss)\n",
    "    print(f\"Features are {fsName}.\")\n",
    "    print(f\"The AUC under optimal C is {auc:.3f}.\")\n",
    "    print(f\"The mean of AUC under 1000 repetitions is {mAUC:.3f} and the standard deviation is {stdAUC:.3f}.\")\n",
    "    print(\"-\"*100)"
   ]
  },
  {
   "cell_type": "code",
   "execution_count": null,
   "metadata": {},
   "outputs": [],
   "source": []
  }
 ],
 "metadata": {
  "kernelspec": {
   "display_name": "Python 3",
   "language": "python",
   "name": "python3"
  },
  "language_info": {
   "codemirror_mode": {
    "name": "ipython",
    "version": 3
   },
   "file_extension": ".py",
   "mimetype": "text/x-python",
   "name": "python",
   "nbconvert_exporter": "python",
   "pygments_lexer": "ipython3",
   "version": "3.7.4"
  }
 },
 "nbformat": 4,
 "nbformat_minor": 2
}
