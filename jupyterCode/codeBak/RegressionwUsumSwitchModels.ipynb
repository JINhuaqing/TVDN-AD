{
 "cells": [
  {
   "cell_type": "code",
   "execution_count": 92,
   "metadata": {},
   "outputs": [],
   "source": [
    "import sys\n",
    "sys.path.append(\"/home/huaqingj/MyResearch/AD_control_data/TVDN\")"
   ]
  },
  {
   "cell_type": "code",
   "execution_count": 93,
   "metadata": {},
   "outputs": [],
   "source": [
    "from pyTVDN import TVDNDetect\n",
    "from pathlib import Path\n",
    "from scipy.io import loadmat\n",
    "import numpy as np\n",
    "from easydict import EasyDict as edict\n",
    "import matplotlib.pyplot as plt\n",
    "import os\n",
    "import scipy.stats as ss\n",
    "from scipy import signal\n",
    "from tqdm import tqdm\n",
    "import pickle\n",
    "import seaborn as sns\n",
    "import numbers\n",
    "%matplotlib inline"
   ]
  },
  {
   "cell_type": "code",
   "execution_count": 94,
   "metadata": {},
   "outputs": [],
   "source": [
    "regionNamesRaw  =\"\"\"\n",
    "ctx-lh-bankssts\n",
    "ctx-lh-caudalanteriorcingulate\n",
    "ctx-lh-caudalmiddlefrontal\n",
    "ctx-lh-cuneus\n",
    "ctx-lh-entorhinal\n",
    "ctx-lh-frontalpole\n",
    "ctx-lh-fusiform\n",
    "ctx-lh-inferiorparietal\n",
    "ctx-lh-inferiortemporal\n",
    "ctx-lh-insula\n",
    "ctx-lh-isthmuscingulate\n",
    "ctx-lh-lateraloccipital\n",
    "ctx-lh-lateralorbitofrontal\n",
    "ctx-lh-lingual\n",
    "ctx-lh-medialorbitofrontal\n",
    "ctx-lh-middletemporal\n",
    "ctx-lh-paracentral\n",
    "ctx-lh-parahippocampal\n",
    "ctx-lh-parsopercularis\n",
    "ctx-lh-parsorbitalis\n",
    "ctx-lh-parstriangularis\n",
    "ctx-lh-pericalcarine\n",
    "ctx-lh-postcentral\n",
    "ctx-lh-posteriorcingulate\n",
    "ctx-lh-precentral\n",
    "ctx-lh-precuneus\n",
    "ctx-lh-rostralanteriorcingulate\n",
    "ctx-lh-rostralmiddlefrontal\n",
    "ctx-lh-superiorfrontal\n",
    "ctx-lh-superiorparietal\n",
    "ctx-lh-superiortemporal\n",
    "ctx-lh-supramarginal\n",
    "ctx-lh-temporalpole\n",
    "ctx-lh-transversetemporal\n",
    "ctx-rh-bankssts\n",
    "ctx-rh-caudalanteriorcingulate\n",
    "ctx-rh-caudalmiddlefrontal\n",
    "ctx-rh-cuneus\n",
    "ctx-rh-entorhinal\n",
    "ctx-rh-frontalpole\n",
    "ctx-rh-fusiform\n",
    "ctx-rh-inferiorparietal\n",
    "ctx-rh-inferiortemporal\n",
    "ctx-rh-insula\n",
    "ctx-rh-isthmuscingulate\n",
    "ctx-rh-lateraloccipital\n",
    "ctx-rh-lateralorbitofrontal\n",
    "ctx-rh-lingual\n",
    "ctx-rh-medialorbitofrontal\n",
    "ctx-rh-middletemporal\n",
    "ctx-rh-paracentral\n",
    "ctx-rh-parahippocampal\n",
    "ctx-rh-parsopercularis\n",
    "ctx-rh-parsorbitalis\n",
    "ctx-rh-parstriangularis\n",
    "ctx-rh-pericalcarine\n",
    "ctx-rh-postcentral\n",
    "ctx-rh-posteriorcingulate\n",
    "ctx-rh-precentral\n",
    "ctx-rh-precuneus\n",
    "ctx-rh-rostralanteriorcingulate\n",
    "ctx-rh-rostralmiddlefrontal\n",
    "ctx-rh-superiorfrontal\n",
    "ctx-rh-superiorparietal\n",
    "ctx-rh-superiortemporal\n",
    "ctx-rh-supramarginal\n",
    "ctx-rh-temporalpole\n",
    "ctx-rh-transversetemporal\n",
    "\"\"\"\n",
    "regionNames = [i.strip()[4].title() + i.strip()[6:].title() for i in regionNamesRaw.split(\"\\n\") if len(i.strip())>0]"
   ]
  },
  {
   "cell_type": "code",
   "execution_count": 95,
   "metadata": {},
   "outputs": [],
   "source": [
    "os.chdir(\"/home/huaqingj/MyResearch/AD_control_data/TVDN\")\n",
    "resDir = Path(\"./results\")\n",
    "dataDir = Path(\"./data\")"
   ]
  },
  {
   "cell_type": "code",
   "execution_count": 96,
   "metadata": {},
   "outputs": [],
   "source": [
    "# ecpts\n",
    "fil = list(resDir.glob(\"AD*_ecpts.pkl\"))[0]\n",
    "with open(fil, \"rb\") as f:\n",
    "    ecptssAD = pickle.load(f)\n",
    "fil = list(resDir.glob(\"Ctrl*_ecpts.pkl\"))[0]\n",
    "with open(fil, \"rb\") as f:\n",
    "    ecptssCtrl = pickle.load(f)"
   ]
  },
  {
   "cell_type": "code",
   "execution_count": 97,
   "metadata": {},
   "outputs": [],
   "source": [
    "# Eigvals\n",
    "fil = list(resDir.glob(\"AD*_eigVals.pkl\"))[0]\n",
    "with open(fil, \"rb\") as f:\n",
    "    eigValsAD = pickle.load(f)\n",
    "fil = list(resDir.glob(\"Ctrl*_eigVals.pkl\"))[0]\n",
    "with open(fil, \"rb\") as f:\n",
    "    eigValsCtrl = pickle.load(f)"
   ]
  },
  {
   "cell_type": "code",
   "execution_count": 98,
   "metadata": {},
   "outputs": [],
   "source": [
    "fil = list(resDir.glob(\"AD*_eigVecs.pkl\"))[0]\n",
    "with open(fil, \"rb\") as f:\n",
    "    eigVecsAD = pickle.load(f)\n",
    "fil = list(resDir.glob(\"Ctrl*_eigVecs.pkl\"))[0]\n",
    "with open(fil, \"rb\") as f:\n",
    "    eigVecsCtrl = pickle.load(f)"
   ]
  },
  {
   "cell_type": "code",
   "execution_count": 99,
   "metadata": {},
   "outputs": [],
   "source": [
    "# Dwell times in second\n",
    "freq = 120\n",
    "dwellsAD = [np.diff(np.concatenate([[0], ecpts, [7200]])/freq) for ecpts in ecptssAD]\n",
    "dwellsCtrl = [np.diff(np.concatenate([[0], ecpts, [7200]])/freq) for ecpts in ecptssCtrl]"
   ]
  },
  {
   "cell_type": "code",
   "execution_count": 100,
   "metadata": {},
   "outputs": [],
   "source": [
    "import pandas as pd\n",
    "def minmax(x):\n",
    "    num = x - np.min(x)\n",
    "    den = np.max(x) - np.min(x)\n",
    "    return num/den\n",
    "\n",
    "fcR = pd.read_csv('./DK_dic68.csv').set_index('Unnamed: 0')\n",
    "rowNames = list(fcR.index)\n",
    "colNames = np.array(fcR.columns)\n",
    "\n",
    "fcRarr = np.array(fcR)\n",
    "\n",
    "# minmax \n",
    "fcRarrMM = np.zeros_like(fcRarr)\n",
    "for i, fcRar in enumerate(fcRarr):\n",
    "    lh = minmax(fcRar[:34])\n",
    "    rh = minmax(fcRar[34:])\n",
    "    fcRarrMM[i, :34] = lh\n",
    "    fcRarrMM[i, 34:] = rh"
   ]
  },
  {
   "cell_type": "markdown",
   "metadata": {},
   "source": [
    "**List of features** \n",
    "\n",
    "- Num of ecpts\n",
    "\n",
    "- The mean dwell time (in second)\n",
    "\n",
    "- Eigval with largest mode for the segment with the maximal dwell time\n",
    "\n",
    "- EigVecs weighted by the eigvals for the segment with the maximal dwell time\n"
   ]
  },
  {
   "cell_type": "code",
   "execution_count": 101,
   "metadata": {},
   "outputs": [],
   "source": [
    "ecptss = ecptssAD\n",
    "dwells = dwellsAD\n",
    "eigVals = eigValsAD\n",
    "eigVecs = eigVecsAD\n",
    "\n",
    "fsAll = []\n",
    "for i in range(len(ecptss)):\n",
    "    fs = edict()\n",
    "    dwell = dwells[i]\n",
    "    fs.ncpts = len(ecptss[i])\n",
    "    fs.meanDwell = np.mean(dwell)\n",
    "    fs.maxDwell = np.max(dwell)\n",
    "    fs.minDwell = np.min(dwell)\n",
    "    \n",
    "    eigVal = eigVals[i]\n",
    "    \n",
    "    idx = np.argmax(dwell)\n",
    "    if fs.ncpts >=1:\n",
    "        idx2 = np.where((-dwell).argsort().argsort()==1)[0][0]\n",
    "    \n",
    "    maxEigVal = eigVal[idx]\n",
    "    fs.maxEigVal = maxEigVal[np.argmax(np.abs(maxEigVal))]\n",
    "    fs.maxEigValMode = np.abs(maxEigVal[np.argmax(np.abs(maxEigVal))])\n",
    "    fs.maxEigValReal = np.abs(maxEigVal[np.argmax(np.abs(maxEigVal))].real)\n",
    "    fs.maxEigValImag = np.abs(maxEigVal[np.argmax(np.abs(maxEigVal))].imag)\n",
    "    \n",
    "    \n",
    "    tmp = maxEigVal.copy()\n",
    "    tmp[np.abs(maxEigVal) == np.max(np.abs(maxEigVal))] = 0\n",
    "    fs.max2EigVal = tmp[np.argmax(np.abs(tmp))]\n",
    "    fs.max2EigValMode = np.abs(tmp[np.argmax(np.abs(tmp))])\n",
    "    fs.max2EigValReal = np.abs(tmp[np.argmax(np.abs(tmp))].real)\n",
    "    fs.max2EigValImag = np.abs(tmp[np.argmax(np.abs(tmp))].imag)\n",
    "    \n",
    "    fs.maxwU = np.abs(np.matmul(eigVecs[i], maxEigVal))\n",
    "    fs.wUsumAll = np.abs(np.matmul(eigVecs[i], np.array(eigVal).T).real).sum(axis=1)\n",
    "    fs.wUmeanAll = np.abs(np.matmul(eigVecs[i], np.array(eigVal).T).real).mean(axis=1)\n",
    "    fs.maxwUraw = np.matmul(eigVecs[i], maxEigVal).real\n",
    "    fs.maxwUnorm = np.linalg.norm(fs.maxwU)\n",
    "    maxwUMM = np.zeros_like(fs.maxwU)\n",
    "    maxwUMM[:34] = minmax(fs.maxwU[:34])\n",
    "    maxwUMM[34:] = minmax(fs.maxwU[34:])\n",
    "    fs.maxwUcorrs = []\n",
    "    for ix in range(fcRarrMM.shape[0]):\n",
    "        fcRarrMMcur = fcRarrMM[ix, :]\n",
    "        fs.maxwUcorrs.append(ss.pearsonr(fcRarrMM[ix, :], maxwUMM)[0])\n",
    "        \n",
    "    if fs.ncpts >=1:\n",
    "        fs.maxwU2 = np.abs(np.matmul(eigVecs[i], eigVal[idx2]))\n",
    "        fs.maxwU2norm = np.linalg.norm(fs.maxwU2)\n",
    "    else:\n",
    "        fs.maxwU2 = np.zeros(fs.maxwU.shape)\n",
    "        fs.maxwU2norm = 0\n",
    "    \n",
    "    fs.maxU = eigVecs[i][:, np.argmax(np.abs(maxEigVal))]\n",
    "    fs.maxUnorm = np.linalg.norm(fs.maxU)\n",
    "    fs.maxUMode = np.abs(eigVecs[i][:, np.argmax(np.abs(maxEigVal))])\n",
    "    fs.maxUReal = np.abs(eigVecs[i][:, np.argmax(np.abs(maxEigVal))].real)\n",
    "    fs.maxUImag = np.abs(eigVecs[i][:, np.argmax(np.abs(maxEigVal))].imag)\n",
    "    maxUMM = np.zeros_like(fs.maxUMode)\n",
    "    maxUMM[:34] = minmax(fs.maxUMode[:34])\n",
    "    maxUMM[34:] = minmax(fs.maxUMode[34:])\n",
    "    fs.maxUcorrs = []\n",
    "    for ix in range(fcRarrMM.shape[0]):\n",
    "        fcRarrMMcur = fcRarrMM[ix, :]\n",
    "        fs.maxUcorrs.append(ss.pearsonr(fcRarrMM[ix, :], maxUMM)[0])\n",
    "    \n",
    "    fs.r  = len(maxEigVal)\n",
    "    \n",
    "    fsAll.append(fs)\n",
    "    \n",
    "fsAD = fsAll    "
   ]
  },
  {
   "cell_type": "code",
   "execution_count": 102,
   "metadata": {},
   "outputs": [],
   "source": [
    "ecptss = ecptssCtrl\n",
    "dwells = dwellsCtrl\n",
    "eigVals = eigValsCtrl\n",
    "eigVecs = eigVecsCtrl\n",
    "\n",
    "fsAll = []\n",
    "for i in range(len(ecptss)):\n",
    "    fs = edict()\n",
    "    dwell = dwells[i]\n",
    "    fs.ncpts = len(ecptss[i])\n",
    "    fs.meanDwell = np.mean(dwell)\n",
    "    fs.maxDwell = np.max(dwell)\n",
    "    fs.minDwell = np.min(dwell)\n",
    "    \n",
    "    eigVal = eigVals[i]\n",
    "    \n",
    "    idx = np.argmax(dwell)\n",
    "    if fs.ncpts >=1:\n",
    "        idx2 = np.where((-dwell).argsort().argsort()==1)[0][0]\n",
    "    \n",
    "    maxEigVal = eigVal[idx]\n",
    "    fs.maxEigVal = maxEigVal[np.argmax(np.abs(maxEigVal))]\n",
    "    fs.maxEigValMode = np.abs(maxEigVal[np.argmax(np.abs(maxEigVal))])\n",
    "    fs.maxEigValReal = np.abs(maxEigVal[np.argmax(np.abs(maxEigVal))].real)\n",
    "    fs.maxEigValImag = np.abs(maxEigVal[np.argmax(np.abs(maxEigVal))].imag)\n",
    "    \n",
    "    \n",
    "    tmp = maxEigVal.copy()\n",
    "    tmp[np.abs(maxEigVal) == np.max(np.abs(maxEigVal))] = 0\n",
    "    fs.max2EigVal = tmp[np.argmax(np.abs(tmp))]\n",
    "    fs.max2EigValMode = np.abs(tmp[np.argmax(np.abs(tmp))])\n",
    "    fs.max2EigValReal = np.abs(tmp[np.argmax(np.abs(tmp))].real)\n",
    "    fs.max2EigValImag = np.abs(tmp[np.argmax(np.abs(tmp))].imag)\n",
    "    \n",
    "    fs.maxwU = np.abs(np.matmul(eigVecs[i], maxEigVal))\n",
    "    fs.wUsumAll = np.abs(np.matmul(eigVecs[i], np.array(eigVal).T).real).sum(axis=1)\n",
    "    fs.wUmeanAll = np.abs(np.matmul(eigVecs[i], np.array(eigVal).T).real).mean(axis=1)\n",
    "    fs.maxwUraw = np.matmul(eigVecs[i], maxEigVal).real\n",
    "    fs.maxwUnorm = np.linalg.norm(fs.maxwU)\n",
    "    maxwUMM = np.zeros_like(fs.maxwU)\n",
    "    maxwUMM[:34] = minmax(fs.maxwU[:34])\n",
    "    maxwUMM[34:] = minmax(fs.maxwU[34:])\n",
    "    fs.maxwUcorrs = []\n",
    "    for ix in range(fcRarrMM.shape[0]):\n",
    "        fcRarrMMcur = fcRarrMM[ix, :]\n",
    "        fs.maxwUcorrs.append(ss.pearsonr(fcRarrMM[ix, :], maxwUMM)[0])\n",
    "        \n",
    "    if fs.ncpts >=1:\n",
    "        fs.maxwU2 = np.abs(np.matmul(eigVecs[i], eigVal[idx2]))\n",
    "        fs.maxwU2norm = np.linalg.norm(fs.maxwU2)\n",
    "    else:\n",
    "        fs.maxwU2 = np.zeros(fs.maxwU.shape)\n",
    "        fs.maxwU2norm = 0\n",
    "    \n",
    "    fs.maxU = eigVecs[i][:, np.argmax(np.abs(maxEigVal))]\n",
    "    fs.maxUnorm = np.linalg.norm(fs.maxU)\n",
    "    fs.maxUMode = np.abs(eigVecs[i][:, np.argmax(np.abs(maxEigVal))])\n",
    "    fs.maxUReal = np.abs(eigVecs[i][:, np.argmax(np.abs(maxEigVal))].real)\n",
    "    fs.maxUImag = np.abs(eigVecs[i][:, np.argmax(np.abs(maxEigVal))].imag)\n",
    "    maxUMM = np.zeros_like(fs.maxUMode)\n",
    "    maxUMM[:34] = minmax(fs.maxUMode[:34])\n",
    "    maxUMM[34:] = minmax(fs.maxUMode[34:])\n",
    "    fs.maxUcorrs = []\n",
    "    for ix in range(fcRarrMM.shape[0]):\n",
    "        fcRarrMMcur = fcRarrMM[ix, :]\n",
    "        fs.maxUcorrs.append(ss.pearsonr(fcRarrMM[ix, :], maxUMM)[0])\n",
    "    \n",
    "    fs.r  = len(maxEigVal)\n",
    "    \n",
    "    fsAll.append(fs)\n",
    "    \n",
    "fsCtrl = fsAll    "
   ]
  },
  {
   "cell_type": "code",
   "execution_count": 103,
   "metadata": {},
   "outputs": [],
   "source": [
    "fsBoth= fsAD + fsCtrl\n",
    "fs1Idxs = [fs.ncpts!=0 for fs in fsBoth]"
   ]
  },
  {
   "cell_type": "markdown",
   "metadata": {},
   "source": [
    "## Predction"
   ]
  },
  {
   "cell_type": "code",
   "execution_count": 104,
   "metadata": {},
   "outputs": [],
   "source": [
    "from sklearn.linear_model import LogisticRegression\n",
    "from sklearn.ensemble import GradientBoostingClassifier as GBC\n",
    "from sklearn.model_selection import LeaveOneOut\n",
    "from sklearn.metrics import roc_auc_score, roc_curve\n",
    "\n",
    "import warnings\n",
    "warnings.filterwarnings('ignore')"
   ]
  },
  {
   "cell_type": "markdown",
   "metadata": {},
   "source": [
    "### All data"
   ]
  },
  {
   "cell_type": "code",
   "execution_count": 105,
   "metadata": {},
   "outputs": [
    {
     "data": {
      "text/plain": [
       "dict_keys(['ncpts', 'meanDwell', 'maxDwell', 'minDwell', 'maxEigVal', 'maxEigValMode', 'maxEigValReal', 'maxEigValImag', 'max2EigVal', 'max2EigValMode', 'max2EigValReal', 'max2EigValImag', 'maxwU', 'wUsumAll', 'wUmeanAll', 'maxwUraw', 'maxwUnorm', 'maxwUcorrs', 'maxwU2', 'maxwU2norm', 'maxU', 'maxUnorm', 'maxUMode', 'maxUReal', 'maxUImag', 'maxUcorrs', 'r'])"
      ]
     },
     "execution_count": 105,
     "metadata": {},
     "output_type": "execute_result"
    }
   ],
   "source": [
    "fsAD[0].keys()"
   ]
  },
  {
   "cell_type": "code",
   "execution_count": 218,
   "metadata": {},
   "outputs": [],
   "source": [
    "Ys = np.concatenate([np.ones(len(fsAD)), np.zeros(len(fsCtrl))])\n",
    "fsName = [\"r\", \"ncpts\", \"wUmeanAll\"]\n",
    "XsAD = []\n",
    "XsCtrl = []\n",
    "for fName in fsName:\n",
    "    if isinstance(fsAD[0][fName], numbers.Number):\n",
    "        cfAD = np.array([fs[fName] for fs in fsAD]).reshape(-1, 1)\n",
    "        cfCtrl = np.array([fs[fName] for fs in fsCtrl]).reshape(-1, 1)\n",
    "    else:\n",
    "        cfAD = np.array([fs[fName] for fs in fsAD])\n",
    "        cfCtrl = np.array([fs[fName] for fs in fsCtrl])\n",
    "    \n",
    "    XsAD.append(cfAD)\n",
    "    XsCtrl.append(cfCtrl)\n",
    "XsAD = np.concatenate(XsAD, axis=1)\n",
    "XsCtrl = np.concatenate(XsCtrl, axis=1)\n",
    "Xs = np.concatenate([XsAD, XsCtrl], axis=0)\n",
    "stdXs = (Xs - Xs.mean(axis=0))/Xs.std(axis=0)"
   ]
  },
  {
   "cell_type": "code",
   "execution_count": 219,
   "metadata": {},
   "outputs": [],
   "source": [
    "Cs = [0.1, 0.2, 0.4, 0.8, 1, 1.6, 3.2, 6.4]\n",
    "aucCs = []\n",
    "for C in Cs:\n",
    "    eProbs = []\n",
    "    loo = LeaveOneOut()\n",
    "    for trIdxs, testIdxs in loo.split(stdXs):\n",
    "        # adaptive lasso does not work\n",
    "        #clfOrd = LogisticRegression(penalty=\"none\", random_state=0, C=C, solver=\"lbfgs\")\n",
    "        #clfOrd.fit(stdXs[trIdxs, :], Ys[trIdxs])\n",
    "        #ws = 1/ np.abs(clfOrd.coef_)\n",
    "        #stdXsNew = stdXs/ws.reshape(1, -1)\n",
    "        \n",
    "        stdXsNew = stdXs\n",
    "        clf = LogisticRegression(penalty=\"l1\", random_state=0, C=C)\n",
    "        clf.fit(stdXsNew[trIdxs, :], Ys[trIdxs])\n",
    "        eProbs.append(clf.predict_proba(stdXsNew[testIdxs, :]))\n",
    "    eProbs = np.array(eProbs).squeeze()\n",
    "    auc = roc_auc_score(Ys, eProbs[:, 1])\n",
    "    fpr, tpr, thresholds = roc_curve(Ys, eProbs[:, 1], pos_label=1)\n",
    "    aucCs.append(auc)"
   ]
  },
  {
   "cell_type": "code",
   "execution_count": 220,
   "metadata": {},
   "outputs": [
    {
     "data": {
      "text/plain": [
       "Text(0, 0.5, 'AUC')"
      ]
     },
     "execution_count": 220,
     "metadata": {},
     "output_type": "execute_result"
    },
    {
     "data": {
      "image/png": "[encoded data removed]",
      "text/plain": [
       "<Figure size 360x360 with 1 Axes>"
      ]
     },
     "metadata": {
      "needs_background": "light"
     },
     "output_type": "display_data"
    }
   ],
   "source": [
    "plt.figure(figsize=[5, 5])\n",
    "plt.plot(Cs, aucCs)\n",
    "plt.xscale(\"log\")\n",
    "plt.xlabel(\"C\")\n",
    "plt.ylabel(\"AUC\")"
   ]
  },
  {
   "cell_type": "code",
   "execution_count": 221,
   "metadata": {},
   "outputs": [
    {
     "name": "stdout",
     "output_type": "stream",
     "text": [
      "0.7597402597402597\n"
     ]
    }
   ],
   "source": [
    "optC = Cs[np.argmax(aucCs)]\n",
    "eProbs = []\n",
    "loo = LeaveOneOut()\n",
    "parass = []\n",
    "for trIdxs, testIdxs in loo.split(stdXs):\n",
    "    #clf = GBC(n_estimators=50, random_state=0, max_depth=2, learning_rate=0.1)\n",
    "    clf = LogisticRegression(penalty=\"l1\", random_state=0, C=optC)\n",
    "    clf.fit(stdXs[trIdxs, :], Ys[trIdxs])\n",
    "    paras = clf.coef_.reshape(-1)\n",
    "    parass.append(paras)\n",
    "    eProbs.append(clf.predict_proba(stdXs[testIdxs, :]))\n",
    "eProbs = np.array(eProbs).squeeze()\n",
    "auc = roc_auc_score(Ys, eProbs[:, 1])\n",
    "fpr, tpr, thresholds = roc_curve(Ys, eProbs[:, 1], pos_label=1)\n",
    "parass = np.array(parass)\n",
    "print(auc)"
   ]
  },
  {
   "cell_type": "code",
   "execution_count": 222,
   "metadata": {},
   "outputs": [
    {
     "data": {
      "image/png": "[encoded data removed]",
      "text/plain": [
       "<Figure size 1080x288 with 1 Axes>"
      ]
     },
     "metadata": {
      "needs_background": "light"
     },
     "output_type": "display_data"
    }
   ],
   "source": [
    "lows, ups = np.quantile(parass[:, :], [0.025, 0.975], axis=0)\n",
    "kpidx = np.bitwise_or(lows >0,  ups < 0)\n",
    "kpidxId = np.where(kpidx)[0]\n",
    "\n",
    "xlabs = np.concatenate([[\"Rank\", \"Num of cpts\"], regionNames])\n",
    "plt.figure(figsize=[15, 4])\n",
    "plt.fill_between(list(range(len(lows))), lows, ups, color=\"red\", alpha=.5)\n",
    "plt.title(\"The 95% CI of the parameters\")\n",
    "_ = plt.xticks(kpidxId, xlabs[kpidxId], rotation=30, fontsize=8)\n",
    "#plt.savefig(\"./plots/lassoSel.jpg\", bbox_inches='tight')"
   ]
  },
  {
   "cell_type": "code",
   "execution_count": 223,
   "metadata": {},
   "outputs": [
    {
     "data": {
      "image/png": "[encoded data removed]",
      "text/plain": [
       "<Figure size 1080x288 with 1 Axes>"
      ]
     },
     "metadata": {
      "needs_background": "light"
     },
     "output_type": "display_data"
    }
   ],
   "source": [
    "import matplotlib.cbook as cbook\n",
    "fig, ax = plt.subplots(1, 1, figsize=[15, 4])\n",
    "stats = []\n",
    "for idx, nam in enumerate(xlabs):\n",
    "    stats.append(cbook.boxplot_stats(parass[:, idx], labels=[nam])[0])\n",
    "    stats[idx][\"q1\"], stats[idx][\"q3\"] = np.percentile(parass[:, idx], [2.5, 97.5])\n",
    "    stats[idx][\"whishi\"], stats[idx][\"whislo\"] = np.max(parass[:, idx]), np.min(parass[:, idx])\n",
    "    stats[idx][\"med\"] = stats[idx][\"mean\"]\n",
    "ax.bxp(stats, positions=range(len(lows)), showfliers=False)    \n",
    "plt.title(\"The boxplot of the parameters\")\n",
    "_ = plt.xticks(kpidxId, xlabs[kpidxId], rotation=30, fontsize=8)\n",
    "#plt.savefig(\"./plots/lassoSel.jpg\", bbox_inches='tight')"
   ]
  },
  {
   "cell_type": "code",
   "execution_count": 177,
   "metadata": {},
   "outputs": [
    {
     "name": "stdout",
     "output_type": "stream",
     "text": [
      "Optimization terminated successfully.\n",
      "         Current function value: 0.335066\n",
      "         Iterations 11\n",
      "                           Logit Regression Results                           \n",
      "==============================================================================\n",
      "Dep. Variable:                      y   No. Observations:                  158\n",
      "Model:                          Logit   Df Residuals:                      135\n",
      "Method:                           MLE   Df Model:                           22\n",
      "Date:                Fri, 04 Feb 2022   Pseudo R-squ.:                  0.5120\n",
      "Time:                        16:35:39   Log-Likelihood:                -52.941\n",
      "converged:                       True   LL-Null:                       -108.49\n",
      "Covariance Type:            nonrobust   LLR p-value:                 7.023e-14\n",
      "==============================================================================\n",
      "                 coef    std err          z      P>|z|      [0.025      0.975]\n",
      "------------------------------------------------------------------------------\n",
      "x1             3.1223      0.880      3.547      0.000       1.397       4.848\n",
      "x2            -0.0934      0.607     -0.154      0.878      -1.283       1.096\n",
      "x3            -3.1343      2.070     -1.515      0.130      -7.191       0.922\n",
      "x4            -4.2442      1.587     -2.674      0.007      -7.355      -1.133\n",
      "x5             3.0832      2.290      1.346      0.178      -1.405       7.572\n",
      "x6            -4.3730      2.267     -1.929      0.054      -8.817       0.071\n",
      "x7            -4.0613      1.920     -2.115      0.034      -7.824      -0.298\n",
      "x8            -3.2063      1.754     -1.828      0.068      -6.644       0.231\n",
      "x9             1.8046      1.869      0.965      0.334      -1.859       5.469\n",
      "x10           -3.3255      2.217     -1.500      0.134      -7.670       1.019\n",
      "x11            4.4701      1.617      2.765      0.006       1.302       7.639\n",
      "x12            1.7292      1.459      1.185      0.236      -1.131       4.590\n",
      "x13           -1.5018      2.296     -0.654      0.513      -6.001       2.997\n",
      "x14            2.7435      2.661      1.031      0.303      -2.472       7.959\n",
      "x15            4.8838      2.475      1.973      0.048       0.033       9.734\n",
      "x16            0.5240      1.994      0.263      0.793      -3.385       4.433\n",
      "x17           -2.2413      1.200     -1.867      0.062      -4.594       0.111\n",
      "x18           -0.4137      1.122     -0.369      0.712      -2.612       1.785\n",
      "x19            2.5688      1.517      1.694      0.090      -0.404       5.542\n",
      "x20           -0.8674      1.769     -0.490      0.624      -4.335       2.600\n",
      "x21           -2.2763      1.124     -2.025      0.043      -4.480      -0.073\n",
      "x22            1.5020      1.516      0.991      0.322      -1.470       4.474\n",
      "x23            3.2243      2.440      1.322      0.186      -1.558       8.006\n",
      "==============================================================================\n",
      "\n",
      "Possibly complete quasi-separation: A fraction 0.12 of observations can be\n",
      "perfectly predicted. This might indicate that there is complete\n",
      "quasi-separation. In this case some parameters will not be identified.\n"
     ]
    }
   ],
   "source": [
    "import statsmodels.api as sm\n",
    "stdXsLasso = stdXs[:, kpidxId]\n",
    "md = sm.Logit(Ys, stdXsLasso)\n",
    "mdres = md.fit()\n",
    "print(mdres.summary())"
   ]
  },
  {
   "cell_type": "code",
   "execution_count": 178,
   "metadata": {},
   "outputs": [
    {
     "data": {
      "text/plain": [
       "array(['Rank', 'L-Fusiform', 'L-Lingual', 'L-Rostralanteriorcingulate',\n",
       "       'L-Temporalpole', 'R-Isthmuscingulate'], dtype='<U26')"
      ]
     },
     "execution_count": 178,
     "metadata": {},
     "output_type": "execute_result"
    }
   ],
   "source": [
    "xlabs[kpidxId][mdres.pvalues<=0.05]"
   ]
  },
  {
   "cell_type": "code",
   "execution_count": 179,
   "metadata": {},
   "outputs": [
    {
     "name": "stdout",
     "output_type": "stream",
     "text": [
      "The mean of AUC under 1000 repetitions is 0.771 and the standard deviation is 0.076.\n"
     ]
    }
   ],
   "source": [
    "nobs = stdXs.shape[0]\n",
    "Aucss = []\n",
    "for j in range(1000):\n",
    "    testIdx = np.random.choice(nobs, int(nobs/5), False)\n",
    "    trainIdx = np.delete(np.arange(nobs), testIdx)\n",
    "    clf = LogisticRegression(penalty=\"l1\", random_state=0, C=optC)\n",
    "    clf.fit(stdXs[trainIdx], Ys[trainIdx])\n",
    "    curEprobs = clf.predict_proba(stdXs[testIdx, :])\n",
    "    curAuc = roc_auc_score(Ys[testIdx], curEprobs[:, 1])\n",
    "    Aucss.append(curAuc)\n",
    "mAUC = np.mean(Aucss)\n",
    "stdAUC = np.std(Aucss)\n",
    "print(f\"The mean of AUC under 1000 repetitions is {mAUC:.3f} and the standard deviation is {stdAUC:.3f}.\")"
   ]
  },
  {
   "cell_type": "code",
   "execution_count": 25,
   "metadata": {},
   "outputs": [
    {
     "data": {
      "text/plain": [
       "<matplotlib.legend.Legend at 0x7f97f558cb90>"
      ]
     },
     "execution_count": 25,
     "metadata": {},
     "output_type": "execute_result"
    },
    {
     "data": {
      "image/png": "[encoded data removed]",
      "text/plain": [
       "<Figure size 360x360 with 1 Axes>"
      ]
     },
     "metadata": {
      "needs_background": "light"
     },
     "output_type": "display_data"
    }
   ],
   "source": [
    "plt.figure(figsize=[5, 5])\n",
    "plt.plot(fpr, tpr, label=f\"ROC curve LASSO (area ={auc:.3f}).\", lw=2, color=\"red\")\n",
    "plt.plot([0, 1], [0, 1], color=\"navy\", lw=2, linestyle=\"--\")\n",
    "plt.xlim([-0.05, 1.0])\n",
    "plt.ylim([0.0, 1.05])\n",
    "plt.xlabel(\"False Positive Rate\")\n",
    "plt.ylabel(\"True Positive Rate\")\n",
    "plt.title(\"ROC for the Logistic regression\")\n",
    "plt.legend(loc=\"lower right\")\n",
    "#plt.savefig(\"./plots/roc.jpg\", bbox_inches='tight')"
   ]
  },
  {
   "cell_type": "code",
   "execution_count": 226,
   "metadata": {},
   "outputs": [
    {
     "name": "stdout",
     "output_type": "stream",
     "text": [
      "Features are ['r', 'ncpts', 'wUsumAll'].\n",
      "The AUC under optimal C is 0.791.\n",
      "The mean of AUC under 1000 repetitions is 0.787 and the standard deviation is 0.074.\n",
      "----------------------------------------------------------------------------------------------------\n",
      "Features are ['r', 'ncpts', 'wUmeanAll'].\n",
      "The AUC under optimal C is 0.790.\n",
      "The mean of AUC under 1000 repetitions is 0.785 and the standard deviation is 0.079.\n",
      "----------------------------------------------------------------------------------------------------\n",
      "Features are ['r', 'ncpts', 'maxwU'].\n",
      "The AUC under optimal C is 0.688.\n",
      "The mean of AUC under 1000 repetitions is 0.688 and the standard deviation is 0.090.\n",
      "----------------------------------------------------------------------------------------------------\n"
     ]
    }
   ],
   "source": [
    "l1_ratio = 0.1\n",
    "penalty = \"l2\"\n",
    "fsNameSet = [\n",
    "             # [\"r\"], \n",
    "             # [\"ncpts\"], \n",
    "             # [\"wUsumAll\"], \n",
    "             # [\"wUmeanAll\"], \n",
    "             # [\"ncpts\", \"wUsumAll\"], \n",
    "             # [\"ncpts\", \"wUmeanAll\"], \n",
    "             # [\"r\", \"wUsumAll\"], \n",
    "             # [\"r\", \"wUmeanAll\"], \n",
    "             [\"r\", \"ncpts\", \"wUsumAll\"],  \n",
    "             [\"r\", \"ncpts\", \"wUmeanAll\"], \n",
    "             [\"r\", \"ncpts\", \"maxwU\"]]\n",
    "for fsName in fsNameSet:\n",
    "    Ys = np.concatenate([np.ones(len(fsAD)), np.zeros(len(fsCtrl))])\n",
    "    XsAD = []\n",
    "    XsCtrl = []\n",
    "    for fName in fsName:\n",
    "        if isinstance(fsAD[0][fName], numbers.Number):\n",
    "            cfAD = np.array([fs[fName] for fs in fsAD]).reshape(-1, 1)\n",
    "            cfCtrl = np.array([fs[fName] for fs in fsCtrl]).reshape(-1, 1)\n",
    "        else:\n",
    "            cfAD = np.array([fs[fName] for fs in fsAD])\n",
    "            cfCtrl = np.array([fs[fName] for fs in fsCtrl])\n",
    "        \n",
    "        XsAD.append(cfAD)\n",
    "        XsCtrl.append(cfCtrl)\n",
    "    XsAD = np.concatenate(XsAD, axis=1)\n",
    "    XsCtrl = np.concatenate(XsCtrl, axis=1)\n",
    "    Xs = np.concatenate([XsAD, XsCtrl], axis=0)\n",
    "    stdXs = (Xs - Xs.mean(axis=0))/Xs.std(axis=0)\n",
    "    \n",
    "    Cs = [0.1, 0.2, 0.4, 0.8, 1, 1.6, 3.2, 6.4]\n",
    "    aucCs = []\n",
    "    for C in Cs:\n",
    "        eProbs = []\n",
    "        loo = LeaveOneOut()\n",
    "        for trIdxs, testIdxs in loo.split(stdXs):\n",
    "            clf = LogisticRegression(penalty=penalty, random_state=0, C=C)\n",
    "            #clf = LogisticRegression(penalty=\"elasticnet\", random_state=0, C=C, solver=\"saga\", l1_ratio=l1_ratio)\n",
    "            clf.fit(stdXs[trIdxs, :], Ys[trIdxs])\n",
    "            eProbs.append(clf.predict_proba(stdXs[testIdxs, :]))\n",
    "        eProbs = np.array(eProbs).squeeze()\n",
    "        auc = roc_auc_score(Ys, eProbs[:, 1])\n",
    "        fpr, tpr, thresholds = roc_curve(Ys, eProbs[:, 1], pos_label=1)\n",
    "        aucCs.append(auc)\n",
    "        \n",
    "    optC = Cs[np.argmax(aucCs)]\n",
    "    eProbs = []\n",
    "    loo = LeaveOneOut()\n",
    "    parass = []\n",
    "    for trIdxs, testIdxs in loo.split(stdXs):\n",
    "        clf = LogisticRegression(penalty=penalty, random_state=0, C=optC)\n",
    "        #clf = LogisticRegression(penalty=\"elasticnet\", random_state=0, C=optC, solver=\"saga\", l1_ratio=l1_ratio)\n",
    "        clf.fit(stdXs[trIdxs, :], Ys[trIdxs])\n",
    "        paras = np.concatenate([clf.intercept_, clf.coef_.reshape(-1)])\n",
    "        parass.append(paras)\n",
    "        eProbs.append(clf.predict_proba(stdXs[testIdxs, :]))\n",
    "    eProbs = np.array(eProbs).squeeze()\n",
    "    auc = roc_auc_score(Ys, eProbs[:, 1])\n",
    "    fpr, tpr, thresholds = roc_curve(Ys, eProbs[:, 1], pos_label=1)\n",
    "    parass = np.array(parass)\n",
    "    \n",
    "    nobs = stdXs.shape[0]\n",
    "    Aucss = []\n",
    "    for j in range(1000):\n",
    "        testIdx = np.random.choice(nobs, int(nobs/5), False)\n",
    "        trainIdx = np.delete(np.arange(nobs), testIdx)\n",
    "        clf = LogisticRegression(penalty=penalty, random_state=0, C=optC)\n",
    "        #clf = LogisticRegression(penalty=\"elasticnet\", random_state=0, C=optC, solver=\"saga\", l1_ratio=l1_ratio)\n",
    "        clf.fit(stdXs[trainIdx], Ys[trainIdx])\n",
    "        curEprobs = clf.predict_proba(stdXs[testIdx, :])\n",
    "        curAuc = roc_auc_score(Ys[testIdx], curEprobs[:, 1])\n",
    "        Aucss.append(curAuc)\n",
    "    mAUC = np.mean(Aucss)\n",
    "    stdAUC = np.std(Aucss)\n",
    "    print(f\"Features are {fsName}.\")\n",
    "    print(f\"The AUC under optimal C is {auc:.3f}.\")\n",
    "    print(f\"The mean of AUC under 1000 repetitions is {mAUC:.3f} and the standard deviation is {stdAUC:.3f}.\")\n",
    "    print(\"-\"*100)"
   ]
  },
  {
   "cell_type": "markdown",
   "metadata": {},
   "source": [
    "### Switch between model I and II"
   ]
  },
  {
   "cell_type": "code",
   "execution_count": 27,
   "metadata": {},
   "outputs": [],
   "source": [
    "Ys = np.concatenate([np.ones(len(fsAD)), np.zeros(len(fsCtrl))])\n",
    "#fsName = [\"r\", \"maxwU\"]\n",
    "fsName = [\"r\", \"ncpts\", \"maxwU\", \"maxwU2\"]\n",
    "XsAD = []\n",
    "XsCtrl = []\n",
    "for fName in fsName:\n",
    "    if isinstance(fsAD[0][fName], numbers.Number):\n",
    "        cfAD = np.array([fs[fName] for fs in fsAD]).reshape(-1, 1)\n",
    "        cfCtrl = np.array([fs[fName] for fs in fsCtrl]).reshape(-1, 1)\n",
    "    else:\n",
    "        cfAD = np.array([fs[fName] for fs in fsAD])\n",
    "        cfCtrl = np.array([fs[fName] for fs in fsCtrl])\n",
    "    \n",
    "    XsAD.append(cfAD)\n",
    "    XsCtrl.append(cfCtrl)\n",
    "XsAD = np.concatenate(XsAD, axis=1)\n",
    "XsCtrl = np.concatenate(XsCtrl, axis=1)\n",
    "Xs = np.concatenate([XsAD, XsCtrl], axis=0)\n",
    "Xs = Xs[fs1Idxs, :]\n",
    "stdXs = (Xs - Xs.mean(axis=0))/Xs.std(axis=0)\n",
    "\n",
    "fsName = [\"r\", \"ncpts\", \"maxwU\"]\n",
    "XsAD = []\n",
    "XsCtrl = []\n",
    "for fName in fsName:\n",
    "    if isinstance(fsAD[0][fName], numbers.Number):\n",
    "        cfAD = np.array([fs[fName] for fs in fsAD]).reshape(-1, 1)\n",
    "        cfCtrl = np.array([fs[fName] for fs in fsCtrl]).reshape(-1, 1)\n",
    "    else:\n",
    "        cfAD = np.array([fs[fName] for fs in fsAD])\n",
    "        cfCtrl = np.array([fs[fName] for fs in fsCtrl])\n",
    "    \n",
    "    XsAD.append(cfAD)\n",
    "    XsCtrl.append(cfCtrl)\n",
    "XsAD = np.concatenate(XsAD, axis=1)\n",
    "XsCtrl = np.concatenate(XsCtrl, axis=1)\n",
    "Xs = np.concatenate([XsAD, XsCtrl], axis=0)\n",
    "stdXsPart = (Xs - Xs.mean(axis=0))/Xs.std(axis=0)"
   ]
  },
  {
   "cell_type": "code",
   "execution_count": 28,
   "metadata": {},
   "outputs": [
    {
     "data": {
      "text/plain": [
       "0.7625"
      ]
     },
     "execution_count": 28,
     "metadata": {},
     "output_type": "execute_result"
    }
   ],
   "source": [
    "Cs = [0.1, 0.2, 0.4, 0.8, 1, 1.6, 3.2, 6.4]\n",
    "aucCs = []\n",
    "for C in Cs:\n",
    "    eProbs = []\n",
    "    for tIdx in range(len(Ys)):\n",
    "        clf = LogisticRegression(penalty=\"l1\", random_state=0, C=C)\n",
    "        curNcpt = fsBoth[tIdx].ncpts\n",
    "        if curNcpt == 0:\n",
    "            trYs = np.delete(Ys, tIdx, axis=0)\n",
    "            trXs = np.delete(stdXsPart, tIdx, axis=0)\n",
    "            teXs = stdXsPart[tIdx, :].reshape(1, -1)\n",
    "        else:\n",
    "            curKpIdx = fs1Idxs.copy()\n",
    "            curKpIdx[tIdx] = False\n",
    "            trYs = Ys[curKpIdx]\n",
    "            \n",
    "            trXs = stdXs[np.where(fs1Idxs)[0] != tIdx, :]\n",
    "            teXs = stdXs[np.where(fs1Idxs)[0] == tIdx, :]\n",
    "            \n",
    "            \n",
    "        clf.fit(trXs, trYs)\n",
    "        eProbs.append(clf.predict_proba(teXs))\n",
    "    eProbs = np.array(eProbs).squeeze()\n",
    "    auc = roc_auc_score(Ys, eProbs[:, 1])\n",
    "    aucCs.append(auc)\n",
    "np.max(aucCs)"
   ]
  },
  {
   "cell_type": "code",
   "execution_count": 29,
   "metadata": {},
   "outputs": [
    {
     "data": {
      "text/plain": [
       "Text(0, 0.5, 'AUC')"
      ]
     },
     "execution_count": 29,
     "metadata": {},
     "output_type": "execute_result"
    },
    {
     "data": {
      "image/png": "[encoded data removed]",
      "text/plain": [
       "<Figure size 360x360 with 1 Axes>"
      ]
     },
     "metadata": {
      "needs_background": "light"
     },
     "output_type": "display_data"
    }
   ],
   "source": [
    "plt.figure(figsize=[5, 5])\n",
    "plt.plot(Cs, aucCs)\n",
    "plt.xscale(\"log\")\n",
    "plt.xlabel(\"C\")\n",
    "plt.ylabel(\"AUC\")"
   ]
  },
  {
   "cell_type": "code",
   "execution_count": 30,
   "metadata": {},
   "outputs": [
    {
     "name": "stdout",
     "output_type": "stream",
     "text": [
      "0.7625\n"
     ]
    }
   ],
   "source": [
    "optC = Cs[np.argmax(aucCs)]\n",
    "eProbs = []\n",
    "for tIdx in range(len(Ys)):\n",
    "    clf = LogisticRegression(penalty=\"l1\", random_state=0, C=optC)\n",
    "    curNcpt = fsBoth[tIdx].ncpts\n",
    "    if curNcpt == 0:\n",
    "        trYs = np.delete(Ys, tIdx, axis=0)\n",
    "        trXs = np.delete(stdXsPart, tIdx, axis=0)\n",
    "        teXs = stdXsPart[tIdx, :].reshape(1, -1)\n",
    "    else:\n",
    "        curKpIdx = fs1Idxs.copy()\n",
    "        curKpIdx[tIdx] = False\n",
    "        trYs = Ys[curKpIdx]\n",
    "        \n",
    "        trXs = stdXs[np.where(fs1Idxs)[0] != tIdx, :]\n",
    "        teXs = stdXs[np.where(fs1Idxs)[0] == tIdx, :]\n",
    "        \n",
    "        \n",
    "    clf.fit(trXs, trYs)\n",
    "    eProbs.append(clf.predict_proba(teXs))\n",
    "    \n",
    "eProbs = np.array(eProbs).squeeze()\n",
    "auc = roc_auc_score(Ys, eProbs[:, 1])\n",
    "fpr, tpr, thresholds = roc_curve(Ys, eProbs[:, 1], pos_label=1)\n",
    "print(auc)"
   ]
  },
  {
   "cell_type": "code",
   "execution_count": 31,
   "metadata": {},
   "outputs": [
    {
     "data": {
      "image/png": "[encoded data removed]",
      "text/plain": [
       "<Figure size 360x360 with 1 Axes>"
      ]
     },
     "metadata": {
      "needs_background": "light"
     },
     "output_type": "display_data"
    }
   ],
   "source": [
    "plt.figure(figsize=[5, 5])\n",
    "plt.plot(fpr, tpr, label=f\"ROC curve LASSO (area ={auc:.3f}).\", lw=2, color=\"red\")\n",
    "plt.plot([0, 1], [0, 1], color=\"navy\", lw=2, linestyle=\"--\")\n",
    "plt.xlim([-0.05, 1.0])\n",
    "plt.ylim([0.0, 1.05])\n",
    "plt.xlabel(\"False Positive Rate\")\n",
    "plt.ylabel(\"True Positive Rate\")\n",
    "plt.title(\"ROC for the Logistic regression under two models\")\n",
    "plt.legend(loc=\"lower right\")\n",
    "plt.savefig(\"./plots/rocComb.jpg\", bbox_inches='tight')"
   ]
  },
  {
   "cell_type": "code",
   "execution_count": 32,
   "metadata": {},
   "outputs": [],
   "source": [
    "from sklearn.metrics import f1_score"
   ]
  },
  {
   "cell_type": "code",
   "execution_count": 33,
   "metadata": {},
   "outputs": [
    {
     "data": {
      "text/plain": [
       "0.7522935779816513"
      ]
     },
     "execution_count": 33,
     "metadata": {},
     "output_type": "execute_result"
    },
    {
     "data": {
      "image/png": "[encoded data removed]",
      "text/plain": [
       "<Figure size 360x360 with 1 Axes>"
      ]
     },
     "metadata": {
      "needs_background": "light"
     },
     "output_type": "display_data"
    }
   ],
   "source": [
    "thres = np.linspace(0, 1, 100)\n",
    "f1s = []\n",
    "for thre in thres:\n",
    "    f1s.append(f1_score(Ys, eProbs[:, 1]>thre))\n",
    "    \n",
    "plt.figure(figsize=[5, 5])\n",
    "plt.plot(thres, f1s)\n",
    "plt.xlabel(\"Threshold\")\n",
    "plt.ylabel(\"F1 score\")\n",
    "\n",
    "optThre = thres[np.argmax(f1s)]\n",
    "#optThre = 0.5\n",
    "f1_score(Ys, eProbs[:, 1]>optThre)"
   ]
  },
  {
   "cell_type": "code",
   "execution_count": null,
   "metadata": {},
   "outputs": [],
   "source": []
  }
 ],
 "metadata": {
  "kernelspec": {
   "display_name": "Python 3",
   "language": "python",
   "name": "python3"
  },
  "language_info": {
   "codemirror_mode": {
    "name": "ipython",
    "version": 3
   },
   "file_extension": ".py",
   "mimetype": "text/x-python",
   "name": "python",
   "nbconvert_exporter": "python",
   "pygments_lexer": "ipython3",
   "version": "3.7.4"
  }
 },
 "nbformat": 4,
 "nbformat_minor": 2
}
