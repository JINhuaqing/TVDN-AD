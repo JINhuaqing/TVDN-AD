{
 "cells": [
  {
   "cell_type": "markdown",
   "metadata": {},
   "source": [
    "This file contains the code for ND, DMD, TVDMD and TVDN including\n",
    "\n",
    "- regression:  double reg, first for selecting feaures and second for AUC and prediction\n",
    "\n",
    "\n",
    "Here I split the dataset into testing and training sets for prediction"
   ]
  },
  {
   "cell_type": "code",
   "execution_count": 34,
   "metadata": {
    "ExecuteTime": {
     "end_time": "2022-10-18T03:27:27.414261Z",
     "start_time": "2022-10-18T03:27:27.409580Z"
    }
   },
   "outputs": [],
   "source": [
    "import sys\n",
    "sys.path.append(\"/home/huaqingj/MyResearch/TVDN-AD/\")"
   ]
  },
  {
   "cell_type": "code",
   "execution_count": 35,
   "metadata": {
    "ExecuteTime": {
     "end_time": "2022-10-18T03:27:27.824326Z",
     "start_time": "2022-10-18T03:27:27.815789Z"
    }
   },
   "outputs": [],
   "source": [
    "import importlib\n",
    "from pyTVDN import TVDNDetect\n",
    "\n",
    "import pyTVDN.utils\n",
    "importlib.reload(pyTVDN.utils)\n",
    "from pyTVDN.utils import load_pkl, save_pkl\n",
    "\n",
    "from sklearn.cluster import KMeans\n",
    "from pathlib import Path\n",
    "from scipy.io import loadmat\n",
    "import numpy as np\n",
    "from easydict import EasyDict as edict\n",
    "import matplotlib.pyplot as plt\n",
    "import os\n",
    "from scipy import signal\n",
    "import pickle\n",
    "import seaborn as sns\n",
    "#from tqdm.autonotebook import tqdm\n",
    "from tqdm import tqdm\n",
    "import numbers\n",
    "%matplotlib inline"
   ]
  },
  {
   "cell_type": "code",
   "execution_count": 36,
   "metadata": {
    "ExecuteTime": {
     "end_time": "2022-10-18T03:27:28.198974Z",
     "start_time": "2022-10-18T03:27:28.191043Z"
    }
   },
   "outputs": [],
   "source": [
    "from sklearn.linear_model import LogisticRegression\n",
    "from sklearn.model_selection import LeaveOneOut\n",
    "from sklearn.metrics import roc_auc_score, roc_curve\n",
    "\n",
    "import warnings\n",
    "warnings.filterwarnings('ignore')"
   ]
  },
  {
   "cell_type": "markdown",
   "metadata": {},
   "source": [
    "### save fns"
   ]
  },
  {
   "cell_type": "code",
   "execution_count": 37,
   "metadata": {
    "ExecuteTime": {
     "end_time": "2022-10-18T03:27:28.921397Z",
     "start_time": "2022-10-18T03:27:28.916528Z"
    }
   },
   "outputs": [],
   "source": [
    "os.chdir(\"/home/huaqingj/MyResearch/TVDN-AD\")\n",
    "resDir = Path(\"./results\")\n",
    "dataDir = Path(\"./data\")"
   ]
  },
  {
   "cell_type": "code",
   "execution_count": 38,
   "metadata": {
    "ExecuteTime": {
     "end_time": "2022-10-18T03:27:29.513338Z",
     "start_time": "2022-10-18T03:27:29.507751Z"
    }
   },
   "outputs": [],
   "source": [
    "def split_data(X_data, Y_data, ratio=0.5):\n",
    "    sel_idx = np.sort(np.random.choice(len(Y_data), int(len(Y_data)*ratio), replace=False))\n",
    "    X_train, Y_train = X_data[sel_idx, :], Y_data[sel_idx]\n",
    "    X_test, Y_test = np.delete(X_data, sel_idx, axis=0), np.delete(Y_data, sel_idx)\n",
    "    return X_train, Y_train, X_test, Y_test"
   ]
  },
  {
   "cell_type": "code",
   "execution_count": 39,
   "metadata": {
    "ExecuteTime": {
     "end_time": "2022-10-18T03:27:30.391044Z",
     "start_time": "2022-10-18T03:27:30.383598Z"
    }
   },
   "outputs": [],
   "source": [
    "def TuningCFn(inpX, inpY, Cs=[0.1, 0.2, 0.4, 0.8, 1, 1.6, 3.2, 6.4, 12.8, 25.6], penalty=\"l2\"):\n",
    "    aucCs = []\n",
    "    for C in Cs:\n",
    "        eProbs = []\n",
    "        loo = LeaveOneOut()\n",
    "        for trIdxs, testIdxs in loo.split(inpX):\n",
    "            clf = LogisticRegression(penalty=penalty, random_state=0, C=C)\n",
    "            clf.fit(inpX[trIdxs, :], inpY[trIdxs])\n",
    "            eProbs.append(clf.predict_proba(inpX[testIdxs, :]))\n",
    "        eProbs = np.array(eProbs).squeeze()\n",
    "        auc = roc_auc_score(inpY, eProbs[:, 1])\n",
    "        fpr, tpr, thresholds = roc_curve(inpY, eProbs[:, 1], pos_label=1)\n",
    "        aucCs.append(auc)\n",
    "            \n",
    "    optC = Cs[np.argmax(aucCs)]\n",
    "    res = edict()\n",
    "    res[\"optC\"] = optC\n",
    "    res[\"Cs\"] = Cs\n",
    "    res[\"aucCs\"] = aucCs\n",
    "    return res"
   ]
  },
  {
   "cell_type": "markdown",
   "metadata": {},
   "source": [
    "### Parameters"
   ]
  },
  {
   "cell_type": "code",
   "execution_count": 40,
   "metadata": {
    "ExecuteTime": {
     "end_time": "2022-10-18T03:27:31.390204Z",
     "start_time": "2022-10-18T03:27:31.385017Z"
    }
   },
   "outputs": [],
   "source": [
    "Cs = [0.001, 0.01, 0.05, 0.1, 0.2, 0.4, 0.8, 1, 1.6, 3.2, 6.4, 12.8, 25.6]\n",
    "freq = 120\n",
    "penalty = \"l2\""
   ]
  },
  {
   "cell_type": "code",
   "execution_count": 55,
   "metadata": {
    "ExecuteTime": {
     "end_time": "2022-10-18T16:20:06.797443Z",
     "start_time": "2022-10-18T16:20:06.794400Z"
    }
   },
   "outputs": [],
   "source": [
    "model = \"TVDN\"\n",
    "\n",
    "cur_data = load_pkl(resDir/f\"./tmp_res/{model}_data.pkl\")\n",
    "stdXs, Ys = cur_data[\"stdXs\"], cur_data[\"Ys\"]"
   ]
  },
  {
   "cell_type": "markdown",
   "metadata": {},
   "source": [
    "### RUN"
   ]
  },
  {
   "cell_type": "code",
   "execution_count": null,
   "metadata": {
    "ExecuteTime": {
     "end_time": "2022-10-18T03:29:57.381634Z",
     "start_time": "2022-10-18T03:27:35.797712Z"
    }
   },
   "outputs": [],
   "source": [
    "# you can use DMD, ND or TVDMD\n",
    "np.random.seed(0)\n",
    "\n",
    "aucs = []\n",
    "mAUCs = []\n",
    "stdAUCs = []\n",
    "for ix in tqdm(range(100)):\n",
    "\n",
    "    X_train, Y_train, X_test, Y_test = split_data(stdXs, Ys)\n",
    "    \n",
    "    # training to selected features\n",
    "    ## fit\n",
    "    gOptC1 = TuningCFn(X_train, Y_train, Cs, penalty)[\"optC\"]\n",
    "    \n",
    "    # fit the first reg\n",
    "    clfFinal = LogisticRegression(penalty=penalty, random_state=0, C=gOptC1)\n",
    "    clfFinal.fit(X_train, Y_train)\n",
    "    coefsFinal = clfFinal.coef_.reshape(-1)\n",
    "    \n",
    "    # boostrap for pval\n",
    "    repTime = 10000\n",
    "    parassBoot = []\n",
    "    for i in range(repTime):\n",
    "        bootIdx = np.random.choice(len(Y_train), len(Y_train))\n",
    "        Y_trainBoot = Y_train[bootIdx]\n",
    "        X_trainBoot = X_train[bootIdx]\n",
    "        clf = LogisticRegression(penalty=penalty, random_state=0, C=gOptC1)\n",
    "        clf.fit(X_trainBoot, Y_trainBoot)\n",
    "        parasBoot = clf.coef_.reshape(-1)\n",
    "        parassBoot.append(parasBoot)\n",
    "        \n",
    "    parassBoot = np.array(parassBoot)\n",
    "    lows, ups = coefsFinal-parassBoot.std(axis=0)*1.96, coefsFinal+parassBoot.std(axis=0)*1.96\n",
    "    kpidxBoot = np.bitwise_or(lows >0,  ups < 0)\n",
    "    select_fs_idx = kpidxBoot\n",
    "\n",
    "\n",
    "    # testing to get prediction\n",
    "    X_test_selected = X_test[:, select_fs_idx]\n",
    "    \n",
    "    gOptC2 = TuningCFn(X_test_selected, Y_test, Cs, penalty=penalty)[\"optC\"]\n",
    "    \n",
    "    eProbs = []\n",
    "    loo = LeaveOneOut()\n",
    "    parass = []\n",
    "    for trIdxs, testIdxs in loo.split(X_test_selected):\n",
    "        curOptC = TuningCFn(X_test_selected[trIdxs, :], Y_test[trIdxs], Cs, penalty)[\"optC\"]\n",
    "        clf = LogisticRegression(penalty=penalty, random_state=0, C=curOptC)\n",
    "        clf.fit(X_test_selected[trIdxs, :], Y_test[trIdxs])\n",
    "        paras = np.concatenate([clf.intercept_, clf.coef_.reshape(-1)])\n",
    "        parass.append(paras)\n",
    "        eProbs.append(clf.predict_proba(X_test_selected[testIdxs, :]))\n",
    "    eProbs = np.array(eProbs).squeeze()\n",
    "    auc = roc_auc_score(Y_test, eProbs[:, 1])\n",
    "    fpr, tpr, thresholds = roc_curve(Y_test, eProbs[:, 1], pos_label=1)\n",
    "    parass = np.array(parass)\n",
    "    \n",
    "    \n",
    "    nobs = X_test_selected.shape[0]\n",
    "    Aucss = []\n",
    "    for j in range(10000):\n",
    "        flag = 1 # to avoid all 1 or all 0 cases\n",
    "        while flag:\n",
    "            testIdx = np.random.choice(nobs, int(nobs/5), False)\n",
    "            trainIdx = np.delete(np.arange(nobs), testIdx)\n",
    "            n_test, n_train = np.sum(Y_test[testIdx]), np.sum(Y_test[trainIdx])\n",
    "            flag = (n_test==0) + (n_train==0) + (n_test==len(testIdx)) + (n_train==len(trainIdx))\n",
    "            \n",
    "        clf = LogisticRegression(penalty=penalty, random_state=0, C=gOptC2)\n",
    "        clf.fit(X_test_selected[trainIdx], Y_test[trainIdx])\n",
    "        curEprobs = clf.predict_proba(X_test_selected[testIdx, :])\n",
    "        curAuc = roc_auc_score(Y_test[testIdx], curEprobs[:, 1])\n",
    "        Aucss.append(curAuc)\n",
    "    mAUC = np.mean(Aucss)\n",
    "    stdAUC = np.std(Aucss)\n",
    "    \n",
    "    aucs.append(auc)\n",
    "    mAUCs.append(mAUC)\n",
    "    stdAUCs.append(stdAUC)\n",
    "\n",
    "resROC = {\"aucs\":aucs, \n",
    "          \"mAUCs\":mAUCs, \n",
    "          \"stdAUCs\":stdAUCs}\n",
    "save_pkl(resDir/f\"{model}_prediction.pkl\", resROC)"
   ]
  },
  {
   "cell_type": "code",
   "execution_count": null,
   "metadata": {},
   "outputs": [],
   "source": []
  },
  {
   "cell_type": "markdown",
   "metadata": {},
   "source": [
    "### Results"
   ]
  },
  {
   "cell_type": "code",
   "execution_count": 52,
   "metadata": {
    "ExecuteTime": {
     "end_time": "2022-10-18T16:18:38.097091Z",
     "start_time": "2022-10-18T16:18:38.091343Z"
    }
   },
   "outputs": [],
   "source": [
    "models = [\"DMD\", \"ND\", \"TVDMD\", \"TVDN\"]\n",
    "res_all = edict()\n",
    "for model in models:\n",
    "    res_all[model] = load_pkl(resDir/f\"{model}_prediction_100.pkl\")"
   ]
  },
  {
   "cell_type": "code",
   "execution_count": 59,
   "metadata": {
    "ExecuteTime": {
     "end_time": "2022-10-18T16:20:45.900940Z",
     "start_time": "2022-10-18T16:20:45.892883Z"
    }
   },
   "outputs": [
    {
     "name": "stdout",
     "output_type": "stream",
     "text": [
      "DMD 0.6140133173458967\n",
      "ND 0.6499124522871148\n",
      "TVDMD 0.6520165478501398\n",
      "TVDN 0.6710884399897173\n"
     ]
    }
   ],
   "source": [
    "for key in res_all.keys():\n",
    "    print(key, np.mean(res_all[key][\"aucs\"]))"
   ]
  },
  {
   "cell_type": "code",
   "execution_count": 57,
   "metadata": {
    "ExecuteTime": {
     "end_time": "2022-10-18T16:20:31.286946Z",
     "start_time": "2022-10-18T16:20:31.283300Z"
    }
   },
   "outputs": [
    {
     "data": {
      "text/plain": [
       "dict_keys(['aucs', 'mAUCs', 'stdAUCs'])"
      ]
     },
     "execution_count": 57,
     "metadata": {},
     "output_type": "execute_result"
    }
   ],
   "source": [
    "res_all[\"DMD\"].keys()"
   ]
  },
  {
   "cell_type": "code",
   "execution_count": null,
   "metadata": {},
   "outputs": [],
   "source": []
  }
 ],
 "metadata": {
  "kernelspec": {
   "display_name": "Python 3",
   "language": "python",
   "name": "python3"
  },
  "language_info": {
   "codemirror_mode": {
    "name": "ipython",
    "version": 3
   },
   "file_extension": ".py",
   "mimetype": "text/x-python",
   "name": "python",
   "nbconvert_exporter": "python",
   "pygments_lexer": "ipython3",
   "version": "3.7.4"
  },
  "toc": {
   "base_numbering": 1,
   "nav_menu": {},
   "number_sections": true,
   "sideBar": true,
   "skip_h1_title": false,
   "title_cell": "Table of Contents",
   "title_sidebar": "Contents",
   "toc_cell": false,
   "toc_position": {},
   "toc_section_display": true,
   "toc_window_display": true
  }
 },
 "nbformat": 4,
 "nbformat_minor": 2
}
