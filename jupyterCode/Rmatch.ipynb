{
 "cells": [
  {
   "cell_type": "code",
   "execution_count": 22,
   "metadata": {},
   "outputs": [],
   "source": [
    "library(MatchIt)\n",
    "library(readxl)"
   ]
  },
  {
   "cell_type": "code",
   "execution_count": 23,
   "metadata": {},
   "outputs": [],
   "source": [
    "allDat <- read.csv(\"../NewDataBaseChara.csv\")"
   ]
  },
  {
   "cell_type": "code",
   "execution_count": 24,
   "metadata": {},
   "outputs": [
    {
     "data": {
      "text/html": [
       "<table>\n",
       "<caption>A data.frame: 6 × 3</caption>\n",
       "<thead>\n",
       "\t<tr><th></th><th scope=col>Gender</th><th scope=col>MEG_Age</th><th scope=col>Grp</th></tr>\n",
       "\t<tr><th></th><th scope=col>&lt;fct&gt;</th><th scope=col>&lt;dbl&gt;</th><th scope=col>&lt;fct&gt;</th></tr>\n",
       "</thead>\n",
       "<tbody>\n",
       "\t<tr><th scope=row>1</th><td>female</td><td>79.6</td><td>AD</td></tr>\n",
       "\t<tr><th scope=row>2</th><td>female</td><td>59.1</td><td>AD</td></tr>\n",
       "\t<tr><th scope=row>3</th><td>female</td><td>70.1</td><td>AD</td></tr>\n",
       "\t<tr><th scope=row>4</th><td>male  </td><td>64.3</td><td>AD</td></tr>\n",
       "\t<tr><th scope=row>5</th><td>female</td><td>53.9</td><td>AD</td></tr>\n",
       "\t<tr><th scope=row>6</th><td>female</td><td>57.2</td><td>AD</td></tr>\n",
       "</tbody>\n",
       "</table>\n"
      ],
      "text/latex": [
       "A data.frame: 6 × 3\n",
       "\\begin{tabular}{r|lll}\n",
       "  & Gender & MEG\\_Age & Grp\\\\\n",
       "  & <fct> & <dbl> & <fct>\\\\\n",
       "\\hline\n",
       "\t1 & female & 79.6 & AD\\\\\n",
       "\t2 & female & 59.1 & AD\\\\\n",
       "\t3 & female & 70.1 & AD\\\\\n",
       "\t4 & male   & 64.3 & AD\\\\\n",
       "\t5 & female & 53.9 & AD\\\\\n",
       "\t6 & female & 57.2 & AD\\\\\n",
       "\\end{tabular}\n"
      ],
      "text/markdown": [
       "\n",
       "A data.frame: 6 × 3\n",
       "\n",
       "| <!--/--> | Gender &lt;fct&gt; | MEG_Age &lt;dbl&gt; | Grp &lt;fct&gt; |\n",
       "|---|---|---|---|\n",
       "| 1 | female | 79.6 | AD |\n",
       "| 2 | female | 59.1 | AD |\n",
       "| 3 | female | 70.1 | AD |\n",
       "| 4 | male   | 64.3 | AD |\n",
       "| 5 | female | 53.9 | AD |\n",
       "| 6 | female | 57.2 | AD |\n",
       "\n"
      ],
      "text/plain": [
       "  Gender MEG_Age Grp\n",
       "1 female 79.6    AD \n",
       "2 female 59.1    AD \n",
       "3 female 70.1    AD \n",
       "4 male   64.3    AD \n",
       "5 female 53.9    AD \n",
       "6 female 57.2    AD "
      ]
     },
     "metadata": {},
     "output_type": "display_data"
    }
   ],
   "source": [
    "head(allDat)"
   ]
  },
  {
   "cell_type": "code",
   "execution_count": 25,
   "metadata": {},
   "outputs": [
    {
     "data": {
      "text/plain": [
       "\n",
       "Call:\n",
       "matchit(formula = Grp ~ MEG_Age, data = allDat, distance = \"glm\", \n",
       "    estimand = \"ATT\", ratio = 1)\n",
       "\n",
       "Summary of Balance for All Data:\n",
       "         Means Treated Means Control Std. Mean Diff. Var. Ratio eCDF Mean\n",
       "distance        0.4775        0.3741          0.7463     0.7381    0.1984\n",
       "MEG_Age        68.2838       62.7307          0.7788     0.6737    0.1984\n",
       "         eCDF Max\n",
       "distance   0.3687\n",
       "MEG_Age    0.3687\n",
       "\n",
       "\n",
       "Summary of Balance for Matched Data:\n",
       "         Means Treated Means Control Std. Mean Diff. Var. Ratio eCDF Mean\n",
       "distance        0.4775        0.4124          0.4697     1.0340    0.1195\n",
       "MEG_Age        68.2838       64.9587          0.4663     1.0258    0.1195\n",
       "         eCDF Max Std. Pair Dist.\n",
       "distance   0.2698          0.4706\n",
       "MEG_Age    0.2698          0.4675\n",
       "\n",
       "Percent Balance Improvement:\n",
       "         Std. Mean Diff. Var. Ratio eCDF Mean eCDF Max\n",
       "distance            37.1       89.0      39.8     26.8\n",
       "MEG_Age             40.1       93.6      39.8     26.8\n",
       "\n",
       "Sample Sizes:\n",
       "          Control Treated\n",
       "All            88      63\n",
       "Matched        63      63\n",
       "Unmatched      25       0\n",
       "Discarded       0       0\n"
      ]
     },
     "metadata": {},
     "output_type": "display_data"
    }
   ],
   "source": [
    "res <- matchit(Grp~MEG_Age, data=allDat, distance=\"glm\", ratio=1, estimand=\"ATT\")\n",
    "summary(res)"
   ]
  },
  {
   "cell_type": "code",
   "execution_count": 26,
   "metadata": {},
   "outputs": [],
   "source": [
    "tmp <- match.data(res)"
   ]
  },
  {
   "cell_type": "code",
   "execution_count": 27,
   "metadata": {},
   "outputs": [
    {
     "data": {
      "text/html": [
       "<table>\n",
       "<caption>A matchdata: 6 × 6</caption>\n",
       "<thead>\n",
       "\t<tr><th></th><th scope=col>Gender</th><th scope=col>MEG_Age</th><th scope=col>Grp</th><th scope=col>distance</th><th scope=col>weights</th><th scope=col>subclass</th></tr>\n",
       "\t<tr><th></th><th scope=col>&lt;fct&gt;</th><th scope=col>&lt;dbl&gt;</th><th scope=col>&lt;fct&gt;</th><th scope=col>&lt;dbl&gt;</th><th scope=col>&lt;dbl&gt;</th><th scope=col>&lt;fct&gt;</th></tr>\n",
       "</thead>\n",
       "<tbody>\n",
       "\t<tr><th scope=row>1</th><td>female</td><td>79.6</td><td>AD</td><td>0.6975629</td><td>1</td><td>52</td></tr>\n",
       "\t<tr><th scope=row>2</th><td>female</td><td>59.1</td><td>AD</td><td>0.2964339</td><td>1</td><td>8 </td></tr>\n",
       "\t<tr><th scope=row>3</th><td>female</td><td>70.1</td><td>AD</td><td>0.5119697</td><td>1</td><td>35</td></tr>\n",
       "\t<tr><th scope=row>4</th><td>male  </td><td>64.3</td><td>AD</td><td>0.3933855</td><td>1</td><td>16</td></tr>\n",
       "\t<tr><th scope=row>5</th><td>female</td><td>53.9</td><td>AD</td><td>0.2149113</td><td>1</td><td>60</td></tr>\n",
       "\t<tr><th scope=row>6</th><td>female</td><td>57.2</td><td>AD</td><td>0.2646567</td><td>1</td><td>53</td></tr>\n",
       "</tbody>\n",
       "</table>\n"
      ],
      "text/latex": [
       "A matchdata: 6 × 6\n",
       "\\begin{tabular}{r|llllll}\n",
       "  & Gender & MEG\\_Age & Grp & distance & weights & subclass\\\\\n",
       "  & <fct> & <dbl> & <fct> & <dbl> & <dbl> & <fct>\\\\\n",
       "\\hline\n",
       "\t1 & female & 79.6 & AD & 0.6975629 & 1 & 52\\\\\n",
       "\t2 & female & 59.1 & AD & 0.2964339 & 1 & 8 \\\\\n",
       "\t3 & female & 70.1 & AD & 0.5119697 & 1 & 35\\\\\n",
       "\t4 & male   & 64.3 & AD & 0.3933855 & 1 & 16\\\\\n",
       "\t5 & female & 53.9 & AD & 0.2149113 & 1 & 60\\\\\n",
       "\t6 & female & 57.2 & AD & 0.2646567 & 1 & 53\\\\\n",
       "\\end{tabular}\n"
      ],
      "text/markdown": [
       "\n",
       "A matchdata: 6 × 6\n",
       "\n",
       "| <!--/--> | Gender &lt;fct&gt; | MEG_Age &lt;dbl&gt; | Grp &lt;fct&gt; | distance &lt;dbl&gt; | weights &lt;dbl&gt; | subclass &lt;fct&gt; |\n",
       "|---|---|---|---|---|---|---|\n",
       "| 1 | female | 79.6 | AD | 0.6975629 | 1 | 52 |\n",
       "| 2 | female | 59.1 | AD | 0.2964339 | 1 | 8  |\n",
       "| 3 | female | 70.1 | AD | 0.5119697 | 1 | 35 |\n",
       "| 4 | male   | 64.3 | AD | 0.3933855 | 1 | 16 |\n",
       "| 5 | female | 53.9 | AD | 0.2149113 | 1 | 60 |\n",
       "| 6 | female | 57.2 | AD | 0.2646567 | 1 | 53 |\n",
       "\n"
      ],
      "text/plain": [
       "  Gender MEG_Age Grp distance  weights subclass\n",
       "1 female 79.6    AD  0.6975629 1       52      \n",
       "2 female 59.1    AD  0.2964339 1       8       \n",
       "3 female 70.1    AD  0.5119697 1       35      \n",
       "4 male   64.3    AD  0.3933855 1       16      \n",
       "5 female 53.9    AD  0.2149113 1       60      \n",
       "6 female 57.2    AD  0.2646567 1       53      "
      ]
     },
     "metadata": {},
     "output_type": "display_data"
    }
   ],
   "source": [
    "head(tmp)"
   ]
  },
  {
   "cell_type": "code",
   "execution_count": 40,
   "metadata": {},
   "outputs": [
    {
     "data": {
      "text/plain": [
       "\n",
       "\tWelch Two Sample t-test\n",
       "\n",
       "data:  ad and ctrl\n",
       "t = -4.304, df = 146.16, p-value = 3.056e-05\n",
       "alternative hypothesis: true difference in means is not equal to 0\n",
       "95 percent confidence interval:\n",
       " -8.103014 -3.003253\n",
       "sample estimates:\n",
       "mean of x mean of y \n",
       " 62.73068  68.28382 \n"
      ]
     },
     "metadata": {},
     "output_type": "display_data"
    }
   ],
   "source": [
    "curDat = allDat \n",
    "ad <- curDat$MEG_Age[curDat$Grp==\"AD\"]\n",
    "ctrl <- curDat$MEG_Age[curDat$Grp==\"Ctrl\"]\n",
    "t.test(ad, ctrl)"
   ]
  },
  {
   "cell_type": "code",
   "execution_count": 41,
   "metadata": {},
   "outputs": [
    {
     "data": {
      "image/png": "[encoded data removed]",
      "text/plain": [
       "Plot with title “Histogram of ad”"
      ]
     },
     "metadata": {
      "image/png": {
       "height": 420,
       "width": 420
      }
     },
     "output_type": "display_data"
    }
   ],
   "source": [
    "hist(ad, col=rgb(1, 0, 0, 0.5))\n",
    "hist(ctrl, col=rgb(0, 1, 0, 0.5), add=T)"
   ]
  },
  {
   "cell_type": "code",
   "execution_count": 39,
   "metadata": {},
   "outputs": [
    {
     "data": {
      "image/png": "[encoded data removed]",
      "text/plain": [
       "Plot with title “Histogram of ad”"
      ]
     },
     "metadata": {
      "image/png": {
       "height": 420,
       "width": 420
      }
     },
     "output_type": "display_data"
    }
   ],
   "source": [
    "hist(ad, col=rgb(1, 0, 0, 0.5))\n",
    "hist(ctrl, col=rgb(0, 1, 0, 0.5), add=T)"
   ]
  },
  {
   "cell_type": "code",
   "execution_count": null,
   "metadata": {},
   "outputs": [],
   "source": []
  },
  {
   "cell_type": "code",
   "execution_count": 45,
   "metadata": {},
   "outputs": [
    {
     "data": {
      "text/plain": [
       "\n",
       "\tWelch Two Sample t-test\n",
       "\n",
       "data:  ad and ctrl\n",
       "t = -1.6746, df = 125.95, p-value = 0.09649\n",
       "alternative hypothesis: true difference in means is not equal to 0\n",
       "95 percent confidence interval:\n",
       " -4.7276231  0.3938379\n",
       "sample estimates:\n",
       "mean of x mean of y \n",
       " 66.11692  68.28382 \n"
      ]
     },
     "metadata": {},
     "output_type": "display_data"
    }
   ],
   "source": [
    "curDat = allDat \n",
    "ad <- curDat$MEG_Age[(curDat$Grp==\"AD\") & (curDat$MEG_Age>56)]\n",
    "ctrl <- curDat$MEG_Age[curDat$Grp==\"Ctrl\"]\n",
    "t.test(ad, ctrl)"
   ]
  },
  {
   "cell_type": "code",
   "execution_count": 46,
   "metadata": {},
   "outputs": [
    {
     "data": {
      "text/html": [
       "65"
      ],
      "text/latex": [
       "65"
      ],
      "text/markdown": [
       "65"
      ],
      "text/plain": [
       "[1] 65"
      ]
     },
     "metadata": {},
     "output_type": "display_data"
    }
   ],
   "source": [
    "length(ad)"
   ]
  },
  {
   "cell_type": "code",
   "execution_count": 47,
   "metadata": {},
   "outputs": [
    {
     "data": {
      "image/png": "[encoded data removed]",
      "text/plain": [
       "Plot with title “Histogram of ad”"
      ]
     },
     "metadata": {
      "image/png": {
       "height": 420,
       "width": 420
      }
     },
     "output_type": "display_data"
    }
   ],
   "source": [
    "hist(ad, col=rgb(1, 0, 0, 0.5))\n",
    "hist(ctrl, col=rgb(0, 1, 0, 0.5), add=T)"
   ]
  },
  {
   "cell_type": "code",
   "execution_count": null,
   "metadata": {},
   "outputs": [],
   "source": []
  }
 ],
 "metadata": {
  "kernelspec": {
   "display_name": "R",
   "language": "R",
   "name": "ir"
  },
  "language_info": {
   "codemirror_mode": "r",
   "file_extension": ".r",
   "mimetype": "text/x-r-source",
   "name": "R",
   "pygments_lexer": "r",
   "version": "3.6.3"
  },
  "toc": {
   "base_numbering": 1,
   "nav_menu": {},
   "number_sections": true,
   "sideBar": true,
   "skip_h1_title": false,
   "title_cell": "Table of Contents",
   "title_sidebar": "Contents",
   "toc_cell": false,
   "toc_position": {},
   "toc_section_display": true,
   "toc_window_display": false
  }
 },
 "nbformat": 4,
 "nbformat_minor": 2
}
