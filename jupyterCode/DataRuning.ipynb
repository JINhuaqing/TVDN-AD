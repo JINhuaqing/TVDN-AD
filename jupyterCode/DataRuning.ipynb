{
 "cells": [
  {
   "cell_type": "markdown",
   "metadata": {},
   "source": [
    "This File is to run the TVDN algorithm on AD and Control data and save the results"
   ]
  },
  {
   "cell_type": "code",
   "execution_count": 1,
   "metadata": {},
   "outputs": [],
   "source": [
    "import sys\n",
    "sys.path.append(\"/home/huaqingj/MyResearch/TVDN-AD\")"
   ]
  },
  {
   "cell_type": "code",
   "execution_count": 4,
   "metadata": {},
   "outputs": [],
   "source": [
    "from pyTVDN import TVDNDetect\n",
    "from pathlib import Path\n",
    "from scipy.io import loadmat, savemat\n",
    "import numpy as np\n",
    "from easydict import EasyDict as edict\n",
    "import matplotlib.pyplot as plt\n",
    "import os\n",
    "from scipy import signal\n",
    "from tqdm import tqdm\n",
    "import pickle\n",
    "%matplotlib inline"
   ]
  },
  {
   "cell_type": "code",
   "execution_count": 5,
   "metadata": {},
   "outputs": [],
   "source": [
    "os.chdir(\"/home/huaqingj/MyResearch/TVDN-AD\")\n",
    "resDir = Path(\"./results\")\n",
    "dataDir = Path(\"./data\")"
   ]
  },
  {
   "cell_type": "code",
   "execution_count": 6,
   "metadata": {},
   "outputs": [],
   "source": [
    "filAD = \"87ADs_before_filter1000.mat\"\n",
    "filCtrl = \"70Ctrls_before_filter1000.mat\"\n",
    "filADadd = \"DK_timecourse.mat\""
   ]
  },
  {
   "cell_type": "code",
   "execution_count": 7,
   "metadata": {},
   "outputs": [],
   "source": [
    "smADIdxs = [\n",
    "    20,  \n",
    "    42, \n",
    "    44, \n",
    "    45, \n",
    "    47, \n",
    "    48, \n",
    "    57, \n",
    "    58, \n",
    "    61, \n",
    "    62, \n",
    "    63, \n",
    "    65, \n",
    "    81, \n",
    "    82, \n",
    "    83, \n",
    "    87, \n",
    "]\n",
    "\n",
    "smADIdxs = np.array(smADIdxs)- 1"
   ]
  },
  {
   "cell_type": "code",
   "execution_count": 8,
   "metadata": {},
   "outputs": [],
   "source": [
    "smCtrlIdxs = [\n",
    "    5,  \n",
    "    6, \n",
    "    7, \n",
    "    8, \n",
    "    9, \n",
    "    10, \n",
    "    11, \n",
    "    12, \n",
    "    13, \n",
    "    14, \n",
    "    16, \n",
    "    17, \n",
    "    19, \n",
    "    21, \n",
    "    22, \n",
    "    24, \n",
    "    25, \n",
    "    26, \n",
    "    29, \n",
    "    30, \n",
    "    32, \n",
    "    33, \n",
    "    35, \n",
    "    38, \n",
    "    39, \n",
    "    57, \n",
    "    59, \n",
    "    60, \n",
    "    61, \n",
    "    62, \n",
    "    63, \n",
    "    64, \n",
    "    66, \n",
    "    67, \n",
    "    68, \n",
    "    69, \n",
    "    70, \n",
    "]\n",
    "smCtrlIdxs = np.array(smCtrlIdxs) - 1"
   ]
  },
  {
   "cell_type": "markdown",
   "metadata": {},
   "source": [
    "## Run data with TVDN"
   ]
  },
  {
   "cell_type": "markdown",
   "metadata": {},
   "source": [
    "### Load the datasets\n",
    "\n",
    "Note we have addtional data for AD"
   ]
  },
  {
   "cell_type": "code",
   "execution_count": 7,
   "metadata": {},
   "outputs": [],
   "source": [
    "ADdatasets = loadmat(dataDir/filAD)[\"dk10\"]\n",
    "Ctrldatasets = loadmat(dataDir/filCtrl)[\"dk10\"]"
   ]
  },
  {
   "cell_type": "code",
   "execution_count": 8,
   "metadata": {},
   "outputs": [],
   "source": [
    "ADdatAdd = loadmat(dataDir/filADadd)[\"DK_timecourse\"]"
   ]
  },
  {
   "cell_type": "markdown",
   "metadata": {},
   "source": [
    "### Parameters for TVDN"
   ]
  },
  {
   "cell_type": "code",
   "execution_count": 9,
   "metadata": {},
   "outputs": [],
   "source": [
    "paras = edict()\n",
    "paras.Lmin = 200\n",
    "paras.wh = 10\n",
    "paras.MaxM = 20\n",
    "paras.fct = 0.5\n",
    "paras.r = None\n",
    "paras.lamb = 1e-4\n",
    "paras.T = 2\n",
    "paras.is_detrend = True\n",
    "paras.decimateRate = 5\n",
    "paras.kappa = 3.005\n",
    "paras.downRate = 20\n",
    "\n",
    "if paras.decimateRate is None:\n",
    "    paras.freq = 600\n",
    "else:\n",
    "    paras.freq = int(600/paras.decimateRate)"
   ]
  },
  {
   "cell_type": "markdown",
   "metadata": {},
   "source": [
    "### Run Kappa tuning algorithm "
   ]
  },
  {
   "cell_type": "code",
   "execution_count": 10,
   "metadata": {},
   "outputs": [],
   "source": [
    "kps = np.linspace(1, 4, 1000)"
   ]
  },
  {
   "cell_type": "code",
   "execution_count": 10,
   "metadata": {},
   "outputs": [
    {
     "name": "stderr",
     "output_type": "stream",
     "text": [
      "100%|██████████| 87/87 [3:22:12<00:00, 139.45s/it]  \n"
     ]
    }
   ],
   "source": [
    "for idx in tqdm(range(ADdatasets.shape[0])):\n",
    "    ADdataset = ADdatasets[idx, :, :]\n",
    "    detADa = []\n",
    "    for i in range(5):\n",
    "        detADt = TVDNDetect(Ymat=ADdataset[:, i::5], dataType=\"MEG\", \n",
    "                             saveDir=None, \n",
    "                             showProgress=False, \n",
    "                             fName=\"demoMEG\",\n",
    "                             MaxM=paras.MaxM,\n",
    "                             Lmin=paras.Lmin, \n",
    "                             lamb=paras.lamb, \n",
    "                             kappa=paras.kappa, \n",
    "                             freq=paras.freq,\n",
    "                             r=paras.r,\n",
    "                             T=paras.T,\n",
    "                             is_detrend=paras.is_detrend,\n",
    "                             decimateRate=None, \n",
    "                             downRate=paras.downRate)\n",
    "        detADt.Screening(wh=paras.wh)\n",
    "        detADt()\n",
    "        detADt.TuningKappa(kps)\n",
    "        detADa.append(detADt)\n",
    "        \n",
    "    saveFil = f\"AD_data_det_{idx}_lamb{paras.lamb:.1E}_decimate{paras.decimateRate:.0f}_tuning.pkl\"\n",
    "    with open(resDir/saveFil, \"wb\") as f:\n",
    "         pickle.dump(detADa, f)"
   ]
  },
  {
   "cell_type": "code",
   "execution_count": 11,
   "metadata": {},
   "outputs": [
    {
     "name": "stderr",
     "output_type": "stream",
     "text": [
      "100%|██████████| 70/70 [2:31:36<00:00, 129.95s/it]  \n"
     ]
    }
   ],
   "source": [
    "for idx in tqdm(range(Ctrldatasets.shape[0])):\n",
    "    Ctrldataset = Ctrldatasets[idx, :, :]\n",
    "    detCa = []\n",
    "    for i in range(5):\n",
    "        detCt = TVDNDetect(Ymat=Ctrldataset[:, i::5], dataType=\"MEG\", \n",
    "                             saveDir=None, \n",
    "                             showProgress=False, \n",
    "                             fName=\"demoMEG\",\n",
    "                             MaxM=paras.MaxM,\n",
    "                             Lmin=paras.Lmin, \n",
    "                             lamb=paras.lamb, \n",
    "                             kappa=paras.kappa, \n",
    "                             freq=paras.freq,\n",
    "                             r=paras.r,\n",
    "                             T=paras.T,\n",
    "                             is_detrend=paras.is_detrend,\n",
    "                             decimateRate=None, \n",
    "                             downRate=paras.downRate)\n",
    "        detCt.Screening(wh=paras.wh)\n",
    "        detCt()\n",
    "        detCt.TuningKappa(kps)\n",
    "        detCa.append(detCt)\n",
    "        \n",
    "    saveFil = f\"Ctrl_data_det_{idx}_lamb{paras.lamb:.1E}_decimate{paras.decimateRate:.0f}_tuning.pkl\"\n",
    "    with open(resDir/saveFil, \"wb\") as f:\n",
    "        pickle.dump(detCa, f)"
   ]
  },
  {
   "cell_type": "markdown",
   "metadata": {},
   "source": [
    "### Run Main TVDN without tuning kappa\n",
    "\n",
    "$\\kappa$ will be tuned another file"
   ]
  },
  {
   "cell_type": "code",
   "execution_count": 12,
   "metadata": {},
   "outputs": [
    {
     "name": "stderr",
     "output_type": "stream",
     "text": [
      "  0%|          | 0/87 [00:00<?, ?it/s]R[write to console]: \n",
      "Attaching package: ‘signal’\n",
      "\n",
      "\n",
      "R[write to console]: The following objects are masked from ‘package:stats’:\n",
      "\n",
      "    filter, poly\n",
      "\n",
      "\n",
      "100%|██████████| 87/87 [43:39<00:00, 30.10s/it]  \n"
     ]
    }
   ],
   "source": [
    "for idx in tqdm(range(ADdatasets.shape[0])):\n",
    "    ADdataset = ADdatasets[idx, :, :]\n",
    "    detAD = TVDNDetect(Ymat=ADdataset, dataType=\"MEG\", \n",
    "                         saveDir=None, \n",
    "                         showProgress=False, \n",
    "                         fName=\"demoMEG\",\n",
    "                         MaxM=paras.MaxM,\n",
    "                         Lmin=paras.Lmin, \n",
    "                         lamb=paras.lamb, \n",
    "                         kappa=paras.kappa, \n",
    "                         freq=paras.freq,\n",
    "                         r=paras.r,\n",
    "                         T=paras.T,\n",
    "                         is_detrend=paras.is_detrend,\n",
    "                         decimateRate=paras.decimateRate, \n",
    "                         downRate=paras.downRate)\n",
    "    detAD.Screening(wh=paras.wh)\n",
    "    detAD()\n",
    "    detAD.TuningKappa(kps)\n",
    "    \n",
    "    saveFil = f\"AD_data_det_{idx}_lamb{paras.lamb:.1E}_decimate{paras.decimateRate:.0f}.pkl\"\n",
    "    with open(resDir/saveFil, \"wb\") as f:\n",
    "        pickle.dump(detAD, f)"
   ]
  },
  {
   "cell_type": "code",
   "execution_count": 13,
   "metadata": {},
   "outputs": [],
   "source": [
    "idx = 88\n",
    "detAD = TVDNDetect(Ymat=ADdatAdd, dataType=\"MEG\", \n",
    "                         saveDir=None, \n",
    "                         showProgress=False, \n",
    "                         fName=\"demoMEG\",\n",
    "                         MaxM=paras.MaxM,\n",
    "                         Lmin=paras.Lmin, \n",
    "                         lamb=paras.lamb, \n",
    "                         kappa=paras.kappa, \n",
    "                         freq=paras.freq,\n",
    "                         r=paras.r,\n",
    "                         T=paras.T,\n",
    "                         is_detrend=paras.is_detrend,\n",
    "                         decimateRate=paras.decimateRate, \n",
    "                         downRate=paras.downRate)\n",
    "detAD.Screening(wh=paras.wh)\n",
    "detAD()\n",
    "detAD.TuningKappa(kps)\n",
    "    \n",
    "saveFil = f\"AD_data_det_{idx}_lamb{paras.lamb:.1E}_decimate{paras.decimateRate:.0f}.pkl\"\n",
    "with open(resDir/saveFil, \"wb\") as f:\n",
    "    pickle.dump(detAD, f)"
   ]
  },
  {
   "cell_type": "code",
   "execution_count": 14,
   "metadata": {},
   "outputs": [
    {
     "name": "stderr",
     "output_type": "stream",
     "text": [
      "100%|██████████| 70/70 [31:10<00:00, 26.73s/it]\n"
     ]
    }
   ],
   "source": [
    "for idx in tqdm(range(Ctrldatasets.shape[0])):\n",
    "    Ctrldataset = Ctrldatasets[idx, :, :]\n",
    "    detC = TVDNDetect(Ymat=Ctrldataset, dataType=\"MEG\", \n",
    "                         saveDir=None, \n",
    "                         showProgress=False, \n",
    "                         fName=\"demoMEG\",\n",
    "                         MaxM=paras.MaxM,\n",
    "                         Lmin=paras.Lmin, \n",
    "                         lamb=paras.lamb, \n",
    "                         kappa=paras.kappa, \n",
    "                         freq=paras.freq,\n",
    "                         r=paras.r,\n",
    "                         T=paras.T,\n",
    "                         is_detrend=paras.is_detrend,\n",
    "                         decimateRate=paras.decimateRate, \n",
    "                         downRate=paras.downRate)\n",
    "    detC.Screening(wh=paras.wh)\n",
    "    detC()\n",
    "    detC.TuningKappa(kps)\n",
    "    \n",
    "    saveFil = f\"Ctrl_data_det_{idx}_lamb{paras.lamb:.1E}_decimate{paras.decimateRate:.0f}.pkl\"\n",
    "    with open(resDir/saveFil, \"wb\") as f:\n",
    "        pickle.dump(detC, f)"
   ]
  },
  {
   "cell_type": "markdown",
   "metadata": {},
   "source": [
    "### Save results\n",
    "\n",
    "Note here I do not consider the order of the dataset, \n",
    "in fact for this part, order is not important."
   ]
  },
  {
   "cell_type": "code",
   "execution_count": 10,
   "metadata": {},
   "outputs": [
    {
     "name": "stderr",
     "output_type": "stream",
     "text": [
      "100%|██████████| 87/87 [10:39<00:00,  7.35s/it]\n"
     ]
    }
   ],
   "source": [
    "detObjsNum = []\n",
    "for fil in tqdm(list(resDir.glob(\"AD*04_decimate5_tuning.pkl\"))):\n",
    "    with open(fil, \"rb\") as f:\n",
    "        dets = pickle.load(f)\n",
    "    detObjsNum.append([det.numchgs for det in dets])\n",
    "    \n",
    "filName = f\"AD_data_lamb{dets[0].paras.lamb:.1E}_tuningNum.pkl\"\n",
    "with open(resDir/filName, \"wb\") as f:\n",
    "    pickle.dump(detObjsNum, f)"
   ]
  },
  {
   "cell_type": "code",
   "execution_count": 17,
   "metadata": {},
   "outputs": [
    {
     "name": "stderr",
     "output_type": "stream",
     "text": [
      "100%|██████████| 70/70 [08:07<00:00,  6.97s/it]\n"
     ]
    }
   ],
   "source": [
    "detObjsNumC = []\n",
    "for fil in tqdm(list(resDir.glob(\"Ctrl*04_decimate5_tuning.pkl\"))):\n",
    "    \n",
    "    with open(fil, \"rb\") as f:\n",
    "        dets = pickle.load(f)\n",
    "    detObjsNumC.append([det.numchgs for det in dets])\n",
    "    \n",
    "filName = f\"Ctrl_data_lamb{dets[0].paras.lamb:.1E}_tuningNum.pkl\"\n",
    "with open(resDir/filName, \"wb\") as f:\n",
    "    pickle.dump(detObjsNumC, f)"
   ]
  },
  {
   "cell_type": "code",
   "execution_count": 15,
   "metadata": {},
   "outputs": [
    {
     "name": "stderr",
     "output_type": "stream",
     "text": [
      "100%|██████████| 88/88 [02:13<00:00,  1.52s/it]\n"
     ]
    }
   ],
   "source": [
    "numchgss = []\n",
    "for fil in tqdm(list(resDir.glob(\"AD*04_decimate5.pkl\"))):\n",
    "    with open(fil, \"rb\") as f:\n",
    "        det = pickle.load(f)\n",
    "    numchgss.append(det.numchgs)\n",
    "    \n",
    "filName = f\"AD_data_lamb{det.paras.lamb:.1E}_Num.pkl\"\n",
    "with open(resDir/filName, \"wb\") as f:\n",
    "    pickle.dump(numchgss, f)"
   ]
  },
  {
   "cell_type": "code",
   "execution_count": 16,
   "metadata": {},
   "outputs": [
    {
     "name": "stderr",
     "output_type": "stream",
     "text": [
      "100%|██████████| 70/70 [01:49<00:00,  1.56s/it]\n"
     ]
    }
   ],
   "source": [
    "numchgss = []\n",
    "for fil in tqdm(list(resDir.glob(\"Ctrl*04_decimate5.pkl\"))):\n",
    "    with open(fil, \"rb\") as f:\n",
    "        det = pickle.load(f)\n",
    "    numchgss.append(det.numchgs)\n",
    "    \n",
    "filName = f\"Ctrl_data_lamb{det.paras.lamb:.1E}_Num.pkl\"\n",
    "with open(resDir/filName, \"wb\") as f:\n",
    "    pickle.dump(numchgss, f)"
   ]
  },
  {
   "cell_type": "code",
   "execution_count": null,
   "metadata": {},
   "outputs": [],
   "source": []
  }
 ],
 "metadata": {
  "kernelspec": {
   "display_name": "Python 3",
   "language": "python",
   "name": "python3"
  },
  "language_info": {
   "codemirror_mode": {
    "name": "ipython",
    "version": 3
   },
   "file_extension": ".py",
   "mimetype": "text/x-python",
   "name": "python",
   "nbconvert_exporter": "python",
   "pygments_lexer": "ipython3",
   "version": "3.7.4"
  },
  "toc": {
   "base_numbering": 1,
   "nav_menu": {},
   "number_sections": true,
   "sideBar": true,
   "skip_h1_title": false,
   "title_cell": "Table of Contents",
   "title_sidebar": "Contents",
   "toc_cell": false,
   "toc_position": {},
   "toc_section_display": true,
   "toc_window_display": true
  },
  "varInspector": {
   "cols": {
    "lenName": 16,
    "lenType": 16,
    "lenVar": 40
   },
   "kernels_config": {
    "python": {
     "delete_cmd_postfix": "",
     "delete_cmd_prefix": "del ",
     "library": "var_list.py",
     "varRefreshCmd": "print(var_dic_list())"
    },
    "r": {
     "delete_cmd_postfix": ") ",
     "delete_cmd_prefix": "rm(",
     "library": "var_list.r",
     "varRefreshCmd": "cat(var_dic_list()) "
    }
   },
   "types_to_exclude": [
    "module",
    "function",
    "builtin_function_or_method",
    "instance",
    "_Feature"
   ],
   "window_display": false
  }
 },
 "nbformat": 4,
 "nbformat_minor": 2
}
