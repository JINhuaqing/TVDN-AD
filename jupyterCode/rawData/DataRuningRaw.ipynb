{
 "cells": [
  {
   "cell_type": "markdown",
   "metadata": {},
   "source": [
    "This File is to run the TVDN algorithm on AD and Control data and save the results for tha raw data\n",
    "\n",
    "(**I didn't consider the selection at this stage**)"
   ]
  },
  {
   "cell_type": "code",
   "execution_count": 1,
   "metadata": {},
   "outputs": [],
   "source": [
    "import sys\n",
    "sys.path.append(\"/home/huaqingj/MyResearch/TVDN-AD\")"
   ]
  },
  {
   "cell_type": "code",
   "execution_count": 2,
   "metadata": {},
   "outputs": [],
   "source": [
    "from pyTVDN import TVDNDetect\n",
    "from pathlib import Path\n",
    "from scipy.io import loadmat, savemat\n",
    "import numpy as np\n",
    "from easydict import EasyDict as edict\n",
    "import matplotlib\n",
    "import matplotlib.pyplot as plt\n",
    "import os\n",
    "from scipy import signal\n",
    "from tqdm import tqdm\n",
    "import pandas as pd\n",
    "import pickle\n",
    "%matplotlib inline"
   ]
  },
  {
   "cell_type": "code",
   "execution_count": 3,
   "metadata": {},
   "outputs": [],
   "source": [
    "os.chdir(\"/home/huaqingj/MyResearch/TVDN-AD\")\n",
    "resDir = Path(\"./results\")\n",
    "dataDir = Path(\"./data\")"
   ]
  },
  {
   "cell_type": "code",
   "execution_count": 4,
   "metadata": {},
   "outputs": [],
   "source": [
    "import mat73\n",
    "filAll = \"rawdata.mat\"\n",
    "filAllDat = mat73.loadmat(dataDir/filAll)\n",
    "\n",
    "RIDs = [ix.split(\"A\")[0]  for ix in filAllDat[\"rawdata\"][\"rid\"]]\n",
    "datAll = filAllDat[\"rawdata\"][\"trial\"]"
   ]
  },
  {
   "cell_type": "code",
   "execution_count": 22,
   "metadata": {},
   "outputs": [],
   "source": [
    "# the order of RIDs after source identification\n",
    "RID_AD_labs = loadmat(\"./OtherFils/radid_AD.mat\")[\"radid\"].reshape(-1)\n",
    "ADlabs = [lab[0].split(\"A\")[0] for lab in RID_AD_labs] \n",
    "RID_Ctrl_labs = loadmat(\"./OtherFils/radid_control.mat\")[\"radid\"].reshape(-1)\n",
    "Ctrllabs = [lab[0].split(\"A\")[0] for lab in RID_Ctrl_labs] \n",
    "RID_Ctrl_labs_Add = loadmat(\"./OtherFils/radid_control_add.mat\")[\"radid\"].reshape(-1)\n",
    "CtrllabsAdd = [lab[0] for lab in RID_Ctrl_labs_Add] \n",
    "CtrllabsBoth = Ctrllabs + CtrllabsAdd"
   ]
  },
  {
   "cell_type": "markdown",
   "metadata": {},
   "source": [
    "### Run TVDN"
   ]
  },
  {
   "cell_type": "code",
   "execution_count": 46,
   "metadata": {},
   "outputs": [],
   "source": [
    "paras = edict()\n",
    "paras.Lmin = 200\n",
    "paras.wh = 10\n",
    "paras.MaxM = 20\n",
    "paras.fct = 0.5\n",
    "paras.r = None\n",
    "paras.lamb = 1e-4 # it is what I used\n",
    "paras.T = 2\n",
    "paras.is_detrend = True\n",
    "paras.decimateRate = 5\n",
    "paras.kappa = 3.005\n",
    "paras.downRate = 100\n",
    "\n",
    "if paras.decimateRate is None:\n",
    "    paras.freq = 600\n",
    "else:\n",
    "    paras.freq = int(600/paras.decimateRate)"
   ]
  },
  {
   "cell_type": "code",
   "execution_count": 47,
   "metadata": {},
   "outputs": [],
   "source": [
    "# sampling freq is 600Hz\n",
    "sos = signal.butter(N=200, Wn=40, btype='lp', fs=600, output='sos') # filter\n",
    "kps = np.linspace(1, 4, 1000)"
   ]
  },
  {
   "cell_type": "code",
   "execution_count": 49,
   "metadata": {},
   "outputs": [
    {
     "name": "stderr",
     "output_type": "stream",
     "text": [
      "  0%|          | 0/88 [00:00<?, ?it/s]R[write to console]: \n",
      "Attaching package: ‘signal’\n",
      "\n",
      "\n",
      "R[write to console]: The following objects are masked from ‘package:stats’:\n",
      "\n",
      "    filter, poly\n",
      "\n",
      "\n",
      "100%|██████████| 88/88 [1:21:24<00:00, 55.51s/it]\n"
     ]
    }
   ],
   "source": [
    "# AD \n",
    "for idx, cLab in enumerate(tqdm(ADlabs)):\n",
    "    sIdx = np.where(cLab == np.array(RIDs))[0][0]\n",
    "    curDat = datAll[sIdx].T\n",
    "    filtered = signal.sosfilt(sos, curDat)\n",
    "    detAD = TVDNDetect(Ymat=filtered, dataType=\"MEG\", \n",
    "                             saveDir=None, \n",
    "                             showProgress=False, \n",
    "                             fName=\"demoMEG\",\n",
    "                             MaxM=paras.MaxM,\n",
    "                             Lmin=paras.Lmin, \n",
    "                             lamb=paras.lamb, \n",
    "                             kappa=paras.kappa, \n",
    "                             freq=paras.freq,\n",
    "                             r=paras.r,\n",
    "                             T=paras.T,\n",
    "                             is_detrend=paras.is_detrend,\n",
    "                             decimateRate=paras.decimateRate, \n",
    "                             downRate=paras.downRate)\n",
    "    detAD.Screening(wh=paras.wh)\n",
    "    detAD()\n",
    "    detAD.TuningKappa(kps)\n",
    "        \n",
    "    saveFil = f\"ADraw_data_det_{idx}_lamb{paras.lamb:.1E}_decimate{paras.decimateRate:.0f}.pkl\"\n",
    "    with open(resDir/saveFil, \"wb\") as f:\n",
    "        pickle.dump(detAD, f)"
   ]
  },
  {
   "cell_type": "code",
   "execution_count": 50,
   "metadata": {},
   "outputs": [
    {
     "name": "stderr",
     "output_type": "stream",
     "text": [
      "100%|██████████| 92/92 [1:12:18<00:00, 47.15s/it]\n"
     ]
    }
   ],
   "source": [
    "# Ctrl\n",
    "for idx, cLab in enumerate(tqdm(CtrllabsBoth)):\n",
    "    sIdx = np.where(cLab == np.array(RIDs))[0][0]\n",
    "    curDat = datAll[sIdx].T\n",
    "    filtered = signal.sosfilt(sos, curDat)\n",
    "    detCtrl = TVDNDetect(Ymat=filtered, dataType=\"MEG\", \n",
    "                             saveDir=None, \n",
    "                             showProgress=False, \n",
    "                             fName=\"demoMEG\",\n",
    "                             MaxM=paras.MaxM,\n",
    "                             Lmin=paras.Lmin, \n",
    "                             lamb=paras.lamb, \n",
    "                             kappa=paras.kappa, \n",
    "                             freq=paras.freq,\n",
    "                             r=paras.r,\n",
    "                             T=paras.T,\n",
    "                             is_detrend=paras.is_detrend,\n",
    "                             decimateRate=paras.decimateRate, \n",
    "                             downRate=paras.downRate)\n",
    "    detCtrl.Screening(wh=paras.wh)\n",
    "    detCtrl()\n",
    "    detCtrl.TuningKappa(kps)\n",
    "        \n",
    "    saveFil = f\"Ctrlraw_data_det_{idx}_lamb{paras.lamb:.1E}_decimate{paras.decimateRate:.0f}.pkl\"\n",
    "    with open(resDir/saveFil, \"wb\") as f:\n",
    "        pickle.dump(detCtrl, f)"
   ]
  },
  {
   "cell_type": "code",
   "execution_count": null,
   "metadata": {},
   "outputs": [],
   "source": []
  },
  {
   "cell_type": "markdown",
   "metadata": {},
   "source": [
    "### Save results\n",
    "\n",
    "Note here I do not consider the order of the dataset, \n",
    "in fact for this part, order is not important."
   ]
  },
  {
   "cell_type": "code",
   "execution_count": 51,
   "metadata": {},
   "outputs": [
    {
     "name": "stderr",
     "output_type": "stream",
     "text": [
      "100%|██████████| 88/88 [11:50<00:00,  8.08s/it]\n"
     ]
    }
   ],
   "source": [
    "numchgss = []\n",
    "for fil in tqdm(list(resDir.glob(\"ADraw_*04_decimate5.pkl\"))):\n",
    "    with open(fil, \"rb\") as f:\n",
    "        det = pickle.load(f)\n",
    "    numchgss.append(det.numchgs)\n",
    "    \n",
    "filName = f\"ADraw_data_lamb{det.paras.lamb:.1E}_Num.pkl\"\n",
    "with open(resDir/filName, \"wb\") as f:\n",
    "    pickle.dump(numchgss, f)"
   ]
  },
  {
   "cell_type": "code",
   "execution_count": 52,
   "metadata": {},
   "outputs": [
    {
     "name": "stderr",
     "output_type": "stream",
     "text": [
      "100%|██████████| 92/92 [12:51<00:00,  8.39s/it]\n"
     ]
    }
   ],
   "source": [
    "numchgss = []\n",
    "for fil in tqdm(list(resDir.glob(\"Ctrlraw_*04_decimate5.pkl\"))):\n",
    "    with open(fil, \"rb\") as f:\n",
    "        det = pickle.load(f)\n",
    "    numchgss.append(det.numchgs)\n",
    "    \n",
    "filName = f\"Ctrlraw_data_lamb{det.paras.lamb:.1E}_Num.pkl\"\n",
    "with open(resDir/filName, \"wb\") as f:\n",
    "    pickle.dump(numchgss, f)"
   ]
  },
  {
   "cell_type": "markdown",
   "metadata": {},
   "source": [
    "### Sel a suitable kappa"
   ]
  },
  {
   "cell_type": "code",
   "execution_count": 58,
   "metadata": {},
   "outputs": [],
   "source": [
    "with open(\"./OtherFils/KpIdxsAll.pkl\", \"rb\") as sf:\n",
    "    kpAD, kpCtrl, kpAll = pickle.load(sf)"
   ]
  },
  {
   "cell_type": "code",
   "execution_count": 55,
   "metadata": {},
   "outputs": [],
   "source": [
    "curP = list(resDir.glob(\"Ctrlraw_data*_Num.pkl\"))[0]\n",
    "with open(curP, \"rb\") as f:\n",
    "    numchgss = pickle.load(f)"
   ]
  },
  {
   "cell_type": "code",
   "execution_count": 60,
   "metadata": {},
   "outputs": [],
   "source": [
    "selNumChgss = np.array([ix for ix, kp in zip(numchgss, kpCtrl) if kp == 1])"
   ]
  },
  {
   "cell_type": "code",
   "execution_count": 66,
   "metadata": {},
   "outputs": [
    {
     "data": {
      "text/plain": [
       "2.9759759759759756"
      ]
     },
     "execution_count": 66,
     "metadata": {},
     "output_type": "execute_result"
    }
   ],
   "source": [
    "optKp = kps[np.argmin(np.abs(selNumChgss.mean(axis=0)-4))]\n",
    "optKp"
   ]
  },
  {
   "cell_type": "code",
   "execution_count": 67,
   "metadata": {},
   "outputs": [
    {
     "name": "stderr",
     "output_type": "stream",
     "text": [
      "100%|██████████| 92/92 [12:50<00:00,  8.38s/it]\n"
     ]
    }
   ],
   "source": [
    "ecptss = []\n",
    "ps = list(resDir.glob(\"Ctrlraw_*04_decimate5.pkl\"))\n",
    "sortedPs = sorted(ps, key=lambda p:int(p.stem.split(\"_\")[3]))\n",
    "for fil in tqdm(sortedPs):\n",
    "    with open(fil, \"rb\") as f:\n",
    "        det = pickle.load(f)\n",
    "    det.UpdateEcpts(det.numchgs[kps==optKp][0])\n",
    "    ecptss.append(det.ecpts)\n",
    "filName = f\"Ctrlraw_data_lamb{det.paras.lamb:.1E}_ecpts.pkl\"\n",
    "with open(resDir/filName, \"wb\") as f:\n",
    "    pickle.dump(ecptss, f)"
   ]
  },
  {
   "cell_type": "code",
   "execution_count": 68,
   "metadata": {},
   "outputs": [
    {
     "name": "stderr",
     "output_type": "stream",
     "text": [
      "100%|██████████| 88/88 [12:12<00:00,  8.32s/it]\n"
     ]
    }
   ],
   "source": [
    "ecptss = []\n",
    "ps = list(resDir.glob(\"ADraw_*04_decimate5.pkl\"))\n",
    "sortedPs = sorted(ps, key=lambda p:int(p.stem.split(\"_\")[3]))\n",
    "for fil in tqdm(sortedPs):\n",
    "    with open(fil, \"rb\") as f:\n",
    "        det = pickle.load(f)\n",
    "    det.UpdateEcpts(det.numchgs[kps==optKp][0])\n",
    "    ecptss.append(det.ecpts)\n",
    "filName = f\"ADraw_data_lamb{det.paras.lamb:.1E}_ecpts.pkl\"\n",
    "with open(resDir/filName, \"wb\") as f:\n",
    "    pickle.dump(ecptss, f)"
   ]
  },
  {
   "cell_type": "code",
   "execution_count": 69,
   "metadata": {},
   "outputs": [],
   "source": [
    "def GetFeatures(det):\n",
    "    \"\"\"\n",
    "    obtain the eigvals and eigvectors for current ecpts\n",
    "    \"\"\"\n",
    "    if det.RecResCur is None:\n",
    "        det.GetRecResCur()\n",
    "    Ur = det.midRes.eigVecs[:, :det.paras.r]\n",
    "        \n",
    "    lamMs = []\n",
    "    for idx, ecpt in enumerate(np.concatenate([[0], det.ecpts])):\n",
    "        lamM = det.RecResCur.LamMs[:, int(ecpt)]\n",
    "        lamMs.append(lamM)\n",
    "    \n",
    "    det.curEigVecs = Ur\n",
    "    det.curEigVals = lamMs"
   ]
  },
  {
   "cell_type": "code",
   "execution_count": 70,
   "metadata": {},
   "outputs": [
    {
     "name": "stderr",
     "output_type": "stream",
     "text": [
      "100%|██████████| 92/92 [15:57<00:00, 10.41s/it]\n"
     ]
    }
   ],
   "source": [
    "eigVecss = []\n",
    "eigValss = []\n",
    "ps = list(resDir.glob(\"Ctrlraw_*04_decimate5.pkl\"))\n",
    "sortedPs = sorted(ps, key=lambda p:int(p.stem.split(\"_\")[3]))\n",
    "for fil in tqdm(sortedPs):\n",
    "    with open(fil, \"rb\") as f:\n",
    "        det = pickle.load(f)\n",
    "    det.UpdateEcpts(det.numchgs[kps==optKp][0])\n",
    "    GetFeatures(det)\n",
    "    eigVecss.append(det.curEigVecs)\n",
    "    eigValss.append(det.curEigVals)\n",
    "filNameVecs = f\"Ctrlraw_data_lamb{det.paras.lamb:.1E}_eigVecs.pkl\"\n",
    "filNameVals = f\"Ctrlraw_data_lamb{det.paras.lamb:.1E}_eigVals.pkl\"\n",
    "with open(resDir/filNameVecs, \"wb\") as f:\n",
    "    pickle.dump(eigVecss, f)\n",
    "with open(resDir/filNameVals, \"wb\") as f:\n",
    "    pickle.dump(eigValss, f)"
   ]
  },
  {
   "cell_type": "code",
   "execution_count": 71,
   "metadata": {},
   "outputs": [
    {
     "name": "stderr",
     "output_type": "stream",
     "text": [
      "100%|██████████| 88/88 [11:58<00:00,  8.17s/it]\n"
     ]
    }
   ],
   "source": [
    "eigVecss = []\n",
    "eigValss = []\n",
    "ps = list(resDir.glob(\"ADraw_*04_decimate5.pkl\"))\n",
    "sortedPs = sorted(ps, key=lambda p:int(p.stem.split(\"_\")[3]))\n",
    "for fil in tqdm(sortedPs):\n",
    "    with open(fil, \"rb\") as f:\n",
    "        det = pickle.load(f)\n",
    "    det.UpdateEcpts(det.numchgs[kps==optKp][0])\n",
    "    GetFeatures(det)\n",
    "    eigVecss.append(det.curEigVecs)\n",
    "    eigValss.append(det.curEigVals)\n",
    "filNameVecs = f\"ADraw_data_lamb{det.paras.lamb:.1E}_eigVecs.pkl\"\n",
    "filNameVals = f\"ADraw_data_lamb{det.paras.lamb:.1E}_eigVals.pkl\"\n",
    "with open(resDir/filNameVecs, \"wb\") as f:\n",
    "    pickle.dump(eigVecss, f)\n",
    "with open(resDir/filNameVals, \"wb\") as f:\n",
    "    pickle.dump(eigValss, f)"
   ]
  },
  {
   "cell_type": "markdown",
   "metadata": {},
   "source": [
    "### Analyze the results"
   ]
  },
  {
   "cell_type": "code",
   "execution_count": 72,
   "metadata": {},
   "outputs": [],
   "source": [
    "with open(\"./OtherFils/KpIdxsAll.pkl\", \"rb\") as sf:\n",
    "    kpAD, kpCtrl, kpAll = pickle.load(sf)"
   ]
  },
  {
   "cell_type": "code",
   "execution_count": 73,
   "metadata": {},
   "outputs": [],
   "source": [
    "# ecpts\n",
    "fil = list(resDir.glob(\"ADraw_*_ecpts.pkl\"))[0]\n",
    "with open(fil, \"rb\") as f:\n",
    "    ecptssAD = pickle.load(f)\n",
    "fil = list(resDir.glob(\"Ctrlraw_*_ecpts.pkl\"))[0]\n",
    "with open(fil, \"rb\") as f:\n",
    "    ecptssCtrl = pickle.load(f)"
   ]
  },
  {
   "cell_type": "code",
   "execution_count": 74,
   "metadata": {},
   "outputs": [],
   "source": [
    "# Eigvals\n",
    "fil = list(resDir.glob(\"ADraw_*_eigVals.pkl\"))[0]\n",
    "with open(fil, \"rb\") as f:\n",
    "    eigValsAD = pickle.load(f)\n",
    "fil = list(resDir.glob(\"Ctrlraw_*_eigVals.pkl\"))[0]\n",
    "with open(fil, \"rb\") as f:\n",
    "    eigValsCtrl = pickle.load(f)"
   ]
  },
  {
   "cell_type": "code",
   "execution_count": 75,
   "metadata": {},
   "outputs": [],
   "source": [
    "fil = list(resDir.glob(\"ADraw_*_eigVecs.pkl\"))[0]\n",
    "with open(fil, \"rb\") as f:\n",
    "    eigVecsAD = pickle.load(f)\n",
    "fil = list(resDir.glob(\"Ctrlraw_*_eigVecs.pkl\"))[0]\n",
    "with open(fil, \"rb\") as f:\n",
    "    eigVecsCtrl = pickle.load(f)"
   ]
  },
  {
   "cell_type": "code",
   "execution_count": 76,
   "metadata": {},
   "outputs": [],
   "source": [
    "# Sel data (only need when use sub data)\n",
    "ecptssAD = [ ecptsAD for ecptsAD, kpix in zip(ecptssAD, kpAD) if kpix==1]\n",
    "ecptssCtrl = [ ecptsCtrl for ecptsCtrl, kpix in zip(ecptssCtrl, kpCtrl) if kpix==1]\n",
    "eigValsAD = [ v for v, kpix in zip(eigValsAD, kpAD) if kpix==1]\n",
    "eigValsCtrl = [ v for v, kpix in zip(eigValsCtrl, kpCtrl) if kpix==1]\n",
    "eigVecsAD = [ v for v, kpix in zip(eigVecsAD, kpAD) if kpix==1]\n",
    "eigVecsCtrl = [ v for v, kpix in zip(eigVecsCtrl, kpCtrl) if kpix==1]"
   ]
  },
  {
   "cell_type": "code",
   "execution_count": 77,
   "metadata": {},
   "outputs": [],
   "source": [
    "# Dwell times in second\n",
    "freq = 120\n",
    "dwellsAD = [np.diff(np.concatenate([[0], ecpts, [7200]])/freq) for ecpts in ecptssAD]\n",
    "dwellsCtrl = [np.diff(np.concatenate([[0], ecpts, [7200]])/freq) for ecpts in ecptssCtrl]"
   ]
  },
  {
   "cell_type": "code",
   "execution_count": 90,
   "metadata": {},
   "outputs": [],
   "source": [
    "ecptss = ecptssAD\n",
    "dwells = dwellsAD\n",
    "eigVals = eigValsAD\n",
    "eigVecs = eigVecsAD\n",
    "\n",
    "fsAll = []\n",
    "for i in range(len(ecptss)):\n",
    "    fs = edict()\n",
    "    dwell = dwells[i]\n",
    "    fs.dwell = dwell \n",
    "    fs.ncpts = len(ecptss[i])\n",
    "    fs.meanDwell = np.mean(dwell)\n",
    "    fs.maxDwell = np.max(dwell)\n",
    "    fs.minDwell = np.min(dwell)\n",
    "    \n",
    "    eigVal = eigVals[i]\n",
    "    \n",
    "    idx = np.argmax(dwell)\n",
    "    if fs.ncpts >=1:\n",
    "        idx2 = np.where((-dwell).argsort().argsort()==1)[0][0]\n",
    "    \n",
    "    maxEigVal = eigVal[idx]\n",
    "  \n",
    "    \n",
    "    fs.r  = len(maxEigVal)\n",
    "    \n",
    "    fsAll.append(fs)\n",
    "    \n",
    "fsAD = fsAll  "
   ]
  },
  {
   "cell_type": "code",
   "execution_count": 91,
   "metadata": {},
   "outputs": [],
   "source": [
    "ecptss = ecptssCtrl\n",
    "dwells = dwellsCtrl\n",
    "eigVals = eigValsCtrl\n",
    "eigVecs = eigVecsCtrl\n",
    "\n",
    "fsAll = []\n",
    "for i in range(len(ecptss)):\n",
    "    fs = edict()\n",
    "    dwell = dwells[i]\n",
    "    fs.dwell = dwell \n",
    "    fs.ncpts = len(ecptss[i])\n",
    "    fs.meanDwell = np.mean(dwell)\n",
    "    fs.maxDwell = np.max(dwell)\n",
    "    fs.minDwell = np.min(dwell)\n",
    "    \n",
    "    eigVal = eigVals[i]\n",
    "    \n",
    "    idx = np.argmax(dwell)\n",
    "    if fs.ncpts >=1:\n",
    "        idx2 = np.where((-dwell).argsort().argsort()==1)[0][0]\n",
    "    \n",
    "    maxEigVal = eigVal[idx]\n",
    "    \n",
    "    fs.r  = len(maxEigVal)\n",
    "    \n",
    "    fsAll.append(fs)\n",
    "    \n",
    "fsCtrl = fsAll    "
   ]
  },
  {
   "cell_type": "code",
   "execution_count": 92,
   "metadata": {},
   "outputs": [],
   "source": [
    "import seaborn as sns\n",
    "import scipy"
   ]
  },
  {
   "cell_type": "code",
   "execution_count": 100,
   "metadata": {},
   "outputs": [
    {
     "data": {
      "text/plain": [
       "Text(0.5, 18.5, 'P-value: 0.000')"
      ]
     },
     "execution_count": 100,
     "metadata": {},
     "output_type": "execute_result"
    },
    {
     "data": {
      "image/png": "[encoded data removed]",
      "text/plain": [
       "<Figure size 500x500 with 1 Axes>"
      ]
     },
     "metadata": {
      "needs_background": "light"
     },
     "output_type": "display_data"
    }
   ],
   "source": [
    "nchgsAD = [len(ecpts) for ecpts in ecptssAD]\n",
    "nchgsCtrl = [len(ecpts) for ecpts in ecptssCtrl]\n",
    "plt.figure(figsize=[5, 5], dpi=100)\n",
    "sns.boxplot(data=[nchgsAD, nchgsCtrl],  showfliers=0)\n",
    "plt.ylim([-1, 20])\n",
    "plt.xticks([0, 1], [\"AD\", \"Control\"])\n",
    "plt.title(\"Number of brain state switches\")\n",
    "\n",
    "txty, txtcol = 15,  \"k\"\n",
    "txtxdlt = 0.4\n",
    "ix = 0\n",
    "txtx1, txtx2 = ix-txtxdlt, ix+txtxdlt\n",
    "txt1 = f\"Mean: {np.mean(nchgsAD):.2f} \\n IQR [{np.quantile(nchgsAD, 0.25):.2f}, {np.quantile(nchgsAD, 0.75):.2f}]\"\n",
    "plt.text((txtx1+txtx2)*.5, txty, txt1, ha='center', va='bottom', color=txtcol)\n",
    "\n",
    "ix = 1\n",
    "txtx1, txtx2 = ix-txtxdlt, ix+txtxdlt\n",
    "txt2 = f\"Mean: {np.mean(nchgsCtrl):.2f} \\n IQR [{np.quantile(nchgsCtrl, 0.25):.2f}, {np.quantile(nchgsCtrl, 0.75):.2f}]\"\n",
    "plt.text((txtx1+txtx2)*.5, txty, txt2, ha='center', va='bottom', color=txtcol)\n",
    "\n",
    "txty, txtcol = 17,  \"k\"\n",
    "ix = 0.5\n",
    "txtxdlt = 0.6\n",
    "txth = 1\n",
    "txtx1, txtx2 = ix-txtxdlt, ix+txtxdlt\n",
    "plt.plot([txtx1, txtx1, txtx2, txtx2], [txty, txty+txth, txty+txth, txty], lw=1.5, c=txtcol)\n",
    "res = scipy.stats.ttest_ind(nchgsAD, nchgsCtrl)\n",
    "pv = res.pvalue\n",
    "txt1 = f\"P-value: {pv:.3f}\"\n",
    "#txt1 = f\"ATE: {ATE:.2f}, P-value: {pv:.3f} \"\n",
    "plt.text((txtx1+txtx2)*.5, txty+txth+0.5, txt1, ha='center', va='bottom', color=txtcol)"
   ]
  },
  {
   "cell_type": "code",
   "execution_count": 101,
   "metadata": {},
   "outputs": [
    {
     "data": {
      "text/plain": [
       "Text(0.5, 26.5, 'P-value: 0.130')"
      ]
     },
     "execution_count": 101,
     "metadata": {},
     "output_type": "execute_result"
    },
    {
     "data": {
      "image/png": "[encoded data removed]",
      "text/plain": [
       "<Figure size 500x500 with 1 Axes>"
      ]
     },
     "metadata": {
      "needs_background": "light"
     },
     "output_type": "display_data"
    }
   ],
   "source": [
    "rksAD = [fs.r for fs in fsAD]\n",
    "rksCtrl = [fs.r for fs in fsCtrl]\n",
    "plt.figure(figsize=[5, 5], dpi=100)\n",
    "sns.boxplot(data=[rksAD, rksCtrl], showfliers=0)\n",
    "plt.ylim([-1, 28])\n",
    "plt.xticks([0, 1], [\"AD\", \"Control\"])\n",
    "plt.title(\"Number of RSNs\")\n",
    "\n",
    "txty, txth, txtcol = 23, -1, \"k\"\n",
    "txtxdlt = 0.4\n",
    "ix = 0\n",
    "txtx1, txtx2 = ix-txtxdlt, ix+txtxdlt\n",
    "#plt.plot([txtx1, txtx1, txtx2, txtx2], [txty, txty+txth, txty+txth, txty], lw=1.5, c=txtcol)\n",
    "txt1 = f\"Mean: {np.mean(rksAD):.2f} \\n IQR [{np.quantile(rksAD, 0.25):.2f}, {np.quantile(rksAD, 0.75):.2f}]\"\n",
    "plt.text((txtx1+txtx2)*.5, txty+txth+0.5, txt1, ha='center', va='bottom', color=txtcol)\n",
    "\n",
    "ix = 1\n",
    "txtx1, txtx2 = ix-txtxdlt, ix+txtxdlt\n",
    "#plt.plot([txtx1, txtx1, txtx2, txtx2], [txty, txty+txth, txty+txth, txty], lw=1.5, c=txtcol)\n",
    "txt2 = f\"Mean: {np.mean(rksCtrl):.2f} \\n IQR [{np.quantile(rksCtrl, 0.25):.2f}, {np.quantile(rksCtrl, 0.75):.2f}]\"\n",
    "plt.text((txtx1+txtx2)*.5, txty+txth+0.5, txt2, ha='center', va='bottom', color=txtcol)\n",
    "\n",
    "txty, txtcol = 25,  \"k\"\n",
    "ix = 0.5\n",
    "txtxdlt = 0.6\n",
    "txth = 1\n",
    "txtx1, txtx2 = ix-txtxdlt, ix+txtxdlt\n",
    "plt.plot([txtx1, txtx1, txtx2, txtx2], [txty, txty+txth, txty+txth, txty], lw=1.5, c=txtcol)\n",
    "res = scipy.stats.ttest_ind(rksAD, rksCtrl)\n",
    "pv = res.pvalue\n",
    "txt1 = f\"P-value: {pv:.3f}\"\n",
    "plt.text((txtx1+txtx2)*.5, txty+txth+0.5, txt1, ha='center', va='bottom', color=txtcol)"
   ]
  },
  {
   "cell_type": "code",
   "execution_count": null,
   "metadata": {},
   "outputs": [],
   "source": []
  }
 ],
 "metadata": {
  "kernelspec": {
   "display_name": "Python 3",
   "language": "python",
   "name": "python3"
  },
  "language_info": {
   "codemirror_mode": {
    "name": "ipython",
    "version": 3
   },
   "file_extension": ".py",
   "mimetype": "text/x-python",
   "name": "python",
   "nbconvert_exporter": "python",
   "pygments_lexer": "ipython3",
   "version": "3.7.4"
  },
  "toc": {
   "base_numbering": 1,
   "nav_menu": {},
   "number_sections": true,
   "sideBar": true,
   "skip_h1_title": false,
   "title_cell": "Table of Contents",
   "title_sidebar": "Contents",
   "toc_cell": false,
   "toc_position": {},
   "toc_section_display": true,
   "toc_window_display": true
  },
  "varInspector": {
   "cols": {
    "lenName": 16,
    "lenType": 16,
    "lenVar": 40
   },
   "kernels_config": {
    "python": {
     "delete_cmd_postfix": "",
     "delete_cmd_prefix": "del ",
     "library": "var_list.py",
     "varRefreshCmd": "print(var_dic_list())"
    },
    "r": {
     "delete_cmd_postfix": ") ",
     "delete_cmd_prefix": "rm(",
     "library": "var_list.r",
     "varRefreshCmd": "cat(var_dic_list()) "
    }
   },
   "types_to_exclude": [
    "module",
    "function",
    "builtin_function_or_method",
    "instance",
    "_Feature"
   ],
   "window_display": false
  }
 },
 "nbformat": 4,
 "nbformat_minor": 2
}
