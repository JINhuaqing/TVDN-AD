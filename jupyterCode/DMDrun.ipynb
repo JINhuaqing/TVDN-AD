{
 "cells": [
  {
   "cell_type": "code",
   "execution_count": 1,
   "metadata": {},
   "outputs": [],
   "source": [
    "import sys\n",
    "sys.path.append(\"/home/huaqingj/MyResearch/AD_control_data/TVDN\")"
   ]
  },
  {
   "cell_type": "code",
   "execution_count": 2,
   "metadata": {},
   "outputs": [
    {
     "name": "stderr",
     "output_type": "stream",
     "text": [
      "/home/huaqingj/anaconda3/lib/python3.7/site-packages/tqdm/autonotebook.py:17: TqdmExperimentalWarning: Using `tqdm.autonotebook.tqdm` in notebook mode. Use `tqdm.tqdm` instead to force console mode (e.g. in jupyter console)\n",
      "  \" (e.g. in jupyter console)\", TqdmExperimentalWarning)\n"
     ]
    }
   ],
   "source": [
    "from pyTVDN import TVDNDetect\n",
    "from pathlib import Path\n",
    "from scipy.io import loadmat\n",
    "import numpy as np\n",
    "from easydict import EasyDict as edict\n",
    "import matplotlib.pyplot as plt\n",
    "import os\n",
    "from scipy import signal\n",
    "import pickle\n",
    "import seaborn as sns\n",
    "from tqdm.autonotebook import tqdm\n",
    "import numbers\n",
    "%matplotlib inline"
   ]
  },
  {
   "cell_type": "code",
   "execution_count": 3,
   "metadata": {},
   "outputs": [],
   "source": [
    "import rpy2.robjects as robj\n",
    "robj.r.source(\"./Rcode/utils.R\")\n",
    "\n",
    "RsegDMD = robj.r[\"DMD\"]"
   ]
  },
  {
   "cell_type": "code",
   "execution_count": 4,
   "metadata": {},
   "outputs": [],
   "source": [
    "os.chdir(\"/home/huaqingj/MyResearch/AD_control_data/TVDN\")\n",
    "resDir = Path(\"./results\")\n",
    "dataDir = Path(\"./data\")"
   ]
  },
  {
   "cell_type": "code",
   "execution_count": 5,
   "metadata": {},
   "outputs": [],
   "source": [
    "ADdets = list(resDir.glob(\"AD*04_decimate5.pkl\"))\n",
    "ADdetsPs = sorted(ADdets, key=lambda p:int(p.stem.split(\"_\")[3]))\n",
    "Ctrldets = list(resDir.glob(\"Ctrl*04_decimate5.pkl\"))\n",
    "CtrldetsPs = sorted(Ctrldets, key=lambda p:int(p.stem.split(\"_\")[3]))"
   ]
  },
  {
   "cell_type": "code",
   "execution_count": 6,
   "metadata": {},
   "outputs": [],
   "source": [
    "def statAmat(curY, curX):\n",
    "    M = np.matmul(curX, curX.T)/curX.shape[-1]\n",
    "    YX = np.matmul(curY, curX.T)/curX.shape[-1]\n",
    "    U, S, VT = np.linalg.svd(M)\n",
    "    r = np.argmax(np.cumsum(S)/np.sum(S)>=0.999) + 1\n",
    "    invM = U[:, :r].dot(np.diag(1/S[:r])).dot(VT[:r, :])\n",
    "    Amat = YX.dot(invM)\n",
    "    return Amat"
   ]
  },
  {
   "cell_type": "code",
   "execution_count": 7,
   "metadata": {},
   "outputs": [],
   "source": [
    "def minmax(mat):\n",
    "    stdMat = (mat-np.min(mat))/(np.max(mat)-np.min(mat))\n",
    "    return stdMat"
   ]
  },
  {
   "cell_type": "code",
   "execution_count": 8,
   "metadata": {},
   "outputs": [],
   "source": [
    "def sysMatShuffle(mat):\n",
    "    trlMask = np.tril(np.ones_like(mat))\n",
    "    trlMask1 = np.tril(np.ones_like(mat), k=-1)\n",
    "    eles = mat[trlMask==1]\n",
    "    np.random.shuffle(eles)\n",
    "    sMat = np.zeros_like(mat)\n",
    "    sMat[trlMask==1] = eles\n",
    "    sMat[trlMask1.T==1] = sMat[trlMask1==1]\n",
    "    return sMat"
   ]
  },
  {
   "cell_type": "code",
   "execution_count": 9,
   "metadata": {},
   "outputs": [],
   "source": [
    "def NetMeasureFn(mat, nrep=100):\n",
    "    Cs = bct.clustering_coef_wu(mat)\n",
    "    mC = np.mean(Cs)\n",
    "    Ls = bct.distance_wei(mat)[0]\n",
    "    mL = np.mean(1/Ls[np.eye(Ls.shape[0])!=1])\n",
    "    _, Q = bct.modularity_und(mat)\n",
    "    \n",
    "    ranLs = []\n",
    "    ranQs = []\n",
    "    ranCs = []\n",
    "    for i in range(nrep):\n",
    "        sMat = sysMatShuffle(mat)\n",
    "        Cs = bct.clustering_coef_wu(sMat)\n",
    "        mCi = np.mean(Cs)\n",
    "        ranCs.append(mCi)\n",
    "        Ls = bct.distance_wei(sMat)[0]\n",
    "        mLi = np.mean(1/Ls[np.eye(Ls.shape[0])!=1])\n",
    "        ranLs.append(mLi)\n",
    "        _, Qi = bct.modularity_und(sMat)\n",
    "        ranQs.append(Qi)\n",
    "    \n",
    "    tQ = Q/np.mean(ranQs)\n",
    "    tmL  = mL/np.mean(ranLs)\n",
    "    tmC  = mC/np.mean(ranCs)\n",
    "    return tmC, tmL, tQ, mC, mL, Q"
   ]
  },
  {
   "cell_type": "code",
   "execution_count": 10,
   "metadata": {},
   "outputs": [],
   "source": [
    "import bct"
   ]
  },
  {
   "cell_type": "code",
   "execution_count": 89,
   "metadata": {},
   "outputs": [
    {
     "data": {
      "application/vnd.jupyter.widget-view+json": {
       "model_id": "d32254ed126c4b6b9437c71121866fbc",
       "version_major": 2,
       "version_minor": 0
      },
      "text/plain": [
       "HBox(children=(IntProgress(value=0, max=88), HTML(value='')))"
      ]
     },
     "metadata": {},
     "output_type": "display_data"
    },
    {
     "name": "stdout",
     "output_type": "stream",
     "text": [
      "\n"
     ]
    }
   ],
   "source": [
    "ADNWsDMD = []\n",
    "ADNWsTV = []\n",
    "for ADdetP in tqdm(ADdetsPs):\n",
    "    with open(ADdetP, \"rb\") as f:\n",
    "        detObj = pickle.load(f)\n",
    "    \n",
    "    NWDMD = edict()\n",
    "    NWTV = edict()\n",
    "    \n",
    "    nYmat = detObj.Xmat\n",
    "    curY, curX = nYmat[:, 1:], nYmat[:, :-1]\n",
    "    AmatDMD = statAmat(curY, curX)\n",
    "    conMatDMD = minmax(AmatDMD.dot(AmatDMD.T))\n",
    "    NWDMD.Amat = AmatDMD\n",
    "    NWDMD.stdAmat = conMatDMD\n",
    "    NWDMD.ms = NetMeasureFn(conMatDMD)\n",
    "    ADNWsDMD.append(NWDMD)\n",
    "    \n",
    "    curY, curX = detObj.dXmat, detObj.Xmat\n",
    "    AmatTV = statAmat(curY, curX)\n",
    "    conMatTV = minmax(AmatTV.dot(AmatTV.T))\n",
    "    NWTV.Amat = AmatTV\n",
    "    NWTV.stdAmat = conMatTV\n",
    "    NWTV.ms = NetMeasureFn(conMatTV)\n",
    "    ADNWsTV.append(NWTV)\n",
    "    \n",
    "filName = f\"AD_data_NWM_TV.pkl\"\n",
    "with open(resDir/filName, \"wb\") as f:\n",
    "    pickle.dump(ADNWsTV, f)\n",
    "filName = f\"AD_data_NWM_DMD.pkl\"\n",
    "with open(resDir/filName, \"wb\") as f:\n",
    "    pickle.dump(ADNWsDMD, f)"
   ]
  },
  {
   "cell_type": "code",
   "execution_count": 90,
   "metadata": {},
   "outputs": [
    {
     "data": {
      "application/vnd.jupyter.widget-view+json": {
       "model_id": "5deab516673740b1af1905f5b0d38551",
       "version_major": 2,
       "version_minor": 0
      },
      "text/plain": [
       "HBox(children=(IntProgress(value=0, max=70), HTML(value='')))"
      ]
     },
     "metadata": {},
     "output_type": "display_data"
    },
    {
     "name": "stdout",
     "output_type": "stream",
     "text": [
      "\n"
     ]
    }
   ],
   "source": [
    "CtrlNWsDMD = []\n",
    "CtrlNWsTV = []\n",
    "for CtrldetP in tqdm(CtrldetsPs):\n",
    "    with open(CtrldetP, \"rb\") as f:\n",
    "        detObj = pickle.load(f)\n",
    "    \n",
    "    NWDMD = edict()\n",
    "    NWTV = edict()\n",
    "    \n",
    "    nYmat = detObj.Xmat\n",
    "    curY, curX = nYmat[:, 1:], nYmat[:, :-1]\n",
    "    AmatDMD = statAmat(curY, curX)\n",
    "    conMatDMD = minmax(AmatDMD.dot(AmatDMD.T))\n",
    "    NWDMD.Amat = AmatDMD\n",
    "    NWDMD.stdAmat = conMatDMD\n",
    "    NWDMD.ms = NetMeasureFn(conMatDMD)\n",
    "    CtrlNWsDMD.append(NWDMD)\n",
    "    \n",
    "    curY, curX = detObj.dXmat, detObj.Xmat\n",
    "    AmatTV = statAmat(curY, curX)\n",
    "    conMatTV = minmax(AmatTV.dot(AmatTV.T))\n",
    "    NWTV.Amat = AmatTV\n",
    "    NWTV.stdAmat = conMatTV\n",
    "    NWTV.ms = NetMeasureFn(conMatTV)\n",
    "    CtrlNWsTV.append(NWTV)\n",
    "    \n",
    "filName = f\"Ctrl_data_NWM_TV.pkl\"\n",
    "with open(resDir/filName, \"wb\") as f:\n",
    "    pickle.dump(CtrlNWsTV, f)\n",
    "filName = f\"Ctrl_data_NWM_DMD.pkl\"\n",
    "with open(resDir/filName, \"wb\") as f:\n",
    "    pickle.dump(CtrlNWsDMD, f)"
   ]
  },
  {
   "cell_type": "code",
   "execution_count": 11,
   "metadata": {},
   "outputs": [],
   "source": [
    "def wUFn(Amat):\n",
    "    eigVals, eigVecs = np.linalg.eig(Amat)\n",
    "    r = np.sum(np.cumsum(np.abs(eigVals))/np.sum(np.abs(eigVals)) <= 0.8) + 1\n",
    "    if (eigVals[r-1].imag + eigVals[r].imag ) == 0:\n",
    "        r = r + 1\n",
    "    wU = np.abs(np.matmul(eigVecs[:, :r], eigVals[:r]))\n",
    "    return wU, r"
   ]
  },
  {
   "cell_type": "code",
   "execution_count": 13,
   "metadata": {},
   "outputs": [],
   "source": [
    "from sklearn.linear_model import LogisticRegression\n",
    "from sklearn.model_selection import LeaveOneOut\n",
    "from sklearn.metrics import roc_auc_score, roc_curve\n",
    "\n",
    "import warnings\n",
    "warnings.filterwarnings('ignore')"
   ]
  },
  {
   "cell_type": "code",
   "execution_count": 36,
   "metadata": {},
   "outputs": [],
   "source": [
    "def minmax(x):\n",
    "    num = x - np.min(x)\n",
    "    den = np.max(x) - np.min(x)\n",
    "    return num/den\n",
    "\n",
    "def U2BrainVec(wU):\n",
    "    emVec = np.zeros_like(DKtmplate, dtype=np.float64)\n",
    "    for idx in range(1, 69):\n",
    "        emVec[DKtmplate==idx] = wU[idx-1]\n",
    "    return emVec\n",
    "\n",
    "def reorderU(wU):\n",
    "    wUreorder = np.zeros_like(wU, dtype=np.float64)\n",
    "    wUreorder[0::2] = wU[:34]\n",
    "    wUreorder[1::2] = wU[34:]\n",
    "    return wUreorder"
   ]
  },
  {
   "cell_type": "code",
   "execution_count": 45,
   "metadata": {},
   "outputs": [],
   "source": [
    "with open(\"./meg_data/BNVtemplate_DK68.txt\", \"r\") as tf:\n",
    "    DKtmplateRaw = tf.readlines()\n",
    "DKtmplate = np.array([int(x.strip()) for x in DKtmplateRaw])"
   ]
  },
  {
   "cell_type": "code",
   "execution_count": 85,
   "metadata": {},
   "outputs": [],
   "source": [
    "def discretVec(Vec, ps=[0, 0.25, 0.5, 0.75, 1]):\n",
    "    qs = np.quantile(Vec, ps)\n",
    "    disVec = Vec \n",
    "    for ix in range(len(qs)-1):\n",
    "        low = qs[ix]\n",
    "        up = qs[ix+1]\n",
    "        idxVec= np.bitwise_and(Vec >= low, Vec <up)\n",
    "        disVec[idxVec] = np.mean(Vec[idxVec])\n",
    "    return disVec"
   ]
  },
  {
   "cell_type": "markdown",
   "metadata": {},
   "source": [
    "### DMD"
   ]
  },
  {
   "cell_type": "code",
   "execution_count": 92,
   "metadata": {},
   "outputs": [],
   "source": [
    "filName = f\"Ctrl_data_NWM_DMD.pkl\"\n",
    "with open(resDir/filName, \"rb\") as f:\n",
    "    CtrlDMD = pickle.load(f)\n",
    "filName = f\"AD_data_NWM_DMD.pkl\"\n",
    "with open(resDir/filName, \"rb\") as f:\n",
    "    ADDMD = pickle.load(f)"
   ]
  },
  {
   "cell_type": "code",
   "execution_count": 93,
   "metadata": {},
   "outputs": [],
   "source": [
    "fsAll = []\n",
    "for v in ADDMD:\n",
    "    fs = edict()\n",
    "    fs.tC = v[\"ms\"][0]\n",
    "    fs.tL = v[\"ms\"][1]\n",
    "    fs.tQ = v[\"ms\"][2]\n",
    "    fs.C = v[\"ms\"][3]\n",
    "    fs.L = v[\"ms\"][4]\n",
    "    fs.Q = v[\"ms\"][5]\n",
    "    fs.wU, fs.r = wUFn(v[\"Amat\"])\n",
    "    fsAll.append(fs)\n",
    "fsAD = fsAll"
   ]
  },
  {
   "cell_type": "code",
   "execution_count": 94,
   "metadata": {},
   "outputs": [],
   "source": [
    "fsAll = []\n",
    "for v in CtrlDMD:\n",
    "    fs = edict()\n",
    "    fs.tC = v[\"ms\"][0]\n",
    "    fs.tL = v[\"ms\"][1]\n",
    "    fs.tQ = v[\"ms\"][2]\n",
    "    fs.C = v[\"ms\"][3]\n",
    "    fs.L = v[\"ms\"][4]\n",
    "    fs.Q = v[\"ms\"][5]\n",
    "    fs.wU, fs.r = wUFn(v[\"Amat\"])\n",
    "    fsAll.append(fs)\n",
    "fsCtrl = fsAll"
   ]
  },
  {
   "cell_type": "code",
   "execution_count": 97,
   "metadata": {},
   "outputs": [],
   "source": [
    "nDis = 10\n",
    "mwUAD = np.array([fs.wU for fs in fsAD]).mean(axis=0)\n",
    "mwUCtrl = np.array([fs.wU for fs in fsCtrl]).mean(axis=0)\n",
    "disMwUAD = discretVec(mwUAD, np.linspace(0, 1, nDis+1))\n",
    "disMwUCtrl  = discretVec(mwUCtrl, np.linspace(0, 1, nDis+1))\n",
    "mFAD = minmax(mwUAD)\n",
    "mFCtrl = minmax(mwUCtrl)\n",
    "outAD = U2BrainVec(reorderU(mFAD))\n",
    "outCtrl = U2BrainVec(reorderU(mFCtrl))\n",
    "np.savetxt(f\"./brainPlotFils/DMDwUmeanAD_{nDis}.txt\", outAD)\n",
    "np.savetxt(f\"./brainPlotFils/DMDwUmeanCtrl_{nDis}.txt\", outCtrl)"
   ]
  },
  {
   "cell_type": "code",
   "execution_count": 34,
   "metadata": {},
   "outputs": [],
   "source": [
    "Ys = np.concatenate([np.ones(len(fsAD)), np.zeros(len(fsCtrl))])\n",
    "fsName = [\"r\", \"wU\"]\n",
    "XsAD = []\n",
    "XsCtrl = []\n",
    "for fName in fsName:\n",
    "    if isinstance(fsAD[0][fName], numbers.Number):\n",
    "        cfAD = np.array([fs[fName] for fs in fsAD]).reshape(-1, 1)\n",
    "        cfCtrl = np.array([fs[fName] for fs in fsCtrl]).reshape(-1, 1)\n",
    "    else:\n",
    "        cfAD = np.array([fs[fName] for fs in fsAD])\n",
    "        cfCtrl = np.array([fs[fName] for fs in fsCtrl])\n",
    "    \n",
    "    XsAD.append(cfAD)\n",
    "    XsCtrl.append(cfCtrl)\n",
    "XsAD = np.concatenate(XsAD, axis=1)\n",
    "XsCtrl = np.concatenate(XsCtrl, axis=1)\n",
    "Xs = np.concatenate([XsAD, XsCtrl], axis=0)\n",
    "stdXs = (Xs - Xs.mean(axis=0))/Xs.std(axis=0)"
   ]
  },
  {
   "cell_type": "code",
   "execution_count": 35,
   "metadata": {},
   "outputs": [
    {
     "name": "stdout",
     "output_type": "stream",
     "text": [
      "Features are ['r', 'wU'].\n",
      "The AUC under optimal C is 0.621.\n",
      "The mean of AUC under 1000 repetitions is 0.632 and the standard deviation is 0.089.\n",
      "----------------------------------------------------------------------------------------------------\n",
      "Features are ['tC', 'tL', 'tQ'].\n",
      "The AUC under optimal C is 0.585.\n",
      "The mean of AUC under 1000 repetitions is 0.602 and the standard deviation is 0.093.\n",
      "----------------------------------------------------------------------------------------------------\n",
      "Features are ['r', 'wU', 'tC', 'tL', 'tQ'].\n",
      "The AUC under optimal C is 0.616.\n",
      "The mean of AUC under 1000 repetitions is 0.622 and the standard deviation is 0.093.\n",
      "----------------------------------------------------------------------------------------------------\n"
     ]
    }
   ],
   "source": [
    "penalty = \"l2\"\n",
    "fsNameSet = [[\"r\", \"wU\"], \n",
    "             [\"tC\", \"tL\", \"tQ\"],  \n",
    "             [\"r\", \"wU\", \"tC\", \"tL\", \"tQ\"]\n",
    "            ]\n",
    "for fsName in fsNameSet:\n",
    "    Ys = np.concatenate([np.ones(len(fsAD)), np.zeros(len(fsCtrl))])\n",
    "    XsAD = []\n",
    "    XsCtrl = []\n",
    "    for fName in fsName:\n",
    "        if isinstance(fsAD[0][fName], numbers.Number):\n",
    "            cfAD = np.array([fs[fName] for fs in fsAD]).reshape(-1, 1)\n",
    "            cfCtrl = np.array([fs[fName] for fs in fsCtrl]).reshape(-1, 1)\n",
    "        else:\n",
    "            cfAD = np.array([fs[fName] for fs in fsAD])\n",
    "            cfCtrl = np.array([fs[fName] for fs in fsCtrl])\n",
    "        \n",
    "        XsAD.append(cfAD)\n",
    "        XsCtrl.append(cfCtrl)\n",
    "    XsAD = np.concatenate(XsAD, axis=1)\n",
    "    XsCtrl = np.concatenate(XsCtrl, axis=1)\n",
    "    Xs = np.concatenate([XsAD, XsCtrl], axis=0)\n",
    "    stdXs = (Xs - Xs.mean(axis=0))/Xs.std(axis=0)\n",
    "    \n",
    "    Cs = [0.1, 0.2, 0.4, 0.8, 1, 1.6, 3.2, 6.4, 1000]\n",
    "    aucCs = []\n",
    "    for C in Cs:\n",
    "        eProbs = []\n",
    "        loo = LeaveOneOut()\n",
    "        for trIdxs, testIdxs in loo.split(stdXs):\n",
    "            clf = LogisticRegression(penalty=penalty, random_state=0, C=C)\n",
    "            clf.fit(stdXs[trIdxs, :], Ys[trIdxs])\n",
    "            eProbs.append(clf.predict_proba(stdXs[testIdxs, :]))\n",
    "        eProbs = np.array(eProbs).squeeze()\n",
    "        auc = roc_auc_score(Ys, eProbs[:, 1])\n",
    "        fpr, tpr, thresholds = roc_curve(Ys, eProbs[:, 1], pos_label=1)\n",
    "        aucCs.append(auc)\n",
    "        \n",
    "    optC = Cs[np.argmax(aucCs)]\n",
    "    eProbs = []\n",
    "    loo = LeaveOneOut()\n",
    "    parass = []\n",
    "    for trIdxs, testIdxs in loo.split(stdXs):\n",
    "        clf = LogisticRegression(penalty=penalty, random_state=0, C=optC)\n",
    "        clf.fit(stdXs[trIdxs, :], Ys[trIdxs])\n",
    "        paras = np.concatenate([clf.intercept_, clf.coef_.reshape(-1)])\n",
    "        parass.append(paras)\n",
    "        eProbs.append(clf.predict_proba(stdXs[testIdxs, :]))\n",
    "    eProbs = np.array(eProbs).squeeze()\n",
    "    auc = roc_auc_score(Ys, eProbs[:, 1])\n",
    "    fpr, tpr, thresholds = roc_curve(Ys, eProbs[:, 1], pos_label=1)\n",
    "    parass = np.array(parass)\n",
    "    \n",
    "    nobs = stdXs.shape[0]\n",
    "    Aucss = []\n",
    "    for j in range(1000):\n",
    "        testIdx = np.random.choice(nobs, int(nobs/5), False)\n",
    "        trainIdx = np.delete(np.arange(nobs), testIdx)\n",
    "        clf = LogisticRegression(penalty=penalty, random_state=0, C=optC)\n",
    "        clf.fit(stdXs[trainIdx], Ys[trainIdx])\n",
    "        curEprobs = clf.predict_proba(stdXs[testIdx, :])\n",
    "        curAuc = roc_auc_score(Ys[testIdx], curEprobs[:, 1])\n",
    "        Aucss.append(curAuc)\n",
    "    mAUC = np.mean(Aucss)\n",
    "    stdAUC = np.std(Aucss)\n",
    "    print(f\"Features are {fsName}.\")\n",
    "    print(f\"The AUC under optimal C is {auc:.3f}.\")\n",
    "    print(f\"The mean of AUC under 1000 repetitions is {mAUC:.3f} and the standard deviation is {stdAUC:.3f}.\")\n",
    "    print(\"-\"*100)"
   ]
  },
  {
   "cell_type": "markdown",
   "metadata": {},
   "source": [
    "### TV"
   ]
  },
  {
   "cell_type": "code",
   "execution_count": 86,
   "metadata": {},
   "outputs": [],
   "source": [
    "filName = f\"Ctrl_data_NWM_TV.pkl\"\n",
    "with open(resDir/filName, \"rb\") as f:\n",
    "    CtrlTV = pickle.load(f)\n",
    "filName = f\"AD_data_NWM_TV.pkl\"\n",
    "with open(resDir/filName, \"rb\") as f:\n",
    "    ADTV = pickle.load(f)"
   ]
  },
  {
   "cell_type": "code",
   "execution_count": 87,
   "metadata": {},
   "outputs": [],
   "source": [
    "fsAll = []\n",
    "for v in ADTV:\n",
    "    fs = edict()\n",
    "    fs.tC = v[\"ms\"][0]\n",
    "    fs.tL = v[\"ms\"][1]\n",
    "    fs.tQ = v[\"ms\"][2]\n",
    "    fs.C = v[\"ms\"][3]\n",
    "    fs.L = v[\"ms\"][4]\n",
    "    fs.Q = v[\"ms\"][5]\n",
    "    fs.wU, fs.r = wUFn(v[\"Amat\"])\n",
    "    fsAll.append(fs)\n",
    "fsAD = fsAll"
   ]
  },
  {
   "cell_type": "code",
   "execution_count": 88,
   "metadata": {},
   "outputs": [],
   "source": [
    "fsAll = []\n",
    "for v in CtrlTV:\n",
    "    fs = edict()\n",
    "    fs.tC = v[\"ms\"][0]\n",
    "    fs.tL = v[\"ms\"][1]\n",
    "    fs.tQ = v[\"ms\"][2]\n",
    "    fs.C = v[\"ms\"][3]\n",
    "    fs.L = v[\"ms\"][4]\n",
    "    fs.Q = v[\"ms\"][5]\n",
    "    fs.wU, fs.r = wUFn(v[\"Amat\"])\n",
    "    fsAll.append(fs)\n",
    "fsCtrl = fsAll"
   ]
  },
  {
   "cell_type": "code",
   "execution_count": 91,
   "metadata": {},
   "outputs": [],
   "source": [
    "nDis = 8\n",
    "mwUAD = np.array([fs.wU for fs in fsAD]).mean(axis=0)\n",
    "mwUCtrl = np.array([fs.wU for fs in fsCtrl]).mean(axis=0)\n",
    "disMwUAD = discretVec(mwUAD, np.linspace(0, 1, nDis+1))\n",
    "disMwUCtrl  = discretVec(mwUCtrl, np.linspace(0, 1, nDis+1))\n",
    "mFAD = minmax(mwUAD)\n",
    "mFCtrl = minmax(mwUCtrl)\n",
    "outAD = U2BrainVec(reorderU(mFAD))\n",
    "outCtrl = U2BrainVec(reorderU(mFCtrl))\n",
    "np.savetxt(f\"./brainPlotFils/DMwUmeanAD_{nDis}.txt\", outAD)\n",
    "np.savetxt(f\"./brainPlotFils/DMwUmeanCtrl_{nDis}.txt\", outCtrl)"
   ]
  },
  {
   "cell_type": "code",
   "execution_count": 22,
   "metadata": {},
   "outputs": [],
   "source": [
    "Ys = np.concatenate([np.ones(len(fsAD)), np.zeros(len(fsCtrl))])\n",
    "fsName = [\"r\", \"wU\"]\n",
    "XsAD = []\n",
    "XsCtrl = []\n",
    "for fName in fsName:\n",
    "    if isinstance(fsAD[0][fName], numbers.Number):\n",
    "        cfAD = np.array([fs[fName] for fs in fsAD]).reshape(-1, 1)\n",
    "        cfCtrl = np.array([fs[fName] for fs in fsCtrl]).reshape(-1, 1)\n",
    "    else:\n",
    "        cfAD = np.array([fs[fName] for fs in fsAD])\n",
    "        cfCtrl = np.array([fs[fName] for fs in fsCtrl])\n",
    "    \n",
    "    XsAD.append(cfAD)\n",
    "    XsCtrl.append(cfCtrl)\n",
    "XsAD = np.concatenate(XsAD, axis=1)\n",
    "XsCtrl = np.concatenate(XsCtrl, axis=1)\n",
    "Xs = np.concatenate([XsAD, XsCtrl], axis=0)\n",
    "stdXs = (Xs - Xs.mean(axis=0))/Xs.std(axis=0)"
   ]
  },
  {
   "cell_type": "code",
   "execution_count": 29,
   "metadata": {
    "scrolled": false
   },
   "outputs": [
    {
     "name": "stdout",
     "output_type": "stream",
     "text": [
      "[0.6400974025974026, 0.6290584415584416, 0.615909090909091, 0.5926948051948052, 0.5871753246753247, 0.5850649350649352, 0.575487012987013, 0.5691558441558442, 0.5358766233766233]\n",
      "Features are ['r', 'wU'].\n",
      "The AUC under optimal C is 0.640.\n",
      "The mean of AUC under 1000 repetitions is 0.646 and the standard deviation is 0.086.\n",
      "----------------------------------------------------------------------------------------------------\n",
      "[0.4904220779220779, 0.4844155844155844, 0.4806818181818182, 0.48019480519480523, 0.4800324675324676, 0.4795454545454546, 0.47938311688311697, 0.47922077922077927, 0.4793831168831169]\n",
      "Features are ['tC', 'tL', 'tQ'].\n",
      "The AUC under optimal C is 0.490.\n",
      "The mean of AUC under 1000 repetitions is 0.548 and the standard deviation is 0.093.\n",
      "----------------------------------------------------------------------------------------------------\n",
      "[0.6396103896103896, 0.629383116883117, 0.611038961038961, 0.5977272727272728, 0.5951298701298702, 0.5897727272727273, 0.5790584415584416, 0.574512987012987, 0.5104707792207792]\n",
      "Features are ['r', 'wU', 'tC', 'tL', 'tQ'].\n",
      "The AUC under optimal C is 0.640.\n",
      "The mean of AUC under 1000 repetitions is 0.648 and the standard deviation is 0.087.\n",
      "----------------------------------------------------------------------------------------------------\n"
     ]
    }
   ],
   "source": [
    "penalty = \"l2\"\n",
    "fsNameSet = [[\"r\", \"wU\"], \n",
    "             [\"tC\", \"tL\", \"tQ\"],  \n",
    "             [\"r\", \"wU\", \"tC\", \"tL\", \"tQ\"]\n",
    "            ]\n",
    "for fsName in fsNameSet:\n",
    "    Ys = np.concatenate([np.ones(len(fsAD)), np.zeros(len(fsCtrl))])\n",
    "    XsAD = []\n",
    "    XsCtrl = []\n",
    "    for fName in fsName:\n",
    "        if isinstance(fsAD[0][fName], numbers.Number):\n",
    "            cfAD = np.array([fs[fName] for fs in fsAD]).reshape(-1, 1)\n",
    "            cfCtrl = np.array([fs[fName] for fs in fsCtrl]).reshape(-1, 1)\n",
    "        else:\n",
    "            cfAD = np.array([fs[fName] for fs in fsAD])\n",
    "            cfCtrl = np.array([fs[fName] for fs in fsCtrl])\n",
    "        \n",
    "        XsAD.append(cfAD)\n",
    "        XsCtrl.append(cfCtrl)\n",
    "    XsAD = np.concatenate(XsAD, axis=1)\n",
    "    XsCtrl = np.concatenate(XsCtrl, axis=1)\n",
    "    Xs = np.concatenate([XsAD, XsCtrl], axis=0)\n",
    "    stdXs = (Xs - Xs.mean(axis=0))/Xs.std(axis=0)\n",
    "    \n",
    "    Cs = [0.1, 0.2, 0.4, 0.8, 1, 1.6, 3.2, 6.4, 1000]\n",
    "    aucCs = []\n",
    "    for C in Cs:\n",
    "        eProbs = []\n",
    "        loo = LeaveOneOut()\n",
    "        for trIdxs, testIdxs in loo.split(stdXs):\n",
    "            clf = LogisticRegression(penalty=penalty, random_state=0, C=C)\n",
    "            clf.fit(stdXs[trIdxs, :], Ys[trIdxs])\n",
    "            eProbs.append(clf.predict_proba(stdXs[testIdxs, :]))\n",
    "        eProbs = np.array(eProbs).squeeze()\n",
    "        auc = roc_auc_score(Ys, eProbs[:, 1])\n",
    "        fpr, tpr, thresholds = roc_curve(Ys, eProbs[:, 1], pos_label=1)\n",
    "        aucCs.append(auc)\n",
    "        \n",
    "    print(aucCs)\n",
    "    optC = Cs[np.argmax(aucCs)]\n",
    "    eProbs = []\n",
    "    loo = LeaveOneOut()\n",
    "    parass = []\n",
    "    for trIdxs, testIdxs in loo.split(stdXs):\n",
    "        clf = LogisticRegression(penalty=penalty, random_state=0, C=optC)\n",
    "        clf.fit(stdXs[trIdxs, :], Ys[trIdxs])\n",
    "        paras = np.concatenate([clf.intercept_, clf.coef_.reshape(-1)])\n",
    "        parass.append(paras)\n",
    "        eProbs.append(clf.predict_proba(stdXs[testIdxs, :]))\n",
    "    eProbs = np.array(eProbs).squeeze()\n",
    "    auc = roc_auc_score(Ys, eProbs[:, 1])\n",
    "    fpr, tpr, thresholds = roc_curve(Ys, eProbs[:, 1], pos_label=1)\n",
    "    parass = np.array(parass)\n",
    "    \n",
    "    nobs = stdXs.shape[0]\n",
    "    Aucss = []\n",
    "    for j in range(1000):\n",
    "        testIdx = np.random.choice(nobs, int(nobs/5), False)\n",
    "        trainIdx = np.delete(np.arange(nobs), testIdx)\n",
    "        clf = LogisticRegression(penalty=penalty, random_state=0, C=optC)\n",
    "        clf.fit(stdXs[trainIdx], Ys[trainIdx])\n",
    "        curEprobs = clf.predict_proba(stdXs[testIdx, :])\n",
    "        curAuc = roc_auc_score(Ys[testIdx], curEprobs[:, 1])\n",
    "        Aucss.append(curAuc)\n",
    "    mAUC = np.mean(Aucss)\n",
    "    stdAUC = np.std(Aucss)\n",
    "    print(f\"Features are {fsName}.\")\n",
    "    print(f\"The AUC under optimal C is {auc:.3f}.\")\n",
    "    print(f\"The mean of AUC under 1000 repetitions is {mAUC:.3f} and the standard deviation is {stdAUC:.3f}.\")\n",
    "    print(\"-\"*100)"
   ]
  },
  {
   "cell_type": "code",
   "execution_count": null,
   "metadata": {},
   "outputs": [],
   "source": []
  }
 ],
 "metadata": {
  "kernelspec": {
   "display_name": "Python 3",
   "language": "python",
   "name": "python3"
  },
  "language_info": {
   "codemirror_mode": {
    "name": "ipython",
    "version": 3
   },
   "file_extension": ".py",
   "mimetype": "text/x-python",
   "name": "python",
   "nbconvert_exporter": "python",
   "pygments_lexer": "ipython3",
   "version": "3.7.4"
  }
 },
 "nbformat": 4,
 "nbformat_minor": 2
}
