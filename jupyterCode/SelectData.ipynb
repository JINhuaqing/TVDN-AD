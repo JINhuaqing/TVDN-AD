{
 "cells": [
  {
   "cell_type": "markdown",
   "metadata": {},
   "source": [
    "This file is to select the MEG data for our paper when considering age and gender balance\n",
    "\n",
    "Note that I only filter the datasets from Control group"
   ]
  },
  {
   "cell_type": "code",
   "execution_count": 1,
   "metadata": {
    "ExecuteTime": {
     "end_time": "2022-12-08T00:29:57.356919Z",
     "start_time": "2022-12-08T00:29:56.570987Z"
    }
   },
   "outputs": [],
   "source": [
    "import pandas as pd\n",
    "import numpy as np \n",
    "from scipy.stats import chi2_contingency\n",
    "import scipy\n",
    "import os\n",
    "import matplotlib.pyplot as plt"
   ]
  },
  {
   "cell_type": "code",
   "execution_count": 2,
   "metadata": {
    "ExecuteTime": {
     "end_time": "2022-12-08T00:29:57.458839Z",
     "start_time": "2022-12-08T00:29:57.357999Z"
    }
   },
   "outputs": [],
   "source": [
    "# the baseline data for the current dataset (88 vs 70)\n",
    "os.chdir(\"/home/huaqingj/MyResearch/TVDN-AD/\")\n",
    "ADSum = pd.read_csv(\"./OtherFils/ADcomplete.csv\").loc[:87, :]\n",
    "CtrlSum = pd.read_excel(\"./OtherFils/Ctrlcomplete.xlsx\")\n",
    "# RM space in col names\n",
    "ADSum.columns = ADSum.columns.str.strip()\n",
    "CtrlSum.columns = CtrlSum.columns.str.strip()"
   ]
  },
  {
   "cell_type": "code",
   "execution_count": 3,
   "metadata": {
    "ExecuteTime": {
     "end_time": "2022-12-08T00:29:57.463696Z",
     "start_time": "2022-12-08T00:29:57.459957Z"
    }
   },
   "outputs": [],
   "source": [
    "# combine together, only consider age and gender\n",
    "selCols = [\"RID\", \"Gender\", \"MEG_Age\", \"MMSE\", \"CDR\", \"CDR_Box\"]\n",
    "ComB = ADSum[selCols].append(CtrlSum[selCols], ignore_index=True)"
   ]
  },
  {
   "cell_type": "code",
   "execution_count": 4,
   "metadata": {
    "ExecuteTime": {
     "end_time": "2022-12-08T00:29:57.563178Z",
     "start_time": "2022-12-08T00:29:57.464539Z"
    }
   },
   "outputs": [],
   "source": [
    "# the  baseline info for the additional dataset for control\n",
    "addDatAll = [\n",
    "[\"UCSF067\",  47, 'Male'], \n",
    "[\"UCSF161\",  47, 'Female'],\n",
    "[\"UCSF174\",  47, 'Male'],\n",
    "[\"UCSF310\",  47, 'Male'],\n",
    "[\"UCSF139\",  53, 'Male'],\n",
    "[\"UCSF145\",  53, 'Male'],\n",
    "[\"UCSF130\",  54, 'Female'],\n",
    "[\"UCSF411\",  54, 'Male'],\n",
    "#[\"UCSF291\",  56, 'Female'],\n",
    "[\"UCSF010\",  57, 'Male'],\n",
    "[\"UCSF011\",  58, 'Female'],\n",
    "[\"UCSF078\",  59, 'Male'],\n",
    "#[\"UCSF333\",  59, 'Female'],\n",
    "[\"UCSF081\",  60, 'Female'],\n",
    "[\"UCSF012\",  42, 'Female'],\n",
    "[\"UCSF251\",  42, 'Female'],\n",
    "[\"UCSF279\",  43, 'Female'],\n",
    "[\"UCSF003\",  44, 'Female'],\n",
    "[\"UCSF041\",  61, 'Male'],\n",
    "[\"UCSF302\",  62, 'Female'],\n",
    "[\"UCSF403\",  62, 'Male'],\n",
    "[\"UCSF005\",  63, 'Female'],\n",
    "[\"UCSF117\",  63, 'Male'],\n",
    "[\"UCSF294\",  63, 'Female'],\n",
    "#[\"UCSF313\",  63, 'Male']\n",
    "]\n",
    "addDatAll = sorted(addDatAll, key=lambda x:int(x[0].split(\"F\")[-1]))"
   ]
  },
  {
   "cell_type": "code",
   "execution_count": 5,
   "metadata": {
    "ExecuteTime": {
     "end_time": "2022-12-08T00:29:57.787386Z",
     "start_time": "2022-12-08T00:29:57.771506Z"
    }
   },
   "outputs": [],
   "source": [
    "addRIDs = [ix[0] for ix in addDatAll]\n",
    "addAges = [ix[1] for ix in addDatAll]\n",
    "addGenders = [ix[2] for ix in addDatAll]\n",
    "addMMSE = ['NA'] * len(addDatAll)\n",
    "addCDR = ['NA'] * len(addDatAll)\n",
    "addCDR_Box = ['NA'] * len(addDatAll)\n",
    "addDataDF = pd.DataFrame({\n",
    "    \"RID\": addRIDs, \n",
    "    \"MEG_Age\": addAges,\n",
    "    \"Gender\": addGenders,\n",
    "    \"MMSE\": addMMSE,\n",
    "    \"CDR\": addCDR,\n",
    "    \"CDR_Box\": addCDR_Box\n",
    "})"
   ]
  },
  {
   "cell_type": "code",
   "execution_count": 6,
   "metadata": {
    "ExecuteTime": {
     "end_time": "2022-12-08T00:29:58.100296Z",
     "start_time": "2022-12-08T00:29:58.092544Z"
    }
   },
   "outputs": [],
   "source": [
    "# combine additional data with previous datasets\n",
    "ComBall = ComB.append(addDataDF, ignore_index=True)\n",
    "ComBall = ComBall.assign(Grp=[\"AD\"]*88+[\"Ctrl\"]*(len(ComBall) -88))\n",
    "ComBall['Gender'] = ComBall['Gender'].apply(lambda x:x.lower())"
   ]
  },
  {
   "cell_type": "code",
   "execution_count": null,
   "metadata": {},
   "outputs": [],
   "source": []
  },
  {
   "cell_type": "markdown",
   "metadata": {},
   "source": [
    "### Test balance for all datasets"
   ]
  },
  {
   "cell_type": "code",
   "execution_count": 7,
   "metadata": {
    "ExecuteTime": {
     "end_time": "2022-12-08T00:29:59.084486Z",
     "start_time": "2022-12-08T00:29:59.062796Z"
    }
   },
   "outputs": [
    {
     "name": "stdout",
     "output_type": "stream",
     "text": [
      "Ttest_indResult(statistic=-2.230175290687792, pvalue=0.02701445795206704)\n"
     ]
    },
    {
     "data": {
      "text/html": [
       "<div>\n",
       "<style scoped>\n",
       "    .dataframe tbody tr th:only-of-type {\n",
       "        vertical-align: middle;\n",
       "    }\n",
       "\n",
       "    .dataframe tbody tr th {\n",
       "        vertical-align: top;\n",
       "    }\n",
       "\n",
       "    .dataframe thead tr th {\n",
       "        text-align: left;\n",
       "    }\n",
       "\n",
       "    .dataframe thead tr:last-of-type th {\n",
       "        text-align: right;\n",
       "    }\n",
       "</style>\n",
       "<table border=\"1\" class=\"dataframe\">\n",
       "  <thead>\n",
       "    <tr>\n",
       "      <th></th>\n",
       "      <th colspan=\"8\" halign=\"left\">MEG_Age</th>\n",
       "    </tr>\n",
       "    <tr>\n",
       "      <th></th>\n",
       "      <th>count</th>\n",
       "      <th>mean</th>\n",
       "      <th>std</th>\n",
       "      <th>min</th>\n",
       "      <th>25%</th>\n",
       "      <th>50%</th>\n",
       "      <th>75%</th>\n",
       "      <th>max</th>\n",
       "    </tr>\n",
       "    <tr>\n",
       "      <th>Grp</th>\n",
       "      <th></th>\n",
       "      <th></th>\n",
       "      <th></th>\n",
       "      <th></th>\n",
       "      <th></th>\n",
       "      <th></th>\n",
       "      <th></th>\n",
       "      <th></th>\n",
       "    </tr>\n",
       "  </thead>\n",
       "  <tbody>\n",
       "    <tr>\n",
       "      <th>AD</th>\n",
       "      <td>88.0</td>\n",
       "      <td>62.730682</td>\n",
       "      <td>8.687345</td>\n",
       "      <td>49.0</td>\n",
       "      <td>55.675000</td>\n",
       "      <td>60.700000</td>\n",
       "      <td>68.650000</td>\n",
       "      <td>84.300000</td>\n",
       "    </tr>\n",
       "    <tr>\n",
       "      <th>Ctrl</th>\n",
       "      <td>92.0</td>\n",
       "      <td>65.944370</td>\n",
       "      <td>10.589452</td>\n",
       "      <td>42.0</td>\n",
       "      <td>59.704393</td>\n",
       "      <td>65.806761</td>\n",
       "      <td>74.292459</td>\n",
       "      <td>87.576297</td>\n",
       "    </tr>\n",
       "  </tbody>\n",
       "</table>\n",
       "</div>"
      ],
      "text/plain": [
       "     MEG_Age                                                               \\\n",
       "       count       mean        std   min        25%        50%        75%   \n",
       "Grp                                                                         \n",
       "AD      88.0  62.730682   8.687345  49.0  55.675000  60.700000  68.650000   \n",
       "Ctrl    92.0  65.944370  10.589452  42.0  59.704393  65.806761  74.292459   \n",
       "\n",
       "                 \n",
       "            max  \n",
       "Grp              \n",
       "AD    84.300000  \n",
       "Ctrl  87.576297  "
      ]
     },
     "execution_count": 7,
     "metadata": {},
     "output_type": "execute_result"
    }
   ],
   "source": [
    "# Age\n",
    "datAD = ComBall[ComBall[\"Grp\"]==\"AD\"]\n",
    "datCtrl = ComBall[(ComBall[\"Grp\"]==\"Ctrl\")]\n",
    "print(scipy.stats.ttest_ind(datAD[\"MEG_Age\"], datCtrl[\"MEG_Age\"], equal_var=False))\n",
    "ComBall.groupby(\"Grp\").describe()"
   ]
  },
  {
   "cell_type": "code",
   "execution_count": 8,
   "metadata": {
    "ExecuteTime": {
     "end_time": "2022-12-08T00:29:59.393398Z",
     "start_time": "2022-12-08T00:29:59.337983Z"
    }
   },
   "outputs": [
    {
     "name": "stdout",
     "output_type": "stream",
     "text": [
      "0.8372627232719306\n"
     ]
    },
    {
     "data": {
      "text/html": [
       "<div>\n",
       "<style scoped>\n",
       "    .dataframe tbody tr th:only-of-type {\n",
       "        vertical-align: middle;\n",
       "    }\n",
       "\n",
       "    .dataframe tbody tr th {\n",
       "        vertical-align: top;\n",
       "    }\n",
       "\n",
       "    .dataframe thead th {\n",
       "        text-align: right;\n",
       "    }\n",
       "</style>\n",
       "<table border=\"1\" class=\"dataframe\">\n",
       "  <thead>\n",
       "    <tr style=\"text-align: right;\">\n",
       "      <th>Gender</th>\n",
       "      <th>female</th>\n",
       "      <th>male</th>\n",
       "    </tr>\n",
       "    <tr>\n",
       "      <th>Grp</th>\n",
       "      <th></th>\n",
       "      <th></th>\n",
       "    </tr>\n",
       "  </thead>\n",
       "  <tbody>\n",
       "    <tr>\n",
       "      <th>AD</th>\n",
       "      <td>53</td>\n",
       "      <td>35</td>\n",
       "    </tr>\n",
       "    <tr>\n",
       "      <th>Ctrl</th>\n",
       "      <td>53</td>\n",
       "      <td>39</td>\n",
       "    </tr>\n",
       "  </tbody>\n",
       "</table>\n",
       "</div>"
      ],
      "text/plain": [
       "Gender  female  male\n",
       "Grp                 \n",
       "AD          53    35\n",
       "Ctrl        53    39"
      ]
     },
     "execution_count": 8,
     "metadata": {},
     "output_type": "execute_result"
    }
   ],
   "source": [
    "#Gender\n",
    "chi2, pv, _, _ = chi2_contingency(np.array(pd.crosstab(ComBall[\"Grp\"], ComBall[\"Gender\"])))\n",
    "print(pv)\n",
    "pd.crosstab(ComBall[\"Grp\"], ComBall[\"Gender\"])"
   ]
  },
  {
   "cell_type": "markdown",
   "metadata": {},
   "source": [
    "### Test balance after selecting datasets"
   ]
  },
  {
   "cell_type": "code",
   "execution_count": 9,
   "metadata": {
    "ExecuteTime": {
     "end_time": "2022-12-08T00:29:59.981069Z",
     "start_time": "2022-12-08T00:29:59.960167Z"
    }
   },
   "outputs": [
    {
     "name": "stdout",
     "output_type": "stream",
     "text": [
      "Ttest_indResult(statistic=-1.6625298231039924, pvalue=0.09824074243770109)\n"
     ]
    },
    {
     "data": {
      "text/html": [
       "<div>\n",
       "<style scoped>\n",
       "    .dataframe tbody tr th:only-of-type {\n",
       "        vertical-align: middle;\n",
       "    }\n",
       "\n",
       "    .dataframe tbody tr th {\n",
       "        vertical-align: top;\n",
       "    }\n",
       "\n",
       "    .dataframe thead tr th {\n",
       "        text-align: left;\n",
       "    }\n",
       "\n",
       "    .dataframe thead tr:last-of-type th {\n",
       "        text-align: right;\n",
       "    }\n",
       "</style>\n",
       "<table border=\"1\" class=\"dataframe\">\n",
       "  <thead>\n",
       "    <tr>\n",
       "      <th></th>\n",
       "      <th colspan=\"8\" halign=\"left\">MEG_Age</th>\n",
       "    </tr>\n",
       "    <tr>\n",
       "      <th></th>\n",
       "      <th>count</th>\n",
       "      <th>mean</th>\n",
       "      <th>std</th>\n",
       "      <th>min</th>\n",
       "      <th>25%</th>\n",
       "      <th>50%</th>\n",
       "      <th>75%</th>\n",
       "      <th>max</th>\n",
       "    </tr>\n",
       "    <tr>\n",
       "      <th>Grp</th>\n",
       "      <th></th>\n",
       "      <th></th>\n",
       "      <th></th>\n",
       "      <th></th>\n",
       "      <th></th>\n",
       "      <th></th>\n",
       "      <th></th>\n",
       "      <th></th>\n",
       "    </tr>\n",
       "  </thead>\n",
       "  <tbody>\n",
       "    <tr>\n",
       "      <th>AD</th>\n",
       "      <td>88.0</td>\n",
       "      <td>62.730682</td>\n",
       "      <td>8.687345</td>\n",
       "      <td>49.0</td>\n",
       "      <td>55.675000</td>\n",
       "      <td>60.700000</td>\n",
       "      <td>68.650000</td>\n",
       "      <td>84.300000</td>\n",
       "    </tr>\n",
       "    <tr>\n",
       "      <th>Ctrl</th>\n",
       "      <td>88.0</td>\n",
       "      <td>65.074597</td>\n",
       "      <td>9.972223</td>\n",
       "      <td>42.0</td>\n",
       "      <td>59.570959</td>\n",
       "      <td>65.727385</td>\n",
       "      <td>73.222937</td>\n",
       "      <td>82.170521</td>\n",
       "    </tr>\n",
       "  </tbody>\n",
       "</table>\n",
       "</div>"
      ],
      "text/plain": [
       "     MEG_Age                                                              \\\n",
       "       count       mean       std   min        25%        50%        75%   \n",
       "Grp                                                                        \n",
       "AD      88.0  62.730682  8.687345  49.0  55.675000  60.700000  68.650000   \n",
       "Ctrl    88.0  65.074597  9.972223  42.0  59.570959  65.727385  73.222937   \n",
       "\n",
       "                 \n",
       "            max  \n",
       "Grp              \n",
       "AD    84.300000  \n",
       "Ctrl  82.170521  "
      ]
     },
     "execution_count": 9,
     "metadata": {},
     "output_type": "execute_result"
    }
   ],
   "source": [
    "# select the dataset \n",
    "redDat = ComBall.drop(ComBall[(ComBall[\"Grp\"]==\"Ctrl\") & (ComBall[\"MEG_Age\"] >=82.18)].index)\n",
    "# age \n",
    "datAD = redDat[redDat[\"Grp\"]==\"AD\"]\n",
    "datCtrl = redDat[(redDat[\"Grp\"]==\"Ctrl\")]\n",
    "print(scipy.stats.ttest_ind(datAD[\"MEG_Age\"], datCtrl[\"MEG_Age\"], equal_var=False))\n",
    "redDat.groupby(\"Grp\").describe()"
   ]
  },
  {
   "cell_type": "code",
   "execution_count": 10,
   "metadata": {
    "ExecuteTime": {
     "end_time": "2022-12-08T00:30:00.349452Z",
     "start_time": "2022-12-08T00:30:00.297010Z"
    }
   },
   "outputs": [
    {
     "name": "stdout",
     "output_type": "stream",
     "text": [
      "0.8781529987468449\n"
     ]
    },
    {
     "data": {
      "text/html": [
       "<div>\n",
       "<style scoped>\n",
       "    .dataframe tbody tr th:only-of-type {\n",
       "        vertical-align: middle;\n",
       "    }\n",
       "\n",
       "    .dataframe tbody tr th {\n",
       "        vertical-align: top;\n",
       "    }\n",
       "\n",
       "    .dataframe thead th {\n",
       "        text-align: right;\n",
       "    }\n",
       "</style>\n",
       "<table border=\"1\" class=\"dataframe\">\n",
       "  <thead>\n",
       "    <tr style=\"text-align: right;\">\n",
       "      <th>Gender</th>\n",
       "      <th>female</th>\n",
       "      <th>male</th>\n",
       "    </tr>\n",
       "    <tr>\n",
       "      <th>Grp</th>\n",
       "      <th></th>\n",
       "      <th></th>\n",
       "    </tr>\n",
       "  </thead>\n",
       "  <tbody>\n",
       "    <tr>\n",
       "      <th>AD</th>\n",
       "      <td>53</td>\n",
       "      <td>35</td>\n",
       "    </tr>\n",
       "    <tr>\n",
       "      <th>Ctrl</th>\n",
       "      <td>51</td>\n",
       "      <td>37</td>\n",
       "    </tr>\n",
       "  </tbody>\n",
       "</table>\n",
       "</div>"
      ],
      "text/plain": [
       "Gender  female  male\n",
       "Grp                 \n",
       "AD          53    35\n",
       "Ctrl        51    37"
      ]
     },
     "execution_count": 10,
     "metadata": {},
     "output_type": "execute_result"
    }
   ],
   "source": [
    "# Gender\n",
    "chi2, pv, _, _ = chi2_contingency(np.array(pd.crosstab(redDat[\"Grp\"], redDat[\"Gender\"])))\n",
    "print(pv)\n",
    "pd.crosstab(redDat[\"Grp\"], redDat[\"Gender\"])"
   ]
  },
  {
   "cell_type": "code",
   "execution_count": 11,
   "metadata": {
    "ExecuteTime": {
     "end_time": "2022-12-08T00:30:00.937212Z",
     "start_time": "2022-12-08T00:30:00.767621Z"
    }
   },
   "outputs": [
    {
     "data": {
      "text/plain": [
       "<matplotlib.legend.Legend at 0x7f168caf72d0>"
      ]
     },
     "execution_count": 11,
     "metadata": {},
     "output_type": "execute_result"
    },
    {
     "data": {
      "image/png": "[encoded data removed]",
      "text/plain": [
       "<Figure size 432x288 with 1 Axes>"
      ]
     },
     "metadata": {
      "needs_background": "light"
     },
     "output_type": "display_data"
    }
   ],
   "source": [
    "# plot the distribution\n",
    "plt.hist(redDat[redDat[\"Grp\"]==\"AD\"][\"MEG_Age\"], alpha=0.5, label=\"AD\")\n",
    "plt.hist(redDat[redDat[\"Grp\"]==\"Ctrl\"][\"MEG_Age\"], alpha=0.5, label=\"Ctrl\")\n",
    "plt.legend()"
   ]
  },
  {
   "cell_type": "markdown",
   "metadata": {},
   "source": [
    "### Save the baseline info"
   ]
  },
  {
   "cell_type": "code",
   "execution_count": 12,
   "metadata": {
    "ExecuteTime": {
     "end_time": "2022-12-08T00:30:01.293872Z",
     "start_time": "2022-12-08T00:30:01.281793Z"
    }
   },
   "outputs": [],
   "source": [
    "redDat.to_csv(\"./OtherFils/AllDataSelBaseline.csv\", index=False)"
   ]
  },
  {
   "cell_type": "code",
   "execution_count": 13,
   "metadata": {
    "ExecuteTime": {
     "end_time": "2022-12-08T00:30:01.638893Z",
     "start_time": "2022-12-08T00:30:01.627579Z"
    }
   },
   "outputs": [],
   "source": [
    "from scipy.io import loadmat\n",
    "RID_AD_labs = loadmat(\"./OtherFils/radid_AD.mat\")[\"radid\"].reshape(-1)\n",
    "ADlabs = [lab[0].split(\"A\")[0] for lab in RID_AD_labs] \n",
    "RID_Ctrl_labs = loadmat(\"./OtherFils/radid_control.mat\")[\"radid\"].reshape(-1)\n",
    "Ctrllabs = [lab[0].split(\"A\")[0] for lab in RID_Ctrl_labs] \n",
    "RID_Ctrl_labs_Add = loadmat(\"./OtherFils/radid_control_add.mat\")[\"radid\"].reshape(-1)\n",
    "CtrllabsAdd = [lab[0] for lab in RID_Ctrl_labs_Add] \n",
    "CtrllabsBoth = Ctrllabs + CtrllabsAdd"
   ]
  },
  {
   "cell_type": "code",
   "execution_count": 14,
   "metadata": {
    "ExecuteTime": {
     "end_time": "2022-12-08T00:30:01.974119Z",
     "start_time": "2022-12-08T00:30:01.938713Z"
    }
   },
   "outputs": [],
   "source": [
    "import pickle\n",
    "kpAD = []\n",
    "for ADlab in ADlabs:\n",
    "    kpAD.append(np.sum(redDat[\"RID\"] == ADlab))\n",
    "kpAD = np.array(kpAD)\n",
    "kpCtrl = []\n",
    "for Ctrllab in CtrllabsBoth:\n",
    "    kpCtrl.append(np.sum(redDat[\"RID\"] == Ctrllab))\n",
    "kpCtrl = np.array(kpCtrl)\n",
    "\n",
    "kpAll = np.concatenate([kpAD, kpCtrl])\n",
    "\n",
    "with open(\"./OtherFils/KpIdxsAll.pkl\", \"wb\") as sf:\n",
    "    pickle.dump([kpAD, kpCtrl, kpAll], sf)"
   ]
  },
  {
   "cell_type": "code",
   "execution_count": 15,
   "metadata": {
    "ExecuteTime": {
     "end_time": "2022-12-08T00:30:02.263471Z",
     "start_time": "2022-12-08T00:30:02.254959Z"
    }
   },
   "outputs": [],
   "source": [
    "RIDsAll = np.concatenate([ADlabs, CtrllabsBoth])\n",
    "mapDF = pd.DataFrame({\n",
    "    \"RID\":RIDsAll\n",
    "})\n",
    "mapDF = mapDF.reset_index().set_index('RID')\n",
    "ComBall['idx'] = ComBall['RID'].map(mapDF['index'])\n",
    "ComBall = ComBall.sort_values(\"idx\")\n",
    "ComBall[\"KeepIt\"] = np.array(kpAll)"
   ]
  },
  {
   "cell_type": "code",
   "execution_count": 16,
   "metadata": {
    "ExecuteTime": {
     "end_time": "2022-12-08T00:30:02.661469Z",
     "start_time": "2022-12-08T00:30:02.650291Z"
    }
   },
   "outputs": [],
   "source": [
    "ComBall.to_csv(\"./OtherFils/AllDataBaselineOrdered.csv\", index=False)"
   ]
  },
  {
   "cell_type": "markdown",
   "metadata": {},
   "source": [
    "### Add features"
   ]
  },
  {
   "cell_type": "code",
   "execution_count": 17,
   "metadata": {
    "ExecuteTime": {
     "end_time": "2022-12-08T00:30:03.421350Z",
     "start_time": "2022-12-08T00:30:03.416568Z"
    }
   },
   "outputs": [],
   "source": [
    "from pathlib import Path\n",
    "os.chdir(\"/home/huaqingj/MyResearch/TVDN-AD\")\n",
    "resDir = Path(\"./results\")\n",
    "dataDir = Path(\"./data\")"
   ]
  },
  {
   "cell_type": "code",
   "execution_count": 18,
   "metadata": {
    "ExecuteTime": {
     "end_time": "2022-12-08T00:30:03.921198Z",
     "start_time": "2022-12-08T00:30:03.913823Z"
    }
   },
   "outputs": [],
   "source": [
    "# ecpts\n",
    "fil = list(resDir.glob(\"AD_*_ecpts.pkl\"))[0]\n",
    "with open(fil, \"rb\") as f:\n",
    "    ecptssAD = pickle.load(f)\n",
    "fil = list(resDir.glob(\"Ctrl_*_ecpts.pkl\"))[0]\n",
    "with open(fil, \"rb\") as f:\n",
    "    ecptssCtrl = pickle.load(f)"
   ]
  },
  {
   "cell_type": "code",
   "execution_count": 19,
   "metadata": {
    "ExecuteTime": {
     "end_time": "2022-12-08T00:30:04.200002Z",
     "start_time": "2022-12-08T00:30:04.185740Z"
    }
   },
   "outputs": [],
   "source": [
    "# Eigvals\n",
    "fil = list(resDir.glob(\"AD_*_eigVals.pkl\"))[0]\n",
    "with open(fil, \"rb\") as f:\n",
    "    eigValsAD = pickle.load(f)\n",
    "fil = list(resDir.glob(\"Ctrl_*_eigVals.pkl\"))[0]\n",
    "with open(fil, \"rb\") as f:\n",
    "    eigValsCtrl = pickle.load(f)"
   ]
  },
  {
   "cell_type": "code",
   "execution_count": 20,
   "metadata": {
    "ExecuteTime": {
     "end_time": "2022-12-08T00:30:04.548395Z",
     "start_time": "2022-12-08T00:30:04.545587Z"
    }
   },
   "outputs": [],
   "source": [
    "ncpts = np.concatenate([[len(ix) for ix in ecptssAD],\n",
    "                        [len(ix) for ix in ecptssCtrl]])\n",
    "rks = np.concatenate([[len(ix[0]) for ix in eigValsAD],\n",
    "                        [len(ix[0]) for ix in eigValsCtrl]])"
   ]
  },
  {
   "cell_type": "code",
   "execution_count": 21,
   "metadata": {
    "ExecuteTime": {
     "end_time": "2022-12-08T00:30:04.969820Z",
     "start_time": "2022-12-08T00:30:04.964108Z"
    }
   },
   "outputs": [],
   "source": [
    "ComBall[\"ncpts\"] = ncpts\n",
    "ComBall[\"ranks\"] = rks"
   ]
  },
  {
   "cell_type": "code",
   "execution_count": 22,
   "metadata": {
    "ExecuteTime": {
     "end_time": "2022-12-08T00:30:05.366764Z",
     "start_time": "2022-12-08T00:30:05.355741Z"
    }
   },
   "outputs": [],
   "source": [
    "ComBall.to_csv(\"./results/AllDataBaselineOrdered_r_ncpt.csv\", index=False)"
   ]
  },
  {
   "cell_type": "code",
   "execution_count": null,
   "metadata": {},
   "outputs": [],
   "source": []
  }
 ],
 "metadata": {
  "kernelspec": {
   "display_name": "Python 3",
   "language": "python",
   "name": "python3"
  },
  "language_info": {
   "codemirror_mode": {
    "name": "ipython",
    "version": 3
   },
   "file_extension": ".py",
   "mimetype": "text/x-python",
   "name": "python",
   "nbconvert_exporter": "python",
   "pygments_lexer": "ipython3",
   "version": "3.7.4"
  },
  "toc": {
   "base_numbering": 1,
   "nav_menu": {},
   "number_sections": true,
   "sideBar": true,
   "skip_h1_title": false,
   "title_cell": "Table of Contents",
   "title_sidebar": "Contents",
   "toc_cell": false,
   "toc_position": {},
   "toc_section_display": true,
   "toc_window_display": true
  }
 },
 "nbformat": 4,
 "nbformat_minor": 2
}
