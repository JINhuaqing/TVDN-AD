{
 "cells": [
  {
   "cell_type": "code",
   "execution_count": 1,
   "metadata": {},
   "outputs": [],
   "source": [
    "import sys\n",
    "sys.path.append(\"/home/huaqingj/MyResearch/TVDN-AD\")"
   ]
  },
  {
   "cell_type": "code",
   "execution_count": 2,
   "metadata": {},
   "outputs": [],
   "source": [
    "from scipy.fft import fft, fftfreq\n",
    "import numpy as np\n",
    "from pyTVDN import TVDNDetect\n",
    "from pathlib import Path\n",
    "from scipy.io import loadmat, savemat\n",
    "from easydict import EasyDict as edict\n",
    "from collections import defaultdict as ddict\n",
    "import matplotlib\n",
    "import matplotlib.pyplot as plt\n",
    "import os\n",
    "from scipy import signal\n",
    "from tqdm import tqdm\n",
    "import pickle\n",
    "import mat73\n",
    "import scipy\n",
    "%matplotlib inline"
   ]
  },
  {
   "cell_type": "markdown",
   "metadata": {},
   "source": [
    "### Load data"
   ]
  },
  {
   "cell_type": "code",
   "execution_count": 3,
   "metadata": {},
   "outputs": [],
   "source": [
    "os.chdir(\"/home/huaqingj/MyResearch/TVDN-AD\")\n",
    "resDir = Path(\"./results\")\n",
    "dataDir = Path(\"./data\")"
   ]
  },
  {
   "cell_type": "code",
   "execution_count": 4,
   "metadata": {},
   "outputs": [],
   "source": [
    "# ecpts\n",
    "fil = list(resDir.glob(\"AD_*_ecpts.pkl\"))[0]\n",
    "with open(fil, \"rb\") as f:\n",
    "    ecptssAD = pickle.load(f)\n",
    "fil = list(resDir.glob(\"Ctrl_*_ecpts.pkl\"))[0]\n",
    "with open(fil, \"rb\") as f:\n",
    "    ecptssCtrl = pickle.load(f)"
   ]
  },
  {
   "cell_type": "code",
   "execution_count": 5,
   "metadata": {},
   "outputs": [],
   "source": [
    "ecptssADFull = [np.concatenate([[0], ecpts, [7200]])*5 for ecpts in ecptssAD]\n",
    "ecptssCtrlFull = [np.concatenate([[0], ecpts, [7200]])*5 for ecpts in ecptssCtrl]"
   ]
  },
  {
   "cell_type": "code",
   "execution_count": 6,
   "metadata": {},
   "outputs": [],
   "source": [
    "filAD = \"87ADs_before_filter1000.mat\" # 0-86\n",
    "filCtrl = \"70Ctrls_before_filter1000.mat\" #0-69\n",
    "filADadd = \"DK_timecourse.mat\" # 87\n",
    "filCtrladd = \"timecourse_ucsfCONT_group.mat\" # 70-91"
   ]
  },
  {
   "cell_type": "code",
   "execution_count": 7,
   "metadata": {},
   "outputs": [],
   "source": [
    "ADdatasets = loadmat(dataDir/filAD)[\"dk10\"]\n",
    "Ctrldatasets = loadmat(dataDir/filCtrl)[\"dk10\"]\n",
    "ADdatAdd = loadmat(dataDir/filADadd)[\"DK_timecourse\"]\n",
    "CtrldatAdd = mat73.loadmat(dataDir/filCtrladd)[\"dk10\"]"
   ]
  },
  {
   "cell_type": "code",
   "execution_count": 107,
   "metadata": {},
   "outputs": [],
   "source": [
    "from scipy.io import savemat\n",
    "saveFil = mat73.loadmat(dataDir/filCtrladd)\n",
    "savemat(\"timecourse_ucsfCONT_group1.mat\", saveFil)"
   ]
  },
  {
   "cell_type": "code",
   "execution_count": 8,
   "metadata": {},
   "outputs": [],
   "source": [
    "ADdatAdd = ADdatAdd.reshape(1, 68, 36000)\n",
    "DatAll = np.concatenate([ADdatasets, ADdatAdd, Ctrldatasets, CtrldatAdd])"
   ]
  },
  {
   "cell_type": "markdown",
   "metadata": {},
   "source": [
    "### FFT "
   ]
  },
  {
   "cell_type": "code",
   "execution_count": 9,
   "metadata": {},
   "outputs": [],
   "source": [
    "from scipy.interpolate import interp1d"
   ]
  },
  {
   "cell_type": "code",
   "execution_count": 10,
   "metadata": {},
   "outputs": [],
   "source": [
    "N = DatAll.shape[-1] # num of pts in total \n",
    "fs = 600 # sampling freq\n",
    "bandsNames = [\"Delta-Theta\", \"Alpha\", \"Beta\", \"All Bands\"]\n",
    "bands = [[2, 7], [8, 12], [13, 35], [2, 35]]\n",
    "freqs = np.arange(N)*fs/N # the freq for each power\n",
    "winsize = fs * 5\n",
    "winstep = fs * 3\n",
    "#cFreqs = np.arange(winsize)*fs/winsize"
   ]
  },
  {
   "cell_type": "code",
   "execution_count": 11,
   "metadata": {},
   "outputs": [],
   "source": [
    "def FFTinterp(curDat, preFreqs):\n",
    "    cN = curDat.shape[-1]\n",
    "    cFreqs = np.arange(cN)*fs/cN\n",
    "    fftRes = fft(curDat)\n",
    "    powers = np.abs(fftRes/winsize)**2 + 1e-30\n",
    "    powers = 10 * np.log10(powers) # to dB\n",
    "    interF = interp1d(cFreqs, powers)\n",
    "    retPowers = interF(preFreqs)\n",
    "    return retPowers"
   ]
  },
  {
   "cell_type": "code",
   "execution_count": 12,
   "metadata": {},
   "outputs": [],
   "source": [
    "def TVDNFFTinterp(curDat, ecpts, preFreqs):\n",
    "    powerss = []\n",
    "    for ix in range(len(ecpts)-1):\n",
    "        curLow, curUp = int(ecpts[ix]), int(ecpts[ix+1])\n",
    "        redCurDat = curDat[:, curLow:curUp]\n",
    "        retPowers = FFTinterp(redCurDat, preFreqs)\n",
    "        powerss.append(retPowers)\n",
    "    mPowers = np.mean(np.array(powerss), axis=0)\n",
    "    return mPowers, preFreqs"
   ]
  },
  {
   "cell_type": "code",
   "execution_count": 13,
   "metadata": {},
   "outputs": [],
   "source": [
    "def winFFTinterp(curDat, winsize, winstep, preFreqs):\n",
    "    curLow = 0\n",
    "    curUp = curLow + winsize\n",
    "    powerss = []\n",
    "    while (curUp<(N-1)):\n",
    "        redCurDat = curDat[:, curLow:curUp]\n",
    "        retPowers = FFTinterp(redCurDat, preFreqs)\n",
    "        powerss.append(retPowers)\n",
    "        curLow, curUp = curLow+winstep, curUp+winstep\n",
    "    mPowers = np.mean(np.array(powerss), axis=0)\n",
    "    return mPowers, preFreqs"
   ]
  },
  {
   "cell_type": "code",
   "execution_count": 14,
   "metadata": {},
   "outputs": [],
   "source": [
    "def winFFT(curDat, winsize, winstep):\n",
    "    curLow = 0\n",
    "    curUp = curLow + winsize\n",
    "    cFreqs = np.arange(winsize)*fs/winsize\n",
    "    powerss = []\n",
    "    while (curUp<(N-1)):\n",
    "        redCurDat = curDat[:, curLow:curUp]\n",
    "        fftRes = fft(redCurDat)\n",
    "        powers = np.abs(fftRes/winsize)**2 + 1e-30\n",
    "        powers = 10 * np.log10(powers) # to dB\n",
    "        powerss.append(powers)\n",
    "        curLow, curUp = curLow+winstep, curUp+winstep\n",
    "    mPowers = np.mean(np.array(powerss), axis=0)\n",
    "    return mPowers, cFreqs"
   ]
  },
  {
   "cell_type": "code",
   "execution_count": 73,
   "metadata": {},
   "outputs": [
    {
     "name": "stderr",
     "output_type": "stream",
     "text": [
      "100%|██████████| 180/180 [00:18<00:00,  9.55it/s]\n"
     ]
    }
   ],
   "source": [
    "# TVDN FFT (interpolation)\n",
    "preFreqs = np.linspace(0, 100, 1000)\n",
    "resPower = ddict(list)\n",
    "for ix in tqdm(range(DatAll.shape[0])):\n",
    "    curDat = DatAll[ix, :, :]\n",
    "    if ix >= len(ecptssADFull):\n",
    "        ecpts = ecptssCtrlFull[ix-len(ecptssADFull)]\n",
    "    else:\n",
    "        ecpts = ecptssADFull[ix]\n",
    "    powers, cFreqs = TVDNFFTinterp(curDat, ecpts, preFreqs)\n",
    "    kpIdxFn = lambda x: np.bitwise_and(cFreqs >=x[0], cFreqs<=x[1])\n",
    "    for band, bandName in zip(bands, bandsNames):\n",
    "        curPower = powers[:, kpIdxFn(band)]\n",
    "        resPower[bandName].append(curPower)"
   ]
  },
  {
   "cell_type": "code",
   "execution_count": 89,
   "metadata": {},
   "outputs": [
    {
     "name": "stderr",
     "output_type": "stream",
     "text": [
      "100%|██████████| 180/180 [00:18<00:00,  9.88it/s]\n"
     ]
    }
   ],
   "source": [
    "# slide-window FFT\n",
    "resPower = ddict(list)\n",
    "for ix in tqdm(range(DatAll.shape[0])):\n",
    "    curDat = DatAll[ix, :, :]\n",
    "    powers, cFreqs = winFFT(curDat, winsize, winstep)\n",
    "    kpIdxFn = lambda x: np.bitwise_and(cFreqs >=x[0], cFreqs<=x[1])\n",
    "    for band, bandName in zip(bands, bandsNames):\n",
    "        curPower = powers[:, kpIdxFn(band)]\n",
    "        resPower[bandName].append(curPower)"
   ]
  },
  {
   "cell_type": "code",
   "execution_count": null,
   "metadata": {},
   "outputs": [],
   "source": []
  },
  {
   "cell_type": "markdown",
   "metadata": {},
   "source": [
    "### Analysis"
   ]
  },
  {
   "cell_type": "code",
   "execution_count": 90,
   "metadata": {},
   "outputs": [],
   "source": [
    "import pandas as pd\n",
    "import seaborn as sns"
   ]
  },
  {
   "cell_type": "code",
   "execution_count": 91,
   "metadata": {},
   "outputs": [],
   "source": [
    "allDataOrd = pd.read_csv(\"./OtherFils/AllDataBaselineOrdered.csv\")\n",
    "KpIt = np.array(allDataOrd[\"KeepIt\"])\n",
    "Grp = np.array(allDataOrd[\"Grp\"])"
   ]
  },
  {
   "cell_type": "code",
   "execution_count": 92,
   "metadata": {},
   "outputs": [],
   "source": [
    "meanPowerAll = ddict(list)\n",
    "kpIdxFnDF = lambda x: np.bitwise_and(KpIt==1, Grp==x)\n",
    "for bandName in bandsNames:\n",
    "    meanPower = np.array([np.mean(i, axis=-1) for i in resPower[bandName]])\n",
    "    \n",
    "    curKpIdx = kpIdxFnDF(\"AD\")\n",
    "    meanPowerAll[\"Value\"] = meanPowerAll[\"Value\"] + list(meanPower[curKpIdx, :].reshape(-1))\n",
    "    meanPowerAll[\"Grp\"] = meanPowerAll[\"Grp\"] + [\"AD\"] * (curKpIdx.sum()*68)\n",
    "    meanPowerAll[\"Band\"] = meanPowerAll[\"Band\"] + [bandName] *(curKpIdx.sum()*68)\n",
    "    \n",
    "    \n",
    "    curKpIdx = kpIdxFnDF(\"Ctrl\")\n",
    "    meanPowerAll[\"Value\"] = meanPowerAll[\"Value\"] + list(meanPower[curKpIdx, :].reshape(-1))\n",
    "    meanPowerAll[\"Grp\"] = meanPowerAll[\"Grp\"] + [\"Ctrl\"] * (curKpIdx.sum()*68)\n",
    "    meanPowerAll[\"Band\"] = meanPowerAll[\"Band\"] + [bandName] * (curKpIdx.sum()*68)"
   ]
  },
  {
   "cell_type": "code",
   "execution_count": 93,
   "metadata": {},
   "outputs": [],
   "source": [
    "meanPowerDF = pd.DataFrame(meanPowerAll)"
   ]
  },
  {
   "cell_type": "code",
   "execution_count": 94,
   "metadata": {},
   "outputs": [
    {
     "data": {
      "text/plain": [
       "<AxesSubplot:xlabel='Band', ylabel='Value'>"
      ]
     },
     "execution_count": 94,
     "metadata": {},
     "output_type": "execute_result"
    },
    {
     "data": {
      "image/png": "[encoded data removed]",
      "text/plain": [
       "<Figure size 432x288 with 1 Axes>"
      ]
     },
     "metadata": {
      "needs_background": "light"
     },
     "output_type": "display_data"
    }
   ],
   "source": [
    "sns.boxplot(y=\"Value\", x=\"Band\", hue=\"Grp\", data=meanPowerDF, showfliers = False, orient=\"v\")"
   ]
  },
  {
   "cell_type": "code",
   "execution_count": 95,
   "metadata": {},
   "outputs": [],
   "source": [
    "ADm = np.mean(np.array(resPower[\"All Bands\"])[kpIdxFnDF(\"AD\"), :, :].reshape(88*68, -1), axis=0)\n",
    "ADCI = np.quantile(np.array(resPower[\"All Bands\"])[kpIdxFnDF(\"AD\"), :, :].reshape(88*68, -1), [0.025, 0.975], axis=0)\n",
    "Ctrlm = np.mean(np.array(resPower[\"All Bands\"])[kpIdxFnDF(\"Ctrl\"), :, :].reshape(88*68, -1), axis=0)\n",
    "CtrlCI = np.quantile(np.array(resPower[\"All Bands\"])[kpIdxFnDF(\"Ctrl\"), :, :].reshape(88*68, -1), [0.025, 0.975], axis=0)"
   ]
  },
  {
   "cell_type": "code",
   "execution_count": 97,
   "metadata": {},
   "outputs": [
    {
     "data": {
      "text/plain": [
       "<matplotlib.legend.Legend at 0x7fac9dd3a410>"
      ]
     },
     "execution_count": 97,
     "metadata": {},
     "output_type": "execute_result"
    },
    {
     "data": {
      "image/png": "[encoded data removed]",
      "text/plain": [
       "<Figure size 432x288 with 1 Axes>"
      ]
     },
     "metadata": {
      "needs_background": "light"
     },
     "output_type": "display_data"
    }
   ],
   "source": [
    "cFreqs = np.arange(winsize)*fs/winsize\n",
    "#cFreqs = preFreqs\n",
    "kpIdxFn = lambda x: np.bitwise_and(cFreqs >=x[0], cFreqs<=x[1])\n",
    "plt.plot(cFreqs[kpIdxFn([2, 35])], ADm, \"-\", label=\"AD\")\n",
    "plt.plot(cFreqs[kpIdxFn([2, 35])], Ctrlm, \"-\", label=\"Ctrl\")\n",
    "plt.legend()"
   ]
  },
  {
   "cell_type": "code",
   "execution_count": 98,
   "metadata": {},
   "outputs": [
    {
     "name": "stdout",
     "output_type": "stream",
     "text": [
      "The band is Alpha, and the t-test has a pvalue of 1.286E-29.\n"
     ]
    }
   ],
   "source": [
    "curBand = \"Alpha\"\n",
    "curADs = meanPowerDF[(meanPowerDF[\"Grp\"] == \"AD\") & (meanPowerDF[\"Band\"] == curBand)][\"Value\"]\n",
    "curCtrls = meanPowerDF[(meanPowerDF[\"Grp\"] == \"Ctrl\") & (meanPowerDF[\"Band\"] == curBand)][\"Value\"]\n",
    "pv = scipy.stats.ttest_ind(curADs, curCtrls, equal_var=False)\n",
    "print(f\"The band is {curBand}, and the t-test has a pvalue of {pv.pvalue:.3E}.\")"
   ]
  },
  {
   "cell_type": "code",
   "execution_count": 99,
   "metadata": {},
   "outputs": [
    {
     "name": "stdout",
     "output_type": "stream",
     "text": [
      "The band is Beta, and the t-test has a pvalue of 5.136E-28.\n"
     ]
    }
   ],
   "source": [
    "curBand = \"Beta\"\n",
    "curADs = meanPowerDF[(meanPowerDF[\"Grp\"] == \"AD\") & (meanPowerDF[\"Band\"] == curBand)][\"Value\"]\n",
    "curCtrls = meanPowerDF[(meanPowerDF[\"Grp\"] == \"Ctrl\") & (meanPowerDF[\"Band\"] == curBand)][\"Value\"]\n",
    "pv = scipy.stats.ttest_ind(curADs, curCtrls, equal_var=False)\n",
    "print(f\"The band is {curBand}, and the t-test has a pvalue of {pv.pvalue:.3E}.\")"
   ]
  },
  {
   "cell_type": "code",
   "execution_count": 100,
   "metadata": {},
   "outputs": [
    {
     "name": "stdout",
     "output_type": "stream",
     "text": [
      "The band is Alpha, and the t-test has a pvalue of 5.567E-04.\n"
     ]
    }
   ],
   "source": [
    "curBand = \"Alpha\"\n",
    "allmPs = np.array([np.mean(i, axis=-1).max() for i in resPower[curBand]])\n",
    "curADs = allmPs[kpIdxFnDF(\"AD\")]\n",
    "curCtrls = allmPs[kpIdxFnDF(\"Ctrl\")]\n",
    "pv = scipy.stats.ttest_ind(curADs, curCtrls, equal_var=False)\n",
    "print(f\"The band is {curBand}, and the t-test has a pvalue of {pv.pvalue:.3E}.\")"
   ]
  },
  {
   "cell_type": "code",
   "execution_count": 101,
   "metadata": {},
   "outputs": [
    {
     "name": "stdout",
     "output_type": "stream",
     "text": [
      "The band is Beta, and the t-test has a pvalue of 2.182E-03.\n"
     ]
    }
   ],
   "source": [
    "curBand = \"Beta\"\n",
    "allmPs = np.array([np.mean(i, axis=-1).max() for i in resPower[curBand]])\n",
    "curADs = allmPs[kpIdxFnDF(\"AD\")]\n",
    "curCtrls = allmPs[kpIdxFnDF(\"Ctrl\")]\n",
    "pv = scipy.stats.ttest_ind(curADs, curCtrls, equal_var=False)\n",
    "print(f\"The band is {curBand}, and the t-test has a pvalue of {pv.pvalue:.3E}.\")"
   ]
  },
  {
   "cell_type": "markdown",
   "metadata": {},
   "source": [
    "### Save results"
   ]
  },
  {
   "cell_type": "code",
   "execution_count": 102,
   "metadata": {},
   "outputs": [],
   "source": [
    "import pickle"
   ]
  },
  {
   "cell_type": "code",
   "execution_count": 104,
   "metadata": {},
   "outputs": [],
   "source": [
    "curBand = \"Alpha\"\n",
    "allmPs = np.array([np.mean(i, axis=-1).max() for i in resPower[curBand]])\n",
    "curADs = allmPs[Grp==\"AD\"]\n",
    "curCtrls = allmPs[Grp==\"Ctrl\"]\n",
    "with open(f\"slideWin_Power_{curBand}.pkl\", \"wb\") as f:\n",
    "#with open(f\"TVDN_Power_{curBand}.pkl\", \"wb\") as f:\n",
    "    pickle.dump([curADs, curCtrls], f)"
   ]
  },
  {
   "cell_type": "markdown",
   "metadata": {},
   "source": [
    "### Results with `pmtm` "
   ]
  },
  {
   "cell_type": "code",
   "execution_count": 129,
   "metadata": {},
   "outputs": [],
   "source": [
    "PSDp = list(resDir.glob(\"87*PSD.mat\"))[0]\n",
    "AD1 = loadmat(PSDp)[\"fmegall\"]\n",
    "\n",
    "PSDp = list(resDir.glob(\"DK*PSD.mat\"))[0]\n",
    "AD2 = loadmat(PSDp)['FMEGdata']\n",
    "\n",
    "PSDp = list(resDir.glob(\"70*PSD.mat\"))[0]\n",
    "Ctrl1 = loadmat(PSDp)[\"fmegall\"]\n",
    "\n",
    "PSDp = list(resDir.glob(\"timecourse*PSD.mat\"))[0]\n",
    "Ctrl2 = loadmat(PSDp)[\"fmegall\"]"
   ]
  },
  {
   "cell_type": "code",
   "execution_count": 257,
   "metadata": {},
   "outputs": [],
   "source": [
    "KpIt1 = np.concatenate([np.ones(87), [0], np.ones(70), np.zeros(22)])\n",
    "kpIdxFnDF1 = lambda x: np.bitwise_and(KpIt1==1, Grp==x)"
   ]
  },
  {
   "cell_type": "code",
   "execution_count": 258,
   "metadata": {},
   "outputs": [],
   "source": [
    "PSDsall = np.concatenate([AD1, AD2.reshape(1, 68, 40), Ctrl1, Ctrl2])"
   ]
  },
  {
   "cell_type": "code",
   "execution_count": 259,
   "metadata": {},
   "outputs": [],
   "source": [
    "ADPSD = 10*np.log10(PSDsall[kpIdxFnDF1(\"AD\"), :, :].reshape(-1, 40))\n",
    "CtrlPSD = 10*np.log10(PSDsall[kpIdxFnDF1(\"Ctrl\"), :, :].reshape(-1, 40))\n",
    "ADPSD = PSDsall[kpIdxFnDF1(\"AD\"), :, :].reshape(-1, 40)\n",
    "CtrlPSD = PSDsall[kpIdxFnDF1(\"Ctrl\"), :, :].reshape(-1, 40)"
   ]
  },
  {
   "cell_type": "code",
   "execution_count": 260,
   "metadata": {},
   "outputs": [],
   "source": [
    "ADm = ADPSD.mean(axis=0)\n",
    "ADsd = ADPSD.std(axis=0)\n",
    "ADdlt = 1.96*ADsd/np.sqrt(ADPSD.shape[0])\n",
    "Ctrlm = CtrlPSD.mean(axis=0)\n",
    "Ctrlsd = CtrlPSD.std(axis=0)\n",
    "Ctrldlt = 1.96*Ctrlsd/np.sqrt(CtrlPSD.shape[0])"
   ]
  },
  {
   "cell_type": "code",
   "execution_count": 261,
   "metadata": {},
   "outputs": [
    {
     "data": {
      "text/plain": [
       "<matplotlib.legend.Legend at 0x7fac051bdb10>"
      ]
     },
     "execution_count": 261,
     "metadata": {},
     "output_type": "execute_result"
    },
    {
     "data": {
      "image/png": "[encoded data removed]",
      "text/plain": [
       "<Figure size 432x288 with 1 Axes>"
      ]
     },
     "metadata": {
      "needs_background": "light"
     },
     "output_type": "display_data"
    }
   ],
   "source": [
    "Freqs = np.arange(1, 41)\n",
    "plt.plot(Freqs, ADm, \"-\", label=\"AD\")\n",
    "plt.fill_between(Freqs, ADm-ADdlt, ADm+ADdlt, alpha=0.3)\n",
    "plt.plot(Freqs, Ctrlm, \"-\", label=\"Ctrl\")\n",
    "plt.fill_between(Freqs, Ctrlm-Ctrldlt, Ctrlm+Ctrldlt, alpha=0.3)\n",
    "plt.xlim([2, 35])\n",
    "#plt.ylim([20, 29])\n",
    "plt.legend()"
   ]
  },
  {
   "cell_type": "code",
   "execution_count": 268,
   "metadata": {},
   "outputs": [
    {
     "name": "stdout",
     "output_type": "stream",
     "text": [
      "0.08137927632395965\n"
     ]
    }
   ],
   "source": [
    "curBand = [2, 7]\n",
    "#allPSD = (PSDsall[:, :, np.bitwise_and(Freqs>=curBand[0], Freqs<=curBand[1])]).mean(axis=-1).mean(axis=-1)\n",
    "allPSD = (10*np.log10(PSDsall[:, :, np.bitwise_and(Freqs>=curBand[0], Freqs<=curBand[1])])).mean(axis=1).mean(axis=-1)\n",
    "pv = scipy.stats.ttest_ind(allPSD[kpIdxFnDF1(\"AD\")], allPSD[kpIdxFnDF1(\"Ctrl\")])\n",
    "print(pv.pvalue)"
   ]
  },
  {
   "cell_type": "code",
   "execution_count": 267,
   "metadata": {},
   "outputs": [
    {
     "data": {
      "text/plain": [
       "(180, 68, 6)"
      ]
     },
     "execution_count": 267,
     "metadata": {},
     "output_type": "execute_result"
    }
   ],
   "source": [
    "PSDsall[:, :, np.bitwise_and(Freqs>=curBand[0], Freqs<=curBand[1])].shape"
   ]
  },
  {
   "cell_type": "code",
   "execution_count": 219,
   "metadata": {},
   "outputs": [
    {
     "name": "stdout",
     "output_type": "stream",
     "text": [
      "0.7985667863906852\n"
     ]
    }
   ],
   "source": [
    "curBand = [13, 35]\n",
    "allPSD = (10*np.log10(PSDsall[:, :, np.bitwise_and(Freqs>=curBand[0], Freqs<=curBand[1])])).mean(axis=-1).mean(axis=-1)\n",
    "pv = scipy.stats.ttest_ind(allPSD[kpIdxFnDF1(\"AD\")], allPSD[kpIdxFnDF1(\"Ctrl\")])\n",
    "print(pv.pvalue)\n",
    "#with open(f\"pmtm_Power_Beta.pkl\", \"wb\") as f:\n",
    "#    pickle.dump([allPSD[Grp==\"AD\"], allPSD[Grp==\"Ctrl\"]], f)"
   ]
  },
  {
   "cell_type": "code",
   "execution_count": 245,
   "metadata": {},
   "outputs": [
    {
     "name": "stdout",
     "output_type": "stream",
     "text": [
      "0.09305911456198955\n"
     ]
    },
    {
     "data": {
      "image/png": "[encoded data removed]",
      "text/plain": [
       "<Figure size 432x288 with 1 Axes>"
      ]
     },
     "metadata": {
      "needs_background": "light"
     },
     "output_type": "display_data"
    }
   ],
   "source": [
    "curBand = [2, 4]\n",
    "allPSD = (20*np.log10(PSDsall[:, :, np.bitwise_and(Freqs>=curBand[0], Freqs<=curBand[1])])).mean(axis=-1).mean(axis=-1)\n",
    "pv = scipy.stats.ttest_ind(allPSD[kpIdxFnDF1(\"AD\")], allPSD[kpIdxFnDF1(\"Ctrl\")], equal_var=False)\n",
    "print(pv.pvalue)\n",
    "#with open(f\"pmtm_Power_delthe.pkl\", \"wb\") as f:\n",
    "#    pickle.dump([allPSD[Grp==\"AD\"], allPSD[Grp==\"Ctrl\"]], f)\n",
    "_ = plt.boxplot([allPSD[kpIdxFnDF1(\"AD\")], allPSD[kpIdxFnDF1(\"Ctrl\")]], showfliers=False)"
   ]
  },
  {
   "cell_type": "code",
   "execution_count": null,
   "metadata": {},
   "outputs": [],
   "source": []
  },
  {
   "cell_type": "code",
   "execution_count": 196,
   "metadata": {},
   "outputs": [
    {
     "data": {
      "text/plain": [
       "0.8816133867735987"
      ]
     },
     "execution_count": 196,
     "metadata": {},
     "output_type": "execute_result"
    }
   ],
   "source": [
    "curBand = [8, 12]\n",
    "allPSD = (10*np.log10(PSDsall[:, :, np.bitwise_and(Freqs>=curBand[0], Freqs<=curBand[1])])).mean(axis=-1)\n",
    "pv = scipy.stats.ttest_ind(allPSD[kpIdxFnDF(\"AD\"), :].reshape(-1), allPSD[kpIdxFnDF(\"Ctrl\"), :].reshape(-1))\n",
    "pv.pvalue"
   ]
  },
  {
   "cell_type": "code",
   "execution_count": 195,
   "metadata": {},
   "outputs": [
    {
     "data": {
      "text/plain": [
       "1.0687129863263336e-05"
      ]
     },
     "execution_count": 195,
     "metadata": {},
     "output_type": "execute_result"
    }
   ],
   "source": [
    "curBand = [13, 35]\n",
    "allPSD = (10*np.log10(PSDsall[:, :, np.bitwise_and(Freqs>=curBand[0], Freqs<=curBand[1])])).mean(axis=-1)\n",
    "pv = scipy.stats.ttest_ind(allPSD[kpIdxFnDF(\"AD\"), :].reshape(-1), allPSD[kpIdxFnDF(\"Ctrl\"), :].reshape(-1))\n",
    "pv.pvalue"
   ]
  },
  {
   "cell_type": "code",
   "execution_count": 231,
   "metadata": {},
   "outputs": [
    {
     "data": {
      "text/plain": [
       "1.446294901958764e-39"
      ]
     },
     "execution_count": 231,
     "metadata": {},
     "output_type": "execute_result"
    }
   ],
   "source": [
    "curBand = [2, 7]\n",
    "allPSD = (10*np.log10(PSDsall[:, :, np.bitwise_and(Freqs>=curBand[0], Freqs<=curBand[1])])).mean(axis=-1)\n",
    "pv = scipy.stats.ttest_ind(allPSD[kpIdxFnDF1(\"AD\"), :].reshape(-1), allPSD[kpIdxFnDF1(\"Ctrl\"), :].reshape(-1))\n",
    "pv.pvalue"
   ]
  },
  {
   "cell_type": "code",
   "execution_count": 192,
   "metadata": {},
   "outputs": [
    {
     "data": {
      "text/plain": [
       "Ttest_indResult(statistic=0.020339355382433793, pvalue=0.983795965909833)"
      ]
     },
     "execution_count": 192,
     "metadata": {},
     "output_type": "execute_result"
    }
   ],
   "source": []
  },
  {
   "cell_type": "code",
   "execution_count": null,
   "metadata": {},
   "outputs": [],
   "source": []
  }
 ],
 "metadata": {
  "kernelspec": {
   "display_name": "Python 3",
   "language": "python",
   "name": "python3"
  },
  "language_info": {
   "codemirror_mode": {
    "name": "ipython",
    "version": 3
   },
   "file_extension": ".py",
   "mimetype": "text/x-python",
   "name": "python",
   "nbconvert_exporter": "python",
   "pygments_lexer": "ipython3",
   "version": "3.7.4"
  },
  "toc": {
   "base_numbering": 1,
   "nav_menu": {},
   "number_sections": true,
   "sideBar": true,
   "skip_h1_title": false,
   "title_cell": "Table of Contents",
   "title_sidebar": "Contents",
   "toc_cell": false,
   "toc_position": {},
   "toc_section_display": true,
   "toc_window_display": true
  }
 },
 "nbformat": 4,
 "nbformat_minor": 2
}
