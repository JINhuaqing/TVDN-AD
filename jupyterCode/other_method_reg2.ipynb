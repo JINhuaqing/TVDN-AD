{
 "cells": [
  {
   "cell_type": "markdown",
   "metadata": {},
   "source": [
    "This file contains the code for ND, DMD, TVDMD including\n",
    "\n",
    "- regression:  double reg, first for selecting feaures and second for AUC and prediction"
   ]
  },
  {
   "cell_type": "code",
   "execution_count": 50,
   "metadata": {
    "ExecuteTime": {
     "end_time": "2022-12-11T21:54:28.286209Z",
     "start_time": "2022-12-11T21:54:28.284096Z"
    }
   },
   "outputs": [],
   "source": [
    "import sys\n",
    "sys.path.append(\"/home/huaqingj/MyResearch/TVDN-AD/\")"
   ]
  },
  {
   "cell_type": "code",
   "execution_count": 51,
   "metadata": {
    "ExecuteTime": {
     "end_time": "2022-12-11T21:54:29.467183Z",
     "start_time": "2022-12-11T21:54:29.440151Z"
    }
   },
   "outputs": [],
   "source": [
    "import importlib\n",
    "from pyTVDN import TVDNDetect\n",
    "\n",
    "import pyTVDN.utils\n",
    "importlib.reload(pyTVDN.utils)\n",
    "from pyTVDN.utils import load_pkl, save_pkl\n",
    "\n",
    "from sklearn.cluster import KMeans\n",
    "from pathlib import Path\n",
    "from scipy.io import loadmat\n",
    "import numpy as np\n",
    "from easydict import EasyDict as edict\n",
    "import matplotlib.pyplot as plt\n",
    "import os\n",
    "from scipy import signal\n",
    "from scipy.stats import fisher_exact, norm\n",
    "import pickle\n",
    "import seaborn as sns\n",
    "#from tqdm.autonotebook import tqdm\n",
    "from tqdm import tqdm\n",
    "import numbers\n",
    "import pandas as pd\n",
    "%matplotlib inline"
   ]
  },
  {
   "cell_type": "code",
   "execution_count": 52,
   "metadata": {
    "ExecuteTime": {
     "end_time": "2022-12-11T21:54:30.724598Z",
     "start_time": "2022-12-11T21:54:30.719574Z"
    }
   },
   "outputs": [],
   "source": [
    "from sklearn.linear_model import LogisticRegression\n",
    "from sklearn.model_selection import LeaveOneOut\n",
    "from sklearn.metrics import roc_auc_score, roc_curve\n",
    "\n",
    "import warnings\n",
    "warnings.filterwarnings('ignore')"
   ]
  },
  {
   "cell_type": "markdown",
   "metadata": {},
   "source": [
    "### Load data"
   ]
  },
  {
   "cell_type": "code",
   "execution_count": 53,
   "metadata": {
    "ExecuteTime": {
     "end_time": "2022-12-11T21:54:31.686399Z",
     "start_time": "2022-12-11T21:54:31.681639Z"
    }
   },
   "outputs": [],
   "source": [
    "os.chdir(\"/home/huaqingj/MyResearch/TVDN-AD\")\n",
    "resDir = Path(\"./results\")\n",
    "dataDir = Path(\"./data\")"
   ]
  },
  {
   "cell_type": "code",
   "execution_count": 54,
   "metadata": {
    "ExecuteTime": {
     "end_time": "2022-12-11T21:54:32.978640Z",
     "start_time": "2022-12-11T21:54:32.972525Z"
    }
   },
   "outputs": [],
   "source": [
    "def wUFn(Amat):\n",
    "    eigVals, eigVecs = np.linalg.eig(Amat)\n",
    "    r = np.sum(np.cumsum(np.abs(eigVals))/np.sum(np.abs(eigVals)) <= 0.8) + 1\n",
    "    if (eigVals[r-1].imag + eigVals[r].imag ) == 0:\n",
    "        r = r + 1\n",
    "    wU = np.abs(np.matmul(eigVecs[:, :r], eigVals[:r]))\n",
    "    return wU, r, eigVals[:r]"
   ]
  },
  {
   "cell_type": "code",
   "execution_count": 55,
   "metadata": {
    "ExecuteTime": {
     "end_time": "2022-12-11T21:54:33.351883Z",
     "start_time": "2022-12-11T21:54:33.335959Z"
    }
   },
   "outputs": [],
   "source": [
    "def minmax(x):\n",
    "    num = x - np.min(x)\n",
    "    den = np.max(x) - np.min(x)\n",
    "    return num/den\n",
    "\n",
    "def U2BrainVec(wU):\n",
    "    emVec = np.zeros_like(DKtmplate, dtype=np.float64)\n",
    "    for idx in range(1, 69):\n",
    "        emVec[DKtmplate==idx] = wU[idx-1]\n",
    "    return emVec\n",
    "\n",
    "def reorderU(wU):\n",
    "    wUreorder = np.zeros_like(wU, dtype=np.float64)\n",
    "    wUreorder[0::2] = wU[:34]\n",
    "    wUreorder[1::2] = wU[34:]\n",
    "    return wUreorder"
   ]
  },
  {
   "cell_type": "code",
   "execution_count": 56,
   "metadata": {
    "ExecuteTime": {
     "end_time": "2022-12-11T21:54:33.690630Z",
     "start_time": "2022-12-11T21:54:33.683129Z"
    }
   },
   "outputs": [],
   "source": [
    "def TuningCFn(inpX, inpY, Cs=[0.1, 0.2, 0.4, 0.8, 1, 1.6, 3.2, 6.4, 12.8, 25.6], penalty=\"l2\"):\n",
    "    aucCs = []\n",
    "    for C in Cs:\n",
    "        eProbs = []\n",
    "        loo = LeaveOneOut()\n",
    "        for trIdxs, testIdxs in loo.split(inpX):\n",
    "            clf = LogisticRegression(penalty=penalty, random_state=0, C=C)\n",
    "            clf.fit(inpX[trIdxs, :], inpY[trIdxs])\n",
    "            eProbs.append(clf.predict_proba(inpX[testIdxs, :]))\n",
    "        eProbs = np.array(eProbs).squeeze()\n",
    "        auc = roc_auc_score(inpY, eProbs[:, 1])\n",
    "        fpr, tpr, thresholds = roc_curve(inpY, eProbs[:, 1], pos_label=1)\n",
    "        aucCs.append(auc)\n",
    "            \n",
    "    optC = Cs[np.argmax(aucCs)]\n",
    "    res = edict()\n",
    "    res[\"optC\"] = optC\n",
    "    res[\"Cs\"] = Cs\n",
    "    res[\"aucCs\"] = aucCs\n",
    "    return res"
   ]
  },
  {
   "cell_type": "code",
   "execution_count": 57,
   "metadata": {
    "ExecuteTime": {
     "end_time": "2022-12-11T21:54:34.870465Z",
     "start_time": "2022-12-11T21:54:34.863901Z"
    }
   },
   "outputs": [],
   "source": [
    "def rSelFn(Amat):\n",
    "    eigVals, eigVecs = np.linalg.eig(Amat)\n",
    "    rSel = np.where(np.cumsum(np.abs(eigVals))/np.sum(np.abs(eigVals)) >0.8)[0][0] + 1\n",
    "    # if breaking conjugate eigval pair, add r with 1\n",
    "    if (eigVals[rSel-1].imag + eigVals[rSel].imag) == 0:\n",
    "        rSel = rSel + 1\n",
    "    wU = np.abs(np.matmul(eigVecs[:, :rSel], eigVals[:rSel]))\n",
    "    return rSel, wU, eigVals[:rSel]"
   ]
  },
  {
   "cell_type": "markdown",
   "metadata": {},
   "source": [
    "### Parameters"
   ]
  },
  {
   "cell_type": "code",
   "execution_count": 58,
   "metadata": {
    "ExecuteTime": {
     "end_time": "2022-12-11T21:54:37.373853Z",
     "start_time": "2022-12-11T21:54:37.371075Z"
    }
   },
   "outputs": [],
   "source": [
    "Cs = [0.001, 0.01, 0.05, 0.1, 0.2, 0.4, 0.8, 1, 1.6, 3.2, 6.4, 12.8, 25.6]\n",
    "penalty = \"l2\"\n",
    "freq = 120"
   ]
  },
  {
   "cell_type": "code",
   "execution_count": null,
   "metadata": {},
   "outputs": [],
   "source": []
  },
  {
   "cell_type": "markdown",
   "metadata": {},
   "source": [
    "### DMD"
   ]
  },
  {
   "cell_type": "code",
   "execution_count": 59,
   "metadata": {
    "ExecuteTime": {
     "end_time": "2022-12-11T21:54:39.359204Z",
     "start_time": "2022-12-11T21:54:39.350138Z"
    }
   },
   "outputs": [],
   "source": [
    "filName = f\"Ctrl_data_NWM_DMD.pkl\"\n",
    "with open(resDir/filName, \"rb\") as f:\n",
    "    CtrlDMD = pickle.load(f)\n",
    "filName = f\"AD_data_NWM_DMD.pkl\"\n",
    "with open(resDir/filName, \"rb\") as f:\n",
    "    ADDMD = pickle.load(f)"
   ]
  },
  {
   "cell_type": "code",
   "execution_count": 60,
   "metadata": {
    "ExecuteTime": {
     "end_time": "2022-12-11T21:54:43.580961Z",
     "start_time": "2022-12-11T21:54:43.299863Z"
    }
   },
   "outputs": [],
   "source": [
    "fsAll = []\n",
    "for v in ADDMD:\n",
    "    fs = edict()\n",
    "    fs.tC = v[\"ms\"][0]\n",
    "    fs.tL = v[\"ms\"][1]\n",
    "    fs.tQ = v[\"ms\"][2]\n",
    "    fs.C = v[\"ms\"][3]\n",
    "    fs.L = v[\"ms\"][4]\n",
    "    fs.Q = v[\"ms\"][5]\n",
    "    fs.wU, fs.r, eigVal = wUFn(v[\"Amat\"])\n",
    "    fs.absEigValMean = np.abs(eigVal).mean()\n",
    "    fs.absImagEigValMaxMean = np.abs(eigVal.imag).max()\n",
    "    fsAll.append(fs)\n",
    "fsAD = fsAll"
   ]
  },
  {
   "cell_type": "code",
   "execution_count": 61,
   "metadata": {
    "ExecuteTime": {
     "end_time": "2022-12-11T21:54:44.908303Z",
     "start_time": "2022-12-11T21:54:44.663110Z"
    }
   },
   "outputs": [],
   "source": [
    "fsAll = []\n",
    "for v in CtrlDMD:\n",
    "    fs = edict()\n",
    "    fs.tC = v[\"ms\"][0]\n",
    "    fs.tL = v[\"ms\"][1]\n",
    "    fs.tQ = v[\"ms\"][2]\n",
    "    fs.C = v[\"ms\"][3]\n",
    "    fs.L = v[\"ms\"][4]\n",
    "    fs.Q = v[\"ms\"][5]\n",
    "    fs.wU, fs.r, eigVal = wUFn(v[\"Amat\"])\n",
    "    fs.absEigValMean = np.abs(eigVal).mean()\n",
    "    fs.absImagEigValMaxMean = np.abs(eigVal.imag).max()\n",
    "    fsAll.append(fs)\n",
    "fsCtrl = fsAll"
   ]
  },
  {
   "cell_type": "code",
   "execution_count": 62,
   "metadata": {
    "ExecuteTime": {
     "end_time": "2022-12-11T21:54:56.476939Z",
     "start_time": "2022-12-11T21:54:56.468279Z"
    }
   },
   "outputs": [],
   "source": [
    "fsName = [\"r\", \"tQ\", \"tL\", \"wU\"]\n",
    "#fsName = [\"r\", \"tQ\", \"tC\", \"tL\", \"wU\"]\n",
    "#fsName = [\"r\", \"absImagEigValMaxMean\", \"tQ\", \"tC\", \"tL\", \"wU\"]\n",
    "\n",
    "Ys = np.concatenate([np.ones(len(fsAD)), np.zeros(len(fsCtrl))])\n",
    "XsAD = []\n",
    "XsCtrl = []\n",
    "for fName in fsName:\n",
    "    if isinstance(fsAD[0][fName], numbers.Number):\n",
    "        cfAD = np.array([fs[fName] for fs in fsAD]).reshape(-1, 1)\n",
    "        cfCtrl = np.array([fs[fName] for fs in fsCtrl]).reshape(-1, 1)\n",
    "    else:\n",
    "        cfAD = np.array([fs[fName] for fs in fsAD])\n",
    "        cfCtrl = np.array([fs[fName] for fs in fsCtrl])\n",
    "    \n",
    "    XsAD.append(cfAD)\n",
    "    XsCtrl.append(cfCtrl)\n",
    "XsAD = np.concatenate(XsAD, axis=1)\n",
    "XsCtrl = np.concatenate(XsCtrl, axis=1)\n",
    "Xs = np.concatenate([XsAD, XsCtrl], axis=0)\n",
    "stdXs = (Xs - Xs.mean(axis=0))/Xs.std(axis=0)\n",
    "    "
   ]
  },
  {
   "cell_type": "markdown",
   "metadata": {},
   "source": [
    "#### First fit"
   ]
  },
  {
   "cell_type": "code",
   "execution_count": 63,
   "metadata": {
    "ExecuteTime": {
     "end_time": "2022-12-11T21:55:01.799979Z",
     "start_time": "2022-12-11T21:54:58.475576Z"
    }
   },
   "outputs": [
    {
     "name": "stdout",
     "output_type": "stream",
     "text": [
      "0.01\n"
     ]
    }
   ],
   "source": [
    "## fit\n",
    "gOptC1 = TuningCFn(stdXs, Ys, Cs, penalty)[\"optC\"]\n",
    "print(gOptC1)\n",
    "\n",
    "# fit the first reg\n",
    "clfFinal = LogisticRegression(penalty=penalty, random_state=0, C=gOptC1)\n",
    "clfFinal.fit(stdXs, Ys)\n",
    "coefsFinal = clfFinal.coef_.reshape(-1)"
   ]
  },
  {
   "cell_type": "code",
   "execution_count": 64,
   "metadata": {
    "ExecuteTime": {
     "end_time": "2022-12-11T21:55:14.629579Z",
     "start_time": "2022-12-11T21:55:06.721214Z"
    }
   },
   "outputs": [
    {
     "name": "stderr",
     "output_type": "stream",
     "text": [
      "100%|██████████| 10000/10000 [00:07<00:00, 1265.15it/s]\n"
     ]
    }
   ],
   "source": [
    "# boostrap for pval\n",
    "np.random.seed(0)\n",
    "repTime = 10000\n",
    "parassBoot = []\n",
    "for i in tqdm(range(repTime)):\n",
    "    bootIdx = np.random.choice(len(Ys), len(Ys))\n",
    "    YsBoot = Ys[bootIdx]\n",
    "    stdXsBoot = stdXs[bootIdx]\n",
    "    clf = LogisticRegression(penalty=penalty, random_state=0, C=gOptC1)\n",
    "    clf.fit(stdXsBoot, YsBoot)\n",
    "    parasBoot = clf.coef_.reshape(-1)\n",
    "    parassBoot.append(parasBoot)"
   ]
  },
  {
   "cell_type": "code",
   "execution_count": 65,
   "metadata": {
    "ExecuteTime": {
     "end_time": "2022-12-11T21:55:16.345714Z",
     "start_time": "2022-12-11T21:55:16.328872Z"
    }
   },
   "outputs": [
    {
     "data": {
      "text/plain": [
       "array([ 0,  9, 16, 28, 40, 42, 45, 51, 60, 62, 65])"
      ]
     },
     "execution_count": 65,
     "metadata": {},
     "output_type": "execute_result"
    }
   ],
   "source": [
    "parassBoot = np.array(parassBoot)\n",
    "#lows, ups = np.quantile(parassBoot[:, :], [0.025, 0.975], axis=0)\n",
    "lows, ups = coefsFinal-parassBoot.std(axis=0)*1.96, coefsFinal+parassBoot.std(axis=0)*1.96\n",
    "kpidxBoot = np.bitwise_or(lows >0,  ups < 0)\n",
    "select_fs_idx = kpidxBoot\n",
    "select_fs_idx.sum()\n",
    "np.where(select_fs_idx)[0]"
   ]
  },
  {
   "cell_type": "code",
   "execution_count": 66,
   "metadata": {
    "ExecuteTime": {
     "end_time": "2022-12-11T21:55:21.513945Z",
     "start_time": "2022-12-11T21:55:21.499281Z"
    }
   },
   "outputs": [
    {
     "name": "stdout",
     "output_type": "stream",
     "text": [
      "  Feature  Parameters      Lower     Upper   Pvalues\n",
      "0       r   1.307e-01  7.213e-02 1.892e-01 1.214e-05\n",
      "1      tQ  -6.277e-02 -1.316e-01 6.084e-03 7.397e-02\n",
      "2      tL  -2.239e-02 -9.658e-02 5.179e-02 5.541e-01\n",
      "\\begin{tabular}{llrrrr}\n",
      "\\toprule\n",
      "{} & Feature &  Parameters &  Lower &  Upper &  Pvalues \\\\\n",
      "\\midrule\n",
      "0 &       r &       0.131 &  0.072 &  0.189 &    0.000 \\\\\n",
      "1 &      tQ &      -0.063 & -0.132 &  0.006 &    0.074 \\\\\n",
      "2 &      tL &      -0.022 & -0.097 &  0.052 &    0.554 \\\\\n",
      "\\bottomrule\n",
      "\\end{tabular}\n",
      "\n"
     ]
    }
   ],
   "source": [
    "# Pvalue\n",
    "testStatsBoot = coefsFinal/parassBoot.std(axis=0)\n",
    "#testStatsBoot = parassBoot.mean(axis=0)/parassBoot.std(axis=0)\n",
    "normRV = norm()\n",
    "# to be consistent, I think we should use two-sided pvalue\n",
    "bootPvs = 2*(1-normRV.cdf(np.abs(testStatsBoot)))\n",
    "\n",
    "num_other_fs = len(fsName) - 1\n",
    "resDic = {\n",
    "   \"Feature\" : np.array(fsName)[:num_other_fs],\n",
    "    \"Parameters\": coefsFinal[:num_other_fs],\n",
    "    \"Lower\": lows[:num_other_fs],\n",
    "    \"Upper\": ups[:num_other_fs],\n",
    "    \"Pvalues\": bootPvs[:num_other_fs]\n",
    "}\n",
    "#pd.set_option(\"display.precision\", 3)\n",
    "pd.set_option('display.float_format',lambda x : '%.3e' % x)\n",
    "resDF = pd.DataFrame(resDic)\n",
    "print(resDF)\n",
    "print(resDF.to_latex(float_format=\"{:0.3f}\".format))"
   ]
  },
  {
   "cell_type": "code",
   "execution_count": null,
   "metadata": {},
   "outputs": [],
   "source": []
  },
  {
   "cell_type": "markdown",
   "metadata": {},
   "source": [
    "#### Second fit"
   ]
  },
  {
   "cell_type": "code",
   "execution_count": 67,
   "metadata": {
    "ExecuteTime": {
     "end_time": "2022-12-11T21:55:36.327872Z",
     "start_time": "2022-12-11T21:55:36.324794Z"
    }
   },
   "outputs": [
    {
     "data": {
      "text/plain": [
       "(176, 11)"
      ]
     },
     "execution_count": 67,
     "metadata": {},
     "output_type": "execute_result"
    }
   ],
   "source": [
    "# select fs\n",
    "stdXs_selected = stdXs[:, select_fs_idx]\n",
    "stdXs_selected.shape"
   ]
  },
  {
   "cell_type": "code",
   "execution_count": 68,
   "metadata": {
    "ExecuteTime": {
     "end_time": "2022-12-11T21:55:39.663960Z",
     "start_time": "2022-12-11T21:55:38.389730Z"
    }
   },
   "outputs": [
    {
     "name": "stdout",
     "output_type": "stream",
     "text": [
      "0.05\n"
     ]
    }
   ],
   "source": [
    "gOptC2 = TuningCFn(stdXs_selected, Ys, Cs, penalty=penalty)[\"optC\"]\n",
    "print(gOptC2)"
   ]
  },
  {
   "cell_type": "code",
   "execution_count": 69,
   "metadata": {
    "ExecuteTime": {
     "end_time": "2022-12-11T21:59:36.012539Z",
     "start_time": "2022-12-11T21:55:42.721473Z"
    }
   },
   "outputs": [
    {
     "name": "stderr",
     "output_type": "stream",
     "text": [
      "100%|██████████| 176/176 [03:42<00:00,  1.27s/it]\n",
      "100%|██████████| 10000/10000 [00:10<00:00, 950.26it/s]"
     ]
    },
    {
     "name": "stdout",
     "output_type": "stream",
     "text": [
      "Features are ['r', 'tQ', 'tL', 'wU'].\n",
      "The AUC under optimal C is 0.756.\n",
      "The mean of AUC under 1000 repetitions is 0.762 and the standard deviation is 0.074.\n",
      "----------------------------------------------------------------------------------------------------\n"
     ]
    },
    {
     "name": "stderr",
     "output_type": "stream",
     "text": [
      "\n"
     ]
    }
   ],
   "source": [
    "eProbs = []\n",
    "loo = LeaveOneOut()\n",
    "parass = []\n",
    "with tqdm(total=len(Ys)) as t:\n",
    "    for trIdxs, testIdxs in loo.split(stdXs_selected):\n",
    "        curOptC = TuningCFn(stdXs_selected[trIdxs, :], Ys[trIdxs], Cs, penalty)[\"optC\"]\n",
    "        clf = LogisticRegression(penalty=penalty, random_state=0, C=curOptC)\n",
    "        clf.fit(stdXs_selected[trIdxs, :], Ys[trIdxs])\n",
    "        paras = np.concatenate([clf.intercept_, clf.coef_.reshape(-1)])\n",
    "        parass.append(paras)\n",
    "        eProbs.append(clf.predict_proba(stdXs_selected[testIdxs, :]))\n",
    "        t.update()\n",
    "eProbs = np.array(eProbs).squeeze()\n",
    "auc = roc_auc_score(Ys, eProbs[:, 1])\n",
    "fpr, tpr, thresholds = roc_curve(Ys, eProbs[:, 1], pos_label=1)\n",
    "parass = np.array(parass)\n",
    "sfName = \"_\".join(fsName)\n",
    "with open(resDir/f\"DMD_ROCcurve_reg2_{sfName}.pkl\", \"wb\") as f:\n",
    "    resROC = {\"fpr\":fpr, \"tpr\":tpr, \"AUC\":auc}\n",
    "    pickle.dump(resROC, f)\n",
    "\n",
    "\n",
    "np.random.seed(0)\n",
    "nobs = stdXs_selected.shape[0]\n",
    "Aucss = []\n",
    "for j in tqdm(range(10000)):\n",
    "    testIdx = np.random.choice(nobs, int(nobs/5), False)\n",
    "    trainIdx = np.delete(np.arange(nobs), testIdx)\n",
    "    clf = LogisticRegression(penalty=penalty, random_state=0, C=gOptC2)\n",
    "    clf.fit(stdXs_selected[trainIdx], Ys[trainIdx])\n",
    "    curEprobs = clf.predict_proba(stdXs_selected[testIdx, :])\n",
    "    curAuc = roc_auc_score(Ys[testIdx], curEprobs[:, 1])\n",
    "    Aucss.append(curAuc)\n",
    "mAUC = np.mean(Aucss)\n",
    "stdAUC = np.std(Aucss)\n",
    "print(f\"Features are {fsName}.\")\n",
    "print(f\"The AUC under optimal C is {auc:.3f}.\")\n",
    "print(f\"The mean of AUC under 1000 repetitions is {mAUC:.3f} and the standard deviation is {stdAUC:.3f}.\")\n",
    "print(\"-\"*100)"
   ]
  },
  {
   "cell_type": "code",
   "execution_count": null,
   "metadata": {},
   "outputs": [],
   "source": []
  },
  {
   "cell_type": "markdown",
   "metadata": {},
   "source": [
    "### ND(TV)"
   ]
  },
  {
   "cell_type": "code",
   "execution_count": 70,
   "metadata": {
    "ExecuteTime": {
     "end_time": "2022-12-11T22:00:40.433664Z",
     "start_time": "2022-12-11T22:00:40.422178Z"
    }
   },
   "outputs": [],
   "source": [
    "filName = f\"Ctrl_data_NWM_TV.pkl\"\n",
    "with open(resDir/filName, \"rb\") as f:\n",
    "    CtrlTV = pickle.load(f)\n",
    "filName = f\"AD_data_NWM_TV.pkl\"\n",
    "with open(resDir/filName, \"rb\") as f:\n",
    "    ADTV = pickle.load(f)"
   ]
  },
  {
   "cell_type": "code",
   "execution_count": 71,
   "metadata": {
    "ExecuteTime": {
     "end_time": "2022-12-11T22:00:42.834284Z",
     "start_time": "2022-12-11T22:00:42.577296Z"
    }
   },
   "outputs": [],
   "source": [
    "fsAll = []\n",
    "for v in ADTV:\n",
    "    fs = edict()\n",
    "    fs.tC = v[\"ms\"][0]\n",
    "    fs.tL = v[\"ms\"][1]\n",
    "    fs.tQ = v[\"ms\"][2]\n",
    "    fs.C = v[\"ms\"][3]\n",
    "    fs.L = v[\"ms\"][4]\n",
    "    fs.Q = v[\"ms\"][5]\n",
    "    fs.wU, fs.r, eigVal = wUFn(v[\"Amat\"])\n",
    "    fs.absEigValMean = np.abs(eigVal).mean()\n",
    "    fs.absImagEigValMaxMean = np.abs(eigVal.imag).max()\n",
    "    fsAll.append(fs)\n",
    "fsAD = fsAll"
   ]
  },
  {
   "cell_type": "code",
   "execution_count": 72,
   "metadata": {
    "ExecuteTime": {
     "end_time": "2022-12-11T22:00:43.206225Z",
     "start_time": "2022-12-11T22:00:42.944824Z"
    }
   },
   "outputs": [],
   "source": [
    "fsAll = []\n",
    "for v in CtrlTV:\n",
    "    fs = edict()\n",
    "    fs.tC = v[\"ms\"][0]\n",
    "    fs.tL = v[\"ms\"][1]\n",
    "    fs.tQ = v[\"ms\"][2]\n",
    "    fs.C = v[\"ms\"][3]\n",
    "    fs.L = v[\"ms\"][4]\n",
    "    fs.Q = v[\"ms\"][5]\n",
    "    fs.wU, fs.r, eigVal = wUFn(v[\"Amat\"])\n",
    "    fs.absEigValMean = np.abs(eigVal).mean()\n",
    "    fs.absImagEigValMaxMean = np.abs(eigVal.imag).max()\n",
    "    fsAll.append(fs)\n",
    "fsCtrl = fsAll"
   ]
  },
  {
   "cell_type": "code",
   "execution_count": 73,
   "metadata": {
    "ExecuteTime": {
     "end_time": "2022-12-11T22:00:50.068567Z",
     "start_time": "2022-12-11T22:00:50.063030Z"
    }
   },
   "outputs": [],
   "source": [
    "fsName = [\"r\", \"tQ\", \"tL\", \"wU\"]\n",
    "#fsName = [\"r\", \"tQ\", \"tC\", \"tL\", \"wU\"]\n",
    "#fsName = [\"r\", \"absImagEigValMaxMean\", \"tQ\", \"tC\", \"tL\", \"wU\"]\n",
    "Ys = np.concatenate([np.ones(len(fsAD)), np.zeros(len(fsCtrl))])\n",
    "XsAD = []\n",
    "XsCtrl = []\n",
    "for fName in fsName:\n",
    "    if isinstance(fsAD[0][fName], numbers.Number):\n",
    "        cfAD = np.array([fs[fName] for fs in fsAD]).reshape(-1, 1)\n",
    "        cfCtrl = np.array([fs[fName] for fs in fsCtrl]).reshape(-1, 1)\n",
    "    else:\n",
    "        cfAD = np.array([fs[fName] for fs in fsAD])\n",
    "        cfCtrl = np.array([fs[fName] for fs in fsCtrl])\n",
    "    \n",
    "    XsAD.append(cfAD)\n",
    "    XsCtrl.append(cfCtrl)\n",
    "XsAD = np.concatenate(XsAD, axis=1)\n",
    "XsCtrl = np.concatenate(XsCtrl, axis=1)\n",
    "Xs = np.concatenate([XsAD, XsCtrl], axis=0)\n",
    "stdXs = (Xs - Xs.mean(axis=0))/Xs.std(axis=0)"
   ]
  },
  {
   "cell_type": "code",
   "execution_count": null,
   "metadata": {},
   "outputs": [],
   "source": []
  },
  {
   "cell_type": "markdown",
   "metadata": {},
   "source": [
    "#### First fit"
   ]
  },
  {
   "cell_type": "code",
   "execution_count": 74,
   "metadata": {
    "ExecuteTime": {
     "end_time": "2022-12-11T22:00:55.869090Z",
     "start_time": "2022-12-11T22:00:52.193109Z"
    }
   },
   "outputs": [
    {
     "name": "stdout",
     "output_type": "stream",
     "text": [
      "0.01\n"
     ]
    }
   ],
   "source": [
    "## fit\n",
    "gOptC1 = TuningCFn(stdXs, Ys, Cs, penalty)[\"optC\"]\n",
    "print(gOptC1)\n",
    "\n",
    "# fit the first reg\n",
    "clfFinal = LogisticRegression(penalty=penalty, random_state=0, C=gOptC1)\n",
    "clfFinal.fit(stdXs, Ys)\n",
    "coefsFinal = clfFinal.coef_.reshape(-1)"
   ]
  },
  {
   "cell_type": "code",
   "execution_count": 75,
   "metadata": {
    "ExecuteTime": {
     "end_time": "2022-12-11T22:01:05.134190Z",
     "start_time": "2022-12-11T22:00:57.016425Z"
    }
   },
   "outputs": [
    {
     "name": "stderr",
     "output_type": "stream",
     "text": [
      "100%|██████████| 10000/10000 [00:08<00:00, 1232.95it/s]\n"
     ]
    }
   ],
   "source": [
    "# boostrap for pval\n",
    "np.random.seed(0)\n",
    "repTime = 10000\n",
    "parassBoot = []\n",
    "for i in tqdm(range(repTime)):\n",
    "    bootIdx = np.random.choice(len(Ys), len(Ys))\n",
    "    YsBoot = Ys[bootIdx]\n",
    "    stdXsBoot = stdXs[bootIdx]\n",
    "    clf = LogisticRegression(penalty=penalty, random_state=0, C=gOptC1)\n",
    "    clf.fit(stdXsBoot, YsBoot)\n",
    "    parasBoot = clf.coef_.reshape(-1)\n",
    "    parassBoot.append(parasBoot)"
   ]
  },
  {
   "cell_type": "code",
   "execution_count": 76,
   "metadata": {
    "ExecuteTime": {
     "end_time": "2022-12-11T22:01:06.750370Z",
     "start_time": "2022-12-11T22:01:06.731789Z"
    }
   },
   "outputs": [
    {
     "data": {
      "text/plain": [
       "array([ 0,  4, 14, 20, 24, 34, 41, 43, 48, 52, 59, 62, 64, 69])"
      ]
     },
     "execution_count": 76,
     "metadata": {},
     "output_type": "execute_result"
    }
   ],
   "source": [
    "parassBoot = np.array(parassBoot)\n",
    "#lows, ups = np.quantile(parassBoot[:, :], [0.025, 0.975], axis=0)\n",
    "lows, ups = coefsFinal-parassBoot.std(axis=0)*1.96, coefsFinal+parassBoot.std(axis=0)*1.96\n",
    "kpidxBoot = np.bitwise_or(lows >0,  ups < 0)\n",
    "select_fs_idx = kpidxBoot\n",
    "select_fs_idx.sum()\n",
    "np.where(select_fs_idx)[0]"
   ]
  },
  {
   "cell_type": "code",
   "execution_count": 77,
   "metadata": {
    "ExecuteTime": {
     "end_time": "2022-12-11T22:01:09.576516Z",
     "start_time": "2022-12-11T22:01:09.561820Z"
    }
   },
   "outputs": [
    {
     "name": "stdout",
     "output_type": "stream",
     "text": [
      "  Feature  Parameters      Lower     Upper   Pvalues\n",
      "0       r   1.042e-01  4.169e-02 1.667e-01 1.085e-03\n",
      "1      tQ   4.010e-02 -3.457e-02 1.148e-01 2.925e-01\n",
      "2      tL  -1.106e-02 -8.687e-02 6.474e-02 7.749e-01\n",
      "\\begin{tabular}{llrrrr}\n",
      "\\toprule\n",
      "{} & Feature &  Parameters &  Lower &  Upper &  Pvalues \\\\\n",
      "\\midrule\n",
      "0 &       r &       0.104 &  0.042 &  0.167 &    0.001 \\\\\n",
      "1 &      tQ &       0.040 & -0.035 &  0.115 &    0.293 \\\\\n",
      "2 &      tL &      -0.011 & -0.087 &  0.065 &    0.775 \\\\\n",
      "\\bottomrule\n",
      "\\end{tabular}\n",
      "\n"
     ]
    }
   ],
   "source": [
    "# Pvalue\n",
    "testStatsBoot = coefsFinal/parassBoot.std(axis=0)\n",
    "#testStatsBoot = parassBoot.mean(axis=0)/parassBoot.std(axis=0)\n",
    "normRV = norm()\n",
    "# to be consistent, I think we should use two-sided pvalue\n",
    "bootPvs = 2*(1-normRV.cdf(np.abs(testStatsBoot)))\n",
    "\n",
    "num_other_fs = len(fsName) - 1\n",
    "resDic = {\n",
    "   \"Feature\" : np.array(fsName)[:num_other_fs],\n",
    "    \"Parameters\": coefsFinal[:num_other_fs],\n",
    "    \"Lower\": lows[:num_other_fs],\n",
    "    \"Upper\": ups[:num_other_fs],\n",
    "    \"Pvalues\": bootPvs[:num_other_fs]\n",
    "}\n",
    "#pd.set_option(\"display.precision\", 3)\n",
    "pd.set_option('display.float_format',lambda x : '%.3e' % x)\n",
    "resDF = pd.DataFrame(resDic)\n",
    "print(resDF)\n",
    "print(resDF.to_latex(float_format=\"{:0.3f}\".format))"
   ]
  },
  {
   "cell_type": "code",
   "execution_count": null,
   "metadata": {},
   "outputs": [],
   "source": []
  },
  {
   "cell_type": "markdown",
   "metadata": {},
   "source": [
    "#### Second fit"
   ]
  },
  {
   "cell_type": "code",
   "execution_count": 78,
   "metadata": {
    "ExecuteTime": {
     "end_time": "2022-12-11T22:01:28.379913Z",
     "start_time": "2022-12-11T22:01:28.374515Z"
    }
   },
   "outputs": [
    {
     "data": {
      "text/plain": [
       "(176, 14)"
      ]
     },
     "execution_count": 78,
     "metadata": {},
     "output_type": "execute_result"
    }
   ],
   "source": [
    "# select fs\n",
    "stdXs_selected = stdXs[:, select_fs_idx]\n",
    "stdXs_selected.shape"
   ]
  },
  {
   "cell_type": "code",
   "execution_count": 79,
   "metadata": {
    "ExecuteTime": {
     "end_time": "2022-12-11T22:01:30.945710Z",
     "start_time": "2022-12-11T22:01:29.533961Z"
    }
   },
   "outputs": [
    {
     "name": "stdout",
     "output_type": "stream",
     "text": [
      "0.1\n"
     ]
    }
   ],
   "source": [
    "gOptC2 = TuningCFn(stdXs_selected, Ys, Cs, penalty=penalty)[\"optC\"]\n",
    "print(gOptC2)"
   ]
  },
  {
   "cell_type": "code",
   "execution_count": 80,
   "metadata": {
    "ExecuteTime": {
     "end_time": "2022-12-11T22:05:50.549960Z",
     "start_time": "2022-12-11T22:01:32.170261Z"
    }
   },
   "outputs": [
    {
     "name": "stderr",
     "output_type": "stream",
     "text": [
      "100%|██████████| 176/176 [04:07<00:00,  1.41s/it]\n",
      "100%|██████████| 10000/10000 [00:11<00:00, 908.12it/s]"
     ]
    },
    {
     "name": "stdout",
     "output_type": "stream",
     "text": [
      "Features are ['r', 'tQ', 'tL', 'wU'].\n",
      "The AUC under optimal C is 0.754.\n",
      "The mean of AUC under 1000 repetitions is 0.765 and the standard deviation is 0.074.\n",
      "----------------------------------------------------------------------------------------------------\n"
     ]
    },
    {
     "name": "stderr",
     "output_type": "stream",
     "text": [
      "\n"
     ]
    }
   ],
   "source": [
    "eProbs = []\n",
    "loo = LeaveOneOut()\n",
    "parass = []\n",
    "with tqdm(total=len(Ys)) as t:\n",
    "    for trIdxs, testIdxs in loo.split(stdXs_selected):\n",
    "        curOptC = TuningCFn(stdXs_selected[trIdxs, :], Ys[trIdxs], Cs, penalty)[\"optC\"]\n",
    "        clf = LogisticRegression(penalty=penalty, random_state=0, C=curOptC)\n",
    "        clf.fit(stdXs_selected[trIdxs, :], Ys[trIdxs])\n",
    "        paras = np.concatenate([clf.intercept_, clf.coef_.reshape(-1)])\n",
    "        parass.append(paras)\n",
    "        eProbs.append(clf.predict_proba(stdXs_selected[testIdxs, :]))\n",
    "        t.update()\n",
    "eProbs = np.array(eProbs).squeeze()\n",
    "auc = roc_auc_score(Ys, eProbs[:, 1])\n",
    "fpr, tpr, thresholds = roc_curve(Ys, eProbs[:, 1], pos_label=1)\n",
    "parass = np.array(parass)\n",
    "sfName = \"_\".join(fsName)\n",
    "with open(resDir/f\"ND_ROCcurve_reg2_{sfName}.pkl\", \"wb\") as f:\n",
    "    resROC = {\"fpr\":fpr, \"tpr\":tpr, \"AUC\":auc}\n",
    "    pickle.dump(resROC, f)\n",
    "\n",
    "\n",
    "np.random.seed(0)\n",
    "nobs = stdXs_selected.shape[0]\n",
    "Aucss = []\n",
    "for j in tqdm(range(10000)):\n",
    "    testIdx = np.random.choice(nobs, int(nobs/5), False)\n",
    "    trainIdx = np.delete(np.arange(nobs), testIdx)\n",
    "    clf = LogisticRegression(penalty=penalty, random_state=0, C=gOptC2)\n",
    "    clf.fit(stdXs_selected[trainIdx], Ys[trainIdx])\n",
    "    curEprobs = clf.predict_proba(stdXs_selected[testIdx, :])\n",
    "    curAuc = roc_auc_score(Ys[testIdx], curEprobs[:, 1])\n",
    "    Aucss.append(curAuc)\n",
    "mAUC = np.mean(Aucss)\n",
    "stdAUC = np.std(Aucss)\n",
    "print(f\"Features are {fsName}.\")\n",
    "print(f\"The AUC under optimal C is {auc:.3f}.\")\n",
    "print(f\"The mean of AUC under 1000 repetitions is {mAUC:.3f} and the standard deviation is {stdAUC:.3f}.\")\n",
    "print(\"-\"*100)"
   ]
  },
  {
   "cell_type": "code",
   "execution_count": null,
   "metadata": {},
   "outputs": [],
   "source": []
  },
  {
   "cell_type": "markdown",
   "metadata": {},
   "source": [
    "### Dynamic DMD"
   ]
  },
  {
   "cell_type": "code",
   "execution_count": 125,
   "metadata": {
    "ExecuteTime": {
     "end_time": "2022-12-12T04:57:24.323471Z",
     "start_time": "2022-12-12T04:57:24.298641Z"
    }
   },
   "outputs": [],
   "source": [
    "filName = f\"AD_data_dynDMD_withgraph.pkl\"\n",
    "with open(resDir/filName, \"rb\") as f:\n",
    "    fsAD = pickle.load(f)\n",
    "    \n",
    "filName = f\"Ctrl_data_dynDMD_withgraph.pkl\"\n",
    "with open(resDir/filName, \"rb\") as f:\n",
    "    fsCtrl = pickle.load(f)\n",
    "    \n",
    "# for abs imag max eig\n",
    "filName = f\"AD_data_dynDMD.pkl\"\n",
    "with open(resDir/filName, \"rb\") as f:\n",
    "    fsAD_add = pickle.load(f)\n",
    "    \n",
    "filName = f\"Ctrl_data_dynDMD.pkl\"\n",
    "with open(resDir/filName, \"rb\") as f:\n",
    "    fsCtrl_add = pickle.load(f)"
   ]
  },
  {
   "cell_type": "code",
   "execution_count": 126,
   "metadata": {
    "ExecuteTime": {
     "end_time": "2022-12-12T04:57:25.072977Z",
     "start_time": "2022-12-12T04:57:25.070946Z"
    }
   },
   "outputs": [],
   "source": [
    "map_dict = [\"tmC\", \"tmL\", \"tQ\", \"C\", \"L\", \"Q\"]"
   ]
  },
  {
   "cell_type": "code",
   "execution_count": 127,
   "metadata": {
    "ExecuteTime": {
     "end_time": "2022-12-12T04:57:27.559324Z",
     "start_time": "2022-12-12T04:57:27.529278Z"
    }
   },
   "outputs": [],
   "source": [
    "fs_TVDMD = fsAD\n",
    "fs_TVDMD_add = fsAD_add\n",
    "\n",
    "fsAll = []\n",
    "for ix in range(len(fs_TVDMD)):\n",
    "    raw_fs = edict(fs_TVDMD[ix])\n",
    "    add_fs = edict(fs_TVDMD_add[ix])\n",
    "    fs = edict()\n",
    "    \n",
    "    fs.r = raw_fs.r\n",
    "    fs.ncpts = raw_fs.ncpts\n",
    "    fs.absEigValMean = raw_fs.absEigValMean\n",
    "    fs.wUmeanAll = raw_fs.wUmeanAll\n",
    "    fs.absImagEigValMaxMean = add_fs.absImagEigValMaxMean\n",
    "    \n",
    "    fs.var_C = np.var([metrics[map_dict.index(\"tmC\")] for metrics in raw_fs.graph_metrics])\n",
    "    fs.var_L = np.var([metrics[map_dict.index(\"tmL\")] for metrics in raw_fs.graph_metrics])\n",
    "    fs.var_Q = np.var([metrics[map_dict.index(\"tQ\")] for metrics in raw_fs.graph_metrics])\n",
    "    \n",
    "    fs.mean_C = np.mean([metrics[map_dict.index(\"tmC\")] for metrics in raw_fs.graph_metrics])\n",
    "    fs.mean_L = np.mean([metrics[map_dict.index(\"tmL\")] for metrics in raw_fs.graph_metrics])\n",
    "    fs.mean_Q = np.mean([metrics[map_dict.index(\"tQ\")] for metrics in raw_fs.graph_metrics])\n",
    "    \n",
    "    dwell = np.diff(np.concatenate([[0], raw_fs.ecpts, [7200]])/freq)\n",
    "    max_dwell_idx = np.argsort(-dwell)[0]\n",
    "    fs.top1_C = raw_fs.graph_metrics[max_dwell_idx][map_dict.index(\"tmC\")]\n",
    "    fs.top1_L = raw_fs.graph_metrics[max_dwell_idx][map_dict.index(\"tmL\")]\n",
    "    fs.top1_Q = raw_fs.graph_metrics[max_dwell_idx][map_dict.index(\"tQ\")]\n",
    "    fs.max_dwell = np.max(dwell)\n",
    "    \n",
    "    \n",
    "    fsAll.append(fs)\n",
    "    \n",
    "fsAD_trans = fsAll"
   ]
  },
  {
   "cell_type": "code",
   "execution_count": 128,
   "metadata": {
    "ExecuteTime": {
     "end_time": "2022-12-12T04:57:30.884733Z",
     "start_time": "2022-12-12T04:57:30.854622Z"
    }
   },
   "outputs": [],
   "source": [
    "fs_TVDMD = fsCtrl\n",
    "fs_TVDMD_add = fsCtrl_add\n",
    "\n",
    "fsAll = []\n",
    "for ix in range(len(fs_TVDMD)):\n",
    "    raw_fs = edict(fs_TVDMD[ix])\n",
    "    add_fs = edict(fs_TVDMD_add[ix])\n",
    "    fs = edict()\n",
    "    \n",
    "    fs.r = raw_fs.r\n",
    "    fs.ncpts = raw_fs.ncpts\n",
    "    fs.absEigValMean = raw_fs.absEigValMean\n",
    "    fs.wUmeanAll = raw_fs.wUmeanAll\n",
    "    fs.absImagEigValMaxMean = add_fs.absImagEigValMaxMean\n",
    "    \n",
    "    fs.var_C = np.var([metrics[map_dict.index(\"tmC\")] for metrics in raw_fs.graph_metrics])\n",
    "    fs.var_L = np.var([metrics[map_dict.index(\"tmL\")] for metrics in raw_fs.graph_metrics])\n",
    "    fs.var_Q = np.var([metrics[map_dict.index(\"tQ\")] for metrics in raw_fs.graph_metrics])\n",
    "    \n",
    "    fs.mean_C = np.mean([metrics[map_dict.index(\"tmC\")] for metrics in raw_fs.graph_metrics])\n",
    "    fs.mean_L = np.mean([metrics[map_dict.index(\"tmL\")] for metrics in raw_fs.graph_metrics])\n",
    "    fs.mean_Q = np.mean([metrics[map_dict.index(\"tQ\")] for metrics in raw_fs.graph_metrics])\n",
    "    \n",
    "    dwell = np.diff(np.concatenate([[0], raw_fs.ecpts, [7200]])/freq)\n",
    "    max_dwell_idx = np.argsort(-dwell)[0]\n",
    "    fs.top1_C = raw_fs.graph_metrics[max_dwell_idx][map_dict.index(\"tmC\")]\n",
    "    fs.top1_L = raw_fs.graph_metrics[max_dwell_idx][map_dict.index(\"tmL\")]\n",
    "    fs.top1_Q = raw_fs.graph_metrics[max_dwell_idx][map_dict.index(\"tQ\")]\n",
    "    fs.max_dwell = np.max(dwell)\n",
    "    \n",
    "    \n",
    "    fsAll.append(fs)\n",
    "    \n",
    "fsCtrl_trans = fsAll"
   ]
  },
  {
   "cell_type": "code",
   "execution_count": 129,
   "metadata": {
    "ExecuteTime": {
     "end_time": "2022-12-12T04:57:32.753538Z",
     "start_time": "2022-12-12T04:57:32.741666Z"
    }
   },
   "outputs": [
    {
     "name": "stdout",
     "output_type": "stream",
     "text": [
      "r_ncpts_mean_Q_mean_L_var_Q_var_L_wUmeanAll_l2\n"
     ]
    }
   ],
   "source": [
    "penalty = \"l2\"\n",
    "Ys = np.concatenate([np.ones(len(fsAD_trans)), np.zeros(len(fsCtrl_trans))])\n",
    "fsName = [\"r\", \"ncpts\",# \"absImagEigValMaxMean\", \n",
    "          \"mean_Q\", \"mean_L\", \n",
    "          \"var_Q\",  \"var_L\",  \n",
    "          \"wUmeanAll\" ]\n",
    "#fsName = [\"r\", \"ncpts\",# \"absImagEigValMaxMean\", \n",
    "#          \"top1_Q\", \"top1_C\", \"top1_L\", \n",
    "#          \"var_Q\",  \"var_C\",  \"var_L\",  \n",
    "#          \"wUmeanAll\" ]\n",
    "XsAD = []\n",
    "XsCtrl = []\n",
    "for fName in fsName:\n",
    "    if isinstance(fsAD_trans[0][fName], numbers.Number):\n",
    "        cfAD = np.array([fs[fName] for fs in fsAD_trans]).reshape(-1, 1)\n",
    "        cfCtrl = np.array([fs[fName] for fs in fsCtrl_trans]).reshape(-1, 1)\n",
    "    else:\n",
    "        cfAD = np.array([fs[fName] for fs in fsAD_trans])\n",
    "        cfCtrl = np.array([fs[fName] for fs in fsCtrl_trans])\n",
    "    \n",
    "    XsAD.append(cfAD)\n",
    "    XsCtrl.append(cfCtrl)\n",
    "XsAD = np.concatenate(XsAD, axis=1)\n",
    "XsCtrl = np.concatenate(XsCtrl, axis=1)\n",
    "Xs = np.concatenate([XsAD, XsCtrl], axis=0)\n",
    "stdXs = (Xs - Xs.mean(axis=0))/Xs.std(axis=0)\n",
    "\n",
    "# name prefix to save the results\n",
    "preFix = \"_\".join(fsName) + f\"_{penalty}\"\n",
    "print(preFix)"
   ]
  },
  {
   "cell_type": "code",
   "execution_count": 130,
   "metadata": {
    "ExecuteTime": {
     "end_time": "2022-12-12T04:57:34.428570Z",
     "start_time": "2022-12-12T04:57:34.420968Z"
    }
   },
   "outputs": [
    {
     "data": {
      "text/plain": [
       "(67.80681818181819, 52.875)"
      ]
     },
     "execution_count": 130,
     "metadata": {},
     "output_type": "execute_result"
    }
   ],
   "source": [
    "fstCtrl = [ix.ncpts for ix in fsCtrl_trans]\n",
    "fstAD = [ix.ncpts for ix in fsAD_trans]\n",
    "np.mean(fstAD), np.mean(fstCtrl)"
   ]
  },
  {
   "cell_type": "code",
   "execution_count": 131,
   "metadata": {
    "ExecuteTime": {
     "end_time": "2022-12-12T04:57:35.838010Z",
     "start_time": "2022-12-12T04:57:35.832382Z"
    }
   },
   "outputs": [
    {
     "data": {
      "text/plain": [
       "Ttest_indResult(statistic=3.3319505717639197, pvalue=0.0010533389057732372)"
      ]
     },
     "execution_count": 131,
     "metadata": {},
     "output_type": "execute_result"
    }
   ],
   "source": [
    "import scipy\n",
    "scipy.stats.ttest_ind(fstAD, fstCtrl)"
   ]
  },
  {
   "cell_type": "code",
   "execution_count": 132,
   "metadata": {
    "ExecuteTime": {
     "end_time": "2022-12-12T04:57:37.177966Z",
     "start_time": "2022-12-12T04:57:37.170925Z"
    }
   },
   "outputs": [
    {
     "name": "stdout",
     "output_type": "stream",
     "text": [
      "4.829545454545454 4.306818181818182\n"
     ]
    },
    {
     "data": {
      "text/plain": [
       "Ttest_indResult(statistic=2.8302418458676666, pvalue=0.00519874795155934)"
      ]
     },
     "execution_count": 132,
     "metadata": {},
     "output_type": "execute_result"
    }
   ],
   "source": [
    "fstCtrl = [ix.r for ix in fsCtrl_trans]\n",
    "fstAD = [ix.r for ix in fsAD_trans]\n",
    "print(np.mean(fstAD), np.mean(fstCtrl))\n",
    "scipy.stats.ttest_ind(fstAD, fstCtrl)"
   ]
  },
  {
   "cell_type": "code",
   "execution_count": 133,
   "metadata": {
    "ExecuteTime": {
     "end_time": "2022-12-12T04:57:37.939422Z",
     "start_time": "2022-12-12T04:57:37.932842Z"
    }
   },
   "outputs": [
    {
     "name": "stdout",
     "output_type": "stream",
     "text": [
      "7.761363636363637 8.908901515151515\n",
      "Ttest_indResult(statistic=-2.4028302492610254, pvalue=0.017320350636294994)\n"
     ]
    }
   ],
   "source": [
    "fstCtrl = [ix.max_dwell for ix in fsCtrl_trans]\n",
    "fstAD = [ix.max_dwell for ix in fsAD_trans]\n",
    "\n",
    "print(np.mean(fstAD), np.mean(fstCtrl))\n",
    "\n",
    "print(scipy.stats.ttest_ind(fstAD, fstCtrl))"
   ]
  },
  {
   "cell_type": "code",
   "execution_count": null,
   "metadata": {},
   "outputs": [],
   "source": []
  },
  {
   "cell_type": "markdown",
   "metadata": {},
   "source": [
    "#### Fisrt fit"
   ]
  },
  {
   "cell_type": "code",
   "execution_count": 141,
   "metadata": {
    "ExecuteTime": {
     "end_time": "2022-12-12T05:03:34.255922Z",
     "start_time": "2022-12-12T05:03:29.750187Z"
    }
   },
   "outputs": [
    {
     "name": "stdout",
     "output_type": "stream",
     "text": [
      "0.0005\n"
     ]
    }
   ],
   "source": [
    "# The opTuningC will be used throughout\n",
    "cur_Cs = [1e-20, 0.0005, 0.001, 0.01, 0.05, 0.1, 0.2, 0.4, 0.8, 1, 1.6, 3.2, 6.4, 12.8, 25.6]\n",
    "gOptC1 = TuningCFn(stdXs, Ys, cur_Cs, penalty=penalty)[\"optC\"]\n",
    "print(gOptC1)\n",
    "\n",
    "# fit the first reg\n",
    "clfFinal = LogisticRegression(penalty=penalty, random_state=0, C=gOptC1)\n",
    "clfFinal.fit(stdXs, Ys)\n",
    "coefsFinal = clfFinal.coef_.reshape(-1)"
   ]
  },
  {
   "cell_type": "code",
   "execution_count": 142,
   "metadata": {
    "ExecuteTime": {
     "end_time": "2022-12-12T05:03:44.893405Z",
     "start_time": "2022-12-12T05:03:38.229380Z"
    }
   },
   "outputs": [
    {
     "name": "stderr",
     "output_type": "stream",
     "text": [
      "100%|██████████| 10000/10000 [00:06<00:00, 1504.35it/s]\n"
     ]
    }
   ],
   "source": [
    "# boostrap for pvals\n",
    "np.random.seed(0)\n",
    "repTime = 10000\n",
    "parassBoot = []\n",
    "for i in tqdm(range(repTime)):\n",
    "    bootIdx = np.random.choice(len(Ys), len(Ys))\n",
    "    YsBoot = Ys[bootIdx]\n",
    "    stdXsBoot = stdXs[bootIdx]\n",
    "    clf = LogisticRegression(penalty=penalty, random_state=0, C=gOptC1)\n",
    "    clf.fit(stdXsBoot, YsBoot)\n",
    "    parasBoot = clf.coef_.reshape(-1)\n",
    "    parassBoot.append(parasBoot)\n",
    "    \n",
    "    \n",
    "parassBoot = np.array(parassBoot)\n",
    "#lows, ups = np.quantile(parassBoot[:, :], [0.025, 0.975], axis=0)\n",
    "lows, ups = coefsFinal-parassBoot.std(axis=0)*1.96, coefsFinal+parassBoot.std(axis=0)*1.96\n",
    "kpidxBoot = np.bitwise_or(lows >0,  ups < 0)\n",
    "kpidxIdBoot = np.where(kpidxBoot)[0]\n",
    "\n",
    "\n",
    "select_fs_idx = kpidxBoot"
   ]
  },
  {
   "cell_type": "code",
   "execution_count": 143,
   "metadata": {
    "ExecuteTime": {
     "end_time": "2022-12-12T05:03:46.643845Z",
     "start_time": "2022-12-12T05:03:46.629414Z"
    }
   },
   "outputs": [
    {
     "name": "stdout",
     "output_type": "stream",
     "text": [
      "  Feature  Parameters      Lower     Upper   Pvalues\n",
      "0       r   8.197e-03  2.486e-03 1.391e-02 4.906e-03\n",
      "1   ncpts   9.826e-03  4.177e-03 1.547e-02 6.505e-04\n",
      "2  mean_Q  -7.502e-05 -5.917e-03 5.767e-03 9.799e-01\n",
      "3  mean_L  -4.551e-03 -1.021e-02 1.108e-03 1.150e-01\n",
      "4   var_Q   8.256e-03  2.584e-03 1.393e-02 4.329e-03\n",
      "5   var_L   9.517e-03  3.869e-03 1.516e-02 9.575e-04\n",
      "\\begin{tabular}{llrrrr}\n",
      "\\toprule\n",
      "{} & Feature &  Parameters &  Lower &  Upper &  Pvalues \\\\\n",
      "\\midrule\n",
      "0 &       r &       0.008 &  0.002 &  0.014 &    0.005 \\\\\n",
      "1 &   ncpts &       0.010 &  0.004 &  0.015 &    0.001 \\\\\n",
      "2 &  mean\\_Q &      -0.000 & -0.006 &  0.006 &    0.980 \\\\\n",
      "3 &  mean\\_L &      -0.005 & -0.010 &  0.001 &    0.115 \\\\\n",
      "4 &   var\\_Q &       0.008 &  0.003 &  0.014 &    0.004 \\\\\n",
      "5 &   var\\_L &       0.010 &  0.004 &  0.015 &    0.001 \\\\\n",
      "\\bottomrule\n",
      "\\end{tabular}\n",
      "\n"
     ]
    }
   ],
   "source": [
    "# Pvalue\n",
    "testStatsBoot = coefsFinal/parassBoot.std(axis=0)\n",
    "#testStatsBoot = parassBoot.mean(axis=0)/parassBoot.std(axis=0)\n",
    "normRV = norm()\n",
    "# to be consistent, I think we should use two-sided pvalue\n",
    "bootPvs = 2*(1-normRV.cdf(np.abs(testStatsBoot)))\n",
    "\n",
    "num_other_fs = len(fsName) - 1\n",
    "resDic = {\n",
    "   \"Feature\" : np.array(fsName)[:num_other_fs],\n",
    "    \"Parameters\": coefsFinal[:num_other_fs],\n",
    "    \"Lower\": lows[:num_other_fs],\n",
    "    \"Upper\": ups[:num_other_fs],\n",
    "    \"Pvalues\": bootPvs[:num_other_fs]\n",
    "}\n",
    "#pd.set_option(\"display.precision\", 3)\n",
    "pd.set_option('display.float_format',lambda x : '%.3e' % x)\n",
    "resDF = pd.DataFrame(resDic)\n",
    "print(resDF)\n",
    "print(resDF.to_latex(float_format=\"{:0.3f}\".format))"
   ]
  },
  {
   "cell_type": "code",
   "execution_count": null,
   "metadata": {},
   "outputs": [],
   "source": []
  },
  {
   "cell_type": "markdown",
   "metadata": {},
   "source": [
    "#### Second fit"
   ]
  },
  {
   "cell_type": "code",
   "execution_count": 144,
   "metadata": {
    "ExecuteTime": {
     "end_time": "2022-12-12T05:03:50.390075Z",
     "start_time": "2022-12-12T05:03:50.384580Z"
    }
   },
   "outputs": [
    {
     "name": "stdout",
     "output_type": "stream",
     "text": [
      "[ 0  1  4  5  9 19 27 38 45 46 48 53 54 57 61 62 64]\n"
     ]
    }
   ],
   "source": [
    "# select fs\n",
    "stdXs_selected = stdXs[:, select_fs_idx]\n",
    "print(kpidxIdBoot)"
   ]
  },
  {
   "cell_type": "code",
   "execution_count": 145,
   "metadata": {
    "ExecuteTime": {
     "end_time": "2022-12-12T05:03:53.851438Z",
     "start_time": "2022-12-12T05:03:52.285803Z"
    }
   },
   "outputs": [
    {
     "name": "stdout",
     "output_type": "stream",
     "text": [
      "0.0005\n"
     ]
    }
   ],
   "source": [
    "gOptC2 = TuningCFn(stdXs_selected, Ys, cur_Cs, penalty=penalty)[\"optC\"]\n",
    "print(gOptC2)"
   ]
  },
  {
   "cell_type": "code",
   "execution_count": 146,
   "metadata": {
    "ExecuteTime": {
     "end_time": "2022-12-12T05:08:29.887190Z",
     "start_time": "2022-12-12T05:03:56.266297Z"
    }
   },
   "outputs": [
    {
     "name": "stderr",
     "output_type": "stream",
     "text": [
      "100%|██████████| 176/176 [04:33<00:00,  1.55s/it]"
     ]
    },
    {
     "name": "stdout",
     "output_type": "stream",
     "text": [
      "0.7697572314049586\n"
     ]
    },
    {
     "name": "stderr",
     "output_type": "stream",
     "text": [
      "\n"
     ]
    }
   ],
   "source": [
    "eProbs = []\n",
    "loo = LeaveOneOut()\n",
    "parass = []\n",
    "curOptCs = []\n",
    "with tqdm(total=len(Ys)) as t:\n",
    "    for trIdxs, testIdxs in loo.split(stdXs_selected):\n",
    "        curStdXs, curYs = stdXs_selected[trIdxs, :], Ys[trIdxs]\n",
    "        curOptC = TuningCFn(curStdXs, curYs, cur_Cs, penalty=penalty)[\"optC\"]\n",
    "        curOptCs.append(curOptC)\n",
    "        clf = LogisticRegression(penalty=penalty, random_state=0, C=curOptC)\n",
    "        clf.fit(curStdXs, curYs)\n",
    "        paras = clf.coef_.reshape(-1)\n",
    "        parass.append(paras)\n",
    "        eProbs.append(clf.predict_proba(stdXs_selected[testIdxs, :]))\n",
    "        \n",
    "        t.update()\n",
    "eProbs = np.array(eProbs).squeeze()\n",
    "gAuc = roc_auc_score(Ys, eProbs[:, 1])\n",
    "gFpr, gTpr, thresholds = roc_curve(Ys, eProbs[:, 1], pos_label=1)\n",
    "parass = np.array(parass)\n",
    "print(gAuc)\n",
    "\n",
    "with open(resDir/f\"TVDMD_ROCcurve_reg2_{preFix}.pkl\", \"wb\") as f:\n",
    "    resROC = {\"fpr\":gFpr, \"tpr\":gTpr, \"AUC\":gAuc, \"curOptCs\":curOptCs}\n",
    "    pickle.dump(resROC, f)"
   ]
  },
  {
   "cell_type": "code",
   "execution_count": 147,
   "metadata": {
    "ExecuteTime": {
     "end_time": "2022-12-12T05:08:40.254790Z",
     "start_time": "2022-12-12T05:08:29.888133Z"
    }
   },
   "outputs": [
    {
     "name": "stderr",
     "output_type": "stream",
     "text": [
      "100%|██████████| 10000/10000 [00:10<00:00, 965.29it/s]"
     ]
    },
    {
     "name": "stdout",
     "output_type": "stream",
     "text": [
      "The mean of AUC under 1000 repetitions is 0.774 and the standard deviation is 0.071, the 95% CI is (0.627, 0.903).\n"
     ]
    },
    {
     "name": "stderr",
     "output_type": "stream",
     "text": [
      "\n"
     ]
    }
   ],
   "source": [
    "np.random.seed(0)\n",
    "nobs = stdXs_selected.shape[0]\n",
    "Aucss = []\n",
    "for j in tqdm(range(10000)):\n",
    "    testIdx = np.random.choice(nobs, int(nobs/5), False)\n",
    "    trainIdx = np.delete(np.arange(nobs), testIdx)\n",
    "    clf = LogisticRegression(penalty=penalty, random_state=0, C=gOptC2)\n",
    "    clf.fit(stdXs_selected[trainIdx], Ys[trainIdx])\n",
    "    curEprobs = clf.predict_proba(stdXs_selected[testIdx, :])\n",
    "    curAuc = roc_auc_score(Ys[testIdx], curEprobs[:, 1])\n",
    "    Aucss.append(curAuc)\n",
    "mAUC = np.mean(Aucss)\n",
    "stdAUC = np.std(Aucss)\n",
    "print(f\"The mean of AUC under 1000 repetitions is {mAUC:.3f} and the standard deviation is {stdAUC:.3f}, \"\n",
    "      f\"the 95% CI is ({np.quantile(Aucss, 0.025):.3f}, {np.quantile(Aucss, 0.975):.3f}).\")"
   ]
  },
  {
   "cell_type": "code",
   "execution_count": null,
   "metadata": {},
   "outputs": [],
   "source": []
  }
 ],
 "metadata": {
  "kernelspec": {
   "display_name": "Python 3 (ipykernel)",
   "language": "python",
   "name": "python3"
  },
  "language_info": {
   "codemirror_mode": {
    "name": "ipython",
    "version": 3
   },
   "file_extension": ".py",
   "mimetype": "text/x-python",
   "name": "python",
   "nbconvert_exporter": "python",
   "pygments_lexer": "ipython3",
   "version": "3.9.7"
  },
  "toc": {
   "base_numbering": 1,
   "nav_menu": {},
   "number_sections": true,
   "sideBar": true,
   "skip_h1_title": false,
   "title_cell": "Table of Contents",
   "title_sidebar": "Contents",
   "toc_cell": false,
   "toc_position": {},
   "toc_section_display": true,
   "toc_window_display": true
  }
 },
 "nbformat": 4,
 "nbformat_minor": 2
}
